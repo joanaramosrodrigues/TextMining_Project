{
 "cells": [
  {
   "cell_type": "markdown",
   "id": "75269175",
   "metadata": {},
   "source": [
    "[<font color='steelblue'>1. - __EDA__</font>](#one-bullet) <br>\n",
    "    [<font color='steelblue'>1.1. - Imports</font>](#two-bullet) <br>\n",
    "    [<font color='steelblue'>1.2. - Data Exploration</font>](#three-bullet) <br>\n",
    "    [<font color='steelblue'>1.3. - Data Preprocessing</font>](#four-bullet) <br>\n",
    "    [<font color='steelblue'>1.4. - Corpus Splitting</font>](#five-bullet) <br>\n",
    "    [<font color='steelblue'>1.5. - Feature Engineering</font>](#six-bullet) <br>\n",
    "    [<font color='steelblue'>1.6. - SMOTE</font>](#seven-bullet) <br>\n",
    "\n",
    "[<font color='steelblue'>2. - __Models__</font>](#eight-bullet) <br>\n",
    "    [<font color='steelblue'>2.1. - Functions</font>](#nine-bullet) <br>\n",
    "    [<font color='steelblue'>2.2. - Models</font>](#ten-bullet) <br>\n",
    "    [<font color='steelblue'>2.3. - PreTrained Models</font>](#eleven-bullet) <br> \n",
    "    [<font color='steelblue'>2.4. - Hyperparameter tuning</font>](#twelve-bullet) <br>\n",
    "    [<font color='steelblue'>2.5. - Evaluation</font>](#thirteen-bullet) <br>"
   ]
  },
  {
   "cell_type": "markdown",
   "id": "e03bebb3",
   "metadata": {},
   "source": [
    "Group 7\n",
    "|Name | Student ID |\n",
    "|----|----|\n",
    "|Joana Rodrigues| 20240603|\n",
    "|Mara Simões| 20240326|\n",
    "|Matilde Street| 20240523|\n",
    "|Rafael Silva| 20240511|"
   ]
  },
  {
   "cell_type": "markdown",
   "id": "84672880",
   "metadata": {},
   "source": [
    "<hr>\n",
    "<a class=\"anchor\" id=\"one-bullet\"> \n",
    "<d style=\"color:white;\">\n",
    "\n",
    "# 1. EDA\n",
    "</a> \n",
    "</d>   "
   ]
  },
  {
   "cell_type": "markdown",
   "id": "099f701a",
   "metadata": {},
   "source": [
    "<a class=\"anchor\" id=\"two-bullet\"> \n",
    "<d style=\"color:white;\">\n",
    "\n",
    "## 1.1. Imports\n",
    "</a> \n",
    "</d>   "
   ]
  },
  {
   "cell_type": "code",
   "execution_count": null,
   "id": "5ead8c5e",
   "metadata": {},
   "outputs": [],
   "source": [
    "# Basic utilities for data handling, analysis, and visualization\n",
    "import re\n",
    "import string\n",
    "import numpy as np\n",
    "import pandas as pd\n",
    "import matplotlib.pyplot as plt\n",
    "import seaborn as sns\n",
    "\n",
    "# Progress bar for loops and long-running processes\n",
    "from tqdm import tqdm\n",
    "\n",
    "# Tools for creating visual representations of text\n",
    "from wordcloud import WordCloud\n",
    "\n",
    "# Core NLP tools for text cleaning, tokenization, and linguistic processing\n",
    "import nltk\n",
    "from nltk.tokenize import word_tokenize\n",
    "from nltk.corpus import stopwords\n",
    "from nltk.stem import SnowballStemmer\n",
    "from nltk.stem.wordnet import WordNetLemmatizer\n",
    "from textblob import TextBlob\n",
    "# from langdetect import detect\n",
    "# from googletrans import Translator\n",
    "\n",
    "# Machine learning tools for model training, evaluation, and vectorization\n",
    "from sklearn.model_selection import train_test_split\n",
    "from sklearn.feature_extraction.text import CountVectorizer, TfidfVectorizer\n",
    "from sklearn.metrics import accuracy_score, f1_score, classification_report, confusion_matrix, precision_score, recall_score\n",
    "from sklearn.naive_bayes import MultinomialNB, GaussianNB\n",
    "from sklearn.linear_model import LogisticRegression\n",
    "from sklearn.neighbors import KNeighborsClassifier\n",
    "from sklearn.neural_network import MLPClassifier\n",
    "from sklearn.ensemble import VotingClassifier\n",
    "\n",
    "# Word embedding and vectorization using Gensim\n",
    "from gensim.models import Word2Vec\n",
    "import gensim.downloader\n",
    "\n",
    "# Neural networks and deep learning using Keras\n",
    "from tensorflow.keras.preprocessing.text import Tokenizer\n",
    "from tensorflow.keras.preprocessing.sequence import pad_sequences\n",
    "from tensorflow.keras.models import Sequential\n",
    "from tensorflow.keras.layers import Embedding, LSTM, Dense, Dropout, Masking\n",
    "from tensorflow.keras.utils import to_categorical\n",
    "\n",
    "# Transformers and pre-trained models from Hugging Face\n",
    "import torch\n",
    "from transformers import (\n",
    "    BertTokenizer, BertModel, RobertaTokenizer, RobertaModel,\n",
    "    MarianMTModel, MarianTokenizer, AutoTokenizer, AutoModel, pipeline\n",
    ")\n",
    "import tensorflow_hub as hub\n",
    "\n",
    "# Additional libraries for advanced modeling and preprocessing\n",
    "import xgboost as xgb\n",
    "import fasttext\n",
    "from imblearn.over_sampling import SMOTE\n",
    "\n",
    "# Hyperparameter tuning \n",
    "from sklearn.model_selection import GridSearchCV"
   ]
  },
  {
   "cell_type": "code",
   "execution_count": 220,
   "id": "acf844d6",
   "metadata": {},
   "outputs": [
    {
     "name": "stdout",
     "output_type": "stream",
     "text": [
      "                                                text  label\n",
      "0  $BYND - JPMorgan reels in expectations on Beyo...      0\n",
      "1  $CCL $RCL - Nomura points to bookings weakness...      0\n",
      "2  $CX - Cemex cut at Credit Suisse, J.P. Morgan ...      0\n",
      "3  $ESS: BTIG Research cuts to Neutral https://t....      0\n",
      "4  $FNKO - Funko slides after Piper Jaffray PT cu...      0\n"
     ]
    }
   ],
   "source": [
    "# to read our data\n",
    "\n",
    "df_train = pd.read_csv('train.csv')\n",
    "df_test = pd.read_csv('test.csv')\n",
    "df_train = pd.DataFrame(data=df_train, columns=['text', 'label']).reset_index(drop=True)\n",
    "df_test = pd.DataFrame(data=df_test, columns=['text', 'label']).reset_index(drop=True)\n",
    "\n",
    "print(df_train.head())"
   ]
  },
  {
   "cell_type": "code",
   "execution_count": 221,
   "id": "005372df",
   "metadata": {},
   "outputs": [],
   "source": [
    "# copy of the df to apply in pre-trained models without data cleaning\n",
    "df_train_raw = df_train.copy()"
   ]
  },
  {
   "cell_type": "markdown",
   "id": "9440adda",
   "metadata": {},
   "source": [
    "<a class=\"anchor\" id=\"three-bullet\"> \n",
    "<d style=\"color:white;\">\n",
    "\n",
    "## 1.2. Data Exploration\n",
    "</a> \n",
    "</d>   "
   ]
  },
  {
   "cell_type": "code",
   "execution_count": 222,
   "id": "1f874aa1",
   "metadata": {},
   "outputs": [
    {
     "name": "stdout",
     "output_type": "stream",
     "text": [
      "Initial dataset contains  9543 rows and  2 columns\n"
     ]
    }
   ],
   "source": [
    "print('Initial dataset contains ', df_train.shape[0], 'rows and ', df_train.shape[1], 'columns')"
   ]
  },
  {
   "cell_type": "code",
   "execution_count": 223,
   "id": "ed3bdd26",
   "metadata": {},
   "outputs": [
    {
     "name": "stdout",
     "output_type": "stream",
     "text": [
      "The dataset contains 3 unique labels to predict.\n",
      "label\n",
      "2    6178\n",
      "1    1923\n",
      "0    1442\n",
      "Name: count, dtype: int64\n"
     ]
    },
    {
     "data": {
      "image/png": "[encoded data removed]",
      "text/plain": [
       "<Figure size 640x480 with 1 Axes>"
      ]
     },
     "metadata": {},
     "output_type": "display_data"
    }
   ],
   "source": [
    "print('The dataset contains', df_train['label'].nunique(), 'unique labels to predict.')\n",
    "print(df_train['label'].value_counts())\n",
    "\n",
    "# Visualize distribution of satisfaction\n",
    "sns.countplot(data=df_train, x='label')\n",
    "plt.title(\"Distribution of Scores\")\n",
    "plt.xlabel(\"Score\")\n",
    "plt.ylabel(\"Count\")\n",
    "plt.show()"
   ]
  },
  {
   "cell_type": "code",
   "execution_count": 224,
   "id": "133d35c3",
   "metadata": {},
   "outputs": [
    {
     "data": {
      "text/plain": [
       "count    9543.000000\n",
       "mean        1.496280\n",
       "std         0.743139\n",
       "min         0.000000\n",
       "25%         1.000000\n",
       "50%         2.000000\n",
       "75%         2.000000\n",
       "max         2.000000\n",
       "Name: label, dtype: float64"
      ]
     },
     "execution_count": 224,
     "metadata": {},
     "output_type": "execute_result"
    }
   ],
   "source": [
    "df_train['label'].describe()"
   ]
  },
  {
   "cell_type": "markdown",
   "id": "6b4cb9b9",
   "metadata": {},
   "source": [
    "To see the words that appear the most in our dataset"
   ]
  },
  {
   "cell_type": "code",
   "execution_count": 225,
   "id": "3c9da84a",
   "metadata": {},
   "outputs": [
    {
     "data": {
      "text/plain": [
       "to     2332\n",
       "the    1820\n",
       "of     1464\n",
       "-      1390\n",
       "in     1361\n",
       "on     1136\n",
       "for    1032\n",
       "a       970\n",
       "and     898\n",
       "The     663\n",
       "Name: count, dtype: int64"
      ]
     },
     "execution_count": 225,
     "metadata": {},
     "output_type": "execute_result"
    }
   ],
   "source": [
    "all_words = ' '.join(df_train['text']).split()\n",
    "freq = pd.Series(all_words).value_counts()\n",
    "freq.sort_values(ascending=False)[0:10]"
   ]
  },
  {
   "cell_type": "markdown",
   "id": "dcc61516",
   "metadata": {},
   "source": [
    "There appears the same word 'the' for example twice because it is in lower and upper case. Therefore we will have to deal with that in the preprocessing steps."
   ]
  },
  {
   "cell_type": "code",
   "execution_count": 226,
   "id": "5e3fc12b",
   "metadata": {},
   "outputs": [
    {
     "data": {
      "image/png": "[encoded data removed]",
      "text/plain": [
       "<Figure size 640x480 with 1 Axes>"
      ]
     },
     "metadata": {},
     "output_type": "display_data"
    }
   ],
   "source": [
    "x_labels = freq.index[0:10]\n",
    "values = freq[:10]\n",
    "plt.bar(x_labels, values, align='center', alpha=0.5)\n",
    "plt.xticks(x_labels)\n",
    "plt.ylabel('Frequencies')\n",
    "plt.title('Words')\n",
    "plt.xticks(rotation=90)\n",
    "plt.show()"
   ]
  },
  {
   "cell_type": "code",
   "execution_count": 227,
   "id": "76ca7b5b",
   "metadata": {},
   "outputs": [
    {
     "data": {
      "image/png": "[encoded data removed]",
      "text/plain": [
       "<Figure size 640x480 with 1 Axes>"
      ]
     },
     "metadata": {},
     "output_type": "display_data"
    }
   ],
   "source": [
    "raw_text = ' '.join(df_train['text'].fillna('')).lower()\n",
    "raw_wc = WordCloud(width=800, height=400, background_color='white').generate(raw_text)\n",
    "plt.imshow(raw_wc, interpolation='bilinear')\n",
    "plt.axis('off')\n",
    "plt.title('Word Cloud')\n",
    "plt.show()"
   ]
  },
  {
   "cell_type": "markdown",
   "id": "5f17befd",
   "metadata": {},
   "source": [
    "<a class=\"anchor\" id=\"four-bullet\"> \n",
    "<d style=\"color:white;\">\n",
    "\n",
    "## 1.3. Data Preprocessing\n",
    "</a> \n",
    "</d>   "
   ]
  },
  {
   "cell_type": "markdown",
   "id": "55cb2bea",
   "metadata": {},
   "source": [
    "### 1.3.1. Missing values"
   ]
  },
  {
   "cell_type": "code",
   "execution_count": 228,
   "id": "8fe59bbe",
   "metadata": {},
   "outputs": [
    {
     "name": "stdout",
     "output_type": "stream",
     "text": [
      "There are no missing values in the dataset\n"
     ]
    }
   ],
   "source": [
    "if df_train.isnull().sum().sum() > 0:\n",
    "    print('There are missing values in the dataset')\n",
    "else: \n",
    "    print('There are no missing values in the dataset')  "
   ]
  },
  {
   "cell_type": "markdown",
   "id": "c64b8adc",
   "metadata": {},
   "source": [
    "### 1.3.2. New Features  "
   ]
  },
  {
   "cell_type": "markdown",
   "id": "55cbd07a",
   "metadata": {},
   "source": [
    "To help us visualize the content of our dataset, we will create two new columns: one that counts the total number of characters in each tweet, and another that counts the total number of words."
   ]
  },
  {
   "cell_type": "code",
   "execution_count": 229,
   "id": "509f11c4",
   "metadata": {},
   "outputs": [],
   "source": [
    "df_train['text_length'] = df_train['text'].apply(len)\n",
    "df_train['word_count']  = df_train['text'].apply(lambda x: len(str(x).split(\" \")))"
   ]
  },
  {
   "cell_type": "code",
   "execution_count": 230,
   "id": "42821070",
   "metadata": {},
   "outputs": [
    {
     "data": {
      "image/png": "[encoded data removed]",
      "text/plain": [
       "<Figure size 640x480 with 1 Axes>"
      ]
     },
     "metadata": {},
     "output_type": "display_data"
    }
   ],
   "source": [
    "#Plot distribution of text length\n",
    "sns.histplot(df_train['word_count'], bins=15)\n",
    "plt.title(\"Distribution of Text Lengths (raw text)\")\n",
    "plt.xlabel(\"Length of text\")\n",
    "plt.ylabel(\"Frequency\")\n",
    "plt.show()"
   ]
  },
  {
   "cell_type": "code",
   "execution_count": 231,
   "id": "2221577c",
   "metadata": {},
   "outputs": [
    {
     "data": {
      "text/plain": [
       "count    9543.000000\n",
       "mean       12.168081\n",
       "std         4.651245\n",
       "min         1.000000\n",
       "25%         9.000000\n",
       "50%        11.000000\n",
       "75%        15.000000\n",
       "max        31.000000\n",
       "Name: word_count, dtype: float64"
      ]
     },
     "execution_count": 231,
     "metadata": {},
     "output_type": "execute_result"
    }
   ],
   "source": [
    "df_train.word_count.describe()"
   ]
  },
  {
   "cell_type": "markdown",
   "id": "cf36bf06",
   "metadata": {},
   "source": [
    "### 1.3.3. Outliers   "
   ]
  },
  {
   "cell_type": "code",
   "execution_count": 232,
   "id": "f6c62edd",
   "metadata": {},
   "outputs": [
    {
     "name": "stdout",
     "output_type": "stream",
     "text": [
      "We will eliminate the texts with less than 18.0 length\n",
      "label\n",
      "2    42\n",
      "1     5\n",
      "Name: count, dtype: int64\n",
      "                   text  label  text_length\n",
      "1858   SASA聚酯选用英威达PTA技术      2           16\n",
      "3090          Brent +4%      1            9\n",
      "3943                 :)      2            2\n",
      "3948            @TicToc      2            7\n",
      "3980      100% Correct!      2           13\n",
      "4358  Cya Jason Garrett      2           17\n",
      "4360               Damn      2            4\n",
      "4440                 F5      2            2\n",
      "4914         Next week.      2           10\n",
      "5006      Racing on Ice      2           13\n",
      "5484    Wholesale Trade      2           15\n",
      "5512         Woke Sachs      2           10\n",
      "5654         $penn coin      2           10\n",
      "6511     Housing Starts      2           14\n",
      "6849     Nasdaq up 0.2%      1           14\n",
      "6990  Averages end flat      2           17\n",
      "7935      $WW heavy....      1           13\n",
      "8055          Long $WMT      1            9\n",
      "8153    $APOP on scans.      2           15\n",
      "8167       $CEI Woke up      2           12\n",
      "8188     $ETSY 37 to 43      2           14\n",
      "8235  $NIO on the move.      2           17\n",
      "8276    $SPY $TNX $ULTA      2           15\n",
      "8277    $SPY $ULTA $BLL      2           15\n",
      "8290              $TSLA      2            5\n",
      "8304  $VIVE taking +10k      2           17\n",
      "8305   $VLRX volume pop      2           16\n",
      "8382               ACHV      2            4\n",
      "8387               AMRN      2            4\n",
      "8420               BWAY      2            4\n",
      "8448               DFND      2            4\n",
      "8470               DMPI      2            4\n",
      "8590               HOML      2            4\n",
      "8616               HSAC      2            4\n",
      "8618              ICYMI      2            5\n",
      "8761                LHC      2            3\n",
      "8762              LHC.U      2            5\n",
      "8763              LHC.W      2            5\n",
      "8764               LJPC      2            4\n",
      "8766               LMPX      2            4\n",
      "8767              LTRPB      2            5\n",
      "8791               PECK      2            4\n",
      "8805              SBFGP      2            5\n",
      "8866      took $PANW #4      2           13\n",
      "8867      took $PLAY #4      2           13\n",
      "8878                WBK      2            3\n",
      "9257    $WORX new highs      1           15\n"
     ]
    }
   ],
   "source": [
    "to_remove = df_train['text_length'].quantile(0.005)\n",
    "\n",
    "print('We will eliminate the texts with less than', to_remove, 'length')  #0.5 percentile\n",
    "\n",
    "#to see where the labels of the errors\n",
    "removed_labels = df_train[df_train['text_length'] < to_remove]['label'].value_counts()\n",
    "print(removed_labels)\n",
    "\n",
    "#to see what is being eliminated:\n",
    "removed = df_train.loc[df_train['text_length'] < to_remove, ['text', 'label', 'text_length']]\n",
    "print(removed)\n",
    "\n",
    "df_train = df_train[df_train['text_length'] >= to_remove]\n",
    "df_train = df_train[df_train['text_length'] >= to_remove].reset_index(drop=True)"
   ]
  },
  {
   "cell_type": "markdown",
   "id": "92366306",
   "metadata": {},
   "source": [
    "### 1.3.4. All text in english   "
   ]
  },
  {
   "cell_type": "code",
   "execution_count": 233,
   "id": "3af95a1b",
   "metadata": {},
   "outputs": [
    {
     "name": "stdout",
     "output_type": "stream",
     "text": [
      "language\n",
      "en    9420\n",
      "de      21\n",
      "es      14\n",
      "it      10\n",
      "fr       8\n",
      "nl       6\n",
      "ja       5\n",
      "pt       3\n",
      "fi       2\n",
      "hu       1\n",
      "vi       1\n",
      "sv       1\n",
      "cs       1\n",
      "zh       1\n",
      "da       1\n",
      "is       1\n",
      "Name: count, dtype: int64\n"
     ]
    }
   ],
   "source": [
    "# FOR THIS WE HAVE TO HAVE LOCALLY INSTALLED lid.176.bin\n",
    "\n",
    "model = fasttext.load_model(\"lid.176.bin\")\n",
    "\n",
    "def detect_language_fasttext(text):\n",
    "    try:\n",
    "        text_cleaned = text.replace('\\n', ' ').strip()\n",
    "        prediction = model.predict(text_cleaned)[0][0]\n",
    "        return prediction.replace(\"__label__\", \"\")\n",
    "    except:\n",
    "        return \"unknown\"\n",
    "\n",
    "df_train['language'] = df_train['text'].apply(detect_language_fasttext)\n",
    "print(df_train['language'].value_counts())\n"
   ]
  },
  {
   "cell_type": "code",
   "execution_count": 234,
   "id": "20c3240d",
   "metadata": {},
   "outputs": [
    {
     "name": "stderr",
     "output_type": "stream",
     "text": [
      "100%|██████████| 9496/9496 [00:54<00:00, 173.74it/s]\n"
     ]
    },
    {
     "data": {
      "text/html": [
       "<div>\n",
       "<style scoped>\n",
       "    .dataframe tbody tr th:only-of-type {\n",
       "        vertical-align: middle;\n",
       "    }\n",
       "\n",
       "    .dataframe tbody tr th {\n",
       "        vertical-align: top;\n",
       "    }\n",
       "\n",
       "    .dataframe thead th {\n",
       "        text-align: right;\n",
       "    }\n",
       "</style>\n",
       "<table border=\"1\" class=\"dataframe\">\n",
       "  <thead>\n",
       "    <tr style=\"text-align: right;\">\n",
       "      <th></th>\n",
       "      <th>text</th>\n",
       "      <th>label</th>\n",
       "      <th>text_length</th>\n",
       "      <th>word_count</th>\n",
       "      <th>language</th>\n",
       "      <th>translated_text</th>\n",
       "    </tr>\n",
       "  </thead>\n",
       "  <tbody>\n",
       "    <tr>\n",
       "      <th>1449</th>\n",
       "      <td>Eudonet annonce un chiffre d’affaires récurren...</td>\n",
       "      <td>2</td>\n",
       "      <td>82</td>\n",
       "      <td>13</td>\n",
       "      <td>fr</td>\n",
       "      <td>Eudonet announces a 32% increase in recurring ...</td>\n",
       "    </tr>\n",
       "    <tr>\n",
       "      <th>1837</th>\n",
       "      <td>Rio Tinto’s Giant Mongolia Project Dealt Anoth...</td>\n",
       "      <td>2</td>\n",
       "      <td>53</td>\n",
       "      <td>6</td>\n",
       "      <td>fr</td>\n",
       "      <td>Rio Tinto的s Giant Mongolia Project Dealt Anoth...</td>\n",
       "    </tr>\n",
       "    <tr>\n",
       "      <th>1961</th>\n",
       "      <td>Tinyclues accélère sa croissance en 2019</td>\n",
       "      <td>2</td>\n",
       "      <td>40</td>\n",
       "      <td>6</td>\n",
       "      <td>fr</td>\n",
       "      <td>Tinyclues accelerates its growth in 2019</td>\n",
       "    </tr>\n",
       "    <tr>\n",
       "      <th>4313</th>\n",
       "      <td>Cloudia lance la dernière génération de soluti...</td>\n",
       "      <td>2</td>\n",
       "      <td>93</td>\n",
       "      <td>13</td>\n",
       "      <td>fr</td>\n",
       "      <td>Cloudia launches the latest generation of Proc...</td>\n",
       "    </tr>\n",
       "    <tr>\n",
       "      <th>4777</th>\n",
       "      <td>Korian s’associe à Omedys pour développer le p...</td>\n",
       "      <td>2</td>\n",
       "      <td>114</td>\n",
       "      <td>16</td>\n",
       "      <td>fr</td>\n",
       "      <td>Korian is partnering with Omedys to develop th...</td>\n",
       "    </tr>\n",
       "    <tr>\n",
       "      <th>5342</th>\n",
       "      <td>Total : Résultats du quatrième trimestre et de...</td>\n",
       "      <td>2</td>\n",
       "      <td>59</td>\n",
       "      <td>10</td>\n",
       "      <td>fr</td>\n",
       "      <td>Total: Results for the fourth quarter and the ...</td>\n",
       "    </tr>\n",
       "    <tr>\n",
       "      <th>5488</th>\n",
       "      <td>Will China Declare Force Majeure If Virus Situ...</td>\n",
       "      <td>2</td>\n",
       "      <td>60</td>\n",
       "      <td>9</td>\n",
       "      <td>fr</td>\n",
       "      <td>Will China Declare Force Major If Virus Situat...</td>\n",
       "    </tr>\n",
       "    <tr>\n",
       "      <th>8672</th>\n",
       "      <td>Is Les Hôtels de Paris (EPA:HDP) Using Too Muc...</td>\n",
       "      <td>2</td>\n",
       "      <td>53</td>\n",
       "      <td>10</td>\n",
       "      <td>fr</td>\n",
       "      <td>Is Hotels in Paris (EPA:HDP) Using Too Much Debt?</td>\n",
       "    </tr>\n",
       "  </tbody>\n",
       "</table>\n",
       "</div>"
      ],
      "text/plain": [
       "                                                   text  label  text_length  \\\n",
       "1449  Eudonet annonce un chiffre d’affaires récurren...      2           82   \n",
       "1837  Rio Tinto’s Giant Mongolia Project Dealt Anoth...      2           53   \n",
       "1961           Tinyclues accélère sa croissance en 2019      2           40   \n",
       "4313  Cloudia lance la dernière génération de soluti...      2           93   \n",
       "4777  Korian s’associe à Omedys pour développer le p...      2          114   \n",
       "5342  Total : Résultats du quatrième trimestre et de...      2           59   \n",
       "5488  Will China Declare Force Majeure If Virus Situ...      2           60   \n",
       "8672  Is Les Hôtels de Paris (EPA:HDP) Using Too Muc...      2           53   \n",
       "\n",
       "      word_count language                                    translated_text  \n",
       "1449          13       fr  Eudonet announces a 32% increase in recurring ...  \n",
       "1837           6       fr  Rio Tinto的s Giant Mongolia Project Dealt Anoth...  \n",
       "1961           6       fr           Tinyclues accelerates its growth in 2019  \n",
       "4313          13       fr  Cloudia launches the latest generation of Proc...  \n",
       "4777          16       fr  Korian is partnering with Omedys to develop th...  \n",
       "5342          10       fr  Total: Results for the fourth quarter and the ...  \n",
       "5488           9       fr  Will China Declare Force Major If Virus Situat...  \n",
       "8672          10       fr  Is Hotels in Paris (EPA:HDP) Using Too Much Debt?  "
      ]
     },
     "execution_count": 234,
     "metadata": {},
     "output_type": "execute_result"
    }
   ],
   "source": [
    "SUPPORTED_LANGS = ['en', 'fr', 'es', 'de', 'it', 'nl', 'ru', 'zh', 'ja', 'ar', 'fi', 'hu', 'vi', 'sv', 'cs', 'da', 'is']\n",
    "loaded_models = {}\n",
    "\n",
    "def load_translation_model(src_lang):\n",
    "    model_name = f'Helsinki-NLP/opus-mt-{src_lang}-en'\n",
    "    if model_name not in loaded_models:\n",
    "        tokenizer = MarianTokenizer.from_pretrained(model_name)\n",
    "        model = MarianMTModel.from_pretrained(model_name)\n",
    "        loaded_models[model_name] = (tokenizer, model)\n",
    "    return loaded_models[model_name]\n",
    "\n",
    "def translate_text(text, src_lang):\n",
    "    if src_lang == 'en' or src_lang not in SUPPORTED_LANGS:\n",
    "        return text  \n",
    "    try:\n",
    "        tokenizer, model = load_translation_model(src_lang)\n",
    "        batch = tokenizer([text], return_tensors=\"pt\", padding=True, truncation=True)\n",
    "        generated = model.generate(**batch)\n",
    "        translated = tokenizer.decode(generated[0], skip_special_tokens=True)\n",
    "        return translated\n",
    "    except Exception as e:\n",
    "        print(f\"Error translating ({src_lang}): {e}\")\n",
    "        return text\n",
    "\n",
    "df_train['translated_text'] = [\n",
    "    translate_text(text, lang)\n",
    "    for text, lang in tqdm(zip(df_train['text'], df_train['language']), total=len(df_train))]\n",
    "\n",
    "\n",
    "# to see it its translating well:\n",
    "df_train[df_train['language'] == 'fr']"
   ]
  },
  {
   "cell_type": "markdown",
   "id": "92f8f50a",
   "metadata": {},
   "source": [
    "### 1.3.5. Text cleaning  "
   ]
  },
  {
   "cell_type": "markdown",
   "id": "567ced9f",
   "metadata": {},
   "source": [
    "Application of a formula that will:\n",
    "1. Remove the stopwords\n",
    "2. Stemeatize & Lematize\n",
    "3. Put everything in lowercase\n",
    "3. Remove weird characters"
   ]
  },
  {
   "cell_type": "code",
   "execution_count": null,
   "id": "04e63db0",
   "metadata": {},
   "outputs": [
    {
     "name": "stdout",
     "output_type": "stream",
     "text": [
      "{'been', 'and', 'you', \"wasn't\", 'for', 'further', 'both', 'his', 'all', 'between', 'having', 'nor', \"we'll\", 'ma', 'don', 'down', \"she's\", \"haven't\", 'until', \"we've\", 'about', 'where', 'can', 'because', 'she', 'we', 'ain', 'needn', 'be', 're', 'he', 'in', 'over', 'being', 'do', 'those', 'weren', 'through', 'up', \"he's\", 'above', 'few', \"you'd\", \"it'd\", 'whom', \"she'll\", 'mightn', 'the', 'have', 'haven', 'does', 'wouldn', 'now', 'd', \"you've\", 'ours', 'when', \"it's\", 'more', 'as', 'again', 'into', 'how', 'too', \"i'm\", 'him', 'myself', \"she'd\", 'such', \"should've\", 'was', \"wouldn't\", 'themselves', 'were', 'hadn', 'isn', 'shouldn', 'had', \"you'll\", 'from', 've', \"he'd\", 'on', 'own', \"hadn't\", \"they're\", 'a', \"that'll\", \"they'd\", 'here', 'off', 'yourself', 'but', 'hasn', 'mustn', \"shan't\", 'me', 'by', \"i've\", 'has', 'itself', 'only', 'didn', 'so', 'doing', \"they'll\", \"mustn't\", 'any', 'your', 'just', 'should', 'with', \"doesn't\", 'himself', 'which', 'her', 'couldn', 'won', 'their', 'yourselves', 'very', 'before', 'shan', 'm', 'o', \"he'll\", 's', 'not', 'after', \"needn't\", 'other', 't', \"hasn't\", 'theirs', 'i', 'hers', 'who', 'our', 'is', 'no', 'doesn', 'most', 'what', \"we're\", 'at', 'against', 'while', \"i'll\", 'my', \"isn't\", 'why', \"won't\", 'am', \"i'd\", 'some', 'then', 'each', 'out', \"weren't\", 'once', \"shouldn't\", 'this', \"you're\", \"we'd\", \"aren't\", 'these', 'will', 'herself', 'wasn', 'did', \"don't\", 'are', 'or', \"couldn't\", 'if', \"mightn't\", 'of', 'same', \"it'll\", 'them', 'its', 'aren', 'ourselves', 'there', \"didn't\", 'below', 'that', 'yours', 'll', \"they've\", 'under', 'they', 'y', 'during', 'an', 'it', 'than', 'to'}\n"
     ]
    },
    {
     "name": "stderr",
     "output_type": "stream",
     "text": [
      "100%|██████████| 9496/9496 [00:00<00:00, 28646.74it/s]\n",
      "100%|██████████| 2388/2388 [00:00<00:00, 28796.91it/s]\n"
     ]
    },
    {
     "data": {
      "text/html": [
       "<div>\n",
       "<style scoped>\n",
       "    .dataframe tbody tr th:only-of-type {\n",
       "        vertical-align: middle;\n",
       "    }\n",
       "\n",
       "    .dataframe tbody tr th {\n",
       "        vertical-align: top;\n",
       "    }\n",
       "\n",
       "    .dataframe thead th {\n",
       "        text-align: right;\n",
       "    }\n",
       "</style>\n",
       "<table border=\"1\" class=\"dataframe\">\n",
       "  <thead>\n",
       "    <tr style=\"text-align: right;\">\n",
       "      <th></th>\n",
       "      <th>text</th>\n",
       "      <th>clean_text</th>\n",
       "    </tr>\n",
       "  </thead>\n",
       "  <tbody>\n",
       "    <tr>\n",
       "      <th>0</th>\n",
       "      <td>$BYND - JPMorgan reels in expectations on Beyo...</td>\n",
       "      <td>bynd jpmorgan reel expectation beyond meat</td>\n",
       "    </tr>\n",
       "    <tr>\n",
       "      <th>1</th>\n",
       "      <td>$CCL $RCL - Nomura points to bookings weakness...</td>\n",
       "      <td>ccl rcl nomura point booking weakness carnival...</td>\n",
       "    </tr>\n",
       "    <tr>\n",
       "      <th>2</th>\n",
       "      <td>$CX - Cemex cut at Credit Suisse, J.P. Morgan ...</td>\n",
       "      <td>cx cemex cut credit suisse j p morgan weak bui...</td>\n",
       "    </tr>\n",
       "    <tr>\n",
       "      <th>3</th>\n",
       "      <td>$ESS: BTIG Research cuts to Neutral https://t....</td>\n",
       "      <td>es btig research cut neutral</td>\n",
       "    </tr>\n",
       "    <tr>\n",
       "      <th>4</th>\n",
       "      <td>$FNKO - Funko slides after Piper Jaffray PT cu...</td>\n",
       "      <td>fnko funko slide piper jaffray pt cut</td>\n",
       "    </tr>\n",
       "  </tbody>\n",
       "</table>\n",
       "</div>"
      ],
      "text/plain": [
       "                                                text  \\\n",
       "0  $BYND - JPMorgan reels in expectations on Beyo...   \n",
       "1  $CCL $RCL - Nomura points to bookings weakness...   \n",
       "2  $CX - Cemex cut at Credit Suisse, J.P. Morgan ...   \n",
       "3  $ESS: BTIG Research cuts to Neutral https://t....   \n",
       "4  $FNKO - Funko slides after Piper Jaffray PT cu...   \n",
       "\n",
       "                                          clean_text  \n",
       "0         bynd jpmorgan reel expectation beyond meat  \n",
       "1  ccl rcl nomura point booking weakness carnival...  \n",
       "2  cx cemex cut credit suisse j p morgan weak bui...  \n",
       "3                       es btig research cut neutral  \n",
       "4              fnko funko slide piper jaffray pt cut  "
      ]
     },
     "execution_count": 235,
     "metadata": {},
     "output_type": "execute_result"
    }
   ],
   "source": [
    "# Set of English stopwords to filter out common, uninformative words\n",
    "stop = set(stopwords.words('english'))\n",
    "print(stop)\n",
    "\n",
    "# Snowball stemmer to reduce words to their root form\n",
    "stemmer = SnowballStemmer('english')\n",
    "\n",
    "# WordNet lemmatizer to convert words to their base or dictionary form\n",
    "lemma = WordNetLemmatizer()\n",
    "\n",
    "\n",
    "# Cleaning Function\n",
    "def clean(text_list, stopwords=True, lemmatize=True, stem=False, correct_spelling=False):\n",
    "    \"\"\"\n",
    "    Clean a list of text strings by applying lowercasing, regex filters, and optional NLP steps.\n",
    "\n",
    "    Parameters:\n",
    "    text_list (list): List of text entries (strings) to clean.\n",
    "    stopwords (bool): If True, removes English stopwords.\n",
    "    lemmatize (bool): If True, applies lemmatization to each word.\n",
    "    stem (bool): If True, applies stemming to each word (not recommended with lemmatization).\n",
    "    correct_spelling (bool): If True, applies spelling correction (slow process).\n",
    "\n",
    "    Returns:\n",
    "    list: List of cleaned text strings.\n",
    "    \"\"\"\n",
    "\n",
    "    cleaned = []\n",
    "    for text in tqdm(text_list):\n",
    "        text = text.lower()                                            # convert text to lowercase\n",
    "        text = re.sub(r\"http\\S+\", \"\", text)                            # remove links\n",
    "        text = re.sub(\"[^a-zA-Z]\", \" \", text)                          # remove numbers and non-alphabetic characters\n",
    "        text = re.sub(\"br\", \"\", text)                                  # remove occurrences of \"br\" (often from HTML tags)\n",
    "        text = re.sub(f\"[{re.escape(string.punctuation)}]\", \"\", text)  # remove extra punctuation\n",
    "        \n",
    "\n",
    "        if stopwords:\n",
    "            text = \" \".join([word for word in text.split() if word not in stop])\n",
    "\n",
    "        if correct_spelling:\n",
    "            text = str(TextBlob(text).correct())\n",
    "\n",
    "        if lemmatize:\n",
    "            text = \" \".join(lemma.lemmatize(word) for word in text.split())\n",
    "\n",
    "        if stem:\n",
    "            text = \" \".join(stemmer.stem(word) for word in text.split())\n",
    "\n",
    "        cleaned.append(text)\n",
    "\n",
    "    return cleaned\n",
    "\n",
    "# Initial cleaning: remove empty or None entries\n",
    "df_train = df_train[df_train['translated_text'].notnull()]\n",
    "df_train = df_train[df_train['translated_text'].str.strip() != \"\"]\n",
    "\n",
    "# Apply cleaning function\n",
    "df_train['clean_text'] = clean(df_train['translated_text'], stopwords=True, lemmatize=True, stem=False, correct_spelling=False)\n",
    "\n",
    "# View original and cleaned texts\n",
    "df_train[['text', 'clean_text']].head()"
   ]
  },
  {
   "cell_type": "markdown",
   "id": "122b0123",
   "metadata": {},
   "source": [
    "### 1.3.6. Removing unsual words  "
   ]
  },
  {
   "cell_type": "markdown",
   "id": "9d5a5511",
   "metadata": {},
   "source": [
    "To further reduce noise in our dataset and improve the potential performance of our models, we will remove all words that appear only once in the dataset, as these are extremely rare and likely insignificant for our problem."
   ]
  },
  {
   "cell_type": "code",
   "execution_count": 236,
   "id": "5ecbc094",
   "metadata": {},
   "outputs": [
    {
     "name": "stdout",
     "output_type": "stream",
     "text": [
      "Words that appear only once: ['aaa', 'aaham', 'aams', 'aaon', 'aav', 'aaww', 'abalone', 'abandoned', 'abandoning', 'abbott', 'abe', 'abebe', 'aben', 'abeo', 'aberdeen', 'abeviated', 'abiy', 'abn', 'abo', 'abolish', 'aborted', 'absol', 'absorb', 'absurdity', 'abu', 'abukarsh', 'abusing', 'abv', 'academic', 'acc', 'acceleron', 'acceleronpharma', 'accendowave', 'acceptance', 'accessing', 'accesswi', 'accommodate', 'accomplish', 'accomplished', 'accor', 'accordingly', 'accretive', 'accumulated', 'accumulating', 'accuracy', 'accurately', 'accusation', 'accuses', 'acea', 'acelerada', 'acelrx', 'ach', 'achieved', 'achieving', 'acknowledged', 'acknowledging', 'acme', 'acmr', 'acorncapitalinvestmentfund', 'acqu', 'acquittal', 'acrx', 'actinogen', 'actinogenmedical', 'activated', 'activates', 'activism', 'actuall', 'actuarial', 'acu', 'acui', 'acw', 'adam', 'adani', 'adapt', 'addict', 'addicted', 'adecco', 'adenatfriedman', 'adesco', 'adesto', 'adia', 'adidas', 'adjusting', 'adjustment', 'adjuvant', 'adler', 'administrative', 'admitted', 'admitting', 'admonishes', 'admp', 'adms', 'adn', 'adnt', 'ado', 'adoproperties', 'adopting', 'adrenaline', 'adrianambells', 'adss', 'adtalem', 'adtran', 'advantego', 'advertisement', 'advertiser', 'adverum', 'advic', 'advintltradeingoods', 'advise', 'advised', 'advm', 'advretailinventories', 'adx', 'adxenergy', 'aecon', 'aegis', 'aegix', 'aeis', 'aemd', 'aemetis', 'aemro', 'aep', 'aer', 'aereas', 'aerie', 'aero', 'aeromexico', 'aerosystems', 'aerovironment', 'af', 'afar', 'afb', 'affamed', 'affiliate', 'affimed', 'affirmative', 'affluent', 'affordability', 'afg', 'afi', 'afks', 'afl', 'afmd', 'afro', 'aft', 'aftershock', 'agarwal', 'agati', 'agatifund', 'agd', 'agent', 'aggregate', 'aggregating', 'aggregator', 'aggression', 'aggressively', 'agilent', 'agility', 'aging', 'agnes', 'agonist', 'agrana', 'agre', 'agressive', 'agricul', 'agrx', 'ahc', 'ahexf', 'ahmad', 'ahmed', 'ahold', 'aht', 'aif', 'aig', 'ailing', 'aimia', 'aiming', 'ainer', 'ainstorm', 'aiot', 'airb', 'airbag', 'aired', 'airplane', 'airtime', 'ajax', 'ajx', 'akam', 'akamai', 'akari', 'akbank', 'akbar', 'akebia', 'akerbp', 'akero', 'akers', 'aking', 'akre', 'aktx', 'alacer', 'alacergold', 'alamo', 'alarming', 'alayacare', 'albemarle', 'alberta', 'alberto', 'albilad', 'alcee', 'alcohol', 'alcoholic', 'alcon', 'alene', 'alerttm', 'alessandro', 'alexander', 'alexco', 'alexion', 'alexistvnews', 'alg', 'algae', 'algerian', 'algt', 'align', 'aligntechnology', 'alike', 'alim', 'alio', 'alitalia', 'alkaloid', 'alkem', 'alklk', 'allakos', 'allayed', 'allbirds', 'alleges', 'allegheny', 'allegiant', 'allen', 'allestimenti', 'alleviate', 'alliancetrust', 'allied', 'allk', 'allocation', 'allotment', 'allowance', 'allows', 'alny', 'alongside', 'alphafly', 'alphastocknews', 'alre', 'alt', 'altair', 'altcoins', 'alternate', 'alteryx', 'altg', 'altius', 'altr', 'altran', 'altrantechnologies', 'altriset', 'aluminium', 'alunig', 'alv', 'alvogen', 'alx', 'amal', 'amani', 'amanigold', 'ambani', 'ambassa', 'ambiental', 'ambu', 'amcham', 'amendment', 'amer', 'amerco', 'ameri', 'americanairlines', 'ameropa', 'amgdf', 'amgn', 'aminata', 'amipure', 'amir', 'amk', 'amlo', 'ammo', 'amore', 'amorim', 'amped', 'ample', 'amplitude', 'amputation', 'amrs', 'amset', 'amtac', 'amtrak', 'amwd', 'amyotrophic', 'amyris', 'anal', 'analytica', 'analyzes', 'analyzing', 'anchiano', 'anchored', 'anchoring', 'ancora', 'ancuf', 'andacollo', 'andaman', 'anding', 'andless', 'andreessen', 'anesthesia', 'anew', 'anexinet', 'anf', 'angeloakcap', 'anger', 'angiodynamics', 'angle', 'anglo', 'angloamerican', 'angloaustralianresourcesnl', 'ango', 'angola', 'angolan', 'angrick', 'angry', 'anheuserbuschinbev', 'anil', 'animation', 'aniston', 'anixa', 'anjkhem', 'anno', 'annouced', 'annually', 'annuity', 'ano', 'anonima', 'anonymous', 'answe', 'answered', 'ansys', 'ant', 'antarctica', 'antibiotic', 'antibody', 'anticipate', 'anticipating', 'anticipation', 'antonioguterres', 'anurag', 'anxiety', 'anybody', 'anything', 'anytime', 'anywhere', 'aoad', 'aoc', 'apa', 'apac', 'apam', 'apax', 'apellis', 'apex', 'apls', 'apologises', 'apology', 'apparently', 'appear', 'appellate', 'appian', 'applaud', 'applause', 'appreciation', 'appropria', 'appropriately', 'approving', 'approximately', 'aprn', 'aptv', 'aqua', 'arab', 'aramark', 'arbitrary', 'arbitration', 'arbor', 'arborrealtytrust', 'arbutus', 'arcad', 'arcade', 'arcadis', 'architectural', 'architecture', 'archrock', 'arconic', 'arcus', 'ard', 'ardaghsa', 'ardich', 'are', 'arex', 'argen', 'argia', 'arguably', 'argue', 'argued', 'argues', 'argus', 'argusresearch', 'ari', 'arista', 'aristocrat', 'arkansas', 'arkr', 'arkrestaurants', 'armada', 'armata', 'armed', 'armistice', 'armourenergy', 'arnau', 'arnault', 'arnold', 'aroc', 'aroma', 'arql', 'arranges', 'arrived', 'artelo', 'arteria', 'artisan', 'artl', 'artwork', 'arvn', 'asahi', 'asana', 'asb', 'asbestos', 'asbfy', 'ascendant', 'ascending', 'asean', 'ashford', 'ashok', 'ashtead', 'ashworth', 'asileira', 'asln', 'asnd', 'aspect', 'aspen', 'aspn', 'aspu', 'asrt', 'assertive', 'assess', 'associa', 'assumes', 'astana', 'aster', 'asterion', 'asterix', 'astra', 'astramicro', 'astrology', 'ate', 'athleisure', 'athlete', 'athletica', 'athletics', 'athng', 'atico', 'atkins', 'atlasarteria', 'atm', 'atmosphere', 'atos', 'atp', 'atri', 'atrion', 'atrium', 'atrocity', 'atrophy', 'att', 'attacked', 'attacking', 'atte', 'attendance', 'attending', 'attracted', 'attraction', 'attribute', 'atvi', 'atyr', 'auburndale', 'auctioned', 'audaxrenovablessa', 'audc', 'audience', 'audited', 'auditor', 'augur', 'aumn', 'auptly', 'aurelia', 'auroracannabis', 'aussie', 'austar', 'austargold', 'austral', 'australgold', 'australianmines', 'austrian', 'authoritar', 'autl', 'autoimmune', 'autoliv', 'autolus', 'automobile', 'autonation', 'autonomy', 'auz', 'avadel', 'availability', 'aval', 'avalara', 'avapritinib', 'avastin', 'avav', 'avert', 'avery', 'aves', 'avghourlyearnings', 'avisbudget', 'avitamedical', 'aviva', 'avizorex', 'avlr', 'avocado', 'avoided', 'avoids', 'avro', 'avrobio', 'avwap', 'awaits', 'awakening', 'awarding', 'awareness', 'awf', 'awkward', 'awl', 'awr', 'axcelis', 'axios', 'axis', 'axle', 'axo', 'axos', 'axovant', 'axu', 'ayx', 'azerbaijan', 'azeri', 'azo', 'azre', 'azrieli', 'aztec', 'azul', 'baa', 'babcock', 'babe', 'bac', 'backcountry', 'backe', 'backlog', 'backpacker', 'backup', 'bagger', 'bait', 'bajalia', 'balaguer', 'balanced', 'balancing', 'balfanz', 'balkan', 'balladonia', 'bamboo', 'bancorporation', 'bancroft', 'bangko', 'bangkok', 'banished', 'bankia', 'bankindonesia', 'bankofjamaica', 'bankofqueensland', 'baozun', 'bapf', 'barbados', 'barbara', 'barbell', 'bare', 'barely', 'barmaid', 'barometer', 'barra', 'barrack', 'barrage', 'barrick', 'barring', 'barrington', 'bartolacci', 'bartolo', 'baseball', 'baseline', 'basically', 'basico', 'basra', 'bass', 'bassmetals', 'baswood', 'bat', 'batch', 'bathroom', 'batrk', 'battelle', 'battling', 'baublebar', 'baxterinternational', 'bay', 'bayanpay', 'bayway', 'bbb', 'bbby', 'bbc', 'bbca', 'bbq', 'bby', 'bcb', 'bcc', 'bce', 'bch', 'bchey', 'bcli', 'bco', 'bcope', 'bcrh', 'bcrx', 'bcs', 'beam', 'bean', 'bearing', 'beau', 'beaumont', 'beautiful', 'bedroom', 'befor', 'befriend', 'bega', 'beginner', 'behave', 'behavior', 'behaviour', 'belden', 'beleaguered', 'belfort', 'belinda', 'bellevue', 'bellevuegold', 'bellring', 'bellwether', 'belo', 'belski', 'beltway', 'belushi', 'benavides', 'bench', 'benchmarking', 'bending', 'benefited', 'benfenati', 'benign', 'benitec', 'benjamin', 'bennet', 'benzene', 'beptf', 'bercow', 'berenberg', 'bergenbio', 'berger', 'berggruen', 'berkshire', 'berman', 'bern', 'berners', 'besieged', 'besties', 'betrayed', 'bette', 'beware', 'beyer', 'beyonc', 'bf', 'bgc', 'bgg', 'bgr', 'bharat', 'bhubaneswar', 'bhvn', 'bickering', 'bidder', 'bidding', 'bigfoot', 'bil', 'bilateral', 'bilaterally', 'billboard', 'billio', 'bilyn', 'bimekizumab', 'binance', 'bingo', 'bioarctic', 'biodi', 'bioepis', 'biofouling', 'biohitech', 'biolabs', 'biolidics', 'biolinerx', 'biology', 'biometric', 'bionic', 'biontech', 'biopharma', 'biopharmx', 'bioservices', 'biosimilar', 'biosyent', 'biotechnolog', 'bioteq', 'bipolar', 'bir', 'birchcliff', 'bird', 'birth', 'birthday', 'biscuit', 'bisque', 'bissau', 'bita', 'bitmex', 'bjp', 'bk', 'bkd', 'blackbox', 'blackfriday', 'blackline', 'blackrockfrontiersinvestmenttrust', 'blaming', 'blank', 'blankeaminate', 'blasted', 'blatantly', 'blatherings', 'blcm', 'bleacher', 'blended', 'blender', 'blending', 'blew', 'blind', 'bliss', 'blk', 'bllll', 'blmn', 'blockade', 'blok', 'bloodbath', 'bloom', 'bloombergtv', 'blossom', 'blower', 'blowing', 'blown', 'blph', 'blrx', 'bluelinx', 'bluemel', 'blueprint', 'bluff', 'bmtc', 'bmw', 'bngo', 'bnkxy', 'bno', 'bns', 'bntc', 'bntx', 'bny', 'boa', 'boarding', 'boardroom', 'bobbyberk', 'bod', 'bogus', 'boingo', 'boj', 'bojangles', 'bokf', 'bolder', 'bolig', 'bolivia', 'bolstering', 'bolyy', 'bombard', 'bombardier', 'bombay', 'bon', 'bonal', 'bondi', 'bone', 'bong', 'bonham', 'booked', 'booted', 'booz', 'boozy', 'bora', 'born', 'borough', 'borr', 'borrow', 'botswana', 'bottled', 'bougainville', 'bound', 'boutique', 'bouygues', 'boy', 'boyd', 'bpird', 'bpirf', 'bpmx', 'bpop', 'bps', 'bpy', 'bsn', 'bsx', 'btps', 'bu', 'buchanan', 'buckingham', 'buddhist', 'budge', 'budgeting', 'buffered', 'buffet', 'bug', 'bugatti', 'bugbee', 'buildin', 'bulgaria', 'bulimia', 'bullet', 'bulletproof', 'bullion', 'bullshit', 'bullying', 'bumper', 'bumpy', 'bunge', 'buoyant', 'buoyed', 'buran', 'bureaucracy', 'burglary', 'buried', 'burl', 'burned', 'burped', 'burrito', 'bushfires', 'busiest', 'busin', 'businessworld', 'busing', 'busting', 'butera', 'buttigie', 'button', 'buttressing', 'buzz', 'buzzing', 'buzzkills', 'bwa', 'bwo', 'bxc', 'bxmt', 'bydonkeys', 'byju', 'bykatherineross', 'bytedance', 'byton', 'bzun', 'caa', 'cab', 'cabo', 'cabot', 'cacc', 'cacciatore', 'cadbury', 'cade', 'cadillac', 'cadillacs', 'cafe', 'caffeine', 'cage', 'cagny', 'cagr', 'cah', 'caladrius', 'calamatta', 'calculated', 'calculation', 'caleres', 'calgon', 'californian', 'callaway', 'callon', 'calmer', 'calumet', 'calyxt', 'cambium', 'camden', 'camian', 'camidge', 'campaigning', 'campbell', 'can', 'canadianpacificrailway', 'canal', 'cancellation', 'cancom', 'candacecbure', 'candid', 'candidacy', 'candle', 'candy', 'canf', 'canfor', 'canntrust', 'canon', 'capaci', 'capecon', 'capgemini', 'capitalworks', 'capturing', 'caracas', 'cardano', 'cardiff', 'cardinal', 'cardiovascular', 'cardlytics', 'career', 'careful', 'carefully', 'caretrust', 'carey', 'carige', 'carlisle', 'carlos', 'carlquintanilla', 'carmax', 'carnage', 'carpentaria', 'carpentariaresources', 'carpenter', 'carried', 'carrizo', 'carrol', 'carrols', 'carrot', 'carta', 'cartel', 'carvana', 'carve', 'cascabel', 'casey', 'cashflow', 'casposo', 'cassa', 'casting', 'castor', 'castormaritime', 'caswell', 'catalent', 'catcher', 'category', 'catering', 'cateyhill', 'cathay', 'catheter', 'caty', 'cautio', 'cawoods', 'cayman', 'cbank', 'cbb', 'cbdmd', 'cbi', 'cbli', 'cc', 'cccs', 'ccj', 'cck', 'ccoi', 'ccrc', 'cde', 'cdls', 'cdlx', 'cdmo', 'cdp', 'cdpq', 'cdw', 'cease', 'cei', 'celadon', 'celestial', 'celgene', 'cellect', 'cellulosic', 'celsius', 'celyad', 'cement', 'cemex', 'cen', 'cenovus', 'centaurus', 'centennial', 'centerstate', 'centralbankofphilippines', 'centrex', 'centrotec', 'cepi', 'cerner', 'certa', 'certainly', 'certaint', 'cesee', 'cev', 'cfpzf', 'cfraresearch', 'cftc', 'cg', 'cgix', 'chaim', 'chairwoman', 'challe', 'chanc', 'chandra', 'changyou', 'channeladvisor', 'chappatta', 'character', 'characterize', 'charan', 'chargepoint', 'charging', 'charisma', 'charitab', 'charitable', 'chark', 'charlie', 'charlot', 'charm', 'charmed', 'chartered', 'chartist', 'chat', 'cheapest', 'cheat', 'cheek', 'cheered', 'cheery', 'cheetah', 'chemtrade', 'cheque', 'cherry', 'chess', 'chevrolet', 'chf', 'chgg', 'chh', 'chi', 'chiasma', 'chic', 'childers', 'chilean', 'chilly', 'chimerix', 'chimney', 'chinaagriindustries', 'chinafeihe', 'chinajishan', 'chinamengniudairy', 'chine', 'chipmakers', 'chipotle', 'chkp', 'chl', 'chma', 'chocolate', 'cholesterol', 'choose', 'chooses', 'choosing', 'chop', 'chopped', 'chosun', 'chow', 'chr', 'christened', 'christi', 'christiesinc', 'christineromans', 'christopher', 'christos', 'chromecast', 'chron', 'chs', 'chtr', 'church', 'chuscal', 'ci', 'cien', 'cigi', 'cilantro', 'cim', 'cincinnati', 'cinedigm', 'cinema', 'cinemark', 'cineplex', 'ciner', 'cinerresourceslp', 'cintas', 'circ', 'circuit', 'circumstance', 'circus', 'citadel', 'cited', 'citrus', 'citydevelopments', 'civista', 'ck', 'clamor', 'clarification', 'clarifies', 'clark', 'classi', 'clause', 'clay', 'clbk', 'clbs', 'cle', 'cleaner', 'cleaning', 'cleansing', 'cleanup', 'clearance', 'clearly', 'clearstructure', 'clever', 'clf', 'cli', 'clinch', 'clinesmith', 'clinic', 'clint', 'clip', 'clipperlogistics', 'clmt', 'clog', 'closet', 'clothes', 'cloudia', 'cloudsimple', 'clpr', 'clucking', 'clueless', 'clumio', 'cluster', 'clustering', 'clv', 'clvs', 'clx', 'clydeside', 'cmbm', 'cmc', 'cmo', 'cmrx', 'cmuv', 'cnb', 'cnbcafrica', 'cnbcmoneymistakes', 'cnbctv', 'cnc', 'cnfinance', 'cnicas', 'cnmd', 'cno', 'cnob', 'cnooc', 'cnsx', 'cnty', 'cnwgy', 'cnxn', 'coaster', 'coattail', 'cob', 'cobaltblue', 'cocacolaamatil', 'coconut', 'coeur', 'coffeee', 'cogent', 'cohn', 'cohort', 'coima', 'coin', 'colb', 'colgate', 'coll', 'collaborates', 'collaborative', 'collater', 'collected', 'collectionhouse', 'collective', 'collegedegree', 'collegefedchallenge', 'colleyville', 'collier', 'colm', 'colocation', 'colonize', 'coloplast', 'columnist', 'comb', 'combating', 'combination', 'combining', 'combo', 'comedian', 'comedycentral', 'comey', 'comfort', 'comfortably', 'comgrow', 'comic', 'cominar', 'comman', 'command', 'comme', 'commends', 'commercialize', 'commerzbank', 'commits', 'commo', 'commonwealth', 'commonwealthbankofaustralia', 'commscope', 'communice', 'communism', 'communist', 'compagnie', 'companion', 'comparison', 'competed', 'complacency', 'complainin', 'complains', 'complexity', 'complicating', 'complication', 'complied', 'component', 'composition', 'compq', 'compromise', 'compute', 'computer', 'computershare', 'comstock', 'comune', 'comunicacion', 'concentrated', 'concept', 'concluded', 'concludes', 'concor', 'concrete', 'condemned', 'conditioni', 'condo', 'conducive', 'conductor', 'confe', 'conferencing', 'confidently', 'confirmation', 'confirming', 'conflicting', 'confront', 'confusion', 'congestion', 'conglomerate', 'congo', 'congratulates', 'congressional', 'congresswoman', 'conmedcorporation', 'connect', 'connectivity', 'connectone', 'conoco', 'conscious', 'consensys', 'conservation', 'considerable', 'consol', 'consolidated', 'consort', 'conspiracy', 'constance', 'constellation', 'constr', 'consulate', 'consult', 'consultant', 'consultation', 'consume', 'consumption', 'cont', 'containerboard', 'containing', 'contango', 'contemplated', 'contentious', 'contest', 'conti', 'continent', 'continenta', 'contingent', 'continual', 'continuing', 'contracted', 'contradict', 'contradictory', 'contrarian', 'convenes', 'convenience', 'convenient', 'convention', 'conventional', 'convert', 'converter', 'conveyance', 'convict', 'convicted', 'convinced', 'cooked', 'cooker', 'cooled', 'cooler', 'coolsys', 'cooperstown', 'copa', 'coped', 'copiktra', 'copy', 'corcept', 'cordy', 'corelogic', 'coresite', 'coro', 'corona', 'coronabonds', 'coronavi', 'coronaviru', 'coronavirusouteak', 'coronoavirus', 'corpbanca', 'corpgov', 'corporacion', 'corportion', 'correa', 'correctly', 'correios', 'correspondent', 'correvio', 'corroboration', 'corrugated', 'corteva', 'cortez', 'corticeira', 'coruna', 'corv', 'corvette', 'cosatu', 'cosco', 'cosmo', 'cott', 'cotton', 'counc', 'counci', 'councilor', 'counsel', 'counted', 'countering', 'counterintelligence', 'counterpart', 'counterparties', 'countr', 'coupa', 'courtney', 'cov', 'covanta', 'cove', 'coveted', 'cowboy', 'coworkers', 'cox', 'coziron', 'cozironresources', 'cpa', 'cpap', 'cpb', 'cpf', 'cpg', 'cph', 'cpi', 'cpri', 'cpt', 'cpu', 'cracked', 'craft', 'craig', 'cram', 'crane', 'crashing', 'creative', 'credicorp', 'creek', 'creep', 'creg', 'crest', 'crf', 'crh', 'crimea', 'criminal', 'crisi', 'cristiano', 'criteo', 'critica', 'crk', 'crm', 'crn', 'crombie', 'crosshairs', 'crossover', 'crosspoint', 'crosswordcybersecurity', 'crowdfunded', 'crowdmedia', 'crspr', 'crto', 'crudeoil', 'cruiser', 'crumb', 'crumpled', 'crunch', 'crus', 'crush', 'crushed', 'crushing', 'cruzsur', 'crv', 'cryoport', 'cryptocurrencies', 'cryptokitties', 'csbb', 'csfl', 'cslly', 'csrt', 'ctad', 'ctc', 'ctd', 'ctfn', 'ctk', 'ctrc', 'ctre', 'ctrn', 'ctsh', 'ctva', 'ctx', 'cub', 'cuisinart', 'culinary', 'cult', 'cultivator', 'cumberland', 'cumu', 'cuomo', 'cupping', 'cur', 'curfew', 'curiositystream', 'curise', 'currie', 'curtailment', 'cuschieri', 'cushion', 'cutera', 'cva', 'cvgi', 'cvi', 'cvna', 'cvr', 'cwbhf', 'cwt', 'cx', 'cxm', 'cyberark', 'cyberattack', 'cybercriminal', 'cyclicality', 'cyclicals', 'cyl', 'cylinder', 'cymabat', 'cymru', 'cynata', 'cynatatherapeutics', 'cyou', 'cyp', 'cypress', 'cyrusone', 'cyrx', 'cystic', 'cytomx', 'dacian', 'dailydatapoint', 'daiwa', 'dakt', 'daktronics', 'dalian', 'dalila', 'dalvin', 'dalvschi', 'damaged', 'damian', 'dampen', 'danaher', 'danariely', 'dancing', 'dangerous', 'dangerously', 'danilak', 'danny', 'danske', 'dao', 'dapper', 'daqo', 'darcy', 'darkness', 'darling', 'dartmouth', 'darzalex', 'dasan', 'dasanzhone', 'dashboard', 'database', 'datadoghq', 'dated', 'daughter', 'dauria', 'davenport', 'davey', 'davidfickling', 'dawn', 'daxi', 'daytrade', 'dbi', 'dbvt', 'dcix', 'dcm', 'dcn', 'ddo', 'deadli', 'deadlier', 'dealership', 'dealersocket', 'dealmaking', 'dealt', 'dean', 'debit', 'debtor', 'debunk', 'decay', 'deceived', 'decelerates', 'deceleration', 'decemeber', 'decent', 'decentralized', 'decide', 'decided', 'deciding', 'decimated', 'decker', 'declaration', 'declaring', 'decn', 'decom', 'decor', 'decorate', 'deed', 'deeply', 'defaulted', 'defeat', 'defeated', 'defect', 'defended', 'defer', 'defers', 'defies', 'defined', 'definitive', 'defuses', 'defy', 'degenerate', 'degeneres', 'degree', 'degres', 'dei', 'delegation', 'deletion', 'deleveraging', 'delhaize', 'delisting', 'dell', 'delmar', 'delvey', 'dem', 'demanded', 'demise', 'demographic', 'demonstra', 'demonstrating', 'demonstrator', 'denbury', 'dengue', 'denim', 'denko', 'dennison', 'denso', 'dent', 'denying', 'deo', 'departing', 'depending', 'depends', 'depicted', 'depiction', 'deploy', 'deploying', 'depositor', 'depressed', 'depriving', 'dept', 'depth', 'derail', 'derailment', 'deray', 'derby', 'derivative', 'derwent', 'desc', 'descent', 'describe', 'described', 'describing', 'desert', 'designer', 'desirable', 'despatch', 'desperate', 'dessert', 'destabilised', 'destination', 'destroyer', 'destruction', 'destructive', 'detailed', 'detains', 'detect', 'detected', 'deteriorating', 'determination', 'determined', 'determines', 'deterrence', 'dethrone', 'detroit', 'deux', 'devastate', 'devastates', 'develo', 'developmen', 'devendra', 'devoted', 'dewey', 'dex', 'dexcom', 'df', 'dffn', 'dgii', 'dhabi', 'dhf', 'dhl', 'dht', 'dicerna', 'dick', 'dictated', 'diet', 'dietmar', 'differently', 'diffusion', 'digested', 'digi', 'diligence', 'dillard', 'dilute', 'dim', 'dime', 'dimension', 'ding', 'dinsmore', 'diode', 'dionnewarwick', 'dipped', 'dir', 'directing', 'direxion', 'dirtwork', 'disability', 'disabled', 'disagree', 'disappearance', 'disappoint', 'disarm', 'disast', 'disbanded', 'disbursement', 'disclaimer', 'discloseable', 'disclosed', 'disconnecting', 'discourage', 'discreet', 'discriminatory', 'discussed', 'discussing', 'disengagement', 'disgrace', 'disgraced', 'disgruntled', 'disguised', 'dislocation', 'dismissal', 'disorderly', 'dispatch', 'display', 'displaying', 'disposed', 'disputed', 'disputing', 'disrupt', 'disrupted', 'disruptive', 'dissecting', 'dissent', 'dissident', 'dissuading', 'distance', 'distancing', 'distillate', 'distorting', 'distrib', 'distributed', 'disturbing', 'ditched', 'ditech', 'dither', 'diugarh', 'div', 'dived', 'diverge', 'diversification', 'diversified', 'diversify', 'diversity', 'divest', 'divestment', 'dixie', 'diz', 'dj', 'djt', 'dlbcl', 'dlph', 'dltr', 'dm', 'dmc', 'dmci', 'dmd', 'dmpi', 'dmx', 'dnc', 'dnr', 'dnzof', 'dnzoy', 'doc', 'docked', 'docoaktiengesellschaft', 'docomo', 'doctrine', 'documentary', 'docusign', 'dodge', 'dodged', 'dogg', 'doggone', 'dolby', 'doll', 'dolllar', 'domain', 'domicile', 'dominance', 'dominant', 'dominate', 'dominican', 'dominionenergy', 'donaldson', 'donated', 'donation', 'dongle', 'donna', 'dont', 'doo', 'doomed', 'dooo', 'doordash', 'doping', 'dori', 'dosing', 'dotard', 'dotz', 'dotznano', 'doubletgolle', 'doubter', 'doubtful', 'dougherty', 'douglas', 'dovish', 'dowjones', 'down', 'downl', 'downplaying', 'downsizing', 'downtrend', 'dpm', 'dq', 'drafted', 'dragon', 'drain', 'drained', 'drake', 'dramatically', 'drastically', 'dravet', 'drawdown', 'drawing', 'drawn', 'dreamforce', 'dreaming', 'dreamscape', 'dressed', 'dreyfus', 'drh', 'dri', 'dried', 'drift', 'drill', 'drinker', 'drip', 'driverless', 'drm', 'drna', 'dropout', 'drowning', 'drowns', 'drugmaker', 'drummartin', 'drygiving', 'drying', 'dsinghx', 'dske', 'dssi', 'dswl', 'dtea', 'dtegf', 'dtegy', 'dubbed', 'dubin', 'ducon', 'dug', 'duhigg', 'duk', 'dulls', 'dumped', 'dundee', 'dunlap', 'dunlop', 'duolingo', 'dust', 'dut', 'dutchman', 'duxton', 'duxtonoadacrefarms', 'dwayne', 'dwell', 'dwindling', 'dwvyf', 'dxp', 'dynasty', 'dynatrace', 'dynavax', 'dynex', 'dynt', 'dysfunction', 'dystopia', 'eaches', 'ead', 'eadsf', 'eadsy', 'eadwinners', 'eakdown', 'eakers', 'eakeven', 'eakingnews', 'ealing', 'earbuds', 'earlie', 'earned', 'easemytrip', 'eastwood', 'eaten', 'eatery', 'eath', 'eathe', 'eaze', 'ebf', 'ebitdar', 'ebix', 'ebo', 'ebos', 'ebtc', 'eca', 'ecl', 'ecologist', 'econ', 'econfocus', 'econo', 'econoday', 'econom', 'economi', 'economicletter', 'ecuadorian', 'edelweiss', 'edged', 'edit', 'editas', 'editorial', 'edludlow', 'edmundlee', 'ednt', 'edon', 'edreams', 'edwardjones', 'edwardslifesci', 'eel', 'eelectricmiguel', 'eff', 'efficacy', 'efficiently', 'efsc', 'eft', 'efx', 'egain', 'egan', 'egg', 'ego', 'egrx', 'egyptian', 'ehang', 'ehealth', 'ehr', 'ehth', 'eicher', 'eighteen', 'eighth', 'eisai', 'ejcacciatore', 'eked', 'ekso', 'ekta', 'elan', 'elavon', 'elba', 'elchanan', 'eld', 'elect', 'electi', 'electoral', 'electrameccanica', 'electrica', 'electrocore', 'electrolux', 'elegoo', 'elephant', 'eletroas', 'eleva', 'elf', 'elg', 'elia', 'elicited', 'elicits', 'eligible', 'elilillyand', 'eliminated', 'eliminates', 'elimination', 'eliot', 'eliott', 'elise', 'ellington', 'ellison', 'ellomay', 'elm', 'elmo', 'elmos', 'elpasostrong', 'elsa', 'eltek', 'eltp', 'ely', 'em', 'emace', 'emaced', 'emaer', 'emami', 'embark', 'embassy', 'emcor', 'emerald', 'emergence', 'emerges', 'emergingmarkets', 'emerson', 'emigre', 'eminent', 'emitte', 'emitted', 'emitting', 'emmanuel', 'emoiled', 'emojis', 'emotional', 'emphasis', 'emphatic', 'empower', 'empowerment', 'emyonic', 'enabler', 'encana', 'encision', 'encore', 'encounterresources', 'encourage', 'encouraged', 'endan', 'endangered', 'endeavor', 'endo', 'endorsed', 'endorsement', 'endorses', 'endp', 'endpoint', 'endv', 'enerbank', 'energetica', 'energia', 'enforcing', 'engaging', 'engulfs', 'enhancement', 'enlc', 'enlink', 'ennis', 'enob', 'enph', 'enphase', 'enrage', 'enrico', 'enstar', 'ensuring', 'entegris', 'entercom', 'entering', 'enteron', 'entg', 'enthusiasm', 'enticing', 'entirely', 'entravision', 'entx', 'environnement', 'enx', 'eos', 'eot', 'epc', 'epic', 'epicentre', 'epidem', 'epizyme', 'eplus', 'epra', 'epstein', 'eqn', 'eqnr', 'equally', 'equalweight', 'equiniti', 'equinox', 'equipped', 'equityresidential', 'equivalence', 'er', 'erasing', 'erdogan', 'ergot', 'erh', 'erii', 'erik', 'eritrean', 'ernest', 'eroding', 'eros', 'erupt', 'eruption', 'escalating', 'escobar', 'ese', 'esea', 'esgr', 'esi', 'eslt', 'esnt', 'espana', 'espec', 'especi', 'esper', 'esr', 'essential', 'essentially', 'essner', 'established', 'este', 'esteem', 'esther', 'estre', 'estreambiental', 'ethanol', 'ethic', 'ethical', 'ethos', 'etiquette', 'etn', 'etrn', 'etx', 'eudonet', 'euphoria', 'eurobank', 'europcar', 'euroseas', 'eurusd', 'euxtf', 'evacuate', 'evacuated', 'evaluate', 'evaluating', 'evaluation', 'evans', 'evaporates', 'evas', 'evc', 'everett', 'evergreen', 'everquote', 'evertz', 'everybody', 'everywhere', 'evh', 'evil', 'evk', 'evok', 'evolve', 'evolving', 'evonik', 'evp', 'evr', 'evrg', 'evv', 'ew', 'ewc', 'ewhispers', 'ewolffmann', 'ewtp', 'exaclty', 'exact', 'examine', 'examines', 'examining', 'exas', 'exc', 'exceeding', 'exceeds', 'excellence', 'excellent', 'exception', 'exceptional', 'excessive', 'excessively', 'exciting', 'exclude', 'exclusively', 'exclusivity', 'excuse', 'execu', 'executed', 'executes', 'executing', 'exemplar', 'exercice', 'exercising', 'exhausted', 'exhausting', 'exhaustion', 'existential', 'exiteers', 'exls', 'exlservice', 'exoskeleton', 'exotic', 'expan', 'expansive', 'expe', 'expec', 'experienced', 'expertise', 'expiration', 'expires', 'explai', 'explained', 'explainer', 'explanation', 'explanatory', 'exploit', 'explores', 'exponent', 'exported', 'expose', 'exposing', 'exposure', 'expr', 'exr', 'extensive', 'extensively', 'extent', 'external', 'extradited', 'extraor', 'extravaganza', 'extremely', 'extremist', 'exxe', 'ey', 'eyeing', 'eyeows', 'eyepoint', 'eypt', 'ezpw', 'faber', 'facbook', 'faced', 'factbox', 'fadnavis', 'faic', 'faithful', 'falconstor', 'fallen', 'falter', 'famak', 'famursa', 'fang', 'fantasia', 'fantasy', 'farewell', 'farming', 'fashioned', 'fashioning', 'fatality', 'fatally', 'fatboyslim', 'father', 'fathom', 'fatjoe', 'fatprophetspty', 'fatter', 'fauci', 'fault', 'favored', 'favoring', 'fbn', 'fbnc', 'fcel', 'fcr', 'fcstone', 'fdx', 'fe', 'fearful', 'fearing', 'feat', 'featured', 'featuring', 'feder', 'federer', 'fedfraser', 'fedreport', 'feeble', 'feedback', 'feihe', 'fein', 'fele', 'felix', 'fence', 'feng', 'fern', 'ferrato', 'festival', 'festive', 'fetch', 'feud', 'ff', 'ffarms', 'ffiv', 'ffwm', 'fgb', 'fgd', 'fher', 'fhfa', 'fia', 'fiasco', 'fidai', 'fido', 'fiera', 'fieramilano', 'fierce', 'fiesta', 'fifteen', 'fig', 'figment', 'figrx', 'figured', 'filer', 'filled', 'filling', 'fin', 'finalized', 'financi', 'finnairoyj', 'fintechs', 'fintepla', 'finvolution', 'fiosis', 'firearm', 'firework', 'firstfarms', 'firstgroup', 'firsthand', 'fisher', 'fisi', 'fitbit', 'fitful', 'fittest', 'fiverr', 'fj', 'flacqua', 'flagging', 'flame', 'flammable', 'flashbackfriday', 'flashforge', 'flattering', 'fldm', 'fledged', 'flee', 'fleetcor', 'fletcher', 'fletcherbuilding', 'flexibility', 'flightcentretravel', 'flipping', 'flir', 'flmp', 'floodgate', 'flooding', 'flop', 'flourish', 'flowserve', 'flr', 'flu', 'fluctuation', 'fluid', 'fluor', 'flushing', 'flydubai', 'flyer', 'flynas', 'fmcc', 'fmcsa', 'fmi', 'fmn', 'fmr', 'fnf', 'fnjn', 'fnma', 'fnv', 'focal', 'fold', 'foldable', 'follo', 'fomo', 'font', 'footing', 'footprint', 'forager', 'foragerfundsmanagementpty', 'foray', 'forbearance', 'forefront', 'foresee', 'foresight', 'forever', 'forexlive', 'forger', 'forgot', 'fori', 'forint', 'formally', 'forman', 'formfactor', 'fort', 'fortiguard', 'fortum', 'fortunately', 'forwa', 'foster', 'fostering', 'fou', 'fought', 'founded', 'fournierwire', 'fowl', 'foxa', 'foxandfriends', 'foxnews', 'fpga', 'fpp', 'fpt', 'fqvlf', 'fracking', 'fractional', 'fragility', 'francesca', 'frank', 'frankenstein', 'frantic', 'fraser', 'frasers', 'freak', 'freaked', 'freed', 'freedom', 'freefall', 'freehold', 'freeman', 'freighttech', 'freightwaves', 'frenchconnection', 'frequent', 'freshest', 'freshfields', 'frg', 'friedman', 'fro', 'froneman', 'frost', 'frown', 'frta', 'fru', 'fry', 'fsis', 'ftag', 'ftch', 'fti', 'ftt', 'fuad', 'fuelcell', 'fukuhara', 'fukushima', 'fulfilling', 'fume', 'fundamentally', 'funded', 'fundraiser', 'fundstrat', 'furious', 'furlough', 'fury', 'futr', 'futurefuel', 'futuristic', 'fwrlx', 'fxc', 'ga', 'gabelli', 'gadkari', 'gaea', 'gaiel', 'gaige', 'gail', 'galactic', 'galileo', 'galileomining', 'gallagher', 'galliford', 'galmed', 'galp', 'galpenergiasgps', 'gambit', 'gambler', 'gamers', 'gametp', 'gamida', 'gammacommunications', 'gan', 'gandhi', 'gang', 'gangliosidosis', 'gapped', 'gappers', 'garbade', 'garbage', 'garcarca', 'garnishgather', 'gartman', 'gartner', 'gary', 'gaselia', 'gasl', 'gasx', 'gathering', 'gatt', 'gautam', 'gaw', 'gay', 'gazp', 'gbtkf', 'gbx', 'gctay', 'gd', 'gdc', 'gddy', 'gdi', 'gdot', 'gear', 'gearing', 'gearmaker', 'geezer', 'gef', 'gem', 'genc', 'gencor', 'genderequality', 'gener', 'generac', 'generale', 'generalelection', 'generally', 'generating', 'generator', 'generous', 'genesis', 'genfit', 'gengf', 'genius', 'genmab', 'genmark', 'geno', 'genocea', 'genocide', 'genova', 'genovis', 'genpact', 'gentiloni', 'genus', 'geopolitics', 'geospace', 'geothermal', 'gerko', 'germ', 'gernot', 'gff', 'gfrd', 'gft', 'gfttechnologies', 'ggal', 'ggm', 'gho', 'ghost', 'ghosting', 'ghsi', 'gi', 'gideon', 'gignf', 'gilat', 'gillia', 'gillian', 'ginni', 'ginnie', 'girds', 'girlfriend', 'gita', 'gitagopinath', 'giteshpandya', 'github', 'giveaway', 'giver', 'gkos', 'gl', 'glabellar', 'glaring', 'glasenberg', 'glaser', 'glaukos', 'glaxosmithkline', 'glbs', 'glenmark', 'glimmer', 'glimpse', 'glioblastoma', 'glmd', 'glo', 'globalinvestments', 'globalisation', 'globalstar', 'globe', 'globenewswire', 'globetronics', 'glog', 'gloomy', 'glop', 'glu', 'glued', 'gluskin', 'glw', 'glynn', 'glyphosate', 'gmab', 'gmda', 'gn', 'gnca', 'gnft', 'gnmk', 'gnrc', 'gnss', 'gobain', 'gobble', 'gocovri', 'godaddy', 'godfrey', 'godot', 'goladan', 'goldfield', 'goldmansachs', 'goldon', 'goldonresources', 'goldrea', 'golub', 'goodyear', 'googled', 'gopichand', 'gopinath', 'gordon', 'gore', 'gorgeous', 'gossip', 'goting', 'gotta', 'gotten', 'gouverneur', 'govb', 'governance', 'govitecan', 'gowdy', 'gpe', 'gph', 'gpif', 'gpp', 'gpre', 'gpu', 'graco', 'grade', 'gradual', 'graftech', 'gralise', 'grammy', 'grandmother', 'grandparent', 'grappling', 'grayscale', 'greece', 'greene', 'greenier', 'greenland', 'greenlane', 'greenleaf', 'greensboro', 'greenwashing', 'greg', 'gregorio', 'greif', 'gretesuarez', 'gridlock', 'grilling', 'grim', 'gripping', 'gro', 'groep', 'grom', 'grossing', 'groupon', 'groworks', 'grumman', 'grupa', 'grupalotossa', 'gsat', 'gsb', 'gsh', 'gsi', 'gsit', 'gsma', 'gtes', 'gts', 'gu', 'guangfa', 'guangping', 'guangshen', 'guangzhou', 'guardian', 'guardion', 'guatemala', 'guggenheimpartnersllc', 'guided', 'gulfport', 'gush', 'gut', 'guyana', 'gwyneth', 'gxyef', 'hab', 'hagerty', 'hail', 'hain', 'haines', 'hair', 'haitong', 'hakuna', 'halalah', 'haldane', 'haldenstein', 'halftime', 'halfway', 'halifax', 'halliburton', 'hallucination', 'hallum', 'halma', 'halmy', 'halting', 'halving', 'hamborner', 'hammer', 'hammerson', 'hammond', 'hancock', 'handbag', 'handed', 'handful', 'handled', 'handling', 'handoff', 'handover', 'haneda', 'hangover', 'hangseng', 'hanretty', 'hansewerk', 'hara', 'harborone', 'harbour', 'harbourvest', 'hardest', 'hardliner', 'hardly', 'hargreaves', 'haring', 'harker', 'harley', 'harm', 'harmony', 'harsh', 'harshest', 'hart', 'harvesting', 'haskel', 'hauling', 'havent', 'havilah', 'havilahresources', 'havilland', 'hawaii', 'hawk', 'hazardous', 'hbo', 'hcm', 'hcsg', 'hdge', 'hdil', 'hdp', 'he', 'headl', 'heal', 'healthequity', 'healthier', 'heartland', 'heathrow', 'heating', 'heatmap', 'heavily', 'heavyweight', 'hebei', 'hedging', 'heed', 'heel', 'hees', 'hefh', 'heftier', 'hefty', 'heico', 'heidrick', 'heinrich', 'heist', 'hele', 'helios', 'helius', 'helix', 'heller', 'hellip', 'hellman', 'hematology', 'hembla', 'hemingway', 'hemp', 'henkel', 'henry', 'hep', 'hepcidin', 'hepion', 'herbicide', 'herceptin', 'hercules', 'herd', 'heritage', 'herm', 'hermes', 'hernandez', 'heroin', 'hersha', 'hertz', 'herz', 'hess', 'hewlett', 'hex', 'hexa', 'hexagonresources', 'hexcel', 'hexindai', 'heytammyuce', 'hf', 'hfc', 'hg', 'hibbett', 'hiding', 'hig', 'highwoods', 'highwoodsproperties', 'hiho', 'hiking', 'hillary', 'hillhouse', 'hilltop', 'hilzinger', 'hindered', 'hindu', 'hinduja', 'hinting', 'hired', 'hirings', 'hist', 'histo', 'histological', 'historical', 'historically', 'hkscan', 'hl', 'hlio', 'hlmaf', 'hlmly', 'hlt', 'hmc', 'hmlp', 'hnhaf', 'hnhpd', 'hnscc', 'ho', 'hodge', 'hoffler', 'hogan', 'holdout', 'holi', 'holid', 'holidaymaker', 'holly', 'hollysys', 'holx', 'hom', 'homb', 'homebuyer', 'homegoods', 'hometown', 'honduras', 'hone', 'honest', 'honey', 'honoree', 'hoodie', 'hoof', 'hopping', 'horgan', 'hormel', 'hormuz', 'horrific', 'horrifying', 'horse', 'hose', 'hospitalization', 'hospitalized', 'hosted', 'hotter', 'hovde', 'hovered', 'hovers', 'howard', 'however', 'hoxton', 'hq', 'hqy', 'hrb', 'hrc', 'hscei', 'hsct', 'hsdt', 'hsic', 'hsii', 'hson', 'ht', 'htg', 'htgm', 'htht', 'hu', 'hubei', 'huis', 'hulu', 'humana', 'humanistic', 'humanity', 'humbled', 'humiliation', 'humira', 'hummer', 'hummingbird', 'humor', 'hun', 'hunger', 'hungry', 'hunk', 'hunting', 'huntsman', 'hurdle', 'hurrah', 'hurricane', 'hurry', 'husband', 'hussainy', 'hutchens', 'hutchison', 'hx', 'hxl', 'hy', 'hyderabad', 'hydraulic', 'hydrovacs', 'hydroxychloroquine', 'hygiene', 'hyid', 'hyman', 'hymtf', 'hyperinflation', 'hypocrisy', 'hypothecation', 'hypothetical', 'iaa', 'iag', 'iamgold', 'ianreports', 'iata', 'ibb', 'ibc', 'ibcr', 'ibio', 'ibn', 'ibuyer', 'iceberg', 'icici', 'ick', 'icln', 'icmb', 'ictivity', 'icu', 'ida', 'idacorp', 'idaho', 'idc', 'ideaforge', 'idealistic', 'identical', 'identifies', 'identify', 'identity', 'ideology', 'idera', 'idex', 'idget', 'idgetteawebb', 'idgewater', 'idh', 'idiosyncratic', 'idjits', 'idled', 'idra', 'ie', 'iea', 'iefin', 'ierley', 'iex', 'ifood', 'ifr', 'ifscs', 'ifuse', 'iger', 'igham', 'ightens', 'ightsphere', 'igl', 'iglb', 'ignoring', 'igtv', 'iheartmedia', 'ihg', 'iia', 'iif', 'iii', 'iin', 'iip', 'iivi', 'ika', 'ilika', 'ilkka', 'ill', 'illness', 'illuminates', 'illycaffe', 'ilpt', 'imaging', 'imaginuity', 'iman', 'imbi', 'imedia', 'imerys', 'imgn', 'imho', 'immersive', 'immunodiagnostic', 'immunogen', 'impaired', 'impairment', 'impales', 'impeaching', 'impending', 'imperiled', 'imperium', 'impinj', 'implant', 'implanted', 'implementation', 'implementing', 'implicated', 'importer', 'impose', 'imposing', 'imprisoned', 'improper', 'improved', 'improvised', 'impulse', 'in', 'inaccessible', 'inavess', 'inbound', 'inched', 'includ', 'includes', 'incluindo', 'inclusion', 'inclusive', 'inclusivity', 'incompetence', 'inconclusive', 'incrementally', 'incubate', 'incubator', 'incur', 'incurable', 'inddh', 'inddhh', 'indegy', 'indemnity', 'indi', 'indiana', 'indianapolis', 'indicates', 'indication', 'indicts', 'indig', 'indigenous', 'indonesian', 'indu', 'industr', 'industrier', 'inesreports', 'inexpensive', 'infallible', 'infamous', 'infected', 'infecting', 'infects', 'inferred', 'infidelity', 'infineon', 'infinera', 'infinity', 'inflammatory', 'inflator', 'inflection', 'influence', 'infographic', 'infor', 'informal', 'informer', 'infosys', 'infratechnologies', 'ingersoll', 'ingles', 'ingr', 'ingram', 'ingredient', 'ingredion', 'inheritance', 'inhibitor', 'initiation', 'inject', 'injecting', 'injection', 'inked', 'inlay', 'innate', 'innerscope', 'innio', 'innodisk', 'innova', 'innovator', 'innovest', 'inov', 'inovalon', 'input', 'insanity', 'insatiable', 'inserting', 'insisted', 'inspires', 'instability', 'instadollars', 'institute', 'insufficient', 'insulet', 'intangible', 'integra', 'integrate', 'integration', 'inteligentes', 'intelligent', 'intensified', 'intensifying', 'intent', 'intentionally', 'interbank', 'intercontinental', 'interestrate', 'interference', 'interior', 'interlink', 'interna', 'internally', 'internals', 'interpreter', 'interrupted', 'intersects', 'interval', 'intervene', 'intervenes', 'interviewed', 'intesa', 'intiaties', 'intricon', 'intriguing', 'intruder', 'invasive', 'inversion', 'inversiones', 'invescous', 'investopedia', 'invictus', 'invisible', 'invista', 'invokana', 'invoke', 'invokes', 'involved', 'involves', 'invora', 'iot', 'iots', 'ipg', 'iph', 'ipr', 'iqiyi', 'iqos', 'ir', 'iret', 'iridium', 'irishman', 'ironroad', 'irrational', 'irrelevant', 'irsa', 'isaac', 'isee', 'isket', 'iso', 'isolation', 'isoray', 'isotope', 'isp', 'isr', 'isvlf', 'ita', 'itannia', 'itp', 'itrm', 'itub', 'itw', 'ivan', 'iveric', 'ivol', 'ivory', 'ivr', 'ivy', 'iwsy', 'ix', 'jacknicklaus', 'jacksonville', 'jacobsen', 'jaglom', 'jaguar', 'jailed', 'jain', 'jair', 'jam', 'jamal', 'jancis', 'januaryr', 'japanexchange', 'jarrod', 'jarvis', 'jarvissecurities', 'jason', 'jasoninthehouse', 'jasper', 'jaypee', 'jblu', 'jbs', 'jbsay', 'jbss', 'jbt', 'jci', 'jeffcooperlive', 'jemaswad', 'jenesys', 'jeopardize', 'jerusalem', 'jess', 'jessicaasmith', 'jesus', 'jetblueairways', 'jetstar', 'jewellery', 'jg', 'jian', 'jiatolentino', 'jiggy', 'jihadist', 'jinzhou', 'jmp', 'jnug', 'jo', 'joana', 'jochen', 'joey', 'joffe', 'johannesburg', 'johnfollain', 'johtym', 'joined', 'jointly', 'jolt', 'jonathan', 'jonfortt', 'jong', 'jos', 'jose', 'jpst', 'jraviser', 'jsc', 'jstlf', 'jstty', 'judgement', 'judgment', 'judiciary', 'judicious', 'juice', 'juiced', 'jul', 'julie', 'jumanji', 'juniata', 'juniper', 'jupai', 'jury', 'justcapital', 'justify', 'juvf', 'jwcaf', 'ka', 'kaepernick', 'kairos', 'kala', 'kale', 'kaleido', 'kamala', 'kaman', 'kana', 'kansascityfed', 'kanter', 'kanye', 'kapsch', 'kar', 'karam', 'karankawa', 'karat', 'kardashian', 'karelian', 'kareliandiamondresources', 'karina', 'karlbykarlsmith', 'karvy', 'karxt', 'kasei', 'kashkari', 'katipult', 'katrina', 'kay', 'kazia', 'kbc', 'kbca', 'kbw', 'kct', 'kdmn', 'kedaara', 'kee', 'keith', 'kelly', 'kellyanne', 'kemet', 'ken', 'kenneth', 'kenny', 'keppel', 'kerala', 'kerlink', 'kern', 'kerry', 'kesten', 'ketterer', 'keurig', 'keurigdrpepper', 'keynes', 'kezar', 'kffb', 'kgeorgieva', 'kia', 'kickoff', 'kikue', 'kil', 'kilmeade', 'kilo', 'kilogram', 'kilometer', 'kimco', 'kin', 'kincora', 'kinda', 'kinnevik', 'kinross', 'kioxia', 'kiss', 'kissed', 'kitchen', 'kite', 'kiwi', 'kla', 'klac', 'kluwer', 'klx', 'kmi', 'kmpr', 'kmx', 'knell', 'kng', 'knife', 'knorr', 'knowing', 'known', 'knr', 'knrcon', 'knsl', 'kobe', 'koch', 'kocherlakota', 'kodk', 'kofile', 'kollege', 'komileva', 'konatel', 'kone', 'konecranes', 'koninklijke', 'korlym', 'koruna', 'kosmos', 'kosovo', 'kozlowski', 'kpmg', 'kprc', 'kr', 'krc', 'kredi', 'kreditnyi', 'kremlin', 'krugman', 'kt', 'ktcax', 'ktppf', 'ku', 'kuehn', 'kumar', 'kunal', 'kurdish', 'kurland', 'kuwaiti', 'kyle', 'kymriah', 'kzia', 'kzr', 'label', 'labeled', 'lachlan', 'lacked', 'lackluster', 'lacroix', 'lacy', 'lad', 'laden', 'lagard', 'lagged', 'lagonda', 'lagos', 'lahood', 'laid', 'laix', 'lamp', 'lanai', 'landec', 'landed', 'landfill', 'landlord', 'landsbankinn', 'lane', 'lanesborough', 'languishes', 'lanier', 'lao', 'lapse', 'lapsing', 'laptop', 'larger', 'larkin', 'laser', 'lash', 'lashed', 'latam', 'latched', 'lately', 'lateral', 'lates', 'latrobemagnesium', 'lau', 'lauderdale', 'lauds', 'lauren', 'lax', 'layaway', 'laying', 'laz', 'lazard', 'lbl', 'lclcl', 'lcut', 'leaderboard', 'leafly', 'leaked', 'leaseback', 'lebanese', 'leco', 'lectra', 'leduc', 'legacy', 'legalized', 'leggett', 'legislation', 'legislative', 'lego', 'legrand', 'lehman', 'leisure', 'len', 'lenabasum', 'lendlease', 'lends', 'lengthy', 'leniency', 'lenovo', 'leon', 'leonard', 'letdown', 'leti', 'leve', 'leveling', 'lever', 'leveraging', 'lexinfintech', 'leyland', 'lfus', 'lfvn', 'lgd', 'lgi', 'lgih', 'lhx', 'li', 'lia', 'liable', 'liberation', 'libor', 'libyan', 'lic', 'licence', 'licht', 'lid', 'lied', 'lien', 'lifeblood', 'lifelike', 'lifestyle', 'lifevantage', 'ligand', 'lighter', 'lightidge', 'lightinthebox', 'liked', 'likelihood', 'likening', 'likens', 'lime', 'limelight', 'liminal', 'lin', 'linc', 'lincolnminerals', 'lingering', 'linhas', 'lining', 'linkedinecon', 'linscott', 'linux', 'lion', 'lipper', 'lipstick', 'liqt', 'liqtech', 'liquefiednaturalgas', 'liquidating', 'liquidation', 'lisa', 'listened', 'lite', 'lithiumconsolidated', 'littering', 'liveperson', 'livestream', 'liveworld', 'livexlivemedia', 'livinglens', 'livongo', 'ljganz', 'lksd', 'ller', 'llit', 'llnw', 'lloyd', 'lloydsbanking', 'lm', 'lmnl', 'lndc', 'lnk', 'lnn', 'lnvgy', 'lo', 'lobby', 'localized', 'located', 'locational', 'lock', 'loeb', 'log', 'logical', 'logicbio', 'logmein', 'logn', 'londong', 'loneliness', 'lonestar', 'longevity', 'longshortfund', 'looker', 'loon', 'loose', 'loosening', 'lori', 'lotos', 'louder', 'louisiana', 'loved', 'lovely', 'loving', 'lowbonar', 'loyalty', 'lpi', 'lrcx', 'lrtef', 'lsc', 'lsi', 'lss', 'lthm', 'lti', 'lucille', 'luck', 'lucky', 'lucro', 'ludlow', 'lufthansa', 'luicant', 'luke', 'lukewarm', 'lulled', 'luminus', 'lunch', 'lund', 'lundbergf', 'lupus', 'lure', 'luspatercept', 'luster', 'lustre', 'luv', 'lux', 'luxurious', 'lvgo', 'lvmhf', 'lyondellbasell', 'macau', 'mackinac', 'macron', 'madonna', 'madrigal', 'magal', 'magayi', 'maggi', 'magical', 'magmatic', 'magmaticresources', 'magna', 'magnificent', 'magyar', 'mahaney', 'maharashtra', 'mahefedok', 'maher', 'mahjong', 'mailing', 'mainline', 'mainly', 'mainstre', 'maintains', 'maintenance', 'maire', 'maize', 'makeover', 'makeup', 'malaise', 'malawi', 'male', 'maleehambcc', 'malibu', 'malicious', 'maloney', 'malta', 'maltatoday', 'malware', 'mandilla', 'manifest', 'manipulation', 'manitowoc', 'mankato', 'manna', 'mannatech', 'manpowergroup', 'mantech', 'mantle', 'manu', 'manual', 'manure', 'marangi', 'marc', 'marcellus', 'marcher', 'marchex', 'marco', 'margaretatwood', 'mariah', 'mariano', 'marie', 'marietta', 'marino', 'marinus', 'mario', 'markel', 'marketbeat', 'marketscrner', 'marketsite', 'markey', 'markforged', 'marking', 'marmaxx', 'marre', 'marred', 'married', 'marrone', 'marry', 'marrying', 'martini', 'martinuzzi', 'martinwolf', 'martyr', 'maryland', 'masco', 'masi', 'masseuse', 'masterbuilt', 'masterclass', 'masthercell', 'matc', 'matchup', 'mate', 'materialise', 'mathewfras', 'matinas', 'matson', 'mattel', 'mattress', 'maverick', 'maverix', 'mawr', 'maximise', 'maximum', 'maxlinear', 'maxzahn', 'mayh', 'mazda', 'mba', 'mbachelet', 'mbcn', 'mbwm', 'mbx', 'mcchf', 'mcclatchy', 'mcconnell', 'mcelligott', 'mcintyre', 'mckesson', 'mckinnon', 'mclaren', 'mclr', 'mcmahon', 'mcmoran', 'mcmurtry', 'md', 'mdbaccardax', 'mdc', 'mdca', 'mdgl', 'mdlnf', 'mdly', 'mdu', 'mdxg', 'mdxh', 'mdxhealth', 'measuring', 'mec', 'mechanism', 'mecresources', 'medal', 'medallia', 'medication', 'medicinova', 'medigene', 'mediobanca', 'mediocre', 'meditech', 'mediterranean', 'meehl', 'meeker', 'megalou', 'mei', 'meikles', 'meip', 'melanoma', 'melding', 'mellanox', 'mellon', 'meltdown', 'mema', 'meme', 'memebox', 'memo', 'memorable', 'men', 'mena', 'mend', 'mentioned', 'mentioning', 'mentoring', 'menu', 'meo', 'merchandising', 'mercury', 'mercurygeneral', 'meridian', 'meritmedical', 'meritz', 'merlo', 'merriam', 'meso', 'mesoblast', 'mess', 'messaging', 'messed', 'messina', 'meta', 'metabolic', 'metalbank', 'metastatic', 'meteoric', 'metering', 'methane', 'methanex', 'metropolitan', 'mets', 'mezzanine', 'mfa', 'mfd', 'mfg', 'mg', 'mga', 'mgddf', 'mgee', 'mgo', 'mhi', 'mic', 'michelin', 'microchip', 'microscope', 'microvast', 'microwave', 'midband', 'midroog', 'midwest', 'migraine', 'migrant', 'mikebloomberg', 'mikecaymantrades', 'milan', 'milano', 'milder', 'millichap', 'mimedx', 'mimic', 'min', 'minecraft', 'mineralization', 'minerd', 'mineworx', 'ming', 'mingtsai', 'minimize', 'ministr', 'minnesota', 'minor', 'minsheng', 'minshengeducation', 'minth', 'minus', 'miragen', 'mired', 'misconduct', 'miserable', 'mishap', 'mission', 'misstep', 'mistry', 'misusing', 'mitch', 'mitek', 'mitigate', 'mix', 'mjardin', 'mjarf', 'mk', 'mkd', 'mkt', 'mlco', 'mlm', 'mlnd', 'mlnx', 'mmp', 'mmtec', 'mmyt', 'mni', 'mnov', 'mnro', 'mnst', 'mnta', 'mobileye', 'mobility', 'mod', 'modeling', 'modernize', 'modified', 'modify', 'moet', 'mohamad', 'mohawk', 'mojo', 'molding', 'moller', 'momo', 'monc', 'moncler', 'mondelez', 'moneycontrol', 'monica', 'monk', 'monro', 'mont', 'montana', 'montreal', 'montserrat', 'moo', 'moon', 'moonshot', 'moore', 'mor', 'morneau', 'morocco', 'morphosys', 'mortar', 'mortgaging', 'moskovskiy', 'motel', 'motocorp', 'motorcycle', 'motorhome', 'motortrend', 'mou', 'mourinho', 'mouse', 'moyer', 'moynihan', 'mozilla', 'mpeto', 'mph', 'mphase', 'mpvd', 'mrk', 'mrt', 'mrvl', 'msbhf', 'msm', 'msme', 'msp', 'msvb', 'mta', 'mtb', 'mtem', 'mtg', 'mtn', 'mtv', 'muddies', 'muffin', 'muinjangue', 'mukerjea', 'mukuru', 'mulesoft', 'mulling', 'mullis', 'multifamily', 'multifun', 'multilateral', 'multinationals', 'multistrategy', 'mundane', 'munster', 'murata', 'murder', 'murdering', 'murdoch', 'murky', 'muscular', 'muslim', 'mussallem', 'mussel', 'musterait', 'mustread', 'mute', 'mux', 'mvp', 'mwc', 'mwx', 'mxl', 'mygn', 'myov', 'myovant', 'mystery', 'nabbed', 'nadavkidro', 'nadler', 'nafed', 'nahb', 'nailed', 'nailing', 'naive', 'namib', 'namibia', 'namodenonson', 'nandannilekani', 'nar', 'narayana', 'narayanan', 'narcotic', 'nareit', 'nasa', 'nasdaqcorpgov', 'nasdaqfam', 'nasdaqgovforum', 'nathan', 'nationalbank', 'nationalgrid', 'nationalization', 'nationally', 'nationalprestoindustries', 'nativity', 'natso', 'nature', 'navarro', 'navi', 'navistar', 'nbcc', 'nbcuniversal', 'nbfcs', 'nbsp', 'nby', 'ncbs', 'nclat', 'nclh', 'nclt', 'ncm', 'ncmgf', 'ndez', 'neal', 'nearby', 'needle', 'needy', 'neft', 'negotiate', 'negotiated', 'neither', 'nelnet', 'nemzeti', 'neoadjuvant', 'neogen', 'nepal', 'nephritis', 'nerve', 'nervous', 'nervousness', 'netwo', 'neuberger', 'neurocrine', 'neurometrix', 'neurovive', 'newa', 'newater', 'newborn', 'newcastle', 'newconstructs', 'newgioco', 'newlake', 'newport', 'newquest', 'newron', 'newsom', 'newspaper', 'newsports', 'nex', 'nexoptic', 'nextgen', 'nexus', 'nfbk', 'nfc', 'nfp', 'ngc', 'ngl', 'ngvc', 'nhb', 'nhi', 'nhrny', 'nhy', 'nibble', 'nibbling', 'nibe', 'nicandrou', 'nicholas', 'nickelodeon', 'nicola', 'nicotine', 'nicotinic', 'nicox', 'nig', 'niger', 'nightmare', 'nilsy', 'nine', 'nipa', 'nippon', 'nirma', 'nitin', 'nj', 'njr', 'nk', 'nke', 'nksh', 'nl', 'nls', 'nltx', 'nmchealth', 'nmih', 'nmpa', 'nni', 'no', 'noa', 'nobel', 'nobody', 'nod', 'nodal', 'noise', 'nok', 'nomination', 'noncompliance', 'nonemployer', 'nonessential', 'nonetheless', 'nonfarmpayrolls', 'nonfarmprivatepayrolls', 'nonfiction', 'nongovernment', 'nonof', 'nonprofit', 'nontraditional', 'nooruddin', 'nope', 'nord', 'norilsk', 'norm', 'normalize', 'normalized', 'nornico', 'norseman', 'northcoast', 'northeast', 'northeastern', 'northfield', 'northland', 'northmacedonia', 'northrop', 'northropgrumman', 'nose', 'nosedive', 'notably', 'notebook', 'noted', 'noticeably', 'noting', 'notion', 'novabay', 'novaria', 'novasight', 'novemb', 'novonordisk', 'npi', 'npn', 'nppc', 'npr', 'nq', 'nsany', 'nspr', 'nsta', 'nswfires', 'ntdmf', 'ntla', 'ntpc', 'ntt', 'nucor', 'nugs', 'nugt', 'nuke', 'nuoilandgas', 'nuova', 'nuro', 'nutanix', 'nutritional', 'nutronics', 'nutting', 'nuvasive', 'nve', 'nvec', 'nvmi', 'nvo', 'nvt', 'nvu', 'nw', 'nwin', 'nwxpf', 'nxpi', 'nycb', 'nychealthcommr', 'nygiants', 'nykredit', 'nyseamex', 'nytimes', 'nz', 'nzse', 'oadacre', 'oadband', 'oadcasting', 'oadening', 'oadens', 'oak', 'oasis', 'obamacare', 'obbey', 'obesity', 'obi', 'objective', 'obosx', 'observance', 'observe', 'obsessed', 'obstacle', 'obtained', 'obvious', 'obviously', 'oca', 'ocado', 'ocasio', 'occ', 'ocdo', 'oceangrownabalone', 'oceanwilsons', 'och', 'oddly', 'odf', 'odfjell', 'odigeo', 'oecd', 'offender', 'offeri', 'officialzsl', 'offload', 'offsetting', 'ofix', 'ohl', 'oilfield', 'oilsearch', 'oisa', 'okerages', 'oking', 'okq', 'oldest', 'oldmutual', 'olin', 'olive', 'olympia', 'olympics', 'omcl', 'omnicell', 'omnicom', 'omp', 'omv', 'oncosec', 'oncs', 'ondeck', 'ondk', 'onespaworld', 'onion', 'onlin', 'onpattro', 'onset', 'ookdale', 'ookline', 'ookside', 'ooksideenergy', 'ooma', 'opaque', 'opcw', 'opener', 'openview', 'operacional', 'operate', 'operational', 'opiant', 'opnt', 'opp', 'opponent', 'opportune', 'opportunityoccupations', 'oppose', 'opposed', 'opposes', 'opposing', 'oppositio', 'opra', 'optex', 'opti', 'optic', 'optical', 'optronics', 'opxs', 'oramed', 'oran', 'orange', 'orbcomm', 'orc', 'orchard', 'orchid', 'orcl', 'ordered', 'ordinary', 'oregon', 'oreo', 'organically', 'organizer', 'orgy', 'orienta', 'orly', 'orman', 'orphan', 'orr', 'orthofix', 'orthopedic', 'os', 'osage', 'osaka', 'ose', 'osisko', 'osw', 'ot', 'otel', 'otex', 'otl', 'otm', 'otter', 'ottr', 'ottw', 'otx', 'ought', 'ousts', 'outgoing', 'outlk', 'outotec', 'outpaces', 'outpacing', 'outperformed', 'outrage', 'outsell', 'outshines', 'ovarian', 'ovaro', 'ovbc', 'ove', 'oven', 'overbilled', 'overbought', 'overconfident', 'overdose', 'overdue', 'overflow', 'overheating', 'overlayed', 'overni', 'overseeing', 'oversold', 'overspending', 'overstock', 'overvaluation', 'overvalued', 'overview', 'ovid', 'ovintiv', 'ovitz', 'ow', 'owe', 'owes', 'ownershi', 'owse', 'oxycontin', 'oyo', 'pablo', 'pacb', 'paceuniversity', 'pacifico', 'pacificstarnetwork', 'pack', 'packaged', 'packard', 'packed', 'packing', 'paedophile', 'pageind', 'pageone', 'pagerduty', 'pagp', 'pagsegurodigital', 'paige', 'pakistan', 'palace', 'palantir', 'palazzo', 'palomar', 'paltrow', 'pamela', 'pampers', 'pan', 'pancake', 'panda', 'pandagreenenergy', 'panhandle', 'pank', 'pannier', 'panoro', 'panther', 'papadopoulos', 'paperless', 'para', 'paradox', 'paralysis', 'parameter', 'paramount', 'paramountpics', 'paranoia', 'pared', 'parenting', 'parets', 'parity', 'parliame', 'parliamentary', 'parse', 'parses', 'participant', 'participates', 'particularly', 'partn', 'partnered', 'partnering', 'passion', 'pasta', 'pat', 'patch', 'patchwork', 'patek', 'patriot', 'patrol', 'paulsen', 'paulson', 'pausing', 'pavilion', 'paving', 'pax', 'paychex', 'paycom', 'paymen', 'paysign', 'payx', 'pbf', 'pbh', 'pbpb', 'pch', 'pcyg', 'peaked', 'peaking', 'pearl', 'pearson', 'peb', 'pec', 'ped', 'pedevco', 'pedophile', 'peek', 'peet', 'peltz', 'pemex', 'penang', 'pendulum', 'penelope', 'pennantpark', 'pennmac', 'penuma', 'percenta', 'perception', 'perceptron', 'perdue', 'perelman', 'performed', 'perhaps', 'perilous', 'perini', 'perioperative', 'perk', 'permission', 'permrock', 'perovskite', 'perovskitic', 'perp', 'perpetuity', 'perrigo', 'persian', 'persisting', 'personalassetstrust', 'personnel', 'perspecta', 'persuade', 'persuaded', 'peru', 'pessimistic', 'pesticide', 'petal', 'petrochemical', 'petrolga', 'petrology', 'petronas', 'petrotal', 'peugeot', 'pfbc', 'pfe', 'pgim', 'pgny', 'pgre', 'phamacodynamic', 'pharmaceutic', 'pharmacy', 'pharmaron', 'pharmaronbeijing', 'phat', 'phd', 'phil', 'phillip', 'phillipe', 'philly', 'phony', 'phot', 'photo', 'photographer', 'phrase', 'phys', 'pichai', 'picking', 'pie', 'pier', 'pierce', 'pieve', 'pig', 'pii', 'piled', 'pilipinas', 'pilkerton', 'pine', 'ping', 'pingansecurities', 'pinnacle', 'pioneerresources', 'pipestone', 'pir', 'piramal', 'pirated', 'pirs', 'pischelsdorf', 'pitbull', 'pitching', 'pixelle', 'pixelworks', 'pixy', 'pizzaexpress', 'pizzi', 'pjm', 'pke', 'pkg', 'pkx', 'placement', 'plagiarism', 'plague', 'plaid', 'plainly', 'plaintiff', 'plank', 'plantronics', 'plaque', 'plastering', 'plat', 'plateau', 'plateaued', 'platfor', 'plato', 'platt', 'platts', 'playags', 'playlist', 'playoff', 'plead', 'pledging', 'plen', 'plentiful', 'plenty', 'plight', 'plnt', 'plow', 'plowed', 'plse', 'plsqf', 'plt', 'pltm', 'plug', 'plummeted', 'pluralsight', 'plya', 'plz', 'pmay', 'pmps', 'pnb', 'pnw', 'poai', 'poi', 'poia', 'pointed', 'pointless', 'pol', 'pola', 'polaris', 'polarized', 'polarizing', 'pole', 'policymaker', 'polio', 'politicized', 'politicoryan', 'polled', 'pollo', 'polyester', 'polyplastic', 'polypropylene', 'ponzi', 'poorest', 'poorly', 'poppins', 'popularity', 'populated', 'populism', 'populous', 'pork', 'porta', 'portion', 'portland', 'portnoy', 'portugal', 'posco', 'posit', 'positioned', 'positivo', 'possibility', 'possibly', 'posted', 'postepay', 'posting', 'postmates', 'postpaid', 'postpone', 'postponed', 'potato', 'potbelly', 'potentially', 'potlatch', 'powder', 'powerball', 'powerhouse', 'powerhouseventures', 'powerlongrealestate', 'powertrain', 'powi', 'pozsar', 'ppd', 'ppp', 'prada', 'prairiesky', 'pratt', 'prayer', 'prc', 'precaution', 'precedes', 'preclinical', 'predata', 'predecessor', 'predictive', 'prefer', 'preferre', 'preferreds', 'prekf', 'premarke', 'prep', 'prepaid', 'prepared', 'preparedness', 'preposterous', 'prepping', 'prescribed', 'presence', 'presented', 'presenteeism', 'presiden', 'presidency', 'presidentia', 'pressers', 'pressing', 'pressured', 'prestigious', 'presto', 'presuring', 'previ', 'previous', 'prfd', 'prgo', 'pricesmart', 'pricey', 'pride', 'priest', 'primer', 'primerica', 'primoris', 'prio', 'privateer', 'privately', 'privatization', 'priya', 'proassurance', 'problematic', 'proceed', 'proceeding', 'procter', 'procure', 'profitabi', 'profligacy', 'programme', 'programmer', 'programming', 'progressive', 'prohibit', 'prohibition', 'prohibits', 'proje', 'projection', 'prolonged', 'promika', 'promissory', 'promote', 'promotion', 'promotional', 'prompt', 'prone', 'pronoun', 'propacpackaging', 'propelling', 'propels', 'prophet', 'proportion', 'proportionately', 'propos', 'proposing', 'prosecution', 'prosf', 'prostate', 'prosthetic', 'prosy', 'protalix', 'protective', 'protestant', 'protesting', 'protestors', 'proto', 'protolabs', 'prove', 'provision', 'proxy', 'prpl', 'prty', 'pru', 'prudential', 'prudently', 'prx', 'pry', 'pscf', 'psoriasis', 'pta', 'ptab', 'ptc', 'ptct', 'ptm', 'ptn', 'ptozf', 'pu', 'publicis', 'publicly', 'publish', 'publishing', 'publix', 'puco', 'puget', 'pulled', 'pulling', 'pulp', 'pumped', 'punch', 'punctured', 'punt', 'pup', 'pura', 'puration', 'purdue', 'purposeful', 'pursuant', 'pursue', 'pursuit', 'putting', 'putwrite', 'puxin', 'pvg', 'pvvlf', 'pwc', 'pxd', 'pxgyf', 'qasem', 'qeternity', 'qiagen', 'qip', 'qk', 'qorvo', 'qrvo', 'qt', 'qtrh', 'qtt', 'quake', 'qualification', 'qualify', 'quant', 'quanterix', 'quantitative', 'quarantined', 'quart', 'quartz', 'quatri', 'queensland', 'queer', 'query', 'quest', 'questioning', 'queueing', 'quicken', 'quietly', 'quirky', 'quitting', 'quiver', 'qutoutiao', 'ra', 'raceoncology', 'rachman', 'racism', 'rad', 'radiant', 'radically', 'radioactive', 'radnet', 'radoslav', 'radthomas', 'rafael', 'raffle', 'railroad', 'railyard', 'rain', 'rainbow', 'rainmaker', 'rais', 'rajappa', 'rajnath', 'rajya', 'rak', 'rake', 'raking', 'rale', 'rallying', 'ralph', 'ramani', 'ramelius', 'ramming', 'ramped', 'ramping', 'rand', 'random', 'rang', 'ranging', 'rank', 'ranking', 'ransomware', 'rapper', 'ratatouille', 'ratchet', 'ratcheting', 'ratifying', 'rattling', 'raucous', 'rav', 'ravaged', 'ravaging', 'rave', 'rayonier', 'raysearch', 'raytheon', 'razor', 'rbg', 'rblay', 'rbnz', 'rci', 'rcii', 'rckt', 'rcom', 'rcus', 'rdnt', 'rdy', 'readout', 'realgdp', 'realgoldmining', 'realisation', 'realkredit', 'realmoney', 'realnetworks', 'realsportshbo', 'reands', 'reas', 'reasonable', 'reassured', 'reassuring', 'rebalancing', 'reblozyl', 'rec', 'recede', 'receivable', 'recharge', 'rechtschaffen', 'recipe', 'reclaiming', 'recommendati', 'reconciliation', 'reconsideration', 'recorded', 'recoup', 'recovered', 'recreates', 'recreation', 'recurring', 'recycle', 'recycles', 'redchapina', 'reddy', 'redeeming', 'redesignation', 'redesigns', 'redhawk', 'redhill', 'redhilliron', 'redistribute', 'redskin', 'reduced', 'reduces', 'reebok', 'reelection', 'reeling', 'referred', 'refilies', 'refinance', 'refinances', 'refinancings', 'refinitiv', 'reflect', 'reflected', 'reflecting', 'reflection', 'refreshed', 'refreshingly', 'refusing', 'reg', 'regaining', 'regard', 'regd', 'regenerative', 'regeneron', 'regimen', 'regionalview', 'registe', 'registered', 'regrow', 'regu', 'regulic', 'rehearing', 'reilly', 'reinforced', 'reinsurance', 'reinvestment', 'reinvests', 'reitdom', 'rejoice', 'rel', 'relating', 'relaxed', 'relevant', 'reliable', 'religare', 'relocation', 'relying', 'remainder', 'remake', 'remark', 'remarkable', 'rematch', 'remembering', 'remestemcel', 'remittance', 'remix', 'remote', 'removal', 'removed', 'ren', 'renew', 'renewal', 'renounce', 'renounceable', 'renovables', 'renter', 'renton', 'renunciation', 'reopened', 'reopens', 'repatriated', 'repeated', 'repeatedly', 'repligen', 'repocalypse', 'reportable', 'repr', 'representation', 'repricing', 'repsol', 'republic', 'repurcha', 'reputation', 'repyf', 'requires', 'requiring', 'resapp', 'resapphealth', 'reser', 'reset', 'resilien', 'resisting', 'resonant', 'resorted', 'responding', 'responds', 'responsibility', 'responsibl', 'responsibly', 'restart', 'restate', 'restructures', 'resulted', 'resumed', 'resuming', 'resumption', 'resupply', 'resurge', 'resurgence', 'resurrect', 'reta', 'retabulation', 'retagen', 'retain', 'retake', 'retaliate', 'retest', 'retested', 'retests', 'retires', 'retractable', 'retrenchment', 'retriever', 'rett', 'reunidas', 'reuter', 'revamping', 'revealing', 'revers', 'reversing', 'revis', 'revise', 'revisit', 'revisiting', 'revived', 'revives', 'reviving', 'revolugroup', 'revolupay', 'revoluvip', 'rexnord', 'reyvow', 'rfid', 'rhp', 'rhythm', 'rice', 'richards', 'richemont', 'richmiller', 'riddell', 'ridden', 'ridicule', 'rigging', 'rightmove', 'riksbank', 'ril', 'rily', 'rimkus', 'rinf', 'ringing', 'rinse', 'ripe', 'ripped', 'ripping', 'rippling', 'riskiest', 'risparmio', 'ritesh', 'ritter', 'rivaroxaban', 'river', 'rivian', 'riviera', 'riyal', 'rk', 'rlh', 'rli', 'rm', 'rmed', 'rnwk', 'ro', 'roadhouse', 'roadmap', 'roadshow', 'roanoke', 'roaster', 'rob', 'robbery', 'robe', 'robertshrimsley', 'robertson', 'robinhoodsnacks', 'robintheblack', 'robocalls', 'robotodd', 'rocanville', 'rocked', 'rocketed', 'rocking', 'rockwell', 'roger', 'rogerfederer', 'rohatyn', 'roil', 'roiled', 'roiling', 'rolfe', 'roller', 'roman', 'romania', 'romanian', 'romantic', 'rometty', 'ronald', 'ronson', 'ronsondevelopment', 'roofing', 'rope', 'rosa', 'ross', 'rossstores', 'rosy', 'roughed', 'routine', 'routing', 'royaldutchshell', 'rpai', 'rpay', 'rpc', 'rpm', 'rprsntcins', 'rrgb', 'rsk', 'rt', 'rtg', 'ru', 'rubber', 'rubbish', 'rubble', 'rubenstein', 'rubio', 'ruble', 'ruden', 'ruin', 'ruining', 'ruled', 'rumor', 'runacher', 'runaway', 'rusal', 'rushing', 'ruyi', 'rvailluminates', 'rvnc', 'rvp', 'rvra', 'rxn', 'ryanodex', 'ryb', 'ryerkerk', 'ryn', 'saab', 'saatchi', 'sacha', 'sacituzumab', 'sacklers', 'safest', 'safet', 'saft', 'sag', 'sagging', 'saharan', 'saia', 'sail', 'sailing', 'sailor', 'sajid', 'sake', 'saks', 'sala', 'salad', 'salesman', 'salmon', 'salvador', 'salvage', 'sama', 'samoa', 'samoan', 'sampled', 'samro', 'samsungheavyindustries', 'sanayi', 'sanctimonious', 'sanderson', 'sandler', 'sandy', 'saneamento', 'sangamo', 'sanpaolo', 'santana', 'santanaminerals', 'santiago', 'saputo', 'saracen', 'saracenmineral', 'sarah', 'sarahhalzack', 'sarcasm', 'sarepta', 'sarge', 'sarizotan', 'sasa', 'sasseur', 'sat', 'satcom', 'satisfies', 'sativa', 'satsuma', 'sauce', 'saudiarabianmonetaryagency', 'saut', 'savara', 'saved', 'savour', 'savvy', 'sawai', 'saxon', 'sbgi', 'sbi', 'sbl', 'sbordone', 'sbph', 'scaling', 'scalp', 'scammer', 'scandinavia', 'scandinavian', 'scar', 'scarborough', 'scardovari', 'scare', 'scary', 'sce', 'scene', 'scented', 'scepticism', 'schaffrik', 'schick', 'schiff', 'schitt', 'schnatter', 'scholarship', 'schonfeld', 'schoolchildren', 'schweizerische', 'schx', 'schyy', 'sci', 'sciplay', 'sclerosis', 'scmp', 'scoring', 'scorpio', 'scorpion', 'scotiabank', 'scotland', 'scottgamm', 'scottsaloway', 'scour', 'scourge', 'scouring', 'scout', 'scouting', 'scramble', 'scrambling', 'screaming', 'scrimp', 'script', 'scripted', 'scrutinize', 'sdc', 'sdonnan', 'sdrl', 'seadrill', 'seafood', 'sealed', 'seasonality', 'seasonally', 'seaspine', 'seaweed', 'sebata', 'secazar', 'seclidemstat', 'secretion', 'secretive', 'secureworks', 'securitas', 'securityholders', 'sedg', 'seeps', 'seething', 'seizes', 'seizing', 'seizure', 'selassie', 'selesky', 'selvaag', 'selwyn', 'semico', 'semitism', 'sendi', 'sending', 'sensata', 'sensation', 'sensient', 'sensus', 'sentence', 'sentenced', 'sentral', 'seo', 'sequans', 'serbian', 'serena', 'serendipity', 'sergeant', 'served', 'server', 'servicenow', 'servicer', 'serving', 'serwer', 'sesame', 'setback', 'setlemeent', 'seventh', 'sewage', 'sewing', 'sexist', 'sezzle', 'sfix', 'sgbaf', 'sgbx', 'sglb', 'sgmo', 'sgms', 'sgps', 'sh', 'shack', 'shackle', 'shak', 'shaken', 'shaker', 'shakti', 'shaktikanta', 'shaktipump', 'shameless', 'shaming', 'shankleman', 'shar', 'shatte', 'shattering', 'shatterproof', 'shaw', 'shawn', 'shbi', 'sheena', 'sheff', 'sheinker', 'shelfdrilling', 'shelley', 'shelving', 'shenandoah', 'shengyuan', 'shentel', 'shepard', 'shepell', 'shepherd', 'shepherdson', 'shhh', 'shif', 'shiftpixy', 'shifty', 'shimao', 'shinvest', 'shirt', 'shiver', 'shooter', 'shopin', 'shor', 'shoreline', 'shorted', 'shorting', 'shortlist', 'shortly', 'showa', 'shrank', 'shredder', 'shree', 'shreeminerals', 'shrimsley', 'shrinking', 'shrugged', 'shrugging', 'shuli', 'shun', 'shuttered', 'shutterstock', 'shy', 'siberia', 'sick', 'sicko', 'sided', 'siders', 'sidestep', 'sidestepping', 'siena', 'sienna', 'siennacancerdiagnostics', 'sierra', 'sifts', 'sigh', 'signaled', 'signalled', 'signature', 'signet', 'significance', 'silly', 'silvercorp', 'simbatrading', 'simi', 'simple', 'simplest', 'simplified', 'simplify', 'simplus', 'simply', 'simpson', 'simulates', 'simultaneously', 'sin', 'sinc', 'sinergias', 'singing', 'sinoharbour', 'sint', 'sipper', 'sirzf', 'sistema', 'sister', 'sitc', 'sitework', 'sjw', 'skier', 'skill', 'skip', 'skipping', 'skyidges', 'skyrizi', 'skyrocketed', 'skyscraper', 'skywalker', 'slamming', 'slap', 'slapping', 'slashing', 'slavery', 'slay', 'sleeping', 'slew', 'slgg', 'slggf', 'sliced', 'slim', 'slipped', 'slo', 'slok', 'slope', 'slot', 'slowed', 'slowest', 'slp', 'slumped', 'slv', 'smallcap', 'smartcentres', 'smarter', 'smartest', 'smartfinancial', 'smartrac', 'smashed', 'smbk', 'smell', 'smg', 'smlp', 'smog', 'smooth', 'smorgasbord', 'smrt', 'smta', 'smucker', 'snackfact', 'snapped', 'snarl', 'snarled', 'snb', 'snca', 'sncaf', 'sneak', 'sno', 'snoop', 'snooping', 'snorting', 'snowflake', 'snr', 'snwv', 'sny', 'soapbox', 'sociedad', 'societatea', 'societe', 'sock', 'sofi', 'soften', 'softer', 'sohmf', 'soho', 'sole', 'soleimani', 'soliant', 'solo', 'solomon', 'som', 'somalia', 'somebody', 'somethin', 'sondland', 'sonoma', 'sonova', 'sooner', 'soothe', 'soothes', 'sophisticated', 'sor', 'sordid', 'soren', 'sorrento', 'sorrentotherapeutics', 'sort', 'sorting', 'sotherly', 'sounded', 'soundwaves', 'sour', 'sourcewater', 'southafrica', 'southfield', 'southwestern', 'sovereignty', 'sow', 'soxx', 'soyb', 'sozzi', 'spacejet', 'span', 'sparklier', 'spatial', 'spawning', 'spc', 'spd', 'spdr', 'speakerpelosi', 'speaking', 'spec', 'specialized', 'specie', 'spectacular', 'speculative', 'speculator', 'speec', 'speeding', 'spence', 'spends', 'sphere', 'spi', 'spinal', 'splb', 'spoil', 'spoiling', 'sponsor', 'spoofing', 'sporting', 'sportswear', 'sporty', 'sprawling', 'sprayer', 'spreading', 'sprout', 'sprouting', 'spruce', 'spsk', 'squeak', 'squeezed', 'src', 'ssec', 'ssi', 'ssys', 'sta', 'stabilization', 'stabilized', 'stacked', 'staffing', 'stagnant', 'stagnated', 'stair', 'staked', 'stakeholding', 'stalled', 'stan', 'stanchart', 'standardlifeaberdeen', 'standpoint', 'standstill', 'stanhope', 'staple', 'starboard', 'starbuds', 'starch', 'statetent', 'stbarbara', 'stea', 'steele', 'steeply', 'steered', 'stefanik', 'steinmeier', 'sterreichische', 'sticky', 'stiffens', 'stifled', 'stillwater', 'stimulate', 'stinging', 'stink', 'stir', 'stitchfix', 'stk', 'stld', 'stmp', 'stobart', 'stochastics', 'stocktwits', 'stok', 'stoke', 'stole', 'storbeck', 'storefron', 'storing', 'stormed', 'stossel', 'stoxx', 'strained', 'strait', 'strange', 'strangulating', 'strapped', 'stratospheric', 'straw', 'stre', 'stream', 'streetinsider', 'strengthened', 'stressed', 'stretched', 'strideproperty', 'striking', 'strip', 'stripe', 'stripped', 'strive', 'strongest', 'struck', 'structured', 'struggli', 'stsa', 'stubbornly', 'stuck', 'studyin', 'studying', 'stuff', 'stuffed', 'stung', 'stunned', 'stunner', 'stunning', 'stuns', 'stunt', 'sturdy', 'stutter', 'stuttering', 'stxs', 'su', 'sub', 'subadra', 'subbarao', 'subhash', 'subject', 'submarine', 'submission', 'subordinated', 'subpoena', 'subprime', 'subscrib', 'subscribed', 'subsid', 'suburb', 'subway', 'succeeding', 'succession', 'succulent', 'succumbing', 'suggesting', 'suicide', 'suite', 'sulphide', 'sundar', 'sunni', 'sunny', 'sunstone', 'supercharger', 'superdividend', 'superhero', 'superiority', 'supernus', 'supervised', 'supervisory', 'supn', 'supp', 'supplement', 'suppo', 'suppor', 'supported', 'supporter', 'supposedly', 'suppression', 'suppressor', 'surcharge', 'suresh', 'surgery', 'surpass', 'surpassed', 'surpasses', 'surpassing', 'surplus', 'surpr', 'surrender', 'surrounding', 'survived', 'susa', 'suspected', 'suspended', 'suspense', 'suspensi', 'suspicion', 'suspicious', 'sustainableinfra', 'sustained', 'sutter', 'suze', 'suzeormanshow', 'suzuki', 'svante', 'svb', 'svm', 'svmk', 'svxy', 'swallow', 'swath', 'swaying', 'swedbank', 'sweeeeeeeeeetttttt', 'sweeney', 'sweet', 'sweeten', 'sweetening', 'sweetgreen', 'swiftly', 'swindle', 'swipe', 'swisscom', 'swks', 'swn', 'swollen', 'swonk', 'sword', 'sworn', 'sxt', 'syanptics', 'sybx', 'sycamore', 'sylvain', 'sylvia', 'symbol', 'symptom', 'syna', 'syngenta', 'synlait', 'synlaitmilk', 'synopsys', 'synthetic', 'syria', 'syrian', 'sysinno', 'taal', 'tabak', 'tableau', 'tablissements', 'tachyum', 'tackl', 'tackling', 'tactile', 'tafasitamab', 'taffyakner', 'taildex', 'tailing', 'tailored', 'taiwanfund', 'tak', 'takata', 'takeout', 'talent', 'talf', 'talked', 'tally', 'tamar', 'tandem', 'tang', 'tangible', 'tanking', 'tape', 'taped', 'tapped', 'tapping', 'tar', 'targa', 'tass', 'tassal', 'tatasteel', 'taught', 'taurus', 'taxable', 'tb', 'tbd', 'tbt', 'tbvpy', 'tc', 'tcehy', 'tcf', 'tcmd', 'tdex', 'tdg', 'tdj', 'tdy', 'teac', 'teaming', 'teamlab', 'teamster', 'teatv', 'techedu', 'technavio', 'technician', 'technipfmc', 'techtarget', 'tecnimont', 'teco', 'teeny', 'teeth', 'tegna', 'teixeira', 'tejada', 'tekla', 'tel', 'teleconference', 'teledyne', 'telegraph', 'telekom', 'telemedicine', 'telenor', 'televised', 'telidyne', 'telix', 'telixpharmaceuticals', 'telsis', 'temp', 'tempered', 'templebarinvestmenttrust', 'tempora', 'tempted', 'tempting', 'tempura', 'tennant', 'tenor', 'tensioner', 'terminated', 'termite', 'terna', 'ternaspa', 'terrascend', 'terrific', 'terrorism', 'terrorist', 'terumo', 'tesco', 'tested', 'testnet', 'testosterone', 'tett', 'teum', 'texaco', 'text', 'textainer', 'texted', 'tff', 'tffpharmaceuticals', 'tfi', 'tfiff', 'tgh', 'tgna', 'tgr', 'thakur', 'thames', 'thc', 'theatrical', 'thei', 'theismann', 'themed', 'themillooktwins', 'therapist', 'theravance', 'thermal', 'thermoformer', 'thff', 'thi', 'thin', 'thinker', 'tho', 'though', 'thoughtful', 'thq', 'thre', 'thread', 'threadneedle', 'thrilling', 'thrives', 'throe', 'thromboembolism', 'throne', 'throughout', 'throw', 'throwback', 'thunderstorm', 'tiberius', 'tiberiusacquisition', 'tibet', 'tic', 'ticketing', 'ticking', 'tickle', 'tied', 'tighten', 'tightrope', 'tigr', 'tiktok', 'till', 'tilt', 'tim', 'timely', 'timken', 'timothy', 'tipt', 'tirade', 'tiru', 'tischendorf', 'tissue', 'titanic', 'titanium', 'titus', 'tivozanib', 'tj', 'tl', 'tlrd', 'tlry', 'tm', 'tme', 'tmst', 'tmt', 'tmx', 'tnaquarium', 'tnbc', 'tobago', 'tod', 'toft', 'tog', 'toke', 'tomato', 'tomz', 'tony', 'tonythestreet', 'toothush', 'topline', 'topped', 'torc', 'torching', 'tornado', 'torontodominionbank', 'tortilla', 'tortue', 'tortuous', 'tottenham', 'toughbuilt', 'toured', 'tournament', 'tova', 'towa', 'tparekh', 'tpco', 'tpg', 'tpr', 'tra', 'trac', 'traceability', 'trad', 'tradesmarter', 'tradition', 'traditional', 'trafficcom', 'trafficking', 'trafigura', 'tragedy', 'trai', 'trail', 'trailer', 'train', 'trainee', 'trajectory', 'transact', 'transat', 'transatlantic', 'transcri', 'transferred', 'transforming', 'translates', 'translation', 'transnet', 'transocean', 'transphorms', 'trash', 'trauf', 'traveler', 'travelex', 'traveling', 'trayport', 'tre', 'tread', 'treasure', 'treated', 'trec', 'trecora', 'trendforce', 'trending', 'trendline', 'trey', 'trian', 'triax', 'tribal', 'triggering', 'triib', 'trilli', 'trimble', 'trimestere', 'trinidad', 'trio', 'tripadvisor', 'triton', 'triumph', 'trlff', 'tron', 'tronics', 'tropical', 'trot', 'trov', 'trtn', 'trubisky', 'trulieve', 'trumpsays', 'trup', 'trupanion', 'trustee', 'trvn', 'tryin', 'tryout', 'tsai', 'tsc', 'tseries', 'tsx', 'ttd', 'ttgt', 'ttwo', 'tudor', 'tug', 'tui', 'tulsi', 'tumor', 'tumps', 'tumultuous', 'tuna', 'tune', 'tup', 'turbi', 'turbo', 'turboprop', 'turf', 'turnout', 'turquoise', 'turtincisco', 'turtleneck', 'tusk', 'tutor', 'tutorial', 'tvty', 'tw', 'tweak', 'tweed', 'twelve', 'twggx', 'twi', 'twin', 'twta', 'twtas', 'ty', 'typically', 'typo', 'tysonfoods', 'uaw', 'ubben', 'ubfo', 'ubio', 'ucb', 'uchicago', 'udr', 'uefa', 'ufs', 'uga', 'uganda', 'ugandan', 'uglier', 'uhal', 'uighur', 'ukrainegate', 'unanimously', 'unannounced', 'unaware', 'unbanked', 'unclear', 'uncomfortable', 'uncond', 'uncover', 'underappreciated', 'undercovered', 'underdog', 'underestimate', 'underestimating', 'underline', 'underloved', 'underpinned', 'underrated', 'underscore', 'underscored', 'underscoring', 'understand', 'undervalues', 'underway', 'underwhelm', 'underwriter', 'undue', 'uneakable', 'uneasy', 'uneven', 'unexpected', 'unfairness', 'unfinished', 'unfortunately', 'unhealthiest', 'unicell', 'unicom', 'unicredito', 'uniform', 'unite', 'unitedhealthcare', 'uniti', 'unl', 'unleash', 'unleashing', 'unlicensed', 'unload', 'unlucky', 'unmanned', 'unpaid', 'unpalletable', 'unplug', 'unpopular', 'unprotected', 'unquestioned', 'unravelling', 'unreal', 'unregi', 'unseat', 'unspecified', 'unspoken', 'unsteady', 'unsung', 'unsurprising', 'unsustainable', 'unswick', 'untimely', 'unusually', 'unveilin', 'unwavering', 'unwell', 'unwillingness', 'upd', 'upends', 'upi', 'upload', 'upper', 'uprising', 'upshaw', 'upsizes', 'upstart', 'uptick', 'uptrend', 'upwards', 'urbn', 'urg', 'urgent', 'urging', 'urovant', 'useful', 'usfd', 'usher', 'ushes', 'uslm', 'ustreasury', 'usually', 'utah', 'utilizing', 'utx', 'uup', 'uwt', 'uxa', 'vacasa', 'vacated', 'vaccinate', 'vaccination', 'vacuum', 'vadadustat', 'vague', 'valens', 'valid', 'vallourec', 'valueact', 'vam', 'vancouver', 'vanda', 'vanished', 'vanishes', 'var', 'varex', 'variable', 'various', 'vary', 'vasquez', 'vault', 'vax', 'vbi', 'vclt', 'vdahf', 'vegetabl', 'vegetarian', 'veidekke', 'vengeance', 'venous', 'verastem', 'vericiguat', 'verification', 'veritas', 'verizonbusiness', 'verso', 'vertiginous', 'viab', 'viaca', 'vibe', 'victorian', 'vie', 'viemed', 'vies', 'vietjet', 'vietnam', 'viewed', 'viewer', 'viking', 'villager', 'villazon', 'vince', 'vinda', 'vindicates', 'violent', 'virginia', 'virt', 'virtually', 'virtue', 'virtusa', 'vistaoutdoor', 'visteon', 'visual', 'visualizing', 'vitalhub', 'vitamin', 'vitasoy', 'vivaldi', 'vizzion', 'vktx', 'vla', 'vly', 'vnet', 'vnom', 'vnq', 'vogtle', 'vogue', 'vohra', 'voiced', 'void', 'vol', 'volaris', 'volunteer', 'vonage', 'vorasidenib', 'vowed', 'vowing', 'voyager', 'voyainvestments', 'vpn', 'vrex', 'vrtu', 'vstm', 'vtex', 'vuitton', 'vwdry', 'vxx', 'wabash', 'wabc', 'waddell', 'wade', 'wading', 'wafd', 'wagner', 'wagon', 'wagyu', 'waitr', 'waive', 'waiving', 'waking', 'wale', 'walgreensbootsalliance', 'walker', 'wallstreetweek', 'wane', 'wanting', 'waqf', 'warehouse', 'warmed', 'warranty', 'wastewater', 'wateroasis', 'watsco', 'wawa', 'wbk', 'wcagy', 'wd', 'wdfc', 'wdr', 'wea', 'weaken', 'weakened', 'weakens', 'weakly', 'weapon', 'weary', 'weber', 'webk', 'webster', 'weebit', 'weebitnano', 'weidai', 'weighing', 'weighted', 'weinstein', 'weirder', 'weld', 'welfare', 'wellbeing', 'wellesley', 'wenda', 'wendy', 'wereldhave', 'werner', 'wes', 'weston', 'westpacbanking', 'westwater', 'wetherspoon', 'wetherspoons', 'weyrauc', 'wft', 'wgo', 'whack', 'whacked', 'wheel', 'wheelchair', 'wheeler', 'whenever', 'whic', 'whichever', 'whip', 'whirlpool', 'whisper', 'whistle', 'whittaker', 'whooper', 'whopping', 'whsmith', 'widely', 'widened', 'widening', 'wideopenwest', 'wider', 'wiggle', 'wilder', 'wile', 'williamturton', 'wimbledon', 'windfall', 'windier', 'windmill', 'windstream', 'winklevoss', 'winmq', 'winn', 'winnebago', 'winton', 'wipeout', 'wiping', 'wipo', 'wisconsin', 'withdraw', 'withdrawn', 'withdrew', 'withholding', 'withou', 'witnes', 'wk', 'wkl', 'wlk', 'wmgc', 'wmmorrowbooks', 'wmt', 'wnc', 'wobble', 'woke', 'wolfowitz', 'wolters', 'womply', 'wonder', 'wondered', 'wonderful', 'woo', 'woodmac', 'woodside', 'wooing', 'woowa', 'worded', 'wore', 'workhorse', 'workstation', 'workweek', 'worldbank', 'worldcoalassociation', 'worldline', 'wounded', 'wowsa', 'wp', 'wrapping', 'wrcdf', 'wreaks', 'writ', 'writedown', 'writeoffs', 'writer', 'writes', 'writing', 'written', 'wrk', 'wrongdoing', 'wsb', 'wso', 'wt', 'wtf', 'wts', 'wu', 'wuxi', 'wwf', 'wxxwy', 'wynnchurch', 'xan', 'xau', 'xauusd', 'xb', 'xbi', 'xbox', 'xcel', 'xel', 'xenia', 'xers', 'xhb', 'xilinx', 'xinhua', 'xinjiang', 'xlk', 'xlrn', 'xm', 'xoma', 'xrt', 'xtn', 'xtx', 'xxii', 'xyosted', 'yahes', 'yangtze', 'yankee', 'yant', 'yapi', 'yara', 'yardstick', 'yeah', 'yeahka', 'yearlong', 'yearly', 'yellow', 'yellowstone', 'yemen', 'yervoy', 'yescarta', 'yestar', 'yestarhealthcare', 'yiren', 'yn', 'yorw', 'youdao', 'youth', 'yovanovich', 'yrd', 'yten', 'yuan', 'za', 'zacut', 'zagg', 'zambia', 'zayo', 'zealotry', 'zelda', 'zeldatherapeutics', 'zelenskiy', 'zelensky', 'zfgn', 'zhenmeat', 'zheshang', 'zhone', 'ziff', 'zijin', 'zijinmining', 'zinc', 'zingfit', 'ziop', 'ziopharm', 'zip', 'zogenix', 'zom', 'zomedica', 'zooplus', 'zschneeweiss', 'zubsxf', 'zumiez', 'zwillinger', 'zynex', 'zyxi']\n"
     ]
    }
   ],
   "source": [
    "vectorizer = CountVectorizer()\n",
    "X = vectorizer.fit_transform(df_train['clean_text'])\n",
    "words = vectorizer.get_feature_names_out()\n",
    "word_counts = X.toarray().sum(axis=0)\n",
    "words_once = [word for word, count in zip(words, word_counts) if count == 1]\n",
    "\n",
    "print(\"Words that appear only once:\", words_once)"
   ]
  },
  {
   "cell_type": "code",
   "execution_count": 237,
   "id": "b30bc41f",
   "metadata": {},
   "outputs": [],
   "source": [
    "words_once_set = set(words_once)\n",
    "\n",
    "def remove_rare_words(text):\n",
    "    \"\"\"\n",
    "    Remove words from a text string that appear only once in the training corpus.\n",
    "\n",
    "    Parameters:\n",
    "    text (str): The input text to clean.\n",
    "\n",
    "    Returns:\n",
    "    str: The text with rare words removed (i.e., words that appear only once in the corpus).\n",
    "    \"\"\"\n",
    "    \n",
    "    return ' '.join([word for word in text.split() if word not in words_once_set])\n",
    "\n",
    "df_train['clean_text'] = df_train['clean_text'].apply(remove_rare_words)"
   ]
  },
  {
   "cell_type": "markdown",
   "id": "641edda0",
   "metadata": {},
   "source": [
    "<a class=\"anchor\" id=\"five-bullet\"> \n",
    "<d style=\"color:white;\">\n",
    "\n",
    "## 1.4. Corpus Splitting\n",
    "</a> \n",
    "</d>   "
   ]
  },
  {
   "cell_type": "markdown",
   "id": "d85082b1",
   "metadata": {},
   "source": [
    "Since we initially preserved the original content of our dataset, we will use it to test two different modeling approaches. The first uses the cleaned version of our dataset, with all the preprocessing steps applied throughout this notebook, which will be used for more traditional models (e.g. Logistic Regression and KNN). The second approach uses the untouched, original version of the dataset, which will be used with pre-trained models such as BERT and RoBERTa. To proceed, we begin by splitting each version of the dataset into training and validation sets."
   ]
  },
  {
   "cell_type": "code",
   "execution_count": 238,
   "id": "16085d2f",
   "metadata": {},
   "outputs": [],
   "source": [
    "# SPLIT FOR MODELS WITH CLEANED TEXT\n",
    "X_train = df_train['clean_text']\n",
    "y_train = df_train['label'] \n",
    "\n",
    "X_train, X_val, y_train, y_val = train_test_split(X_train, y_train, test_size=0.2, stratify=df_train['label'], random_state=42)"
   ]
  },
  {
   "cell_type": "code",
   "execution_count": 239,
   "id": "7d97ab9c",
   "metadata": {},
   "outputs": [],
   "source": [
    "# 2. SPLIT FOR MODELS WITH RAW TEXT (FOR PRE-TRAINED MODELS)\n",
    "X_raw = df_train_raw['text']\n",
    "y_raw = df_train_raw['label']\n",
    "\n",
    "X_train_raw, X_val_raw, y_train_raw, y_val_raw = train_test_split(X_raw, y_raw, test_size=0.2, stratify=y_raw, random_state=42)"
   ]
  },
  {
   "cell_type": "markdown",
   "id": "404416f3",
   "metadata": {},
   "source": [
    "<a class=\"anchor\" id=\"six-bullet\"> \n",
    "<d style=\"color:white;\">\n",
    "\n",
    "## 1.5. Feature Engineering\n",
    "</a> \n",
    "</d>   "
   ]
  },
  {
   "cell_type": "code",
   "execution_count": null,
   "id": "1ab8f21c",
   "metadata": {},
   "outputs": [],
   "source": [
    "def bow_or_tfidf(texts = df_train['clean_text'], method='bow'):\n",
    "    \"\"\"\n",
    "    Convert a list of text documents into a numerical feature matrix using either\n",
    "    Bag of Words (BoW) or TF-IDF vectorization.\n",
    "\n",
    "    Parameters:\n",
    "    texts (list or pandas Series): Collection of text documents to vectorize.\n",
    "    method (str): Vectorization method to use. Must be either 'bow' or 'tfidf'.\n",
    "\n",
    "    Returns:\n",
    "    tuple: A tuple containing:\n",
    "        - X (scipy sparse matrix): The document-term matrix.\n",
    "        - vectorizer (CountVectorizer or TfidfVectorizer): The fitted vectorizer instance.\n",
    "\n",
    "    Raises:\n",
    "    ValueError: If the provided method is not 'bow' or 'tfidf'.\n",
    "    \"\"\"\n",
    "    \n",
    "    if method == 'bow':\n",
    "        vectorizer = CountVectorizer()\n",
    "        X = vectorizer.fit_transform(texts)\n",
    "        return X, vectorizer\n",
    "\n",
    "    elif method == 'tfidf':\n",
    "        vectorizer = TfidfVectorizer()\n",
    "        X = vectorizer.fit_transform(texts)\n",
    "        return X, vectorizer\n",
    "\n",
    "    else:\n",
    "        raise ValueError(\"Choose a valid method: 'bow', 'tfidf'.\")"
   ]
  },
  {
   "cell_type": "markdown",
   "id": "ce007276",
   "metadata": {},
   "source": [
    "### 1.5.1. Bag of Words (BoW) "
   ]
  },
  {
   "cell_type": "code",
   "execution_count": null,
   "id": "7014b331",
   "metadata": {},
   "outputs": [],
   "source": [
    "X_train_bow, vectorizer = bow_or_tfidf(X_train, method='bow')\n",
    "X_val_bow = vectorizer.transform(X_val)"
   ]
  },
  {
   "cell_type": "markdown",
   "id": "54810498",
   "metadata": {},
   "source": [
    "### 1.5.2. TF-IDF  "
   ]
  },
  {
   "cell_type": "code",
   "execution_count": null,
   "id": "bf760d3d",
   "metadata": {},
   "outputs": [],
   "source": [
    "X_train_tfidf, vectorizer = bow_or_tfidf(X_train, method='tfidf')\n",
    "X_val_tfidf = vectorizer.transform(X_val)"
   ]
  },
  {
   "cell_type": "markdown",
   "id": "8ab2e547",
   "metadata": {},
   "source": [
    "### 1.5.3 Word2Vec"
   ]
  },
  {
   "cell_type": "code",
   "execution_count": 243,
   "id": "1306a5c0",
   "metadata": {},
   "outputs": [],
   "source": [
    "# Train the model only once using the training data\n",
    "tokenized_train = [text.split() for text in X_train]\n",
    "model = Word2Vec(\n",
    "    sentences=tokenized_train,\n",
    "    vector_size=100,   \n",
    "    window=2,          \n",
    "    min_count=1,       # Minimum word frequency to be included\n",
    "    sg=1               # Skip-gram model (if 0, uses CBOW)\n",
    ")\n",
    "word_vectors = model.wv  # Extract trained word vectors\n",
    "\n",
    "def get_doc_embedding(doc, word_vectors, dim=100):\n",
    "    \"\"\"\n",
    "    Convert a text document into a single vector by averaging its word embeddings.\n",
    "\n",
    "    Parameters:\n",
    "    doc (str): The document (string of text) to embed.\n",
    "    word_vectors (gensim KeyedVectors): Trained word embeddings.\n",
    "    dim (int): The dimensionality of the embeddings (default is 100).\n",
    "\n",
    "    Returns:\n",
    "    numpy.ndarray: The averaged vector representing the document.\n",
    "                   If no known words are found, returns a zero vector.\n",
    "    \"\"\"\n",
    "    tokens = doc.split()\n",
    "    vectors = [word_vectors[word] for word in tokens if word in word_vectors.index_to_key]\n",
    "    if vectors:\n",
    "        return np.mean(vectors, axis=0)\n",
    "    else:\n",
    "        return np.zeros(dim)\n",
    "\n",
    "# Generate document-level embeddings by averaging the vectors of each word\n",
    "X_train_w2v = np.vstack([get_doc_embedding(doc, word_vectors) for doc in X_train])\n",
    "X_val_w2v = np.vstack([get_doc_embedding(doc, word_vectors) for doc in X_val])\n"
   ]
  },
  {
   "cell_type": "markdown",
   "id": "98005d90",
   "metadata": {},
   "source": [
    "### 1.5.4 GloVe  "
   ]
  },
  {
   "cell_type": "code",
   "execution_count": 244,
   "id": "5c8fcd1b",
   "metadata": {},
   "outputs": [
    {
     "name": "stderr",
     "output_type": "stream",
     "text": [
      "100%|██████████| 7596/7596 [00:00<00:00, 46251.04it/s]\n",
      "100%|██████████| 1900/1900 [00:00<00:00, 41742.68it/s]\n"
     ]
    }
   ],
   "source": [
    "model_name = 'glove-twitter'\n",
    "emb_size = 100\n",
    "\n",
    "w2v = gensim.downloader.load(f'{model_name}-{emb_size}')\n",
    "\n",
    "def corpus2vec(corpus, w2v):\n",
    "    \"\"\"\n",
    "    Convert a list of text documents into lists of word vectors using a pre-trained GloVe model.\n",
    "\n",
    "    Parameters:\n",
    "    corpus (list): List of strings, each representing a document (e.g., tweet).\n",
    "    w2v (gensim KeyedVectors): Pre-trained word vectors loaded via gensim.\n",
    "\n",
    "    Returns:\n",
    "    list: A list where each element is a list of word vectors corresponding to the words in a document.\n",
    "    \"\"\"\n",
    "    index_set = set(w2v.index_to_key)  # For fast lookup\n",
    "    word_vec = w2v.get_vector          # Shortcut for faster access\n",
    "    return [\n",
    "        [word_vec(word) for word in doc.split() if word in index_set]\n",
    "        for doc in tqdm(corpus)\n",
    "    ]\n",
    "\n",
    "# Apply to training and validation data\n",
    "x_train_vec = corpus2vec(X_train, w2v)\n",
    "x_val_vec = corpus2vec(X_val, w2v)\n",
    "\n",
    "# Function to convert each tweet into a single vector (average of its word vectors)\n",
    "def average_vectors(vector_list, dim):\n",
    "    \"\"\"\n",
    "    Compute the average vector for a list of word vectors.\n",
    "    If the list is empty, return a zero vector.\n",
    "\n",
    "    Parameters:\n",
    "    vector_list (list): List of word vectors (e.g., from a tweet).\n",
    "    dim (int): Dimensionality of the embeddings.\n",
    "\n",
    "    Returns:\n",
    "    numpy.ndarray: Averaged vector representation of the input list.\n",
    "    \"\"\"\n",
    "    return np.mean(vector_list, axis=0) if vector_list else np.zeros(dim)\n",
    "\n",
    "# Generate averaged document embeddings for training and validation sets\n",
    "X_train_glove_avg = np.vstack([average_vectors(vecs, emb_size) for vecs in x_train_vec])\n",
    "X_val_glove_avg = np.vstack([average_vectors(vecs, emb_size) for vecs in x_val_vec])\n"
   ]
  },
  {
   "cell_type": "code",
   "execution_count": 245,
   "id": "8f651709",
   "metadata": {},
   "outputs": [
    {
     "data": {
      "text/plain": [
       "[('birthday', 0.9259342551231384),\n",
       " ('day', 0.8549738526344299),\n",
       " ('bday', 0.814542829990387),\n",
       " ('merry', 0.7886533141136169),\n",
       " ('love', 0.7855905890464783),\n",
       " ('wish', 0.7771798372268677),\n",
       " ('hope', 0.7660956978797913),\n",
       " ('thank', 0.7639737725257874),\n",
       " ('year', 0.7505833506584167),\n",
       " ('thanks', 0.7475084066390991)]"
      ]
     },
     "execution_count": 245,
     "metadata": {},
     "output_type": "execute_result"
    }
   ],
   "source": [
    "# Just a simple test to understand the results and performance of the model\n",
    "w2v.most_similar('happy', topn=10)"
   ]
  },
  {
   "cell_type": "markdown",
   "id": "46d14679",
   "metadata": {},
   "source": [
    "### 1.5.5 RoBERTa  "
   ]
  },
  {
   "cell_type": "code",
   "execution_count": 369,
   "id": "1d4d9ace",
   "metadata": {},
   "outputs": [
    {
     "name": "stderr",
     "output_type": "stream",
     "text": [
      "Some weights of RobertaModel were not initialized from the model checkpoint at roberta-base and are newly initialized: ['pooler.dense.bias', 'pooler.dense.weight']\n",
      "You should probably TRAIN this model on a down-stream task to be able to use it for predictions and inference.\n",
      "100%|██████████| 7634/7634 [14:22<00:00,  8.85it/s] \n",
      "100%|██████████| 1909/1909 [04:06<00:00,  7.74it/s]\n",
      "100%|██████████| 2388/2388 [04:31<00:00,  8.79it/s]\n"
     ]
    }
   ],
   "source": [
    "# Load pretrained RoBERTa model and tokenizer\n",
    "tokenizer = RobertaTokenizer.from_pretrained('roberta-base')\n",
    "model = RobertaModel.from_pretrained('roberta-base')\n",
    "model.eval()  # Set to eval mode\n",
    "device = torch.device('cuda' if torch.cuda.is_available() else 'cpu')\n",
    "model.to(device)\n",
    "\n",
    "# Function to convert corpus to embeddings (Corpus2Vec using [CLS] token)\n",
    "def roberta_corpus2vec(corpus, tokenizer, model, max_length=128):\n",
    "    \"\"\"\n",
    "    Generate sentence embeddings for a list of documents using the [CLS] token from RoBERTa.\n",
    "\n",
    "    Parameters:\n",
    "    corpus (list): List of raw text documents (e.g., tweets).\n",
    "    tokenizer (transformers.PreTrainedTokenizer): Tokenizer corresponding to the RoBERTa model.\n",
    "    model (transformers.PreTrainedModel): Pretrained RoBERTa model.\n",
    "    max_length (int): Maximum sequence length to tokenize each document.\n",
    "\n",
    "    Returns:\n",
    "    np.ndarray: Matrix of embeddings, one per document (shape: num_docs × hidden_size).\n",
    "    \"\"\"\n",
    "    \n",
    "    embeddings = []\n",
    "    with torch.no_grad():\n",
    "        for doc in tqdm(corpus):\n",
    "            inputs = tokenizer(doc, return_tensors='pt', padding='max_length',\n",
    "                               truncation=True, max_length=max_length)\n",
    "            inputs = {k: v.to(device) for k, v in inputs.items()}\n",
    "            outputs = model(**inputs)\n",
    "            cls_embedding = outputs.last_hidden_state[:, 0, :].squeeze(0)  # CLS token\n",
    "            embeddings.append(cls_embedding.cpu().numpy())\n",
    "    return np.vstack(embeddings)\n",
    "\n",
    "# Encode train and validation sets with original (raw) text\n",
    "X_train_roberta = roberta_corpus2vec(X_train_raw, tokenizer, model)\n",
    "X_val_roberta = roberta_corpus2vec(X_val_raw, tokenizer, model)\n",
    "df_test_roberta = roberta_corpus2vec(df_test['text'], tokenizer, model)"
   ]
  },
  {
   "cell_type": "markdown",
   "id": "dd313443",
   "metadata": {},
   "source": [
    "### 1.5.6. BERTweet"
   ]
  },
  {
   "cell_type": "code",
   "execution_count": 247,
   "id": "6ea7e9e7",
   "metadata": {},
   "outputs": [
    {
     "name": "stderr",
     "output_type": "stream",
     "text": [
      "BERTweet Encoding: 100%|██████████| 7634/7634 [15:04<00:00,  8.44it/s]\n",
      "BERTweet Encoding: 100%|██████████| 1909/1909 [03:50<00:00,  8.28it/s]\n"
     ]
    }
   ],
   "source": [
    "# Load pretrained BERTweet model and tokenizer\n",
    "tokenizer = AutoTokenizer.from_pretrained(\"vinai/bertweet-base\", use_fast=True)\n",
    "model = AutoModel.from_pretrained(\"vinai/bertweet-base\")\n",
    "model.eval()  # Set to evaluation mode\n",
    "\n",
    "def bertweet_corpus2vec(corpus, tokenizer, model, max_length=128):\n",
    "    \"\"\"\n",
    "    Generate sentence embeddings for a list of documents using the [CLS] token from BERTweet.\n",
    "\n",
    "    Parameters:\n",
    "    corpus (list): List of raw text documents (e.g., tweets).\n",
    "    tokenizer (transformers.PreTrainedTokenizer): Tokenizer for BERTweet.\n",
    "    model (transformers.PreTrainedModel): Pretrained BERTweet model.\n",
    "    max_length (int): Maximum token length to truncate/pad each document.\n",
    "\n",
    "    Returns:\n",
    "    np.ndarray: Matrix of embeddings, one per document (shape: num_docs × hidden_size).\n",
    "    \"\"\"\n",
    "    embeddings = []\n",
    "    with torch.no_grad():\n",
    "        for doc in tqdm(corpus, desc=\"BERTweet Encoding\"):\n",
    "            inputs = tokenizer(\n",
    "                doc,\n",
    "                return_tensors=\"pt\",\n",
    "                padding=\"max_length\",\n",
    "                truncation=True,\n",
    "                max_length=max_length\n",
    "            )\n",
    "            outputs = model(**inputs)\n",
    "            cls_emb = outputs.last_hidden_state[:, 0, :].squeeze(0) \n",
    "            embeddings.append(cls_emb.cpu().numpy())\n",
    "    return np.vstack(embeddings)\n",
    "\n",
    "# Encode train and validation sets with original (raw) text\n",
    "X_train_bertweet = bertweet_corpus2vec(X_train_raw.tolist(), tokenizer, model)\n",
    "X_val_bertweet   = bertweet_corpus2vec(X_val_raw.tolist(), tokenizer, model)"
   ]
  },
  {
   "cell_type": "markdown",
   "id": "23245274",
   "metadata": {},
   "source": [
    "### 1.5.7. Universal Sentence Encoder (USE)"
   ]
  },
  {
   "cell_type": "code",
   "execution_count": 248,
   "id": "9662ff3f",
   "metadata": {},
   "outputs": [
    {
     "name": "stderr",
     "output_type": "stream",
     "text": [
      "USE Encoding: 100%|██████████| 7634/7634 [00:08<00:00, 881.09it/s]\n",
      "USE Encoding: 100%|██████████| 1909/1909 [00:02<00:00, 885.39it/s]\n"
     ]
    }
   ],
   "source": [
    "# Load pretrained Universal Sentence Encoder model\n",
    "use_model = hub.load(\"https://tfhub.dev/google/universal-sentence-encoder/4\")\n",
    "\n",
    "def use_corpus2vec(corpus):\n",
    "    \"\"\"\n",
    "    Generate sentence embeddings for a list of documents using the Universal Sentence Encoder.\n",
    "\n",
    "    Parameters:\n",
    "    corpus (list): List of raw text documents (e.g., tweets).\n",
    "\n",
    "    Returns:\n",
    "    np.ndarray: Matrix of embeddings, one per document (shape: num_docs × 512).\n",
    "    \"\"\"\n",
    "    embeddings = []\n",
    "    for doc in tqdm(corpus, desc=\"USE Encoding\"):\n",
    "        emb = use_model([doc])\n",
    "        embeddings.append(emb.numpy()[0])\n",
    "    return np.vstack(embeddings)\n",
    "\n",
    "# Encode train and validation sets with original (raw) text\n",
    "X_train_use = use_corpus2vec(X_train_raw.tolist())\n",
    "X_val_use = use_corpus2vec(X_val_raw.tolist())"
   ]
  },
  {
   "cell_type": "markdown",
   "id": "903bfcfe",
   "metadata": {},
   "source": [
    "<a class=\"anchor\" id=\"seven-bullet\"> \n",
    "<d style=\"color:white;\">\n",
    "\n",
    "## 1.6. SMOTE\n",
    "</a> \n",
    "</d>   "
   ]
  },
  {
   "cell_type": "markdown",
   "id": "3c8d3044",
   "metadata": {},
   "source": [
    "We are going to use SMOTE to handle data imbalance in some models where is not possible to apply class weights."
   ]
  },
  {
   "cell_type": "code",
   "execution_count": 249,
   "id": "a734830b",
   "metadata": {},
   "outputs": [
    {
     "name": "stdout",
     "output_type": "stream",
     "text": [
      "(7634,)\n",
      "(7634,)\n"
     ]
    }
   ],
   "source": [
    "# Juste to check if the trains have the same size and the smote will work\n",
    "print(X_train_raw.shape)\n",
    "print(y_train_raw.shape)"
   ]
  },
  {
   "cell_type": "code",
   "execution_count": 250,
   "id": "d0fae3ca",
   "metadata": {},
   "outputs": [],
   "source": [
    "smote = SMOTE(random_state=13)\n",
    "\n",
    "X_train_roberta_resampled, y_train_resampled = smote.fit_resample(X_train_roberta, y_train_raw)\n",
    "\n",
    "# X_train_glove_avg_resampled, y_train_resampled = smote.fit_resample(X_train_glove_avg, y_train)\n",
    "# X_train_emb_resampled, y_train_resampled = smote.fit_resample(X_train_emb, y_train)\n",
    "# X_train_bow_resampled, y_train_resampled = smote.fit_resample(X_train_bow, y_train)\n",
    "# X_train_tfidf_resampled, y_train_resampled = smote.fit_resample(X_train_tfidf, y_train)"
   ]
  },
  {
   "cell_type": "markdown",
   "id": "2838f694",
   "metadata": {},
   "source": [
    "<hr>\n",
    "<a class=\"anchor\" id=\"eight-bullet\"> \n",
    "<d style=\"color:white;\">\n",
    "\n",
    "# 2. Models\n",
    "</a> \n",
    "</d>   "
   ]
  },
  {
   "cell_type": "markdown",
   "id": "74c40dc2",
   "metadata": {},
   "source": [
    "<a class=\"anchor\" id=\"nine-bullet\"> \n",
    "<d style=\"color:white;\">\n",
    "\n",
    "## 2.1. Functions\n",
    "</a> \n",
    "</d>   "
   ]
  },
  {
   "cell_type": "markdown",
   "id": "04202194",
   "metadata": {},
   "source": [
    "### 2.1.1. Function for evaluation of the model"
   ]
  },
  {
   "cell_type": "code",
   "execution_count": 251,
   "id": "0b1c74d2",
   "metadata": {},
   "outputs": [],
   "source": [
    "def evaluate_model_predictions(y_pred_train, y_pred_val, y_train = y_train, y_val = y_val, show_confusion_matrix = True, show_classification_report = True):\n",
    "    \"\"\"\n",
    "    Evaluate the performance of a classification model on training and validation sets.\n",
    "\n",
    "    Computes and prints accuracy, F1-score (macro), precision, and recall for both sets.\n",
    "    Optionally displays the confusion matrix and detailed classification report for the validation set.\n",
    "\n",
    "    Parameters:\n",
    "    y_pred_train (array-like): Predicted labels for the training set.\n",
    "    y_pred_val (array-like): Predicted labels for the validation set.\n",
    "    y_train (array-like, optional): True labels for the training set.\n",
    "    y_val (array-like, optional): True labels for the validation set.\n",
    "    show_confusion_matrix (bool): If True, prints the confusion matrix for the validation set.\n",
    "    show_classification_report (bool): If True, prints the classification report for the validation set.\n",
    "\n",
    "    Returns:\n",
    "    tuple: A tuple containing:\n",
    "        - train_accuracy (float)\n",
    "        - train_f1 (float)\n",
    "        - val_accuracy (float)\n",
    "        - val_f1 (float)\n",
    "    \"\"\"\n",
    "    \n",
    "    # to get the accurancy and the macro f1 score of the model on the training set\n",
    "    train_accuracy = accuracy_score(y_train, y_pred_train)\n",
    "    train_f1 = f1_score(y_train, y_pred_train, average='macro')\n",
    "    \n",
    "    # to get the accurancy and the macro f1 score of the model on the validation set\n",
    "    val_accuracy = accuracy_score(y_val, y_pred_val)\n",
    "    val_f1 = f1_score(y_val, y_pred_val, average='macro')\n",
    "\n",
    "    # to get the precision and the recall of the model on the validation set\n",
    "    val_precision = precision_score(y_val, y_pred_val, average='macro')\n",
    "    val_recall = recall_score(y_val, y_pred_val, average='macro')\n",
    "\n",
    "    print(f\"Accuracy of train: {train_accuracy:.4f}\")\n",
    "    print(f\"F1 Macro (Train): {train_f1:.4f}\")\n",
    "    print(f\"Accuracy of val: {val_accuracy:.4f}\")\n",
    "    print(f\"\\033[1mF1 Macro (Val)\\033[0m: {val_f1:.4f}\")\n",
    "    print(f\"Precision (Val): {val_precision:.4f}\")\n",
    "    print(f\"Recall (Val): {val_recall:.4f}\")\n",
    "    \n",
    "    # to get the confusion matrix and the classification report of the model on the validation set\n",
    "    if show_confusion_matrix==True:\n",
    "        print('\\nConfusion Matrix for Validation Data:')    \n",
    "        print(confusion_matrix(y_val, y_pred_val))\n",
    "\n",
    "    if show_classification_report==True:\n",
    "        print('\\nClassification Report for Validation Data:')\n",
    "        print(classification_report(y_val, y_pred_val))\n",
    "\n",
    "    return val_accuracy, val_f1, val_precision, val_recall"
   ]
  },
  {
   "cell_type": "markdown",
   "id": "9ac1c34e",
   "metadata": {},
   "source": [
    "<a class=\"anchor\" id=\"ten-bullet\"> \n",
    "<d style=\"color:white;\">\n",
    "\n",
    "## 2.2. Models\n",
    "</a> \n",
    "</d> "
   ]
  },
  {
   "cell_type": "markdown",
   "id": "bcb340d2",
   "metadata": {},
   "source": [
    "In this section all different possible combinations of embeddings and well-known models will be tested."
   ]
  },
  {
   "cell_type": "markdown",
   "id": "8a210bd2",
   "metadata": {},
   "source": [
    "### 2.2.1. Naive Bayes"
   ]
  },
  {
   "cell_type": "markdown",
   "id": "7fbed8b5",
   "metadata": {},
   "source": [
    "#### With BOW"
   ]
  },
  {
   "cell_type": "code",
   "execution_count": 252,
   "id": "12797b9b",
   "metadata": {},
   "outputs": [
    {
     "name": "stdout",
     "output_type": "stream",
     "text": [
      "Accuracy of train: 0.8838\n",
      "F1 Macro (Train): 0.8475\n",
      "Accuracy of val: 0.7716\n",
      "\u001b[1mF1 Macro (Val)\u001b[0m: 0.6794\n",
      "Precision (Val): 0.6991\n",
      "Recall (Val): 0.6651\n",
      "\n",
      "Confusion Matrix for Validation Data:\n",
      "[[ 142   52   94]\n",
      " [  26  237  121]\n",
      " [  61   80 1087]]\n",
      "\n",
      "Classification Report for Validation Data:\n",
      "              precision    recall  f1-score   support\n",
      "\n",
      "           0       0.62      0.49      0.55       288\n",
      "           1       0.64      0.62      0.63       384\n",
      "           2       0.83      0.89      0.86      1228\n",
      "\n",
      "    accuracy                           0.77      1900\n",
      "   macro avg       0.70      0.67      0.68      1900\n",
      "weighted avg       0.76      0.77      0.77      1900\n",
      "\n"
     ]
    }
   ],
   "source": [
    "nb = MultinomialNB()\n",
    "nb.fit(X_train_bow, y_train)\n",
    "y_pred_train = nb.predict(X_train_bow)\n",
    "y_pred_val = nb.predict(X_val_bow)\n",
    "\n",
    "nb_bow_accuracy, nb_bow_f1_macro, nb_bow_precision, nb_bow_recall = evaluate_model_predictions(y_pred_train=y_pred_train, y_pred_val=y_pred_val)"
   ]
  },
  {
   "cell_type": "markdown",
   "id": "4fc3f273",
   "metadata": {},
   "source": [
    "#### With TF-IDF"
   ]
  },
  {
   "cell_type": "code",
   "execution_count": 253,
   "id": "41c676d2",
   "metadata": {},
   "outputs": [
    {
     "name": "stdout",
     "output_type": "stream",
     "text": [
      "Accuracy of train: 0.7838\n",
      "F1 Macro (Train): 0.6419\n",
      "Accuracy of val: 0.7353\n",
      "\u001b[1mF1 Macro (Val)\u001b[0m: 0.5351\n",
      "Precision (Val): 0.8240\n",
      "Recall (Val): 0.5023\n",
      "\n",
      "Confusion Matrix for Validation Data:\n",
      "[[  46   17  225]\n",
      " [   3  138  243]\n",
      " [   0   15 1213]]\n",
      "\n",
      "Classification Report for Validation Data:\n",
      "              precision    recall  f1-score   support\n",
      "\n",
      "           0       0.94      0.16      0.27       288\n",
      "           1       0.81      0.36      0.50       384\n",
      "           2       0.72      0.99      0.83      1228\n",
      "\n",
      "    accuracy                           0.74      1900\n",
      "   macro avg       0.82      0.50      0.54      1900\n",
      "weighted avg       0.77      0.74      0.68      1900\n",
      "\n"
     ]
    }
   ],
   "source": [
    "nb = MultinomialNB()\n",
    "nb.fit(X_train_tfidf, y_train)\n",
    "y_pred_train = nb.predict(X_train_tfidf)\n",
    "y_pred_val = nb.predict(X_val_tfidf)\n",
    "\n",
    "# Results\n",
    "nb_idf_accuracy, nb_idf_f1_macro, nb_idf_precision, nb_idf_recall = evaluate_model_predictions(y_pred_train=y_pred_train, y_pred_val=y_pred_val)"
   ]
  },
  {
   "cell_type": "markdown",
   "id": "5f435ca5",
   "metadata": {},
   "source": [
    "#### With Word2Vec"
   ]
  },
  {
   "cell_type": "code",
   "execution_count": 254,
   "id": "9cd4ca5b",
   "metadata": {},
   "outputs": [
    {
     "name": "stdout",
     "output_type": "stream",
     "text": [
      "Accuracy of train: 0.3764\n",
      "F1 Macro (Train): 0.3538\n",
      "Accuracy of val: 0.3837\n",
      "\u001b[1mF1 Macro (Val)\u001b[0m: 0.3487\n",
      "Precision (Val): 0.4411\n",
      "Recall (Val): 0.4036\n",
      "\n",
      "Confusion Matrix for Validation Data:\n",
      "[[177  42  69]\n",
      " [231  82  71]\n",
      " [671  87 470]]\n",
      "\n",
      "Classification Report for Validation Data:\n",
      "              precision    recall  f1-score   support\n",
      "\n",
      "           0       0.16      0.61      0.26       288\n",
      "           1       0.39      0.21      0.28       384\n",
      "           2       0.77      0.38      0.51      1228\n",
      "\n",
      "    accuracy                           0.38      1900\n",
      "   macro avg       0.44      0.40      0.35      1900\n",
      "weighted avg       0.60      0.38      0.43      1900\n",
      "\n"
     ]
    }
   ],
   "source": [
    "gnb = GaussianNB()\n",
    "gnb.fit(X_train_w2v, y_train)\n",
    "y_pred_train = gnb.predict(X_train_w2v)\n",
    "y_pred_val = gnb.predict(X_val_w2v)\n",
    "\n",
    "# Results\n",
    "nb_w2v_accuracy, nb_w2v_f1_macro, nb_w2v_precision, nb_w2v_recall = evaluate_model_predictions(y_pred_train=y_pred_train, y_pred_val=y_pred_val)"
   ]
  },
  {
   "cell_type": "markdown",
   "id": "35ff8372",
   "metadata": {},
   "source": [
    "#### With GloVe"
   ]
  },
  {
   "cell_type": "code",
   "execution_count": 255,
   "id": "105bc861",
   "metadata": {},
   "outputs": [
    {
     "name": "stdout",
     "output_type": "stream",
     "text": [
      "Accuracy of train: 0.6356\n",
      "F1 Macro (Train): 0.5462\n",
      "Accuracy of val: 0.6389\n",
      "\u001b[1mF1 Macro (Val)\u001b[0m: 0.5456\n",
      "Precision (Val): 0.5374\n",
      "Recall (Val): 0.5599\n",
      "\n",
      "Confusion Matrix for Validation Data:\n",
      "[[122  65 101]\n",
      " [ 67 205 112]\n",
      " [141 200 887]]\n",
      "\n",
      "Classification Report for Validation Data:\n",
      "              precision    recall  f1-score   support\n",
      "\n",
      "           0       0.37      0.42      0.39       288\n",
      "           1       0.44      0.53      0.48       384\n",
      "           2       0.81      0.72      0.76      1228\n",
      "\n",
      "    accuracy                           0.64      1900\n",
      "   macro avg       0.54      0.56      0.55      1900\n",
      "weighted avg       0.67      0.64      0.65      1900\n",
      "\n"
     ]
    }
   ],
   "source": [
    "gnb = GaussianNB()\n",
    "gnb.fit(X_train_glove_avg, y_train)\n",
    "y_pred_train = gnb.predict(X_train_glove_avg)\n",
    "y_pred_val = gnb.predict(X_val_glove_avg)\n",
    "\n",
    "# Results\n",
    "nb_glove_accuracy, nb_glove_f1_macro, nb_glove_precision, nb_glove_recall = evaluate_model_predictions(y_pred_train=y_pred_train, y_pred_val=y_pred_val)"
   ]
  },
  {
   "cell_type": "markdown",
   "id": "e5469b05",
   "metadata": {},
   "source": [
    "#### With RoBERTa"
   ]
  },
  {
   "cell_type": "code",
   "execution_count": 256,
   "id": "a2c87fa6",
   "metadata": {},
   "outputs": [
    {
     "name": "stdout",
     "output_type": "stream",
     "text": [
      "Accuracy of train: 0.6504\n",
      "F1 Macro (Train): 0.5639\n",
      "Accuracy of val: 0.6590\n",
      "\u001b[1mF1 Macro (Val)\u001b[0m: 0.5653\n",
      "Precision (Val): 0.5558\n",
      "Recall (Val): 0.5853\n",
      "\n",
      "Confusion Matrix for Validation Data:\n",
      "[[122  79  87]\n",
      " [ 80 231  74]\n",
      " [171 160 905]]\n",
      "\n",
      "Classification Report for Validation Data:\n",
      "              precision    recall  f1-score   support\n",
      "\n",
      "           0       0.33      0.42      0.37       288\n",
      "           1       0.49      0.60      0.54       385\n",
      "           2       0.85      0.73      0.79      1236\n",
      "\n",
      "    accuracy                           0.66      1909\n",
      "   macro avg       0.56      0.59      0.57      1909\n",
      "weighted avg       0.70      0.66      0.67      1909\n",
      "\n"
     ]
    }
   ],
   "source": [
    "gnb = GaussianNB()\n",
    "gnb.fit(X_train_roberta, y_train_raw)\n",
    "y_pred_train = gnb.predict(X_train_roberta)\n",
    "y_pred_val = gnb.predict(X_val_roberta)\n",
    "\n",
    "# Results\n",
    "nb_roberta_accuracy, nb_roberta_f1_macro, nb_roberta_precision, nb_roberta_recall = evaluate_model_predictions(y_pred_train=y_pred_train, y_pred_val=y_pred_val, y_train = y_train_raw, y_val = y_val_raw)"
   ]
  },
  {
   "cell_type": "markdown",
   "id": "7faeb342",
   "metadata": {},
   "source": [
    "#### With BERTweet"
   ]
  },
  {
   "cell_type": "code",
   "execution_count": 257,
   "id": "b976e5db",
   "metadata": {},
   "outputs": [
    {
     "name": "stdout",
     "output_type": "stream",
     "text": [
      "Accuracy of train: 0.6912\n",
      "F1 Macro (Train): 0.5965\n",
      "Accuracy of val: 0.7103\n",
      "\u001b[1mF1 Macro (Val)\u001b[0m: 0.6115\n",
      "Precision (Val): 0.6068\n",
      "Recall (Val): 0.6191\n",
      "\n",
      "Confusion Matrix for Validation Data:\n",
      "[[133  59  96]\n",
      " [ 72 227  86]\n",
      " [143  97 996]]\n",
      "\n",
      "Classification Report for Validation Data:\n",
      "              precision    recall  f1-score   support\n",
      "\n",
      "           0       0.38      0.46      0.42       288\n",
      "           1       0.59      0.59      0.59       385\n",
      "           2       0.85      0.81      0.83      1236\n",
      "\n",
      "    accuracy                           0.71      1909\n",
      "   macro avg       0.61      0.62      0.61      1909\n",
      "weighted avg       0.72      0.71      0.72      1909\n",
      "\n"
     ]
    }
   ],
   "source": [
    "gnb = GaussianNB()\n",
    "gnb.fit(X_train_bertweet, y_train_raw)\n",
    "y_pred_train = gnb.predict(X_train_bertweet)\n",
    "y_pred_val = gnb.predict(X_val_bertweet)\n",
    "\n",
    "# Results\n",
    "nb_bertweet_accuracy, nb_bertweet_f1_macro, nb_bertweet_precision, nb_bertweet_recall = evaluate_model_predictions(y_pred_train=y_pred_train, y_pred_val=y_pred_val, y_train = y_train_raw, y_val = y_val_raw)"
   ]
  },
  {
   "cell_type": "markdown",
   "id": "a7754294",
   "metadata": {},
   "source": [
    "#### With USE"
   ]
  },
  {
   "cell_type": "code",
   "execution_count": 258,
   "id": "6905c8b6",
   "metadata": {},
   "outputs": [
    {
     "name": "stdout",
     "output_type": "stream",
     "text": [
      "Accuracy of train: 0.6635\n",
      "F1 Macro (Train): 0.5916\n",
      "Accuracy of val: 0.6737\n",
      "\u001b[1mF1 Macro (Val)\u001b[0m: 0.5945\n",
      "Precision (Val): 0.5838\n",
      "Recall (Val): 0.6144\n",
      "\n",
      "Confusion Matrix for Validation Data:\n",
      "[[151  62  75]\n",
      " [ 63 224  98]\n",
      " [114 211 911]]\n",
      "\n",
      "Classification Report for Validation Data:\n",
      "              precision    recall  f1-score   support\n",
      "\n",
      "           0       0.46      0.52      0.49       288\n",
      "           1       0.45      0.58      0.51       385\n",
      "           2       0.84      0.74      0.79      1236\n",
      "\n",
      "    accuracy                           0.67      1909\n",
      "   macro avg       0.58      0.61      0.59      1909\n",
      "weighted avg       0.70      0.67      0.68      1909\n",
      "\n"
     ]
    }
   ],
   "source": [
    "gnb = GaussianNB()\n",
    "gnb.fit(X_train_use, y_train_raw)\n",
    "y_pred_train = gnb.predict(X_train_use)\n",
    "y_pred_val = gnb.predict(X_val_use)\n",
    "\n",
    "# Results\n",
    "nb_use_accuracy, nb_use_f1_macro, nb_use_precision, nb_use_recall = evaluate_model_predictions(y_pred_train=y_pred_train, y_pred_val=y_pred_val, y_train = y_train_raw, y_val = y_val_raw)"
   ]
  },
  {
   "cell_type": "markdown",
   "id": "1c328c3e",
   "metadata": {},
   "source": [
    "After testing the Naive Bayes model with our embedding techniques, we observed distinct performance patterns across the methods.\n",
    "\n",
    "Among all tested embeddings, the Bag of Words (BoW) representation yielded the best overall performance in terms of macro F1-score on the validation set, a crucial metric when handling imbalanced classes. It also achieved the highest recall, indicating better class coverage, and demonstrated strong robustness during training, with notably higher accuracy and F1-score than other methods.\n",
    "\n",
    "While TF-IDF delivered the highest precision, this came with a significant drop in recall and F1-score, suggesting that the model might be focusing too narrowly on distinctive terms, potentially overfitting the data.\n",
    "\n",
    "Pre-trained embeddings such as GloVe and Word2Vec underperformed when used with Gaussian Naive Bayes, likely due to the loss of contextual nuance when averaging embeddings.\n",
    "\n",
    "On the other hand, BERTweet and Universal Sentence Encoder (USE) embeddings presented an unusual behavior: they achieved higher accuracy on the validation set than on the training set. This could be due to noise or imbalance in the training data, or better generalization capacity over the validation set, and deserves further exploration.\n",
    "\n",
    "Overall, BoW is the most reliable and balanced embedding for this model, offering solid performance across all key metrics."
   ]
  },
  {
   "cell_type": "markdown",
   "id": "ab5b62cb",
   "metadata": {},
   "source": [
    "### 2.2.2. Logistic Regression "
   ]
  },
  {
   "cell_type": "markdown",
   "id": "33d63817",
   "metadata": {},
   "source": [
    "#### With BOW"
   ]
  },
  {
   "cell_type": "code",
   "execution_count": 259,
   "id": "b9720647",
   "metadata": {},
   "outputs": [
    {
     "name": "stdout",
     "output_type": "stream",
     "text": [
      "Accuracy of train: 0.9508\n",
      "F1 Macro (Train): 0.9397\n",
      "Accuracy of val: 0.7758\n",
      "\u001b[1mF1 Macro (Val)\u001b[0m: 0.6990\n",
      "Precision (Val): 0.6962\n",
      "Recall (Val): 0.7028\n",
      "\n",
      "Confusion Matrix for Validation Data:\n",
      "[[ 178   42   68]\n",
      " [  47  243   94]\n",
      " [  90   85 1053]]\n",
      "\n",
      "Classification Report for Validation Data:\n",
      "              precision    recall  f1-score   support\n",
      "\n",
      "           0       0.57      0.62      0.59       288\n",
      "           1       0.66      0.63      0.64       384\n",
      "           2       0.87      0.86      0.86      1228\n",
      "\n",
      "    accuracy                           0.78      1900\n",
      "   macro avg       0.70      0.70      0.70      1900\n",
      "weighted avg       0.78      0.78      0.78      1900\n",
      "\n"
     ]
    }
   ],
   "source": [
    "lr = LogisticRegression(max_iter=1000, class_weight='balanced')\n",
    "lr.fit(X_train_bow, y_train)\n",
    "y_pred_train = lr.predict(X_train_bow)\n",
    "y_pred_val = lr.predict(X_val_bow)\n",
    "\n",
    "# Results:\n",
    "lr_bow_accuracy, lr_bow_f1_macro, lr_bow_precision, lr_bow_recall = evaluate_model_predictions(y_pred_train=y_pred_train, y_pred_val =y_pred_val)"
   ]
  },
  {
   "cell_type": "markdown",
   "id": "11283f56",
   "metadata": {},
   "source": [
    "#### With TF-IDF"
   ]
  },
  {
   "cell_type": "code",
   "execution_count": 260,
   "id": "563a2293",
   "metadata": {},
   "outputs": [
    {
     "name": "stdout",
     "output_type": "stream",
     "text": [
      "Accuracy of train: 0.9057\n",
      "F1 Macro (Train): 0.8843\n",
      "Accuracy of val: 0.7784\n",
      "\u001b[1mF1 Macro (Val)\u001b[0m: 0.7028\n",
      "Precision (Val): 0.6994\n",
      "Recall (Val): 0.7074\n",
      "\n",
      "Confusion Matrix for Validation Data:\n",
      "[[ 181   41   66]\n",
      " [  48  244   92]\n",
      " [  89   85 1054]]\n",
      "\n",
      "Classification Report for Validation Data:\n",
      "              precision    recall  f1-score   support\n",
      "\n",
      "           0       0.57      0.63      0.60       288\n",
      "           1       0.66      0.64      0.65       384\n",
      "           2       0.87      0.86      0.86      1228\n",
      "\n",
      "    accuracy                           0.78      1900\n",
      "   macro avg       0.70      0.71      0.70      1900\n",
      "weighted avg       0.78      0.78      0.78      1900\n",
      "\n"
     ]
    }
   ],
   "source": [
    "lr = LogisticRegression(max_iter=1000, class_weight='balanced') \n",
    "lr.fit(X_train_tfidf, y_train)\n",
    "y_pred_train = lr.predict(X_train_tfidf)\n",
    "y_pred_val = lr.predict(X_val_tfidf)\n",
    "\n",
    "# Results:\n",
    "lr_idf_accuracy, lr_idf_f1_macro, lr_idf_precision, lr_idf_recall = evaluate_model_predictions(y_pred_train=y_pred_train, y_pred_val =y_pred_val)"
   ]
  },
  {
   "cell_type": "markdown",
   "id": "d7c380da",
   "metadata": {},
   "source": [
    "#### With Word2Vec"
   ]
  },
  {
   "cell_type": "code",
   "execution_count": 261,
   "id": "18aeee12",
   "metadata": {},
   "outputs": [
    {
     "name": "stdout",
     "output_type": "stream",
     "text": [
      "Accuracy of train: 0.5482\n",
      "F1 Macro (Train): 0.4550\n",
      "Accuracy of val: 0.5426\n",
      "\u001b[1mF1 Macro (Val)\u001b[0m: 0.4314\n",
      "Precision (Val): 0.4343\n",
      "Recall (Val): 0.4375\n",
      "\n",
      "Confusion Matrix for Validation Data:\n",
      "[[ 87  70 131]\n",
      " [104 135 145]\n",
      " [248 171 809]]\n",
      "\n",
      "Classification Report for Validation Data:\n",
      "              precision    recall  f1-score   support\n",
      "\n",
      "           0       0.20      0.30      0.24       288\n",
      "           1       0.36      0.35      0.36       384\n",
      "           2       0.75      0.66      0.70      1228\n",
      "\n",
      "    accuracy                           0.54      1900\n",
      "   macro avg       0.43      0.44      0.43      1900\n",
      "weighted avg       0.58      0.54      0.56      1900\n",
      "\n"
     ]
    }
   ],
   "source": [
    "clf = LogisticRegression(max_iter=1000, class_weight='balanced')\n",
    "clf.fit(X_train_w2v, y_train)\n",
    "y_pred_train = clf.predict(X_train_w2v)\n",
    "y_pred_val = clf.predict(X_val_w2v)\n",
    "\n",
    "lr_w2v_accuracy, lr_w2v_f1_macro, lr_w2v_precision, lr_w2v_recall = evaluate_model_predictions(y_pred_train=y_pred_train, y_pred_val =y_pred_val)"
   ]
  },
  {
   "cell_type": "markdown",
   "id": "39fe5b17",
   "metadata": {},
   "source": [
    "#### With GloVe"
   ]
  },
  {
   "cell_type": "code",
   "execution_count": 262,
   "id": "c3898061",
   "metadata": {},
   "outputs": [
    {
     "name": "stdout",
     "output_type": "stream",
     "text": [
      "Accuracy of train: 0.6331\n",
      "F1 Macro (Train): 0.5738\n",
      "Accuracy of val: 0.6284\n",
      "\u001b[1mF1 Macro (Val)\u001b[0m: 0.5627\n",
      "Precision (Val): 0.5520\n",
      "Recall (Val): 0.5998\n",
      "\n",
      "Confusion Matrix for Validation Data:\n",
      "[[159  61  68]\n",
      " [ 73 226  85]\n",
      " [206 213 809]]\n",
      "\n",
      "Classification Report for Validation Data:\n",
      "              precision    recall  f1-score   support\n",
      "\n",
      "           0       0.36      0.55      0.44       288\n",
      "           1       0.45      0.59      0.51       384\n",
      "           2       0.84      0.66      0.74      1228\n",
      "\n",
      "    accuracy                           0.63      1900\n",
      "   macro avg       0.55      0.60      0.56      1900\n",
      "weighted avg       0.69      0.63      0.65      1900\n",
      "\n"
     ]
    }
   ],
   "source": [
    "clf = LogisticRegression(max_iter=1000, class_weight='balanced')\n",
    "clf.fit(X_train_glove_avg, y_train)\n",
    "y_pred_train = clf.predict(X_train_glove_avg)\n",
    "y_pred_val = clf.predict(X_val_glove_avg)\n",
    "\n",
    "lr_glove_accuracy, lr_glove_f1_macro, lr_glove_precision, lr_glove_recall = evaluate_model_predictions(y_pred_train=y_pred_train, y_pred_val =y_pred_val)"
   ]
  },
  {
   "cell_type": "markdown",
   "id": "e53fc2b7",
   "metadata": {},
   "source": [
    "#### With RoBERTa"
   ]
  },
  {
   "cell_type": "code",
   "execution_count": 263,
   "id": "13996dd5",
   "metadata": {},
   "outputs": [
    {
     "name": "stdout",
     "output_type": "stream",
     "text": [
      "Accuracy of train: 0.8055\n",
      "F1 Macro (Train): 0.7636\n",
      "Accuracy of val: 0.7988\n",
      "\u001b[1mF1 Macro (Val)\u001b[0m: 0.7446\n",
      "Precision (Val): 0.7271\n",
      "Recall (Val): 0.7735\n",
      "\n",
      "Confusion Matrix for Validation Data:\n",
      "[[ 218   31   39]\n",
      " [  46  283   56]\n",
      " [ 125   87 1024]]\n",
      "\n",
      "Classification Report for Validation Data:\n",
      "              precision    recall  f1-score   support\n",
      "\n",
      "           0       0.56      0.76      0.64       288\n",
      "           1       0.71      0.74      0.72       385\n",
      "           2       0.92      0.83      0.87      1236\n",
      "\n",
      "    accuracy                           0.80      1909\n",
      "   macro avg       0.73      0.77      0.74      1909\n",
      "weighted avg       0.82      0.80      0.81      1909\n",
      "\n"
     ]
    }
   ],
   "source": [
    "# Train classifier with balanced class weights\n",
    "clf = LogisticRegression(max_iter=1000, class_weight='balanced')\n",
    "clf.fit(X_train_roberta, y_train_raw)\n",
    "\n",
    "# Predict and evaluate\n",
    "y_pred_train = clf.predict(X_train_roberta)\n",
    "y_pred_val = clf.predict(X_val_roberta)\n",
    "\n",
    "lr_roberta_accuracy, lr_roberta_f1_macro, lr_roberta_precision, lr_roberta_recall = evaluate_model_predictions(y_pred_train, y_pred_val, y_train=y_train_raw, y_val=y_val_raw)"
   ]
  },
  {
   "cell_type": "markdown",
   "id": "f3f0a93f",
   "metadata": {},
   "source": [
    "#### With BERTweet"
   ]
  },
  {
   "cell_type": "code",
   "execution_count": 264,
   "id": "60340750",
   "metadata": {},
   "outputs": [
    {
     "name": "stdout",
     "output_type": "stream",
     "text": [
      "Accuracy of train: 0.8101\n",
      "F1 Macro (Train): 0.7693\n",
      "Accuracy of val: 0.7837\n",
      "\u001b[1mF1 Macro (Val)\u001b[0m: 0.7300\n",
      "Precision (Val): 0.7096\n",
      "Recall (Val): 0.7616\n",
      "\n",
      "Confusion Matrix for Validation Data:\n",
      "[[210  37  41]\n",
      " [ 39 288  58]\n",
      " [125 113 998]]\n",
      "\n",
      "Classification Report for Validation Data:\n",
      "              precision    recall  f1-score   support\n",
      "\n",
      "           0       0.56      0.73      0.63       288\n",
      "           1       0.66      0.75      0.70       385\n",
      "           2       0.91      0.81      0.86      1236\n",
      "\n",
      "    accuracy                           0.78      1909\n",
      "   macro avg       0.71      0.76      0.73      1909\n",
      "weighted avg       0.81      0.78      0.79      1909\n",
      "\n"
     ]
    }
   ],
   "source": [
    "clf = LogisticRegression(max_iter=1000, class_weight='balanced')\n",
    "clf.fit(X_train_bertweet, y_train_raw)\n",
    "y_pred_train = clf.predict(X_train_bertweet)\n",
    "y_pred_val = clf.predict(X_val_bertweet)\n",
    "\n",
    "lr_bertweet_accuracy, lr_bertweet_f1_macro, lr_bertweet_precision, lr_bertweet_recall = evaluate_model_predictions(y_pred_train=y_pred_train, y_pred_val =y_pred_val, y_train=y_train_raw, y_val=y_val_raw)"
   ]
  },
  {
   "cell_type": "markdown",
   "id": "57713ff4",
   "metadata": {},
   "source": [
    "#### With USE"
   ]
  },
  {
   "cell_type": "code",
   "execution_count": 265,
   "id": "0cf8ea90",
   "metadata": {},
   "outputs": [
    {
     "name": "stdout",
     "output_type": "stream",
     "text": [
      "Accuracy of train: 0.7123\n",
      "F1 Macro (Train): 0.6591\n",
      "Accuracy of val: 0.6962\n",
      "\u001b[1mF1 Macro (Val)\u001b[0m: 0.6330\n",
      "Precision (Val): 0.6168\n",
      "Recall (Val): 0.6737\n",
      "\n",
      "Confusion Matrix for Validation Data:\n",
      "[[192  48  48]\n",
      " [ 75 243  67]\n",
      " [172 170 894]]\n",
      "\n",
      "Classification Report for Validation Data:\n",
      "              precision    recall  f1-score   support\n",
      "\n",
      "           0       0.44      0.67      0.53       288\n",
      "           1       0.53      0.63      0.57       385\n",
      "           2       0.89      0.72      0.80      1236\n",
      "\n",
      "    accuracy                           0.70      1909\n",
      "   macro avg       0.62      0.67      0.63      1909\n",
      "weighted avg       0.75      0.70      0.71      1909\n",
      "\n"
     ]
    }
   ],
   "source": [
    "clf = LogisticRegression(max_iter=1000, class_weight='balanced')\n",
    "clf.fit(X_train_use, y_train_raw)\n",
    "y_pred_train = clf.predict(X_train_use)\n",
    "y_pred_val = clf.predict(X_val_use)\n",
    "\n",
    "lr_use_accuracy, lr_use_f1_macro, lr_use_precision, lr_use_recall = evaluate_model_predictions(y_pred_train=y_pred_train, y_pred_val =y_pred_val, y_train=y_train_raw, y_val=y_val_raw)"
   ]
  },
  {
   "cell_type": "markdown",
   "id": "cabe188e",
   "metadata": {},
   "source": [
    "After evaluating the Logistic Regression model, among all combinations, RoBERTa showed the best overall performance. It achieved the highest accuracy (0.7988), macro F1-score (0.7446), precision, and recall, indicating not only confident predictions but also a strong ability to capture true positives across all classes.\n",
    "\n",
    "Close behind was BERTweet, which also delivered robust and balanced results (F1 Macro: 0.7300; Accuracy: 0.7837), showing that transformer-based sentence embeddings are particularly effective for this classification task. These models likely benefit from their pre-training on large and diverse textual data, which helps generalize well even to short texts like tweets.\n",
    "\n",
    "TF-IDF and BoW also maintained competitive performance, with very similar macro F1-scores (BoW: 0.6990, TF-IDF: 0.7028) and accuracy around 0.775–0.778. These traditional methods proved reliable, especially considering their simplicity and lower computational cost.\n",
    "\n",
    "On the other hand, Word2Vec and GloVe, when used with Logistic Regression, fell short compared to the other embeddings. GloVe showed moderate results (F1 Macro: 0.5627), while Word2Vec underperformed across all metrics. This suggests that averaging static word embeddings might be too simplistic for capturing the nuances in tweet-level sentiment, especially in short texts with high variability.\n",
    "\n",
    "Finally, Universal Sentence Encoder (USE) achieved a macro F1-score of 0.6330 and accuracy of 0.6962, placing it in the mid-range among the tested embeddings. While USE generalized reasonably well, it did not match the contextual richness of the transformer-based embeddings.\n",
    "\n",
    "In summary, RoBERTa combined with Logistic Regression delivered the most consistent and effective results, closely followed by BERTweet."
   ]
  },
  {
   "cell_type": "markdown",
   "id": "5a6bf6ba",
   "metadata": {},
   "source": [
    "### 2.2.3. KNN"
   ]
  },
  {
   "cell_type": "markdown",
   "id": "7acd1ed4",
   "metadata": {},
   "source": [
    "#### With BOW"
   ]
  },
  {
   "cell_type": "code",
   "execution_count": 266,
   "id": "3570fcb1",
   "metadata": {},
   "outputs": [
    {
     "name": "stdout",
     "output_type": "stream",
     "text": [
      "Accuracy of train: 0.8140\n",
      "F1 Macro (Train): 0.7225\n",
      "Accuracy of val: 0.7042\n",
      "\u001b[1mF1 Macro (Val)\u001b[0m: 0.5258\n",
      "Precision (Val): 0.6506\n",
      "Recall (Val): 0.4980\n",
      "\n",
      "Confusion Matrix for Validation Data:\n",
      "[[  66   31  191]\n",
      " [  14  128  242]\n",
      " [  22   62 1144]]\n",
      "\n",
      "Classification Report for Validation Data:\n",
      "              precision    recall  f1-score   support\n",
      "\n",
      "           0       0.65      0.23      0.34       288\n",
      "           1       0.58      0.33      0.42       384\n",
      "           2       0.73      0.93      0.82      1228\n",
      "\n",
      "    accuracy                           0.70      1900\n",
      "   macro avg       0.65      0.50      0.53      1900\n",
      "weighted avg       0.68      0.70      0.66      1900\n",
      "\n"
     ]
    }
   ],
   "source": [
    "knn = KNeighborsClassifier(n_neighbors=5) \n",
    "knn.fit(X_train_bow, y_train)\n",
    "y_pred_train = knn.predict(X_train_bow)\n",
    "y_pred_val = knn.predict(X_val_bow)\n",
    "\n",
    "knn_bow_accuracy, knn_bow_f1_macro, knn_bow_precision, knn_bow_recall = evaluate_model_predictions(y_pred_train=y_pred_train, y_pred_val=y_pred_val)"
   ]
  },
  {
   "cell_type": "markdown",
   "id": "2369763f",
   "metadata": {},
   "source": [
    "#### With TF-IDF"
   ]
  },
  {
   "cell_type": "code",
   "execution_count": 267,
   "id": "300d8a5e",
   "metadata": {},
   "outputs": [
    {
     "name": "stdout",
     "output_type": "stream",
     "text": [
      "Accuracy of train: 0.8283\n",
      "F1 Macro (Train): 0.7424\n",
      "Accuracy of val: 0.7037\n",
      "\u001b[1mF1 Macro (Val)\u001b[0m: 0.4740\n",
      "Precision (Val): 0.7296\n",
      "Recall (Val): 0.4544\n",
      "\n",
      "Confusion Matrix for Validation Data:\n",
      "[[  48    8  232]\n",
      " [  14   82  288]\n",
      " [   5   16 1207]]\n",
      "\n",
      "Classification Report for Validation Data:\n",
      "              precision    recall  f1-score   support\n",
      "\n",
      "           0       0.72      0.17      0.27       288\n",
      "           1       0.77      0.21      0.33       384\n",
      "           2       0.70      0.98      0.82      1228\n",
      "\n",
      "    accuracy                           0.70      1900\n",
      "   macro avg       0.73      0.45      0.47      1900\n",
      "weighted avg       0.72      0.70      0.64      1900\n",
      "\n"
     ]
    }
   ],
   "source": [
    "knn = KNeighborsClassifier(n_neighbors=5) \n",
    "knn.fit(X_train_tfidf, y_train)\n",
    "y_pred_train = knn.predict(X_train_tfidf)\n",
    "y_pred_val = knn.predict(X_val_tfidf)\n",
    "\n",
    "knn_idf_accuracy, knn_idf_f1_macro, knn_idf_precision, knn_idf_recall = evaluate_model_predictions(y_pred_train=y_pred_train, y_pred_val =y_pred_val)"
   ]
  },
  {
   "cell_type": "markdown",
   "id": "9f9e1e2d",
   "metadata": {},
   "source": [
    "#### With Word2Vec"
   ]
  },
  {
   "cell_type": "code",
   "execution_count": 268,
   "id": "b7d71ace",
   "metadata": {},
   "outputs": [
    {
     "name": "stdout",
     "output_type": "stream",
     "text": [
      "Accuracy of train: 0.7499\n",
      "F1 Macro (Train): 0.6336\n",
      "Accuracy of val: 0.6279\n",
      "\u001b[1mF1 Macro (Val)\u001b[0m: 0.4446\n",
      "Precision (Val): 0.4613\n",
      "Recall (Val): 0.4391\n",
      "\n",
      "Confusion Matrix for Validation Data:\n",
      "[[  54   63  171]\n",
      " [  62  113  209]\n",
      " [  86  116 1026]]\n",
      "\n",
      "Classification Report for Validation Data:\n",
      "              precision    recall  f1-score   support\n",
      "\n",
      "           0       0.27      0.19      0.22       288\n",
      "           1       0.39      0.29      0.33       384\n",
      "           2       0.73      0.84      0.78      1228\n",
      "\n",
      "    accuracy                           0.63      1900\n",
      "   macro avg       0.46      0.44      0.44      1900\n",
      "weighted avg       0.59      0.63      0.60      1900\n",
      "\n"
     ]
    }
   ],
   "source": [
    "knn = KNeighborsClassifier(n_neighbors=5) \n",
    "knn.fit(X_train_w2v, y_train)\n",
    "y_pred_train = knn.predict(X_train_w2v)\n",
    "y_pred_val = knn.predict(X_val_w2v)\n",
    "\n",
    "knn_w2v_accuracy, knn_w2v_f1_macro, knn_w2v_precision, knn_w2v_recall = evaluate_model_predictions(y_pred_train=y_pred_train, y_pred_val =y_pred_val)"
   ]
  },
  {
   "cell_type": "markdown",
   "id": "989e666a",
   "metadata": {},
   "source": [
    "#### With GloVe"
   ]
  },
  {
   "cell_type": "code",
   "execution_count": 269,
   "id": "5e2d7624",
   "metadata": {},
   "outputs": [
    {
     "name": "stdout",
     "output_type": "stream",
     "text": [
      "Accuracy of train: 0.8045\n",
      "F1 Macro (Train): 0.7290\n",
      "Accuracy of val: 0.7053\n",
      "\u001b[1mF1 Macro (Val)\u001b[0m: 0.5891\n",
      "Precision (Val): 0.5954\n",
      "Recall (Val): 0.5843\n",
      "\n",
      "Confusion Matrix for Validation Data:\n",
      "[[ 119   65  104]\n",
      " [  63  193  128]\n",
      " [  69  131 1028]]\n",
      "\n",
      "Classification Report for Validation Data:\n",
      "              precision    recall  f1-score   support\n",
      "\n",
      "           0       0.47      0.41      0.44       288\n",
      "           1       0.50      0.50      0.50       384\n",
      "           2       0.82      0.84      0.83      1228\n",
      "\n",
      "    accuracy                           0.71      1900\n",
      "   macro avg       0.60      0.58      0.59      1900\n",
      "weighted avg       0.70      0.71      0.70      1900\n",
      "\n"
     ]
    }
   ],
   "source": [
    "knn = KNeighborsClassifier(n_neighbors=5) \n",
    "knn.fit(X_train_glove_avg, y_train)\n",
    "y_pred_train = knn.predict(X_train_glove_avg)\n",
    "y_pred_val = knn.predict(X_val_glove_avg)\n",
    "\n",
    "knn_glove_accuracy, knn_glove_f1_macro, knn_glove_precision, knn_glove_recall = evaluate_model_predictions(y_pred_train=y_pred_train, y_pred_val =y_pred_val)"
   ]
  },
  {
   "cell_type": "markdown",
   "id": "ae2e5987",
   "metadata": {},
   "source": [
    "#### With RoBERTa"
   ]
  },
  {
   "cell_type": "code",
   "execution_count": 270,
   "id": "3233174c",
   "metadata": {},
   "outputs": [
    {
     "name": "stdout",
     "output_type": "stream",
     "text": [
      "Accuracy of train: 0.8495\n",
      "F1 Macro (Train): 0.7811\n",
      "Accuracy of val: 0.7774\n",
      "\u001b[1mF1 Macro (Val)\u001b[0m: 0.6686\n",
      "Precision (Val): 0.6787\n",
      "Recall (Val): 0.6605\n",
      "\n",
      "Confusion Matrix for Validation Data:\n",
      "[[ 130   67   91]\n",
      " [  57  243   85]\n",
      " [  64   61 1111]]\n",
      "\n",
      "Classification Report for Validation Data:\n",
      "              precision    recall  f1-score   support\n",
      "\n",
      "           0       0.52      0.45      0.48       288\n",
      "           1       0.65      0.63      0.64       385\n",
      "           2       0.86      0.90      0.88      1236\n",
      "\n",
      "    accuracy                           0.78      1909\n",
      "   macro avg       0.68      0.66      0.67      1909\n",
      "weighted avg       0.77      0.78      0.77      1909\n",
      "\n"
     ]
    }
   ],
   "source": [
    "clf_knn = KNeighborsClassifier(n_neighbors=5)\n",
    "clf_knn.fit(X_train_roberta, y_train_raw)\n",
    "y_pred_train = clf_knn.predict(X_train_roberta)\n",
    "y_pred_val = clf_knn.predict(X_val_roberta)\n",
    "\n",
    "knn_roberta_accuracy, knn_roberta_f1_macro, knn_roberta_precision, knn_roberta_recall = evaluate_model_predictions(y_pred_train, y_pred_val, y_train=y_train_raw, y_val=y_val_raw)"
   ]
  },
  {
   "cell_type": "markdown",
   "id": "d90df5dc",
   "metadata": {},
   "source": [
    "#### With BERTweet"
   ]
  },
  {
   "cell_type": "code",
   "execution_count": 271,
   "id": "3243c22f",
   "metadata": {},
   "outputs": [
    {
     "name": "stdout",
     "output_type": "stream",
     "text": [
      "Accuracy of train: 0.8318\n",
      "F1 Macro (Train): 0.7499\n",
      "Accuracy of val: 0.7585\n",
      "\u001b[1mF1 Macro (Val)\u001b[0m: 0.6278\n",
      "Precision (Val): 0.6565\n",
      "Recall (Val): 0.6101\n",
      "\n",
      "Confusion Matrix for Validation Data:\n",
      "[[ 109   67  112]\n",
      " [  56  206  123]\n",
      " [  45   58 1133]]\n",
      "\n",
      "Classification Report for Validation Data:\n",
      "              precision    recall  f1-score   support\n",
      "\n",
      "           0       0.52      0.38      0.44       288\n",
      "           1       0.62      0.54      0.58       385\n",
      "           2       0.83      0.92      0.87      1236\n",
      "\n",
      "    accuracy                           0.76      1909\n",
      "   macro avg       0.66      0.61      0.63      1909\n",
      "weighted avg       0.74      0.76      0.75      1909\n",
      "\n"
     ]
    }
   ],
   "source": [
    "clf_knn = KNeighborsClassifier(n_neighbors=5)\n",
    "clf_knn.fit(X_train_bertweet, y_train_raw)\n",
    "y_pred_train = clf_knn.predict(X_train_bertweet)\n",
    "y_pred_val = clf_knn.predict(X_val_bertweet)\n",
    "\n",
    "knn_bertweet_accuracy, knn_bertweet_f1_macro, knn_bertweet_precision, knn_bertweet_recall = evaluate_model_predictions(y_pred_train, y_pred_val, y_train=y_train_raw, y_val=y_val_raw)"
   ]
  },
  {
   "cell_type": "markdown",
   "id": "46622233",
   "metadata": {},
   "source": [
    "#### With USE"
   ]
  },
  {
   "cell_type": "code",
   "execution_count": 272,
   "id": "5c950a5d",
   "metadata": {},
   "outputs": [
    {
     "name": "stdout",
     "output_type": "stream",
     "text": [
      "Accuracy of train: 0.8162\n",
      "F1 Macro (Train): 0.7481\n",
      "Accuracy of val: 0.7239\n",
      "\u001b[1mF1 Macro (Val)\u001b[0m: 0.6278\n",
      "Precision (Val): 0.6210\n",
      "Recall (Val): 0.6361\n",
      "\n",
      "Confusion Matrix for Validation Data:\n",
      "[[ 147   65   76]\n",
      " [  70  223   92]\n",
      " [  98  126 1012]]\n",
      "\n",
      "Classification Report for Validation Data:\n",
      "              precision    recall  f1-score   support\n",
      "\n",
      "           0       0.47      0.51      0.49       288\n",
      "           1       0.54      0.58      0.56       385\n",
      "           2       0.86      0.82      0.84      1236\n",
      "\n",
      "    accuracy                           0.72      1909\n",
      "   macro avg       0.62      0.64      0.63      1909\n",
      "weighted avg       0.73      0.72      0.73      1909\n",
      "\n"
     ]
    }
   ],
   "source": [
    "clf_knn = KNeighborsClassifier(n_neighbors=5)\n",
    "clf_knn.fit(X_train_use, y_train_raw)\n",
    "y_pred_train = clf_knn.predict(X_train_use)\n",
    "y_pred_val = clf_knn.predict(X_val_use)\n",
    "\n",
    "knn_use_accuracy, knn_use_f1_macro, knn_use_precision, knn_use_recall = evaluate_model_predictions(y_pred_train, y_pred_val, y_train=y_train_raw, y_val=y_val_raw)"
   ]
  },
  {
   "cell_type": "markdown",
   "id": "667d117c",
   "metadata": {},
   "source": [
    "For the K-Nearest Neighbors (KNN) model we applied the same evaluation strategy used for previous models.\n",
    "\n",
    "Although RoBERTa once again delivered strong performance (F1 Macro: 0.6686, Accuracy: 0.7774), it no longer held a clear and consistent advantage over all other embeddings as seen with Logistic Regression. In fact, BERTweet and USE embeddings also showed competitive results, with F1 Macro scores of 0.6278 and 0.6278 respectively, and similar validation accuracy.\n",
    "\n",
    "Interestingly, TF-IDF and BoW, which previously performed well with Logistic Regression, showed weaker results with KNN, especially in macro F1-score (0.4740 and 0.5258, respectively), suggesting that distance-based classifiers are less effective with high-dimensional sparse representations. This is consistent with known limitations of KNN when handling sparse vectors like those generated by traditional count-based models.\n",
    "\n",
    "As for Word2Vec and GloVe, they again underperformed compared to contextual embeddings, with Word2Vec yielding the lowest F1 Macro (0.4446). This confirms the previous observation that these static embeddings, especially when averaged, are less capable of capturing nuanced semantic differences at sentence level, a crucial aspect when working with short texts like tweets.\n",
    "\n",
    "In summary, RoBERTa remained among the top-performing embeddings, its superiority was not as pronounced under the KNN classifier."
   ]
  },
  {
   "cell_type": "markdown",
   "id": "df68d797",
   "metadata": {},
   "source": [
    "### 2.2.4. MLP"
   ]
  },
  {
   "cell_type": "markdown",
   "id": "30641282",
   "metadata": {},
   "source": [
    "#### With BOW"
   ]
  },
  {
   "cell_type": "code",
   "execution_count": 273,
   "id": "253225b3",
   "metadata": {},
   "outputs": [
    {
     "name": "stdout",
     "output_type": "stream",
     "text": [
      "Accuracy of train: 0.9957\n",
      "F1 Macro (Train): 0.9935\n",
      "Accuracy of val: 0.6974\n",
      "\u001b[1mF1 Macro (Val)\u001b[0m: 0.6072\n",
      "Precision (Val): 0.5992\n",
      "Recall (Val): 0.6176\n",
      "\n",
      "Confusion Matrix for Validation Data:\n",
      "[[143  64  81]\n",
      " [ 50 220 114]\n",
      " [136 130 962]]\n",
      "\n",
      "Classification Report for Validation Data:\n",
      "              precision    recall  f1-score   support\n",
      "\n",
      "           0       0.43      0.50      0.46       288\n",
      "           1       0.53      0.57      0.55       384\n",
      "           2       0.83      0.78      0.81      1228\n",
      "\n",
      "    accuracy                           0.70      1900\n",
      "   macro avg       0.60      0.62      0.61      1900\n",
      "weighted avg       0.71      0.70      0.70      1900\n",
      "\n"
     ]
    }
   ],
   "source": [
    "mlp = MLPClassifier(solver='adam', hidden_layer_sizes=(2,2), activation='logistic', max_iter=1000, random_state=1)\n",
    "mlp.fit(X_train_bow, y_train)\n",
    "y_pred_train = mlp.predict(X_train_bow)\n",
    "y_pred_val = mlp.predict(X_val_bow)\n",
    "\n",
    "mlp_bow_accuracy, mlp_bow_f1_macro, mlp_bow_precision, mlp_bow_recall = evaluate_model_predictions(y_pred_train=y_pred_train, y_pred_val=y_pred_val)"
   ]
  },
  {
   "cell_type": "markdown",
   "id": "fb39b187",
   "metadata": {},
   "source": [
    "#### With TF-IDF"
   ]
  },
  {
   "cell_type": "code",
   "execution_count": 274,
   "id": "4873ab96",
   "metadata": {},
   "outputs": [
    {
     "name": "stdout",
     "output_type": "stream",
     "text": [
      "Accuracy of train: 0.9958\n",
      "F1 Macro (Train): 0.9934\n",
      "Accuracy of val: 0.6674\n",
      "\u001b[1mF1 Macro (Val)\u001b[0m: 0.5597\n",
      "Precision (Val): 0.5542\n",
      "Recall (Val): 0.5685\n",
      "\n",
      "Confusion Matrix for Validation Data:\n",
      "[[105  83 100]\n",
      " [ 52 220 112]\n",
      " [130 155 943]]\n",
      "\n",
      "Classification Report for Validation Data:\n",
      "              precision    recall  f1-score   support\n",
      "\n",
      "           0       0.37      0.36      0.37       288\n",
      "           1       0.48      0.57      0.52       384\n",
      "           2       0.82      0.77      0.79      1228\n",
      "\n",
      "    accuracy                           0.67      1900\n",
      "   macro avg       0.55      0.57      0.56      1900\n",
      "weighted avg       0.68      0.67      0.67      1900\n",
      "\n"
     ]
    }
   ],
   "source": [
    "mlp = MLPClassifier(solver='adam', hidden_layer_sizes=(2,2), activation='logistic', max_iter=1000, random_state=1)\n",
    "mlp.fit(X_train_tfidf, y_train)\n",
    "y_pred_train = mlp.predict(X_train_tfidf)\n",
    "y_pred_val = mlp.predict(X_val_tfidf)\n",
    "\n",
    "mlp_idf_accuracy, mlp_idf_f1_macro, mlp_idf_precision, mlp_idf_recall = evaluate_model_predictions(y_pred_train=y_pred_train, y_pred_val =y_pred_val)"
   ]
  },
  {
   "cell_type": "markdown",
   "id": "9b7cd39a",
   "metadata": {},
   "source": [
    "#### With Word2Vec"
   ]
  },
  {
   "cell_type": "code",
   "execution_count": 275,
   "id": "48209650",
   "metadata": {},
   "outputs": [
    {
     "name": "stdout",
     "output_type": "stream",
     "text": [
      "Accuracy of train: 0.6638\n",
      "F1 Macro (Train): 0.3626\n",
      "Accuracy of val: 0.6563\n",
      "\u001b[1mF1 Macro (Val)\u001b[0m: 0.3492\n",
      "Precision (Val): 0.3702\n",
      "Recall (Val): 0.3797\n",
      "\n",
      "Confusion Matrix for Validation Data:\n",
      "[[   0   40  248]\n",
      " [   0   69  315]\n",
      " [   0   50 1178]]\n",
      "\n",
      "Classification Report for Validation Data:\n",
      "              precision    recall  f1-score   support\n",
      "\n",
      "           0       0.00      0.00      0.00       288\n",
      "           1       0.43      0.18      0.25       384\n",
      "           2       0.68      0.96      0.79      1228\n",
      "\n",
      "    accuracy                           0.66      1900\n",
      "   macro avg       0.37      0.38      0.35      1900\n",
      "weighted avg       0.53      0.66      0.56      1900\n",
      "\n"
     ]
    },
    {
     "name": "stderr",
     "output_type": "stream",
     "text": [
      "c:\\Users\\paulo\\anaconda3\\Lib\\site-packages\\sklearn\\metrics\\_classification.py:1531: UndefinedMetricWarning: Precision is ill-defined and being set to 0.0 in labels with no predicted samples. Use `zero_division` parameter to control this behavior.\n",
      "  _warn_prf(average, modifier, f\"{metric.capitalize()} is\", len(result))\n",
      "c:\\Users\\paulo\\anaconda3\\Lib\\site-packages\\sklearn\\metrics\\_classification.py:1531: UndefinedMetricWarning: Precision is ill-defined and being set to 0.0 in labels with no predicted samples. Use `zero_division` parameter to control this behavior.\n",
      "  _warn_prf(average, modifier, f\"{metric.capitalize()} is\", len(result))\n",
      "c:\\Users\\paulo\\anaconda3\\Lib\\site-packages\\sklearn\\metrics\\_classification.py:1531: UndefinedMetricWarning: Precision is ill-defined and being set to 0.0 in labels with no predicted samples. Use `zero_division` parameter to control this behavior.\n",
      "  _warn_prf(average, modifier, f\"{metric.capitalize()} is\", len(result))\n",
      "c:\\Users\\paulo\\anaconda3\\Lib\\site-packages\\sklearn\\metrics\\_classification.py:1531: UndefinedMetricWarning: Precision is ill-defined and being set to 0.0 in labels with no predicted samples. Use `zero_division` parameter to control this behavior.\n",
      "  _warn_prf(average, modifier, f\"{metric.capitalize()} is\", len(result))\n"
     ]
    }
   ],
   "source": [
    "mlp = MLPClassifier(solver='adam', hidden_layer_sizes=(2,2), activation='logistic',max_iter=1000, random_state=1)\n",
    "mlp.fit(X_train_w2v, y_train)\n",
    "y_pred_train = mlp.predict(X_train_w2v)\n",
    "y_pred_val = mlp.predict(X_val_w2v)\n",
    "\n",
    "mlp_w2v_accuracy, mlp_w2v_f1_macro, mlp_w2v_precision, mlp_w2v_recall = evaluate_model_predictions(y_pred_train=y_pred_train, y_pred_val =y_pred_val)"
   ]
  },
  {
   "cell_type": "markdown",
   "id": "67d5c49f",
   "metadata": {},
   "source": [
    "#### With GloVe"
   ]
  },
  {
   "cell_type": "code",
   "execution_count": 276,
   "id": "0ea7da72",
   "metadata": {},
   "outputs": [
    {
     "name": "stdout",
     "output_type": "stream",
     "text": [
      "Accuracy of train: 0.9984\n",
      "F1 Macro (Train): 0.9975\n",
      "Accuracy of val: 0.7384\n",
      "\u001b[1mF1 Macro (Val)\u001b[0m: 0.6367\n",
      "Precision (Val): 0.6530\n",
      "Recall (Val): 0.6245\n",
      "\n",
      "Confusion Matrix for Validation Data:\n",
      "[[ 135   39  114]\n",
      " [  40  208  136]\n",
      " [  94   74 1060]]\n",
      "\n",
      "Classification Report for Validation Data:\n",
      "              precision    recall  f1-score   support\n",
      "\n",
      "           0       0.50      0.47      0.48       288\n",
      "           1       0.65      0.54      0.59       384\n",
      "           2       0.81      0.86      0.84      1228\n",
      "\n",
      "    accuracy                           0.74      1900\n",
      "   macro avg       0.65      0.62      0.64      1900\n",
      "weighted avg       0.73      0.74      0.73      1900\n",
      "\n"
     ]
    }
   ],
   "source": [
    "clf_mlp = MLPClassifier(hidden_layer_sizes=(256, 128), max_iter=1000, random_state=42)\n",
    "clf_mlp.fit(X_train_glove_avg, y_train)\n",
    "y_pred_train = clf_mlp.predict(X_train_glove_avg)\n",
    "y_pred_val = clf_mlp.predict(X_val_glove_avg)\n",
    "\n",
    "mlp_glove_accuracy, mlp_glove_f1_macro, mlp_glove_precision, mlp_glove_recall = evaluate_model_predictions(y_pred_train=y_pred_train, y_pred_val =y_pred_val)"
   ]
  },
  {
   "cell_type": "markdown",
   "id": "d371580e",
   "metadata": {},
   "source": [
    "#### With RoBERTa"
   ]
  },
  {
   "cell_type": "code",
   "execution_count": 277,
   "id": "733dab0b",
   "metadata": {},
   "outputs": [
    {
     "name": "stdout",
     "output_type": "stream",
     "text": [
      "Accuracy of train: 0.9999\n",
      "F1 Macro (Train): 0.9997\n",
      "Accuracy of val: 0.8339\n",
      "\u001b[1mF1 Macro (Val)\u001b[0m: 0.7697\n",
      "Precision (Val): 0.7837\n",
      "Recall (Val): 0.7578\n",
      "\n",
      "Confusion Matrix for Validation Data:\n",
      "[[ 190   25   73]\n",
      " [  33  268   84]\n",
      " [  50   52 1134]]\n",
      "\n",
      "Classification Report for Validation Data:\n",
      "              precision    recall  f1-score   support\n",
      "\n",
      "           0       0.70      0.66      0.68       288\n",
      "           1       0.78      0.70      0.73       385\n",
      "           2       0.88      0.92      0.90      1236\n",
      "\n",
      "    accuracy                           0.83      1909\n",
      "   macro avg       0.78      0.76      0.77      1909\n",
      "weighted avg       0.83      0.83      0.83      1909\n",
      "\n"
     ]
    }
   ],
   "source": [
    "clf_mlp = MLPClassifier(hidden_layer_sizes=(256, 128), max_iter=1000, random_state=42)\n",
    "clf_mlp.fit(X_train_roberta, y_train_raw)\n",
    "y_pred_train = clf_mlp.predict(X_train_roberta)\n",
    "y_pred_val = clf_mlp.predict(X_val_roberta)\n",
    "\n",
    "mlp_roberta_accuracy, mlp_roberta_f1_macro, mlp_roberta_precision, mlp_roberta_recall = evaluate_model_predictions(y_pred_train, y_pred_val, y_train=y_train_raw, y_val=y_val_raw)"
   ]
  },
  {
   "cell_type": "markdown",
   "id": "08a92954",
   "metadata": {},
   "source": [
    "#### With Bertweet"
   ]
  },
  {
   "cell_type": "code",
   "execution_count": 278,
   "id": "b92c19bd",
   "metadata": {},
   "outputs": [
    {
     "name": "stdout",
     "output_type": "stream",
     "text": [
      "Accuracy of train: 0.9952\n",
      "F1 Macro (Train): 0.9937\n",
      "Accuracy of val: 0.8083\n",
      "\u001b[1mF1 Macro (Val)\u001b[0m: 0.7314\n",
      "Precision (Val): 0.7597\n",
      "Recall (Val): 0.7120\n",
      "\n",
      "Confusion Matrix for Validation Data:\n",
      "[[ 160   42   86]\n",
      " [  20  258  107]\n",
      " [  38   73 1125]]\n",
      "\n",
      "Classification Report for Validation Data:\n",
      "              precision    recall  f1-score   support\n",
      "\n",
      "           0       0.73      0.56      0.63       288\n",
      "           1       0.69      0.67      0.68       385\n",
      "           2       0.85      0.91      0.88      1236\n",
      "\n",
      "    accuracy                           0.81      1909\n",
      "   macro avg       0.76      0.71      0.73      1909\n",
      "weighted avg       0.80      0.81      0.80      1909\n",
      "\n"
     ]
    }
   ],
   "source": [
    "clf_mlp = MLPClassifier(hidden_layer_sizes=(256, 128), max_iter=1000, random_state=42)\n",
    "clf_mlp.fit(X_train_bertweet, y_train_raw)\n",
    "y_pred_train = clf_mlp.predict(X_train_bertweet)\n",
    "y_pred_val = clf_mlp.predict(X_val_bertweet)\n",
    "\n",
    "mlp_bertweet_accuracy, mlp_bertweet_f1_macro, mlp_bertweet_precision, mlp_bertweet_recall = evaluate_model_predictions(y_pred_train, y_pred_val, y_train=y_train_raw, y_val=y_val_raw)"
   ]
  },
  {
   "cell_type": "markdown",
   "id": "33ffa2b8",
   "metadata": {},
   "source": [
    "#### With USE"
   ]
  },
  {
   "cell_type": "code",
   "execution_count": 279,
   "id": "d0fe8288",
   "metadata": {},
   "outputs": [
    {
     "name": "stdout",
     "output_type": "stream",
     "text": [
      "Accuracy of train: 0.9999\n",
      "F1 Macro (Train): 0.9998\n",
      "Accuracy of val: 0.7763\n",
      "\u001b[1mF1 Macro (Val)\u001b[0m: 0.6836\n",
      "Precision (Val): 0.7068\n",
      "Recall (Val): 0.6675\n",
      "\n",
      "Confusion Matrix for Validation Data:\n",
      "[[ 162   34   92]\n",
      " [  44  208  133]\n",
      " [  62   62 1112]]\n",
      "\n",
      "Classification Report for Validation Data:\n",
      "              precision    recall  f1-score   support\n",
      "\n",
      "           0       0.60      0.56      0.58       288\n",
      "           1       0.68      0.54      0.60       385\n",
      "           2       0.83      0.90      0.86      1236\n",
      "\n",
      "    accuracy                           0.78      1909\n",
      "   macro avg       0.71      0.67      0.68      1909\n",
      "weighted avg       0.77      0.78      0.77      1909\n",
      "\n"
     ]
    }
   ],
   "source": [
    "clf_mlp = MLPClassifier(hidden_layer_sizes=(256, 128), max_iter=1000, random_state=42)\n",
    "clf_mlp.fit(X_train_use, y_train_raw)\n",
    "y_pred_train = clf_mlp.predict(X_train_use)\n",
    "y_pred_val = clf_mlp.predict(X_val_use)\n",
    "\n",
    "mlp_use_accuracy, mlp_use_f1_macro, mlp_use_precision, mlp_use_recall = evaluate_model_predictions(y_pred_train, y_pred_val, y_train=y_train_raw, y_val=y_val_raw)"
   ]
  },
  {
   "cell_type": "markdown",
   "id": "5a3b80d2",
   "metadata": {},
   "source": [
    "In this case, we evaluated the MLP (Multilayer Perceptron) and across all embedding combinations, the model exhibited clear signs of overfitting.\n",
    "\n",
    "This was evident from the near-perfect training accuracy and F1 scores (consistently close to 1.0), contrasted with substantially lower performance on the validation set. Such a discrepancy strongly indicates that the model is memorizing the training data instead of learning generalizable patterns.\n",
    "\n",
    "Despite this tendency, RoBERTa again emerged as the top-performing embedding, achieving the highest macro F1-score (0.7697) and accuracy (0.8339) on the validation set. Its results were also well-balanced across precision and recall, suggesting a stronger generalization capacity than the other embeddings under MLP.\n",
    "\n",
    "BERTweet and USE also performed well, though slightly below RoBERTa. Their validation macro F1-scores remained solid (above 0.68), and they benefited from contextual information while still maintaining competitive generalization.\n",
    "\n",
    "In contrast, Word2Vec was once again the weakest embedding choice, with an F1 Macro of just 0.3492. The confusion matrix and classification report revealed not only class imbalance but also poor representation of Classes 0 and 1, confirming that this embedding is not well-suited for the classification task under neural architectures.\n",
    "\n",
    "In summary, while MLPs are theoretically powerful, in this specific setup they tend to overfit the data unless regularization or further tuning is introduced."
   ]
  },
  {
   "cell_type": "markdown",
   "id": "c6034868",
   "metadata": {},
   "source": [
    "### 2.2.5. LSTM"
   ]
  },
  {
   "cell_type": "markdown",
   "id": "1e561aae",
   "metadata": {},
   "source": [
    "#### With randomly initialized trainable embeddings"
   ]
  },
  {
   "cell_type": "code",
   "execution_count": null,
   "id": "c6972e5e",
   "metadata": {},
   "outputs": [
    {
     "name": "stdout",
     "output_type": "stream",
     "text": [
      "Epoch 1/10\n"
     ]
    },
    {
     "name": "stderr",
     "output_type": "stream",
     "text": [
      "c:\\Users\\paulo\\anaconda3\\Lib\\site-packages\\keras\\src\\layers\\core\\embedding.py:90: UserWarning: Argument `input_length` is deprecated. Just remove it.\n",
      "  warnings.warn(\n"
     ]
    },
    {
     "name": "stdout",
     "output_type": "stream",
     "text": [
      "\u001b[1m238/238\u001b[0m \u001b[32m━━━━━━━━━━━━━━━━━━━━\u001b[0m\u001b[37m\u001b[0m \u001b[1m6s\u001b[0m 22ms/step - accuracy: 0.6362 - loss: 0.9122 - val_accuracy: 0.6463 - val_loss: 0.8927\n",
      "Epoch 2/10\n",
      "\u001b[1m238/238\u001b[0m \u001b[32m━━━━━━━━━━━━━━━━━━━━\u001b[0m\u001b[37m\u001b[0m \u001b[1m6s\u001b[0m 25ms/step - accuracy: 0.6344 - loss: 0.9098 - val_accuracy: 0.6463 - val_loss: 0.8945\n",
      "Epoch 3/10\n",
      "\u001b[1m238/238\u001b[0m \u001b[32m━━━━━━━━━━━━━━━━━━━━\u001b[0m\u001b[37m\u001b[0m \u001b[1m5s\u001b[0m 21ms/step - accuracy: 0.6431 - loss: 0.8970 - val_accuracy: 0.6463 - val_loss: 0.8913\n",
      "Epoch 4/10\n",
      "\u001b[1m238/238\u001b[0m \u001b[32m━━━━━━━━━━━━━━━━━━━━\u001b[0m\u001b[37m\u001b[0m \u001b[1m5s\u001b[0m 20ms/step - accuracy: 0.6401 - loss: 0.9018 - val_accuracy: 0.6463 - val_loss: 0.8922\n",
      "Epoch 5/10\n",
      "\u001b[1m238/238\u001b[0m \u001b[32m━━━━━━━━━━━━━━━━━━━━\u001b[0m\u001b[37m\u001b[0m \u001b[1m5s\u001b[0m 22ms/step - accuracy: 0.6470 - loss: 0.8925 - val_accuracy: 0.6463 - val_loss: 0.8913\n",
      "Epoch 6/10\n",
      "\u001b[1m238/238\u001b[0m \u001b[32m━━━━━━━━━━━━━━━━━━━━\u001b[0m\u001b[37m\u001b[0m \u001b[1m6s\u001b[0m 26ms/step - accuracy: 0.6458 - loss: 0.8937 - val_accuracy: 0.6463 - val_loss: 0.8941\n",
      "Epoch 7/10\n",
      "\u001b[1m238/238\u001b[0m \u001b[32m━━━━━━━━━━━━━━━━━━━━\u001b[0m\u001b[37m\u001b[0m \u001b[1m5s\u001b[0m 21ms/step - accuracy: 0.6440 - loss: 0.8952 - val_accuracy: 0.6463 - val_loss: 0.8946\n",
      "Epoch 8/10\n",
      "\u001b[1m238/238\u001b[0m \u001b[32m━━━━━━━━━━━━━━━━━━━━\u001b[0m\u001b[37m\u001b[0m \u001b[1m5s\u001b[0m 20ms/step - accuracy: 0.6539 - loss: 0.8839 - val_accuracy: 0.6463 - val_loss: 0.8914\n",
      "Epoch 9/10\n",
      "\u001b[1m238/238\u001b[0m \u001b[32m━━━━━━━━━━━━━━━━━━━━\u001b[0m\u001b[37m\u001b[0m \u001b[1m5s\u001b[0m 19ms/step - accuracy: 0.6499 - loss: 0.8858 - val_accuracy: 0.6463 - val_loss: 0.8917\n",
      "Epoch 10/10\n",
      "\u001b[1m238/238\u001b[0m \u001b[32m━━━━━━━━━━━━━━━━━━━━\u001b[0m\u001b[37m\u001b[0m \u001b[1m5s\u001b[0m 19ms/step - accuracy: 0.6459 - loss: 0.8925 - val_accuracy: 0.6463 - val_loss: 0.8918\n",
      "\u001b[1m238/238\u001b[0m \u001b[32m━━━━━━━━━━━━━━━━━━━━\u001b[0m\u001b[37m\u001b[0m \u001b[1m2s\u001b[0m 6ms/step\n",
      "\u001b[1m60/60\u001b[0m \u001b[32m━━━━━━━━━━━━━━━━━━━━\u001b[0m\u001b[37m\u001b[0m \u001b[1m0s\u001b[0m 5ms/step\n",
      "Accuracy of train: 0.6461\n",
      "F1 Macro (Train): 0.2617\n",
      "Accuracy of val: 0.6463\n",
      "\u001b[1mF1 Macro (Val)\u001b[0m: 0.2617\n",
      "Precision (Val): 0.2154\n",
      "Recall (Val): 0.3333\n",
      "\n",
      "Confusion Matrix for Validation Data:\n",
      "[[   0    0  288]\n",
      " [   0    0  384]\n",
      " [   0    0 1228]]\n",
      "\n",
      "Classification Report for Validation Data:\n",
      "              precision    recall  f1-score   support\n",
      "\n",
      "           0       0.00      0.00      0.00       288\n",
      "           1       0.00      0.00      0.00       384\n",
      "           2       0.65      1.00      0.79      1228\n",
      "\n",
      "    accuracy                           0.65      1900\n",
      "   macro avg       0.22      0.33      0.26      1900\n",
      "weighted avg       0.42      0.65      0.51      1900\n",
      "\n"
     ]
    },
    {
     "name": "stderr",
     "output_type": "stream",
     "text": [
      "c:\\Users\\paulo\\anaconda3\\Lib\\site-packages\\sklearn\\metrics\\_classification.py:1531: UndefinedMetricWarning: Precision is ill-defined and being set to 0.0 in labels with no predicted samples. Use `zero_division` parameter to control this behavior.\n",
      "  _warn_prf(average, modifier, f\"{metric.capitalize()} is\", len(result))\n",
      "c:\\Users\\paulo\\anaconda3\\Lib\\site-packages\\sklearn\\metrics\\_classification.py:1531: UndefinedMetricWarning: Precision is ill-defined and being set to 0.0 in labels with no predicted samples. Use `zero_division` parameter to control this behavior.\n",
      "  _warn_prf(average, modifier, f\"{metric.capitalize()} is\", len(result))\n",
      "c:\\Users\\paulo\\anaconda3\\Lib\\site-packages\\sklearn\\metrics\\_classification.py:1531: UndefinedMetricWarning: Precision is ill-defined and being set to 0.0 in labels with no predicted samples. Use `zero_division` parameter to control this behavior.\n",
      "  _warn_prf(average, modifier, f\"{metric.capitalize()} is\", len(result))\n",
      "c:\\Users\\paulo\\anaconda3\\Lib\\site-packages\\sklearn\\metrics\\_classification.py:1531: UndefinedMetricWarning: Precision is ill-defined and being set to 0.0 in labels with no predicted samples. Use `zero_division` parameter to control this behavior.\n",
      "  _warn_prf(average, modifier, f\"{metric.capitalize()} is\", len(result))\n"
     ]
    }
   ],
   "source": [
    "# Tokenize text\n",
    "tokenizer = Tokenizer(num_words=10000, oov_token=\"<OOV>\")\n",
    "tokenizer.fit_on_texts(X_train)\n",
    "\n",
    "X_train_seq = tokenizer.texts_to_sequences(X_train)\n",
    "X_val_seq = tokenizer.texts_to_sequences(X_val)\n",
    "\n",
    "# Pad sequences\n",
    "X_train_pad = pad_sequences(X_train_seq, maxlen=100, padding='post', truncating='post')\n",
    "X_val_pad = pad_sequences(X_val_seq, maxlen=100, padding='post', truncating='post')\n",
    "\n",
    "# Convert labels to one-hot\n",
    "y_train_cat = to_categorical(y_train, num_classes=3)\n",
    "y_val_cat = to_categorical(y_val, num_classes=3)\n",
    "\n",
    "# Ensure dtype is correct to avoid \"Invalid dtype: object\"\n",
    "X_train_pad = np.array(X_train_pad, dtype='int32')\n",
    "X_val_pad = np.array(X_val_pad, dtype='int32')\n",
    "y_train_cat = np.array(y_train_cat, dtype='float32')\n",
    "y_val_cat = np.array(y_val_cat, dtype='float32')\n",
    "\n",
    "# Build LSTM model\n",
    "model = Sequential()\n",
    "model.add(Embedding(input_dim=10000, output_dim=64, input_length=100))\n",
    "model.add(LSTM(64))\n",
    "model.add(Dense(3, activation='softmax'))\n",
    "\n",
    "model.compile(loss='categorical_crossentropy', optimizer='adam', metrics=['accuracy'])\n",
    "model.fit(X_train_pad, y_train_cat, epochs=10, batch_size=32, validation_data=(X_val_pad, y_val_cat))\n",
    "\n",
    "# Predict \n",
    "y_pred_train = model.predict(X_train_pad)\n",
    "y_pred_val = model.predict(X_val_pad)\n",
    "\n",
    "# Convert predictions to class labels\n",
    "y_pred_train_labels = np.argmax(y_pred_train, axis=1)\n",
    "y_pred_val_labels = np.argmax(y_pred_val, axis=1)\n",
    "\n",
    "# Also convert true labels to integers\n",
    "y_train_labels = np.argmax(y_train_cat, axis=1)\n",
    "y_val_labels = np.argmax(y_val_cat, axis=1)\n",
    "\n",
    "# Evaluate \n",
    "lstm_train_acc, lstm_train_f1, lstm_val_acc, lstm_val_f1 = evaluate_model_predictions(\n",
    "    y_pred_train_labels, y_pred_val_labels,\n",
    "    y_train=y_train_labels, y_val=y_val_labels\n",
    ")"
   ]
  },
  {
   "cell_type": "markdown",
   "id": "cb2e2637",
   "metadata": {},
   "source": [
    "#### With Word2Vec"
   ]
  },
  {
   "cell_type": "code",
   "execution_count": 281,
   "id": "3c14e07d",
   "metadata": {},
   "outputs": [],
   "source": [
    "def get_seq_embeddings(doc, word_vectors):\n",
    "    \"\"\"\n",
    "    Convert a document into a list of word vectors.\n",
    "    Parameters:\n",
    "      - doc: str, um tweet limpo\n",
    "      - word_vectors: model.wv do Gensim\n",
    "    Returns:\n",
    "      - List[np.ndarray]: cada ndarray é (emb_dim,)\n",
    "    \"\"\"\n",
    "    return [word_vectors[w] for w in doc.split() if w in word_vectors.index_to_key]\n",
    "\n",
    "# Sequences of word2vec for LSTM\n",
    "X_seq_train_w2v = [get_seq_embeddings(doc, word_vectors) for doc in X_train]\n",
    "X_seq_val_w2v   = [get_seq_embeddings(doc, word_vectors) for doc in X_val]"
   ]
  },
  {
   "cell_type": "code",
   "execution_count": 282,
   "id": "fc99065a",
   "metadata": {},
   "outputs": [
    {
     "name": "stderr",
     "output_type": "stream",
     "text": [
      "c:\\Users\\paulo\\anaconda3\\Lib\\site-packages\\keras\\src\\layers\\core\\masking.py:48: UserWarning: Do not pass an `input_shape`/`input_dim` argument to a layer. When using Sequential models, prefer using an `Input(shape)` object as the first layer in the model instead.\n",
      "  super().__init__(**kwargs)\n"
     ]
    },
    {
     "data": {
      "text/html": [
       "<pre style=\"white-space:pre;overflow-x:auto;line-height:normal;font-family:Menlo,'DejaVu Sans Mono',consolas,'Courier New',monospace\"><span style=\"font-weight: bold\">Model: \"sequential_8\"</span>\n",
       "</pre>\n"
      ],
      "text/plain": [
       "\u001b[1mModel: \"sequential_8\"\u001b[0m\n"
      ]
     },
     "metadata": {},
     "output_type": "display_data"
    },
    {
     "data": {
      "text/html": [
       "<pre style=\"white-space:pre;overflow-x:auto;line-height:normal;font-family:Menlo,'DejaVu Sans Mono',consolas,'Courier New',monospace\">┏━━━━━━━━━━━━━━━━━━━━━━━━━━━━━━━━━┳━━━━━━━━━━━━━━━━━━━━━━━━┳━━━━━━━━━━━━━━━┓\n",
       "┃<span style=\"font-weight: bold\"> Layer (type)                    </span>┃<span style=\"font-weight: bold\"> Output Shape           </span>┃<span style=\"font-weight: bold\">       Param # </span>┃\n",
       "┡━━━━━━━━━━━━━━━━━━━━━━━━━━━━━━━━━╇━━━━━━━━━━━━━━━━━━━━━━━━╇━━━━━━━━━━━━━━━┩\n",
       "│ masking_5 (<span style=\"color: #0087ff; text-decoration-color: #0087ff\">Masking</span>)             │ (<span style=\"color: #00d7ff; text-decoration-color: #00d7ff\">None</span>, <span style=\"color: #00af00; text-decoration-color: #00af00\">100</span>, <span style=\"color: #00af00; text-decoration-color: #00af00\">100</span>)       │             <span style=\"color: #00af00; text-decoration-color: #00af00\">0</span> │\n",
       "├─────────────────────────────────┼────────────────────────┼───────────────┤\n",
       "│ lstm_8 (<span style=\"color: #0087ff; text-decoration-color: #0087ff\">LSTM</span>)                   │ (<span style=\"color: #00d7ff; text-decoration-color: #00d7ff\">None</span>, <span style=\"color: #00af00; text-decoration-color: #00af00\">128</span>)            │       <span style=\"color: #00af00; text-decoration-color: #00af00\">117,248</span> │\n",
       "├─────────────────────────────────┼────────────────────────┼───────────────┤\n",
       "│ dropout_5 (<span style=\"color: #0087ff; text-decoration-color: #0087ff\">Dropout</span>)             │ (<span style=\"color: #00d7ff; text-decoration-color: #00d7ff\">None</span>, <span style=\"color: #00af00; text-decoration-color: #00af00\">128</span>)            │             <span style=\"color: #00af00; text-decoration-color: #00af00\">0</span> │\n",
       "├─────────────────────────────────┼────────────────────────┼───────────────┤\n",
       "│ dense_8 (<span style=\"color: #0087ff; text-decoration-color: #0087ff\">Dense</span>)                 │ (<span style=\"color: #00d7ff; text-decoration-color: #00d7ff\">None</span>, <span style=\"color: #00af00; text-decoration-color: #00af00\">3</span>)              │           <span style=\"color: #00af00; text-decoration-color: #00af00\">387</span> │\n",
       "└─────────────────────────────────┴────────────────────────┴───────────────┘\n",
       "</pre>\n"
      ],
      "text/plain": [
       "┏━━━━━━━━━━━━━━━━━━━━━━━━━━━━━━━━━┳━━━━━━━━━━━━━━━━━━━━━━━━┳━━━━━━━━━━━━━━━┓\n",
       "┃\u001b[1m \u001b[0m\u001b[1mLayer (type)                   \u001b[0m\u001b[1m \u001b[0m┃\u001b[1m \u001b[0m\u001b[1mOutput Shape          \u001b[0m\u001b[1m \u001b[0m┃\u001b[1m \u001b[0m\u001b[1m      Param #\u001b[0m\u001b[1m \u001b[0m┃\n",
       "┡━━━━━━━━━━━━━━━━━━━━━━━━━━━━━━━━━╇━━━━━━━━━━━━━━━━━━━━━━━━╇━━━━━━━━━━━━━━━┩\n",
       "│ masking_5 (\u001b[38;5;33mMasking\u001b[0m)             │ (\u001b[38;5;45mNone\u001b[0m, \u001b[38;5;34m100\u001b[0m, \u001b[38;5;34m100\u001b[0m)       │             \u001b[38;5;34m0\u001b[0m │\n",
       "├─────────────────────────────────┼────────────────────────┼───────────────┤\n",
       "│ lstm_8 (\u001b[38;5;33mLSTM\u001b[0m)                   │ (\u001b[38;5;45mNone\u001b[0m, \u001b[38;5;34m128\u001b[0m)            │       \u001b[38;5;34m117,248\u001b[0m │\n",
       "├─────────────────────────────────┼────────────────────────┼───────────────┤\n",
       "│ dropout_5 (\u001b[38;5;33mDropout\u001b[0m)             │ (\u001b[38;5;45mNone\u001b[0m, \u001b[38;5;34m128\u001b[0m)            │             \u001b[38;5;34m0\u001b[0m │\n",
       "├─────────────────────────────────┼────────────────────────┼───────────────┤\n",
       "│ dense_8 (\u001b[38;5;33mDense\u001b[0m)                 │ (\u001b[38;5;45mNone\u001b[0m, \u001b[38;5;34m3\u001b[0m)              │           \u001b[38;5;34m387\u001b[0m │\n",
       "└─────────────────────────────────┴────────────────────────┴───────────────┘\n"
      ]
     },
     "metadata": {},
     "output_type": "display_data"
    },
    {
     "data": {
      "text/html": [
       "<pre style=\"white-space:pre;overflow-x:auto;line-height:normal;font-family:Menlo,'DejaVu Sans Mono',consolas,'Courier New',monospace\"><span style=\"font-weight: bold\"> Total params: </span><span style=\"color: #00af00; text-decoration-color: #00af00\">117,635</span> (459.51 KB)\n",
       "</pre>\n"
      ],
      "text/plain": [
       "\u001b[1m Total params: \u001b[0m\u001b[38;5;34m117,635\u001b[0m (459.51 KB)\n"
      ]
     },
     "metadata": {},
     "output_type": "display_data"
    },
    {
     "data": {
      "text/html": [
       "<pre style=\"white-space:pre;overflow-x:auto;line-height:normal;font-family:Menlo,'DejaVu Sans Mono',consolas,'Courier New',monospace\"><span style=\"font-weight: bold\"> Trainable params: </span><span style=\"color: #00af00; text-decoration-color: #00af00\">117,635</span> (459.51 KB)\n",
       "</pre>\n"
      ],
      "text/plain": [
       "\u001b[1m Trainable params: \u001b[0m\u001b[38;5;34m117,635\u001b[0m (459.51 KB)\n"
      ]
     },
     "metadata": {},
     "output_type": "display_data"
    },
    {
     "data": {
      "text/html": [
       "<pre style=\"white-space:pre;overflow-x:auto;line-height:normal;font-family:Menlo,'DejaVu Sans Mono',consolas,'Courier New',monospace\"><span style=\"font-weight: bold\"> Non-trainable params: </span><span style=\"color: #00af00; text-decoration-color: #00af00\">0</span> (0.00 B)\n",
       "</pre>\n"
      ],
      "text/plain": [
       "\u001b[1m Non-trainable params: \u001b[0m\u001b[38;5;34m0\u001b[0m (0.00 B)\n"
      ]
     },
     "metadata": {},
     "output_type": "display_data"
    },
    {
     "name": "stdout",
     "output_type": "stream",
     "text": [
      "Epoch 1/50\n",
      "\u001b[1m238/238\u001b[0m \u001b[32m━━━━━━━━━━━━━━━━━━━━\u001b[0m\u001b[37m\u001b[0m \u001b[1m9s\u001b[0m 34ms/step - accuracy: 0.6345 - loss: 0.9147 - val_accuracy: 0.6595 - val_loss: 0.8571\n",
      "Epoch 2/50\n",
      "\u001b[1m238/238\u001b[0m \u001b[32m━━━━━━━━━━━━━━━━━━━━\u001b[0m\u001b[37m\u001b[0m \u001b[1m8s\u001b[0m 33ms/step - accuracy: 0.6616 - loss: 0.8533 - val_accuracy: 0.6611 - val_loss: 0.8374\n",
      "Epoch 3/50\n",
      "\u001b[1m238/238\u001b[0m \u001b[32m━━━━━━━━━━━━━━━━━━━━\u001b[0m\u001b[37m\u001b[0m \u001b[1m8s\u001b[0m 33ms/step - accuracy: 0.6730 - loss: 0.8189 - val_accuracy: 0.6637 - val_loss: 0.8294\n",
      "Epoch 4/50\n",
      "\u001b[1m238/238\u001b[0m \u001b[32m━━━━━━━━━━━━━━━━━━━━\u001b[0m\u001b[37m\u001b[0m \u001b[1m8s\u001b[0m 34ms/step - accuracy: 0.6657 - loss: 0.8223 - val_accuracy: 0.6711 - val_loss: 0.8171\n",
      "Epoch 5/50\n",
      "\u001b[1m238/238\u001b[0m \u001b[32m━━━━━━━━━━━━━━━━━━━━\u001b[0m\u001b[37m\u001b[0m \u001b[1m8s\u001b[0m 35ms/step - accuracy: 0.6682 - loss: 0.8129 - val_accuracy: 0.6616 - val_loss: 0.8204\n",
      "Epoch 6/50\n",
      "\u001b[1m238/238\u001b[0m \u001b[32m━━━━━━━━━━━━━━━━━━━━\u001b[0m\u001b[37m\u001b[0m \u001b[1m8s\u001b[0m 34ms/step - accuracy: 0.6689 - loss: 0.8041 - val_accuracy: 0.6689 - val_loss: 0.8113\n",
      "Epoch 7/50\n",
      "\u001b[1m238/238\u001b[0m \u001b[32m━━━━━━━━━━━━━━━━━━━━\u001b[0m\u001b[37m\u001b[0m \u001b[1m8s\u001b[0m 33ms/step - accuracy: 0.6768 - loss: 0.7884 - val_accuracy: 0.6595 - val_loss: 0.8198\n",
      "Epoch 8/50\n",
      "\u001b[1m238/238\u001b[0m \u001b[32m━━━━━━━━━━━━━━━━━━━━\u001b[0m\u001b[37m\u001b[0m \u001b[1m8s\u001b[0m 33ms/step - accuracy: 0.6755 - loss: 0.7942 - val_accuracy: 0.6532 - val_loss: 0.8298\n",
      "Epoch 9/50\n",
      "\u001b[1m238/238\u001b[0m \u001b[32m━━━━━━━━━━━━━━━━━━━━\u001b[0m\u001b[37m\u001b[0m \u001b[1m8s\u001b[0m 32ms/step - accuracy: 0.6692 - loss: 0.8028 - val_accuracy: 0.6674 - val_loss: 0.8068\n",
      "Epoch 10/50\n",
      "\u001b[1m238/238\u001b[0m \u001b[32m━━━━━━━━━━━━━━━━━━━━\u001b[0m\u001b[37m\u001b[0m \u001b[1m8s\u001b[0m 32ms/step - accuracy: 0.6704 - loss: 0.7928 - val_accuracy: 0.6653 - val_loss: 0.8140\n",
      "Epoch 11/50\n",
      "\u001b[1m238/238\u001b[0m \u001b[32m━━━━━━━━━━━━━━━━━━━━\u001b[0m\u001b[37m\u001b[0m \u001b[1m8s\u001b[0m 33ms/step - accuracy: 0.6856 - loss: 0.7735 - val_accuracy: 0.6674 - val_loss: 0.8053\n",
      "Epoch 12/50\n",
      "\u001b[1m238/238\u001b[0m \u001b[32m━━━━━━━━━━━━━━━━━━━━\u001b[0m\u001b[37m\u001b[0m \u001b[1m8s\u001b[0m 34ms/step - accuracy: 0.6842 - loss: 0.7732 - val_accuracy: 0.6658 - val_loss: 0.8164\n",
      "Epoch 13/50\n",
      "\u001b[1m238/238\u001b[0m \u001b[32m━━━━━━━━━━━━━━━━━━━━\u001b[0m\u001b[37m\u001b[0m \u001b[1m8s\u001b[0m 33ms/step - accuracy: 0.6798 - loss: 0.7830 - val_accuracy: 0.6700 - val_loss: 0.8016\n",
      "Epoch 14/50\n",
      "\u001b[1m238/238\u001b[0m \u001b[32m━━━━━━━━━━━━━━━━━━━━\u001b[0m\u001b[37m\u001b[0m \u001b[1m8s\u001b[0m 33ms/step - accuracy: 0.6795 - loss: 0.7761 - val_accuracy: 0.6689 - val_loss: 0.8092\n",
      "Epoch 15/50\n",
      "\u001b[1m238/238\u001b[0m \u001b[32m━━━━━━━━━━━━━━━━━━━━\u001b[0m\u001b[37m\u001b[0m \u001b[1m8s\u001b[0m 34ms/step - accuracy: 0.6732 - loss: 0.7898 - val_accuracy: 0.6716 - val_loss: 0.8009\n",
      "Epoch 16/50\n",
      "\u001b[1m238/238\u001b[0m \u001b[32m━━━━━━━━━━━━━━━━━━━━\u001b[0m\u001b[37m\u001b[0m \u001b[1m8s\u001b[0m 35ms/step - accuracy: 0.6750 - loss: 0.7797 - val_accuracy: 0.6689 - val_loss: 0.7937\n",
      "Epoch 17/50\n",
      "\u001b[1m238/238\u001b[0m \u001b[32m━━━━━━━━━━━━━━━━━━━━\u001b[0m\u001b[37m\u001b[0m \u001b[1m8s\u001b[0m 35ms/step - accuracy: 0.6783 - loss: 0.7714 - val_accuracy: 0.6679 - val_loss: 0.8019\n",
      "Epoch 18/50\n",
      "\u001b[1m238/238\u001b[0m \u001b[32m━━━━━━━━━━━━━━━━━━━━\u001b[0m\u001b[37m\u001b[0m \u001b[1m8s\u001b[0m 34ms/step - accuracy: 0.6914 - loss: 0.7582 - val_accuracy: 0.6700 - val_loss: 0.7992\n",
      "Epoch 19/50\n",
      "\u001b[1m238/238\u001b[0m \u001b[32m━━━━━━━━━━━━━━━━━━━━\u001b[0m\u001b[37m\u001b[0m \u001b[1m8s\u001b[0m 34ms/step - accuracy: 0.6875 - loss: 0.7595 - val_accuracy: 0.6642 - val_loss: 0.7946\n",
      "Epoch 20/50\n",
      "\u001b[1m238/238\u001b[0m \u001b[32m━━━━━━━━━━━━━━━━━━━━\u001b[0m\u001b[37m\u001b[0m \u001b[1m8s\u001b[0m 33ms/step - accuracy: 0.6830 - loss: 0.7586 - val_accuracy: 0.6758 - val_loss: 0.7938\n",
      "Epoch 21/50\n",
      "\u001b[1m238/238\u001b[0m \u001b[32m━━━━━━━━━━━━━━━━━━━━\u001b[0m\u001b[37m\u001b[0m \u001b[1m8s\u001b[0m 33ms/step - accuracy: 0.6787 - loss: 0.7770 - val_accuracy: 0.6737 - val_loss: 0.8023\n",
      "Epoch 22/50\n",
      "\u001b[1m238/238\u001b[0m \u001b[32m━━━━━━━━━━━━━━━━━━━━\u001b[0m\u001b[37m\u001b[0m \u001b[1m8s\u001b[0m 32ms/step - accuracy: 0.6900 - loss: 0.7514 - val_accuracy: 0.6721 - val_loss: 0.7866\n",
      "Epoch 23/50\n",
      "\u001b[1m238/238\u001b[0m \u001b[32m━━━━━━━━━━━━━━━━━━━━\u001b[0m\u001b[37m\u001b[0m \u001b[1m8s\u001b[0m 33ms/step - accuracy: 0.6986 - loss: 0.7388 - val_accuracy: 0.6753 - val_loss: 0.7877\n",
      "Epoch 24/50\n",
      "\u001b[1m238/238\u001b[0m \u001b[32m━━━━━━━━━━━━━━━━━━━━\u001b[0m\u001b[37m\u001b[0m \u001b[1m8s\u001b[0m 32ms/step - accuracy: 0.6947 - loss: 0.7354 - val_accuracy: 0.6663 - val_loss: 0.7949\n",
      "Epoch 25/50\n",
      "\u001b[1m238/238\u001b[0m \u001b[32m━━━━━━━━━━━━━━━━━━━━\u001b[0m\u001b[37m\u001b[0m \u001b[1m8s\u001b[0m 32ms/step - accuracy: 0.6885 - loss: 0.7491 - val_accuracy: 0.6747 - val_loss: 0.7915\n",
      "Epoch 26/50\n",
      "\u001b[1m238/238\u001b[0m \u001b[32m━━━━━━━━━━━━━━━━━━━━\u001b[0m\u001b[37m\u001b[0m \u001b[1m8s\u001b[0m 33ms/step - accuracy: 0.6890 - loss: 0.7444 - val_accuracy: 0.6711 - val_loss: 0.7862\n",
      "Epoch 27/50\n",
      "\u001b[1m238/238\u001b[0m \u001b[32m━━━━━━━━━━━━━━━━━━━━\u001b[0m\u001b[37m\u001b[0m \u001b[1m8s\u001b[0m 33ms/step - accuracy: 0.6901 - loss: 0.7375 - val_accuracy: 0.6653 - val_loss: 0.7894\n",
      "Epoch 28/50\n",
      "\u001b[1m238/238\u001b[0m \u001b[32m━━━━━━━━━━━━━━━━━━━━\u001b[0m\u001b[37m\u001b[0m \u001b[1m8s\u001b[0m 34ms/step - accuracy: 0.6866 - loss: 0.7549 - val_accuracy: 0.6689 - val_loss: 0.7885\n",
      "Epoch 29/50\n",
      "\u001b[1m238/238\u001b[0m \u001b[32m━━━━━━━━━━━━━━━━━━━━\u001b[0m\u001b[37m\u001b[0m \u001b[1m8s\u001b[0m 35ms/step - accuracy: 0.6959 - loss: 0.7423 - val_accuracy: 0.6768 - val_loss: 0.8008\n",
      "Epoch 30/50\n",
      "\u001b[1m238/238\u001b[0m \u001b[32m━━━━━━━━━━━━━━━━━━━━\u001b[0m\u001b[37m\u001b[0m \u001b[1m9s\u001b[0m 36ms/step - accuracy: 0.6938 - loss: 0.7291 - val_accuracy: 0.6647 - val_loss: 0.7934\n",
      "Epoch 31/50\n",
      "\u001b[1m238/238\u001b[0m \u001b[32m━━━━━━━━━━━━━━━━━━━━\u001b[0m\u001b[37m\u001b[0m \u001b[1m8s\u001b[0m 34ms/step - accuracy: 0.6994 - loss: 0.7334 - val_accuracy: 0.6589 - val_loss: 0.8055\n",
      "Epoch 32/50\n",
      "\u001b[1m238/238\u001b[0m \u001b[32m━━━━━━━━━━━━━━━━━━━━\u001b[0m\u001b[37m\u001b[0m \u001b[1m8s\u001b[0m 33ms/step - accuracy: 0.7098 - loss: 0.7133 - val_accuracy: 0.6642 - val_loss: 0.7930\n",
      "Epoch 33/50\n",
      "\u001b[1m238/238\u001b[0m \u001b[32m━━━━━━━━━━━━━━━━━━━━\u001b[0m\u001b[37m\u001b[0m \u001b[1m8s\u001b[0m 33ms/step - accuracy: 0.7074 - loss: 0.7075 - val_accuracy: 0.6742 - val_loss: 0.7826\n",
      "Epoch 34/50\n",
      "\u001b[1m238/238\u001b[0m \u001b[32m━━━━━━━━━━━━━━━━━━━━\u001b[0m\u001b[37m\u001b[0m \u001b[1m8s\u001b[0m 33ms/step - accuracy: 0.7011 - loss: 0.7201 - val_accuracy: 0.6774 - val_loss: 0.7840\n",
      "Epoch 35/50\n",
      "\u001b[1m238/238\u001b[0m \u001b[32m━━━━━━━━━━━━━━━━━━━━\u001b[0m\u001b[37m\u001b[0m \u001b[1m8s\u001b[0m 32ms/step - accuracy: 0.6971 - loss: 0.7148 - val_accuracy: 0.6742 - val_loss: 0.7862\n",
      "Epoch 36/50\n",
      "\u001b[1m238/238\u001b[0m \u001b[32m━━━━━━━━━━━━━━━━━━━━\u001b[0m\u001b[37m\u001b[0m \u001b[1m8s\u001b[0m 32ms/step - accuracy: 0.7001 - loss: 0.7202 - val_accuracy: 0.6774 - val_loss: 0.7943\n",
      "Epoch 37/50\n",
      "\u001b[1m238/238\u001b[0m \u001b[32m━━━━━━━━━━━━━━━━━━━━\u001b[0m\u001b[37m\u001b[0m \u001b[1m8s\u001b[0m 32ms/step - accuracy: 0.7053 - loss: 0.7069 - val_accuracy: 0.6711 - val_loss: 0.7936\n",
      "Epoch 38/50\n",
      "\u001b[1m238/238\u001b[0m \u001b[32m━━━━━━━━━━━━━━━━━━━━\u001b[0m\u001b[37m\u001b[0m \u001b[1m8s\u001b[0m 33ms/step - accuracy: 0.7159 - loss: 0.6934 - val_accuracy: 0.6774 - val_loss: 0.7871\n",
      "Epoch 39/50\n",
      "\u001b[1m238/238\u001b[0m \u001b[32m━━━━━━━━━━━━━━━━━━━━\u001b[0m\u001b[37m\u001b[0m \u001b[1m8s\u001b[0m 33ms/step - accuracy: 0.7083 - loss: 0.7054 - val_accuracy: 0.6758 - val_loss: 0.7894\n",
      "Epoch 40/50\n",
      "\u001b[1m238/238\u001b[0m \u001b[32m━━━━━━━━━━━━━━━━━━━━\u001b[0m\u001b[37m\u001b[0m \u001b[1m8s\u001b[0m 35ms/step - accuracy: 0.7181 - loss: 0.6790 - val_accuracy: 0.6763 - val_loss: 0.7856\n",
      "Epoch 41/50\n",
      "\u001b[1m238/238\u001b[0m \u001b[32m━━━━━━━━━━━━━━━━━━━━\u001b[0m\u001b[37m\u001b[0m \u001b[1m8s\u001b[0m 35ms/step - accuracy: 0.7134 - loss: 0.7023 - val_accuracy: 0.6684 - val_loss: 0.7922\n",
      "Epoch 42/50\n",
      "\u001b[1m238/238\u001b[0m \u001b[32m━━━━━━━━━━━━━━━━━━━━\u001b[0m\u001b[37m\u001b[0m \u001b[1m8s\u001b[0m 34ms/step - accuracy: 0.7163 - loss: 0.6930 - val_accuracy: 0.6784 - val_loss: 0.7988\n",
      "Epoch 43/50\n",
      "\u001b[1m238/238\u001b[0m \u001b[32m━━━━━━━━━━━━━━━━━━━━\u001b[0m\u001b[37m\u001b[0m \u001b[1m8s\u001b[0m 34ms/step - accuracy: 0.7120 - loss: 0.6954 - val_accuracy: 0.6758 - val_loss: 0.7957\n",
      "Epoch 44/50\n",
      "\u001b[1m238/238\u001b[0m \u001b[32m━━━━━━━━━━━━━━━━━━━━\u001b[0m\u001b[37m\u001b[0m \u001b[1m8s\u001b[0m 34ms/step - accuracy: 0.7187 - loss: 0.6835 - val_accuracy: 0.6726 - val_loss: 0.7988\n",
      "Epoch 45/50\n",
      "\u001b[1m238/238\u001b[0m \u001b[32m━━━━━━━━━━━━━━━━━━━━\u001b[0m\u001b[37m\u001b[0m \u001b[1m9s\u001b[0m 36ms/step - accuracy: 0.7254 - loss: 0.6776 - val_accuracy: 0.6784 - val_loss: 0.7889\n",
      "Epoch 46/50\n",
      "\u001b[1m238/238\u001b[0m \u001b[32m━━━━━━━━━━━━━━━━━━━━\u001b[0m\u001b[37m\u001b[0m \u001b[1m8s\u001b[0m 33ms/step - accuracy: 0.7187 - loss: 0.6797 - val_accuracy: 0.6753 - val_loss: 0.7917\n",
      "Epoch 47/50\n",
      "\u001b[1m238/238\u001b[0m \u001b[32m━━━━━━━━━━━━━━━━━━━━\u001b[0m\u001b[37m\u001b[0m \u001b[1m8s\u001b[0m 33ms/step - accuracy: 0.7222 - loss: 0.6776 - val_accuracy: 0.6674 - val_loss: 0.8115\n",
      "Epoch 48/50\n",
      "\u001b[1m238/238\u001b[0m \u001b[32m━━━━━━━━━━━━━━━━━━━━\u001b[0m\u001b[37m\u001b[0m \u001b[1m8s\u001b[0m 34ms/step - accuracy: 0.7319 - loss: 0.6684 - val_accuracy: 0.6732 - val_loss: 0.7979\n",
      "Epoch 49/50\n",
      "\u001b[1m238/238\u001b[0m \u001b[32m━━━━━━━━━━━━━━━━━━━━\u001b[0m\u001b[37m\u001b[0m \u001b[1m8s\u001b[0m 35ms/step - accuracy: 0.7363 - loss: 0.6569 - val_accuracy: 0.6695 - val_loss: 0.8256\n",
      "Epoch 50/50\n",
      "\u001b[1m238/238\u001b[0m \u001b[32m━━━━━━━━━━━━━━━━━━━━\u001b[0m\u001b[37m\u001b[0m \u001b[1m9s\u001b[0m 36ms/step - accuracy: 0.7372 - loss: 0.6451 - val_accuracy: 0.6742 - val_loss: 0.8048\n"
     ]
    }
   ],
   "source": [
    "# Determine the maximum sequence length in the training set\n",
    "max_len = max(len(seq) for seq in X_train_w2v)\n",
    "\n",
    "# Pad sequences of word vectors (pad with zero-vectors)\n",
    "def pad_vec_sequences(seqs, max_len, emb_size, dtype='float32'):\n",
    "    n = len(seqs)\n",
    "    out = np.zeros((n, max_len, emb_size), dtype=dtype)\n",
    "    for i, seq in enumerate(seqs):\n",
    "        L = min(len(seq), max_len)\n",
    "        if L:\n",
    "            out[i, :L, :] = np.stack(seq[:L])\n",
    "    return out\n",
    "\n",
    "X_train_w2v_pad = pad_vec_sequences(X_seq_train_w2v, max_len, emb_size)\n",
    "X_val_w2v_pad   = pad_vec_sequences(X_seq_val_w2v, max_len, emb_size)\n",
    "\n",
    "\n",
    "\n",
    "# Convert labels to one-hot encoding\n",
    "y_train_lstm = to_categorical(y_train, num_classes=3)\n",
    "y_val_lstm   = to_categorical(y_val, num_classes=3)\n",
    "\n",
    "# Build the LSTM model\n",
    "model_w2v_lstm = Sequential([\n",
    "    Masking(mask_value=0., input_shape=(max_len, emb_size)),  # ignore zero-vector padding\n",
    "    LSTM(128, return_sequences=False),\n",
    "    Dropout(0.5),\n",
    "    Dense(3, activation='softmax')\n",
    "])\n",
    "\n",
    "model_w2v_lstm.compile(\n",
    "    optimizer='adam',\n",
    "    loss='categorical_crossentropy',\n",
    "    metrics=['accuracy']\n",
    ")\n",
    "model_w2v_lstm.summary()\n",
    "\n",
    "# Train\n",
    "history_w2v = model_w2v_lstm.fit(\n",
    "    X_train_w2v_pad, y_train_lstm,\n",
    "    validation_data=(X_val_w2v_pad, y_val_lstm),\n",
    "    epochs=50,\n",
    "    batch_size=32,\n",
    "    verbose=1\n",
    ")"
   ]
  },
  {
   "cell_type": "code",
   "execution_count": 283,
   "id": "0819f528",
   "metadata": {},
   "outputs": [
    {
     "name": "stdout",
     "output_type": "stream",
     "text": [
      "\u001b[1m238/238\u001b[0m \u001b[32m━━━━━━━━━━━━━━━━━━━━\u001b[0m\u001b[37m\u001b[0m \u001b[1m3s\u001b[0m 14ms/step\n",
      "\u001b[1m60/60\u001b[0m \u001b[32m━━━━━━━━━━━━━━━━━━━━\u001b[0m\u001b[37m\u001b[0m \u001b[1m1s\u001b[0m 13ms/step\n",
      "Accuracy of train: 0.7393\n",
      "F1 Macro (Train): 0.5858\n",
      "Accuracy of val: 0.6742\n",
      "\u001b[1mF1 Macro (Val)\u001b[0m: 0.4754\n",
      "Precision (Val): 0.5426\n",
      "Recall (Val): 0.4623\n",
      "\n",
      "Confusion Matrix for Validation Data:\n",
      "[[  64   38  186]\n",
      " [  56   97  231]\n",
      " [  71   37 1120]]\n",
      "\n",
      "Classification Report for Validation Data:\n",
      "              precision    recall  f1-score   support\n",
      "\n",
      "           0       0.34      0.22      0.27       288\n",
      "           1       0.56      0.25      0.35       384\n",
      "           2       0.73      0.91      0.81      1228\n",
      "\n",
      "    accuracy                           0.67      1900\n",
      "   macro avg       0.54      0.46      0.48      1900\n",
      "weighted avg       0.64      0.67      0.63      1900\n",
      "\n"
     ]
    }
   ],
   "source": [
    "y_pred_train_labels = np.argmax(model_w2v_lstm.predict(X_train_w2v_pad), axis=1)\n",
    "y_pred_val_labels   = np.argmax(model_w2v_lstm.predict(X_val_w2v_pad),   axis=1)\n",
    "\n",
    "lstm_w2v_accuracy, lstm_w2v_f1_macro, lstm_w2v_precision, lstm_w2v_recall = evaluate_model_predictions(y_pred_train=y_pred_train_labels,y_pred_val=y_pred_val_labels)"
   ]
  },
  {
   "cell_type": "markdown",
   "id": "5cbf0c71",
   "metadata": {},
   "source": [
    "#### With GloVe"
   ]
  },
  {
   "cell_type": "code",
   "execution_count": 284,
   "id": "fbdb7681",
   "metadata": {},
   "outputs": [
    {
     "name": "stderr",
     "output_type": "stream",
     "text": [
      "c:\\Users\\paulo\\anaconda3\\Lib\\site-packages\\keras\\src\\layers\\core\\masking.py:48: UserWarning: Do not pass an `input_shape`/`input_dim` argument to a layer. When using Sequential models, prefer using an `Input(shape)` object as the first layer in the model instead.\n",
      "  super().__init__(**kwargs)\n"
     ]
    },
    {
     "data": {
      "text/html": [
       "<pre style=\"white-space:pre;overflow-x:auto;line-height:normal;font-family:Menlo,'DejaVu Sans Mono',consolas,'Courier New',monospace\"><span style=\"font-weight: bold\">Model: \"sequential_9\"</span>\n",
       "</pre>\n"
      ],
      "text/plain": [
       "\u001b[1mModel: \"sequential_9\"\u001b[0m\n"
      ]
     },
     "metadata": {},
     "output_type": "display_data"
    },
    {
     "data": {
      "text/html": [
       "<pre style=\"white-space:pre;overflow-x:auto;line-height:normal;font-family:Menlo,'DejaVu Sans Mono',consolas,'Courier New',monospace\">┏━━━━━━━━━━━━━━━━━━━━━━━━━━━━━━━━━┳━━━━━━━━━━━━━━━━━━━━━━━━┳━━━━━━━━━━━━━━━┓\n",
       "┃<span style=\"font-weight: bold\"> Layer (type)                    </span>┃<span style=\"font-weight: bold\"> Output Shape           </span>┃<span style=\"font-weight: bold\">       Param # </span>┃\n",
       "┡━━━━━━━━━━━━━━━━━━━━━━━━━━━━━━━━━╇━━━━━━━━━━━━━━━━━━━━━━━━╇━━━━━━━━━━━━━━━┩\n",
       "│ masking_6 (<span style=\"color: #0087ff; text-decoration-color: #0087ff\">Masking</span>)             │ (<span style=\"color: #00d7ff; text-decoration-color: #00d7ff\">None</span>, <span style=\"color: #00af00; text-decoration-color: #00af00\">20</span>, <span style=\"color: #00af00; text-decoration-color: #00af00\">100</span>)        │             <span style=\"color: #00af00; text-decoration-color: #00af00\">0</span> │\n",
       "├─────────────────────────────────┼────────────────────────┼───────────────┤\n",
       "│ lstm_9 (<span style=\"color: #0087ff; text-decoration-color: #0087ff\">LSTM</span>)                   │ (<span style=\"color: #00d7ff; text-decoration-color: #00d7ff\">None</span>, <span style=\"color: #00af00; text-decoration-color: #00af00\">128</span>)            │       <span style=\"color: #00af00; text-decoration-color: #00af00\">117,248</span> │\n",
       "├─────────────────────────────────┼────────────────────────┼───────────────┤\n",
       "│ dropout_6 (<span style=\"color: #0087ff; text-decoration-color: #0087ff\">Dropout</span>)             │ (<span style=\"color: #00d7ff; text-decoration-color: #00d7ff\">None</span>, <span style=\"color: #00af00; text-decoration-color: #00af00\">128</span>)            │             <span style=\"color: #00af00; text-decoration-color: #00af00\">0</span> │\n",
       "├─────────────────────────────────┼────────────────────────┼───────────────┤\n",
       "│ dense_9 (<span style=\"color: #0087ff; text-decoration-color: #0087ff\">Dense</span>)                 │ (<span style=\"color: #00d7ff; text-decoration-color: #00d7ff\">None</span>, <span style=\"color: #00af00; text-decoration-color: #00af00\">3</span>)              │           <span style=\"color: #00af00; text-decoration-color: #00af00\">387</span> │\n",
       "└─────────────────────────────────┴────────────────────────┴───────────────┘\n",
       "</pre>\n"
      ],
      "text/plain": [
       "┏━━━━━━━━━━━━━━━━━━━━━━━━━━━━━━━━━┳━━━━━━━━━━━━━━━━━━━━━━━━┳━━━━━━━━━━━━━━━┓\n",
       "┃\u001b[1m \u001b[0m\u001b[1mLayer (type)                   \u001b[0m\u001b[1m \u001b[0m┃\u001b[1m \u001b[0m\u001b[1mOutput Shape          \u001b[0m\u001b[1m \u001b[0m┃\u001b[1m \u001b[0m\u001b[1m      Param #\u001b[0m\u001b[1m \u001b[0m┃\n",
       "┡━━━━━━━━━━━━━━━━━━━━━━━━━━━━━━━━━╇━━━━━━━━━━━━━━━━━━━━━━━━╇━━━━━━━━━━━━━━━┩\n",
       "│ masking_6 (\u001b[38;5;33mMasking\u001b[0m)             │ (\u001b[38;5;45mNone\u001b[0m, \u001b[38;5;34m20\u001b[0m, \u001b[38;5;34m100\u001b[0m)        │             \u001b[38;5;34m0\u001b[0m │\n",
       "├─────────────────────────────────┼────────────────────────┼───────────────┤\n",
       "│ lstm_9 (\u001b[38;5;33mLSTM\u001b[0m)                   │ (\u001b[38;5;45mNone\u001b[0m, \u001b[38;5;34m128\u001b[0m)            │       \u001b[38;5;34m117,248\u001b[0m │\n",
       "├─────────────────────────────────┼────────────────────────┼───────────────┤\n",
       "│ dropout_6 (\u001b[38;5;33mDropout\u001b[0m)             │ (\u001b[38;5;45mNone\u001b[0m, \u001b[38;5;34m128\u001b[0m)            │             \u001b[38;5;34m0\u001b[0m │\n",
       "├─────────────────────────────────┼────────────────────────┼───────────────┤\n",
       "│ dense_9 (\u001b[38;5;33mDense\u001b[0m)                 │ (\u001b[38;5;45mNone\u001b[0m, \u001b[38;5;34m3\u001b[0m)              │           \u001b[38;5;34m387\u001b[0m │\n",
       "└─────────────────────────────────┴────────────────────────┴───────────────┘\n"
      ]
     },
     "metadata": {},
     "output_type": "display_data"
    },
    {
     "data": {
      "text/html": [
       "<pre style=\"white-space:pre;overflow-x:auto;line-height:normal;font-family:Menlo,'DejaVu Sans Mono',consolas,'Courier New',monospace\"><span style=\"font-weight: bold\"> Total params: </span><span style=\"color: #00af00; text-decoration-color: #00af00\">117,635</span> (459.51 KB)\n",
       "</pre>\n"
      ],
      "text/plain": [
       "\u001b[1m Total params: \u001b[0m\u001b[38;5;34m117,635\u001b[0m (459.51 KB)\n"
      ]
     },
     "metadata": {},
     "output_type": "display_data"
    },
    {
     "data": {
      "text/html": [
       "<pre style=\"white-space:pre;overflow-x:auto;line-height:normal;font-family:Menlo,'DejaVu Sans Mono',consolas,'Courier New',monospace\"><span style=\"font-weight: bold\"> Trainable params: </span><span style=\"color: #00af00; text-decoration-color: #00af00\">117,635</span> (459.51 KB)\n",
       "</pre>\n"
      ],
      "text/plain": [
       "\u001b[1m Trainable params: \u001b[0m\u001b[38;5;34m117,635\u001b[0m (459.51 KB)\n"
      ]
     },
     "metadata": {},
     "output_type": "display_data"
    },
    {
     "data": {
      "text/html": [
       "<pre style=\"white-space:pre;overflow-x:auto;line-height:normal;font-family:Menlo,'DejaVu Sans Mono',consolas,'Courier New',monospace\"><span style=\"font-weight: bold\"> Non-trainable params: </span><span style=\"color: #00af00; text-decoration-color: #00af00\">0</span> (0.00 B)\n",
       "</pre>\n"
      ],
      "text/plain": [
       "\u001b[1m Non-trainable params: \u001b[0m\u001b[38;5;34m0\u001b[0m (0.00 B)\n"
      ]
     },
     "metadata": {},
     "output_type": "display_data"
    },
    {
     "name": "stdout",
     "output_type": "stream",
     "text": [
      "Epoch 1/50\n",
      "\u001b[1m238/238\u001b[0m \u001b[32m━━━━━━━━━━━━━━━━━━━━\u001b[0m\u001b[37m\u001b[0m \u001b[1m4s\u001b[0m 10ms/step - accuracy: 0.6504 - loss: 0.8372 - val_accuracy: 0.7216 - val_loss: 0.6835\n",
      "Epoch 2/50\n",
      "\u001b[1m238/238\u001b[0m \u001b[32m━━━━━━━━━━━━━━━━━━━━\u001b[0m\u001b[37m\u001b[0m \u001b[1m2s\u001b[0m 10ms/step - accuracy: 0.7134 - loss: 0.6843 - val_accuracy: 0.7368 - val_loss: 0.6537\n",
      "Epoch 3/50\n",
      "\u001b[1m238/238\u001b[0m \u001b[32m━━━━━━━━━━━━━━━━━━━━\u001b[0m\u001b[37m\u001b[0m \u001b[1m2s\u001b[0m 9ms/step - accuracy: 0.7512 - loss: 0.6157 - val_accuracy: 0.7405 - val_loss: 0.6453\n",
      "Epoch 4/50\n",
      "\u001b[1m238/238\u001b[0m \u001b[32m━━━━━━━━━━━━━━━━━━━━\u001b[0m\u001b[37m\u001b[0m \u001b[1m2s\u001b[0m 9ms/step - accuracy: 0.7773 - loss: 0.5618 - val_accuracy: 0.7500 - val_loss: 0.6213\n",
      "Epoch 5/50\n",
      "\u001b[1m238/238\u001b[0m \u001b[32m━━━━━━━━━━━━━━━━━━━━\u001b[0m\u001b[37m\u001b[0m \u001b[1m3s\u001b[0m 11ms/step - accuracy: 0.7988 - loss: 0.5152 - val_accuracy: 0.7600 - val_loss: 0.6163\n",
      "Epoch 6/50\n",
      "\u001b[1m238/238\u001b[0m \u001b[32m━━━━━━━━━━━━━━━━━━━━\u001b[0m\u001b[37m\u001b[0m \u001b[1m3s\u001b[0m 11ms/step - accuracy: 0.8269 - loss: 0.4513 - val_accuracy: 0.7684 - val_loss: 0.6464\n",
      "Epoch 7/50\n",
      "\u001b[1m238/238\u001b[0m \u001b[32m━━━━━━━━━━━━━━━━━━━━\u001b[0m\u001b[37m\u001b[0m \u001b[1m2s\u001b[0m 10ms/step - accuracy: 0.8415 - loss: 0.4078 - val_accuracy: 0.7674 - val_loss: 0.6251\n",
      "Epoch 8/50\n",
      "\u001b[1m238/238\u001b[0m \u001b[32m━━━━━━━━━━━━━━━━━━━━\u001b[0m\u001b[37m\u001b[0m \u001b[1m3s\u001b[0m 12ms/step - accuracy: 0.8669 - loss: 0.3507 - val_accuracy: 0.7684 - val_loss: 0.6557\n",
      "Epoch 9/50\n",
      "\u001b[1m238/238\u001b[0m \u001b[32m━━━━━━━━━━━━━━━━━━━━\u001b[0m\u001b[37m\u001b[0m \u001b[1m3s\u001b[0m 14ms/step - accuracy: 0.8906 - loss: 0.2912 - val_accuracy: 0.7521 - val_loss: 0.6613\n",
      "Epoch 10/50\n",
      "\u001b[1m238/238\u001b[0m \u001b[32m━━━━━━━━━━━━━━━━━━━━\u001b[0m\u001b[37m\u001b[0m \u001b[1m3s\u001b[0m 11ms/step - accuracy: 0.9077 - loss: 0.2582 - val_accuracy: 0.7705 - val_loss: 0.6960\n",
      "Epoch 11/50\n",
      "\u001b[1m238/238\u001b[0m \u001b[32m━━━━━━━━━━━━━━━━━━━━\u001b[0m\u001b[37m\u001b[0m \u001b[1m2s\u001b[0m 10ms/step - accuracy: 0.9143 - loss: 0.2253 - val_accuracy: 0.7674 - val_loss: 0.8006\n",
      "Epoch 12/50\n",
      "\u001b[1m238/238\u001b[0m \u001b[32m━━━━━━━━━━━━━━━━━━━━\u001b[0m\u001b[37m\u001b[0m \u001b[1m2s\u001b[0m 8ms/step - accuracy: 0.9354 - loss: 0.1789 - val_accuracy: 0.7558 - val_loss: 0.8222\n",
      "Epoch 13/50\n",
      "\u001b[1m238/238\u001b[0m \u001b[32m━━━━━━━━━━━━━━━━━━━━\u001b[0m\u001b[37m\u001b[0m \u001b[1m2s\u001b[0m 8ms/step - accuracy: 0.9495 - loss: 0.1463 - val_accuracy: 0.7689 - val_loss: 0.8586\n",
      "Epoch 14/50\n",
      "\u001b[1m238/238\u001b[0m \u001b[32m━━━━━━━━━━━━━━━━━━━━\u001b[0m\u001b[37m\u001b[0m \u001b[1m2s\u001b[0m 8ms/step - accuracy: 0.9525 - loss: 0.1342 - val_accuracy: 0.7553 - val_loss: 0.8516\n",
      "Epoch 15/50\n",
      "\u001b[1m238/238\u001b[0m \u001b[32m━━━━━━━━━━━━━━━━━━━━\u001b[0m\u001b[37m\u001b[0m \u001b[1m2s\u001b[0m 8ms/step - accuracy: 0.9649 - loss: 0.1066 - val_accuracy: 0.7689 - val_loss: 1.0472\n",
      "Epoch 16/50\n",
      "\u001b[1m238/238\u001b[0m \u001b[32m━━━━━━━━━━━━━━━━━━━━\u001b[0m\u001b[37m\u001b[0m \u001b[1m2s\u001b[0m 8ms/step - accuracy: 0.9664 - loss: 0.0968 - val_accuracy: 0.7521 - val_loss: 1.0832\n",
      "Epoch 17/50\n",
      "\u001b[1m238/238\u001b[0m \u001b[32m━━━━━━━━━━━━━━━━━━━━\u001b[0m\u001b[37m\u001b[0m \u001b[1m2s\u001b[0m 8ms/step - accuracy: 0.9716 - loss: 0.0853 - val_accuracy: 0.7642 - val_loss: 1.1669\n",
      "Epoch 18/50\n",
      "\u001b[1m238/238\u001b[0m \u001b[32m━━━━━━━━━━━━━━━━━━━━\u001b[0m\u001b[37m\u001b[0m \u001b[1m2s\u001b[0m 8ms/step - accuracy: 0.9706 - loss: 0.0840 - val_accuracy: 0.7574 - val_loss: 1.2611\n",
      "Epoch 19/50\n",
      "\u001b[1m238/238\u001b[0m \u001b[32m━━━━━━━━━━━━━━━━━━━━\u001b[0m\u001b[37m\u001b[0m \u001b[1m2s\u001b[0m 8ms/step - accuracy: 0.9747 - loss: 0.0735 - val_accuracy: 0.7542 - val_loss: 1.1423\n",
      "Epoch 20/50\n",
      "\u001b[1m238/238\u001b[0m \u001b[32m━━━━━━━━━━━━━━━━━━━━\u001b[0m\u001b[37m\u001b[0m \u001b[1m2s\u001b[0m 8ms/step - accuracy: 0.9731 - loss: 0.0741 - val_accuracy: 0.7795 - val_loss: 1.1403\n",
      "Epoch 21/50\n",
      "\u001b[1m238/238\u001b[0m \u001b[32m━━━━━━━━━━━━━━━━━━━━\u001b[0m\u001b[37m\u001b[0m \u001b[1m2s\u001b[0m 8ms/step - accuracy: 0.9829 - loss: 0.0616 - val_accuracy: 0.7616 - val_loss: 1.2754\n",
      "Epoch 22/50\n",
      "\u001b[1m238/238\u001b[0m \u001b[32m━━━━━━━━━━━━━━━━━━━━\u001b[0m\u001b[37m\u001b[0m \u001b[1m2s\u001b[0m 8ms/step - accuracy: 0.9881 - loss: 0.0390 - val_accuracy: 0.7595 - val_loss: 1.3905\n",
      "Epoch 23/50\n",
      "\u001b[1m238/238\u001b[0m \u001b[32m━━━━━━━━━━━━━━━━━━━━\u001b[0m\u001b[37m\u001b[0m \u001b[1m2s\u001b[0m 8ms/step - accuracy: 0.9896 - loss: 0.0344 - val_accuracy: 0.7447 - val_loss: 1.3902\n",
      "Epoch 24/50\n",
      "\u001b[1m238/238\u001b[0m \u001b[32m━━━━━━━━━━━━━━━━━━━━\u001b[0m\u001b[37m\u001b[0m \u001b[1m2s\u001b[0m 8ms/step - accuracy: 0.9838 - loss: 0.0510 - val_accuracy: 0.7653 - val_loss: 1.4823\n",
      "Epoch 25/50\n",
      "\u001b[1m238/238\u001b[0m \u001b[32m━━━━━━━━━━━━━━━━━━━━\u001b[0m\u001b[37m\u001b[0m \u001b[1m2s\u001b[0m 8ms/step - accuracy: 0.9831 - loss: 0.0601 - val_accuracy: 0.7647 - val_loss: 1.3534\n",
      "Epoch 26/50\n",
      "\u001b[1m238/238\u001b[0m \u001b[32m━━━━━━━━━━━━━━━━━━━━\u001b[0m\u001b[37m\u001b[0m \u001b[1m2s\u001b[0m 8ms/step - accuracy: 0.9847 - loss: 0.0484 - val_accuracy: 0.7737 - val_loss: 1.4536\n",
      "Epoch 27/50\n",
      "\u001b[1m238/238\u001b[0m \u001b[32m━━━━━━━━━━━━━━━━━━━━\u001b[0m\u001b[37m\u001b[0m \u001b[1m2s\u001b[0m 8ms/step - accuracy: 0.9898 - loss: 0.0307 - val_accuracy: 0.7563 - val_loss: 1.5074\n",
      "Epoch 28/50\n",
      "\u001b[1m238/238\u001b[0m \u001b[32m━━━━━━━━━━━━━━━━━━━━\u001b[0m\u001b[37m\u001b[0m \u001b[1m2s\u001b[0m 8ms/step - accuracy: 0.9913 - loss: 0.0287 - val_accuracy: 0.7658 - val_loss: 1.5608\n",
      "Epoch 29/50\n",
      "\u001b[1m238/238\u001b[0m \u001b[32m━━━━━━━━━━━━━━━━━━━━\u001b[0m\u001b[37m\u001b[0m \u001b[1m2s\u001b[0m 8ms/step - accuracy: 0.9935 - loss: 0.0202 - val_accuracy: 0.7674 - val_loss: 1.5638\n",
      "Epoch 30/50\n",
      "\u001b[1m238/238\u001b[0m \u001b[32m━━━━━━━━━━━━━━━━━━━━\u001b[0m\u001b[37m\u001b[0m \u001b[1m2s\u001b[0m 8ms/step - accuracy: 0.9828 - loss: 0.0543 - val_accuracy: 0.7737 - val_loss: 1.4371\n",
      "Epoch 31/50\n",
      "\u001b[1m238/238\u001b[0m \u001b[32m━━━━━━━━━━━━━━━━━━━━\u001b[0m\u001b[37m\u001b[0m \u001b[1m2s\u001b[0m 8ms/step - accuracy: 0.9832 - loss: 0.0504 - val_accuracy: 0.7679 - val_loss: 1.5376\n",
      "Epoch 32/50\n",
      "\u001b[1m238/238\u001b[0m \u001b[32m━━━━━━━━━━━━━━━━━━━━\u001b[0m\u001b[37m\u001b[0m \u001b[1m2s\u001b[0m 8ms/step - accuracy: 0.9969 - loss: 0.0174 - val_accuracy: 0.7742 - val_loss: 1.5596\n",
      "Epoch 33/50\n",
      "\u001b[1m238/238\u001b[0m \u001b[32m━━━━━━━━━━━━━━━━━━━━\u001b[0m\u001b[37m\u001b[0m \u001b[1m2s\u001b[0m 9ms/step - accuracy: 0.9920 - loss: 0.0229 - val_accuracy: 0.7747 - val_loss: 1.5950\n",
      "Epoch 34/50\n",
      "\u001b[1m238/238\u001b[0m \u001b[32m━━━━━━━━━━━━━━━━━━━━\u001b[0m\u001b[37m\u001b[0m \u001b[1m2s\u001b[0m 8ms/step - accuracy: 0.9946 - loss: 0.0229 - val_accuracy: 0.7726 - val_loss: 1.4890\n",
      "Epoch 35/50\n",
      "\u001b[1m238/238\u001b[0m \u001b[32m━━━━━━━━━━━━━━━━━━━━\u001b[0m\u001b[37m\u001b[0m \u001b[1m2s\u001b[0m 8ms/step - accuracy: 0.9907 - loss: 0.0335 - val_accuracy: 0.7674 - val_loss: 1.5598\n",
      "Epoch 36/50\n",
      "\u001b[1m238/238\u001b[0m \u001b[32m━━━━━━━━━━━━━━━━━━━━\u001b[0m\u001b[37m\u001b[0m \u001b[1m2s\u001b[0m 8ms/step - accuracy: 0.9925 - loss: 0.0275 - val_accuracy: 0.7568 - val_loss: 1.5910\n",
      "Epoch 37/50\n",
      "\u001b[1m238/238\u001b[0m \u001b[32m━━━━━━━━━━━━━━━━━━━━\u001b[0m\u001b[37m\u001b[0m \u001b[1m2s\u001b[0m 9ms/step - accuracy: 0.9913 - loss: 0.0288 - val_accuracy: 0.7584 - val_loss: 1.5998\n",
      "Epoch 38/50\n",
      "\u001b[1m238/238\u001b[0m \u001b[32m━━━━━━━━━━━━━━━━━━━━\u001b[0m\u001b[37m\u001b[0m \u001b[1m2s\u001b[0m 8ms/step - accuracy: 0.9952 - loss: 0.0181 - val_accuracy: 0.7653 - val_loss: 1.7308\n",
      "Epoch 39/50\n",
      "\u001b[1m238/238\u001b[0m \u001b[32m━━━━━━━━━━━━━━━━━━━━\u001b[0m\u001b[37m\u001b[0m \u001b[1m2s\u001b[0m 8ms/step - accuracy: 0.9914 - loss: 0.0276 - val_accuracy: 0.7611 - val_loss: 1.5498\n",
      "Epoch 40/50\n",
      "\u001b[1m238/238\u001b[0m \u001b[32m━━━━━━━━━━━━━━━━━━━━\u001b[0m\u001b[37m\u001b[0m \u001b[1m2s\u001b[0m 8ms/step - accuracy: 0.9875 - loss: 0.0412 - val_accuracy: 0.7584 - val_loss: 1.3728\n",
      "Epoch 41/50\n",
      "\u001b[1m238/238\u001b[0m \u001b[32m━━━━━━━━━━━━━━━━━━━━\u001b[0m\u001b[37m\u001b[0m \u001b[1m2s\u001b[0m 8ms/step - accuracy: 0.9911 - loss: 0.0315 - val_accuracy: 0.7611 - val_loss: 1.5285\n",
      "Epoch 42/50\n",
      "\u001b[1m238/238\u001b[0m \u001b[32m━━━━━━━━━━━━━━━━━━━━\u001b[0m\u001b[37m\u001b[0m \u001b[1m2s\u001b[0m 9ms/step - accuracy: 0.9929 - loss: 0.0246 - val_accuracy: 0.7695 - val_loss: 1.7495\n",
      "Epoch 43/50\n",
      "\u001b[1m238/238\u001b[0m \u001b[32m━━━━━━━━━━━━━━━━━━━━\u001b[0m\u001b[37m\u001b[0m \u001b[1m2s\u001b[0m 8ms/step - accuracy: 0.9965 - loss: 0.0143 - val_accuracy: 0.7674 - val_loss: 1.6583\n",
      "Epoch 44/50\n",
      "\u001b[1m238/238\u001b[0m \u001b[32m━━━━━━━━━━━━━━━━━━━━\u001b[0m\u001b[37m\u001b[0m \u001b[1m2s\u001b[0m 8ms/step - accuracy: 0.9965 - loss: 0.0108 - val_accuracy: 0.7700 - val_loss: 1.7378\n",
      "Epoch 45/50\n",
      "\u001b[1m238/238\u001b[0m \u001b[32m━━━━━━━━━━━━━━━━━━━━\u001b[0m\u001b[37m\u001b[0m \u001b[1m2s\u001b[0m 8ms/step - accuracy: 0.9971 - loss: 0.0104 - val_accuracy: 0.7721 - val_loss: 1.8744\n",
      "Epoch 46/50\n",
      "\u001b[1m238/238\u001b[0m \u001b[32m━━━━━━━━━━━━━━━━━━━━\u001b[0m\u001b[37m\u001b[0m \u001b[1m2s\u001b[0m 9ms/step - accuracy: 0.9960 - loss: 0.0125 - val_accuracy: 0.7742 - val_loss: 1.9534\n",
      "Epoch 47/50\n",
      "\u001b[1m238/238\u001b[0m \u001b[32m━━━━━━━━━━━━━━━━━━━━\u001b[0m\u001b[37m\u001b[0m \u001b[1m2s\u001b[0m 9ms/step - accuracy: 0.9955 - loss: 0.0148 - val_accuracy: 0.7589 - val_loss: 1.7027\n",
      "Epoch 48/50\n",
      "\u001b[1m238/238\u001b[0m \u001b[32m━━━━━━━━━━━━━━━━━━━━\u001b[0m\u001b[37m\u001b[0m \u001b[1m2s\u001b[0m 9ms/step - accuracy: 0.9880 - loss: 0.0444 - val_accuracy: 0.7700 - val_loss: 1.6108\n",
      "Epoch 49/50\n",
      "\u001b[1m238/238\u001b[0m \u001b[32m━━━━━━━━━━━━━━━━━━━━\u001b[0m\u001b[37m\u001b[0m \u001b[1m2s\u001b[0m 9ms/step - accuracy: 0.9917 - loss: 0.0284 - val_accuracy: 0.7679 - val_loss: 1.5604\n",
      "Epoch 50/50\n",
      "\u001b[1m238/238\u001b[0m \u001b[32m━━━━━━━━━━━━━━━━━━━━\u001b[0m\u001b[37m\u001b[0m \u001b[1m2s\u001b[0m 9ms/step - accuracy: 0.9924 - loss: 0.0182 - val_accuracy: 0.7658 - val_loss: 1.7029\n"
     ]
    }
   ],
   "source": [
    "# Determine the maximum sequence length in the training set\n",
    "max_len = max(len(seq) for seq in x_train_vec)\n",
    "\n",
    "# Apply padding (zeros at the end of each sequence)\n",
    "X_train_glove_pad = pad_sequences(x_train_vec, maxlen=max_len, padding='post', dtype='float64')\n",
    "X_val_glove_pad = pad_sequences(x_val_vec, maxlen=max_len, padding='post', dtype='float64')\n",
    "\n",
    "# Convert labels to one-hot encoding\n",
    "y_train_lstm = to_categorical(y_train, num_classes=3)\n",
    "y_val_lstm = to_categorical(y_val, num_classes=3)\n",
    "\n",
    "model = Sequential()\n",
    "model.add(Masking(mask_value=0., input_shape=(max_len, emb_size)))  # Ignore padding vectors during training\n",
    "model.add(LSTM(128, return_sequences=False))  # LSTM layer with 128 units\n",
    "model.add(Dropout(0.5))  # Dropout for regularization\n",
    "model.add(Dense(3, activation='softmax'))  # 3 output classes: positive, negative, neutral\n",
    "\n",
    "model.compile(optimizer='adam', loss='categorical_crossentropy', metrics=['accuracy'])\n",
    "model.summary()\n",
    "\n",
    "history = model.fit(\n",
    "    X_train_glove_pad, y_train_lstm,\n",
    "    validation_data=(X_val_glove_pad, y_val_lstm),\n",
    "    epochs=50,\n",
    "    batch_size=32,\n",
    "    verbose=1)"
   ]
  },
  {
   "cell_type": "code",
   "execution_count": 285,
   "id": "05b8e07c",
   "metadata": {},
   "outputs": [
    {
     "name": "stdout",
     "output_type": "stream",
     "text": [
      "\u001b[1m238/238\u001b[0m \u001b[32m━━━━━━━━━━━━━━━━━━━━\u001b[0m\u001b[37m\u001b[0m \u001b[1m1s\u001b[0m 4ms/step\n",
      "\u001b[1m60/60\u001b[0m \u001b[32m━━━━━━━━━━━━━━━━━━━━\u001b[0m\u001b[37m\u001b[0m \u001b[1m0s\u001b[0m 3ms/step\n",
      "Accuracy of train: 0.9980\n",
      "F1 Macro (Train): 0.9969\n",
      "Accuracy of val: 0.7658\n",
      "\u001b[1mF1 Macro (Val)\u001b[0m: 0.6737\n",
      "Precision (Val): 0.6879\n",
      "Recall (Val): 0.6621\n",
      "\n",
      "Confusion Matrix for Validation Data:\n",
      "[[ 148   45   95]\n",
      " [  36  228  120]\n",
      " [  71   78 1079]]\n",
      "\n",
      "Classification Report for Validation Data:\n",
      "              precision    recall  f1-score   support\n",
      "\n",
      "           0       0.58      0.51      0.55       288\n",
      "           1       0.65      0.59      0.62       384\n",
      "           2       0.83      0.88      0.86      1228\n",
      "\n",
      "    accuracy                           0.77      1900\n",
      "   macro avg       0.69      0.66      0.67      1900\n",
      "weighted avg       0.76      0.77      0.76      1900\n",
      "\n"
     ]
    }
   ],
   "source": [
    "# convert one-hot predictions (or softmax probabilities) to class labels using argmax\n",
    "y_pred_train_labels = np.argmax(model.predict(X_train_glove_pad), axis=1)\n",
    "y_pred_val_labels = np.argmax(model.predict(X_val_glove_pad), axis=1)\n",
    "\n",
    "# evaluate the model\n",
    "lstm_glove_accuracy, lstm_glove_f1_macro, lstm_glove_precision, lstm_glove_recall = evaluate_model_predictions(y_pred_train=y_pred_train_labels, y_pred_val=y_pred_val_labels)"
   ]
  },
  {
   "cell_type": "markdown",
   "id": "79a4bb39",
   "metadata": {},
   "source": [
    "To explore the potential of sequential modeling, we implemented a Long Short-Term Memory (LSTM) neural network. Three variations were tested: one with randomly initialized trainable embeddings, one using Word2Vec, and another leveraging pre-trained GloVe embeddings.\n",
    "\n",
    "In the first approach, using random embeddings, the model showed very limited learning capacity. Both training and validation accuracy stabilized at around 64%, and the macro F1-score remained extremely low (0.26). These results suggest that the model failed to learn useful representations from the data, potentially due to the short and noisy nature of tweets combined with the lack of pre-trained semantic knowledge.\n",
    "\n",
    "The Word2Vec-based LSTM did yield an improvement over the random embedding variant. It achieved a validation accuracy of approximately 67% and a macro F1-score of 0.48. However, the confusion matrix revealed poor recall for minority classes, with significant misclassifications for Classes 0 and 1. This underperformance may stem from the limitations of static, averaged embeddings which lack context sensitivity.\n",
    "\n",
    "In contrast, the GloVe-augmented LSTM demonstrated considerably better results. The model reached nearly perfect training metrics (accuracy and F1 near 1.0), which hints at potential overfitting. Nevertheless, its validation performance was strong, with an accuracy of 76.6% and a macro F1-score of 0.6737. Precision and recall were also well balanced across all classes, indicating that despite some overfitting, the model was able to generalize effectively when initialized with rich semantic vectors from GloVe.\n",
    "\n",
    "In summary, among the three, GloVe proved to be the most effective, offering a valuable balance between learned representation and generalization."
   ]
  },
  {
   "cell_type": "markdown",
   "id": "cae26667",
   "metadata": {},
   "source": [
    "### 2.2.6. XGBOOST"
   ]
  },
  {
   "cell_type": "markdown",
   "id": "6c523965",
   "metadata": {},
   "source": [
    "#### With BOW"
   ]
  },
  {
   "cell_type": "code",
   "execution_count": 287,
   "id": "e1a08390",
   "metadata": {},
   "outputs": [
    {
     "name": "stderr",
     "output_type": "stream",
     "text": [
      "c:\\Users\\paulo\\anaconda3\\Lib\\site-packages\\xgboost\\sklearn.py:1395: UserWarning: `use_label_encoder` is deprecated in 1.7.0.\n",
      "  warnings.warn(\"`use_label_encoder` is deprecated in 1.7.0.\")\n"
     ]
    },
    {
     "name": "stdout",
     "output_type": "stream",
     "text": [
      "Accuracy of train: 0.7511\n",
      "F1 Macro (Train): 0.5832\n",
      "Accuracy of val: 0.7253\n",
      "\u001b[1mF1 Macro (Val)\u001b[0m: 0.5200\n",
      "Precision (Val): 0.7942\n",
      "Recall (Val): 0.4885\n",
      "\n",
      "Confusion Matrix for Validation Data:\n",
      "[[  49   16  223]\n",
      " [   2  119  263]\n",
      " [   6   12 1210]]\n",
      "\n",
      "Classification Report for Validation Data:\n",
      "              precision    recall  f1-score   support\n",
      "\n",
      "           0       0.86      0.17      0.28       288\n",
      "           1       0.81      0.31      0.45       384\n",
      "           2       0.71      0.99      0.83      1228\n",
      "\n",
      "    accuracy                           0.73      1900\n",
      "   macro avg       0.79      0.49      0.52      1900\n",
      "weighted avg       0.76      0.73      0.67      1900\n",
      "\n"
     ]
    }
   ],
   "source": [
    "clf_xgb = xgb.XGBClassifier(n_estimators=100, max_depth=4, learning_rate=0.1, use_label_encoder=False, eval_metric='mlogloss', random_state=13)\n",
    "clf_xgb.fit(X_train_bow, y_train)\n",
    "y_pred_train = clf_xgb.predict(X_train_bow)\n",
    "y_pred_val = clf_xgb.predict(X_val_bow)\n",
    "\n",
    "xgb_bow_accuracy, xgb_bow_f1_macro, xgb_bow_precision, xgb_bow_recall = evaluate_model_predictions(y_pred_train=y_pred_train, y_pred_val=y_pred_val)"
   ]
  },
  {
   "cell_type": "markdown",
   "id": "71e811cc",
   "metadata": {},
   "source": [
    "#### With TF-IDF"
   ]
  },
  {
   "cell_type": "code",
   "execution_count": 288,
   "id": "cf15f6bc",
   "metadata": {},
   "outputs": [
    {
     "name": "stderr",
     "output_type": "stream",
     "text": [
      "c:\\Users\\paulo\\anaconda3\\Lib\\site-packages\\xgboost\\sklearn.py:1395: UserWarning: `use_label_encoder` is deprecated in 1.7.0.\n",
      "  warnings.warn(\"`use_label_encoder` is deprecated in 1.7.0.\")\n"
     ]
    },
    {
     "name": "stdout",
     "output_type": "stream",
     "text": [
      "Accuracy of train: 0.7621\n",
      "F1 Macro (Train): 0.6058\n",
      "Accuracy of val: 0.7237\n",
      "\u001b[1mF1 Macro (Val)\u001b[0m: 0.5238\n",
      "Precision (Val): 0.7816\n",
      "Recall (Val): 0.4903\n",
      "\n",
      "Confusion Matrix for Validation Data:\n",
      "[[  56   16  216]\n",
      " [   2  113  269]\n",
      " [   9   13 1206]]\n",
      "\n",
      "Classification Report for Validation Data:\n",
      "              precision    recall  f1-score   support\n",
      "\n",
      "           0       0.84      0.19      0.32       288\n",
      "           1       0.80      0.29      0.43       384\n",
      "           2       0.71      0.98      0.83      1228\n",
      "\n",
      "    accuracy                           0.72      1900\n",
      "   macro avg       0.78      0.49      0.52      1900\n",
      "weighted avg       0.75      0.72      0.67      1900\n",
      "\n"
     ]
    }
   ],
   "source": [
    "clf_xgb = xgb.XGBClassifier(n_estimators=100, max_depth=4, learning_rate=0.1, use_label_encoder=False, eval_metric='mlogloss', random_state=13)\n",
    "clf_xgb.fit(X_train_tfidf, y_train)\n",
    "y_pred_train = clf_xgb.predict(X_train_tfidf)\n",
    "y_pred_val = clf_xgb.predict(X_val_tfidf)\n",
    "\n",
    "xgb_idf_accuracy, xgb_idf_f1_macro, xgb_idf_precision, xgb_idf_recall = evaluate_model_predictions(y_pred_train=y_pred_train, y_pred_val=y_pred_val)"
   ]
  },
  {
   "cell_type": "markdown",
   "id": "57156e2a",
   "metadata": {},
   "source": [
    "#### With Word2Vec"
   ]
  },
  {
   "cell_type": "code",
   "execution_count": 289,
   "id": "6528882f",
   "metadata": {},
   "outputs": [
    {
     "name": "stderr",
     "output_type": "stream",
     "text": [
      "c:\\Users\\paulo\\anaconda3\\Lib\\site-packages\\xgboost\\sklearn.py:1395: UserWarning: `use_label_encoder` is deprecated in 1.7.0.\n",
      "  warnings.warn(\"`use_label_encoder` is deprecated in 1.7.0.\")\n"
     ]
    },
    {
     "name": "stdout",
     "output_type": "stream",
     "text": [
      "Accuracy of train: 0.7461\n",
      "F1 Macro (Train): 0.5629\n",
      "Accuracy of val: 0.6826\n",
      "\u001b[1mF1 Macro (Val)\u001b[0m: 0.4251\n",
      "Precision (Val): 0.5939\n",
      "Recall (Val): 0.4277\n",
      "\n",
      "Confusion Matrix for Validation Data:\n",
      "[[  18   38  232]\n",
      " [  10  100  274]\n",
      " [   6   43 1179]]\n",
      "\n",
      "Classification Report for Validation Data:\n",
      "              precision    recall  f1-score   support\n",
      "\n",
      "           0       0.53      0.06      0.11       288\n",
      "           1       0.55      0.26      0.35       384\n",
      "           2       0.70      0.96      0.81      1228\n",
      "\n",
      "    accuracy                           0.68      1900\n",
      "   macro avg       0.59      0.43      0.43      1900\n",
      "weighted avg       0.64      0.68      0.61      1900\n",
      "\n"
     ]
    }
   ],
   "source": [
    "clf_xgb = xgb.XGBClassifier(n_estimators=100, max_depth=4, learning_rate=0.1, use_label_encoder=False, eval_metric='mlogloss', random_state=13)\n",
    "clf_xgb.fit(X_train_w2v, y_train)\n",
    "y_pred_train = clf_xgb.predict(X_train_w2v)\n",
    "y_pred_val = clf_xgb.predict(X_val_w2v)\n",
    "\n",
    "xgb_w2v_accuracy, xgb_w2v_f1_macro, xgb_w2v_precision, xgb_w2v_recall = evaluate_model_predictions(y_pred_train=y_pred_train, y_pred_val=y_pred_val)"
   ]
  },
  {
   "cell_type": "markdown",
   "id": "0d98265e",
   "metadata": {},
   "source": [
    "#### With GloVe"
   ]
  },
  {
   "cell_type": "code",
   "execution_count": 290,
   "id": "d5a803fa",
   "metadata": {},
   "outputs": [
    {
     "name": "stderr",
     "output_type": "stream",
     "text": [
      "c:\\Users\\paulo\\anaconda3\\Lib\\site-packages\\xgboost\\sklearn.py:1395: UserWarning: `use_label_encoder` is deprecated in 1.7.0.\n",
      "  warnings.warn(\"`use_label_encoder` is deprecated in 1.7.0.\")\n"
     ]
    },
    {
     "name": "stdout",
     "output_type": "stream",
     "text": [
      "Accuracy of train: 0.8240\n",
      "F1 Macro (Train): 0.7323\n",
      "Accuracy of val: 0.7332\n",
      "\u001b[1mF1 Macro (Val)\u001b[0m: 0.5594\n",
      "Precision (Val): 0.6997\n",
      "Recall (Val): 0.5264\n",
      "\n",
      "Confusion Matrix for Validation Data:\n",
      "[[  69   34  185]\n",
      " [  21  146  217]\n",
      " [  10   40 1178]]\n",
      "\n",
      "Classification Report for Validation Data:\n",
      "              precision    recall  f1-score   support\n",
      "\n",
      "           0       0.69      0.24      0.36       288\n",
      "           1       0.66      0.38      0.48       384\n",
      "           2       0.75      0.96      0.84      1228\n",
      "\n",
      "    accuracy                           0.73      1900\n",
      "   macro avg       0.70      0.53      0.56      1900\n",
      "weighted avg       0.72      0.73      0.69      1900\n",
      "\n"
     ]
    }
   ],
   "source": [
    "clf_xgb = xgb.XGBClassifier(n_estimators=100, max_depth=4, learning_rate=0.1, use_label_encoder=False, eval_metric='mlogloss', random_state=13)\n",
    "clf_xgb.fit(X_train_glove_avg, y_train)\n",
    "y_pred_train = clf_xgb.predict(X_train_glove_avg)\n",
    "y_pred_val = clf_xgb.predict(X_val_glove_avg)\n",
    "\n",
    "xgb_glove_accuracy, xgb_glove_f1_macro, xgb_glove_precision, xgb_glove_recall = evaluate_model_predictions(y_pred_train=y_pred_train, y_pred_val=y_pred_val)"
   ]
  },
  {
   "cell_type": "markdown",
   "id": "9faff0ec",
   "metadata": {},
   "source": [
    "#### With RoBERTa"
   ]
  },
  {
   "cell_type": "code",
   "execution_count": 291,
   "id": "c5ee5744",
   "metadata": {},
   "outputs": [
    {
     "name": "stderr",
     "output_type": "stream",
     "text": [
      "c:\\Users\\paulo\\anaconda3\\Lib\\site-packages\\xgboost\\sklearn.py:1395: UserWarning: `use_label_encoder` is deprecated in 1.7.0.\n",
      "  warnings.warn(\"`use_label_encoder` is deprecated in 1.7.0.\")\n"
     ]
    },
    {
     "name": "stdout",
     "output_type": "stream",
     "text": [
      "Accuracy of train: 0.9311\n",
      "F1 Macro (Train): 0.9104\n",
      "Accuracy of val: 0.8119\n",
      "\u001b[1mF1 Macro (Val)\u001b[0m: 0.7114\n",
      "Precision (Val): 0.8015\n",
      "Recall (Val): 0.6684\n",
      "\n",
      "Confusion Matrix for Validation Data:\n",
      "[[ 129   36  123]\n",
      " [  19  228  138]\n",
      " [  10   33 1193]]\n",
      "\n",
      "Classification Report for Validation Data:\n",
      "              precision    recall  f1-score   support\n",
      "\n",
      "           0       0.82      0.45      0.58       288\n",
      "           1       0.77      0.59      0.67       385\n",
      "           2       0.82      0.97      0.89      1236\n",
      "\n",
      "    accuracy                           0.81      1909\n",
      "   macro avg       0.80      0.67      0.71      1909\n",
      "weighted avg       0.81      0.81      0.80      1909\n",
      "\n"
     ]
    }
   ],
   "source": [
    "clf_xgb = xgb.XGBClassifier(n_estimators=100, max_depth=4, learning_rate=0.1, use_label_encoder=False, eval_metric='mlogloss', random_state=13)\n",
    "clf_xgb.fit(X_train_roberta, y_train_raw)\n",
    "y_pred_train = clf_xgb.predict(X_train_roberta)\n",
    "y_pred_val = clf_xgb.predict(X_val_roberta)\n",
    "\n",
    "xgb_roberta_accuracy, xgb_roberta_f1_macro, xgb_roberta_precision, xgb_roberta_recall = evaluate_model_predictions(y_pred_train, y_pred_val, y_train=y_train_raw, y_val=y_val_raw)"
   ]
  },
  {
   "cell_type": "markdown",
   "id": "839c9a9f",
   "metadata": {},
   "source": [
    "#### With BERTweet"
   ]
  },
  {
   "cell_type": "code",
   "execution_count": 292,
   "id": "a1282a9e",
   "metadata": {},
   "outputs": [
    {
     "name": "stderr",
     "output_type": "stream",
     "text": [
      "c:\\Users\\paulo\\anaconda3\\Lib\\site-packages\\xgboost\\sklearn.py:1395: UserWarning: `use_label_encoder` is deprecated in 1.7.0.\n",
      "  warnings.warn(\"`use_label_encoder` is deprecated in 1.7.0.\")\n"
     ]
    },
    {
     "name": "stdout",
     "output_type": "stream",
     "text": [
      "Accuracy of train: 0.8995\n",
      "F1 Macro (Train): 0.8623\n",
      "Accuracy of val: 0.7632\n",
      "\u001b[1mF1 Macro (Val)\u001b[0m: 0.6190\n",
      "Precision (Val): 0.7221\n",
      "Recall (Val): 0.5846\n",
      "\n",
      "Confusion Matrix for Validation Data:\n",
      "[[  85   42  161]\n",
      " [  25  195  165]\n",
      " [  12   47 1177]]\n",
      "\n",
      "Classification Report for Validation Data:\n",
      "              precision    recall  f1-score   support\n",
      "\n",
      "           0       0.70      0.30      0.41       288\n",
      "           1       0.69      0.51      0.58       385\n",
      "           2       0.78      0.95      0.86      1236\n",
      "\n",
      "    accuracy                           0.76      1909\n",
      "   macro avg       0.72      0.58      0.62      1909\n",
      "weighted avg       0.75      0.76      0.74      1909\n",
      "\n"
     ]
    }
   ],
   "source": [
    "clf_xgb = xgb.XGBClassifier(n_estimators=100, max_depth=4, learning_rate=0.1, use_label_encoder=False, eval_metric='mlogloss', random_state=13)\n",
    "clf_xgb.fit(X_train_bertweet, y_train_raw)\n",
    "y_pred_train = clf_xgb.predict(X_train_bertweet)\n",
    "y_pred_val = clf_xgb.predict(X_val_bertweet)\n",
    "\n",
    "xgb_bertweet_accuracy, xgb_bertweet_f1_macro, xgb_bertweet_precision, xgb_bertweet_recall = evaluate_model_predictions(y_pred_train, y_pred_val, y_train=y_train_raw, y_val=y_val_raw)"
   ]
  },
  {
   "cell_type": "markdown",
   "id": "7fac4d85",
   "metadata": {},
   "source": [
    "#### With USE"
   ]
  },
  {
   "cell_type": "code",
   "execution_count": 293,
   "id": "e7669b7f",
   "metadata": {},
   "outputs": [
    {
     "name": "stderr",
     "output_type": "stream",
     "text": [
      "c:\\Users\\paulo\\anaconda3\\Lib\\site-packages\\xgboost\\sklearn.py:1395: UserWarning: `use_label_encoder` is deprecated in 1.7.0.\n",
      "  warnings.warn(\"`use_label_encoder` is deprecated in 1.7.0.\")\n"
     ]
    },
    {
     "name": "stdout",
     "output_type": "stream",
     "text": [
      "Accuracy of train: 0.8816\n",
      "F1 Macro (Train): 0.8354\n",
      "Accuracy of val: 0.7386\n",
      "\u001b[1mF1 Macro (Val)\u001b[0m: 0.5775\n",
      "Precision (Val): 0.6779\n",
      "Recall (Val): 0.5445\n",
      "\n",
      "Confusion Matrix for Validation Data:\n",
      "[[  91   38  159]\n",
      " [  35  140  210]\n",
      " [  22   35 1179]]\n",
      "\n",
      "Classification Report for Validation Data:\n",
      "              precision    recall  f1-score   support\n",
      "\n",
      "           0       0.61      0.32      0.42       288\n",
      "           1       0.66      0.36      0.47       385\n",
      "           2       0.76      0.95      0.85      1236\n",
      "\n",
      "    accuracy                           0.74      1909\n",
      "   macro avg       0.68      0.54      0.58      1909\n",
      "weighted avg       0.72      0.74      0.71      1909\n",
      "\n"
     ]
    }
   ],
   "source": [
    "clf_xgb = xgb.XGBClassifier(n_estimators=100, max_depth=4, learning_rate=0.1, use_label_encoder=False, eval_metric='mlogloss', random_state=13)\n",
    "clf_xgb.fit(X_train_use, y_train_raw)\n",
    "y_pred_train = clf_xgb.predict(X_train_use)\n",
    "y_pred_val = clf_xgb.predict(X_val_use)\n",
    "\n",
    "xgb_use_accuracy, xgb_use_f1_macro, xgb_use_precision, xgb_use_recall = evaluate_model_predictions(y_pred_train, y_pred_val, y_train=y_train_raw, y_val=y_val_raw)"
   ]
  },
  {
   "cell_type": "markdown",
   "id": "5ef26492",
   "metadata": {},
   "source": [
    "In this phase, we applied the XGBoost algorithm, RoBERTa once again delivered the most effective performance. This setup achieved a validation accuracy of 0.8119 and a macro F1-score of 0.7114, outperforming all other embedding combinations. It maintained strong results across all classes, showing a good balance between precision (0.8015) and recall (0.6684). These outcomes further reinforce the trend observed across our experiments: RoBERTa embeddings provide consistently high-quality representations, even with different classifiers.\n",
    "\n",
    "On the other hand, embeddings like Word2Vec and BoW showed noticeably weaker results. Word2Vec, in particular, yielded a significantly lower macro F1-score (0.4251) and overall accuracy (0.6826), again confirming its limited compatibility with our dataset. GloVe, though better, still underperformed compared to contextual embeddings.\n",
    "\n",
    "In conclusion, XGBoost proved to be a strong performer, especially when paired with RoBERTa embeddings."
   ]
  },
  {
   "cell_type": "markdown",
   "id": "f15f3216",
   "metadata": {},
   "source": [
    "### 2.2.7. Ensemble Model with Voting Classifier Combining Logistic Regression, MLP, and XGBoost"
   ]
  },
  {
   "cell_type": "markdown",
   "id": "9a96a673",
   "metadata": {},
   "source": [
    "#### With Bow"
   ]
  },
  {
   "cell_type": "code",
   "execution_count": null,
   "id": "f3442a75",
   "metadata": {},
   "outputs": [
    {
     "name": "stderr",
     "output_type": "stream",
     "text": [
      "c:\\Users\\paulo\\anaconda3\\Lib\\site-packages\\xgboost\\sklearn.py:1395: UserWarning: `use_label_encoder` is deprecated in 1.7.0.\n",
      "  warnings.warn(\"`use_label_encoder` is deprecated in 1.7.0.\")\n",
      "c:\\Users\\paulo\\anaconda3\\Lib\\site-packages\\xgboost\\sklearn.py:1395: UserWarning: `use_label_encoder` is deprecated in 1.7.0.\n",
      "  warnings.warn(\"`use_label_encoder` is deprecated in 1.7.0.\")\n"
     ]
    },
    {
     "name": "stdout",
     "output_type": "stream",
     "text": [
      "Accuracy of train: 0.9862\n",
      "F1 Macro (Train): 0.9810\n",
      "Accuracy of val: 0.7926\n",
      "\u001b[1mF1 Macro (Val)\u001b[0m: 0.7083\n",
      "Precision (Val): 0.7305\n",
      "Recall (Val): 0.6913\n",
      "\n",
      "Confusion Matrix for Validation Data:\n",
      "[[ 164   38   86]\n",
      " [  33  230  121]\n",
      " [  59   57 1112]]\n",
      "\n",
      "Classification Report for Validation Data:\n",
      "              precision    recall  f1-score   support\n",
      "\n",
      "           0       0.64      0.57      0.60       288\n",
      "           1       0.71      0.60      0.65       384\n",
      "           2       0.84      0.91      0.87      1228\n",
      "\n",
      "    accuracy                           0.79      1900\n",
      "   macro avg       0.73      0.69      0.71      1900\n",
      "weighted avg       0.79      0.79      0.79      1900\n",
      "\n"
     ]
    }
   ],
   "source": [
    "clf1 = LogisticRegression(class_weight='balanced', max_iter=1000)\n",
    "clf2 = MLPClassifier(hidden_layer_sizes=(256, 128), max_iter=300)\n",
    "clf3 = xgb.XGBClassifier(use_label_encoder=False, eval_metric='mlogloss')\n",
    "\n",
    "ensemble = VotingClassifier(estimators=[('lr', clf1), ('mlp', clf2), ('xgb', clf3)], voting='hard')\n",
    "\n",
    "ensemble.fit(X_train_bow, y_train)\n",
    "y_pred_val = ensemble.predict(X_val_bow)\n",
    "y_pred_train = ensemble.predict(X_train_bow)\n",
    "\n",
    "ensemble_bow_accuracy, ensemble_bow_f1_macro, ensemble_bow_precision, ensemble_bow_recall = evaluate_model_predictions(y_pred_train, y_pred_val)"
   ]
  },
  {
   "cell_type": "markdown",
   "id": "95b3fccf",
   "metadata": {},
   "source": [
    "#### With TF-IDF"
   ]
  },
  {
   "cell_type": "code",
   "execution_count": 295,
   "id": "1b8f16bd",
   "metadata": {},
   "outputs": [
    {
     "name": "stderr",
     "output_type": "stream",
     "text": [
      "c:\\Users\\paulo\\anaconda3\\Lib\\site-packages\\xgboost\\sklearn.py:1395: UserWarning: `use_label_encoder` is deprecated in 1.7.0.\n",
      "  warnings.warn(\"`use_label_encoder` is deprecated in 1.7.0.\")\n"
     ]
    },
    {
     "name": "stdout",
     "output_type": "stream",
     "text": [
      "Accuracy of train: 0.9764\n",
      "F1 Macro (Train): 0.9663\n",
      "Accuracy of val: 0.7842\n",
      "\u001b[1mF1 Macro (Val)\u001b[0m: 0.6937\n",
      "Precision (Val): 0.7213\n",
      "Recall (Val): 0.6745\n",
      "\n",
      "Confusion Matrix for Validation Data:\n",
      "[[ 158   32   98]\n",
      " [  39  218  127]\n",
      " [  62   52 1114]]\n",
      "\n",
      "Classification Report for Validation Data:\n",
      "              precision    recall  f1-score   support\n",
      "\n",
      "           0       0.61      0.55      0.58       288\n",
      "           1       0.72      0.57      0.64       384\n",
      "           2       0.83      0.91      0.87      1228\n",
      "\n",
      "    accuracy                           0.78      1900\n",
      "   macro avg       0.72      0.67      0.69      1900\n",
      "weighted avg       0.78      0.78      0.78      1900\n",
      "\n"
     ]
    }
   ],
   "source": [
    "ensemble = VotingClassifier(estimators=[('lr', clf1), ('mlp', clf2), ('xgb', clf3)], voting='hard')\n",
    "ensemble.fit(X_train_tfidf, y_train)\n",
    "y_pred_val = ensemble.predict(X_val_tfidf)\n",
    "y_pred_train = ensemble.predict(X_train_tfidf)\n",
    "\n",
    "ensemble_idf_accuracy, ensemble_idf_f1_macro, ensemble_idf_precision, ensemble_idf_recall = evaluate_model_predictions(y_pred_train, y_pred_val)"
   ]
  },
  {
   "cell_type": "markdown",
   "id": "d5968070",
   "metadata": {},
   "source": [
    "#### With Word2Vec"
   ]
  },
  {
   "cell_type": "code",
   "execution_count": 296,
   "id": "e6ecc689",
   "metadata": {},
   "outputs": [
    {
     "name": "stderr",
     "output_type": "stream",
     "text": [
      "c:\\Users\\paulo\\anaconda3\\Lib\\site-packages\\xgboost\\sklearn.py:1395: UserWarning: `use_label_encoder` is deprecated in 1.7.0.\n",
      "  warnings.warn(\"`use_label_encoder` is deprecated in 1.7.0.\")\n"
     ]
    },
    {
     "name": "stdout",
     "output_type": "stream",
     "text": [
      "Accuracy of train: 0.8185\n",
      "F1 Macro (Train): 0.7156\n",
      "Accuracy of val: 0.6816\n",
      "\u001b[1mF1 Macro (Val)\u001b[0m: 0.4751\n",
      "Precision (Val): 0.5471\n",
      "Recall (Val): 0.4614\n",
      "\n",
      "Confusion Matrix for Validation Data:\n",
      "[[  52   43  193]\n",
      " [  43  107  234]\n",
      " [  42   50 1136]]\n",
      "\n",
      "Classification Report for Validation Data:\n",
      "              precision    recall  f1-score   support\n",
      "\n",
      "           0       0.38      0.18      0.24       288\n",
      "           1       0.54      0.28      0.37       384\n",
      "           2       0.73      0.93      0.81      1228\n",
      "\n",
      "    accuracy                           0.68      1900\n",
      "   macro avg       0.55      0.46      0.48      1900\n",
      "weighted avg       0.64      0.68      0.64      1900\n",
      "\n"
     ]
    }
   ],
   "source": [
    "ensemble = VotingClassifier(estimators=[('lr', clf1), ('mlp', clf2), ('xgb', clf3)], voting='hard')\n",
    "ensemble.fit(X_train_w2v, y_train)\n",
    "y_pred_val = ensemble.predict(X_val_w2v)\n",
    "y_pred_train = ensemble.predict(X_train_w2v)\n",
    "\n",
    "ensemble_w2v_accuracy, ensemble_w2v_f1_macro, ensemble_w2v_precision, ensemble_w2v_recall = evaluate_model_predictions(y_pred_train, y_pred_val)"
   ]
  },
  {
   "cell_type": "markdown",
   "id": "8da827cd",
   "metadata": {},
   "source": [
    "#### With GloVe"
   ]
  },
  {
   "cell_type": "code",
   "execution_count": 297,
   "id": "280d05e4",
   "metadata": {},
   "outputs": [
    {
     "name": "stderr",
     "output_type": "stream",
     "text": [
      "c:\\Users\\paulo\\anaconda3\\Lib\\site-packages\\xgboost\\sklearn.py:1395: UserWarning: `use_label_encoder` is deprecated in 1.7.0.\n",
      "  warnings.warn(\"`use_label_encoder` is deprecated in 1.7.0.\")\n"
     ]
    },
    {
     "name": "stdout",
     "output_type": "stream",
     "text": [
      "Accuracy of train: 0.9984\n",
      "F1 Macro (Train): 0.9975\n",
      "Accuracy of val: 0.7437\n",
      "\u001b[1mF1 Macro (Val)\u001b[0m: 0.6326\n",
      "Precision (Val): 0.6536\n",
      "Recall (Val): 0.6183\n",
      "\n",
      "Confusion Matrix for Validation Data:\n",
      "[[ 135   42  111]\n",
      " [  55  193  136]\n",
      " [  74   69 1085]]\n",
      "\n",
      "Classification Report for Validation Data:\n",
      "              precision    recall  f1-score   support\n",
      "\n",
      "           0       0.51      0.47      0.49       288\n",
      "           1       0.63      0.50      0.56       384\n",
      "           2       0.81      0.88      0.85      1228\n",
      "\n",
      "    accuracy                           0.74      1900\n",
      "   macro avg       0.65      0.62      0.63      1900\n",
      "weighted avg       0.73      0.74      0.74      1900\n",
      "\n"
     ]
    }
   ],
   "source": [
    "ensemble = VotingClassifier(estimators=[('lr', clf1), ('mlp', clf2), ('xgb', clf3)], voting='hard')\n",
    "ensemble.fit(X_train_glove_avg, y_train)\n",
    "y_pred_val = ensemble.predict(X_val_glove_avg)\n",
    "y_pred_train = ensemble.predict(X_train_glove_avg)\n",
    "\n",
    "ensemble_glove_accuracy, ensemble_glove_f1_macro, ensemble_glove_precision, ensemble_glove_recall = evaluate_model_predictions(y_pred_train, y_pred_val)"
   ]
  },
  {
   "cell_type": "markdown",
   "id": "fe01f1a1",
   "metadata": {},
   "source": [
    "#### With RoBERTa"
   ]
  },
  {
   "cell_type": "code",
   "execution_count": 298,
   "id": "40921e85",
   "metadata": {},
   "outputs": [
    {
     "name": "stderr",
     "output_type": "stream",
     "text": [
      "c:\\Users\\paulo\\anaconda3\\Lib\\site-packages\\xgboost\\sklearn.py:1395: UserWarning: `use_label_encoder` is deprecated in 1.7.0.\n",
      "  warnings.warn(\"`use_label_encoder` is deprecated in 1.7.0.\")\n"
     ]
    },
    {
     "name": "stdout",
     "output_type": "stream",
     "text": [
      "Accuracy of train: 0.9992\n",
      "F1 Macro (Train): 0.9990\n",
      "Accuracy of val: 0.8460\n",
      "\u001b[1mF1 Macro (Val)\u001b[0m: 0.7807\n",
      "Precision (Val): 0.8054\n",
      "Recall (Val): 0.7610\n",
      "\n",
      "Confusion Matrix for Validation Data:\n",
      "[[ 186   25   77]\n",
      " [  31  269   85]\n",
      " [  40   36 1160]]\n",
      "\n",
      "Classification Report for Validation Data:\n",
      "              precision    recall  f1-score   support\n",
      "\n",
      "           0       0.72      0.65      0.68       288\n",
      "           1       0.82      0.70      0.75       385\n",
      "           2       0.88      0.94      0.91      1236\n",
      "\n",
      "    accuracy                           0.85      1909\n",
      "   macro avg       0.81      0.76      0.78      1909\n",
      "weighted avg       0.84      0.85      0.84      1909\n",
      "\n"
     ]
    }
   ],
   "source": [
    "ensemble = VotingClassifier(estimators=[('lr', clf1), ('mlp', clf2), ('xgb', clf3)], voting='hard')\n",
    "ensemble.fit(X_train_roberta, y_train_raw)\n",
    "y_pred_val = ensemble.predict(X_val_roberta)\n",
    "y_pred_train = ensemble.predict(X_train_roberta)\n",
    "\n",
    "ensemble_roberta_accuracy, ensemble_roberta_f1_macro, ensemble_roberta_precision, ensemble_roberta_recall = evaluate_model_predictions(y_pred_train, y_pred_val, y_train=y_train_raw, y_val=y_val_raw)"
   ]
  },
  {
   "cell_type": "markdown",
   "id": "8448d431",
   "metadata": {},
   "source": [
    "#### With BERTweet"
   ]
  },
  {
   "cell_type": "code",
   "execution_count": 366,
   "id": "c15198a6",
   "metadata": {},
   "outputs": [
    {
     "name": "stderr",
     "output_type": "stream",
     "text": [
      "c:\\Users\\paulo\\anaconda3\\Lib\\site-packages\\xgboost\\sklearn.py:1395: UserWarning: `use_label_encoder` is deprecated in 1.7.0.\n",
      "  warnings.warn(\"`use_label_encoder` is deprecated in 1.7.0.\")\n"
     ]
    },
    {
     "name": "stdout",
     "output_type": "stream",
     "text": [
      "Accuracy of train: 0.9962\n",
      "F1 Macro (Train): 0.9942\n",
      "Accuracy of val: 0.8240\n",
      "\u001b[1mF1 Macro (Val)\u001b[0m: 0.7614\n",
      "Precision (Val): 0.7683\n",
      "Recall (Val): 0.7579\n",
      "\n",
      "Confusion Matrix for Validation Data:\n",
      "[[ 204   22   62]\n",
      " [  39  256   90]\n",
      " [  69   54 1113]]\n",
      "\n",
      "Classification Report for Validation Data:\n",
      "              precision    recall  f1-score   support\n",
      "\n",
      "           0       0.65      0.71      0.68       288\n",
      "           1       0.77      0.66      0.71       385\n",
      "           2       0.88      0.90      0.89      1236\n",
      "\n",
      "    accuracy                           0.82      1909\n",
      "   macro avg       0.77      0.76      0.76      1909\n",
      "weighted avg       0.82      0.82      0.82      1909\n",
      "\n"
     ]
    }
   ],
   "source": [
    "ensemble = VotingClassifier(estimators=[('lr', clf1), ('mlp', clf2), ('xgb', clf3)], voting='hard')\n",
    "ensemble.fit(X_train_bertweet, y_train_raw)\n",
    "y_pred_val = ensemble.predict(X_val_bertweet)\n",
    "y_pred_train = ensemble.predict(X_train_bertweet)\n",
    "\n",
    "ensemble_bertweet_accuracy, ensemble_bertweet_f1_macro, ensemble_bertweet_precision, ensemble_bertweet_recall = evaluate_model_predictions(y_pred_train, y_pred_val, y_train=y_train_raw, y_val=y_val_raw)"
   ]
  },
  {
   "cell_type": "markdown",
   "id": "a468a4ad",
   "metadata": {},
   "source": [
    "#### With USE"
   ]
  },
  {
   "cell_type": "code",
   "execution_count": 367,
   "id": "628d3ee0",
   "metadata": {},
   "outputs": [
    {
     "name": "stderr",
     "output_type": "stream",
     "text": [
      "c:\\Users\\paulo\\anaconda3\\Lib\\site-packages\\xgboost\\sklearn.py:1395: UserWarning: `use_label_encoder` is deprecated in 1.7.0.\n",
      "  warnings.warn(\"`use_label_encoder` is deprecated in 1.7.0.\")\n"
     ]
    },
    {
     "name": "stdout",
     "output_type": "stream",
     "text": [
      "Accuracy of train: 0.9999\n",
      "F1 Macro (Train): 0.9998\n",
      "Accuracy of val: 0.7742\n",
      "\u001b[1mF1 Macro (Val)\u001b[0m: 0.6821\n",
      "Precision (Val): 0.6963\n",
      "Recall (Val): 0.6735\n",
      "\n",
      "Confusion Matrix for Validation Data:\n",
      "[[ 170   37   81]\n",
      " [  56  208  121]\n",
      " [  74   62 1100]]\n",
      "\n",
      "Classification Report for Validation Data:\n",
      "              precision    recall  f1-score   support\n",
      "\n",
      "           0       0.57      0.59      0.58       288\n",
      "           1       0.68      0.54      0.60       385\n",
      "           2       0.84      0.89      0.87      1236\n",
      "\n",
      "    accuracy                           0.77      1909\n",
      "   macro avg       0.70      0.67      0.68      1909\n",
      "weighted avg       0.77      0.77      0.77      1909\n",
      "\n"
     ]
    }
   ],
   "source": [
    "ensemble = VotingClassifier(estimators=[('lr', clf1), ('mlp', clf2), ('xgb', clf3)], voting='hard')\n",
    "ensemble.fit(X_train_use, y_train_raw)\n",
    "y_pred_val = ensemble.predict(X_val_use)\n",
    "y_pred_train = ensemble.predict(X_train_use)\n",
    "\n",
    "ensemble_use_accuracy, ensemble_use_f1_macro, ensemble_use_precision, ensemble_use_recall = evaluate_model_predictions(y_pred_train, y_pred_val, y_train=y_train_raw, y_val=y_val_raw)"
   ]
  },
  {
   "cell_type": "markdown",
   "id": "852091c8",
   "metadata": {},
   "source": [
    "In this stage, we evaluated an ensemble model that combines Logistic Regression, MLP, and XGBoost using a hard voting strategy. Across nearly all embedding configurations, the ensemble achieved near-perfect performance on the training data but substantially lower metrics on the validation set. This significant gap clearly indicates overfitting: the model learns to perform extremely well on the training data but fails to generalize to unseen examples.\n",
    "\n",
    "Interestingly, Word2Vec was the only embedding for which the ensemble model avoided extreme overfitting. While its performance was not the absolute highest, it showed a more balanced relationship between training and validation scores, suggesting better generalization. Considering its consistently weak results in previous models, Word2Vec emerged here as a surprisingly competitive candidate within the ensemble setting."
   ]
  },
  {
   "cell_type": "markdown",
   "id": "7868c5ed",
   "metadata": {},
   "source": [
    "<a class=\"anchor\" id=\"eleven-bullet\"> \n",
    "<d style=\"color:white;\">\n",
    "\n",
    "## 2.3. PreTrained Models\n",
    "</a> \n",
    "</d>"
   ]
  },
  {
   "cell_type": "markdown",
   "id": "079fdbd2",
   "metadata": {},
   "source": [
    "### 2.2.8. RoBERTa (Hugging Face Pipeline)"
   ]
  },
  {
   "cell_type": "code",
   "execution_count": 304,
   "id": "da232b96",
   "metadata": {},
   "outputs": [
    {
     "name": "stderr",
     "output_type": "stream",
     "text": [
      "Device set to use cpu\n",
      "Asking to truncate to max_length but no maximum length is provided and the model has no predefined maximum length. Default to no truncation.\n"
     ]
    },
    {
     "name": "stdout",
     "output_type": "stream",
     "text": [
      "Accuracy of train: 0.6869\n",
      "F1 Macro (Train): 0.5828\n",
      "Accuracy of val: 0.6778\n",
      "\u001b[1mF1 Macro (Val)\u001b[0m: 0.5774\n",
      "Precision (Val): 0.6087\n",
      "Recall (Val): 0.5609\n",
      "\n",
      "Confusion Matrix for Validation Data:\n",
      "[[ 134    0  154]\n",
      " [   7  156  222]\n",
      " [ 129  103 1004]]\n",
      "\n",
      "Classification Report for Validation Data:\n",
      "              precision    recall  f1-score   support\n",
      "\n",
      "           0       0.50      0.47      0.48       288\n",
      "           1       0.60      0.41      0.48       385\n",
      "           2       0.73      0.81      0.77      1236\n",
      "\n",
      "    accuracy                           0.68      1909\n",
      "   macro avg       0.61      0.56      0.58      1909\n",
      "weighted avg       0.67      0.68      0.67      1909\n",
      "\n"
     ]
    }
   ],
   "source": [
    "MODEL = \"cardiffnlp/twitter-roberta-base-sentiment\"\n",
    "\n",
    "# Load Hugging Face pipeline\n",
    "hf_classifier = pipeline(\n",
    "    \"text-classification\",\n",
    "    model=MODEL,\n",
    "    tokenizer=MODEL,\n",
    "    device=0 if torch.cuda.is_available() else -1,\n",
    "    truncation=True\n",
    ")\n",
    "\n",
    "# Make predictions\n",
    "preds_train = hf_classifier(list(X_train_raw))\n",
    "preds_val = hf_classifier(list(X_val_raw))\n",
    "\n",
    "# Map model's labels to integers\n",
    "label_to_int = {\n",
    "    \"LABEL_0\": 0,  # negative → Bearish\n",
    "    \"LABEL_1\": 2,  # neutral  → Neutral\n",
    "    \"LABEL_2\": 1   # positive → Bullish\n",
    "}\n",
    "y_pred_train = [label_to_int[pred['label']] for pred in preds_train]\n",
    "y_pred_val = [label_to_int[pred['label']] for pred in preds_val]\n",
    "\n",
    "# Evaluation\n",
    "roberta_accuracy, roberta_f1_macro, roberta_precision, roberta_recall = evaluate_model_predictions(y_pred_train=y_pred_train, y_pred_val=y_pred_val, y_train = y_train_raw, y_val = y_val_raw)"
   ]
  },
  {
   "cell_type": "markdown",
   "id": "94f39d58",
   "metadata": {},
   "source": [
    "### 2.2.9. BERTweet"
   ]
  },
  {
   "cell_type": "code",
   "execution_count": 305,
   "id": "1b7aecf4",
   "metadata": {},
   "outputs": [
    {
     "name": "stderr",
     "output_type": "stream",
     "text": [
      "Device set to use cpu\n"
     ]
    },
    {
     "name": "stdout",
     "output_type": "stream",
     "text": [
      "Accuracy of train: 0.6751\n",
      "F1 Macro (Train): 0.5930\n",
      "Accuracy of val: 0.6548\n",
      "\u001b[1mF1 Macro (Val)\u001b[0m: 0.5764\n",
      "Precision (Val): 0.5796\n",
      "Recall (Val): 0.5778\n",
      "\n",
      "Confusion Matrix for Validation Data:\n",
      "[[165   1 122]\n",
      " [  8 158 219]\n",
      " [154 155 927]]\n",
      "\n",
      "Classification Report for Validation Data:\n",
      "              precision    recall  f1-score   support\n",
      "\n",
      "           0       0.50      0.57      0.54       288\n",
      "           1       0.50      0.41      0.45       385\n",
      "           2       0.73      0.75      0.74      1236\n",
      "\n",
      "    accuracy                           0.65      1909\n",
      "   macro avg       0.58      0.58      0.58      1909\n",
      "weighted avg       0.65      0.65      0.65      1909\n",
      "\n"
     ]
    }
   ],
   "source": [
    "# Choose a pretrained BERTweet sentiment classifier\n",
    "MODEL = \"finiteautomata/bertweet-base-sentiment-analysis\"\n",
    "\n",
    "# Load Hugging Face pipeline for text classification\n",
    "hf_classifier = pipeline(\n",
    "    \"text-classification\",\n",
    "    model=MODEL,\n",
    "    tokenizer=MODEL,\n",
    "    device=0 if torch.cuda.is_available() else -1,\n",
    "    truncation=True\n",
    ")\n",
    "\n",
    "# Make predictions on raw validation tweets\n",
    "preds_train = hf_classifier(list(X_train_raw))\n",
    "preds_val = hf_classifier(list(X_val_raw))\n",
    "\n",
    "# Map the model’s label strings to your integer classes\n",
    "label_to_int = {\n",
    "    \"NEG\": 0,  # negative → Bearish\n",
    "    \"NEU\": 2,  # neutral  → Neutral\n",
    "    \"POS\": 1   # positive → Bullish\n",
    "}\n",
    "\n",
    "y_pred_train = [label_to_int[pred['label']] for pred in preds_train]\n",
    "y_pred_val = [label_to_int[pred['label']] for pred in preds_val]\n",
    "\n",
    "\n",
    "# Evaluation\n",
    "bertweet_accuracy, bertweet_f1_macro, bertweet_precision, bertweet_recall = evaluate_model_predictions(y_pred_train=y_pred_train, y_pred_val=y_pred_val, y_train = y_train_raw, y_val = y_val_raw)"
   ]
  },
  {
   "cell_type": "markdown",
   "id": "ccf2b654",
   "metadata": {},
   "source": [
    "### 2.2.10. BART"
   ]
  },
  {
   "cell_type": "code",
   "execution_count": 330,
   "id": "0383ff64",
   "metadata": {},
   "outputs": [
    {
     "name": "stderr",
     "output_type": "stream",
     "text": [
      "Device set to use cpu\n"
     ]
    },
    {
     "name": "stdout",
     "output_type": "stream",
     "text": [
      "Accuracy of train: 0.3433\n",
      "F1 Macro (Train): 0.3458\n",
      "Accuracy of val: 0.3457\n",
      "\u001b[1mF1 Macro (Val)\u001b[0m: 0.3470\n",
      "Precision (Val): 0.4937\n",
      "Recall (Val): 0.6311\n",
      "\n",
      "Confusion Matrix for Validation Data:\n",
      "[[274   9   5]\n",
      " [ 30 352   3]\n",
      " [502 700  34]]\n",
      "\n",
      "Classification Report for Validation Data:\n",
      "              precision    recall  f1-score   support\n",
      "\n",
      "           0       0.34      0.95      0.50       288\n",
      "           1       0.33      0.91      0.49       385\n",
      "           2       0.81      0.03      0.05      1236\n",
      "\n",
      "    accuracy                           0.35      1909\n",
      "   macro avg       0.49      0.63      0.35      1909\n",
      "weighted avg       0.64      0.35      0.21      1909\n",
      "\n"
     ]
    }
   ],
   "source": [
    "# Load zero-shot pipeline with BART-large-MNLI\n",
    "zero_shot = pipeline(\n",
    "    \"zero-shot-classification\",\n",
    "    model=\"facebook/bart-large-mnli\",\n",
    "    device=0 if torch.cuda.is_available() else -1,\n",
    "    truncation=True\n",
    ")\n",
    "\n",
    "# Candidate labels (as text hypotheses)\n",
    "candidate_labels = [\"negative\", \"neutral\", \"positive\"]\n",
    "\n",
    "# train results\n",
    "results = zero_shot(list(X_train_raw), candidate_labels, multi_label=False)\n",
    "y_pred_train = [res[\"labels\"][0] for res in results]\n",
    "\n",
    "# validation results\n",
    "results = zero_shot(list(X_val_raw), candidate_labels, multi_label=False)\n",
    "y_pred_val = [res[\"labels\"][0] for res in results]\n",
    "\n",
    "# 5. Map label strings to your integer encoding\n",
    "label_to_int = {\n",
    "    \"negative\": 0,  # negative → Bearish\n",
    "    \"neutral\": 2,   # neutral  → Neutral\n",
    "    \"positive\": 1   # positive → Bullish\n",
    "}\n",
    "y_pred_train_int = [label_to_int[label] for label in y_pred_train]\n",
    "y_pred_val_int = [label_to_int[label] for label in y_pred_val]\n",
    "\n",
    "\n",
    "# Evaluation\n",
    "berta_accuracy, berta_f1_macro, berta_precision, berta_recall = evaluate_model_predictions(y_pred_train=y_pred_train_int, y_pred_val=y_pred_val_int, y_train = y_train_raw, y_val = y_val_raw)"
   ]
  },
  {
   "cell_type": "markdown",
   "id": "98a2dc90",
   "metadata": {},
   "source": [
    "To assess the performance of off-the-shelf pretrained models, we used three Hugging Face pipelines, RoBERTa, BERTweet, and BART, directly on our dataset, without any fine-tuning. Although these models did not reach state-of-the-art results in terms of raw accuracy or macro F1-score, their performance was notably stable and consistent across both training and validation sets.\n",
    "\n",
    "What stands out is the almost complete absence of overfitting. The training and validation metrics were very close, indicating that these models generalized well to unseen data despite not being tailored specifically to our dataset. This behavior contrasts with many of the other approaches tested, where overfitting was a persistent issue.\n",
    "\n",
    "Thus, while pretrained models without fine-tuning may not deliver peak accuracy, they offer a reliable and balanced baseline."
   ]
  },
  {
   "cell_type": "markdown",
   "id": "501d07fd",
   "metadata": {},
   "source": [
    "<a class=\"anchor\" id=\"twelve-bullet\"> \n",
    "<d style=\"color:white;\">\n",
    "\n",
    "## 2.4. Hyperparameter tuning\n",
    "</a> \n",
    "</d> "
   ]
  },
  {
   "cell_type": "markdown",
   "id": "2f8e987a",
   "metadata": {},
   "source": [
    "The ensemble was the best model in terms of F1 score. First, smote will be tested."
   ]
  },
  {
   "cell_type": "code",
   "execution_count": 354,
   "id": "6b0799e0",
   "metadata": {},
   "outputs": [
    {
     "name": "stderr",
     "output_type": "stream",
     "text": [
      "c:\\Users\\paulo\\anaconda3\\Lib\\site-packages\\xgboost\\sklearn.py:1395: UserWarning: `use_label_encoder` is deprecated in 1.7.0.\n",
      "  warnings.warn(\"`use_label_encoder` is deprecated in 1.7.0.\")\n"
     ]
    },
    {
     "name": "stdout",
     "output_type": "stream",
     "text": [
      "Accuracy of train: 0.9989\n",
      "F1 Macro (Train): 0.9989\n",
      "Accuracy of val: 0.8413\n",
      "\u001b[1mF1 Macro (Val)\u001b[0m: 0.7821\n",
      "Precision (Val): 0.7860\n",
      "Recall (Val): 0.7805\n",
      "\n",
      "Confusion Matrix for Validation Data:\n",
      "[[ 208   24   56]\n",
      " [  40  273   72]\n",
      " [  63   48 1125]]\n",
      "\n",
      "Classification Report for Validation Data:\n",
      "              precision    recall  f1-score   support\n",
      "\n",
      "           0       0.67      0.72      0.69       288\n",
      "           1       0.79      0.71      0.75       385\n",
      "           2       0.90      0.91      0.90      1236\n",
      "\n",
      "    accuracy                           0.84      1909\n",
      "   macro avg       0.79      0.78      0.78      1909\n",
      "weighted avg       0.84      0.84      0.84      1909\n",
      "\n"
     ]
    }
   ],
   "source": [
    "ensemble = VotingClassifier(estimators=[('lr', clf1), ('mlp', clf2), ('xgb', clf3)], voting='hard')\n",
    "ensemble.fit(X_train_roberta_resampled, y_train_resampled)\n",
    "y_pred_val = ensemble.predict(X_val_roberta)\n",
    "y_pred_train = ensemble.predict(X_train_roberta_resampled)\n",
    "\n",
    "ensemble_roberta_accuracy_SMOTE, ensemble_roberta_f1_macro_SMOTE, ensemble_roberta_precision_SMOTE, ensemble_roberta_recall_SMOTE = evaluate_model_predictions(y_pred_train, y_pred_val, y_train=y_train_resampled, y_val=y_val_raw)"
   ]
  },
  {
   "cell_type": "code",
   "execution_count": null,
   "id": "d79d3623",
   "metadata": {},
   "outputs": [
    {
     "data": {
      "text/plain": [
       "0.780658307054359"
      ]
     },
     "execution_count": 357,
     "metadata": {},
     "output_type": "execute_result"
    }
   ],
   "source": [
    "ensemble_roberta_f1_macro"
   ]
  },
  {
   "cell_type": "markdown",
   "id": "064ffefd",
   "metadata": {},
   "source": [
    "Smote slightly improved the F1 macro. Now a gridsearch for hyper-parameter tuning will be performed."
   ]
  },
  {
   "cell_type": "code",
   "execution_count": 358,
   "id": "83fb203c",
   "metadata": {},
   "outputs": [
    {
     "name": "stderr",
     "output_type": "stream",
     "text": [
      "c:\\Users\\paulo\\anaconda3\\Lib\\site-packages\\xgboost\\sklearn.py:1395: UserWarning: `use_label_encoder` is deprecated in 1.7.0.\n",
      "  warnings.warn(\"`use_label_encoder` is deprecated in 1.7.0.\")\n",
      "c:\\Users\\paulo\\anaconda3\\Lib\\site-packages\\xgboost\\sklearn.py:1395: UserWarning: `use_label_encoder` is deprecated in 1.7.0.\n",
      "  warnings.warn(\"`use_label_encoder` is deprecated in 1.7.0.\")\n",
      "c:\\Users\\paulo\\anaconda3\\Lib\\site-packages\\xgboost\\sklearn.py:1395: UserWarning: `use_label_encoder` is deprecated in 1.7.0.\n",
      "  warnings.warn(\"`use_label_encoder` is deprecated in 1.7.0.\")\n"
     ]
    }
   ],
   "source": [
    "# LR\n",
    "param_grid_lr = {\n",
    "    \"C\": [0.01, 0.1, 1, 10],\n",
    "    \"class_weight\": ['balanced', None]\n",
    "}\n",
    "gs_lr = GridSearchCV(\n",
    "    LogisticRegression(max_iter=1000),\n",
    "    param_grid_lr,\n",
    "    scoring=\"f1_macro\",\n",
    "    cv=5,\n",
    "    n_jobs=-1\n",
    ").fit(X_train_roberta_resampled, y_train_resampled)\n",
    "best_lr = gs_lr.best_estimator_\n",
    "\n",
    "\n",
    "# MLP\n",
    "param_grid_mlp = {\n",
    "    \"hidden_layer_sizes\": [(128,), (256,128), (256,128,64)],\n",
    "    \"alpha\": [1e-4, 1e-3, 1e-2]\n",
    "}\n",
    "gs_mlp = GridSearchCV(\n",
    "    MLPClassifier(max_iter=1000),\n",
    "    param_grid_mlp,\n",
    "    scoring=\"f1_macro\",\n",
    "    cv=5,\n",
    "    n_jobs=-1\n",
    ").fit(X_train_roberta_resampled, y_train_resampled)\n",
    "best_mlp = gs_mlp.best_estimator_\n",
    "\n",
    "# XGBoost\n",
    "param_grid_xgb = {\n",
    "    \"n_estimators\": [100, 200],\n",
    "    \"max_depth\": [3, 5],\n",
    "    \"learning_rate\": [0.01, 0.1]\n",
    "}\n",
    "gs_xgb = GridSearchCV(\n",
    "    xgb.XGBClassifier(use_label_encoder=False, eval_metric=\"mlogloss\"),\n",
    "    param_grid_xgb,\n",
    "    scoring=\"f1_macro\",\n",
    "    cv=5,\n",
    "    n_jobs=-1\n",
    ").fit(X_train_roberta_resampled, y_train_resampled)\n",
    "best_xgb = gs_xgb.best_estimator_"
   ]
  },
  {
   "cell_type": "code",
   "execution_count": 359,
   "id": "ca318d44",
   "metadata": {},
   "outputs": [
    {
     "name": "stderr",
     "output_type": "stream",
     "text": [
      "c:\\Users\\paulo\\anaconda3\\Lib\\site-packages\\xgboost\\sklearn.py:1395: UserWarning: `use_label_encoder` is deprecated in 1.7.0.\n",
      "  warnings.warn(\"`use_label_encoder` is deprecated in 1.7.0.\")\n",
      "c:\\Users\\paulo\\anaconda3\\Lib\\site-packages\\xgboost\\sklearn.py:1395: UserWarning: `use_label_encoder` is deprecated in 1.7.0.\n",
      "  warnings.warn(\"`use_label_encoder` is deprecated in 1.7.0.\")\n",
      "c:\\Users\\paulo\\anaconda3\\Lib\\site-packages\\xgboost\\sklearn.py:1395: UserWarning: `use_label_encoder` is deprecated in 1.7.0.\n",
      "  warnings.warn(\"`use_label_encoder` is deprecated in 1.7.0.\")\n"
     ]
    },
    {
     "name": "stdout",
     "output_type": "stream",
     "text": [
      "Fitting 5 folds for each of 8 candidates, totalling 40 fits\n"
     ]
    },
    {
     "name": "stderr",
     "output_type": "stream",
     "text": [
      "c:\\Users\\paulo\\anaconda3\\Lib\\site-packages\\xgboost\\sklearn.py:1395: UserWarning: `use_label_encoder` is deprecated in 1.7.0.\n",
      "  warnings.warn(\"`use_label_encoder` is deprecated in 1.7.0.\")\n"
     ]
    },
    {
     "name": "stdout",
     "output_type": "stream",
     "text": [
      "Best params: {'voting': 'soft', 'weights': [1, 1, 2]}\n",
      "Best F1 (CV): 0.9467147201519597\n",
      "Accuracy of train: 0.9980\n",
      "F1 Macro (Train): 0.9980\n",
      "Accuracy of val: 0.8434\n",
      "\u001b[1mF1 Macro (Val)\u001b[0m: 0.7814\n",
      "Precision (Val): 0.7944\n",
      "Recall (Val): 0.7701\n",
      "\n",
      "Confusion Matrix for Validation Data:\n",
      "[[ 191   29   68]\n",
      " [  29  279   77]\n",
      " [  49   47 1140]]\n",
      "\n",
      "Classification Report for Validation Data:\n",
      "              precision    recall  f1-score   support\n",
      "\n",
      "           0       0.71      0.66      0.69       288\n",
      "           1       0.79      0.72      0.75       385\n",
      "           2       0.89      0.92      0.90      1236\n",
      "\n",
      "    accuracy                           0.84      1909\n",
      "   macro avg       0.79      0.77      0.78      1909\n",
      "weighted avg       0.84      0.84      0.84      1909\n",
      "\n"
     ]
    }
   ],
   "source": [
    "ensemble = VotingClassifier(\n",
    "    estimators=[('lr', best_lr),\n",
    "                ('mlp', best_mlp),\n",
    "                ('xgb', best_xgb)],\n",
    "    voting='hard'\n",
    ")\n",
    "ensemble.fit(X_train_roberta_resampled, y_train_resampled)\n",
    "\n",
    "\n",
    "param_grid = {\n",
    "    'weights': [  # estimator weights\n",
    "        [1, 1, 1],\n",
    "        [2, 1, 1],\n",
    "        [1, 2, 1],\n",
    "        [1, 1, 2],\n",
    "    ],\n",
    "    'voting': ['hard', 'soft']  # voting strategy\n",
    "}\n",
    "\n",
    "\n",
    "# GridSearchCV\n",
    "gs_ensemble = GridSearchCV(\n",
    "    ensemble,\n",
    "    param_grid,\n",
    "    scoring='f1_macro',\n",
    "    cv=5,\n",
    "    n_jobs=-1,\n",
    "    verbose=2\n",
    ")\n",
    "gs_ensemble.fit(X_train_roberta_resampled, y_train_resampled)\n",
    "\n",
    "# Results\n",
    "print(\"Best params:\", gs_ensemble.best_params_)\n",
    "print(\"Best F1 (CV):\", gs_ensemble.best_score_)\n",
    "\n",
    "best_ensemble = gs_ensemble.best_estimator_\n",
    "\n",
    "\n",
    "y_pred_val = best_ensemble.predict(X_val_roberta)\n",
    "y_pred_train=best_ensemble.predict(X_train_roberta_resampled)\n",
    "best_accuracy, best_f1, best_precision, best_recall = evaluate_model_predictions(y_pred_train=y_pred_train, y_pred_val=y_pred_val, y_train=y_train_resampled, y_val=y_val_raw)"
   ]
  },
  {
   "cell_type": "markdown",
   "id": "e1057fab",
   "metadata": {},
   "source": [
    "In this section, we implemented an ensemble model using `soft` voting, combining Logistic Regression, MLP, and XGBoost classifiers. After tuning, the best-performing configuration assigned weights of `[1, 1, 2]`, giving more influence to the XGBoost component.\n",
    "\n",
    "The results show a clear improvement over previous approaches, achieving **84.3% validation accuracy** and a **macro F1-score of 0.7814**. Additionally, the precision and recall scores were well-balanced across all classes.\n",
    "\n",
    "Notably, the ensemble exhibited similar performance on the training and validation sets, **indicating minimal overfitting**. This robustness makes the optimized ensemble one of the most promising solutions for financial sentiment classification based on text.\n"
   ]
  },
  {
   "cell_type": "markdown",
   "id": "35416174",
   "metadata": {},
   "source": [
    "<a class=\"anchor\" id=\"thirteen-bullet\"> \n",
    "<d style=\"color:white;\">\n",
    "\n",
    "## 2.5. Evaluation\n",
    "</a> \n",
    "</d> "
   ]
  },
  {
   "cell_type": "markdown",
   "id": "c735f844",
   "metadata": {},
   "source": [
    "Export all metrics. The plots will be done only for F1 score macro that is the most appropriate metric due to the imbalanced dataset"
   ]
  },
  {
   "cell_type": "code",
   "execution_count": 372,
   "id": "9960630c",
   "metadata": {},
   "outputs": [],
   "source": [
    "# ACCURACY\n",
    "\n",
    "# Define a constant for 'N/A' to represent models that do not have results for certain embeddings\n",
    "none = 'N/A'\n",
    "\n",
    "model_results_accuracy = {\n",
    "    'Models': [\n",
    "        'NB', 'LR', 'KNN', 'MLP', 'LSTM', 'XGBoost', 'Ensemble', 'RoBERTa', 'BERTweet', 'BERTA',\n",
    "    ],\n",
    "    'BoW': [\n",
    "        nb_bow_accuracy, lr_bow_accuracy, knn_bow_accuracy, mlp_bow_accuracy, none, xgb_bow_accuracy, ensemble_bow_accuracy, none, none, none,\n",
    "    ],\n",
    "    'TF-IDF': [\n",
    "        nb_idf_accuracy, lr_idf_accuracy, knn_idf_accuracy, mlp_idf_accuracy, none, xgb_idf_accuracy, ensemble_idf_accuracy, none, none, none,\n",
    "    ],\n",
    "    'Word2Vec': [\n",
    "        nb_w2v_accuracy, lr_w2v_accuracy, knn_w2v_accuracy, mlp_w2v_accuracy, lstm_w2v_accuracy, xgb_w2v_accuracy, ensemble_w2v_accuracy, none, none, none,\n",
    "    ],\n",
    "    'GloVe': [\n",
    "        nb_glove_accuracy, lr_glove_accuracy, knn_glove_accuracy, mlp_glove_accuracy, lstm_glove_accuracy, xgb_glove_accuracy, ensemble_glove_accuracy, none, none, none,\n",
    "    ],\n",
    "    'RoBERTa': [\n",
    "        nb_roberta_accuracy, lr_roberta_accuracy, knn_roberta_accuracy, mlp_roberta_accuracy, none, xgb_roberta_accuracy, best_accuracy, none, none, none\n",
    "    ],\n",
    "    'BERTweet': [\n",
    "        nb_bertweet_accuracy, lr_bertweet_accuracy, knn_bertweet_accuracy, mlp_bertweet_accuracy, none, xgb_bertweet_accuracy, ensemble_bertweet_accuracy, none, none, none\n",
    "    ],\n",
    "    'USE': [\n",
    "        nb_use_accuracy, lr_use_accuracy, knn_use_accuracy, mlp_use_accuracy, none, xgb_use_accuracy, ensemble_use_accuracy, none, none, none\n",
    "    ],\n",
    "    'PreTrained': [\n",
    "        none, none, none, none, none, none, none, roberta_accuracy, bertweet_accuracy, berta_accuracy\n",
    "    ]\n",
    "}\n",
    "\n",
    "# Create DataFrame with the results\n",
    "results_models_accuracy = pd.DataFrame(model_results_accuracy)\n",
    "\n",
    "# Set 'Models' column as the index\n",
    "results_models_accuracy.set_index('Models', inplace=True)\n",
    "\n",
    "# Save the model results to a CSV file\n",
    "results_models_accuracy.to_csv('model_results_accuracy.csv', index=True)"
   ]
  },
  {
   "cell_type": "code",
   "execution_count": 373,
   "id": "fba9426a",
   "metadata": {},
   "outputs": [],
   "source": [
    "# PRECISION\n",
    "\n",
    "# Define a constant for 'N/A' to represent models that do not have results for certain embeddings\n",
    "none = 'N/A'\n",
    "\n",
    "model_results_precision = {\n",
    "    'Models': [\n",
    "        'NB', 'LR', 'KNN', 'MLP', 'LSTM', 'XGBoost', 'Ensemble', 'RoBERTa', 'BERTweet', 'BERTA',\n",
    "    ],\n",
    "    'BoW': [\n",
    "        nb_bow_precision, lr_bow_precision, knn_bow_precision, mlp_bow_precision, none, xgb_bow_precision, ensemble_bow_precision, none, none, none,\n",
    "    ],\n",
    "    'TF-IDF': [\n",
    "        nb_idf_precision, lr_idf_precision, knn_idf_precision, mlp_idf_precision, none, xgb_idf_precision, ensemble_idf_precision, none, none, none,\n",
    "    ],\n",
    "    'Word2Vec': [\n",
    "        nb_w2v_precision, lr_w2v_precision, knn_w2v_precision, mlp_w2v_precision, lstm_w2v_precision, xgb_w2v_precision, ensemble_w2v_precision, none, none, none,\n",
    "    ],\n",
    "    'GloVe': [\n",
    "        nb_glove_precision, lr_glove_precision, knn_glove_precision, mlp_glove_precision, lstm_glove_precision, xgb_glove_precision, ensemble_glove_precision, none, none, none,\n",
    "    ],\n",
    "    'RoBERTa': [\n",
    "        nb_roberta_precision, lr_roberta_precision, knn_roberta_precision, mlp_roberta_precision, none, xgb_roberta_precision, best_precision, none, none, none\n",
    "    ],\n",
    "    'BERTweet': [\n",
    "        nb_bertweet_precision, lr_bertweet_precision, knn_bertweet_precision, mlp_bertweet_precision, none, xgb_bertweet_precision, ensemble_bertweet_precision, none, none, none\n",
    "    ],\n",
    "    'USE': [\n",
    "        nb_use_precision, lr_use_precision, knn_use_precision, mlp_use_precision, none, xgb_use_precision, ensemble_use_precision, none, none, none\n",
    "    ],\n",
    "    'PreTrained': [\n",
    "        none, none, none, none, none, none, none, roberta_precision, bertweet_precision, berta_precision\n",
    "    ]\n",
    "}\n",
    "\n",
    "\n",
    "# Create DataFrame with the results\n",
    "results_models_precision = pd.DataFrame(model_results_precision)\n",
    "\n",
    "# Set 'Models' column as the index\n",
    "results_models_precision.set_index('Models', inplace=True)\n",
    "\n",
    "# Save the model results to a CSV file\n",
    "results_models_precision.to_csv('model_results_precision.csv', index=True)"
   ]
  },
  {
   "cell_type": "code",
   "execution_count": 374,
   "id": "ccf88edb",
   "metadata": {},
   "outputs": [],
   "source": [
    "# RECALL\n",
    "\n",
    "# Define a constant for 'N/A' to represent models that do not have results for certain embeddings\n",
    "none = 'N/A'\n",
    "\n",
    "model_results_recall = {\n",
    "    'Models': [\n",
    "        'NB', 'LR', 'KNN', 'MLP', 'LSTM', 'XGBoost', 'Ensemble', 'RoBERTa', 'BERTweet', 'BERTA',\n",
    "    ],\n",
    "    'BoW': [\n",
    "        nb_bow_recall, lr_bow_recall, knn_bow_recall, mlp_bow_recall, none, xgb_bow_recall, ensemble_bow_recall, none, none, none,\n",
    "    ],\n",
    "    'TF-IDF': [\n",
    "        nb_idf_recall, lr_idf_recall, knn_idf_recall, mlp_idf_recall, none, xgb_idf_recall, ensemble_idf_recall, none, none, none,\n",
    "    ],\n",
    "    'Word2Vec': [\n",
    "        nb_w2v_recall, lr_w2v_recall, knn_w2v_recall, mlp_w2v_recall, lstm_w2v_recall, xgb_w2v_recall, ensemble_w2v_recall, none, none, none,\n",
    "    ],\n",
    "    'GloVe': [\n",
    "        nb_glove_recall, lr_glove_recall, knn_glove_recall, mlp_glove_recall, lstm_glove_recall, xgb_glove_recall, ensemble_glove_recall, none, none, none,\n",
    "    ],\n",
    "    'RoBERTa': [\n",
    "        nb_roberta_recall, lr_roberta_recall, knn_roberta_recall, mlp_roberta_recall, none, xgb_roberta_recall, best_recall, none, none, none\n",
    "    ],\n",
    "    'BERTweet': [\n",
    "        nb_bertweet_recall, lr_bertweet_recall, knn_bertweet_recall, mlp_bertweet_recall, none, xgb_bertweet_recall, ensemble_bertweet_recall, none, none, none\n",
    "    ],\n",
    "    'USE': [\n",
    "        nb_use_recall, lr_use_recall, knn_use_recall, mlp_use_recall, none, xgb_use_recall, ensemble_use_recall, none, none, none\n",
    "    ],\n",
    "    'PreTrained': [\n",
    "        none, none, none, none, none, none, none, roberta_recall, bertweet_recall, berta_recall\n",
    "    ]\n",
    "}\n",
    "\n",
    "\n",
    "# Create DataFrame with the results\n",
    "results_models_recall = pd.DataFrame(model_results_recall)\n",
    "\n",
    "# Set 'Models' column as the index\n",
    "results_models_recall.set_index('Models', inplace=True)\n",
    "\n",
    "# Save the model results to a CSV file\n",
    "results_models_recall.to_csv('model_results_recall.csv', index=True)"
   ]
  },
  {
   "cell_type": "code",
   "execution_count": 375,
   "id": "719b6ab0",
   "metadata": {},
   "outputs": [],
   "source": [
    "# F1 MACRO\n",
    "\n",
    "# Define a constant for 'N/A' to represent models that do not have results for certain embeddings\n",
    "none = 'N/A'\n",
    "\n",
    "model_results = {\n",
    "    'Models': [\n",
    "        'NB', 'LR', 'KNN', 'MLP', 'LSTM', 'XGBoost', 'Ensemble', 'RoBERTa', 'BERTweet', 'BERTA',\n",
    "    ],\n",
    "    'BoW': [\n",
    "        nb_bow_f1_macro, lr_bow_f1_macro, knn_bow_f1_macro, mlp_bow_f1_macro, none, xgb_bow_f1_macro, ensemble_bow_f1_macro, none, none, none,\n",
    "    ],\n",
    "    'TF-IDF': [\n",
    "        nb_idf_f1_macro, lr_idf_f1_macro, knn_idf_f1_macro, mlp_idf_f1_macro, none, xgb_idf_f1_macro, ensemble_idf_f1_macro, none, none, none,\n",
    "    ],\n",
    "    'Word2Vec': [\n",
    "        nb_w2v_f1_macro, lr_w2v_f1_macro, knn_w2v_f1_macro, mlp_w2v_f1_macro, lstm_w2v_f1_macro, xgb_w2v_f1_macro, ensemble_w2v_f1_macro, none, none, none,\n",
    "    ],\n",
    "    'GloVe': [\n",
    "        nb_glove_f1_macro, lr_glove_f1_macro, knn_glove_f1_macro, mlp_glove_f1_macro, lstm_glove_f1_macro, xgb_glove_f1_macro, ensemble_glove_f1_macro, none, none, none,\n",
    "    ],\n",
    "    'RoBERTa': [\n",
    "        nb_roberta_f1_macro, lr_roberta_f1_macro, knn_roberta_f1_macro, mlp_roberta_f1_macro, none, xgb_roberta_f1_macro, best_f1, none, none, none\n",
    "    ],\n",
    "    'BERTweet': [\n",
    "        nb_bertweet_f1_macro, lr_bertweet_f1_macro, knn_bertweet_f1_macro, mlp_bertweet_f1_macro, none, xgb_bertweet_f1_macro, ensemble_bertweet_f1_macro, none, none, none\n",
    "    ],\n",
    "    'USE': [\n",
    "        nb_use_f1_macro, lr_use_f1_macro, knn_use_f1_macro, mlp_use_f1_macro, none, xgb_use_f1_macro, ensemble_use_f1_macro, none, none, none\n",
    "    ],\n",
    "    'PreTrained': [\n",
    "        none, none, none, none, none, none, none, roberta_f1_macro, bertweet_f1_macro, berta_f1_macro\n",
    "    ]\n",
    "}\n",
    "\n",
    "# Create DataFrame with the results\n",
    "results_models = pd.DataFrame(model_results)\n",
    "\n",
    "# Set 'Models' column as the index\n",
    "results_models.set_index('Models', inplace=True)\n",
    "\n",
    "# Save the model results to a CSV file\n",
    "results_models.to_csv('model_results_f1.csv', index=True)"
   ]
  },
  {
   "cell_type": "code",
   "execution_count": 376,
   "id": "879973ee",
   "metadata": {},
   "outputs": [
    {
     "data": {
      "text/html": [
       "<div>\n",
       "<style scoped>\n",
       "    .dataframe tbody tr th:only-of-type {\n",
       "        vertical-align: middle;\n",
       "    }\n",
       "\n",
       "    .dataframe tbody tr th {\n",
       "        vertical-align: top;\n",
       "    }\n",
       "\n",
       "    .dataframe thead th {\n",
       "        text-align: right;\n",
       "    }\n",
       "</style>\n",
       "<table border=\"1\" class=\"dataframe\">\n",
       "  <thead>\n",
       "    <tr style=\"text-align: right;\">\n",
       "      <th></th>\n",
       "      <th>BoW</th>\n",
       "      <th>TF-IDF</th>\n",
       "      <th>Word2Vec</th>\n",
       "      <th>GloVe</th>\n",
       "      <th>RoBERTa</th>\n",
       "      <th>BERTweet</th>\n",
       "      <th>USE</th>\n",
       "      <th>PreTrained</th>\n",
       "    </tr>\n",
       "    <tr>\n",
       "      <th>Models</th>\n",
       "      <th></th>\n",
       "      <th></th>\n",
       "      <th></th>\n",
       "      <th></th>\n",
       "      <th></th>\n",
       "      <th></th>\n",
       "      <th></th>\n",
       "      <th></th>\n",
       "    </tr>\n",
       "  </thead>\n",
       "  <tbody>\n",
       "    <tr>\n",
       "      <th>NB</th>\n",
       "      <td>0.679365</td>\n",
       "      <td>0.535052</td>\n",
       "      <td>0.348672</td>\n",
       "      <td>0.545648</td>\n",
       "      <td>0.565254</td>\n",
       "      <td>0.611524</td>\n",
       "      <td>0.594514</td>\n",
       "      <td>N/A</td>\n",
       "    </tr>\n",
       "    <tr>\n",
       "      <th>LR</th>\n",
       "      <td>0.699</td>\n",
       "      <td>0.702836</td>\n",
       "      <td>0.431376</td>\n",
       "      <td>0.562714</td>\n",
       "      <td>0.744586</td>\n",
       "      <td>0.729957</td>\n",
       "      <td>0.633034</td>\n",
       "      <td>N/A</td>\n",
       "    </tr>\n",
       "    <tr>\n",
       "      <th>KNN</th>\n",
       "      <td>0.525763</td>\n",
       "      <td>0.474012</td>\n",
       "      <td>0.44459</td>\n",
       "      <td>0.589093</td>\n",
       "      <td>0.668643</td>\n",
       "      <td>0.62779</td>\n",
       "      <td>0.627836</td>\n",
       "      <td>N/A</td>\n",
       "    </tr>\n",
       "    <tr>\n",
       "      <th>MLP</th>\n",
       "      <td>0.607207</td>\n",
       "      <td>0.559741</td>\n",
       "      <td>0.349226</td>\n",
       "      <td>0.636705</td>\n",
       "      <td>0.769705</td>\n",
       "      <td>0.731374</td>\n",
       "      <td>0.683623</td>\n",
       "      <td>N/A</td>\n",
       "    </tr>\n",
       "    <tr>\n",
       "      <th>LSTM</th>\n",
       "      <td>N/A</td>\n",
       "      <td>N/A</td>\n",
       "      <td>0.475424</td>\n",
       "      <td>0.673733</td>\n",
       "      <td>N/A</td>\n",
       "      <td>N/A</td>\n",
       "      <td>N/A</td>\n",
       "      <td>N/A</td>\n",
       "    </tr>\n",
       "    <tr>\n",
       "      <th>XGBoost</th>\n",
       "      <td>0.519967</td>\n",
       "      <td>0.52382</td>\n",
       "      <td>0.425086</td>\n",
       "      <td>0.559382</td>\n",
       "      <td>0.711362</td>\n",
       "      <td>0.619011</td>\n",
       "      <td>0.577547</td>\n",
       "      <td>N/A</td>\n",
       "    </tr>\n",
       "    <tr>\n",
       "      <th>Ensemble</th>\n",
       "      <td>0.708309</td>\n",
       "      <td>0.693735</td>\n",
       "      <td>0.475063</td>\n",
       "      <td>0.632611</td>\n",
       "      <td>0.781425</td>\n",
       "      <td>0.761377</td>\n",
       "      <td>0.682071</td>\n",
       "      <td>N/A</td>\n",
       "    </tr>\n",
       "    <tr>\n",
       "      <th>RoBERTa</th>\n",
       "      <td>N/A</td>\n",
       "      <td>N/A</td>\n",
       "      <td>N/A</td>\n",
       "      <td>N/A</td>\n",
       "      <td>N/A</td>\n",
       "      <td>N/A</td>\n",
       "      <td>N/A</td>\n",
       "      <td>0.577448</td>\n",
       "    </tr>\n",
       "    <tr>\n",
       "      <th>BERTweet</th>\n",
       "      <td>N/A</td>\n",
       "      <td>N/A</td>\n",
       "      <td>N/A</td>\n",
       "      <td>N/A</td>\n",
       "      <td>N/A</td>\n",
       "      <td>N/A</td>\n",
       "      <td>N/A</td>\n",
       "      <td>0.576358</td>\n",
       "    </tr>\n",
       "    <tr>\n",
       "      <th>BERTA</th>\n",
       "      <td>N/A</td>\n",
       "      <td>N/A</td>\n",
       "      <td>N/A</td>\n",
       "      <td>N/A</td>\n",
       "      <td>N/A</td>\n",
       "      <td>N/A</td>\n",
       "      <td>N/A</td>\n",
       "      <td>0.346994</td>\n",
       "    </tr>\n",
       "  </tbody>\n",
       "</table>\n",
       "</div>"
      ],
      "text/plain": [
       "               BoW    TF-IDF  Word2Vec     GloVe   RoBERTa  BERTweet  \\\n",
       "Models                                                                 \n",
       "NB        0.679365  0.535052  0.348672  0.545648  0.565254  0.611524   \n",
       "LR           0.699  0.702836  0.431376  0.562714  0.744586  0.729957   \n",
       "KNN       0.525763  0.474012   0.44459  0.589093  0.668643   0.62779   \n",
       "MLP       0.607207  0.559741  0.349226  0.636705  0.769705  0.731374   \n",
       "LSTM           N/A       N/A  0.475424  0.673733       N/A       N/A   \n",
       "XGBoost   0.519967   0.52382  0.425086  0.559382  0.711362  0.619011   \n",
       "Ensemble  0.708309  0.693735  0.475063  0.632611  0.781425  0.761377   \n",
       "RoBERTa        N/A       N/A       N/A       N/A       N/A       N/A   \n",
       "BERTweet       N/A       N/A       N/A       N/A       N/A       N/A   \n",
       "BERTA          N/A       N/A       N/A       N/A       N/A       N/A   \n",
       "\n",
       "               USE PreTrained  \n",
       "Models                         \n",
       "NB        0.594514        N/A  \n",
       "LR        0.633034        N/A  \n",
       "KNN       0.627836        N/A  \n",
       "MLP       0.683623        N/A  \n",
       "LSTM           N/A        N/A  \n",
       "XGBoost   0.577547        N/A  \n",
       "Ensemble  0.682071        N/A  \n",
       "RoBERTa        N/A   0.577448  \n",
       "BERTweet       N/A   0.576358  \n",
       "BERTA          N/A   0.346994  "
      ]
     },
     "execution_count": 376,
     "metadata": {},
     "output_type": "execute_result"
    }
   ],
   "source": [
    "results_models"
   ]
  },
  {
   "cell_type": "code",
   "execution_count": 380,
   "id": "2db54d77",
   "metadata": {},
   "outputs": [],
   "source": [
    "def plot_f1_per_model(df):\n",
    "    \"\"\"\n",
    "    Creates separate horizontal bar charts (2 per row) for each model,\n",
    "    showing F1 scores across embeddings. Each bar uses a consistent color\n",
    "    for each embedding and annotates the score on the right.\n",
    "    \"\"\"\n",
    "    # Prepare data\n",
    "    if 'Models' in df.columns:\n",
    "        data = df.set_index('Models')\n",
    "    else:\n",
    "        data = df.copy()\n",
    "    data = data.replace('N/A', np.nan).apply(pd.to_numeric, errors='coerce')\n",
    "    \n",
    "    models = data.index.tolist()\n",
    "    embeddings = data.columns.tolist()\n",
    "    \n",
    "    # Color map for embeddings\n",
    "    colors = plt.cm.tab10.colors\n",
    "    emb_colors = {emb: colors[i % len(colors)] for i, emb in enumerate(embeddings)}\n",
    "    \n",
    "    # Layout: 2 charts per row\n",
    "    n = len(models)\n",
    "    cols = 2\n",
    "    rows = (n + cols - 1) // cols\n",
    "\n",
    "    fig, axes = plt.subplots(rows, cols, figsize=(cols * 6, rows * 4), sharex=True)\n",
    "    axes = axes.flatten()\n",
    "    \n",
    "    for i, model in enumerate(models):\n",
    "        ax = axes[i]\n",
    "        vals = data.loc[model].dropna()\n",
    "        bar_colors = [emb_colors[emb] for emb in vals.index]\n",
    "        \n",
    "        # Plot horizontal bars\n",
    "        bars = ax.barh(vals.index, vals.values, color=bar_colors)\n",
    "        \n",
    "        # Annotate each bar with its F1 value\n",
    "        for bar in bars:\n",
    "            w = bar.get_width()\n",
    "            if not np.isnan(w):\n",
    "                ax.annotate(\n",
    "                    f\"{w:.2f}\",\n",
    "                    xy=(w, bar.get_y() + bar.get_height() / 2),\n",
    "                    xytext=(3, 0),\n",
    "                    textcoords=\"offset points\",\n",
    "                    ha=\"left\",\n",
    "                    va=\"center\",\n",
    "                    fontsize=8\n",
    "                )\n",
    "        \n",
    "        ax.set_title(model)\n",
    "        ax.set_xlim(0, 1)\n",
    "        if i % cols == 0:\n",
    "            ax.set_xlabel('F1 Score')\n",
    "    \n",
    "    # Hide extra axes\n",
    "    for j in range(n, len(axes)):\n",
    "        fig.delaxes(axes[j])\n",
    "    \n",
    "    plt.tight_layout()\n",
    "    plt.show()\n",
    "\n",
    "\n",
    "def plot_f1_per_embedding(df):\n",
    "    \"\"\"\n",
    "    Creates separate horizontal bar charts (2 per row) for each embedding,\n",
    "    showing F1 scores across models. Each bar uses a consistent color for\n",
    "    each model and annotates the score on the right.\n",
    "    \"\"\"\n",
    "    # Prepare data\n",
    "    if 'Models' in df.columns:\n",
    "        data = df.set_index('Models')\n",
    "    else:\n",
    "        data = df.copy()\n",
    "    data = data.replace('N/A', np.nan).apply(pd.to_numeric, errors='coerce').T\n",
    "    \n",
    "    embeddings = data.index.tolist()\n",
    "    models = data.columns.tolist()\n",
    "    \n",
    "    # Color map for models\n",
    "    colors = plt.cm.tab10.colors\n",
    "    model_colors = {model: colors[i % len(colors)] for i, model in enumerate(models)}\n",
    "    \n",
    "    # Layout: 2 charts per row\n",
    "    n = len(embeddings)\n",
    "    cols = 2\n",
    "    rows = (n + cols - 1) // cols\n",
    "\n",
    "    fig, axes = plt.subplots(rows, cols, figsize=(cols * 6, rows * 4), sharex=True)\n",
    "    axes = axes.flatten()\n",
    "    \n",
    "    for i, emb in enumerate(embeddings):\n",
    "        ax = axes[i]\n",
    "        vals = data.loc[emb].dropna()\n",
    "        bar_colors = [model_colors[m] for m in vals.index]\n",
    "        \n",
    "        # Plot horizontal bars\n",
    "        bars = ax.barh(vals.index, vals.values, color=bar_colors)\n",
    "        \n",
    "        # Annotate each bar with its F1 value\n",
    "        for bar in bars:\n",
    "            w = bar.get_width()\n",
    "            if not np.isnan(w):\n",
    "                ax.annotate(\n",
    "                    f\"{w:.2f}\",\n",
    "                    xy=(w, bar.get_y() + bar.get_height() / 2),\n",
    "                    xytext=(3, 0),\n",
    "                    textcoords=\"offset points\",\n",
    "                    ha=\"left\",\n",
    "                    va=\"center\",\n",
    "                    fontsize=8\n",
    "                )\n",
    "        \n",
    "        ax.set_title(emb)\n",
    "        ax.set_xlim(0, 1)\n",
    "        if i % cols == 0:\n",
    "            ax.set_xlabel('F1 Score')\n",
    "    \n",
    "    # Hide extra axes\n",
    "    for j in range(n, len(axes)):\n",
    "        fig.delaxes(axes[j])\n",
    "    \n",
    "    plt.tight_layout()\n",
    "    plt.show()"
   ]
  },
  {
   "cell_type": "code",
   "execution_count": 381,
   "id": "8d226e94",
   "metadata": {},
   "outputs": [
    {
     "name": "stderr",
     "output_type": "stream",
     "text": [
      "C:\\Users\\paulo\\AppData\\Local\\Temp\\ipykernel_16716\\2006155420.py:12: FutureWarning: Downcasting behavior in `replace` is deprecated and will be removed in a future version. To retain the old behavior, explicitly call `result.infer_objects(copy=False)`. To opt-in to the future behavior, set `pd.set_option('future.no_silent_downcasting', True)`\n",
      "  data = data.replace('N/A', np.nan).apply(pd.to_numeric, errors='coerce')\n"
     ]
    },
    {
     "data": {
      "image/png": "[encoded data removed]",
      "text/plain": [
       "<Figure size 1200x2000 with 10 Axes>"
      ]
     },
     "metadata": {},
     "output_type": "display_data"
    }
   ],
   "source": [
    "plot_f1_per_model(results_models)"
   ]
  },
  {
   "cell_type": "code",
   "execution_count": 382,
   "id": "446a02cc",
   "metadata": {},
   "outputs": [
    {
     "name": "stderr",
     "output_type": "stream",
     "text": [
      "C:\\Users\\paulo\\AppData\\Local\\Temp\\ipykernel_16716\\2006155420.py:75: FutureWarning: Downcasting behavior in `replace` is deprecated and will be removed in a future version. To retain the old behavior, explicitly call `result.infer_objects(copy=False)`. To opt-in to the future behavior, set `pd.set_option('future.no_silent_downcasting', True)`\n",
      "  data = data.replace('N/A', np.nan).apply(pd.to_numeric, errors='coerce').T\n"
     ]
    },
    {
     "data": {
      "image/png": "[encoded data removed]",
      "text/plain": [
       "<Figure size 1200x1600 with 8 Axes>"
      ]
     },
     "metadata": {},
     "output_type": "display_data"
    }
   ],
   "source": [
    "plot_f1_per_embedding(results_models)"
   ]
  },
  {
   "cell_type": "markdown",
   "id": "5703320f",
   "metadata": {},
   "source": [
    "The best model is... so we will do the val set with those predictions"
   ]
  },
  {
   "cell_type": "code",
   "execution_count": 388,
   "id": "86b34b3b",
   "metadata": {},
   "outputs": [
    {
     "data": {
      "text/html": [
       "<div>\n",
       "<style scoped>\n",
       "    .dataframe tbody tr th:only-of-type {\n",
       "        vertical-align: middle;\n",
       "    }\n",
       "\n",
       "    .dataframe tbody tr th {\n",
       "        vertical-align: top;\n",
       "    }\n",
       "\n",
       "    .dataframe thead th {\n",
       "        text-align: right;\n",
       "    }\n",
       "</style>\n",
       "<table border=\"1\" class=\"dataframe\">\n",
       "  <thead>\n",
       "    <tr style=\"text-align: right;\">\n",
       "      <th></th>\n",
       "      <th>id</th>\n",
       "      <th>label</th>\n",
       "    </tr>\n",
       "  </thead>\n",
       "  <tbody>\n",
       "    <tr>\n",
       "      <th>0</th>\n",
       "      <td>0</td>\n",
       "      <td>1</td>\n",
       "    </tr>\n",
       "    <tr>\n",
       "      <th>1</th>\n",
       "      <td>1</td>\n",
       "      <td>2</td>\n",
       "    </tr>\n",
       "    <tr>\n",
       "      <th>2</th>\n",
       "      <td>2</td>\n",
       "      <td>2</td>\n",
       "    </tr>\n",
       "    <tr>\n",
       "      <th>3</th>\n",
       "      <td>3</td>\n",
       "      <td>2</td>\n",
       "    </tr>\n",
       "    <tr>\n",
       "      <th>4</th>\n",
       "      <td>4</td>\n",
       "      <td>2</td>\n",
       "    </tr>\n",
       "    <tr>\n",
       "      <th>5</th>\n",
       "      <td>5</td>\n",
       "      <td>1</td>\n",
       "    </tr>\n",
       "    <tr>\n",
       "      <th>6</th>\n",
       "      <td>6</td>\n",
       "      <td>0</td>\n",
       "    </tr>\n",
       "    <tr>\n",
       "      <th>7</th>\n",
       "      <td>7</td>\n",
       "      <td>0</td>\n",
       "    </tr>\n",
       "    <tr>\n",
       "      <th>8</th>\n",
       "      <td>8</td>\n",
       "      <td>0</td>\n",
       "    </tr>\n",
       "    <tr>\n",
       "      <th>9</th>\n",
       "      <td>9</td>\n",
       "      <td>2</td>\n",
       "    </tr>\n",
       "  </tbody>\n",
       "</table>\n",
       "</div>"
      ],
      "text/plain": [
       "   id  label\n",
       "0   0      1\n",
       "1   1      2\n",
       "2   2      2\n",
       "3   3      2\n",
       "4   4      2\n",
       "5   5      1\n",
       "6   6      0\n",
       "7   7      0\n",
       "8   8      0\n",
       "9   9      2"
      ]
     },
     "execution_count": 388,
     "metadata": {},
     "output_type": "execute_result"
    }
   ],
   "source": [
    "# predict on the test set using the best ensemble model\n",
    "y_pred_test = ensemble.predict(df_test_roberta)\n",
    "ids = df_test.index\n",
    "\n",
    "final = pd.DataFrame({\n",
    "    'id': ids,\n",
    "    'label': y_pred_test\n",
    "})\n",
    "\n",
    "final.head(10)"
   ]
  },
  {
   "cell_type": "code",
   "execution_count": 390,
   "id": "93825361",
   "metadata": {},
   "outputs": [],
   "source": [
    "# Save the final predictions to a CSV file\n",
    "final.to_csv('pred_07.csv', index=False, sep=';')"
   ]
  }
 ],
 "metadata": {
  "kernelspec": {
   "display_name": "base",
   "language": "python",
   "name": "python3"
  },
  "language_info": {
   "codemirror_mode": {
    "name": "ipython",
    "version": 3
   },
   "file_extension": ".py",
   "mimetype": "text/x-python",
   "name": "python",
   "nbconvert_exporter": "python",
   "pygments_lexer": "ipython3",
   "version": "3.12.3"
  }
 },
 "nbformat": 4,
 "nbformat_minor": 5
}
