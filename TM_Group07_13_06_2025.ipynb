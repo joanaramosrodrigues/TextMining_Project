{
 "cells": [
  {
   "cell_type": "markdown",
   "id": "75269175",
   "metadata": {},
   "source": [
    "[<font color='steelblue'>1. - __EDA__</font>](#one-bullet) <br>\n",
    "    [<font color='steelblue'>1.1. - Imports</font>](#two-bullet) <br>\n",
    "    [<font color='steelblue'>1.2. - Initial Analysis</font>](#three-bullet) <br>\n",
    "    [<font color='steelblue'>1.3. - Data Preprocessing</font>](#four-bullet) <br>\n",
    "        [<font color='steelblue'>1.3.1. - Missing values</font>](#four_one-bullet) <br>\n",
    "        [<font color='steelblue'>1.3.2. - Feature Engineering</font>](#four_two-bullet) <br>\n",
    "        [<font color='steelblue'>1.3.3. - Outliers</font>](#four_three-bullet) <br>\n",
    "        [<font color='steelblue'>1.3.4. - All text in english</font>](#four_four-bullet) <br>\n",
    "        [<font color='steelblue'>1.3.5. - Text cleaning</font>](#four_five-bullet) <br>\n",
    "        [<font color='steelblue'>1.3.6. - Removing unsual words</font>](#four_six-bullet) <br>\n",
    "    [<font color='steelblue'>1.4. - Corpus Splitting</font>](#five-bullet) <br>\n",
    "    [<font color='steelblue'>1.5. - Embeddings</font>](#six-bullet) <br>\n",
    "        [<font color='steelblue'>1.5.1. - Bag of Words (BoW)</font>](#six_one-bullet) <br>\n",
    "        [<font color='steelblue'>1.5.2. - TF-IDF</font>](#six_two-bullet) <br>\n",
    "        [<font color='steelblue'>1.5.3. - Word2Vec</font>](#six_three-bullet) <br>\n",
    "        [<font color='steelblue'>1.5.4. - GloVe</font>](#six_four-bullet) <br>\n",
    "        [<font color='steelblue'>1.5.5. - RoBERTa</font>](#six_five-bullet) <br>\n",
    "    [<font color='steelblue'>1.6. - SMOTE</font>](#seven-bullet) <br>\n",
    "\n",
    "[<font color='steelblue'>2. - __Models__</font>](#eight-bullet) <br>\n",
    "    [<font color='steelblue'>2.1. - Functions</font>](#nine-bullet) <br>\n",
    "    [<font color='steelblue'>2.2. - Models</font>](#ten-bullet) <br>\n",
    "    [<font color='steelblue'>2.3. - PreTrained Models</font>](#eleven-bullet) <br>\n",
    "    [<font color='steelblue'>2.4. - Results</font>](#twelve-bullet) <br>"
   ]
  },
  {
   "cell_type": "markdown",
   "id": "e03bebb3",
   "metadata": {},
   "source": [
    "Group 7\n",
    "|Name | Student ID |\n",
    "|----|----|\n",
    "|Joana Rodrigues| 20240603|\n",
    "|Mara Simões| 20240326|\n",
    "|Matilde Street| 20240523|\n",
    "|Rafael Silva| 20240511|"
   ]
  },
  {
   "cell_type": "markdown",
   "id": "84672880",
   "metadata": {},
   "source": [
    "<hr>\n",
    "<a class=\"anchor\" id=\"one-bullet\"> \n",
    "<d style=\"color:white;\">\n",
    "\n",
    "# 1. EDA\n",
    "</a> \n",
    "</d>   "
   ]
  },
  {
   "cell_type": "markdown",
   "id": "099f701a",
   "metadata": {},
   "source": [
    "<a class=\"anchor\" id=\"two-bullet\"> \n",
    "<d style=\"color:white;\">\n",
    "\n",
    "## 1.1. Imports\n",
    "</a> \n",
    "</d>   "
   ]
  },
  {
   "cell_type": "code",
   "execution_count": 52,
   "id": "5ead8c5e",
   "metadata": {},
   "outputs": [],
   "source": [
    "# Basic utilities for data handling, analysis, and visualization\n",
    "import re\n",
    "import string\n",
    "import numpy as np\n",
    "import pandas as pd\n",
    "import matplotlib.pyplot as plt\n",
    "import seaborn as sns\n",
    "\n",
    "# Progress bar for loops and long-running processes\n",
    "from tqdm import tqdm\n",
    "\n",
    "# Tools for creating visual representations of text\n",
    "from wordcloud import WordCloud\n",
    "\n",
    "# Core NLP tools for text cleaning, tokenization, and linguistic processing\n",
    "import nltk\n",
    "from nltk.tokenize import word_tokenize\n",
    "from nltk.corpus import stopwords\n",
    "from nltk.stem import SnowballStemmer\n",
    "from nltk.stem.wordnet import WordNetLemmatizer\n",
    "from textblob import TextBlob\n",
    "# from langdetect import detect\n",
    "# from googletrans import Translator\n",
    "\n",
    "# Machine learning tools for model training, evaluation, and vectorization\n",
    "from sklearn.model_selection import train_test_split\n",
    "from sklearn.feature_extraction.text import CountVectorizer, TfidfVectorizer\n",
    "from sklearn.metrics import accuracy_score, f1_score, classification_report, confusion_matrix, precision_score, recall_score\n",
    "from sklearn.naive_bayes import MultinomialNB\n",
    "from sklearn.linear_model import LogisticRegression\n",
    "from sklearn.neighbors import KNeighborsClassifier\n",
    "from sklearn.neural_network import MLPClassifier\n",
    "from sklearn.ensemble import VotingClassifier\n",
    "\n",
    "# Word embedding and vectorization using Gensim\n",
    "from gensim.models import Word2Vec\n",
    "import gensim.downloader\n",
    "\n",
    "# Neural networks and deep learning using Keras\n",
    "from tensorflow.keras.preprocessing.text import Tokenizer\n",
    "from tensorflow.keras.preprocessing.sequence import pad_sequences\n",
    "from tensorflow.keras.models import Sequential\n",
    "from tensorflow.keras.layers import Embedding, LSTM, Dense, Dropout, Masking\n",
    "from tensorflow.keras.utils import to_categorical\n",
    "\n",
    "# Transformers and pre-trained models from Hugging Face\n",
    "import torch\n",
    "from transformers import (\n",
    "    BertTokenizer, BertModel, RobertaTokenizer, RobertaModel,\n",
    "    MarianMTModel, MarianTokenizer, pipeline\n",
    ")\n",
    "\n",
    "# Additional libraries for advanced modeling and preprocessing\n",
    "import xgboost as xgb\n",
    "import fasttext\n",
    "from imblearn.over_sampling import SMOTE\n"
   ]
  },
  {
   "cell_type": "code",
   "execution_count": 53,
   "id": "acf844d6",
   "metadata": {},
   "outputs": [
    {
     "name": "stdout",
     "output_type": "stream",
     "text": [
      "                                                text  label\n",
      "0  $BYND - JPMorgan reels in expectations on Beyo...      0\n",
      "1  $CCL $RCL - Nomura points to bookings weakness...      0\n",
      "2  $CX - Cemex cut at Credit Suisse, J.P. Morgan ...      0\n",
      "3  $ESS: BTIG Research cuts to Neutral https://t....      0\n",
      "4  $FNKO - Funko slides after Piper Jaffray PT cu...      0\n"
     ]
    }
   ],
   "source": [
    "# to read our data\n",
    "\n",
    "df_train = pd.read_csv('train.csv')\n",
    "df_test = pd.read_csv('test.csv')\n",
    "df_train = pd.DataFrame(data=df_train, columns=['text', 'label']).reset_index(drop=True)\n",
    "df_test = pd.DataFrame(data=df_test, columns=['text', 'label']).reset_index(drop=True)\n",
    "\n",
    "print(df_train.head())"
   ]
  },
  {
   "cell_type": "code",
   "execution_count": 54,
   "id": "005372df",
   "metadata": {},
   "outputs": [],
   "source": [
    "# copy of the df to apply in pre-trained models without data cleaning\n",
    "df_train_raw = df_train.copy()"
   ]
  },
  {
   "cell_type": "markdown",
   "id": "9440adda",
   "metadata": {},
   "source": [
    "<a class=\"anchor\" id=\"three-bullet\"> \n",
    "<d style=\"color:white;\">\n",
    "\n",
    "## 1.2. Initial Analysis\n",
    "</a> \n",
    "</d>   "
   ]
  },
  {
   "cell_type": "code",
   "execution_count": 55,
   "id": "1f874aa1",
   "metadata": {},
   "outputs": [
    {
     "name": "stdout",
     "output_type": "stream",
     "text": [
      "Initial dataset contains  9543 rows and  2 columns\n"
     ]
    }
   ],
   "source": [
    "print('Initial dataset contains ', df_train.shape[0], 'rows and ', df_train.shape[1], 'columns')"
   ]
  },
  {
   "cell_type": "code",
   "execution_count": 56,
   "id": "ed3bdd26",
   "metadata": {},
   "outputs": [
    {
     "name": "stdout",
     "output_type": "stream",
     "text": [
      "The dataset contains 3 unique labels to predict.\n",
      "label\n",
      "2    6178\n",
      "1    1923\n",
      "0    1442\n",
      "Name: count, dtype: int64\n"
     ]
    },
    {
     "data": {
      "image/png": "[encoded data removed]",
      "text/plain": [
       "<Figure size 640x480 with 1 Axes>"
      ]
     },
     "metadata": {},
     "output_type": "display_data"
    }
   ],
   "source": [
    "print('The dataset contains', df_train['label'].nunique(), 'unique labels to predict.')\n",
    "print(df_train['label'].value_counts())\n",
    "\n",
    "# Visualize distribution of satisfaction\n",
    "sns.countplot(data=df_train, x='label')\n",
    "plt.title(\"Distribution of Scores\")\n",
    "plt.xlabel(\"Score\")\n",
    "plt.ylabel(\"Count\")\n",
    "plt.show()"
   ]
  },
  {
   "cell_type": "code",
   "execution_count": 57,
   "id": "133d35c3",
   "metadata": {},
   "outputs": [
    {
     "data": {
      "text/plain": [
       "count    9543.000000\n",
       "mean        1.496280\n",
       "std         0.743139\n",
       "min         0.000000\n",
       "25%         1.000000\n",
       "50%         2.000000\n",
       "75%         2.000000\n",
       "max         2.000000\n",
       "Name: label, dtype: float64"
      ]
     },
     "execution_count": 57,
     "metadata": {},
     "output_type": "execute_result"
    }
   ],
   "source": [
    "df_train['label'].describe()"
   ]
  },
  {
   "cell_type": "code",
   "execution_count": 58,
   "id": "66183142",
   "metadata": {},
   "outputs": [
    {
     "data": {
      "text/plain": [
       "<Axes: >"
      ]
     },
     "execution_count": 58,
     "metadata": {},
     "output_type": "execute_result"
    },
    {
     "data": {
      "image/png": "[encoded data removed]",
      "text/plain": [
       "<Figure size 640x480 with 1 Axes>"
      ]
     },
     "metadata": {},
     "output_type": "display_data"
    }
   ],
   "source": [
    "df_train.boxplot(['label'])"
   ]
  },
  {
   "cell_type": "markdown",
   "id": "6b4cb9b9",
   "metadata": {},
   "source": [
    "To see the words that appear the most in our dataset"
   ]
  },
  {
   "cell_type": "code",
   "execution_count": 59,
   "id": "3c9da84a",
   "metadata": {},
   "outputs": [
    {
     "data": {
      "text/plain": [
       "to     2332\n",
       "the    1820\n",
       "of     1464\n",
       "-      1390\n",
       "in     1361\n",
       "on     1136\n",
       "for    1032\n",
       "a       970\n",
       "and     898\n",
       "The     663\n",
       "Name: count, dtype: int64"
      ]
     },
     "execution_count": 59,
     "metadata": {},
     "output_type": "execute_result"
    }
   ],
   "source": [
    "all_words = ' '.join(df_train['text']).split()\n",
    "freq = pd.Series(all_words).value_counts()\n",
    "freq.sort_values(ascending=False)[0:10]"
   ]
  },
  {
   "cell_type": "markdown",
   "id": "dcc61516",
   "metadata": {},
   "source": [
    "There appears the same word 'the' for example twice because it is in lower and upper case. Therefore we will have to deal with that in the preprocessing steps."
   ]
  },
  {
   "cell_type": "code",
   "execution_count": 60,
   "id": "5e3fc12b",
   "metadata": {},
   "outputs": [
    {
     "data": {
      "image/png": "[encoded data removed]",
      "text/plain": [
       "<Figure size 640x480 with 1 Axes>"
      ]
     },
     "metadata": {},
     "output_type": "display_data"
    }
   ],
   "source": [
    "x_labels = freq.index[0:10]\n",
    "values = freq[:10]\n",
    "plt.bar(x_labels, values, align='center', alpha=0.5)\n",
    "plt.xticks(x_labels)\n",
    "plt.ylabel('Frequencies')\n",
    "plt.title('Words')\n",
    "plt.xticks(rotation=90)\n",
    "plt.show()"
   ]
  },
  {
   "cell_type": "code",
   "execution_count": 61,
   "id": "76ca7b5b",
   "metadata": {},
   "outputs": [
    {
     "data": {
      "image/png": "[encoded data removed]",
      "text/plain": [
       "<Figure size 640x480 with 1 Axes>"
      ]
     },
     "metadata": {},
     "output_type": "display_data"
    }
   ],
   "source": [
    "raw_text = ' '.join(df_train['text'].fillna('')).lower()\n",
    "raw_wc = WordCloud(width=800, height=400, background_color='white').generate(raw_text)\n",
    "plt.imshow(raw_wc, interpolation='bilinear')\n",
    "plt.axis('off')\n",
    "plt.title('Word Cloud')\n",
    "plt.show()"
   ]
  },
  {
   "cell_type": "markdown",
   "id": "5f17befd",
   "metadata": {},
   "source": [
    "<a class=\"anchor\" id=\"four-bullet\"> \n",
    "<d style=\"color:white;\">\n",
    "\n",
    "## 1.3. Data Preprocessing\n",
    "</a> \n",
    "</d>   "
   ]
  },
  {
   "cell_type": "markdown",
   "id": "55cb2bea",
   "metadata": {},
   "source": [
    "<a class=\"anchor\" id=\"four_one-bullet\"> \n",
    "<d style=\"color:white;\">\n",
    "\n",
    "### 1.3.1. Missing values\n",
    "</a> \n",
    "<!-- </d>    -->"
   ]
  },
  {
   "cell_type": "code",
   "execution_count": 62,
   "id": "8fe59bbe",
   "metadata": {},
   "outputs": [
    {
     "name": "stdout",
     "output_type": "stream",
     "text": [
      "There are no missing values in the dataset\n"
     ]
    }
   ],
   "source": [
    "if df_train.isnull().sum().sum() > 0:\n",
    "    print('There are missing values in the dataset')\n",
    "else: \n",
    "    print('There are no missing values in the dataset')  "
   ]
  },
  {
   "cell_type": "markdown",
   "id": "c64b8adc",
   "metadata": {},
   "source": [
    "<a class=\"anchor\" id=\"four_two-bullet\"> \n",
    "<d style=\"color:white;\">\n",
    "\n",
    "### 1.3.2. Feature Engineering\n",
    "</a> \n",
    "</d>   "
   ]
  },
  {
   "cell_type": "markdown",
   "id": "55cbd07a",
   "metadata": {},
   "source": [
    "To help us visualize the content of our dataset, we will create two new columns: one that counts the total number of characters in each tweet, and another that counts the total number of words."
   ]
  },
  {
   "cell_type": "code",
   "execution_count": 63,
   "id": "509f11c4",
   "metadata": {},
   "outputs": [],
   "source": [
    "df_train['text_length'] = df_train['text'].apply(len)\n",
    "df_train['word_count']  = df_train['text'].apply(lambda x: len(str(x).split(\" \")))"
   ]
  },
  {
   "cell_type": "code",
   "execution_count": 64,
   "id": "13b776e7",
   "metadata": {},
   "outputs": [
    {
     "name": "stdout",
     "output_type": "stream",
     "text": [
      "Number of tweets with less than 7 characters: 21\n",
      "Percentage: 0.22%\n"
     ]
    }
   ],
   "source": [
    "# Count how many tweets have less than 7 characters\n",
    "num_short_tweets = (df_train['text_length'] < 7).sum()\n",
    "\n",
    "# Calculate the percentage of tweets with less than 7 characters\n",
    "percentage_short_tweets = (df_train['text_length'] < 7).mean() * 100\n",
    "\n",
    "print(f\"Number of tweets with less than 7 characters: {num_short_tweets}\")\n",
    "print(f\"Percentage: {percentage_short_tweets:.2f}%\")"
   ]
  },
  {
   "cell_type": "markdown",
   "id": "06e4a9e9",
   "metadata": {},
   "source": [
    "Since the percentage of tweets in our dataset with less than 7 characters is very low,  it doesn't even reach 1%, and given that tweets with this length may not be representative or useful for the development of our model, we have decided to remove all entries from the dataset with fewer than 7 characters."
   ]
  },
  {
   "cell_type": "code",
   "execution_count": 65,
   "id": "b40f94d3",
   "metadata": {},
   "outputs": [],
   "source": [
    "df_train = df_train[df_train['text'].str.len() >= 7]"
   ]
  },
  {
   "cell_type": "code",
   "execution_count": 66,
   "id": "42821070",
   "metadata": {},
   "outputs": [
    {
     "data": {
      "image/png": "[encoded data removed]",
      "text/plain": [
       "<Figure size 640x480 with 1 Axes>"
      ]
     },
     "metadata": {},
     "output_type": "display_data"
    }
   ],
   "source": [
    "#Plot distribution of text length\n",
    "sns.histplot(df_train['word_count'], bins=15)\n",
    "plt.title(\"Distribution of Text Lengths (raw text)\")\n",
    "plt.xlabel(\"Length of text\")\n",
    "plt.ylabel(\"Frequency\")\n",
    "plt.show()"
   ]
  },
  {
   "cell_type": "code",
   "execution_count": 67,
   "id": "2221577c",
   "metadata": {},
   "outputs": [
    {
     "data": {
      "text/plain": [
       "count    9522.000000\n",
       "mean       12.192712\n",
       "std         4.626671\n",
       "min         1.000000\n",
       "25%         9.000000\n",
       "50%        11.000000\n",
       "75%        15.000000\n",
       "max        31.000000\n",
       "Name: word_count, dtype: float64"
      ]
     },
     "execution_count": 67,
     "metadata": {},
     "output_type": "execute_result"
    }
   ],
   "source": [
    "df_train.word_count.describe()"
   ]
  },
  {
   "cell_type": "markdown",
   "id": "cf36bf06",
   "metadata": {},
   "source": [
    "<a class=\"anchor\" id=\"four_three-bullet\"> \n",
    "<d style=\"color:white;\">\n",
    "\n",
    "### 1.3.3. Outliers\n",
    "</a> \n",
    "</d>   "
   ]
  },
  {
   "cell_type": "code",
   "execution_count": 68,
   "id": "f6c62edd",
   "metadata": {},
   "outputs": [
    {
     "name": "stdout",
     "output_type": "stream",
     "text": [
      "We will eliminate the texts with less than 22.0 length\n",
      "label\n",
      "2    21\n",
      "1     5\n",
      "Name: count, dtype: int64\n",
      "                   text  label  text_length\n",
      "1858   SASA聚酯选用英威达PTA技术      2           16\n",
      "3090          Brent +4%      1            9\n",
      "3948            @TicToc      2            7\n",
      "3980      100% Correct!      2           13\n",
      "4358  Cya Jason Garrett      2           17\n",
      "4914         Next week.      2           10\n",
      "5006      Racing on Ice      2           13\n",
      "5484    Wholesale Trade      2           15\n",
      "5512         Woke Sachs      2           10\n",
      "5654         $penn coin      2           10\n",
      "6511     Housing Starts      2           14\n",
      "6849     Nasdaq up 0.2%      1           14\n",
      "6990  Averages end flat      2           17\n",
      "7935      $WW heavy....      1           13\n",
      "8055          Long $WMT      1            9\n",
      "8153    $APOP on scans.      2           15\n",
      "8167       $CEI Woke up      2           12\n",
      "8188     $ETSY 37 to 43      2           14\n",
      "8235  $NIO on the move.      2           17\n",
      "8276    $SPY $TNX $ULTA      2           15\n",
      "8277    $SPY $ULTA $BLL      2           15\n",
      "8304  $VIVE taking +10k      2           17\n",
      "8305   $VLRX volume pop      2           16\n",
      "8866      took $PANW #4      2           13\n",
      "8867      took $PLAY #4      2           13\n",
      "9257    $WORX new highs      1           15\n"
     ]
    }
   ],
   "source": [
    "to_remove = df_train['text_length'].quantile(0.005)\n",
    "\n",
    "print('We will eliminate the texts with less than', to_remove, 'length')  #0.5 percentile\n",
    "\n",
    "#to see where the labels of the errors\n",
    "removed_labels = df_train[df_train['text_length'] < 18]['label'].value_counts()\n",
    "print(removed_labels)\n",
    "\n",
    "#to see what is being eliminated:\n",
    "removed = df_train.loc[df_train['text_length'] < 18, ['text', 'label', 'text_length']]\n",
    "print(removed)\n",
    "\n",
    "df_train = df_train[df_train['text_length'] >= 18]\n",
    "df_train = df_train[df_train['text_length'] >= 18].reset_index(drop=True)"
   ]
  },
  {
   "cell_type": "markdown",
   "id": "92366306",
   "metadata": {},
   "source": [
    "<a class=\"anchor\" id=\"four_four-bullet\"> \n",
    "<d style=\"color:white;\">\n",
    "\n",
    "### 1.3.4. All text in english\n",
    "</a> \n",
    "</d>   "
   ]
  },
  {
   "cell_type": "code",
   "execution_count": 69,
   "id": "3af95a1b",
   "metadata": {},
   "outputs": [
    {
     "name": "stdout",
     "output_type": "stream",
     "text": [
      "language\n",
      "en    9420\n",
      "de      21\n",
      "es      14\n",
      "it      10\n",
      "fr       8\n",
      "nl       6\n",
      "ja       5\n",
      "pt       3\n",
      "fi       2\n",
      "hu       1\n",
      "vi       1\n",
      "sv       1\n",
      "cs       1\n",
      "zh       1\n",
      "da       1\n",
      "is       1\n",
      "Name: count, dtype: int64\n"
     ]
    }
   ],
   "source": [
    "# FOR THIS WE HAVE TO HAVE LOCALLY INSTALLED lid.176.bin\n",
    "\n",
    "model = fasttext.load_model(\"lid.176.bin\")\n",
    "\n",
    "def detect_language_fasttext(text):\n",
    "    try:\n",
    "        text_cleaned = text.replace('\\n', ' ').strip()\n",
    "        prediction = model.predict(text_cleaned)[0][0]\n",
    "        return prediction.replace(\"__label__\", \"\")\n",
    "    except:\n",
    "        return \"unknown\"\n",
    "\n",
    "df_train['language'] = df_train['text'].apply(detect_language_fasttext)\n",
    "print(df_train['language'].value_counts())\n"
   ]
  },
  {
   "cell_type": "code",
   "execution_count": 70,
   "id": "20c3240d",
   "metadata": {},
   "outputs": [
    {
     "name": "stderr",
     "output_type": "stream",
     "text": [
      "100%|██████████| 9496/9496 [00:00<00:00, 416404.71it/s]"
     ]
    },
    {
     "name": "stdout",
     "output_type": "stream",
     "text": [
      "Erro ao traduzir (es): \n",
      "MarianTokenizer requires the SentencePiece library but it was not found in your environment. Checkout the instructions on the\n",
      "installation page of its repo: https://github.com/google/sentencepiece#installation and follow the ones\n",
      "that match your environment. Please note that you may need to restart your runtime after installation.\n",
      "\n",
      "Erro ao traduzir (de): \n",
      "MarianTokenizer requires the SentencePiece library but it was not found in your environment. Checkout the instructions on the\n",
      "installation page of its repo: https://github.com/google/sentencepiece#installation and follow the ones\n",
      "that match your environment. Please note that you may need to restart your runtime after installation.\n",
      "\n",
      "Erro ao traduzir (fr): \n",
      "MarianTokenizer requires the SentencePiece library but it was not found in your environment. Checkout the instructions on the\n",
      "installation page of its repo: https://github.com/google/sentencepiece#installation and follow the ones\n",
      "that match your environment. Please note that you may need to restart your runtime after installation.\n",
      "\n",
      "Erro ao traduzir (fi): \n",
      "MarianTokenizer requires the SentencePiece library but it was not found in your environment. Checkout the instructions on the\n",
      "installation page of its repo: https://github.com/google/sentencepiece#installation and follow the ones\n",
      "that match your environment. Please note that you may need to restart your runtime after installation.\n",
      "\n",
      "Erro ao traduzir (es): \n",
      "MarianTokenizer requires the SentencePiece library but it was not found in your environment. Checkout the instructions on the\n",
      "installation page of its repo: https://github.com/google/sentencepiece#installation and follow the ones\n",
      "that match your environment. Please note that you may need to restart your runtime after installation.\n",
      "\n",
      "Erro ao traduzir (fr): \n",
      "MarianTokenizer requires the SentencePiece library but it was not found in your environment. Checkout the instructions on the\n",
      "installation page of its repo: https://github.com/google/sentencepiece#installation and follow the ones\n",
      "that match your environment. Please note that you may need to restart your runtime after installation.\n",
      "\n",
      "Erro ao traduzir (de): \n",
      "MarianTokenizer requires the SentencePiece library but it was not found in your environment. Checkout the instructions on the\n",
      "installation page of its repo: https://github.com/google/sentencepiece#installation and follow the ones\n",
      "that match your environment. Please note that you may need to restart your runtime after installation.\n",
      "\n",
      "Erro ao traduzir (nl): \n",
      "MarianTokenizer requires the SentencePiece library but it was not found in your environment. Checkout the instructions on the\n",
      "installation page of its repo: https://github.com/google/sentencepiece#installation and follow the ones\n",
      "that match your environment. Please note that you may need to restart your runtime after installation.\n",
      "\n",
      "Erro ao traduzir (nl): \n",
      "MarianTokenizer requires the SentencePiece library but it was not found in your environment. Checkout the instructions on the\n",
      "installation page of its repo: https://github.com/google/sentencepiece#installation and follow the ones\n",
      "that match your environment. Please note that you may need to restart your runtime after installation.\n",
      "\n",
      "Erro ao traduzir (fr): \n",
      "MarianTokenizer requires the SentencePiece library but it was not found in your environment. Checkout the instructions on the\n",
      "installation page of its repo: https://github.com/google/sentencepiece#installation and follow the ones\n",
      "that match your environment. Please note that you may need to restart your runtime after installation.\n",
      "\n",
      "Erro ao traduzir (it): \n",
      "MarianTokenizer requires the SentencePiece library but it was not found in your environment. Checkout the instructions on the\n",
      "installation page of its repo: https://github.com/google/sentencepiece#installation and follow the ones\n",
      "that match your environment. Please note that you may need to restart your runtime after installation.\n",
      "\n",
      "Erro ao traduzir (it): \n",
      "MarianTokenizer requires the SentencePiece library but it was not found in your environment. Checkout the instructions on the\n",
      "installation page of its repo: https://github.com/google/sentencepiece#installation and follow the ones\n",
      "that match your environment. Please note that you may need to restart your runtime after installation.\n",
      "\n",
      "Erro ao traduzir (es): \n",
      "MarianTokenizer requires the SentencePiece library but it was not found in your environment. Checkout the instructions on the\n",
      "installation page of its repo: https://github.com/google/sentencepiece#installation and follow the ones\n",
      "that match your environment. Please note that you may need to restart your runtime after installation.\n",
      "\n",
      "Erro ao traduzir (es): \n",
      "MarianTokenizer requires the SentencePiece library but it was not found in your environment. Checkout the instructions on the\n",
      "installation page of its repo: https://github.com/google/sentencepiece#installation and follow the ones\n",
      "that match your environment. Please note that you may need to restart your runtime after installation.\n",
      "\n",
      "Erro ao traduzir (de): \n",
      "MarianTokenizer requires the SentencePiece library but it was not found in your environment. Checkout the instructions on the\n",
      "installation page of its repo: https://github.com/google/sentencepiece#installation and follow the ones\n",
      "that match your environment. Please note that you may need to restart your runtime after installation.\n",
      "\n",
      "Erro ao traduzir (es): \n",
      "MarianTokenizer requires the SentencePiece library but it was not found in your environment. Checkout the instructions on the\n",
      "installation page of its repo: https://github.com/google/sentencepiece#installation and follow the ones\n",
      "that match your environment. Please note that you may need to restart your runtime after installation.\n",
      "\n",
      "Erro ao traduzir (es): \n",
      "MarianTokenizer requires the SentencePiece library but it was not found in your environment. Checkout the instructions on the\n",
      "installation page of its repo: https://github.com/google/sentencepiece#installation and follow the ones\n",
      "that match your environment. Please note that you may need to restart your runtime after installation.\n",
      "\n",
      "Erro ao traduzir (hu): \n",
      "MarianTokenizer requires the SentencePiece library but it was not found in your environment. Checkout the instructions on the\n",
      "installation page of its repo: https://github.com/google/sentencepiece#installation and follow the ones\n",
      "that match your environment. Please note that you may need to restart your runtime after installation.\n",
      "\n",
      "Erro ao traduzir (it): \n",
      "MarianTokenizer requires the SentencePiece library but it was not found in your environment. Checkout the instructions on the\n",
      "installation page of its repo: https://github.com/google/sentencepiece#installation and follow the ones\n",
      "that match your environment. Please note that you may need to restart your runtime after installation.\n",
      "\n",
      "Erro ao traduzir (it): \n",
      "MarianTokenizer requires the SentencePiece library but it was not found in your environment. Checkout the instructions on the\n",
      "installation page of its repo: https://github.com/google/sentencepiece#installation and follow the ones\n",
      "that match your environment. Please note that you may need to restart your runtime after installation.\n",
      "\n",
      "Erro ao traduzir (de): \n",
      "MarianTokenizer requires the SentencePiece library but it was not found in your environment. Checkout the instructions on the\n",
      "installation page of its repo: https://github.com/google/sentencepiece#installation and follow the ones\n",
      "that match your environment. Please note that you may need to restart your runtime after installation.\n",
      "\n",
      "Erro ao traduzir (de): \n",
      "MarianTokenizer requires the SentencePiece library but it was not found in your environment. Checkout the instructions on the\n",
      "installation page of its repo: https://github.com/google/sentencepiece#installation and follow the ones\n",
      "that match your environment. Please note that you may need to restart your runtime after installation.\n",
      "\n",
      "Erro ao traduzir (de): \n",
      "MarianTokenizer requires the SentencePiece library but it was not found in your environment. Checkout the instructions on the\n",
      "installation page of its repo: https://github.com/google/sentencepiece#installation and follow the ones\n",
      "that match your environment. Please note that you may need to restart your runtime after installation.\n",
      "\n",
      "Erro ao traduzir (de): \n",
      "MarianTokenizer requires the SentencePiece library but it was not found in your environment. Checkout the instructions on the\n",
      "installation page of its repo: https://github.com/google/sentencepiece#installation and follow the ones\n",
      "that match your environment. Please note that you may need to restart your runtime after installation.\n",
      "\n",
      "Erro ao traduzir (de): \n",
      "MarianTokenizer requires the SentencePiece library but it was not found in your environment. Checkout the instructions on the\n",
      "installation page of its repo: https://github.com/google/sentencepiece#installation and follow the ones\n",
      "that match your environment. Please note that you may need to restart your runtime after installation.\n",
      "\n",
      "Erro ao traduzir (de): \n",
      "MarianTokenizer requires the SentencePiece library but it was not found in your environment. Checkout the instructions on the\n",
      "installation page of its repo: https://github.com/google/sentencepiece#installation and follow the ones\n",
      "that match your environment. Please note that you may need to restart your runtime after installation.\n",
      "\n",
      "Erro ao traduzir (de): \n",
      "MarianTokenizer requires the SentencePiece library but it was not found in your environment. Checkout the instructions on the\n",
      "installation page of its repo: https://github.com/google/sentencepiece#installation and follow the ones\n",
      "that match your environment. Please note that you may need to restart your runtime after installation.\n",
      "\n",
      "Erro ao traduzir (vi): \n",
      "MarianTokenizer requires the SentencePiece library but it was not found in your environment. Checkout the instructions on the\n",
      "installation page of its repo: https://github.com/google/sentencepiece#installation and follow the ones\n",
      "that match your environment. Please note that you may need to restart your runtime after installation.\n",
      "\n",
      "Erro ao traduzir (fr): \n",
      "MarianTokenizer requires the SentencePiece library but it was not found in your environment. Checkout the instructions on the\n",
      "installation page of its repo: https://github.com/google/sentencepiece#installation and follow the ones\n",
      "that match your environment. Please note that you may need to restart your runtime after installation.\n",
      "\n",
      "Erro ao traduzir (de): \n",
      "MarianTokenizer requires the SentencePiece library but it was not found in your environment. Checkout the instructions on the\n",
      "installation page of its repo: https://github.com/google/sentencepiece#installation and follow the ones\n",
      "that match your environment. Please note that you may need to restart your runtime after installation.\n",
      "\n",
      "Erro ao traduzir (es): \n",
      "MarianTokenizer requires the SentencePiece library but it was not found in your environment. Checkout the instructions on the\n",
      "installation page of its repo: https://github.com/google/sentencepiece#installation and follow the ones\n",
      "that match your environment. Please note that you may need to restart your runtime after installation.\n",
      "\n",
      "Erro ao traduzir (de): \n",
      "MarianTokenizer requires the SentencePiece library but it was not found in your environment. Checkout the instructions on the\n",
      "installation page of its repo: https://github.com/google/sentencepiece#installation and follow the ones\n",
      "that match your environment. Please note that you may need to restart your runtime after installation.\n",
      "\n",
      "Erro ao traduzir (it): \n",
      "MarianTokenizer requires the SentencePiece library but it was not found in your environment. Checkout the instructions on the\n",
      "installation page of its repo: https://github.com/google/sentencepiece#installation and follow the ones\n",
      "that match your environment. Please note that you may need to restart your runtime after installation.\n",
      "\n",
      "Erro ao traduzir (fr): \n",
      "MarianTokenizer requires the SentencePiece library but it was not found in your environment. Checkout the instructions on the\n",
      "installation page of its repo: https://github.com/google/sentencepiece#installation and follow the ones\n",
      "that match your environment. Please note that you may need to restart your runtime after installation.\n",
      "\n",
      "Erro ao traduzir (sv): \n",
      "MarianTokenizer requires the SentencePiece library but it was not found in your environment. Checkout the instructions on the\n",
      "installation page of its repo: https://github.com/google/sentencepiece#installation and follow the ones\n",
      "that match your environment. Please note that you may need to restart your runtime after installation.\n",
      "\n",
      "Erro ao traduzir (es): \n",
      "MarianTokenizer requires the SentencePiece library but it was not found in your environment. Checkout the instructions on the\n",
      "installation page of its repo: https://github.com/google/sentencepiece#installation and follow the ones\n",
      "that match your environment. Please note that you may need to restart your runtime after installation.\n",
      "\n",
      "Erro ao traduzir (cs): \n",
      "MarianTokenizer requires the SentencePiece library but it was not found in your environment. Checkout the instructions on the\n",
      "installation page of its repo: https://github.com/google/sentencepiece#installation and follow the ones\n",
      "that match your environment. Please note that you may need to restart your runtime after installation.\n",
      "\n",
      "Erro ao traduzir (es): \n",
      "MarianTokenizer requires the SentencePiece library but it was not found in your environment. Checkout the instructions on the\n",
      "installation page of its repo: https://github.com/google/sentencepiece#installation and follow the ones\n",
      "that match your environment. Please note that you may need to restart your runtime after installation.\n",
      "\n",
      "Erro ao traduzir (es): \n",
      "MarianTokenizer requires the SentencePiece library but it was not found in your environment. Checkout the instructions on the\n",
      "installation page of its repo: https://github.com/google/sentencepiece#installation and follow the ones\n",
      "that match your environment. Please note that you may need to restart your runtime after installation.\n",
      "\n",
      "Erro ao traduzir (nl): \n",
      "MarianTokenizer requires the SentencePiece library but it was not found in your environment. Checkout the instructions on the\n",
      "installation page of its repo: https://github.com/google/sentencepiece#installation and follow the ones\n",
      "that match your environment. Please note that you may need to restart your runtime after installation.\n",
      "\n",
      "Erro ao traduzir (es): \n",
      "MarianTokenizer requires the SentencePiece library but it was not found in your environment. Checkout the instructions on the\n",
      "installation page of its repo: https://github.com/google/sentencepiece#installation and follow the ones\n",
      "that match your environment. Please note that you may need to restart your runtime after installation.\n",
      "\n",
      "Erro ao traduzir (it): \n",
      "MarianTokenizer requires the SentencePiece library but it was not found in your environment. Checkout the instructions on the\n",
      "installation page of its repo: https://github.com/google/sentencepiece#installation and follow the ones\n",
      "that match your environment. Please note that you may need to restart your runtime after installation.\n",
      "\n",
      "Erro ao traduzir (it): \n",
      "MarianTokenizer requires the SentencePiece library but it was not found in your environment. Checkout the instructions on the\n",
      "installation page of its repo: https://github.com/google/sentencepiece#installation and follow the ones\n",
      "that match your environment. Please note that you may need to restart your runtime after installation.\n",
      "\n",
      "Erro ao traduzir (it): \n",
      "MarianTokenizer requires the SentencePiece library but it was not found in your environment. Checkout the instructions on the\n",
      "installation page of its repo: https://github.com/google/sentencepiece#installation and follow the ones\n",
      "that match your environment. Please note that you may need to restart your runtime after installation.\n",
      "\n",
      "Erro ao traduzir (nl): \n",
      "MarianTokenizer requires the SentencePiece library but it was not found in your environment. Checkout the instructions on the\n",
      "installation page of its repo: https://github.com/google/sentencepiece#installation and follow the ones\n",
      "that match your environment. Please note that you may need to restart your runtime after installation.\n",
      "\n",
      "Erro ao traduzir (nl): \n",
      "MarianTokenizer requires the SentencePiece library but it was not found in your environment. Checkout the instructions on the\n",
      "installation page of its repo: https://github.com/google/sentencepiece#installation and follow the ones\n",
      "that match your environment. Please note that you may need to restart your runtime after installation.\n",
      "\n",
      "Erro ao traduzir (de): \n",
      "MarianTokenizer requires the SentencePiece library but it was not found in your environment. Checkout the instructions on the\n",
      "installation page of its repo: https://github.com/google/sentencepiece#installation and follow the ones\n",
      "that match your environment. Please note that you may need to restart your runtime after installation.\n",
      "\n",
      "Erro ao traduzir (fr): \n",
      "MarianTokenizer requires the SentencePiece library but it was not found in your environment. Checkout the instructions on the\n",
      "installation page of its repo: https://github.com/google/sentencepiece#installation and follow the ones\n",
      "that match your environment. Please note that you may need to restart your runtime after installation.\n",
      "\n",
      "Erro ao traduzir (de): \n",
      "MarianTokenizer requires the SentencePiece library but it was not found in your environment. Checkout the instructions on the\n",
      "installation page of its repo: https://github.com/google/sentencepiece#installation and follow the ones\n",
      "that match your environment. Please note that you may need to restart your runtime after installation.\n",
      "\n",
      "Erro ao traduzir (fr): \n",
      "MarianTokenizer requires the SentencePiece library but it was not found in your environment. Checkout the instructions on the\n",
      "installation page of its repo: https://github.com/google/sentencepiece#installation and follow the ones\n",
      "that match your environment. Please note that you may need to restart your runtime after installation.\n",
      "\n",
      "Erro ao traduzir (de): \n",
      "MarianTokenizer requires the SentencePiece library but it was not found in your environment. Checkout the instructions on the\n",
      "installation page of its repo: https://github.com/google/sentencepiece#installation and follow the ones\n",
      "that match your environment. Please note that you may need to restart your runtime after installation.\n",
      "\n",
      "Erro ao traduzir (zh): \n",
      "MarianTokenizer requires the SentencePiece library but it was not found in your environment. Checkout the instructions on the\n",
      "installation page of its repo: https://github.com/google/sentencepiece#installation and follow the ones\n",
      "that match your environment. Please note that you may need to restart your runtime after installation.\n",
      "\n",
      "Erro ao traduzir (ja): \n",
      "MarianTokenizer requires the SentencePiece library but it was not found in your environment. Checkout the instructions on the\n",
      "installation page of its repo: https://github.com/google/sentencepiece#installation and follow the ones\n",
      "that match your environment. Please note that you may need to restart your runtime after installation.\n",
      "\n",
      "Erro ao traduzir (es): \n",
      "MarianTokenizer requires the SentencePiece library but it was not found in your environment. Checkout the instructions on the\n",
      "installation page of its repo: https://github.com/google/sentencepiece#installation and follow the ones\n",
      "that match your environment. Please note that you may need to restart your runtime after installation.\n",
      "\n",
      "Erro ao traduzir (da): \n",
      "MarianTokenizer requires the SentencePiece library but it was not found in your environment. Checkout the instructions on the\n",
      "installation page of its repo: https://github.com/google/sentencepiece#installation and follow the ones\n",
      "that match your environment. Please note that you may need to restart your runtime after installation.\n",
      "\n",
      "Erro ao traduzir (ja): \n",
      "MarianTokenizer requires the SentencePiece library but it was not found in your environment. Checkout the instructions on the\n",
      "installation page of its repo: https://github.com/google/sentencepiece#installation and follow the ones\n",
      "that match your environment. Please note that you may need to restart your runtime after installation.\n",
      "\n",
      "Erro ao traduzir (ja): \n",
      "MarianTokenizer requires the SentencePiece library but it was not found in your environment. Checkout the instructions on the\n",
      "installation page of its repo: https://github.com/google/sentencepiece#installation and follow the ones\n",
      "that match your environment. Please note that you may need to restart your runtime after installation.\n",
      "\n",
      "Erro ao traduzir (de): \n",
      "MarianTokenizer requires the SentencePiece library but it was not found in your environment. Checkout the instructions on the\n",
      "installation page of its repo: https://github.com/google/sentencepiece#installation and follow the ones\n",
      "that match your environment. Please note that you may need to restart your runtime after installation.\n",
      "\n",
      "Erro ao traduzir (it): \n",
      "MarianTokenizer requires the SentencePiece library but it was not found in your environment. Checkout the instructions on the\n",
      "installation page of its repo: https://github.com/google/sentencepiece#installation and follow the ones\n",
      "that match your environment. Please note that you may need to restart your runtime after installation.\n",
      "\n",
      "Erro ao traduzir (de): \n",
      "MarianTokenizer requires the SentencePiece library but it was not found in your environment. Checkout the instructions on the\n",
      "installation page of its repo: https://github.com/google/sentencepiece#installation and follow the ones\n",
      "that match your environment. Please note that you may need to restart your runtime after installation.\n",
      "\n",
      "Erro ao traduzir (de): \n",
      "MarianTokenizer requires the SentencePiece library but it was not found in your environment. Checkout the instructions on the\n",
      "installation page of its repo: https://github.com/google/sentencepiece#installation and follow the ones\n",
      "that match your environment. Please note that you may need to restart your runtime after installation.\n",
      "\n",
      "Erro ao traduzir (de): \n",
      "MarianTokenizer requires the SentencePiece library but it was not found in your environment. Checkout the instructions on the\n",
      "installation page of its repo: https://github.com/google/sentencepiece#installation and follow the ones\n",
      "that match your environment. Please note that you may need to restart your runtime after installation.\n",
      "\n",
      "Erro ao traduzir (es): \n",
      "MarianTokenizer requires the SentencePiece library but it was not found in your environment. Checkout the instructions on the\n",
      "installation page of its repo: https://github.com/google/sentencepiece#installation and follow the ones\n",
      "that match your environment. Please note that you may need to restart your runtime after installation.\n",
      "\n",
      "Erro ao traduzir (nl): \n",
      "MarianTokenizer requires the SentencePiece library but it was not found in your environment. Checkout the instructions on the\n",
      "installation page of its repo: https://github.com/google/sentencepiece#installation and follow the ones\n",
      "that match your environment. Please note that you may need to restart your runtime after installation.\n",
      "\n",
      "Erro ao traduzir (it): \n",
      "MarianTokenizer requires the SentencePiece library but it was not found in your environment. Checkout the instructions on the\n",
      "installation page of its repo: https://github.com/google/sentencepiece#installation and follow the ones\n",
      "that match your environment. Please note that you may need to restart your runtime after installation.\n",
      "\n",
      "Erro ao traduzir (de): \n",
      "MarianTokenizer requires the SentencePiece library but it was not found in your environment. Checkout the instructions on the\n",
      "installation page of its repo: https://github.com/google/sentencepiece#installation and follow the ones\n",
      "that match your environment. Please note that you may need to restart your runtime after installation.\n",
      "\n",
      "Erro ao traduzir (ja): \n",
      "MarianTokenizer requires the SentencePiece library but it was not found in your environment. Checkout the instructions on the\n",
      "installation page of its repo: https://github.com/google/sentencepiece#installation and follow the ones\n",
      "that match your environment. Please note that you may need to restart your runtime after installation.\n",
      "\n",
      "Erro ao traduzir (es): \n",
      "MarianTokenizer requires the SentencePiece library but it was not found in your environment. Checkout the instructions on the\n",
      "installation page of its repo: https://github.com/google/sentencepiece#installation and follow the ones\n",
      "that match your environment. Please note that you may need to restart your runtime after installation.\n",
      "\n",
      "Erro ao traduzir (fr): \n",
      "MarianTokenizer requires the SentencePiece library but it was not found in your environment. Checkout the instructions on the\n",
      "installation page of its repo: https://github.com/google/sentencepiece#installation and follow the ones\n",
      "that match your environment. Please note that you may need to restart your runtime after installation.\n",
      "\n",
      "Erro ao traduzir (de): \n",
      "MarianTokenizer requires the SentencePiece library but it was not found in your environment. Checkout the instructions on the\n",
      "installation page of its repo: https://github.com/google/sentencepiece#installation and follow the ones\n",
      "that match your environment. Please note that you may need to restart your runtime after installation.\n",
      "\n",
      "Erro ao traduzir (fi): \n",
      "MarianTokenizer requires the SentencePiece library but it was not found in your environment. Checkout the instructions on the\n",
      "installation page of its repo: https://github.com/google/sentencepiece#installation and follow the ones\n",
      "that match your environment. Please note that you may need to restart your runtime after installation.\n",
      "\n",
      "Erro ao traduzir (is): \n",
      "MarianTokenizer requires the SentencePiece library but it was not found in your environment. Checkout the instructions on the\n",
      "installation page of its repo: https://github.com/google/sentencepiece#installation and follow the ones\n",
      "that match your environment. Please note that you may need to restart your runtime after installation.\n",
      "\n",
      "Erro ao traduzir (ja): \n",
      "MarianTokenizer requires the SentencePiece library but it was not found in your environment. Checkout the instructions on the\n",
      "installation page of its repo: https://github.com/google/sentencepiece#installation and follow the ones\n",
      "that match your environment. Please note that you may need to restart your runtime after installation.\n",
      "\n"
     ]
    },
    {
     "name": "stderr",
     "output_type": "stream",
     "text": [
      "\n"
     ]
    },
    {
     "data": {
      "text/html": [
       "<div>\n",
       "<style scoped>\n",
       "    .dataframe tbody tr th:only-of-type {\n",
       "        vertical-align: middle;\n",
       "    }\n",
       "\n",
       "    .dataframe tbody tr th {\n",
       "        vertical-align: top;\n",
       "    }\n",
       "\n",
       "    .dataframe thead th {\n",
       "        text-align: right;\n",
       "    }\n",
       "</style>\n",
       "<table border=\"1\" class=\"dataframe\">\n",
       "  <thead>\n",
       "    <tr style=\"text-align: right;\">\n",
       "      <th></th>\n",
       "      <th>text</th>\n",
       "      <th>label</th>\n",
       "      <th>text_length</th>\n",
       "      <th>word_count</th>\n",
       "      <th>language</th>\n",
       "      <th>translated_text</th>\n",
       "    </tr>\n",
       "  </thead>\n",
       "  <tbody>\n",
       "    <tr>\n",
       "      <th>1449</th>\n",
       "      <td>Eudonet annonce un chiffre d’affaires récurren...</td>\n",
       "      <td>2</td>\n",
       "      <td>82</td>\n",
       "      <td>13</td>\n",
       "      <td>fr</td>\n",
       "      <td>Eudonet annonce un chiffre d’affaires récurren...</td>\n",
       "    </tr>\n",
       "    <tr>\n",
       "      <th>1837</th>\n",
       "      <td>Rio Tinto’s Giant Mongolia Project Dealt Anoth...</td>\n",
       "      <td>2</td>\n",
       "      <td>53</td>\n",
       "      <td>6</td>\n",
       "      <td>fr</td>\n",
       "      <td>Rio Tinto’s Giant Mongolia Project Dealt Anoth...</td>\n",
       "    </tr>\n",
       "    <tr>\n",
       "      <th>1961</th>\n",
       "      <td>Tinyclues accélère sa croissance en 2019</td>\n",
       "      <td>2</td>\n",
       "      <td>40</td>\n",
       "      <td>6</td>\n",
       "      <td>fr</td>\n",
       "      <td>Tinyclues accélère sa croissance en 2019</td>\n",
       "    </tr>\n",
       "    <tr>\n",
       "      <th>4313</th>\n",
       "      <td>Cloudia lance la dernière génération de soluti...</td>\n",
       "      <td>2</td>\n",
       "      <td>93</td>\n",
       "      <td>13</td>\n",
       "      <td>fr</td>\n",
       "      <td>Cloudia lance la dernière génération de soluti...</td>\n",
       "    </tr>\n",
       "    <tr>\n",
       "      <th>4777</th>\n",
       "      <td>Korian s’associe à Omedys pour développer le p...</td>\n",
       "      <td>2</td>\n",
       "      <td>114</td>\n",
       "      <td>16</td>\n",
       "      <td>fr</td>\n",
       "      <td>Korian s’associe à Omedys pour développer le p...</td>\n",
       "    </tr>\n",
       "    <tr>\n",
       "      <th>5342</th>\n",
       "      <td>Total : Résultats du quatrième trimestre et de...</td>\n",
       "      <td>2</td>\n",
       "      <td>59</td>\n",
       "      <td>10</td>\n",
       "      <td>fr</td>\n",
       "      <td>Total : Résultats du quatrième trimestre et de...</td>\n",
       "    </tr>\n",
       "    <tr>\n",
       "      <th>5488</th>\n",
       "      <td>Will China Declare Force Majeure If Virus Situ...</td>\n",
       "      <td>2</td>\n",
       "      <td>60</td>\n",
       "      <td>9</td>\n",
       "      <td>fr</td>\n",
       "      <td>Will China Declare Force Majeure If Virus Situ...</td>\n",
       "    </tr>\n",
       "    <tr>\n",
       "      <th>8672</th>\n",
       "      <td>Is Les Hôtels de Paris (EPA:HDP) Using Too Muc...</td>\n",
       "      <td>2</td>\n",
       "      <td>53</td>\n",
       "      <td>10</td>\n",
       "      <td>fr</td>\n",
       "      <td>Is Les Hôtels de Paris (EPA:HDP) Using Too Muc...</td>\n",
       "    </tr>\n",
       "  </tbody>\n",
       "</table>\n",
       "</div>"
      ],
      "text/plain": [
       "                                                   text  label  text_length  \\\n",
       "1449  Eudonet annonce un chiffre d’affaires récurren...      2           82   \n",
       "1837  Rio Tinto’s Giant Mongolia Project Dealt Anoth...      2           53   \n",
       "1961           Tinyclues accélère sa croissance en 2019      2           40   \n",
       "4313  Cloudia lance la dernière génération de soluti...      2           93   \n",
       "4777  Korian s’associe à Omedys pour développer le p...      2          114   \n",
       "5342  Total : Résultats du quatrième trimestre et de...      2           59   \n",
       "5488  Will China Declare Force Majeure If Virus Situ...      2           60   \n",
       "8672  Is Les Hôtels de Paris (EPA:HDP) Using Too Muc...      2           53   \n",
       "\n",
       "      word_count language                                    translated_text  \n",
       "1449          13       fr  Eudonet annonce un chiffre d’affaires récurren...  \n",
       "1837           6       fr  Rio Tinto’s Giant Mongolia Project Dealt Anoth...  \n",
       "1961           6       fr           Tinyclues accélère sa croissance en 2019  \n",
       "4313          13       fr  Cloudia lance la dernière génération de soluti...  \n",
       "4777          16       fr  Korian s’associe à Omedys pour développer le p...  \n",
       "5342          10       fr  Total : Résultats du quatrième trimestre et de...  \n",
       "5488           9       fr  Will China Declare Force Majeure If Virus Situ...  \n",
       "8672          10       fr  Is Les Hôtels de Paris (EPA:HDP) Using Too Muc...  "
      ]
     },
     "execution_count": 70,
     "metadata": {},
     "output_type": "execute_result"
    }
   ],
   "source": [
    "SUPPORTED_LANGS = ['en', 'fr', 'es', 'de', 'it', 'nl', 'ru', 'zh', 'ja', 'ar', 'fi', 'hu', 'vi', 'sv', 'cs', 'da', 'is']\n",
    "loaded_models = {}\n",
    "\n",
    "def load_translation_model(src_lang):\n",
    "    \"\"\"\n",
    "    Load and cache a MarianMT translation model for a given source language.\n",
    "\n",
    "    Parameters:\n",
    "    src_lang (str): Source language code (e.g., 'fr', 'es', 'de').\n",
    "\n",
    "    Returns:\n",
    "    tuple: Tokenizer and model for the given source language.\n",
    "    \"\"\"\n",
    "\n",
    "    model_name = f'Helsinki-NLP/opus-mt-{src_lang}-en'\n",
    "    if model_name not in loaded_models:\n",
    "        tokenizer = MarianTokenizer.from_pretrained(model_name)\n",
    "        model = MarianMTModel.from_pretrained(model_name)\n",
    "        loaded_models[model_name] = (tokenizer, model)\n",
    "    return loaded_models[model_name]\n",
    "\n",
    "def translate_text(text, src_lang):\n",
    "    \"\"\"\n",
    "    Translate a given text to English if it is in a supported non-English language.\n",
    "\n",
    "    Parameters:\n",
    "    text (str): Text to be translated.\n",
    "    src_lang (str): Language code of the text.\n",
    "\n",
    "    Returns:\n",
    "    str: Translated text in English or original text if translation is not applicable.\n",
    "    \"\"\"\n",
    "    \n",
    "    if src_lang == 'en' or src_lang not in SUPPORTED_LANGS:\n",
    "        return text  \n",
    "    try:\n",
    "        tokenizer, model = load_translation_model(src_lang)\n",
    "        batch = tokenizer([text], return_tensors=\"pt\", padding=True, truncation=True)\n",
    "        generated = model.generate(**batch)\n",
    "        translated = tokenizer.decode(generated[0], skip_special_tokens=True)\n",
    "        return translated\n",
    "    except Exception as e:\n",
    "        print(f\"Erro ao traduzir ({src_lang}): {e}\")\n",
    "        return text\n",
    "\n",
    "df_train['translated_text'] = [\n",
    "    translate_text(text, lang)\n",
    "    for text, lang in tqdm(zip(df_train['text'], df_train['language']), total=len(df_train))]\n",
    "\n",
    "\n",
    "# to see it its translating well:\n",
    "df_train[df_train['language'] == 'fr']"
   ]
  },
  {
   "cell_type": "markdown",
   "id": "92f8f50a",
   "metadata": {},
   "source": [
    "<a class=\"anchor\" id=\"four_five-bullet\"> \n",
    "<d style=\"color:white;\">\n",
    "\n",
    "### 1.3.5. Text cleaning\n",
    "</a> \n",
    "</d>   "
   ]
  },
  {
   "cell_type": "markdown",
   "id": "567ced9f",
   "metadata": {},
   "source": [
    "Application of a formula that will:\n",
    "1. Remove the stopwords\n",
    "2. Stemeatize & Lematize\n",
    "3. Put everything in lowercase\n",
    "3. Remove weird characters"
   ]
  },
  {
   "cell_type": "code",
   "execution_count": 71,
   "id": "04e63db0",
   "metadata": {},
   "outputs": [
    {
     "name": "stdout",
     "output_type": "stream",
     "text": [
      "{'am', 't', 'he', 'y', 'myself', \"they'll\", 'aren', \"it's\", 'wasn', 'were', \"we'd\", 'on', 'such', 'than', \"that'll\", 'each', 'itself', 'our', \"we're\", \"wasn't\", 'does', 'only', 'ma', 'the', 'didn', 'further', 'this', 're', 'yourself', \"it'd\", 'most', \"he'd\", 'your', 'having', 'don', 'about', \"doesn't\", 'as', 'under', 'being', \"don't\", \"should've\", 'whom', 'herself', 'been', 'off', 'ourselves', 'had', 'isn', 'shan', 'those', 'are', 'into', \"i'm\", 'or', \"they're\", 'm', 'just', 'himself', 'some', 'of', 'she', 'should', 'same', 'their', 'during', 'between', 'for', 'shouldn', \"it'll\", \"isn't\", \"he'll\", 'down', 'to', 'yours', 'too', 'from', \"he's\", 'what', 'but', 'while', 'me', 's', \"they've\", 'where', 'up', 'ain', 'couldn', 'won', 'we', 'that', \"shan't\", 'my', 'how', 'hers', 'and', 'weren', 'its', 'not', \"haven't\", 'd', 'his', 'out', 'doing', 'why', 'after', 'any', 'needn', 'them', 'll', 'own', \"she'll\", \"you've\", 'is', 'him', 'it', 'both', \"didn't\", 'once', \"needn't\", 'did', 'now', \"she's\", \"i'd\", 'against', 'with', 'mustn', 'they', \"shouldn't\", \"we've\", 'all', 'more', 'before', 'can', 'at', \"hasn't\", \"mightn't\", 'haven', 'these', 'have', 'i', 'which', 'will', 'wouldn', 'hadn', 'by', 'here', 'themselves', \"i've\", 'until', \"weren't\", 'through', 'again', \"aren't\", 'theirs', 'who', \"you'll\", 'doesn', 'nor', \"i'll\", 'below', 've', \"wouldn't\", 'an', 'was', 'because', 'a', 'very', \"won't\", 'above', 'few', 'hasn', 'so', 'yourselves', 'her', 'do', 'in', \"we'll\", 'other', \"couldn't\", 'over', \"you'd\", \"mustn't\", 'no', 'if', \"she'd\", \"they'd\", 'be', 'mightn', 'then', 'you', 'ours', \"you're\", \"hadn't\", 'o', 'has', 'there', 'when'}\n"
     ]
    },
    {
     "name": "stderr",
     "output_type": "stream",
     "text": [
      "100%|██████████| 9496/9496 [00:00<00:00, 9573.28it/s] \n",
      "100%|██████████| 2388/2388 [00:00<00:00, 8922.01it/s] \n"
     ]
    },
    {
     "data": {
      "text/html": [
       "<div>\n",
       "<style scoped>\n",
       "    .dataframe tbody tr th:only-of-type {\n",
       "        vertical-align: middle;\n",
       "    }\n",
       "\n",
       "    .dataframe tbody tr th {\n",
       "        vertical-align: top;\n",
       "    }\n",
       "\n",
       "    .dataframe thead th {\n",
       "        text-align: right;\n",
       "    }\n",
       "</style>\n",
       "<table border=\"1\" class=\"dataframe\">\n",
       "  <thead>\n",
       "    <tr style=\"text-align: right;\">\n",
       "      <th></th>\n",
       "      <th>text</th>\n",
       "      <th>clean_text</th>\n",
       "    </tr>\n",
       "  </thead>\n",
       "  <tbody>\n",
       "    <tr>\n",
       "      <th>0</th>\n",
       "      <td>$BYND - JPMorgan reels in expectations on Beyo...</td>\n",
       "      <td>bynd jpmorgan reel expectation beyond meat</td>\n",
       "    </tr>\n",
       "    <tr>\n",
       "      <th>1</th>\n",
       "      <td>$CCL $RCL - Nomura points to bookings weakness...</td>\n",
       "      <td>ccl rcl nomura point booking weakness carnival...</td>\n",
       "    </tr>\n",
       "    <tr>\n",
       "      <th>2</th>\n",
       "      <td>$CX - Cemex cut at Credit Suisse, J.P. Morgan ...</td>\n",
       "      <td>cx cemex cut credit suisse j p morgan weak bui...</td>\n",
       "    </tr>\n",
       "    <tr>\n",
       "      <th>3</th>\n",
       "      <td>$ESS: BTIG Research cuts to Neutral https://t....</td>\n",
       "      <td>es btig research cut neutral</td>\n",
       "    </tr>\n",
       "    <tr>\n",
       "      <th>4</th>\n",
       "      <td>$FNKO - Funko slides after Piper Jaffray PT cu...</td>\n",
       "      <td>fnko funko slide piper jaffray pt cut</td>\n",
       "    </tr>\n",
       "  </tbody>\n",
       "</table>\n",
       "</div>"
      ],
      "text/plain": [
       "                                                text  \\\n",
       "0  $BYND - JPMorgan reels in expectations on Beyo...   \n",
       "1  $CCL $RCL - Nomura points to bookings weakness...   \n",
       "2  $CX - Cemex cut at Credit Suisse, J.P. Morgan ...   \n",
       "3  $ESS: BTIG Research cuts to Neutral https://t....   \n",
       "4  $FNKO - Funko slides after Piper Jaffray PT cu...   \n",
       "\n",
       "                                          clean_text  \n",
       "0         bynd jpmorgan reel expectation beyond meat  \n",
       "1  ccl rcl nomura point booking weakness carnival...  \n",
       "2  cx cemex cut credit suisse j p morgan weak bui...  \n",
       "3                       es btig research cut neutral  \n",
       "4              fnko funko slide piper jaffray pt cut  "
      ]
     },
     "execution_count": 71,
     "metadata": {},
     "output_type": "execute_result"
    }
   ],
   "source": [
    "# Set of English stopwords to filter out common, uninformative words\n",
    "stop = set(stopwords.words('english'))\n",
    "print(stop)\n",
    "\n",
    "# Snowball stemmer to reduce words to their root form\n",
    "stemmer = SnowballStemmer('english')\n",
    "\n",
    "# WordNet lemmatizer to convert words to their base or dictionary form\n",
    "lemma = WordNetLemmatizer()\n",
    "\n",
    "\n",
    "# Cleaning Function\n",
    "def clean(text_list, stopwords=True, lemmatize=True, stem=False, correct_spelling=False):\n",
    "    \"\"\"\n",
    "    Clean a list of text strings by applying lowercasing, regex filters, and optional NLP steps.\n",
    "\n",
    "    Parameters:\n",
    "    text_list (list): List of text entries (strings) to clean.\n",
    "    stopwords (bool): If True, removes English stopwords.\n",
    "    lemmatize (bool): If True, applies lemmatization to each word.\n",
    "    stem (bool): If True, applies stemming to each word (not recommended with lemmatization).\n",
    "    correct_spelling (bool): If True, applies spelling correction (slow process).\n",
    "\n",
    "    Returns:\n",
    "    list: List of cleaned text strings.\n",
    "    \"\"\"\n",
    "\n",
    "    cleaned = []\n",
    "    for text in tqdm(text_list):\n",
    "        text = text.lower()                                            # convert text to lowercase\n",
    "        text = re.sub(r\"http\\S+\", \"\", text)                            # remove links\n",
    "        text = re.sub(\"[^a-zA-Z]\", \" \", text)                          # remove numbers and non-alphabetic characters\n",
    "        text = re.sub(\"br\", \"\", text)                                  # remove occurrences of \"br\" (often from HTML tags)\n",
    "        text = re.sub(f\"[{re.escape(string.punctuation)}]\", \"\", text)  # remove extra punctuation\n",
    "        \n",
    "\n",
    "        if stopwords:\n",
    "            text = \" \".join([word for word in text.split() if word not in stop])\n",
    "\n",
    "        if correct_spelling:\n",
    "            text = str(TextBlob(text).correct())\n",
    "\n",
    "        if lemmatize:\n",
    "            text = \" \".join(lemma.lemmatize(word) for word in text.split())\n",
    "\n",
    "        if stem:\n",
    "            text = \" \".join(stemmer.stem(word) for word in text.split())\n",
    "\n",
    "        cleaned.append(text)\n",
    "\n",
    "    return cleaned\n",
    "\n",
    "# Initial cleaning: remove empty or None entries\n",
    "df_train = df_train[df_train['translated_text'].notnull()]\n",
    "df_train = df_train[df_train['translated_text'].str.strip() != \"\"]\n",
    "\n",
    "df_test = df_test[df_test['text'].notnull()]\n",
    "df_test = df_test[df_test['text'].str.strip() != \"\"]\n",
    "\n",
    "# Apply cleaning function\n",
    "df_train['clean_text'] = clean(df_train['translated_text'], stopwords=True, lemmatize=True, stem=False, correct_spelling=False)\n",
    "df_test['clean_text'] = clean(df_test['text'], stopwords=True, lemmatize=True, stem=False, correct_spelling=False)\n",
    "\n",
    "# View original and cleaned texts\n",
    "df_train[['text', 'clean_text']].head()"
   ]
  },
  {
   "cell_type": "markdown",
   "id": "122b0123",
   "metadata": {},
   "source": [
    "<a class=\"anchor\" id=\"four_six-bullet\"> \n",
    "<d style=\"color:white;\">\n",
    "\n",
    "### 1.3.6. Removing unsual words\n",
    "</a> \n",
    "</d>   "
   ]
  },
  {
   "cell_type": "markdown",
   "id": "9d5a5511",
   "metadata": {},
   "source": [
    "To further reduce noise in our dataset and improve the potential performance of our models, we will remove all words that appear only once in the dataset, as these are extremely rare and likely insignificant for our problem."
   ]
  },
  {
   "cell_type": "code",
   "execution_count": 72,
   "id": "5ecbc094",
   "metadata": {},
   "outputs": [
    {
     "name": "stdout",
     "output_type": "stream",
     "text": [
      "Words that appear only once: ['aaa', 'aaham', 'aams', 'aaon', 'aav', 'aaww', 'aaza', 'abalone', 'abandoned', 'abandoning', 'abbott', 'abe', 'abebe', 'aben', 'abeo', 'aberdeen', 'abeviated', 'abiy', 'abn', 'abo', 'abolish', 'aborted', 'absol', 'absorb', 'absurdity', 'abu', 'abukarsh', 'abusing', 'abv', 'academic', 'acceleron', 'acceleronpharma', 'accendowave', 'acceptance', 'accessing', 'accesswi', 'acciones', 'accommodate', 'accomplish', 'accomplished', 'accor', 'accordi', 'accordingly', 'accretive', 'accumulated', 'accumulating', 'accuracy', 'accurately', 'accusation', 'accuses', 'acea', 'acelerada', 'acelrx', 'ach', 'achieved', 'achieving', 'acknowledged', 'acknowledging', 'acme', 'acmr', 'acorncapitalinvestmentfund', 'acqu', 'acquisizioni', 'acquittal', 'acrx', 'actinogen', 'actinogenmedical', 'activated', 'activates', 'actividades', 'activism', 'actuall', 'actuarial', 'acu', 'acui', 'acw', 'adam', 'adani', 'adapt', 'addict', 'addicted', 'adecco', 'adenatfriedman', 'adesco', 'adesto', 'adia', 'adidas', 'adjusting', 'adjustment', 'adjuvant', 'adler', 'administrative', 'admitted', 'admitting', 'admonishes', 'admp', 'adms', 'adn', 'adnt', 'adoproperties', 'adopting', 'adrenaline', 'adrianambells', 'adss', 'adtalem', 'adtran', 'advantego', 'advertisement', 'advertiser', 'adverum', 'advic', 'advintltradeingoods', 'advise', 'advised', 'advm', 'advretailinventories', 'adx', 'adxenergy', 'aecon', 'aegis', 'aegix', 'aeis', 'aemd', 'aemetis', 'aemro', 'aep', 'aer', 'aereas', 'aerie', 'aero', 'aeromexico', 'aerosystems', 'aerovironment', 'af', 'afar', 'afb', 'affaire', 'affamed', 'affiliate', 'affimed', 'affirmative', 'affluent', 'affordability', 'afg', 'afi', 'afks', 'afl', 'afmd', 'afrique', 'afro', 'aft', 'aftershock', 'agarwal', 'agati', 'agatifund', 'agd', 'agent', 'aggregate', 'aggregating', 'aggregator', 'aggression', 'aggressively', 'agilent', 'agility', 'aging', 'aglomerante', 'agnes', 'agonist', 'agrana', 'agre', 'agressive', 'agricul', 'agrx', 'ahc', 'ahexf', 'ahmad', 'ahmed', 'ahol', 'ahold', 'aht', 'aif', 'aig', 'ailing', 'aimia', 'aiming', 'ainer', 'ainstorm', 'aiot', 'airb', 'airbag', 'aircraft', 'aired', 'airplane', 'airtime', 'ajax', 'ajx', 'akam', 'akamai', 'akari', 'akbank', 'akbar', 'akebia', 'akerbp', 'akero', 'akers', 'aking', 'akre', 'aktx', 'alacer', 'alacergold', 'alamo', 'alarming', 'alayacare', 'albemarle', 'alberta', 'alberto', 'albilad', 'alcee', 'alcohol', 'alcoholic', 'alcon', 'alene', 'alerttm', 'alessandro', 'alexander', 'alexco', 'alexion', 'alexistvnews', 'alg', 'algae', 'algerian', 'algt', 'align', 'aligntechnology', 'alike', 'alim', 'alio', 'alitalia', 'alkaloid', 'alkem', 'alklk', 'allakos', 'allayed', 'allbirds', 'alleges', 'allegheny', 'allegiant', 'allen', 'allestimenti', 'alleviate', 'alliancetrust', 'allied', 'allk', 'allocation', 'allotment', 'allowance', 'allows', 'alny', 'alongside', 'alphafly', 'alphastocknews', 'alre', 'alt', 'altair', 'altcoins', 'alternate', 'alteryx', 'altg', 'altius', 'altr', 'altran', 'altrantechnologies', 'altriset', 'aluminium', 'alunig', 'alv', 'alvogen', 'alx', 'amal', 'amani', 'amanigold', 'ambani', 'ambassa', 'ambiental', 'ambu', 'amcham', 'amendment', 'amer', 'amerco', 'ameri', 'americanairlines', 'ameropa', 'amgdf', 'amgn', 'aminata', 'amipure', 'amir', 'amk', 'amlo', 'ammo', 'amore', 'amorim', 'amped', 'ample', 'amplitude', 'amputation', 'amrs', 'amset', 'amtac', 'amtrak', 'amwd', 'amyotrophic', 'amyris', 'anal', 'analytica', 'analyzes', 'analyzing', 'anchiano', 'anchored', 'anchoring', 'ancora', 'ancuf', 'andacollo', 'andaman', 'anding', 'andless', 'andreessen', 'anesthesia', 'anew', 'anexinet', 'anf', 'angeloakcap', 'anger', 'angiodynamics', 'angle', 'anglo', 'angloamerican', 'angloaustralianresourcesnl', 'ango', 'angola', 'angolan', 'angrick', 'angry', 'anheuserbuschinbev', 'anil', 'animation', 'aniston', 'anixa', 'anjkhem', 'annonce', 'annouced', 'annually', 'annuity', 'ano', 'anonima', 'anonymous', 'answe', 'answered', 'ansys', 'ant', 'antarctica', 'antibiotic', 'antibody', 'anticipate', 'anticipating', 'anticipation', 'antonioguterres', 'anurag', 'anxiety', 'anybody', 'anything', 'anytime', 'anywhere', 'aoad', 'aoc', 'apa', 'apac', 'apam', 'apax', 'apellis', 'apex', 'apls', 'apologises', 'apology', 'apparently', 'appear', 'appellate', 'appian', 'applaud', 'applause', 'appreciation', 'appropria', 'appropriately', 'approving', 'approximately', 'aprn', 'aptv', 'aqua', 'arab', 'aramark', 'arbitrary', 'arbitration', 'arbor', 'arborrealtytrust', 'arbutus', 'arcad', 'arcade', 'arcadis', 'architectural', 'architecture', 'archrock', 'arconic', 'arcus', 'ard', 'ardaghsa', 'ardich', 'are', 'arex', 'argen', 'argia', 'arguably', 'argue', 'argued', 'argues', 'argus', 'argusresearch', 'ari', 'arista', 'aristocrat', 'arkansas', 'arkr', 'arkrestaurants', 'armada', 'armata', 'armed', 'armistice', 'armourenergy', 'arnau', 'arnault', 'arnold', 'aroc', 'aroma', 'aromenfirmen', 'aromi', 'arql', 'arranges', 'arrived', 'artelo', 'arteria', 'artisan', 'artl', 'artwork', 'arvn', 'asahi', 'asana', 'asb', 'asbestos', 'asbfy', 'ascendant', 'ascending', 'asean', 'ashford', 'ashok', 'ashtead', 'ashworth', 'asileira', 'asln', 'asnd', 'aspect', 'aspen', 'aspn', 'aspu', 'asrt', 'assertive', 'assess', 'associa', 'associe', 'assumes', 'astana', 'aster', 'asterion', 'asterix', 'astra', 'astramicro', 'astrology', 'ate', 'athleisure', 'athlete', 'athletica', 'athletics', 'atico', 'atkins', 'atlasarteria', 'atm', 'atmosphere', 'atos', 'atp', 'atri', 'atrion', 'atrium', 'atrocity', 'atrophy', 'att', 'attacked', 'attacking', 'atte', 'attendance', 'attending', 'attracted', 'attraction', 'attribute', 'atvi', 'atyr', 'auburndale', 'auctioned', 'audaxrenovablessa', 'audc', 'audience', 'audited', 'auditor', 'auf', 'auftrag', 'augur', 'aumn', 'auptly', 'aurelia', 'auroracannabis', 'aussie', 'austar', 'austargold', 'austral', 'australgold', 'australianmines', 'austrian', 'authoritar', 'autl', 'autoimmune', 'autoliv', 'autolus', 'automobile', 'autonation', 'autonomy', 'autostrada', 'auz', 'avadel', 'availability', 'aval', 'avalara', 'avapritinib', 'avastin', 'avav', 'avert', 'avery', 'aves', 'avghourlyearnings', 'avisbudget', 'avitamedical', 'aviva', 'avizorex', 'avlr', 'avocado', 'avoided', 'avoids', 'avro', 'avrobio', 'avwap', 'awaits', 'awakening', 'awarding', 'awareness', 'awf', 'awkward', 'awl', 'awr', 'axcelis', 'axios', 'axis', 'axle', 'axo', 'axos', 'axovant', 'axu', 'ayx', 'azerbaijan', 'azeri', 'aziendale', 'azo', 'azre', 'azrieli', 'aztec', 'azul', 'baa', 'babcock', 'babe', 'bac', 'backcountry', 'backe', 'backlog', 'backpacker', 'backup', 'badezimmer', 'bagger', 'bait', 'bajalia', 'balaguer', 'balanced', 'balancing', 'balfanz', 'balkan', 'balladonia', 'bamboo', 'bancorporation', 'bancroft', 'bangko', 'bangkok', 'banished', 'bankia', 'bankindonesia', 'bankofjamaica', 'bankofqueensland', 'baozun', 'bapf', 'barbados', 'barbara', 'barbell', 'bare', 'barely', 'barmaid', 'barometer', 'barra', 'barrack', 'barrage', 'barrick', 'barring', 'barrington', 'bartolacci', 'bartolo', 'baseball', 'baseline', 'basically', 'basico', 'basra', 'bass', 'bassmetals', 'baswood', 'bat', 'batch', 'batrk', 'battelle', 'battling', 'baublebar', 'baxterinternational', 'bay', 'bayanpay', 'bayway', 'bbb', 'bbby', 'bbc', 'bbca', 'bbq', 'bby', 'bcb', 'bcc', 'bce', 'bch', 'bchey', 'bcli', 'bco', 'bcope', 'bcrh', 'bcrx', 'bcs', 'beam', 'bean', 'bearing', 'beau', 'beaumont', 'beautiful', 'bedroom', 'befor', 'befriend', 'bega', 'beginner', 'behalen', 'behave', 'behavior', 'behaviour', 'belden', 'beleaguered', 'belfort', 'belinda', 'bellevue', 'bellevuegold', 'bellring', 'bellwether', 'belo', 'belski', 'beltway', 'belushi', 'benavides', 'bench', 'benchmarking', 'bending', 'benefited', 'benfenati', 'benign', 'benitec', 'benjamin', 'bennet', 'benzene', 'beptf', 'bercow', 'berenberg', 'bergenbio', 'berger', 'berggruen', 'bergreifende', 'berkshire', 'berman', 'bern', 'bernahme', 'berners', 'besieged', 'besties', 'betrayed', 'bette', 'beware', 'beyer', 'beyonc', 'bf', 'bgc', 'bgg', 'bgr', 'bharat', 'bhubaneswar', 'bhvn', 'bickering', 'bics', 'bidder', 'bidding', 'bigfoot', 'bil', 'bilateral', 'bilaterally', 'billboard', 'billio', 'bimekizumab', 'binance', 'bingo', 'bioarctic', 'biodi', 'bioepis', 'biofouling', 'biohitech', 'biolabs', 'biolidics', 'biolinerx', 'biology', 'biometric', 'bionic', 'biontech', 'biopharma', 'biopharmx', 'bioservices', 'biosimilar', 'biosyent', 'biotechnolog', 'bioteq', 'bipolar', 'bir', 'birchcliff', 'bird', 'birth', 'birthday', 'biscuit', 'bisque', 'bissau', 'bita', 'bitmex', 'bjp', 'bk', 'bkd', 'blackbox', 'blackfriday', 'blackline', 'blackrockfrontiersinvestmenttrust', 'blaming', 'blank', 'blanqueamineto', 'blasted', 'blatantly', 'blatherings', 'blcm', 'bleacher', 'blended', 'blender', 'blending', 'blew', 'blind', 'bliss', 'blk', 'blmn', 'blockade', 'blok', 'bloodbath', 'bloom', 'bloombergtv', 'blower', 'blowing', 'blown', 'blph', 'blrx', 'bluelinx', 'bluemel', 'blueprint', 'bluff', 'bmtc', 'bmw', 'bngo', 'bnkxy', 'bno', 'bns', 'bntc', 'bntx', 'bny', 'boa', 'boarding', 'boardroom', 'bobbyberk', 'bod', 'bogus', 'boingo', 'boj', 'bojangles', 'bokf', 'bolder', 'bolig', 'bolivia', 'bolstering', 'bolyy', 'bombard', 'bombardier', 'bombay', 'bon', 'bonal', 'bondi', 'bone', 'bong', 'bonham', 'booked', 'booted', 'booz', 'boozy', 'bora', 'born', 'borough', 'borr', 'borrow', 'botswana', 'bottled', 'bougainville', 'bound', 'boutique', 'bouygues', 'boy', 'boyd', 'bpird', 'bpirf', 'bpmx', 'bpop', 'bps', 'bpy', 'bsn', 'bsx', 'btps', 'bu', 'buchanan', 'buckingham', 'buddhist', 'budge', 'budgeting', 'buffered', 'buffet', 'bug', 'bugatti', 'bugbee', 'buildin', 'bulgaria', 'bulimia', 'bullet', 'bulletproof', 'bullion', 'bullshit', 'bullying', 'bumper', 'bumpy', 'bunge', 'buoyant', 'buoyed', 'buran', 'bureaucracy', 'burglary', 'buried', 'burl', 'burned', 'burped', 'burrito', 'bushfires', 'busiest', 'busin', 'businessworld', 'busing', 'busting', 'butera', 'buttigie', 'button', 'buttressing', 'buzz', 'buzzing', 'buzzkills', 'bwa', 'bwo', 'bxc', 'bxmt', 'bydonkeys', 'byju', 'bykatherineross', 'bytedance', 'byton', 'bzun', 'caa', 'cab', 'cabo', 'cabot', 'cacc', 'cacciatore', 'cadbury', 'cade', 'cadillac', 'cadillacs', 'cafe', 'caffeine', 'cage', 'cagny', 'cagr', 'cah', 'caladrius', 'calamatta', 'calculated', 'calculation', 'caleres', 'calgon', 'californian', 'callaway', 'callon', 'calmer', 'calumet', 'calyxt', 'calzado', 'cambium', 'camden', 'camian', 'camidge', 'campaigning', 'campbell', 'can', 'canadianpacificrailway', 'canal', 'cancellation', 'cancom', 'candacecbure', 'candid', 'candidacy', 'candle', 'candy', 'canf', 'canfor', 'canntrust', 'canon', 'capaci', 'capecon', 'capgemini', 'capitalismo', 'capitalworks', 'capturing', 'caracas', 'cardano', 'cardiff', 'cardinal', 'cardiovascular', 'cardlytics', 'career', 'careful', 'carefully', 'caretrust', 'carey', 'carige', 'carlisle', 'carlos', 'carlquintanilla', 'carmax', 'carnage', 'carpentaria', 'carpentariaresources', 'carpenter', 'carried', 'carrizo', 'carrol', 'carrols', 'carrot', 'carta', 'cartel', 'carvana', 'carve', 'cascabel', 'casey', 'cashflow', 'casposo', 'cassa', 'casting', 'castor', 'castormaritime', 'caswell', 'catalent', 'category', 'catering', 'cateyhill', 'cathay', 'catheter', 'caty', 'cautio', 'cawoods', 'cayman', 'cbank', 'cbb', 'cbdmd', 'cbi', 'cbli', 'cc', 'cccs', 'ccj', 'cck', 'ccoi', 'ccrc', 'cde', 'cdls', 'cdlx', 'cdmo', 'cdp', 'cdpq', 'cdw', 'cease', 'cei', 'celadon', 'celestial', 'celgene', 'cellect', 'cellulosic', 'celsius', 'celyad', 'cement', 'cemex', 'cen', 'cenovus', 'centaurus', 'centennial', 'centerstate', 'centralbankofphilippines', 'centrex', 'centrotec', 'cepi', 'cerner', 'certa', 'certainly', 'certaint', 'cesee', 'cev', 'cfpzf', 'cfraresearch', 'cftc', 'cg', 'cgix', 'chaim', 'chairwoman', 'challe', 'chanc', 'chandra', 'changyou', 'channeladvisor', 'chappatta', 'character', 'characterize', 'charan', 'chargepoint', 'charging', 'charisma', 'charitab', 'charitable', 'chark', 'charlie', 'charlot', 'charm', 'charmed', 'chartered', 'chartist', 'chat', 'che', 'cheapest', 'cheat', 'cheek', 'cheered', 'cheery', 'cheetah', 'chelle', 'chemtrade', 'cheque', 'chess', 'chevrolet', 'chf', 'chgg', 'chh', 'chi', 'chiasma', 'chic', 'chiffre', 'childers', 'chilean', 'chilly', 'chimerix', 'chimney', 'chinaagriindustries', 'chinafeihe', 'chinajishan', 'chinamengniudairy', 'chine', 'chipmakers', 'chipotle', 'chkp', 'chl', 'chma', 'chocolate', 'cholesterol', 'choose', 'chooses', 'choosing', 'chop', 'chopped', 'chosun', 'chow', 'chr', 'christened', 'christi', 'christiesinc', 'christineromans', 'christopher', 'christos', 'chromecast', 'chron', 'chs', 'chtr', 'church', 'chuscal', 'ci', 'cien', 'cierra', 'cigi', 'cilantro', 'cim', 'cincinnati', 'cinedigm', 'cinema', 'cinemark', 'cineplex', 'ciner', 'cinerresourceslp', 'cintas', 'circ', 'circuit', 'circumstance', 'circus', 'citadel', 'cited', 'citrus', 'citydevelopments', 'civista', 'ck', 'clamor', 'clarification', 'clarifies', 'clark', 'classi', 'classici', 'clause', 'clay', 'clbk', 'clbs', 'cle', 'cleaner', 'cleaning', 'cleansing', 'cleanup', 'clearance', 'clearly', 'clearstructure', 'clever', 'clf', 'cli', 'clinch', 'clinesmith', 'clinic', 'clint', 'clip', 'clipperlogistics', 'clmt', 'closet', 'clothes', 'cloudia', 'cloudsimple', 'clpr', 'clucking', 'clueless', 'clumio', 'cluster', 'clustering', 'clv', 'clvs', 'clx', 'clydeside', 'cmbm', 'cmc', 'cmo', 'cmrx', 'cmuv', 'cnb', 'cnbcafrica', 'cnbcmoneymistakes', 'cnbctv', 'cnc', 'cnfinance', 'cnicas', 'cnmd', 'cno', 'cnob', 'cnooc', 'cnsx', 'cnty', 'cnwgy', 'cnxn', 'coaster', 'coattail', 'cob', 'cobaltblue', 'cocacolaamatil', 'coconut', 'coeur', 'coffeee', 'cogent', 'cohn', 'cohort', 'coima', 'coin', 'colb', 'colgate', 'coll', 'collaborates', 'collaborative', 'collater', 'collected', 'collectionhouse', 'collective', 'collegedegree', 'collegefedchallenge', 'colleyville', 'collier', 'colm', 'colocation', 'colonize', 'coloplast', 'columnist', 'comb', 'combating', 'combination', 'combining', 'combo', 'comedian', 'comedycentral', 'comey', 'comfort', 'comfortably', 'comgrow', 'comic', 'cominar', 'comman', 'command', 'comme', 'commends', 'commercialize', 'commerzbank', 'commits', 'commo', 'commonwealth', 'commonwealthbankofaustralia', 'commscope', 'communique', 'communism', 'communist', 'compa', 'compagnie', 'companion', 'comparison', 'competed', 'complacency', 'complainin', 'complains', 'complexity', 'complicating', 'complication', 'complied', 'component', 'composition', 'compq', 'compra', 'compromise', 'compute', 'computer', 'computershare', 'comstock', 'comune', 'comunicacion', 'concentrated', 'concept', 'concluded', 'concludes', 'concor', 'concrete', 'condemned', 'conditioni', 'condo', 'conducive', 'conductor', 'confe', 'conferencing', 'confidently', 'confirmation', 'confirming', 'conflicting', 'confront', 'confusion', 'congestion', 'conglomerate', 'congo', 'congratulates', 'congressional', 'congresswoman', 'conmedcorporation', 'connect', 'connectivity', 'connectone', 'conoco', 'conscious', 'consensys', 'conservation', 'considerable', 'consol', 'consolidated', 'consort', 'conspiracy', 'constance', 'constellation', 'constr', 'construcci', 'consulate', 'consult', 'consultant', 'consume', 'consumption', 'cont', 'containerboard', 'containing', 'contango', 'contemplated', 'contentious', 'contest', 'conti', 'continent', 'continenta', 'contingent', 'continual', 'continuing', 'contracted', 'contradict', 'contradictory', 'contrarian', 'convenes', 'convenience', 'convenient', 'convention', 'conventional', 'conversie', 'conversione', 'convert', 'converter', 'conveyance', 'convict', 'convicted', 'convinced', 'cooked', 'cooker', 'cooled', 'cooler', 'coolsys', 'cooperstown', 'copa', 'coped', 'copiktra', 'copy', 'corcept', 'cordy', 'corelogic', 'coresite', 'coro', 'corona', 'coronabonds', 'coronavi', 'coronaviru', 'coronavirusouteak', 'coronoavirus', 'corpbanca', 'corpgov', 'corporacion', 'corportion', 'correa', 'correctly', 'correios', 'correspondent', 'correvio', 'corroboration', 'corrugated', 'corteva', 'cortez', 'corticeira', 'coruna', 'corv', 'corvette', 'cosatu', 'cosco', 'cosmo', 'cott', 'cotton', 'counc', 'counci', 'councilor', 'counsel', 'counted', 'countering', 'counterintelligence', 'counterpart', 'counterparties', 'countr', 'coupa', 'courtney', 'cov', 'covanta', 'cove', 'coveted', 'cowboy', 'coworkers', 'cox', 'coziron', 'cozironresources', 'cpa', 'cpap', 'cpb', 'cpf', 'cpg', 'cph', 'cpi', 'cpri', 'cpt', 'cpu', 'cracked', 'craft', 'craig', 'cram', 'crane', 'crashing', 'creation', 'creative', 'creazione', 'crecimiento', 'credicorp', 'creek', 'creep', 'creg', 'crescita', 'crest', 'crf', 'crh', 'crimea', 'criminal', 'crisi', 'cristiano', 'criteo', 'critica', 'crk', 'crm', 'crn', 'croissance', 'crombie', 'crosshairs', 'crossover', 'crosspoint', 'crosswordcybersecurity', 'crowdfunded', 'crowdmedia', 'crspr', 'crto', 'crudeoil', 'cruiser', 'crumb', 'crumpled', 'crunch', 'crus', 'crush', 'crushed', 'crushing', 'cruzsur', 'crv', 'cryoport', 'cryptocurrencies', 'cryptokitties', 'csbb', 'cseresznyevir', 'csfl', 'cslly', 'csrt', 'ctad', 'ctc', 'ctd', 'ctfn', 'ctk', 'ctrc', 'ctre', 'ctrn', 'ctsh', 'ctva', 'ctx', 'cub', 'cuisinart', 'culinary', 'cult', 'cultivator', 'cumberland', 'cumu', 'cuomo', 'cupping', 'cur', 'curfew', 'curiositystream', 'curise', 'currie', 'curtailment', 'cuschieri', 'cushion', 'cutera', 'cva', 'cvgi', 'cvi', 'cvna', 'cvr', 'cwbhf', 'cwt', 'cx', 'cxm', 'cyberark', 'cyberattack', 'cybercriminal', 'cyclicality', 'cyclicals', 'cyl', 'cylinder', 'cymabat', 'cymru', 'cynata', 'cynatatherapeutics', 'cyou', 'cyp', 'cypress', 'cyrusone', 'cyrx', 'cystic', 'cytomx', 'dacian', 'dailydatapoint', 'daiwa', 'dakt', 'daktronics', 'dalian', 'dalila', 'dalla', 'dalvin', 'dalvschi', 'damaged', 'damian', 'dampen', 'danaher', 'danariely', 'dancing', 'dangerous', 'dangerously', 'danilak', 'danny', 'danske', 'dao', 'dapper', 'daqo', 'darcy', 'darkness', 'darling', 'dartmouth', 'darzalex', 'dasan', 'dasanzhone', 'dashboard', 'dat', 'database', 'datadoghq', 'dated', 'daughter', 'dauria', 'davenport', 'davey', 'davidfickling', 'dawn', 'daxi', 'daytrade', 'dbi', 'dbvt', 'dcix', 'dcm', 'dcn', 'ddo', 'deadli', 'deadlier', 'dealership', 'dealersocket', 'dealmaking', 'dealt', 'dean', 'debit', 'debtor', 'debunk', 'decay', 'deceived', 'decelerates', 'deceleration', 'decemeber', 'decent', 'decentralized', 'decide', 'decided', 'deciding', 'decimated', 'decker', 'declaring', 'decn', 'decom', 'decor', 'decorate', 'deed', 'deeply', 'defaulted', 'defeat', 'defeated', 'defect', 'defended', 'defer', 'defers', 'defies', 'defined', 'definitive', 'defuses', 'defy', 'degenerate', 'degeneres', 'degree', 'degres', 'delegation', 'deletion', 'deleveraging', 'delhaize', 'delisting', 'dell', 'della', 'delle', 'delmar', 'delvey', 'dem', 'demanded', 'demise', 'demographic', 'demonstra', 'demonstrating', 'demonstrator', 'denbury', 'dengue', 'denim', 'denko', 'dennison', 'denso', 'dent', 'denying', 'deo', 'departing', 'depending', 'depends', 'depicted', 'depiction', 'deploy', 'deploying', 'depositor', 'depressed', 'depriving', 'dept', 'depth', 'derail', 'derailment', 'deray', 'derby', 'derivative', 'derni', 'derwent', 'desc', 'descent', 'describe', 'described', 'describing', 'desert', 'designer', 'desirable', 'despatch', 'desperate', 'dessert', 'destabilised', 'destination', 'destroyer', 'destruction', 'destructive', 'detailed', 'detains', 'detect', 'detected', 'deteriorating', 'determination', 'determined', 'determines', 'deterrence', 'dethrone', 'detroit', 'deux', 'devastate', 'devastates', 'develo', 'developmen', 'devendra', 'devoted', 'dewey', 'dex', 'dexcom', 'df', 'dffn', 'dgii', 'dhabi', 'dhf', 'dhl', 'dht', 'dicerna', 'dick', 'dictated', 'diet', 'dietmar', 'differently', 'diffusion', 'digested', 'digi', 'diligence', 'dillard', 'dilute', 'dim', 'dime', 'dimension', 'ding', 'dinsmore', 'diode', 'dionnewarwick', 'dipped', 'dir', 'directing', 'direxion', 'dirtwork', 'disability', 'disabled', 'disagree', 'disappearance', 'disappoint', 'disarm', 'disast', 'disbanded', 'disbursement', 'disclaimer', 'discloseable', 'disclosed', 'disconnecting', 'discourage', 'discreet', 'discriminatory', 'discussed', 'discussing', 'dise', 'disengagement', 'disgrace', 'disgraced', 'disgruntled', 'disguised', 'dislocation', 'dismissal', 'disorderly', 'dispatch', 'display', 'displaying', 'disposed', 'disputed', 'disputing', 'disrupt', 'disrupted', 'disruptive', 'dissecting', 'dissent', 'dissident', 'dissuading', 'distance', 'distancing', 'distillate', 'distorting', 'distrib', 'distributed', 'disturbing', 'ditched', 'ditech', 'dither', 'diugarh', 'div', 'dived', 'diverge', 'diversification', 'diversified', 'diversify', 'diversity', 'divest', 'divestment', 'divisione', 'dixie', 'diz', 'dj', 'djt', 'dlbcl', 'dlph', 'dltr', 'dm', 'dmc', 'dmci', 'dmd', 'dmpi', 'dmx', 'dnc', 'dnr', 'dnzof', 'dnzoy', 'do', 'doc', 'docked', 'docoaktiengesellschaft', 'docomo', 'doctrine', 'documentary', 'docusign', 'dodge', 'dodged', 'dogg', 'doggone', 'dolby', 'doll', 'dolllar', 'domain', 'domicile', 'dominance', 'dominant', 'dominate', 'dominican', 'dominionenergy', 'donaldson', 'donar', 'donated', 'donation', 'doneranno', 'dongle', 'donna', 'dont', 'doo', 'doomed', 'dooo', 'doordash', 'doping', 'dori', 'dosing', 'dotard', 'dotz', 'dotznano', 'doubletgolle', 'doubter', 'doubtful', 'dougherty', 'douglas', 'dovish', 'dowjones', 'down', 'downl', 'downplaying', 'downsizing', 'downtrend', 'dpm', 'dq', 'drafted', 'dragon', 'drain', 'drained', 'drake', 'dramatically', 'drastically', 'dravet', 'drawdown', 'drawing', 'drawn', 'dreamforce', 'dreaming', 'dreamscape', 'dreyfus', 'drh', 'dri', 'dried', 'drift', 'drill', 'drinker', 'drip', 'driverless', 'drm', 'drna', 'dropout', 'drowning', 'drowns', 'drugmaker', 'drummartin', 'drygiving', 'drying', 'dsinghx', 'dske', 'dssi', 'dswl', 'dtea', 'dtegf', 'dtegy', 'du', 'dubbed', 'dubin', 'ducon', 'dug', 'duhigg', 'duk', 'dulls', 'dumped', 'dundee', 'dunlap', 'dunlop', 'duolingo', 'dust', 'dut', 'dutchman', 'duxton', 'duxtonoadacrefarms', 'dwayne', 'dwell', 'dwindling', 'dwvyf', 'dxp', 'dynasty', 'dynatrace', 'dynavax', 'dynex', 'dynt', 'dysfunction', 'dystopia', 'eaches', 'ead', 'eadsf', 'eadsy', 'eadwinners', 'eakdown', 'eakers', 'eakeven', 'eakingnews', 'ealing', 'earbuds', 'earlie', 'earned', 'easemytrip', 'eastwood', 'eaten', 'eatery', 'eath', 'eathe', 'eaze', 'ebf', 'ebitdar', 'ebix', 'ebo', 'ebos', 'ebtc', 'eca', 'ecl', 'ecologist', 'econ', 'econfocus', 'econo', 'econoday', 'econom', 'economi', 'economicletter', 'ecuadorian', 'edelweiss', 'edged', 'edit', 'editas', 'editorial', 'edle', 'edludlow', 'edmundlee', 'ednt', 'edon', 'edreams', 'edwardjones', 'edwardslifesci', 'eel', 'eelectricmiguel', 'eerste', 'eff', 'efficacy', 'effici', 'efficiency', 'efficiently', 'efsc', 'eft', 'efx', 'egain', 'egan', 'egg', 'ego', 'egrx', 'egy', 'egyptian', 'ehang', 'ehealth', 'ehr', 'ehth', 'eicher', 'eighteen', 'eighth', 'eisai', 'eispiste', 'ejcacciatore', 'eked', 'ekso', 'ekta', 'elan', 'elavon', 'elba', 'elchanan', 'eld', 'elect', 'electi', 'electoral', 'electrameccanica', 'electrica', 'electrocore', 'electrolux', 'elegoo', 'elephant', 'eletroas', 'eleva', 'elf', 'elg', 'elia', 'elicited', 'elicits', 'eligible', 'elilillyand', 'eliminated', 'eliminates', 'elimination', 'eliot', 'eliott', 'elise', 'ellington', 'ellison', 'ellomay', 'elm', 'elmo', 'elmos', 'elpasostrong', 'elsa', 'eltek', 'eltp', 'ely', 'em', 'emace', 'emaced', 'emaces', 'emaer', 'emami', 'embark', 'embassy', 'emcor', 'emerald', 'emergence', 'emerges', 'emergingmarkets', 'emerson', 'emigrantes', 'emigre', 'eminent', 'emitte', 'emitted', 'emitting', 'emmanuel', 'emoiled', 'emojis', 'emotional', 'emphasis', 'emphatic', 'empower', 'empowerment', 'emyonic', 'enable', 'enabler', 'encana', 'encision', 'encore', 'encounterresources', 'encourage', 'encouraged', 'endan', 'endangered', 'endeavor', 'endo', 'endorsed', 'endorsement', 'endorses', 'endp', 'endpoint', 'endv', 'enerbank', 'energetica', 'energia', 'enforcing', 'engaging', 'engulfs', 'enhancement', 'enlc', 'enlink', 'ennis', 'enob', 'enph', 'enphase', 'enrage', 'enrico', 'enstar', 'ensuring', 'entegris', 'entercom', 'entering', 'enteron', 'entg', 'enthusiasm', 'enticing', 'entirely', 'entrate', 'entravision', 'entx', 'environnement', 'enx', 'eos', 'eot', 'epc', 'epic', 'epicentre', 'epidem', 'epizyme', 'eplus', 'epra', 'epstein', 'eqn', 'eqnr', 'equally', 'equalweight', 'equiniti', 'equinox', 'equipped', 'equityresidential', 'equivalence', 'er', 'erasing', 'erben', 'erdogan', 'ergot', 'erii', 'erik', 'eritrean', 'erm', 'ernest', 'eroding', 'eros', 'erupt', 'eruption', 'escalating', 'escobar', 'ese', 'esea', 'esgr', 'esi', 'eslt', 'esnt', 'espana', 'espec', 'especi', 'esper', 'esr', 'essential', 'essentially', 'essner', 'established', 'este', 'esteem', 'estesa', 'esther', 'estre', 'estreambiental', 'ethanol', 'ethic', 'ethical', 'ethiopia', 'ethos', 'etiope', 'etiopia', 'etiquette', 'etn', 'etrn', 'etx', 'eudonet', 'euphoria', 'eurobank', 'europcar', 'euroseas', 'eurusd', 'euxtf', 'evacuate', 'evacuated', 'evaluate', 'evaluating', 'evaluation', 'evans', 'evaporates', 'evas', 'evc', 'everett', 'evergreen', 'everquote', 'evertz', 'everybody', 'everywhere', 'evh', 'evil', 'evk', 'evok', 'evolve', 'evolving', 'evonik', 'evp', 'evr', 'evrg', 'evv', 'ew', 'ewc', 'ewhispers', 'ewolffmann', 'ewtp', 'exaclty', 'exact', 'examine', 'examines', 'examining', 'exas', 'exc', 'exceeding', 'exceeds', 'excellence', 'excellent', 'exception', 'exceptional', 'excessive', 'excessively', 'exciting', 'exclude', 'exclusively', 'exclusivity', 'excuse', 'execu', 'executed', 'executes', 'executing', 'exemplar', 'exercice', 'exercising', 'exhausted', 'exhausting', 'exhaustion', 'existential', 'exiteers', 'exls', 'exlservice', 'exoskeleton', 'exotic', 'expan', 'expansive', 'expe', 'expec', 'experienced', 'expertise', 'expiration', 'expires', 'explai', 'explained', 'explainer', 'explanation', 'explanatory', 'exploit', 'explores', 'exponent', 'exported', 'expose', 'exposing', 'exposure', 'expr', 'exr', 'extensive', 'extensively', 'extent', 'external', 'extradited', 'extraor', 'extravaganza', 'extremely', 'extremist', 'exxe', 'ey', 'eyeing', 'eyeows', 'eyepoint', 'eypt', 'ezpw', 'faber', 'facbook', 'faced', 'factbox', 'fadnavis', 'faic', 'faithful', 'falconstor', 'fallen', 'falli', 'falter', 'famak', 'famursa', 'fang', 'fantasia', 'fantasy', 'farewell', 'farming', 'fashioned', 'fashioning', 'fatality', 'fatally', 'fatboyslim', 'father', 'fathom', 'fatjoe', 'fatprophetspty', 'fatter', 'fauci', 'fault', 'favored', 'favoring', 'fbn', 'fbnc', 'fcel', 'fcr', 'fcstone', 'fdx', 'fe', 'fearful', 'fearing', 'feat', 'featured', 'featuring', 'feder', 'federer', 'fedfraser', 'fedreport', 'feeble', 'feedback', 'feihe', 'fein', 'fele', 'felix', 'fence', 'feng', 'fern', 'ferrato', 'festival', 'festive', 'fetch', 'feud', 'ff', 'ffarms', 'ffiv', 'ffwm', 'fgb', 'fgd', 'fher', 'fhfa', 'fia', 'fiasco', 'fidai', 'fido', 'fiera', 'fieramilano', 'fierce', 'fiesta', 'fifteen', 'fig', 'figment', 'figrx', 'figured', 'filer', 'filled', 'filling', 'fin', 'finalized', 'financi', 'finnairoyj', 'fintechs', 'fintepla', 'finvolution', 'fiori', 'fiosis', 'firearm', 'firework', 'firstfarms', 'firstgroup', 'firsthand', 'fisher', 'fisi', 'fitbit', 'fitful', 'fittest', 'fiverr', 'fj', 'flacqua', 'flagging', 'flame', 'flammable', 'flashbackfriday', 'flashforge', 'flattering', 'flavour', 'fldm', 'fledged', 'flee', 'fleetcor', 'fletcher', 'fletcherbuilding', 'flexibility', 'flightcentretravel', 'flipping', 'flir', 'flmp', 'floodgate', 'flooding', 'flop', 'flourish', 'flower', 'flowserve', 'flr', 'flu', 'fluctuation', 'fluid', 'fluor', 'flushing', 'flydubai', 'flyer', 'flynas', 'fmcc', 'fmcsa', 'fmi', 'fmn', 'fmr', 'fnf', 'fnjn', 'fnma', 'fnv', 'focal', 'fold', 'foldable', 'follo', 'fomo', 'font', 'footing', 'footprint', 'footwear', 'forager', 'foragerfundsmanagementpty', 'foray', 'forbearance', 'forefront', 'foresee', 'foresight', 'forever', 'forexlive', 'forger', 'forgot', 'fori', 'forint', 'formally', 'forman', 'formfactor', 'fort', 'fortiguard', 'fortum', 'fortunately', 'forwa', 'fossh', 'foster', 'fostering', 'fou', 'fought', 'founded', 'fournierwire', 'fowl', 'foxa', 'foxandfriends', 'foxnews', 'fpga', 'fpp', 'fpt', 'fqvlf', 'fr', 'fracking', 'fractional', 'fragility', 'francesca', 'frank', 'frankenstein', 'frantic', 'fraser', 'frasers', 'freak', 'freaked', 'freed', 'freedom', 'freefall', 'freehold', 'freeman', 'freighttech', 'freightwaves', 'frenchconnection', 'frequent', 'freshest', 'freshfields', 'frg', 'friedman', 'fro', 'froneman', 'frost', 'frown', 'frta', 'fru', 'fry', 'fsis', 'ftag', 'ftch', 'fti', 'ftt', 'fuad', 'fuelcell', 'fukuhara', 'fukushima', 'fulfilling', 'fume', 'fundamentally', 'funded', 'fundraiser', 'fundstrat', 'furious', 'furlough', 'fury', 'futr', 'futurefuel', 'futuristic', 'fwrlx', 'fxc', 'ga', 'gabelli', 'gadkari', 'gaea', 'gaiel', 'gaige', 'gail', 'galactic', 'galileo', 'galileomining', 'gallagher', 'galliford', 'galmed', 'galp', 'galpenergiasgps', 'gambit', 'gambler', 'gamers', 'gamida', 'gammacommunications', 'gan', 'gandhi', 'gang', 'gangliosidosis', 'gapped', 'gappers', 'garbade', 'garbage', 'garc', 'garnishgather', 'gartman', 'gartner', 'gary', 'gaselia', 'gasl', 'gasx', 'gathering', 'gatt', 'gautam', 'gaw', 'gay', 'gazp', 'gbtkf', 'gbx', 'gctay', 'gd', 'gdc', 'gddy', 'gdi', 'gdot', 'gear', 'gearing', 'gearmaker', 'gebied', 'geezer', 'gef', 'gem', 'genc', 'gencor', 'genderequality', 'gener', 'generac', 'generale', 'generalelection', 'generally', 'generating', 'generator', 'generous', 'genesis', 'genfit', 'gengf', 'genius', 'genmab', 'genmark', 'geno', 'genocea', 'genocide', 'genova', 'genovis', 'genpact', 'gentiloni', 'genus', 'geopolitics', 'geospace', 'geothermal', 'gerko', 'germ', 'gernot', 'geuikt', 'gff', 'gfrd', 'gft', 'gfttechnologies', 'ggal', 'ggm', 'gho', 'ghost', 'ghosting', 'ghsi', 'gi', 'giapponesi', 'gideon', 'gignf', 'gilat', 'gillia', 'gillian', 'ginni', 'ginnie', 'girds', 'girlfriend', 'gita', 'gitagopinath', 'giteshpandya', 'github', 'giveaway', 'giver', 'gkos', 'gl', 'glabellar', 'glaring', 'glasenberg', 'glaser', 'glaukos', 'glaxosmithkline', 'glbs', 'glenmark', 'glichen', 'glimmer', 'glimpse', 'glioblastoma', 'glmd', 'glo', 'globalinvestments', 'globalisation', 'globalstar', 'globe', 'globenewswire', 'globetronics', 'glog', 'gloomy', 'glop', 'glu', 'glued', 'gluskin', 'glw', 'glynn', 'glyphosate', 'gmab', 'gmda', 'gn', 'gnca', 'gnft', 'gnmk', 'gnrc', 'gnss', 'gobain', 'gobble', 'gocovri', 'godaddy', 'godfrey', 'godot', 'goldfield', 'goldmansachs', 'goldon', 'goldonresources', 'goldrea', 'golub', 'goodyear', 'googled', 'gopichand', 'gopinath', 'gordon', 'gore', 'gorgeous', 'gossip', 'gotta', 'gotten', 'gouverneur', 'govb', 'governance', 'governo', 'govitecan', 'gowdy', 'gpe', 'gph', 'gpif', 'gpp', 'gpre', 'gpu', 'graco', 'grade', 'gradual', 'graftech', 'gralise', 'grammy', 'grandmother', 'grandparent', 'grappling', 'grayscale', 'greece', 'greene', 'greenier', 'greenland', 'greenlane', 'greenleaf', 'greensboro', 'greenwashing', 'greg', 'gregorio', 'greif', 'grenz', 'gretesuarez', 'gridlock', 'grilling', 'grim', 'gripping', 'gro', 'grom', 'grootste', 'grossing', 'grote', 'groupon', 'groworks', 'grumman', 'grupa', 'grupalotossa', 'gsat', 'gsb', 'gsh', 'gsi', 'gsit', 'gsma', 'gtes', 'gts', 'gu', 'guangfa', 'guangping', 'guangshen', 'guangzhou', 'guardian', 'guardion', 'guatemala', 'guggenheimpartnersllc', 'guided', 'gulfport', 'gush', 'gut', 'guyana', 'gwyneth', 'gxyef', 'hab', 'hagerty', 'hail', 'hain', 'haines', 'hair', 'haitong', 'hakuna', 'halalah', 'haldane', 'haldenstein', 'halftime', 'halfway', 'halifax', 'halliburton', 'hallucination', 'hallum', 'halma', 'halmy', 'halting', 'halving', 'hamborner', 'hammer', 'hammerson', 'hammond', 'hancock', 'handbag', 'handed', 'handful', 'handled', 'handling', 'handoff', 'handover', 'haneda', 'hangover', 'hangseng', 'hankinta', 'hanretty', 'hansewerk', 'hara', 'harborone', 'harbour', 'harbourvest', 'hardest', 'hardliner', 'hardly', 'hargreaves', 'haring', 'harker', 'harley', 'harm', 'harmony', 'harsh', 'harshest', 'hart', 'harvesting', 'haskel', 'hauling', 'hausse', 'havent', 'havilah', 'havilahresources', 'havilland', 'hawaii', 'hawk', 'hazardous', 'hbo', 'hcm', 'hcsg', 'hdge', 'hdil', 'hdp', 'he', 'headl', 'heal', 'healthequity', 'healthier', 'heartland', 'heathrow', 'heating', 'heatmap', 'heavily', 'heavyweight', 'hebei', 'hedging', 'heed', 'heel', 'hees', 'hefh', 'heftier', 'hefty', 'heico', 'heidrick', 'heinrich', 'heir', 'heist', 'hele', 'helios', 'helius', 'helix', 'heller', 'hellip', 'hellman', 'hematology', 'hembla', 'hemingway', 'hemp', 'henkel', 'henry', 'hep', 'hepcidin', 'hepion', 'herbicide', 'herceptin', 'hercules', 'herd', 'heritage', 'herm', 'hermes', 'hernandez', 'heroin', 'hersha', 'hertz', 'herz', 'hess', 'hewlett', 'hex', 'hexa', 'hexagonresources', 'hexcel', 'hexindai', 'heytammyuce', 'hf', 'hfc', 'hg', 'hibbett', 'hiding', 'hig', 'highwoods', 'highwoodsproperties', 'hiho', 'hiking', 'hillary', 'hillhouse', 'hilltop', 'hilzinger', 'hindered', 'hindu', 'hinduja', 'hingucker', 'hinting', 'hired', 'hirings', 'hist', 'histo', 'histological', 'historical', 'historically', 'hkscan', 'hl', 'hlio', 'hlmaf', 'hlmly', 'hlt', 'hmc', 'hmlp', 'hnhaf', 'hnhpd', 'hnscc', 'ho', 'hodge', 'hoffler', 'hogan', 'holdout', 'holi', 'holid', 'holidaymaker', 'holly', 'hollysys', 'holx', 'hom', 'homb', 'homebuyer', 'homegoods', 'hometown', 'honduras', 'hone', 'honest', 'honey', 'honoree', 'hoodie', 'hoof', 'hoogste', 'hopping', 'horgan', 'hormel', 'hormuz', 'horrific', 'horrifying', 'horse', 'hose', 'hospitalization', 'hospitalized', 'hosted', 'hotter', 'hovde', 'hovered', 'hovers', 'howard', 'however', 'hoxton', 'hq', 'hqy', 'hrb', 'hrc', 'hrigen', 'hscei', 'hsct', 'hsdt', 'hsic', 'hsii', 'hson', 'ht', 'htg', 'htgm', 'htht', 'hu', 'hubei', 'huis', 'hulu', 'humana', 'humanistic', 'humanity', 'humbled', 'humiliation', 'humira', 'hummer', 'hummingbird', 'humor', 'hun', 'hunger', 'hungry', 'hunk', 'hunting', 'huntsman', 'hurdle', 'hurrah', 'hurricane', 'hurry', 'husband', 'hussainy', 'hutchens', 'hutchison', 'hx', 'hxl', 'hy', 'hyderabad', 'hydraulic', 'hydrovacs', 'hydroxychloroquine', 'hygiene', 'hyid', 'hyman', 'hymtf', 'hyperinflation', 'hypocrisy', 'hypothecation', 'hypothetical', 'iaa', 'iag', 'iamgold', 'ianreports', 'iata', 'ibb', 'ibc', 'ibio', 'ibkr', 'ibn', 'ibuyer', 'iceberg', 'icici', 'ick', 'icln', 'icmb', 'ictivity', 'icu', 'ida', 'idacorp', 'idaho', 'idc', 'ideaforge', 'idealistic', 'identical', 'identifies', 'identify', 'identity', 'ideology', 'idera', 'idex', 'idget', 'idgetteawebb', 'idgewater', 'idh', 'idiosyncratic', 'idjits', 'idled', 'idra', 'ie', 'iea', 'iefin', 'ierley', 'iex', 'ifood', 'ifr', 'ifscs', 'ifuse', 'iger', 'igham', 'ightens', 'ightsphere', 'igl', 'iglb', 'ignoring', 'igtv', 'iheartmedia', 'ihg', 'iia', 'iif', 'iii', 'iin', 'iip', 'iivi', 'ika', 'ilika', 'ilkka', 'ill', 'illness', 'illuminates', 'illycaffe', 'ilpt', 'imaging', 'imaginuity', 'iman', 'imbi', 'imedia', 'imerys', 'imgn', 'imho', 'immersive', 'immunodiagnostic', 'immunogen', 'impaired', 'impairment', 'impales', 'impeaching', 'impending', 'imperiled', 'imperium', 'impinj', 'implant', 'implanted', 'implementation', 'implementing', 'implicated', 'importer', 'impose', 'imposing', 'imprisoned', 'improper', 'improved', 'improvised', 'impulse', 'in', 'inaccessible', 'inavess', 'inbound', 'inched', 'includ', 'includes', 'incluindo', 'inclusion', 'inclusive', 'inclusivity', 'incompetence', 'inconclusive', 'incrementally', 'incubate', 'incubator', 'incur', 'incurable', 'indegy', 'indemnity', 'indi', 'indiana', 'indianapolis', 'indicates', 'indication', 'indicts', 'indig', 'indigenous', 'indonesian', 'indu', 'industr', 'industrier', 'inesreports', 'inexpensive', 'infallible', 'infamous', 'infected', 'infecting', 'infects', 'inferred', 'infidelity', 'infineon', 'infinera', 'infinity', 'inflammatory', 'inflator', 'inflection', 'influence', 'infographic', 'infor', 'informal', 'informer', 'infosys', 'infratechnologies', 'ingersoll', 'ingles', 'ingr', 'ingram', 'ingredient', 'ingredion', 'inheritance', 'inhibitor', 'iniciativy', 'initiation', 'inject', 'injecting', 'inked', 'inlay', 'innate', 'innerscope', 'innio', 'innodisk', 'innova', 'innovator', 'innovest', 'inov', 'inovalon', 'input', 'insanity', 'insatiable', 'inserting', 'insisted', 'inspires', 'instability', 'instadollars', 'institute', 'insufficient', 'insulet', 'intangible', 'integra', 'integrate', 'integration', 'inteligentes', 'intelligent', 'intensified', 'intensifying', 'intent', 'intentionally', 'interbank', 'intercontinental', 'interestrate', 'interference', 'interior', 'interlink', 'interna', 'internally', 'internals', 'interpreter', 'interrupted', 'intersects', 'interval', 'intervene', 'intervenes', 'interviewed', 'intesa', 'intiaties', 'intricon', 'intriguing', 'intruder', 'invasive', 'inversion', 'inversiones', 'invescous', 'investopedia', 'invictus', 'invisible', 'invista', 'invokana', 'invoke', 'invokes', 'involved', 'involves', 'invora', 'inyecci', 'iot', 'iots', 'ipg', 'iph', 'ipr', 'iqiyi', 'iqos', 'ir', 'iret', 'iridium', 'irishman', 'ironroad', 'irrational', 'irrelevant', 'irsa', 'isaac', 'isee', 'isket', 'iso', 'isolation', 'isoray', 'isotope', 'isp', 'isr', 'isvlf', 'ita', 'italienisches', 'itannia', 'itp', 'itrm', 'itub', 'itw', 'ivan', 'iveric', 'ivol', 'ivory', 'ivr', 'ivy', 'iwsy', 'ix', 'jacknicklaus', 'jacksonville', 'jacobsen', 'jaglom', 'jaguar', 'jailed', 'jain', 'jair', 'jam', 'jamal', 'jancis', 'januaryr', 'japanexchange', 'japanse', 'jarrod', 'jarvis', 'jarvissecurities', 'jason', 'jasoninthehouse', 'jasper', 'javier', 'jaypee', 'jblu', 'jbs', 'jbsay', 'jbss', 'jbt', 'jci', 'jeffcooperlive', 'jemaswad', 'jenesys', 'jeopardize', 'jerusalem', 'jess', 'jessicaasmith', 'jesus', 'jetblueairways', 'jetstar', 'jewellery', 'jg', 'jian', 'jiatolentino', 'jiggy', 'jihadist', 'jinzhou', 'jmp', 'jnug', 'jo', 'joana', 'jochen', 'joey', 'joffe', 'johannesburg', 'johdon', 'johnfollain', 'joined', 'jointly', 'jolt', 'jonathan', 'jonfortt', 'jong', 'jos', 'jose', 'jpst', 'jsc', 'jstlf', 'jstty', 'judgement', 'judgment', 'judiciary', 'judicious', 'juice', 'juiced', 'jul', 'julie', 'jumanji', 'juniata', 'juniper', 'jupai', 'jury', 'justcapital', 'justify', 'juvf', 'jwcaf', 'ka', 'kaepernick', 'kairos', 'kala', 'kale', 'kaleido', 'kamala', 'kaman', 'kana', 'kansascityfed', 'kanter', 'kanye', 'kapsch', 'karam', 'karankawa', 'karat', 'kardashian', 'karelian', 'kareliandiamondresources', 'karina', 'karlbykarlsmith', 'karvy', 'karxt', 'kasei', 'kashkari', 'katipult', 'katrina', 'kay', 'kazia', 'kbc', 'kbca', 'kbw', 'kct', 'kdmn', 'kedaara', 'kee', 'keith', 'kelly', 'kellyanne', 'kemet', 'ken', 'kenneth', 'kenny', 'keppel', 'kerala', 'kerlink', 'kern', 'kerry', 'kesten', 'ketterer', 'keurig', 'keurigdrpepper', 'keynes', 'kezar', 'kffb', 'kgeorgieva', 'kia', 'kickoff', 'kiinteist', 'kikue', 'kil', 'kilmeade', 'kilo', 'kilogram', 'kilometer', 'kimco', 'kin', 'kincora', 'kinda', 'kinnevik', 'kinross', 'kioxia', 'kiss', 'kissed', 'kitchen', 'kite', 'kiwi', 'kla', 'klac', 'kluwer', 'klx', 'kmi', 'kmpr', 'kmx', 'knell', 'knife', 'knorr', 'knowing', 'known', 'knr', 'knrcon', 'knsl', 'kobe', 'koch', 'kocherlakota', 'kodk', 'kofile', 'kollege', 'komileva', 'kommende', 'konatel', 'kone', 'konecranes', 'koninklijke', 'korlym', 'koruna', 'kosmos', 'kosovo', 'kozlowski', 'kpmg', 'kprc', 'kr', 'krc', 'kredi', 'kreditnyi', 'kremlin', 'krugman', 'kt', 'ktcax', 'ktppf', 'ku', 'kuehn', 'kumar', 'kunal', 'kurdish', 'kurland', 'kuwaiti', 'kyle', 'kymriah', 'kzia', 'kzr', 'label', 'labeled', 'lachlan', 'lacked', 'lackluster', 'lacroix', 'lacy', 'lad', 'laden', 'lagard', 'lagged', 'lagonda', 'lagos', 'lahood', 'laid', 'laix', 'lamp', 'lanai', 'lance', 'lanceert', 'landec', 'landed', 'landfill', 'landlord', 'landsbankinn', 'lane', 'lanesborough', 'languishes', 'lanier', 'lanza', 'lao', 'lapse', 'lapsing', 'laptop', 'larger', 'larkin', 'laser', 'lash', 'lashed', 'latam', 'latched', 'lately', 'lateral', 'lates', 'latrobemagnesium', 'lau', 'lauderdale', 'lauds', 'lauren', 'lax', 'layaway', 'laying', 'laz', 'lazard', 'lbl', 'lclcl', 'lcut', 'leaderboard', 'leafly', 'leaked', 'leaseback', 'lebanese', 'leco', 'lectra', 'ledelse', 'leduc', 'legacy', 'legalized', 'leggett', 'legislation', 'legislative', 'lego', 'legrand', 'lehman', 'leisure', 'len', 'lenabasum', 'lendlease', 'lends', 'lengthy', 'leniency', 'lenovo', 'leon', 'leonard', 'letdown', 'leti', 'leve', 'leveling', 'lever', 'leveraging', 'lexinfintech', 'leyland', 'lfus', 'lfvn', 'lgd', 'lgi', 'lgih', 'lhat', 'lhx', 'li', 'lia', 'liable', 'liberation', 'libor', 'libyan', 'lic', 'licence', 'licht', 'lid', 'lied', 'lien', 'lifeblood', 'lifelike', 'lifestyle', 'lifevantage', 'ligand', 'lighter', 'lightidge', 'lightinthebox', 'liiketoimet', 'liked', 'likelihood', 'likening', 'likens', 'lime', 'limelight', 'liminaires', 'liminal', 'lin', 'linc', 'lincolnminerals', 'lingering', 'linhas', 'lining', 'linkedinecon', 'linscott', 'linux', 'lion', 'lipper', 'lipstick', 'liqt', 'liqtech', 'liquefiednaturalgas', 'liquidating', 'liquidation', 'lisa', 'listened', 'lite', 'lithiumconsolidated', 'littering', 'liveperson', 'livestream', 'liveworld', 'livexlivemedia', 'livinglens', 'livongo', 'ljganz', 'lksd', 'ller', 'llit', 'llnw', 'lloyd', 'lloydsbanking', 'lm', 'lmnl', 'lndc', 'lnk', 'lnn', 'lnvgy', 'lo', 'lobby', 'localized', 'located', 'locational', 'lock', 'loeb', 'log', 'logical', 'logicbio', 'logmein', 'logn', 'londong', 'loneliness', 'lonestar', 'longevity', 'longshortfund', 'looker', 'loon', 'loose', 'loosening', 'lori', 'lotos', 'louder', 'louisiana', 'loved', 'lovely', 'loving', 'lowbonar', 'loyalty', 'lpi', 'lrcx', 'lrtef', 'lsc', 'lss', 'lthm', 'lti', 'lu', 'lucille', 'luck', 'lucky', 'lucro', 'ludlow', 'lufthansa', 'luicant', 'luke', 'lukewarm', 'lulled', 'luminus', 'lunch', 'lund', 'lundbergf', 'lupus', 'lure', 'luspatercept', 'luster', 'lustre', 'luv', 'lux', 'luxurious', 'lvgo', 'lvmhf', 'lyondellbasell', 'macau', 'machinewerkplaatsen', 'mackinac', 'macron', 'madonna', 'madrigal', 'magal', 'magayi', 'maggi', 'magical', 'magmatic', 'magmaticresources', 'magna', 'magnificent', 'magyar', 'mahaney', 'maharashtra', 'mahefedok', 'maher', 'mahjong', 'mailing', 'mainline', 'mainly', 'mainstre', 'maintains', 'maintenance', 'maire', 'maize', 'makeover', 'makeup', 'malaise', 'malawi', 'male', 'maleehambcc', 'malibu', 'malicious', 'maloney', 'malta', 'maltatoday', 'malware', 'mandilla', 'manifest', 'manipulation', 'manitowoc', 'mankato', 'manna', 'mannatech', 'manpowergroup', 'mantech', 'mantle', 'manu', 'manual', 'manure', 'marangi', 'marc', 'marcellus', 'marcher', 'marchex', 'marco', 'margaretatwood', 'mariah', 'mariano', 'marie', 'marietta', 'marino', 'marinus', 'mario', 'markel', 'marketbeat', 'marketsite', 'markey', 'markforged', 'marking', 'marmaxx', 'marre', 'marred', 'married', 'marrone', 'marry', 'marrying', 'martini', 'martinuzzi', 'martinwolf', 'martyr', 'maryland', 'masco', 'masi', 'masseuse', 'masterbuilt', 'masterclass', 'masthercell', 'matc', 'matchup', 'mate', 'materialise', 'mathewfras', 'matinas', 'matson', 'mattel', 'mattress', 'maverick', 'maverix', 'mawr', 'maximise', 'maximum', 'maxlinear', 'maxzahn', 'mayh', 'mazda', 'mba', 'mbachelet', 'mbcn', 'mbwm', 'mbx', 'mcchf', 'mcclatchy', 'mcconnell', 'mcelligott', 'mcintyre', 'mckesson', 'mckinnon', 'mclaren', 'mclr', 'mcmahon', 'mcmoran', 'mcmurtry', 'md', 'mdbaccardax', 'mdc', 'mdca', 'mdgl', 'mdlnf', 'mdly', 'mdu', 'mdxg', 'mdxh', 'mdxhealth', 'measuring', 'mechanical', 'mechanism', 'mecresources', 'med', 'medal', 'medallia', 'medication', 'medicinova', 'medigene', 'mediobanca', 'mediocre', 'meditech', 'mediterranean', 'meehl', 'meeker', 'meg', 'megalou', 'mehrj', 'mei', 'meikles', 'meip', 'melanoma', 'melding', 'mellanox', 'mellon', 'meltdown', 'mema', 'meme', 'memebox', 'memo', 'memorable', 'memoria', 'memory', 'men', 'mena', 'mend', 'mentioned', 'mentioning', 'mentoring', 'menu', 'meo', 'merchandising', 'mercury', 'mercurygeneral', 'meridian', 'meritmedical', 'meritz', 'merlo', 'merriam', 'meso', 'mesoblast', 'mess', 'messaging', 'messed', 'messina', 'meta', 'metaalbinderspuitsysteem', 'metabolic', 'metalbank', 'metastatic', 'meteoric', 'metering', 'methane', 'methanex', 'metropolitan', 'mets', 'mezzanine', 'mfa', 'mfd', 'mfg', 'mg', 'mga', 'mgddf', 'mgee', 'mgo', 'mhi', 'mic', 'michelin', 'microchip', 'microscope', 'microvast', 'microwave', 'midband', 'midroog', 'midwest', 'migraine', 'mikebloomberg', 'mikecaymantrades', 'milan', 'milano', 'milder', 'millichap', 'mimedx', 'mimic', 'min', 'minecraft', 'mineralization', 'minerd', 'mineworx', 'ming', 'mingtsai', 'minimize', 'minnesota', 'minor', 'minsheng', 'minshengeducation', 'minth', 'minus', 'miragen', 'mired', 'misconduct', 'miserable', 'mishap', 'mission', 'misstep', 'mistry', 'misusing', 'mitch', 'mitek', 'mitigate', 'mix', 'mjardin', 'mjarf', 'mk', 'mkd', 'mkt', 'mlco', 'mlm', 'mlnd', 'mlnx', 'mmp', 'mmtec', 'mmyt', 'mni', 'mnov', 'mnro', 'mnst', 'mnta', 'mobileye', 'mobility', 'mod', 'modeling', 'modernize', 'modified', 'modify', 'modulo', 'moet', 'mohamad', 'mohawk', 'mojo', 'molding', 'moller', 'momo', 'monc', 'moncler', 'mondelez', 'mondo', 'moneycontrol', 'monica', 'monk', 'monro', 'mont', 'montana', 'montreal', 'montserrat', 'moo', 'moon', 'moonshot', 'moore', 'mor', 'morneau', 'morocco', 'morphosys', 'mortar', 'mortgaging', 'moskovskiy', 'motel', 'motocorp', 'motorcycle', 'motorhome', 'motortrend', 'mou', 'mourinho', 'mouse', 'moyen', 'moyer', 'moynihan', 'mozilla', 'mpeto', 'mph', 'mphase', 'mpvd', 'mrk', 'mrt', 'mrvl', 'msbhf', 'msm', 'msme', 'msp', 'msvb', 'mta', 'mtb', 'mtem', 'mtg', 'mtn', 'mtv', 'muddies', 'muffin', 'muinjangue', 'mukerjea', 'mukuru', 'mulesoft', 'mulling', 'mullis', 'multifamily', 'multifun', 'multilateral', 'multinationals', 'multistrategy', 'mundane', 'mundo', 'munster', 'murata', 'murder', 'murdering', 'murdoch', 'murky', 'muscular', 'muslim', 'mussallem', 'mussel', 'musterait', 'mustread', 'mute', 'mux', 'mvp', 'mwc', 'mwx', 'mxl', 'mygn', 'myov', 'myovant', 'mystery', 'na', 'nabbed', 'nach', 'nadavkidro', 'nadler', 'nafed', 'nahb', 'nailed', 'nailing', 'naive', 'namib', 'namibia', 'namodenonson', 'nandannilekani', 'nar', 'narayana', 'narayanan', 'narcotic', 'nareit', 'nasa', 'nasdaqcorpgov', 'nasdaqfam', 'nasdaqgovforum', 'nathan', 'nationalbank', 'nationale', 'nationalgrid', 'nationalization', 'nationally', 'nationalprestoindustries', 'nativity', 'natso', 'nature', 'navarro', 'navi', 'navistar', 'nbcc', 'nbcuniversal', 'nbfcs', 'nbsp', 'nby', 'ncbs', 'nclat', 'nclh', 'nclt', 'ncm', 'ncmgf', 'ndez', 'ndring', 'neal', 'nearby', 'neck', 'needle', 'needy', 'neft', 'negotiate', 'negotiated', 'neither', 'nel', 'nelnet', 'nemzeti', 'neoadjuvant', 'neogen', 'nepal', 'nephritis', 'nerve', 'nervous', 'nervousness', 'netwo', 'neuberger', 'neurocrine', 'neurometrix', 'neurovive', 'newa', 'newater', 'newborn', 'newcastle', 'newconstructs', 'newgioco', 'newlake', 'newport', 'newquest', 'newron', 'newsom', 'newspaper', 'newsports', 'nex', 'nexoptic', 'nextgen', 'nexus', 'nfbk', 'nfc', 'nfp', 'ngc', 'ngl', 'ngvc', 'nhb', 'nhi', 'nhrny', 'nhy', 'nibble', 'nibbling', 'nibe', 'nicandrou', 'nicholas', 'nickelodeon', 'nicola', 'nicos', 'nicotine', 'nicotinic', 'nicox', 'nieuwste', 'nig', 'niger', 'nightmare', 'nilsy', 'nine', 'nipa', 'nippon', 'nirma', 'nitin', 'nj', 'njr', 'nk', 'nke', 'nksh', 'nl', 'nls', 'nltx', 'nmchealth', 'nmih', 'nmpa', 'nni', 'no', 'noa', 'nobel', 'nobody', 'nod', 'nodal', 'noise', 'nok', 'nomina', 'nomination', 'noncompliance', 'nonemployer', 'nonessential', 'nonetheless', 'nonfarmpayrolls', 'nonfarmprivatepayrolls', 'nonfiction', 'nongovernment', 'nonof', 'nonprofit', 'nontraditional', 'nooruddin', 'nope', 'nord', 'norilsk', 'norm', 'normalize', 'normalized', 'nornico', 'norseman', 'northcoast', 'northeast', 'northeastern', 'northfield', 'northland', 'northmacedonia', 'northrop', 'northropgrumman', 'nose', 'nosedive', 'notably', 'notebook', 'noted', 'noticeably', 'noting', 'notion', 'novabay', 'novaria', 'novasight', 'novemb', 'novonordisk', 'npi', 'npn', 'nppc', 'npr', 'nq', 'nsany', 'nspr', 'nsta', 'nswfires', 'ntdmf', 'ntie', 'ntla', 'ntpc', 'ntt', 'nucor', 'nugs', 'nugt', 'nuke', 'nuoilandgas', 'nuro', 'nutanix', 'nutritional', 'nutronics', 'nutting', 'nuvasive', 'nve', 'nvec', 'nvmi', 'nvo', 'nvt', 'nvu', 'nw', 'nwin', 'nwxpf', 'nxpi', 'nycb', 'nychealthcommr', 'nygiants', 'nykredit', 'nyseamex', 'nytimes', 'nz', 'nzse', 'oadacre', 'oadband', 'oadcasting', 'oadening', 'oadens', 'oak', 'oasis', 'obamacare', 'obbey', 'obesity', 'obi', 'objective', 'obosx', 'observance', 'observe', 'obsessed', 'obstacle', 'obtained', 'obvious', 'obviously', 'oca', 'ocado', 'ocasio', 'occ', 'ocdo', 'oceangrownabalone', 'oceanwilsons', 'och', 'oddly', 'odf', 'odfjell', 'odigeo', 'oecd', 'offender', 'offeri', 'officialzsl', 'offload', 'offsetting', 'ofix', 'ohl', 'oilfield', 'oilsearch', 'oisa', 'okerages', 'oking', 'okq', 'oldest', 'oldmutual', 'olin', 'olive', 'olympia', 'olympics', 'om', 'omcl', 'omien', 'omnicell', 'omnicom', 'omp', 'omv', 'omzetgroei', 'oncosec', 'oncs', 'ondeck', 'ondk', 'onespaworld', 'onion', 'onlin', 'onpattro', 'onset', 'ontworpen', 'ookdale', 'ookline', 'ookside', 'ooksideenergy', 'ooma', 'opaque', 'opcw', 'opener', 'openview', 'operacional', 'operate', 'operational', 'opiant', 'oplysning', 'opnt', 'opp', 'opponent', 'opportune', 'opportunityoccupations', 'oppose', 'opposed', 'opposes', 'opposing', 'oppositio', 'opra', 'optex', 'opti', 'optic', 'optical', 'optronics', 'opxs', 'oramed', 'oran', 'orange', 'orbcomm', 'orc', 'orchard', 'orchid', 'orcl', 'ordered', 'ordinary', 'oregon', 'oreo', 'organically', 'organizer', 'orgy', 'orient', 'orienta', 'orly', 'orman', 'orphan', 'orr', 'orthofix', 'orthopedic', 'os', 'osage', 'osaka', 'osakkeiden', 'ose', 'osisko', 'osn', 'osw', 'ot', 'otel', 'otex', 'otl', 'otm', 'otter', 'ottr', 'ottw', 'otx', 'ought', 'ousts', 'outgoing', 'outlk', 'outotec', 'outpaces', 'outpacing', 'outperformed', 'outrage', 'outsell', 'outshines', 'ovarian', 'ovaro', 'ovbc', 'ove', 'oven', 'overbilled', 'overbought', 'overconfident', 'overdose', 'overdue', 'overflow', 'overheating', 'overlayed', 'overname', 'overni', 'overseeing', 'oversold', 'overspending', 'overstock', 'overvaluation', 'overvalued', 'overview', 'ovid', 'ovintiv', 'ovitz', 'ow', 'owe', 'owes', 'ownershi', 'owse', 'oxycontin', 'oyo', 'pablo', 'pacb', 'paceuniversity', 'pacifico', 'pacificstarnetwork', 'pack', 'packaged', 'packard', 'packed', 'packing', 'paedophile', 'pageind', 'pageone', 'pagerduty', 'pagp', 'pagsegurodigital', 'paia', 'paige', 'pair', 'pakistan', 'palace', 'palantir', 'palazzo', 'palomar', 'paltrow', 'pamela', 'pampers', 'pan', 'pancake', 'panda', 'pandagreenenergy', 'panhandle', 'pank', 'pannier', 'panoro', 'panther', 'papadopoulos', 'paperless', 'paradox', 'paralysis', 'parameter', 'paramount', 'paramountpics', 'paranoia', 'pared', 'parenting', 'parets', 'parity', 'parliame', 'parliamentary', 'parse', 'parses', 'participant', 'participates', 'particularly', 'partn', 'partnered', 'partnerskap', 'passagiersvliegtuigen', 'passion', 'pat', 'patch', 'patchwork', 'patek', 'patriot', 'patrol', 'paulsen', 'paulson', 'pausing', 'pavilion', 'paving', 'pax', 'paychex', 'paycom', 'paymen', 'paysign', 'payx', 'pbf', 'pbh', 'pbpb', 'pch', 'pcyg', 'peaked', 'peaking', 'pearl', 'pearson', 'peb', 'pec', 'ped', 'pedevco', 'pedophile', 'peek', 'peet', 'peltz', 'pemex', 'penang', 'pendulum', 'penelope', 'pennantpark', 'pennmac', 'penuma', 'percenta', 'perception', 'perceptron', 'perdue', 'perelman', 'perfeziona', 'performed', 'perhaps', 'perilous', 'perini', 'perioperative', 'perk', 'permission', 'permrock', 'perovskite', 'perovskitiche', 'perp', 'perpetuity', 'perrigo', 'persian', 'persisting', 'personalassetstrust', 'personnel', 'perspecta', 'persuade', 'persuaded', 'peru', 'pessimistic', 'pesticide', 'petrochemical', 'petrology', 'petronas', 'petrotal', 'peugeot', 'pfbc', 'pfe', 'pgim', 'pgny', 'pgre', 'phamacodynamic', 'pharmaceutic', 'pharmacy', 'pharmaron', 'pharmaronbeijing', 'phat', 'phd', 'phil', 'phillip', 'phillipe', 'philly', 'phony', 'phot', 'photo', 'photographer', 'phrase', 'phys', 'pichai', 'picking', 'pie', 'pier', 'pierce', 'pieve', 'pig', 'pii', 'piled', 'pilipinas', 'pilkerton', 'pine', 'ping', 'pingansecurities', 'pinnacle', 'pioneerresources', 'pipestone', 'pir', 'piramal', 'pirated', 'pirs', 'pischelsdorf', 'pitbull', 'pitching', 'pixelle', 'pixelworks', 'pixy', 'pizzaexpress', 'pizzi', 'pjm', 'pke', 'pkg', 'pkx', 'placement', 'plagiarism', 'plague', 'plaid', 'plainly', 'plaintiff', 'plank', 'plantronics', 'plaque', 'plastering', 'plat', 'plateau', 'plateaued', 'platfor', 'plato', 'platt', 'platts', 'playags', 'playlist', 'playoff', 'plead', 'pledging', 'plen', 'plentiful', 'plenty', 'plight', 'plnt', 'plow', 'plowed', 'plse', 'plsqf', 'plt', 'pltm', 'plug', 'plummeted', 'pluralsight', 'plya', 'plz', 'pmay', 'pmps', 'pnb', 'pnw', 'poai', 'pohlav', 'poi', 'poia', 'pointed', 'pointless', 'pokra', 'pol', 'pola', 'polaris', 'polarized', 'polarizing', 'policymaker', 'polio', 'politicized', 'politicoryan', 'polled', 'pollo', 'polo', 'polyester', 'polyplastic', 'polypropylene', 'pom', 'ponzi', 'poorest', 'poorly', 'poppins', 'popularity', 'populated', 'populism', 'populous', 'pork', 'porta', 'portion', 'portland', 'portnoy', 'portugal', 'posco', 'posit', 'positioned', 'positivo', 'possibility', 'possibly', 'posted', 'postepay', 'posting', 'postmates', 'postpaid', 'postpone', 'postponed', 'potato', 'potbelly', 'potentially', 'potlatch', 'powder', 'powerball', 'powerhouse', 'powerhouseventures', 'powerlongrealestate', 'powertrain', 'powi', 'pozsar', 'ppd', 'ppp', 'prada', 'prairiesky', 'pratt', 'prayer', 'prc', 'precaution', 'precedes', 'preclinical', 'predata', 'predecessor', 'predictive', 'prefer', 'preferre', 'preferreds', 'prekf', 'premarke', 'prep', 'prepaid', 'prepared', 'preparedness', 'preposterous', 'prepping', 'prescribed', 'presence', 'presentando', 'presented', 'presenteeism', 'presiden', 'presidency', 'presidentia', 'pressers', 'pressing', 'pressured', 'prestigious', 'presto', 'presuring', 'previ', 'previous', 'prfd', 'prgo', 'pricesmart', 'pricey', 'pride', 'priest', 'primerica', 'primoris', 'prio', 'privateer', 'privately', 'privatization', 'priya', 'proassurance', 'problematic', 'proceed', 'proceeding', 'procter', 'procure', 'profitabi', 'profligacy', 'programme', 'programmer', 'programming', 'progressive', 'prohibit', 'prohibition', 'prohibits', 'proje', 'projection', 'prolonged', 'promika', 'promissory', 'promote', 'promotion', 'promotional', 'prompt', 'prone', 'pronoun', 'propacpackaging', 'propelling', 'propels', 'prophet', 'proportion', 'proportionately', 'propos', 'proposing', 'prosecution', 'prosf', 'prostate', 'prosthetic', 'prosy', 'protalix', 'protective', 'protestant', 'protesting', 'protestors', 'proto', 'protolabs', 'prove', 'provision', 'proximit', 'proxy', 'prpl', 'prty', 'pru', 'prudential', 'prudently', 'prx', 'pry', 'pscf', 'psoriasis', 'pta', 'ptab', 'ptc', 'ptct', 'ptm', 'ptn', 'ptozf', 'pu', 'publica', 'publiceert', 'publicis', 'publicly', 'publish', 'publishing', 'publix', 'puco', 'puget', 'pulled', 'pulling', 'pulp', 'pumped', 'punch', 'punctured', 'punt', 'pup', 'pura', 'puration', 'purdue', 'purposeful', 'pursuant', 'pursue', 'pursuit', 'putting', 'putwrite', 'puxin', 'pvg', 'pvvlf', 'pwc', 'pxd', 'pxgyf', 'qasem', 'qeternity', 'qiagen', 'qip', 'qk', 'qorvo', 'qrvo', 'qt', 'qtrh', 'qtt', 'quake', 'qualification', 'qualify', 'quant', 'quanterix', 'quantitative', 'quarantined', 'quart', 'quartz', 'queensland', 'queer', 'query', 'quest', 'questioning', 'queueing', 'quicken', 'quietly', 'quirky', 'quitting', 'quiver', 'qutoutiao', 'ra', 'raceoncology', 'rachman', 'racism', 'rad', 'radiant', 'radically', 'radioactive', 'radnet', 'radoslav', 'radthomas', 'rafael', 'raffle', 'raggiungono', 'railroad', 'railyard', 'rain', 'rainbow', 'rainmaker', 'rais', 'rajappa', 'rajnath', 'rajya', 'rak', 'rake', 'raking', 'rale', 'rallying', 'ralph', 'ramani', 'ramelius', 'ramming', 'ramped', 'ramping', 'rand', 'random', 'rang', 'ranging', 'rank', 'ranking', 'ransomware', 'rapper', 'ratatouille', 'ratchet', 'ratcheting', 'ratifying', 'ration', 'rattling', 'raucous', 'rav', 'ravaged', 'ravaging', 'rave', 'rayonier', 'raysearch', 'raytheon', 'razor', 'rbg', 'rblay', 'rbnz', 'rci', 'rcii', 'rcius', 'rckt', 'rcom', 'rcus', 'rdnt', 'rdy', 'readout', 'realgdp', 'realgoldmining', 'realisation', 'realkredit', 'realmoney', 'realnetworks', 'realsportshbo', 'reands', 'reas', 'reasonable', 'reassured', 'reassuring', 'rebalancing', 'reblozyl', 'rec', 'recede', 'receivable', 'recharge', 'rechtschaffen', 'recipe', 'reclaiming', 'recommendati', 'reconciliation', 'reconsideration', 'recorded', 'recordjaar', 'recordresultaten', 'recoup', 'recovered', 'recreates', 'recreation', 'recycle', 'recycles', 'redchapina', 'reddy', 'redeeming', 'redesignation', 'redesigns', 'redhawk', 'redhill', 'redhilliron', 'redistribute', 'redskin', 'reduced', 'reduces', 'reduction', 'reebok', 'reelection', 'reeling', 'referred', 'refilies', 'refinance', 'refinances', 'refinancings', 'refinitiv', 'reflect', 'reflected', 'reflecting', 'reflection', 'refreshed', 'refreshingly', 'refusing', 'reg', 'regaining', 'regard', 'regd', 'regenerative', 'regeneron', 'regimen', 'regionalview', 'registe', 'registered', 'registra', 'regresan', 'regrow', 'regu', 'rehearing', 'reilly', 'reinforced', 'reinsurance', 'reinvestment', 'reinvests', 'reitdom', 'reitir', 'rejoice', 'rekordjahr', 'rel', 'relating', 'relaxed', 'relevant', 'reliable', 'religare', 'relocation', 'relying', 'remainder', 'remake', 'remark', 'remarkable', 'rematch', 'remembering', 'remestemcel', 'remittance', 'remix', 'remote', 'removal', 'removed', 'ren', 'rendimento', 'renew', 'renewal', 'rennsport', 'renounce', 'renounceable', 'renovables', 'renter', 'renton', 'renunciation', 'reopened', 'reopens', 'repatriated', 'repeated', 'repeatedly', 'repligen', 'repocalypse', 'reportable', 'repr', 'representation', 'repricing', 'repsol', 'repurcha', 'reputation', 'repyf', 'requires', 'requiring', 'resapp', 'resapphealth', 'reser', 'reset', 'resilien', 'resisting', 'resonant', 'resorted', 'responding', 'responds', 'responsibility', 'responsibl', 'responsibly', 'restart', 'restate', 'restructures', 'resultados', 'resulted', 'resumed', 'resuming', 'resumption', 'resupply', 'resurge', 'resurgence', 'resurrect', 'reta', 'retabulation', 'retagen', 'retain', 'retake', 'retaliate', 'retest', 'retested', 'retests', 'retires', 'retractable', 'retrenchment', 'retriever', 'rett', 'reunidas', 'reuter', 'revamping', 'revealing', 'revers', 'reversing', 'revis', 'revise', 'revisit', 'revisiting', 'revived', 'revives', 'reviving', 'revoluci', 'revolugroup', 'revolupay', 'revoluvip', 'rexnord', 'reyvow', 'rfid', 'rhp', 'rhythm', 'rice', 'richards', 'richemont', 'richmiller', 'riddell', 'ridden', 'ridicule', 'rigging', 'rightmove', 'riksbank', 'ril', 'rily', 'rimkus', 'rinf', 'ringing', 'rinse', 'ripe', 'ripped', 'ripping', 'rippling', 'riskiest', 'risparmio', 'ritesh', 'ritter', 'rivaroxaban', 'river', 'rivian', 'riviera', 'riyal', 'rk', 'rlh', 'rli', 'rm', 'rmed', 'rnwk', 'ro', 'roadhouse', 'roadmap', 'roadshow', 'roanoke', 'roaster', 'rob', 'robbery', 'robe', 'robertshrimsley', 'robertson', 'robinhoodsnacks', 'robintheblack', 'robocalls', 'robotodd', 'rocanville', 'rocked', 'rocketed', 'rocking', 'rockwell', 'roger', 'rogerfederer', 'rohatyn', 'roil', 'roiled', 'roiling', 'rolfe', 'roller', 'roman', 'romania', 'romanian', 'romantic', 'rometty', 'ronald', 'ronson', 'ronsondevelopment', 'roofing', 'rope', 'rosa', 'ross', 'rossstores', 'rosy', 'roughed', 'routine', 'routing', 'rovnopr', 'royaldutchshell', 'rpai', 'rpay', 'rpc', 'rpm', 'rprsntcins', 'rrgb', 'rsk', 'rt', 'rtg', 'rubber', 'rubbish', 'rubble', 'rubenstein', 'rubio', 'ruble', 'ruden', 'ruin', 'ruining', 'ruled', 'rumor', 'runacher', 'runaway', 'runway', 'rusal', 'rushing', 'ruyi', 'rvailluminates', 'rvnc', 'rvp', 'rvra', 'rxn', 'ryanodex', 'ryb', 'ryerkerk', 'ryn', 'saab', 'saatchi', 'sacha', 'sacituzumab', 'sacklers', 'safest', 'safet', 'saft', 'sag', 'sagging', 'saharan', 'saia', 'sail', 'sailing', 'sailor', 'sajid', 'sake', 'saks', 'sala', 'salad', 'salesman', 'salmon', 'salvador', 'salvage', 'sama', 'samoa', 'samoan', 'sampled', 'samro', 'samsungheavyindustries', 'sanayi', 'sanctimonious', 'sanderson', 'sandler', 'sandy', 'saneamento', 'sangamo', 'sanpaolo', 'santana', 'santanaminerals', 'santiago', 'saputo', 'saracen', 'saracenmineral', 'sarah', 'sarahhalzack', 'sarcasm', 'sarepta', 'sarge', 'sarizotan', 'sasa', 'sasseur', 'sat', 'satcom', 'satisfies', 'sativa', 'satsuma', 'sauce', 'saudiarabianmonetaryagency', 'saut', 'savara', 'saved', 'savour', 'savvy', 'sawai', 'saxon', 'sbgi', 'sbi', 'sbl', 'sbordone', 'sbph', 'scaling', 'scalp', 'scammer', 'scandinavia', 'scandinavian', 'scar', 'scarborough', 'scardovari', 'scare', 'scary', 'sce', 'scene', 'scented', 'scepticism', 'schaffrik', 'schick', 'schiff', 'schitt', 'schnatter', 'scholarship', 'schonfeld', 'schoolchildren', 'schweizerische', 'schx', 'schyy', 'sci', 'sciplay', 'sclerosis', 'scmp', 'scoring', 'scorpio', 'scorpion', 'scotiabank', 'scotland', 'scottgamm', 'scottsaloway', 'scour', 'scourge', 'scouring', 'scout', 'scouting', 'scramble', 'scrambling', 'screaming', 'scrimp', 'script', 'scripted', 'scrutinize', 'sdc', 'sdonnan', 'sdrl', 'seadrill', 'seafood', 'sealed', 'seasonality', 'seasonally', 'seaspine', 'seau', 'seaweed', 'sebata', 'secazar', 'seclidemstat', 'secretion', 'secretive', 'secureworks', 'securitas', 'securityholders', 'sedg', 'seeps', 'seething', 'segmento', 'seizes', 'seizing', 'seizure', 'selassie', 'selesky', 'selvaag', 'selwyn', 'semicircolare', 'semico', 'semitism', 'sendi', 'sending', 'sensata', 'sensation', 'sensient', 'sensus', 'sentence', 'sentenced', 'sentral', 'seo', 'sequans', 'serbian', 'serena', 'serendipity', 'sergeant', 'served', 'server', 'servicenow', 'servicer', 'servicios', 'serving', 'serwer', 'sesame', 'setback', 'seventh', 'sewage', 'sewing', 'sexist', 'sezzle', 'sfix', 'sgbaf', 'sgbx', 'sglb', 'sgmo', 'sgms', 'sgps', 'sh', 'shack', 'shackle', 'shak', 'shaken', 'shaker', 'shakti', 'shaktikanta', 'shaktipump', 'shameless', 'shaming', 'shankleman', 'shar', 'shatte', 'shattering', 'shatterproof', 'shaw', 'shawn', 'shbi', 'sheena', 'sheff', 'sheinker', 'shelfdrilling', 'shelley', 'shelving', 'shenandoah', 'shengyuan', 'shentel', 'shepard', 'shepell', 'shepherd', 'shepherdson', 'shhh', 'shif', 'shiftpixy', 'shifty', 'shimao', 'shinvest', 'shirt', 'shiver', 'shooter', 'shopin', 'shor', 'shoreline', 'shorted', 'shorting', 'shortlist', 'shortly', 'showa', 'shrank', 'shredder', 'shree', 'shreeminerals', 'shrimsley', 'shrinking', 'shrugged', 'shrugging', 'shuli', 'shun', 'shuttered', 'shutterstock', 'shy', 'siberia', 'sick', 'sicko', 'sico', 'sided', 'siders', 'sidestep', 'sidestepping', 'siena', 'sienna', 'siennacancerdiagnostics', 'sierra', 'sifts', 'sigh', 'siglano', 'signaled', 'signalled', 'signature', 'signet', 'significance', 'sijoitus', 'silly', 'silvercorp', 'simbatrading', 'simi', 'simple', 'simplest', 'simplified', 'simplify', 'simplus', 'simply', 'simpson', 'simulates', 'simultaneously', 'sin', 'sinc', 'sinergias', 'singing', 'sinoharbour', 'sint', 'sipper', 'sirzf', 'sister', 'sitc', 'sitework', 'sjw', 'skier', 'skill', 'skip', 'skipping', 'skyidges', 'skyrizi', 'skyrocketed', 'skyscraper', 'skywalker', 'slamming', 'slap', 'slapping', 'slashing', 'slavery', 'slay', 'sleeping', 'slew', 'slgg', 'slggf', 'sliced', 'slim', 'slipped', 'slo', 'slok', 'slope', 'slot', 'slowed', 'slowest', 'slp', 'slumped', 'slv', 'smaakstoffenfaikanten', 'smallcap', 'smartcentres', 'smarter', 'smartest', 'smartfinancial', 'smartrac', 'smashed', 'smbk', 'smell', 'smg', 'smlp', 'smog', 'smooth', 'smorgasbord', 'smrt', 'smta', 'smucker', 'snackfact', 'snapped', 'snarl', 'snarled', 'snb', 'snca', 'sncaf', 'sneak', 'sno', 'snoop', 'snooping', 'snorting', 'snowflake', 'snr', 'snwv', 'sny', 'soapbox', 'sociedad', 'societatea', 'societe', 'sock', 'sofi', 'soften', 'softer', 'sohmf', 'soho', 'solari', 'sole', 'soleimani', 'soliant', 'solo', 'solomon', 'som', 'somalia', 'somebody', 'somethin', 'sondland', 'sonoma', 'sonova', 'sooner', 'soothe', 'soothes', 'sophisticated', 'sor', 'sordid', 'soren', 'sorrento', 'sorrentotherapeutics', 'sort', 'sorting', 'sotherly', 'sounded', 'soundwaves', 'sour', 'sourcewater', 'southafrica', 'southfield', 'southwestern', 'sovereignty', 'sow', 'soxx', 'soyb', 'sozzi', 'spacejet', 'span', 'sparklier', 'spatial', 'spawning', 'spc', 'spd', 'spdr', 'speakerpelosi', 'speaking', 'spec', 'specialized', 'specie', 'spectacular', 'speculative', 'speculator', 'speec', 'speeding', 'spence', 'spends', 'sphere', 'spi', 'spinal', 'splb', 'spoil', 'spoiling', 'sponsor', 'spoofing', 'sporting', 'sportswear', 'sporty', 'sprawling', 'spreading', 'spring', 'sprout', 'sprouting', 'spruce', 'spsk', 'squeak', 'squeezed', 'src', 'ssec', 'ssi', 'ssys', 'sta', 'stabilization', 'stabilized', 'stacked', 'staffing', 'stagnant', 'stagnated', 'stair', 'staked', 'stakeholding', 'stalled', 'stan', 'stanchart', 'standardlifeaberdeen', 'standpoint', 'standstill', 'stanhope', 'staple', 'starboard', 'starbuds', 'starch', 'stbarbara', 'stea', 'steele', 'steeply', 'steered', 'stefanik', 'steinmeier', 'sterreichische', 'sticky', 'stiffens', 'stifled', 'stillwater', 'stimulate', 'stinging', 'stink', 'stir', 'stitchfix', 'stk', 'stld', 'stmp', 'stobart', 'stochastics', 'stocktwits', 'stok', 'stoke', 'stole', 'storbeck', 'storefron', 'storing', 'stormed', 'stossel', 'stoxx', 'strained', 'strait', 'strange', 'strangulating', 'strapped', 'strategischen', 'strategiskt', 'stratospheric', 'straw', 'stre', 'stream', 'streetinsider', 'strengthened', 'stressed', 'stretched', 'strideproperty', 'striking', 'strip', 'stripe', 'stripped', 'strive', 'strongest', 'struck', 'structured', 'struggli', 'struttura', 'stsa', 'stubbornly', 'stuck', 'studyin', 'studying', 'stuff', 'stuffed', 'stung', 'stunned', 'stunner', 'stunning', 'stuns', 'stunt', 'sturdy', 'stutter', 'stuttering', 'stxs', 'su', 'sub', 'subadra', 'subbarao', 'subhash', 'subject', 'submarine', 'submission', 'subordinated', 'subpoena', 'subprime', 'subscrib', 'subscribed', 'subsid', 'suburb', 'subway', 'succeeding', 'succession', 'succulent', 'succumbing', 'suggesting', 'suicide', 'suite', 'sulphide', 'sundar', 'sunni', 'sunny', 'sunstone', 'supercharger', 'superdividend', 'superficie', 'superhero', 'superiority', 'supernus', 'supervised', 'supervisory', 'supn', 'supp', 'supplement', 'suppo', 'suppor', 'supported', 'supporter', 'supposedly', 'suppression', 'suppressor', 'surcharge', 'suresh', 'surgery', 'surpass', 'surpassed', 'surpasses', 'surpassing', 'surplus', 'surpr', 'surrender', 'surrounding', 'survived', 'susa', 'suspected', 'suspended', 'suspense', 'suspensi', 'suspicion', 'suspicious', 'sustainableinfra', 'sustained', 'sutter', 'suze', 'suzeormanshow', 'suzuki', 'sv', 'svante', 'svb', 'sviluppa', 'sviluppo', 'svm', 'svmk', 'svxy', 'swallow', 'swath', 'swaying', 'swedbank', 'sweeeeeeeeeetttttt', 'sweeney', 'sweet', 'sweeten', 'sweetening', 'sweetgreen', 'swiftly', 'swindle', 'swipe', 'swisscom', 'swks', 'swn', 'swollen', 'swonk', 'sword', 'sworn', 'sxt', 'syanptics', 'sybx', 'sycamore', 'sylvain', 'sylvia', 'symbol', 'symptom', 'syna', 'syngenta', 'synlait', 'synlaitmilk', 'synopsys', 'synthetic', 'syria', 'syrian', 'sysinno', 'szirmokba', 'taal', 'tabak', 'tableau', 'tablissements', 'tachyum', 'tackl', 'tackling', 'tactile', 'tafasitamab', 'taffyakner', 'taildex', 'tailing', 'tailored', 'taiwanfund', 'tak', 'takata', 'takeout', 'talent', 'talf', 'talked', 'talleres', 'tally', 'tamar', 'tandem', 'tang', 'tangible', 'tanking', 'tape', 'taped', 'tapped', 'tapping', 'tar', 'targa', 'tass', 'tassal', 'tatasteel', 'taught', 'taurus', 'tavasszal', 'taxable', 'tb', 'tbd', 'tbt', 'tbvpy', 'tc', 'tcehy', 'tcf', 'tcmd', 'tdex', 'tdg', 'tdj', 'tdy', 'teac', 'teaming', 'teamlab', 'teamster', 'teatv', 'techedu', 'technavio', 'technician', 'technipfmc', 'techtarget', 'tecnimont', 'teco', 'teeny', 'teeth', 'tegna', 'teixeira', 'tejada', 'tekinthet', 'tekla', 'tel', 'teleconference', 'teleconsultation', 'teledyne', 'telegraph', 'telekom', 'telemedicine', 'telenor', 'televised', 'telidyne', 'telix', 'telixpharmaceuticals', 'tels', 'telsis', 'temp', 'tempered', 'templebarinvestmenttrust', 'tempora', 'tempted', 'tempting', 'tempura', 'tennant', 'tenor', 'tensioner', 'terminated', 'termite', 'terna', 'ternaspa', 'terrascend', 'terrific', 'terrorism', 'terrorist', 'terumo', 'tesco', 'tested', 'testnet', 'testosterone', 'tett', 'teum', 'texaco', 'text', 'textainer', 'texted', 'tff', 'tffpharmaceuticals', 'tfi', 'tfiff', 'tgh', 'tgna', 'tgr', 'thakur', 'thames', 'thats', 'thc', 'theatrical', 'thei', 'theismann', 'themed', 'themillooktwins', 'therapist', 'theravance', 'thermal', 'thermoformer', 'thff', 'thi', 'thin', 'thinker', 'tho', 'though', 'thoughtful', 'thq', 'thre', 'thread', 'threadneedle', 'thrilling', 'thrives', 'throe', 'thromboembolism', 'throne', 'throughout', 'throw', 'throwback', 'thunderstorm', 'tiberius', 'tiberiusacquisition', 'tibet', 'tic', 'ticketing', 'ticking', 'tickle', 'tied', 'tighten', 'tightrope', 'tigr', 'tiktok', 'till', 'tilt', 'tim', 'timely', 'timken', 'timothy', 'tipt', 'tirade', 'tiru', 'tischendorf', 'tissue', 'titanic', 'titanium', 'titus', 'tivozanib', 'tj', 'tl', 'tlrd', 'tlry', 'tm', 'tme', 'tmst', 'tmt', 'tmx', 'tnaquarium', 'tnbc', 'tobago', 'tod', 'toft', 'tog', 'toki', 'tomato', 'tomz', 'tony', 'tonythestreet', 'toothush', 'topline', 'topped', 'torc', 'torching', 'tornado', 'torontodominionbank', 'tortilla', 'tortue', 'tortuous', 'tottenham', 'toughbuilt', 'toured', 'tournament', 'tova', 'towa', 'tparekh', 'tpco', 'tpg', 'tpr', 'tra', 'trac', 'traceability', 'trad', 'tradesmarter', 'tradition', 'traditional', 'trafficcom', 'trafficking', 'trafigura', 'tragedy', 'trai', 'trail', 'trailer', 'train', 'trainee', 'trajectory', 'transact', 'transat', 'transatlantic', 'transcri', 'transferred', 'transforming', 'translates', 'translation', 'transnet', 'transocean', 'transphorm', 'trash', 'trauf', 'traveler', 'travelex', 'traveling', 'trayport', 'tre', 'tread', 'treasure', 'treated', 'trec', 'trecora', 'trendforce', 'trending', 'trendline', 'trey', 'trian', 'triax', 'tribal', 'triggering', 'triib', 'trilli', 'trimble', 'trinidad', 'trio', 'tripadvisor', 'triton', 'triumph', 'trlff', 'tron', 'tronics', 'tropical', 'trot', 'trov', 'trtn', 'trubisky', 'trulieve', 'trumpsays', 'trup', 'trupanion', 'trustee', 'trvn', 'tryin', 'tryout', 'tsai', 'tsc', 'tseries', 'tsx', 'ttd', 'ttgt', 'ttwo', 'tudor', 'tug', 'tui', 'tulsi', 'tumor', 'tumultuous', 'tuna', 'tune', 'tup', 'turbi', 'turbo', 'turboprop', 'turf', 'turnout', 'turnover', 'turquoise', 'turtleneck', 'tusk', 'tutor', 'tutorial', 'tvty', 'tw', 'tweak', 'twee', 'tweed', 'twelve', 'twggx', 'twi', 'twta', 'twtas', 'ty', 'typically', 'typo', 'tysonfoods', 'uaw', 'ubben', 'ubfo', 'ubio', 'ucb', 'uchicago', 'udr', 'uefa', 'ufs', 'uga', 'uganda', 'ugandan', 'uglier', 'uhal', 'uighur', 'uje', 'ukrainegate', 'umsatzwachstum', 'unanimously', 'unannounced', 'unaware', 'unbanked', 'unclear', 'uncomfortable', 'uncond', 'uncover', 'underappreciated', 'undercovered', 'underdog', 'underestimate', 'underestimating', 'underline', 'underloved', 'underpinned', 'underrated', 'underscore', 'underscored', 'underscoring', 'understand', 'undervalues', 'underway', 'underwhelm', 'underwriter', 'undue', 'uneakable', 'uneasy', 'uneven', 'unexpected', 'unfairness', 'unfinished', 'unfortunately', 'unhealthiest', 'unicell', 'unicom', 'unicredito', 'uniform', 'unite', 'unitedhealthcare', 'uniti', 'unl', 'unleash', 'unleashing', 'unlicensed', 'unload', 'unlucky', 'unmanned', 'unpaid', 'unpalletable', 'unplug', 'unpopular', 'unprotected', 'unquestioned', 'unravelling', 'unreal', 'unregi', 'unseat', 'unspecified', 'unspoken', 'unsteady', 'unsung', 'unsurprising', 'unsustainable', 'unswick', 'unternehmen', 'untimely', 'unusually', 'unveilin', 'unwavering', 'unwell', 'unwillingness', 'upd', 'upends', 'upi', 'upload', 'upper', 'uprising', 'upshaw', 'upsizes', 'upstart', 'uptick', 'uptrend', 'upwards', 'urbn', 'urg', 'urgent', 'urging', 'urovant', 'useful', 'usfd', 'usher', 'ushes', 'uslm', 'ustreasury', 'usually', 'ut', 'utah', 'utilizing', 'utx', 'uup', 'uwt', 'uxa', 'vacasa', 'vacated', 'vaccinate', 'vaccination', 'vacuum', 'vadadustat', 'vague', 'valens', 'valid', 'vallourec', 'valores', 'valueact', 'vam', 'vancouver', 'vanda', 'vanished', 'vanishes', 'var', 'varex', 'variable', 'various', 'vary', 'vasquez', 'vault', 'vax', 'vazku', 'vbi', 'vclt', 'vdahf', 'vegetabl', 'vegetarian', 'veidekke', 'velopper', 'vengeance', 'venous', 'verastem', 'vericiguat', 'verification', 'veritas', 'verizonbusiness', 'verso', 'vertiginous', 'verzeichnet', 'viab', 'viaca', 'vibe', 'vicepresidentessa', 'victorian', 'vie', 'viemed', 'vies', 'vietjet', 'vietnam', 'viewer', 'viking', 'villager', 'villazon', 'vince', 'vinda', 'vindicates', 'violent', 'virginia', 'virt', 'virtually', 'virtue', 'virtusa', 'vistaoutdoor', 'visteon', 'visual', 'visualizing', 'vitalhub', 'vitamin', 'vitasoy', 'vivaldi', 'vizzion', 'vktx', 'vla', 'vly', 'vnet', 'vnom', 'vnost', 'vnq', 'vogtle', 'vogue', 'vohra', 'voiced', 'void', 'vol', 'volaris', 'voltooiing', 'volunteer', 'vonage', 'vorasidenib', 'vowed', 'vowing', 'voyager', 'voyainvestments', 'vpn', 'vrex', 'vrtu', 'vstm', 'vtex', 'vuitton', 'vwdry', 'vxx', 'wabash', 'wabc', 'waddell', 'wade', 'wading', 'wafd', 'wagner', 'wagon', 'wagyu', 'waitr', 'waive', 'waiving', 'waking', 'wale', 'walgreensbootsalliance', 'walker', 'wallstreetweek', 'wane', 'wanting', 'waqf', 'warehouse', 'warmed', 'warranty', 'wastewater', 'wateroasis', 'watsco', 'wawa', 'wbk', 'wcagy', 'wd', 'wdfc', 'wdr', 'wea', 'weaken', 'weakened', 'weakens', 'weakly', 'weapon', 'weary', 'weber', 'webk', 'webster', 'weebit', 'weebitnano', 'weidai', 'weighing', 'weighted', 'weinstein', 'weirder', 'weld', 'welfare', 'wellbeing', 'wellesley', 'wenda', 'wendy', 'wereldhave', 'werner', 'wes', 'weston', 'westpacbanking', 'westwater', 'wetherspoon', 'wetherspoons', 'weyrauc', 'wft', 'wgo', 'whack', 'whacked', 'wheel', 'wheelchair', 'wheeler', 'whenever', 'whic', 'whichever', 'whip', 'whirlpool', 'whisper', 'whistle', 'whittaker', 'whooper', 'whopping', 'whsmith', 'widely', 'widened', 'widening', 'wideopenwest', 'wider', 'wiggle', 'wilder', 'wile', 'williamturton', 'wimbledon', 'windfall', 'windier', 'windmill', 'windstream', 'winklevoss', 'winmq', 'winn', 'winnebago', 'winton', 'wipeout', 'wiping', 'wipo', 'wisconsin', 'withdraw', 'withdrawn', 'withdrew', 'withholding', 'withou', 'witnes', 'wk', 'wkl', 'wlk', 'wmgc', 'wmmorrowbooks', 'wmt', 'wnc', 'wobble', 'woke', 'wolfowitz', 'wolters', 'womply', 'wonder', 'wondered', 'wonderful', 'woo', 'woodmac', 'woodside', 'wooing', 'woowa', 'worded', 'wore', 'workhorse', 'workstation', 'workweek', 'worldbank', 'worldcoalassociation', 'worldline', 'wounded', 'wowsa', 'wp', 'wrapping', 'wrcdf', 'wreaks', 'writ', 'writedown', 'writeoffs', 'writer', 'writes', 'writing', 'written', 'wrk', 'wrongdoing', 'wsb', 'wso', 'wt', 'wtf', 'wts', 'wu', 'wuxi', 'wwf', 'wxxwy', 'wynnchurch', 'xan', 'xau', 'xauusd', 'xb', 'xbi', 'xbox', 'xcel', 'xel', 'xenia', 'xers', 'xhb', 'xilinx', 'xinhua', 'xinjiang', 'xlk', 'xlrn', 'xm', 'xoma', 'xrt', 'xtn', 'xtx', 'xxii', 'xyosted', 'yahes', 'yangtze', 'yankee', 'yant', 'yapi', 'yara', 'yardstick', 'yeah', 'yeahka', 'yearlong', 'yearly', 'yellow', 'yellowstone', 'yemen', 'yervoy', 'yescarta', 'yestar', 'yestarhealthcare', 'yhtym', 'yiren', 'yn', 'yorw', 'youdao', 'youth', 'yovanovich', 'yrd', 'yten', 'yuan', 'za', 'zacut', 'zagg', 'zahlungen', 'zambia', 'zayo', 'zealotry', 'zeg', 'zelda', 'zeldatherapeutics', 'zelenskiy', 'zelensky', 'zertifizierung', 'zeum', 'zfgn', 'zhenmeat', 'zheshang', 'zhone', 'ziff', 'zijin', 'zijinmining', 'zik', 'zinc', 'zingfit', 'ziop', 'ziopharm', 'zip', 'zoccoli', 'zogenix', 'zom', 'zomedica', 'zonnecelmodule', 'zooplus', 'zschneeweiss', 'zumiez', 'zwei', 'zwillinger', 'zynex', 'zyxi']\n"
     ]
    }
   ],
   "source": [
    "vectorizer = CountVectorizer()\n",
    "X = vectorizer.fit_transform(df_train['clean_text'])\n",
    "words = vectorizer.get_feature_names_out()\n",
    "word_counts = X.toarray().sum(axis=0)\n",
    "words_once = [word for word, count in zip(words, word_counts) if count == 1]\n",
    "\n",
    "print(\"Words that appear only once:\", words_once)"
   ]
  },
  {
   "cell_type": "code",
   "execution_count": 73,
   "id": "b30bc41f",
   "metadata": {},
   "outputs": [],
   "source": [
    "words_once_set = set(words_once)\n",
    "\n",
    "def remove_rare_words(text):\n",
    "    \"\"\"\n",
    "    Remove words from a text string that appear only once in the training corpus.\n",
    "\n",
    "    Parameters:\n",
    "    text (str): The input text to clean.\n",
    "\n",
    "    Returns:\n",
    "    str: The text with rare words removed (i.e., words that appear only once in the corpus).\n",
    "    \"\"\"\n",
    "    \n",
    "    return ' '.join([word for word in text.split() if word not in words_once_set])\n",
    "\n",
    "df_train['clean_text'] = df_train['clean_text'].apply(remove_rare_words)"
   ]
  },
  {
   "cell_type": "markdown",
   "id": "641edda0",
   "metadata": {},
   "source": [
    "<a class=\"anchor\" id=\"five-bullet\"> \n",
    "<d style=\"color:white;\">\n",
    "\n",
    "## 1.4. Corpus Splitting\n",
    "</a> \n",
    "</d>   "
   ]
  },
  {
   "cell_type": "markdown",
   "id": "d85082b1",
   "metadata": {},
   "source": [
    "Since we initially preserved the original content of our dataset, we will use it to test two different modeling approaches. The first uses the cleaned version of our dataset, with all the preprocessing steps applied throughout this notebook, which will be used for more traditional models (e.g. Logistic Regression and KNN). The second approach uses the untouched, original version of the dataset, which will be used with pre-trained models such as BERT and RoBERTa. To proceed, we begin by splitting each version of the dataset into training and validation sets."
   ]
  },
  {
   "cell_type": "code",
   "execution_count": 74,
   "id": "16085d2f",
   "metadata": {},
   "outputs": [],
   "source": [
    "# SPLIT FOR MODELS WITH CLEANED TEXT\n",
    "X_train = df_train['clean_text']\n",
    "y_train = df_train['label'] \n",
    "\n",
    "X_train, X_val, y_train, y_val = train_test_split(X_train, y_train, test_size=0.2, stratify=df_train['label'], random_state=42)"
   ]
  },
  {
   "cell_type": "code",
   "execution_count": 75,
   "id": "7d97ab9c",
   "metadata": {},
   "outputs": [],
   "source": [
    "# 2. SPLIT FOR MODELS WITH RAW TEXT (FOR PRE-TRAINED MODELS)\n",
    "X_raw = df_train_raw['text']\n",
    "y_raw = df_train_raw['label']\n",
    "\n",
    "X_train_raw, X_val_raw, y_train_raw, y_val_raw = train_test_split(X_raw, y_raw, test_size=0.2, stratify=y_raw, random_state=42)"
   ]
  },
  {
   "cell_type": "markdown",
   "id": "404416f3",
   "metadata": {},
   "source": [
    "<a class=\"anchor\" id=\"six-bullet\"> \n",
    "<d style=\"color:white;\">\n",
    "\n",
    "## 1.5. Embeddings\n",
    "</a> \n",
    "</d>   "
   ]
  },
  {
   "cell_type": "code",
   "execution_count": 76,
   "id": "1ab8f21c",
   "metadata": {},
   "outputs": [],
   "source": [
    "def bow_or_tfidf(texts = df_train['clean_text'], method='bow'):\n",
    "    \"\"\"\n",
    "    Convert a list of text documents into a numerical feature matrix using either\n",
    "    Bag of Words (BoW) or TF-IDF vectorization.\n",
    "\n",
    "    Parameters:\n",
    "    texts (list or pandas Series): Collection of text documents to vectorize.\n",
    "    method (str): Vectorization method to use. Must be either 'bow' or 'tfidf'.\n",
    "\n",
    "    Returns:\n",
    "    tuple: A tuple containing:\n",
    "        - X (scipy sparse matrix): The document-term matrix.\n",
    "        - vectorizer (CountVectorizer or TfidfVectorizer): The fitted vectorizer instance.\n",
    "\n",
    "    Raises:\n",
    "    ValueError: If the provided method is not 'bow' or 'tfidf'.\n",
    "    \"\"\"\n",
    "    \n",
    "    if method == 'bow':\n",
    "        vectorizer = CountVectorizer()\n",
    "        X = vectorizer.fit_transform(texts)\n",
    "        return X, vectorizer\n",
    "\n",
    "    elif method == 'tfidf':\n",
    "        vectorizer = TfidfVectorizer()\n",
    "        X = vectorizer.fit_transform(texts)\n",
    "        return X, vectorizer\n",
    "\n",
    "    else:\n",
    "        raise ValueError(\"Choose a valid method: 'bow', 'tfidf'.\")\n",
    "\n",
    "# X_train, vectorizer = bow_or_tfidf(df_train['clean_text'], method='bow')\n",
    "# X_train, vectorizer = bow_or_tfidf(df_train['clean_text'], method='tfidf')"
   ]
  },
  {
   "cell_type": "markdown",
   "id": "ce007276",
   "metadata": {},
   "source": [
    "<a class=\"anchor\" id=\"six_one-bullet\"> \n",
    "<d style=\"color:white;\">\n",
    "\n",
    "### 1.5.1. Bag of Words (BoW)\n",
    "</a> \n",
    "</d>   "
   ]
  },
  {
   "cell_type": "code",
   "execution_count": 77,
   "id": "7014b331",
   "metadata": {},
   "outputs": [],
   "source": [
    "X_train_bow, vectorizer = bow_or_tfidf(X_train, method='bow')\n",
    "X_val_bow = vectorizer.transform(X_val)\n",
    "#X_test_bow = vectorizer.transform(df_test['clean_text']) "
   ]
  },
  {
   "cell_type": "markdown",
   "id": "54810498",
   "metadata": {},
   "source": [
    "<a class=\"anchor\" id=\"six_two-bullet\"> \n",
    "<d style=\"color:white;\">\n",
    "\n",
    "### 1.5.2. TF-IDF\n",
    "</a> \n",
    "</d>   "
   ]
  },
  {
   "cell_type": "code",
   "execution_count": 78,
   "id": "bf760d3d",
   "metadata": {},
   "outputs": [],
   "source": [
    "X_train_tfidf, vectorizer = bow_or_tfidf(X_train, method='tfidf')\n",
    "X_val_tfidf = vectorizer.transform(X_val)\n",
    "#X_test_tfidf = vectorizer.transform(df_test['clean_text']) "
   ]
  },
  {
   "cell_type": "markdown",
   "id": "8ab2e547",
   "metadata": {},
   "source": [
    "<a class=\"anchor\" id=\"six_three-bullet\"> \n",
    "<d style=\"color:white;\">\n",
    "\n",
    "### 1.5.3 Word2Vec\n",
    "</a> \n",
    "</d>   "
   ]
  },
  {
   "cell_type": "code",
   "execution_count": 79,
   "id": "1306a5c0",
   "metadata": {},
   "outputs": [],
   "source": [
    "# Train the model only once using the training data\n",
    "tokenized_train = [text.split() for text in X_train]\n",
    "model = Word2Vec(\n",
    "    sentences=tokenized_train,\n",
    "    vector_size=100,   \n",
    "    window=2,          \n",
    "    min_count=1,       # Minimum word frequency to be included\n",
    "    sg=1               # Skip-gram model (if 0, uses CBOW)\n",
    ")\n",
    "word_vectors = model.wv  # Extract trained word vectors\n",
    "\n",
    "def get_doc_embedding(doc, word_vectors, dim=100):\n",
    "    \"\"\"\n",
    "    Convert a text document into a single vector by averaging its word embeddings.\n",
    "\n",
    "    Parameters:\n",
    "    doc (str): The document (string of text) to embed.\n",
    "    word_vectors (gensim KeyedVectors): Trained word embeddings.\n",
    "    dim (int): The dimensionality of the embeddings (default is 100).\n",
    "\n",
    "    Returns:\n",
    "    numpy.ndarray: The averaged vector representing the document.\n",
    "                   If no known words are found, returns a zero vector.\n",
    "    \"\"\"\n",
    "    tokens = doc.split()\n",
    "    vectors = [word_vectors[word] for word in tokens if word in word_vectors.index_to_key]\n",
    "    if vectors:\n",
    "        return np.mean(vectors, axis=0)\n",
    "    else:\n",
    "        return np.zeros(dim)\n",
    "\n",
    "# Generate document-level embeddings by averaging the vectors of each word\n",
    "X_train_emb = np.vstack([get_doc_embedding(doc, word_vectors) for doc in X_train])\n",
    "X_val_emb = np.vstack([get_doc_embedding(doc, word_vectors) for doc in X_val])\n"
   ]
  },
  {
   "cell_type": "markdown",
   "id": "98005d90",
   "metadata": {},
   "source": [
    "<a class=\"anchor\" id=\"six_four-bullet\"> \n",
    "<d style=\"color:white;\">\n",
    "\n",
    "### 1.5.4 GloVe\n",
    "</a> \n",
    "</d>   "
   ]
  },
  {
   "cell_type": "code",
   "execution_count": 80,
   "id": "5c8fcd1b",
   "metadata": {},
   "outputs": [
    {
     "name": "stderr",
     "output_type": "stream",
     "text": [
      "100%|██████████| 7596/7596 [00:00<00:00, 32217.74it/s]\n",
      "100%|██████████| 1900/1900 [00:00<00:00, 21196.26it/s]\n"
     ]
    }
   ],
   "source": [
    "model_name = 'glove-twitter'\n",
    "emb_size = 100\n",
    "\n",
    "w2v = gensim.downloader.load(f'{model_name}-{emb_size}')\n",
    "\n",
    "def corpus2vec(corpus, w2v):\n",
    "    \"\"\"\n",
    "    Convert a list of text documents into lists of word vectors using a pre-trained GloVe model.\n",
    "\n",
    "    Parameters:\n",
    "    corpus (list): List of strings, each representing a document (e.g., tweet).\n",
    "    w2v (gensim KeyedVectors): Pre-trained word vectors loaded via gensim.\n",
    "\n",
    "    Returns:\n",
    "    list: A list where each element is a list of word vectors corresponding to the words in a document.\n",
    "    \"\"\"\n",
    "    index_set = set(w2v.index_to_key)  # For fast lookup\n",
    "    word_vec = w2v.get_vector          # Shortcut for faster access\n",
    "    return [\n",
    "        [word_vec(word) for word in doc.split() if word in index_set]\n",
    "        for doc in tqdm(corpus)\n",
    "    ]\n",
    "\n",
    "# Apply to training and validation data\n",
    "x_train_vec = corpus2vec(X_train, w2v)\n",
    "x_val_vec = corpus2vec(X_val, w2v)\n",
    "\n",
    "# Function to convert each tweet into a single vector (average of its word vectors)\n",
    "def average_vectors(vector_list, dim):\n",
    "    \"\"\"\n",
    "    Compute the average vector for a list of word vectors.\n",
    "    If the list is empty, return a zero vector.\n",
    "\n",
    "    Parameters:\n",
    "    vector_list (list): List of word vectors (e.g., from a tweet).\n",
    "    dim (int): Dimensionality of the embeddings.\n",
    "\n",
    "    Returns:\n",
    "    numpy.ndarray: Averaged vector representation of the input list.\n",
    "    \"\"\"\n",
    "    return np.mean(vector_list, axis=0) if vector_list else np.zeros(dim)\n",
    "\n",
    "# Generate averaged document embeddings for training and validation sets\n",
    "X_train_glove_avg = np.vstack([average_vectors(vecs, emb_size) for vecs in x_train_vec])\n",
    "X_val_glove_avg = np.vstack([average_vectors(vecs, emb_size) for vecs in x_val_vec])\n"
   ]
  },
  {
   "cell_type": "code",
   "execution_count": 81,
   "id": "8f651709",
   "metadata": {},
   "outputs": [
    {
     "data": {
      "text/plain": [
       "[('birthday', 0.9259342551231384),\n",
       " ('day', 0.8549739718437195),\n",
       " ('bday', 0.814542829990387),\n",
       " ('merry', 0.7886534929275513),\n",
       " ('love', 0.785590648651123),\n",
       " ('wish', 0.7771797776222229),\n",
       " ('hope', 0.7660955190658569),\n",
       " ('thank', 0.7639737725257874),\n",
       " ('year', 0.750583291053772),\n",
       " ('thanks', 0.7475084066390991)]"
      ]
     },
     "execution_count": 81,
     "metadata": {},
     "output_type": "execute_result"
    }
   ],
   "source": [
    "# Just a simple test to understand the results and performance of the model\n",
    "w2v.most_similar('happy', topn=10)"
   ]
  },
  {
   "cell_type": "markdown",
   "id": "46d14679",
   "metadata": {},
   "source": [
    "<a class=\"anchor\" id=\"six_five-bullet\"> \n",
    "<d style=\"color:white;\">\n",
    "\n",
    "### 1.5.5 RoBERTa\n",
    "</a> \n",
    "</d>   "
   ]
  },
  {
   "cell_type": "code",
   "execution_count": 82,
   "id": "1d4d9ace",
   "metadata": {},
   "outputs": [
    {
     "name": "stderr",
     "output_type": "stream",
     "text": [
      "Some weights of RobertaModel were not initialized from the model checkpoint at roberta-base and are newly initialized: ['pooler.dense.bias', 'pooler.dense.weight']\n",
      "You should probably TRAIN this model on a down-stream task to be able to use it for predictions and inference.\n",
      "100%|██████████| 7634/7634 [21:40<00:00,  5.87it/s]\n",
      "100%|██████████| 1909/1909 [05:19<00:00,  5.98it/s]\n"
     ]
    }
   ],
   "source": [
    "# Load pretrained RoBERTa model and tokenizer\n",
    "tokenizer = RobertaTokenizer.from_pretrained('roberta-base')\n",
    "model = RobertaModel.from_pretrained('roberta-base')\n",
    "model.eval()  # Set to eval mode\n",
    "device = torch.device('cuda' if torch.cuda.is_available() else 'cpu')\n",
    "model.to(device)\n",
    "\n",
    "# Function to convert corpus to embeddings (Corpus2Vec using [CLS] token)\n",
    "def roberta_corpus2vec(corpus, tokenizer, model, max_length=128):\n",
    "    \"\"\"\n",
    "    Generate sentence embeddings for a list of documents using the [CLS] token from RoBERTa.\n",
    "\n",
    "    Parameters:\n",
    "    corpus (list): List of raw text documents (e.g., tweets).\n",
    "    tokenizer (transformers.PreTrainedTokenizer): Tokenizer corresponding to the RoBERTa model.\n",
    "    model (transformers.PreTrainedModel): Pretrained RoBERTa model.\n",
    "    max_length (int): Maximum sequence length to tokenize each document.\n",
    "\n",
    "    Returns:\n",
    "    np.ndarray: Matrix of embeddings, one per document (shape: num_docs × hidden_size).\n",
    "    \"\"\"\n",
    "    \n",
    "    embeddings = []\n",
    "    with torch.no_grad():\n",
    "        for doc in tqdm(corpus):\n",
    "            inputs = tokenizer(doc, return_tensors='pt', padding='max_length',\n",
    "                               truncation=True, max_length=max_length)\n",
    "            inputs = {k: v.to(device) for k, v in inputs.items()}\n",
    "            outputs = model(**inputs)\n",
    "            cls_embedding = outputs.last_hidden_state[:, 0, :].squeeze(0)  # CLS token\n",
    "            embeddings.append(cls_embedding.cpu().numpy())\n",
    "    return np.vstack(embeddings)\n",
    "\n",
    "# Encode train and validation sets with original (raw) text\n",
    "X_train_roberta = roberta_corpus2vec(X_train_raw, tokenizer, model)\n",
    "X_val_roberta = roberta_corpus2vec(X_val_raw, tokenizer, model)"
   ]
  },
  {
   "cell_type": "markdown",
   "id": "903bfcfe",
   "metadata": {},
   "source": [
    "<a class=\"anchor\" id=\"seven-bullet\"> \n",
    "<d style=\"color:white;\">\n",
    "\n",
    "## 1.6. SMOTE\n",
    "</a> \n",
    "</d>   "
   ]
  },
  {
   "cell_type": "markdown",
   "id": "3c8d3044",
   "metadata": {},
   "source": [
    "We are going to use SMOTE to handle data imbalance in some models where is not possible to apply class weights."
   ]
  },
  {
   "cell_type": "code",
   "execution_count": 83,
   "id": "a734830b",
   "metadata": {},
   "outputs": [
    {
     "name": "stdout",
     "output_type": "stream",
     "text": [
      "(7634,)\n",
      "(7634,)\n"
     ]
    }
   ],
   "source": [
    "# Juste to check if the trains have the same size and the smote will work\n",
    "print(X_train_raw.shape)\n",
    "print(y_train_raw.shape)"
   ]
  },
  {
   "cell_type": "code",
   "execution_count": 84,
   "id": "d0fae3ca",
   "metadata": {},
   "outputs": [],
   "source": [
    "smote = SMOTE(random_state=13)\n",
    "\n",
    "X_train_roberta_resampled, y_train_resampled = smote.fit_resample(X_train_roberta, y_train_raw)\n",
    "\n",
    "# X_train_glove_avg_resampled, y_train_resampled = smote.fit_resample(X_train_glove_avg, y_train)\n",
    "# X_train_emb_resampled, y_train_resampled = smote.fit_resample(X_train_emb, y_train)\n",
    "# X_train_bow_resampled, y_train_resampled = smote.fit_resample(X_train_bow, y_train)\n",
    "# X_train_tfidf_resampled, y_train_resampled = smote.fit_resample(X_train_tfidf, y_train)"
   ]
  },
  {
   "cell_type": "markdown",
   "id": "2838f694",
   "metadata": {},
   "source": [
    "<hr>\n",
    "<a class=\"anchor\" id=\"eight-bullet\"> \n",
    "<d style=\"color:white;\">\n",
    "\n",
    "# 2. Models\n",
    "</a> \n",
    "</d>   "
   ]
  },
  {
   "cell_type": "markdown",
   "id": "74c40dc2",
   "metadata": {},
   "source": [
    "<a class=\"anchor\" id=\"nine-bullet\"> \n",
    "<d style=\"color:white;\">\n",
    "\n",
    "## 2.1. Functions\n",
    "</a> \n",
    "</d>   "
   ]
  },
  {
   "cell_type": "markdown",
   "id": "04202194",
   "metadata": {},
   "source": [
    "### 2.1.1. Function for evaluation of the model"
   ]
  },
  {
   "cell_type": "code",
   "execution_count": 85,
   "id": "0b1c74d2",
   "metadata": {},
   "outputs": [],
   "source": [
    "def evaluate_model_predictions(y_pred_train, y_pred_val, y_train = y_train, y_val = y_val, show_confusion_matrix = True, show_classification_report = True):\n",
    "    \"\"\"\n",
    "    Evaluate the performance of a classification model on training and validation sets.\n",
    "\n",
    "    Computes and prints accuracy, F1-score (macro), precision, and recall for both sets.\n",
    "    Optionally displays the confusion matrix and detailed classification report for the validation set.\n",
    "\n",
    "    Parameters:\n",
    "    y_pred_train (array-like): Predicted labels for the training set.\n",
    "    y_pred_val (array-like): Predicted labels for the validation set.\n",
    "    y_train (array-like, optional): True labels for the training set.\n",
    "    y_val (array-like, optional): True labels for the validation set.\n",
    "    show_confusion_matrix (bool): If True, prints the confusion matrix for the validation set.\n",
    "    show_classification_report (bool): If True, prints the classification report for the validation set.\n",
    "\n",
    "    Returns:\n",
    "    tuple: A tuple containing:\n",
    "        - train_accuracy (float)\n",
    "        - train_f1 (float)\n",
    "        - val_accuracy (float)\n",
    "        - val_f1 (float)\n",
    "    \"\"\"\n",
    "    \n",
    "    # to get the accurancy and the macro f1 score of the model on the training set\n",
    "    train_accuracy = accuracy_score(y_train, y_pred_train)\n",
    "    train_f1 = f1_score(y_train, y_pred_train, average='macro')\n",
    "    \n",
    "    # to get the accurancy and the macro f1 score of the model on the validation set\n",
    "    val_accuracy = accuracy_score(y_val, y_pred_val)\n",
    "    val_f1 = f1_score(y_val, y_pred_val, average='macro')\n",
    "\n",
    "    # to get the precision and the recall of the model on the validation set\n",
    "    val_precision = precision_score(y_val, y_pred_val, average='macro')\n",
    "    val_recall = recall_score(y_val, y_pred_val, average='macro')\n",
    "\n",
    "    print(f\"Accuracy of train: {train_accuracy:.4f}\")\n",
    "    print(f\"F1 Macro (Train): {train_f1:.4f}\")\n",
    "    print(f\"Accuracy of val: {val_accuracy:.4f}\")\n",
    "    print(f\"\\033[1mF1 Macro (Val)\\033[0m: {val_f1:.4f}\")\n",
    "    print(f\"Precision (Val): {val_precision:.4f}\")\n",
    "    print(f\"Recall (Val): {val_recall:.4f}\")\n",
    "    \n",
    "    # to get the confusion matrix and the classification report of the model on the validation set\n",
    "    if show_confusion_matrix==True:\n",
    "        print('\\nConfusion Matrix for Validation Data:')    \n",
    "        print(confusion_matrix(y_val, y_pred_val))\n",
    "\n",
    "    if show_classification_report==True:\n",
    "        print('\\nClassification Report for Validation Data:')\n",
    "        print(classification_report(y_val, y_pred_val))\n",
    "\n",
    "    return train_accuracy, train_f1, val_accuracy, val_f1"
   ]
  },
  {
   "cell_type": "markdown",
   "id": "9ac1c34e",
   "metadata": {},
   "source": [
    "<a class=\"anchor\" id=\"ten-bullet\"> \n",
    "<d style=\"color:white;\">\n",
    "\n",
    "## 2.2. Classification Models\n",
    "</a> \n",
    "</d> "
   ]
  },
  {
   "cell_type": "markdown",
   "id": "bcb340d2",
   "metadata": {},
   "source": [
    "Now that we have our embeddings, we are going to test different combinations of embeddings and well-known models."
   ]
  },
  {
   "cell_type": "markdown",
   "id": "005dbc2c",
   "metadata": {},
   "source": [
    "NOTE: For all our models, we tested all possible combinations with our four embeddings. However, due to very weak or inconclusive results, we decided not to include them in our notebook."
   ]
  },
  {
   "cell_type": "markdown",
   "id": "8a210bd2",
   "metadata": {},
   "source": [
    "### 2.2.1. Naive Bayes"
   ]
  },
  {
   "cell_type": "markdown",
   "id": "7fbed8b5",
   "metadata": {},
   "source": [
    "#### With BOW"
   ]
  },
  {
   "cell_type": "code",
   "execution_count": 86,
   "id": "12797b9b",
   "metadata": {},
   "outputs": [
    {
     "name": "stdout",
     "output_type": "stream",
     "text": [
      "Accuracy of train: 0.8836\n",
      "F1 Macro (Train): 0.8471\n",
      "Accuracy of val: 0.7742\n",
      "\u001b[1mF1 Macro (Val)\u001b[0m: 0.6831\n",
      "Precision (Val): 0.7035\n",
      "Recall (Val): 0.6686\n",
      "\n",
      "Confusion Matrix for Validation Data:\n",
      "[[ 143   52   93]\n",
      " [  25  239  120]\n",
      " [  59   80 1089]]\n",
      "\n",
      "Classification Report for Validation Data:\n",
      "              precision    recall  f1-score   support\n",
      "\n",
      "           0       0.63      0.50      0.56       288\n",
      "           1       0.64      0.62      0.63       384\n",
      "           2       0.84      0.89      0.86      1228\n",
      "\n",
      "    accuracy                           0.77      1900\n",
      "   macro avg       0.70      0.67      0.68      1900\n",
      "weighted avg       0.77      0.77      0.77      1900\n",
      "\n"
     ]
    }
   ],
   "source": [
    "nb = MultinomialNB()\n",
    "nb.fit(X_train_bow, y_train)\n",
    "y_pred_train = nb.predict(X_train_bow)\n",
    "y_pred_val = nb.predict(X_val_bow)\n",
    "\n",
    "nb_bow_train_accuracy, nb_bow_train_f1_macro, nb_bow_val_accuracy, nb_bow_val_f1_macro = evaluate_model_predictions(y_pred_train=y_pred_train, y_pred_val=y_pred_val)"
   ]
  },
  {
   "cell_type": "markdown",
   "id": "4fc3f273",
   "metadata": {},
   "source": [
    "#### With TF-IDF"
   ]
  },
  {
   "cell_type": "code",
   "execution_count": 89,
   "id": "41c676d2",
   "metadata": {},
   "outputs": [
    {
     "name": "stdout",
     "output_type": "stream",
     "text": [
      "Accuracy of train: 0.7848\n",
      "F1 Macro (Train): 0.6437\n",
      "Accuracy of val: 0.7347\n",
      "\u001b[1mF1 Macro (Val)\u001b[0m: 0.5344\n",
      "Precision (Val): 0.8163\n",
      "Recall (Val): 0.5020\n",
      "\n",
      "Confusion Matrix for Validation Data:\n",
      "[[  46   17  225]\n",
      " [   4  138  242]\n",
      " [   0   16 1212]]\n",
      "\n",
      "Classification Report for Validation Data:\n",
      "              precision    recall  f1-score   support\n",
      "\n",
      "           0       0.92      0.16      0.27       288\n",
      "           1       0.81      0.36      0.50       384\n",
      "           2       0.72      0.99      0.83      1228\n",
      "\n",
      "    accuracy                           0.73      1900\n",
      "   macro avg       0.82      0.50      0.53      1900\n",
      "weighted avg       0.77      0.73      0.68      1900\n",
      "\n"
     ]
    }
   ],
   "source": [
    "nb = MultinomialNB()\n",
    "nb.fit(X_train_tfidf, y_train)\n",
    "y_pred_train = nb.predict(X_train_tfidf)\n",
    "y_pred_val = nb.predict(X_val_tfidf)\n",
    "\n",
    "# Results\n",
    "nb_idf_train_accuracy, nb_idf_train_f1_macro, nb_idf_val_accuracy, nb_idf_val_f1_macro = evaluate_model_predictions(y_pred_train=y_pred_train, y_pred_val=y_pred_val)"
   ]
  },
  {
   "cell_type": "markdown",
   "id": "1c328c3e",
   "metadata": {},
   "source": [
    "After testing the Naive Bayes model, a probabilistic classifier based on Bayes' Theorem that assumes conditional independence between features, with our two embedding methods (Bag of Words and TF-IDF), we observed that the BoW approach achieved better overall performance.\n",
    "\n",
    "By analyzing the evaluation metrics, we found that BoW obtained a higher macro F1-score on the validation set, which is the most important metric when dealing with imbalanced classes, as it treats all classes equally. It also showed better recall, indicating broader coverage across all classes, and greater robustness during training, with superior F1 and accuracy scores compared to TF-IDF.\n",
    "\n",
    "On the other hand, TF-IDF achieved higher precision, meaning that although it made fewer correct predictions overall, the ones it did make were more confident. This combination of high precision but lower F1 and recall may suggest that the model is overfitting on more distinctive or rare terms emphasized by the TF-IDF weighting.\n",
    "\n",
    "In summary, for this model, BoW provided a more balanced and effective performance, making it the more suitable embedding technique in this context."
   ]
  },
  {
   "cell_type": "markdown",
   "id": "ab5b62cb",
   "metadata": {},
   "source": [
    "### 2.2.2. Logistic Regression "
   ]
  },
  {
   "cell_type": "markdown",
   "id": "33d63817",
   "metadata": {},
   "source": [
    "#### With BOW"
   ]
  },
  {
   "cell_type": "code",
   "execution_count": 90,
   "id": "b9720647",
   "metadata": {},
   "outputs": [
    {
     "name": "stdout",
     "output_type": "stream",
     "text": [
      "Accuracy of train: 0.9502\n",
      "F1 Macro (Train): 0.9392\n",
      "Accuracy of val: 0.7768\n",
      "\u001b[1mF1 Macro (Val)\u001b[0m: 0.7014\n",
      "Precision (Val): 0.6984\n",
      "Recall (Val): 0.7054\n",
      "\n",
      "Confusion Matrix for Validation Data:\n",
      "[[ 179   41   68]\n",
      " [  45  245   94]\n",
      " [  91   85 1052]]\n",
      "\n",
      "Classification Report for Validation Data:\n",
      "              precision    recall  f1-score   support\n",
      "\n",
      "           0       0.57      0.62      0.59       288\n",
      "           1       0.66      0.64      0.65       384\n",
      "           2       0.87      0.86      0.86      1228\n",
      "\n",
      "    accuracy                           0.78      1900\n",
      "   macro avg       0.70      0.71      0.70      1900\n",
      "weighted avg       0.78      0.78      0.78      1900\n",
      "\n"
     ]
    }
   ],
   "source": [
    "lr = LogisticRegression(max_iter=1000, class_weight='balanced')\n",
    "lr.fit(X_train_bow, y_train)\n",
    "y_pred_train = lr.predict(X_train_bow)\n",
    "y_pred_val = lr.predict(X_val_bow)\n",
    "\n",
    "# Results:\n",
    "lr_bow_train_accuracy, lr_bow_train_f1_macro, lr_bow_val_accuracy, lr_bow_val_f1_macro = evaluate_model_predictions(y_pred_train=y_pred_train, y_pred_val =y_pred_val)"
   ]
  },
  {
   "cell_type": "markdown",
   "id": "11283f56",
   "metadata": {},
   "source": [
    "#### With TF-IDF"
   ]
  },
  {
   "cell_type": "code",
   "execution_count": 91,
   "id": "563a2293",
   "metadata": {},
   "outputs": [
    {
     "name": "stdout",
     "output_type": "stream",
     "text": [
      "Accuracy of train: 0.9057\n",
      "F1 Macro (Train): 0.8842\n",
      "Accuracy of val: 0.7789\n",
      "\u001b[1mF1 Macro (Val)\u001b[0m: 0.7028\n",
      "Precision (Val): 0.6998\n",
      "Recall (Val): 0.7071\n",
      "\n",
      "Confusion Matrix for Validation Data:\n",
      "[[ 181   42   65]\n",
      " [  48  243   93]\n",
      " [  89   83 1056]]\n",
      "\n",
      "Classification Report for Validation Data:\n",
      "              precision    recall  f1-score   support\n",
      "\n",
      "           0       0.57      0.63      0.60       288\n",
      "           1       0.66      0.63      0.65       384\n",
      "           2       0.87      0.86      0.86      1228\n",
      "\n",
      "    accuracy                           0.78      1900\n",
      "   macro avg       0.70      0.71      0.70      1900\n",
      "weighted avg       0.78      0.78      0.78      1900\n",
      "\n"
     ]
    }
   ],
   "source": [
    "lr = LogisticRegression(max_iter=1000, class_weight='balanced') \n",
    "lr.fit(X_train_tfidf, y_train)\n",
    "y_pred_train = lr.predict(X_train_tfidf)\n",
    "y_pred_val = lr.predict(X_val_tfidf)\n",
    "\n",
    "# Results:\n",
    "lr_idf_train_accuracy, lr_idf_train_f1_macro, lr_idf_val_accuracy, lr_idf_val_f1_macro = evaluate_model_predictions(y_pred_train=y_pred_train, y_pred_val =y_pred_val)"
   ]
  },
  {
   "cell_type": "markdown",
   "id": "d7c380da",
   "metadata": {},
   "source": [
    "#### With Word2Vec"
   ]
  },
  {
   "cell_type": "code",
   "execution_count": 92,
   "id": "18aeee12",
   "metadata": {},
   "outputs": [
    {
     "name": "stdout",
     "output_type": "stream",
     "text": [
      "Accuracy of train: 0.5517\n",
      "F1 Macro (Train): 0.4561\n",
      "Accuracy of val: 0.5489\n",
      "\u001b[1mF1 Macro (Val)\u001b[0m: 0.4386\n",
      "Precision (Val): 0.4391\n",
      "Recall (Val): 0.4446\n",
      "\n",
      "Confusion Matrix for Validation Data:\n",
      "[[ 84  73 131]\n",
      " [ 86 146 152]\n",
      " [240 175 813]]\n",
      "\n",
      "Classification Report for Validation Data:\n",
      "              precision    recall  f1-score   support\n",
      "\n",
      "           0       0.20      0.29      0.24       288\n",
      "           1       0.37      0.38      0.38       384\n",
      "           2       0.74      0.66      0.70      1228\n",
      "\n",
      "    accuracy                           0.55      1900\n",
      "   macro avg       0.44      0.44      0.44      1900\n",
      "weighted avg       0.59      0.55      0.56      1900\n",
      "\n"
     ]
    }
   ],
   "source": [
    "clf = LogisticRegression(max_iter=1000, class_weight='balanced')\n",
    "clf.fit(X_train_emb, y_train)\n",
    "\n",
    "y_pred_train = clf.predict(X_train_emb)\n",
    "y_pred_val = clf.predict(X_val_emb)\n",
    "\n",
    "lr_emb_train_accuracy, lr_emb_train_f1_macro, lr_emb_val_accuracy, lr_idf_val_f1_macro = evaluate_model_predictions(y_pred_train=y_pred_train, y_pred_val =y_pred_val)"
   ]
  },
  {
   "cell_type": "markdown",
   "id": "e53fc2b7",
   "metadata": {},
   "source": [
    "#### With Roberta"
   ]
  },
  {
   "cell_type": "code",
   "execution_count": 93,
   "id": "13996dd5",
   "metadata": {},
   "outputs": [
    {
     "name": "stdout",
     "output_type": "stream",
     "text": [
      "Accuracy of train: 0.8068\n",
      "F1 Macro (Train): 0.7650\n",
      "Accuracy of val: 0.7999\n",
      "\u001b[1mF1 Macro (Val)\u001b[0m: 0.7457\n",
      "Precision (Val): 0.7285\n",
      "Recall (Val): 0.7740\n",
      "\n",
      "Confusion Matrix for Validation Data:\n",
      "[[ 218   31   39]\n",
      " [  45  283   57]\n",
      " [ 125   85 1026]]\n",
      "\n",
      "Classification Report for Validation Data:\n",
      "              precision    recall  f1-score   support\n",
      "\n",
      "           0       0.56      0.76      0.64       288\n",
      "           1       0.71      0.74      0.72       385\n",
      "           2       0.91      0.83      0.87      1236\n",
      "\n",
      "    accuracy                           0.80      1909\n",
      "   macro avg       0.73      0.77      0.75      1909\n",
      "weighted avg       0.82      0.80      0.81      1909\n",
      "\n"
     ]
    }
   ],
   "source": [
    "# Train classifier with balanced class weights\n",
    "clf = LogisticRegression(max_iter=1000, class_weight='balanced')\n",
    "clf.fit(X_train_roberta, y_train_raw)\n",
    "\n",
    "# Predict and evaluate\n",
    "y_pred_train = clf.predict(X_train_roberta)\n",
    "y_pred_val = clf.predict(X_val_roberta)\n",
    "\n",
    "lr_train_acc, lr_train_f1, lr_val_acc, lr_val_f1 = evaluate_model_predictions(\n",
    "    y_pred_train, y_pred_val, y_train=y_train_raw, y_val=y_val_raw, \n",
    "    show_confusion_matrix=True, show_classification_report=True)"
   ]
  },
  {
   "cell_type": "markdown",
   "id": "cabe188e",
   "metadata": {},
   "source": [
    "In the case of Logistic Regression, a linear model commonly used for classification tasks, which estimates class probabilities using a logistic function, we tested it with all four embeddings created. Overall, the combination of Logistic Regression with the RoBERTa embedding clearly emerged as the best-performing approach.\n",
    "\n",
    "This configuration achieved the highest accuracy and macro F1-score on the validation set, indicating strong and balanced performance across all classes. It also obtained the highest precision, meaning that when the model predicts a class, it does so with high confidence. Additionally, it delivered the highest recall, showing that it successfully captures a broader range of true positives across all classes.\n",
    "\n",
    "Our TF-IDF and BoW embeddings showed very similar performance, both achieving solid but slightly lower results compared to RoBERTa. Lastly, the Word2Vec embedding yielded the weakest results, significantly below the others in all key metrics. This underperformance suggests it may not be a reliable or effective representation for our specific task. Possible reasons include the limited training of the Word2Vec model (trained only on our small dataset) and the short length of tweets, which can make it harder for this embedding method to generate meaningful document-level vectors.\n",
    "\n",
    "In summary, RoBERTa paired with Logistic Regression demonstrated the most robust and effective performance in our text classification scenario."
   ]
  },
  {
   "cell_type": "markdown",
   "id": "5a6bf6ba",
   "metadata": {},
   "source": [
    "### 2.2.3. KNN"
   ]
  },
  {
   "cell_type": "markdown",
   "id": "7acd1ed4",
   "metadata": {},
   "source": [
    "#### With BOW"
   ]
  },
  {
   "cell_type": "code",
   "execution_count": 94,
   "id": "3570fcb1",
   "metadata": {},
   "outputs": [
    {
     "name": "stdout",
     "output_type": "stream",
     "text": [
      "Accuracy of train: 0.7966\n",
      "F1 Macro (Train): 0.6892\n",
      "Accuracy of val: 0.7053\n",
      "\u001b[1mF1 Macro (Val)\u001b[0m: 0.5152\n",
      "Precision (Val): 0.6625\n",
      "Recall (Val): 0.4888\n",
      "\n",
      "Confusion Matrix for Validation Data:\n",
      "[[  53   20  215]\n",
      " [  10  131  243]\n",
      " [  23   49 1156]]\n",
      "\n",
      "Classification Report for Validation Data:\n",
      "              precision    recall  f1-score   support\n",
      "\n",
      "           0       0.62      0.18      0.28       288\n",
      "           1       0.66      0.34      0.45       384\n",
      "           2       0.72      0.94      0.81      1228\n",
      "\n",
      "    accuracy                           0.71      1900\n",
      "   macro avg       0.66      0.49      0.52      1900\n",
      "weighted avg       0.69      0.71      0.66      1900\n",
      "\n"
     ]
    }
   ],
   "source": [
    "knn = KNeighborsClassifier(n_neighbors=5) \n",
    "knn.fit(X_train_bow, y_train)\n",
    "\n",
    "y_pred_train = knn.predict(X_train_bow)\n",
    "y_pred_val = knn.predict(X_val_bow)\n",
    "\n",
    "knn_bow_train_accuracy, knn_bow_train_f1_macro, knn_bow_val_accuracy, knn_bow_val_f1_macro = evaluate_model_predictions(y_pred_train=y_pred_train, y_pred_val=y_pred_val)"
   ]
  },
  {
   "cell_type": "markdown",
   "id": "2369763f",
   "metadata": {},
   "source": [
    "#### With TF-IDF"
   ]
  },
  {
   "cell_type": "code",
   "execution_count": 102,
   "id": "300d8a5e",
   "metadata": {},
   "outputs": [
    {
     "name": "stdout",
     "output_type": "stream",
     "text": [
      "Accuracy of train: 0.8025\n",
      "F1 Macro (Train): 0.6962\n",
      "Accuracy of val: 0.6953\n",
      "\u001b[1mF1 Macro (Val)\u001b[0m: 0.4463\n",
      "Precision (Val): 0.7125\n",
      "Recall (Val): 0.4358\n",
      "\n",
      "Confusion Matrix for Validation Data:\n",
      "[[  36    7  245]\n",
      " [  13   76  295]\n",
      " [   6   13 1209]]\n",
      "\n",
      "Classification Report for Validation Data:\n",
      "              precision    recall  f1-score   support\n",
      "\n",
      "           0       0.65      0.12      0.21       288\n",
      "           1       0.79      0.20      0.32       384\n",
      "           2       0.69      0.98      0.81      1228\n",
      "\n",
      "    accuracy                           0.70      1900\n",
      "   macro avg       0.71      0.44      0.45      1900\n",
      "weighted avg       0.71      0.70      0.62      1900\n",
      "\n"
     ]
    }
   ],
   "source": [
    "knn = KNeighborsClassifier(n_neighbors=5) \n",
    "knn.fit(X_train_tfidf, y_train)\n",
    "y_pred_train = knn.predict(X_train_tfidf)\n",
    "y_pred_val = knn.predict(X_val_tfidf)\n",
    "\n",
    "# Results:\n",
    "knn_idf_train_accuracy, knn_idf_train_f1_macro, knn_idf_val_accuracy, knn_idf_val_f1_macro = evaluate_model_predictions(y_pred_train=y_pred_train, y_pred_val =y_pred_val)"
   ]
  },
  {
   "cell_type": "markdown",
   "id": "9f9e1e2d",
   "metadata": {},
   "source": [
    "#### With Word2Vec"
   ]
  },
  {
   "cell_type": "code",
   "execution_count": 103,
   "id": "b7d71ace",
   "metadata": {},
   "outputs": [
    {
     "name": "stdout",
     "output_type": "stream",
     "text": [
      "Accuracy of train: 0.7441\n",
      "F1 Macro (Train): 0.6291\n",
      "Accuracy of val: 0.6179\n",
      "\u001b[1mF1 Macro (Val)\u001b[0m: 0.4407\n",
      "Precision (Val): 0.4518\n",
      "Recall (Val): 0.4363\n",
      "\n",
      "Confusion Matrix for Validation Data:\n",
      "[[  58   68  162]\n",
      " [  70  111  203]\n",
      " [  96  127 1005]]\n",
      "\n",
      "Classification Report for Validation Data:\n",
      "              precision    recall  f1-score   support\n",
      "\n",
      "           0       0.26      0.20      0.23       288\n",
      "           1       0.36      0.29      0.32       384\n",
      "           2       0.73      0.82      0.77      1228\n",
      "\n",
      "    accuracy                           0.62      1900\n",
      "   macro avg       0.45      0.44      0.44      1900\n",
      "weighted avg       0.59      0.62      0.60      1900\n",
      "\n"
     ]
    }
   ],
   "source": [
    "knn = KNeighborsClassifier(n_neighbors=5) \n",
    "knn.fit(X_train_emb, y_train)\n",
    "\n",
    "y_pred_train = knn.predict(X_train_emb)\n",
    "y_pred_val = knn.predict(X_val_emb)\n",
    "\n",
    "knn_emb_train_accuracy, knn_emb_train_f1_macro, knn_emb_val_accuracy, knn_idf_val_f1_macro = evaluate_model_predictions(y_pred_train=y_pred_train, y_pred_val =y_pred_val)"
   ]
  },
  {
   "cell_type": "markdown",
   "id": "ae2e5987",
   "metadata": {},
   "source": [
    "#### With Roberta"
   ]
  },
  {
   "cell_type": "code",
   "execution_count": 99,
   "id": "3233174c",
   "metadata": {},
   "outputs": [
    {
     "name": "stdout",
     "output_type": "stream",
     "text": [
      "Accuracy of train: 0.8498\n",
      "F1 Macro (Train): 0.7817\n",
      "Accuracy of val: 0.7768\n",
      "\u001b[1mF1 Macro (Val)\u001b[0m: 0.6680\n",
      "Precision (Val): 0.6784\n",
      "Recall (Val): 0.6596\n",
      "\n",
      "Confusion Matrix for Validation Data:\n",
      "[[ 130   67   91]\n",
      " [  57  242   86]\n",
      " [  62   63 1111]]\n",
      "\n",
      "Classification Report for Validation Data:\n",
      "              precision    recall  f1-score   support\n",
      "\n",
      "           0       0.52      0.45      0.48       288\n",
      "           1       0.65      0.63      0.64       385\n",
      "           2       0.86      0.90      0.88      1236\n",
      "\n",
      "    accuracy                           0.78      1909\n",
      "   macro avg       0.68      0.66      0.67      1909\n",
      "weighted avg       0.77      0.78      0.77      1909\n",
      "\n"
     ]
    }
   ],
   "source": [
    "clf_knn = KNeighborsClassifier(n_neighbors=5)\n",
    "clf_knn.fit(X_train_roberta, y_train_raw)\n",
    "\n",
    "y_pred_train = clf_knn.predict(X_train_roberta)\n",
    "y_pred_val = clf_knn.predict(X_val_roberta)\n",
    "\n",
    "knn_train_acc, knn_train_f1, knn_val_acc, knn_val_f1 = evaluate_model_predictions(\n",
    "    y_pred_train, y_pred_val, y_train=y_train_raw, y_val=y_val_raw, \n",
    "    show_confusion_matrix=True, show_classification_report=True)"
   ]
  },
  {
   "cell_type": "markdown",
   "id": "667d117c",
   "metadata": {},
   "source": [
    "For the K-Nearest Neighbors (KNN) model, a non-parametric, instance-based algorithm that classifies data points based on the majority label among their nearest neighbors in the feature space, we followed the same approach as with the other models.\n",
    "\n",
    "Once again, we can clearly observe that the RoBERTa embedding, which does not require manual preprocessing of the input text, outperformed all other embeddings across every evaluation metric. This result reinforces the trend observed so far: RoBERTa consistently delivers the most robust and balanced performance, regardless of the classifier used."
   ]
  },
  {
   "cell_type": "markdown",
   "id": "df68d797",
   "metadata": {},
   "source": [
    "### 2.2.4. MLP"
   ]
  },
  {
   "cell_type": "markdown",
   "id": "30641282",
   "metadata": {},
   "source": [
    "#### With BOW"
   ]
  },
  {
   "cell_type": "code",
   "execution_count": 100,
   "id": "253225b3",
   "metadata": {},
   "outputs": [
    {
     "name": "stdout",
     "output_type": "stream",
     "text": [
      "Accuracy of train: 0.9891\n",
      "F1 Macro (Train): 0.9828\n",
      "Accuracy of val: 0.7437\n",
      "\u001b[1mF1 Macro (Val)\u001b[0m: 0.6398\n",
      "Precision (Val): 0.6500\n",
      "Recall (Val): 0.6324\n",
      "\n",
      "Confusion Matrix for Validation Data:\n",
      "[[ 128   64   96]\n",
      " [  39  227  118]\n",
      " [  73   97 1058]]\n",
      "\n",
      "Classification Report for Validation Data:\n",
      "              precision    recall  f1-score   support\n",
      "\n",
      "           0       0.53      0.44      0.48       288\n",
      "           1       0.59      0.59      0.59       384\n",
      "           2       0.83      0.86      0.85      1228\n",
      "\n",
      "    accuracy                           0.74      1900\n",
      "   macro avg       0.65      0.63      0.64      1900\n",
      "weighted avg       0.74      0.74      0.74      1900\n",
      "\n"
     ]
    },
    {
     "name": "stderr",
     "output_type": "stream",
     "text": [
      "c:\\Users\\Rafael\\anaconda3\\Lib\\site-packages\\sklearn\\neural_network\\_multilayer_perceptron.py:690: ConvergenceWarning: Stochastic Optimizer: Maximum iterations (200) reached and the optimization hasn't converged yet.\n",
      "  warnings.warn(\n"
     ]
    }
   ],
   "source": [
    "mlp = MLPClassifier(solver='adam', hidden_layer_sizes=(2,2), activation='logistic', random_state=1)\n",
    "mlp.fit(X_train_bow, y_train)\n",
    "\n",
    "y_pred_train = mlp.predict(X_train_bow)\n",
    "y_pred_val = mlp.predict(X_val_bow)\n",
    "\n",
    "mlp_bow_train_accuracy, mlp_bow_train_f1_macro, mlp_bow_val_accuracy, mlp_bow_val_f1_macro = evaluate_model_predictions(y_pred_train=y_pred_train, y_pred_val=y_pred_val)"
   ]
  },
  {
   "cell_type": "markdown",
   "id": "fb39b187",
   "metadata": {},
   "source": [
    "#### With TF-IDF"
   ]
  },
  {
   "cell_type": "code",
   "execution_count": 106,
   "id": "4873ab96",
   "metadata": {},
   "outputs": [
    {
     "name": "stdout",
     "output_type": "stream",
     "text": [
      "Accuracy of train: 0.9796\n",
      "F1 Macro (Train): 0.9681\n",
      "Accuracy of val: 0.7526\n",
      "\u001b[1mF1 Macro (Val)\u001b[0m: 0.6459\n",
      "Precision (Val): 0.6713\n",
      "Recall (Val): 0.6302\n",
      "\n",
      "Confusion Matrix for Validation Data:\n",
      "[[ 123   57  108]\n",
      " [  31  223  130]\n",
      " [  54   90 1084]]\n",
      "\n",
      "Classification Report for Validation Data:\n",
      "              precision    recall  f1-score   support\n",
      "\n",
      "           0       0.59      0.43      0.50       288\n",
      "           1       0.60      0.58      0.59       384\n",
      "           2       0.82      0.88      0.85      1228\n",
      "\n",
      "    accuracy                           0.75      1900\n",
      "   macro avg       0.67      0.63      0.65      1900\n",
      "weighted avg       0.74      0.75      0.74      1900\n",
      "\n"
     ]
    },
    {
     "name": "stderr",
     "output_type": "stream",
     "text": [
      "c:\\Users\\Rafael\\anaconda3\\Lib\\site-packages\\sklearn\\neural_network\\_multilayer_perceptron.py:690: ConvergenceWarning: Stochastic Optimizer: Maximum iterations (200) reached and the optimization hasn't converged yet.\n",
      "  warnings.warn(\n"
     ]
    }
   ],
   "source": [
    "mlp = MLPClassifier(solver='adam', hidden_layer_sizes=(2,2), activation='logistic', random_state=1)\n",
    "mlp.fit(X_train_tfidf, y_train)\n",
    "y_pred_train = mlp.predict(X_train_tfidf)\n",
    "y_pred_val = mlp.predict(X_val_tfidf)\n",
    "\n",
    "# Results:\n",
    "mlp_idf_train_accuracy, mlp_idf_train_f1_macro, mlp_idf_val_accuracy, mlp_idf_val_f1_macro = evaluate_model_predictions(y_pred_train=y_pred_train, y_pred_val =y_pred_val)"
   ]
  },
  {
   "cell_type": "markdown",
   "id": "9b7cd39a",
   "metadata": {},
   "source": [
    "#### With Word2Vec"
   ]
  },
  {
   "cell_type": "code",
   "execution_count": 107,
   "id": "48209650",
   "metadata": {},
   "outputs": [
    {
     "name": "stdout",
     "output_type": "stream",
     "text": [
      "Accuracy of train: 0.6628\n",
      "F1 Macro (Train): 0.3584\n",
      "Accuracy of val: 0.6568\n",
      "\u001b[1mF1 Macro (Val)\u001b[0m: 0.3471\n",
      "Precision (Val): 0.3727\n",
      "Recall (Val): 0.3781\n",
      "\n",
      "Confusion Matrix for Validation Data:\n",
      "[[   0   37  251]\n",
      " [   0   66  318]\n",
      " [   0   46 1182]]\n",
      "\n",
      "Classification Report for Validation Data:\n",
      "              precision    recall  f1-score   support\n",
      "\n",
      "           0       0.00      0.00      0.00       288\n",
      "           1       0.44      0.17      0.25       384\n",
      "           2       0.68      0.96      0.79      1228\n",
      "\n",
      "    accuracy                           0.66      1900\n",
      "   macro avg       0.37      0.38      0.35      1900\n",
      "weighted avg       0.53      0.66      0.56      1900\n",
      "\n"
     ]
    },
    {
     "name": "stderr",
     "output_type": "stream",
     "text": [
      "c:\\Users\\Rafael\\anaconda3\\Lib\\site-packages\\sklearn\\neural_network\\_multilayer_perceptron.py:690: ConvergenceWarning: Stochastic Optimizer: Maximum iterations (200) reached and the optimization hasn't converged yet.\n",
      "  warnings.warn(\n",
      "c:\\Users\\Rafael\\anaconda3\\Lib\\site-packages\\sklearn\\metrics\\_classification.py:1531: UndefinedMetricWarning: Precision is ill-defined and being set to 0.0 in labels with no predicted samples. Use `zero_division` parameter to control this behavior.\n",
      "  _warn_prf(average, modifier, f\"{metric.capitalize()} is\", len(result))\n",
      "c:\\Users\\Rafael\\anaconda3\\Lib\\site-packages\\sklearn\\metrics\\_classification.py:1531: UndefinedMetricWarning: Precision is ill-defined and being set to 0.0 in labels with no predicted samples. Use `zero_division` parameter to control this behavior.\n",
      "  _warn_prf(average, modifier, f\"{metric.capitalize()} is\", len(result))\n",
      "c:\\Users\\Rafael\\anaconda3\\Lib\\site-packages\\sklearn\\metrics\\_classification.py:1531: UndefinedMetricWarning: Precision is ill-defined and being set to 0.0 in labels with no predicted samples. Use `zero_division` parameter to control this behavior.\n",
      "  _warn_prf(average, modifier, f\"{metric.capitalize()} is\", len(result))\n",
      "c:\\Users\\Rafael\\anaconda3\\Lib\\site-packages\\sklearn\\metrics\\_classification.py:1531: UndefinedMetricWarning: Precision is ill-defined and being set to 0.0 in labels with no predicted samples. Use `zero_division` parameter to control this behavior.\n",
      "  _warn_prf(average, modifier, f\"{metric.capitalize()} is\", len(result))\n"
     ]
    }
   ],
   "source": [
    "mlp = MLPClassifier(solver='adam', hidden_layer_sizes=(2,2), activation='logistic', random_state=1)\n",
    "mlp.fit(X_train_emb, y_train)\n",
    "\n",
    "y_pred_train = mlp.predict(X_train_emb)\n",
    "y_pred_val = mlp.predict(X_val_emb)\n",
    "\n",
    "mlp_emb_train_accuracy, mlp_emb_train_f1_macro, mlp_emb_val_accuracy, mlp_idf_val_f1_macro = evaluate_model_predictions(y_pred_train=y_pred_train, y_pred_val =y_pred_val)"
   ]
  },
  {
   "cell_type": "markdown",
   "id": "d371580e",
   "metadata": {},
   "source": [
    "#### With Roberta"
   ]
  },
  {
   "cell_type": "code",
   "execution_count": 101,
   "id": "733dab0b",
   "metadata": {},
   "outputs": [
    {
     "name": "stdout",
     "output_type": "stream",
     "text": [
      "Accuracy of train: 0.9992\n",
      "F1 Macro (Train): 0.9987\n",
      "Accuracy of val: 0.8303\n",
      "\u001b[1mF1 Macro (Val)\u001b[0m: 0.7670\n",
      "Precision (Val): 0.7701\n",
      "Recall (Val): 0.7648\n",
      "\n",
      "Confusion Matrix for Validation Data:\n",
      "[[ 198   32   58]\n",
      " [  36  271   78]\n",
      " [  67   53 1116]]\n",
      "\n",
      "Classification Report for Validation Data:\n",
      "              precision    recall  f1-score   support\n",
      "\n",
      "           0       0.66      0.69      0.67       288\n",
      "           1       0.76      0.70      0.73       385\n",
      "           2       0.89      0.90      0.90      1236\n",
      "\n",
      "    accuracy                           0.83      1909\n",
      "   macro avg       0.77      0.76      0.77      1909\n",
      "weighted avg       0.83      0.83      0.83      1909\n",
      "\n"
     ]
    }
   ],
   "source": [
    "clf_mlp = MLPClassifier(hidden_layer_sizes=(256, 128), max_iter=300, random_state=42)\n",
    "clf_mlp.fit(X_train_roberta, y_train_raw)\n",
    "\n",
    "y_pred_train = clf_mlp.predict(X_train_roberta)\n",
    "y_pred_val = clf_mlp.predict(X_val_roberta)\n",
    "\n",
    "mlp_train_acc, mlp_train_f1, mlp_val_acc, mlp_val_f1 = evaluate_model_predictions(\n",
    "    y_pred_train, y_pred_val, y_train=y_train_raw, y_val=y_val_raw, \n",
    "    show_confusion_matrix=True, show_classification_report=True)"
   ]
  },
  {
   "cell_type": "markdown",
   "id": "5a3b80d2",
   "metadata": {},
   "source": [
    "In this case, the MLP (Multilayer Perceptron), a class of feedforward artificial neural networks composed of one or more hidden layers, which can learn complex nonlinear patterns, we observed signs of overfitting across all embedding combinations.\n",
    "\n",
    "In particular, the model achieved unrealistically high training accuracy, often near perfect, while delivering relatively low macro F1-scores on the validation set. This discrepancy strongly suggests that the model is memorizing the training data rather than generalizing effectively to unseen examples.\n",
    "\n",
    "Among all embeddings tested, RoBERTa once again stood out as the most effective, achieving the highest validation performance. Although there was still some degree of overfitting, it was clearly less severe than with the other embeddings, and it managed to maintain strong precision, recall, and F1-score values.\n",
    "\n",
    "On the other end of the spectrum, Word2Vec delivered the weakest performance, not only suffering from significant overfitting but also producing metrics far below expectations, confirming its poor compatibility with this classification task."
   ]
  },
  {
   "cell_type": "markdown",
   "id": "c6034868",
   "metadata": {},
   "source": [
    "### 2.2.5. LSTM"
   ]
  },
  {
   "cell_type": "markdown",
   "id": "1e561aae",
   "metadata": {},
   "source": [
    "#### 2.2.5.1. LSTM with randomly initialized trainable embeddings"
   ]
  },
  {
   "cell_type": "code",
   "execution_count": 114,
   "id": "c6972e5e",
   "metadata": {},
   "outputs": [
    {
     "name": "stdout",
     "output_type": "stream",
     "text": [
      "Epoch 1/10\n",
      "\u001b[1m238/238\u001b[0m \u001b[32m━━━━━━━━━━━━━━━━━━━━\u001b[0m\u001b[37m\u001b[0m \u001b[1m8s\u001b[0m 26ms/step - accuracy: 0.6506 - loss: 0.9004 - val_accuracy: 0.6463 - val_loss: 0.9024\n",
      "Epoch 2/10\n",
      "\u001b[1m238/238\u001b[0m \u001b[32m━━━━━━━━━━━━━━━━━━━━\u001b[0m\u001b[37m\u001b[0m \u001b[1m6s\u001b[0m 23ms/step - accuracy: 0.6504 - loss: 0.8919 - val_accuracy: 0.6463 - val_loss: 0.8992\n",
      "Epoch 3/10\n",
      "\u001b[1m238/238\u001b[0m \u001b[32m━━━━━━━━━━━━━━━━━━━━\u001b[0m\u001b[37m\u001b[0m \u001b[1m6s\u001b[0m 25ms/step - accuracy: 0.6477 - loss: 0.8928 - val_accuracy: 0.6463 - val_loss: 0.8914\n",
      "Epoch 4/10\n",
      "\u001b[1m238/238\u001b[0m \u001b[32m━━━━━━━━━━━━━━━━━━━━\u001b[0m\u001b[37m\u001b[0m \u001b[1m5s\u001b[0m 23ms/step - accuracy: 0.6461 - loss: 0.8934 - val_accuracy: 0.6463 - val_loss: 0.8918\n",
      "Epoch 5/10\n",
      "\u001b[1m238/238\u001b[0m \u001b[32m━━━━━━━━━━━━━━━━━━━━\u001b[0m\u001b[37m\u001b[0m \u001b[1m6s\u001b[0m 23ms/step - accuracy: 0.6460 - loss: 0.8956 - val_accuracy: 0.6463 - val_loss: 0.8920\n",
      "Epoch 6/10\n",
      "\u001b[1m238/238\u001b[0m \u001b[32m━━━━━━━━━━━━━━━━━━━━\u001b[0m\u001b[37m\u001b[0m \u001b[1m6s\u001b[0m 24ms/step - accuracy: 0.6449 - loss: 0.8936 - val_accuracy: 0.6463 - val_loss: 0.8961\n",
      "Epoch 7/10\n",
      "\u001b[1m238/238\u001b[0m \u001b[32m━━━━━━━━━━━━━━━━━━━━\u001b[0m\u001b[37m\u001b[0m \u001b[1m6s\u001b[0m 24ms/step - accuracy: 0.6529 - loss: 0.8841 - val_accuracy: 0.6463 - val_loss: 0.8913\n",
      "Epoch 8/10\n",
      "\u001b[1m238/238\u001b[0m \u001b[32m━━━━━━━━━━━━━━━━━━━━\u001b[0m\u001b[37m\u001b[0m \u001b[1m6s\u001b[0m 24ms/step - accuracy: 0.6394 - loss: 0.9019 - val_accuracy: 0.6463 - val_loss: 0.8915\n",
      "Epoch 9/10\n",
      "\u001b[1m238/238\u001b[0m \u001b[32m━━━━━━━━━━━━━━━━━━━━\u001b[0m\u001b[37m\u001b[0m \u001b[1m5s\u001b[0m 23ms/step - accuracy: 0.6409 - loss: 0.8983 - val_accuracy: 0.6463 - val_loss: 0.8934\n",
      "Epoch 10/10\n",
      "\u001b[1m238/238\u001b[0m \u001b[32m━━━━━━━━━━━━━━━━━━━━\u001b[0m\u001b[37m\u001b[0m \u001b[1m6s\u001b[0m 23ms/step - accuracy: 0.6342 - loss: 0.9086 - val_accuracy: 0.6463 - val_loss: 0.8947\n",
      "\u001b[1m238/238\u001b[0m \u001b[32m━━━━━━━━━━━━━━━━━━━━\u001b[0m\u001b[37m\u001b[0m \u001b[1m2s\u001b[0m 8ms/step\n",
      "\u001b[1m60/60\u001b[0m \u001b[32m━━━━━━━━━━━━━━━━━━━━\u001b[0m\u001b[37m\u001b[0m \u001b[1m0s\u001b[0m 7ms/step\n",
      "Accuracy of train: 0.6461\n",
      "F1 Macro (Train): 0.2617\n",
      "Accuracy of val: 0.6463\n",
      "\u001b[1mF1 Macro (Val)\u001b[0m: 0.2617\n",
      "Precision (Val): 0.2154\n",
      "Recall (Val): 0.3333\n",
      "\n",
      "Confusion Matrix for Validation Data:\n",
      "[[   0    0  288]\n",
      " [   0    0  384]\n",
      " [   0    0 1228]]\n",
      "\n",
      "Classification Report for Validation Data:\n",
      "              precision    recall  f1-score   support\n",
      "\n",
      "           0       0.00      0.00      0.00       288\n",
      "           1       0.00      0.00      0.00       384\n",
      "           2       0.65      1.00      0.79      1228\n",
      "\n",
      "    accuracy                           0.65      1900\n",
      "   macro avg       0.22      0.33      0.26      1900\n",
      "weighted avg       0.42      0.65      0.51      1900\n",
      "\n"
     ]
    },
    {
     "name": "stderr",
     "output_type": "stream",
     "text": [
      "c:\\Users\\Rafael\\anaconda3\\Lib\\site-packages\\sklearn\\metrics\\_classification.py:1531: UndefinedMetricWarning: Precision is ill-defined and being set to 0.0 in labels with no predicted samples. Use `zero_division` parameter to control this behavior.\n",
      "  _warn_prf(average, modifier, f\"{metric.capitalize()} is\", len(result))\n",
      "c:\\Users\\Rafael\\anaconda3\\Lib\\site-packages\\sklearn\\metrics\\_classification.py:1531: UndefinedMetricWarning: Precision is ill-defined and being set to 0.0 in labels with no predicted samples. Use `zero_division` parameter to control this behavior.\n",
      "  _warn_prf(average, modifier, f\"{metric.capitalize()} is\", len(result))\n",
      "c:\\Users\\Rafael\\anaconda3\\Lib\\site-packages\\sklearn\\metrics\\_classification.py:1531: UndefinedMetricWarning: Precision is ill-defined and being set to 0.0 in labels with no predicted samples. Use `zero_division` parameter to control this behavior.\n",
      "  _warn_prf(average, modifier, f\"{metric.capitalize()} is\", len(result))\n",
      "c:\\Users\\Rafael\\anaconda3\\Lib\\site-packages\\sklearn\\metrics\\_classification.py:1531: UndefinedMetricWarning: Precision is ill-defined and being set to 0.0 in labels with no predicted samples. Use `zero_division` parameter to control this behavior.\n",
      "  _warn_prf(average, modifier, f\"{metric.capitalize()} is\", len(result))\n"
     ]
    }
   ],
   "source": [
    "# Tokenize text\n",
    "tokenizer = Tokenizer(num_words=10000, oov_token=\"<OOV>\")\n",
    "tokenizer.fit_on_texts(X_train)\n",
    "\n",
    "X_train_seq = tokenizer.texts_to_sequences(X_train)\n",
    "X_val_seq = tokenizer.texts_to_sequences(X_val)\n",
    "\n",
    "# Pad sequences\n",
    "X_train_pad = pad_sequences(X_train_seq, maxlen=100, padding='post', truncating='post')\n",
    "X_val_pad = pad_sequences(X_val_seq, maxlen=100, padding='post', truncating='post')\n",
    "\n",
    "# Convert labels to one-hot\n",
    "y_train_cat = to_categorical(y_train, num_classes=3)\n",
    "y_val_cat = to_categorical(y_val, num_classes=3)\n",
    "\n",
    "# Ensure dtype is correct to avoid \"Invalid dtype: object\"\n",
    "X_train_pad = np.array(X_train_pad, dtype='int32')\n",
    "X_val_pad = np.array(X_val_pad, dtype='int32')\n",
    "y_train_cat = np.array(y_train_cat, dtype='float32')\n",
    "y_val_cat = np.array(y_val_cat, dtype='float32')\n",
    "\n",
    "# Build LSTM model\n",
    "model = Sequential()\n",
    "model.add(Embedding(input_dim=10000, output_dim=64, input_length=100))\n",
    "model.add(LSTM(64))\n",
    "model.add(Dense(3, activation='softmax'))\n",
    "\n",
    "model.compile(loss='categorical_crossentropy', optimizer='adam', metrics=['accuracy'])\n",
    "model.fit(X_train_pad, y_train_cat, epochs=10, batch_size=32, validation_data=(X_val_pad, y_val_cat))\n",
    "\n",
    "# Predict \n",
    "y_pred_train = model.predict(X_train_pad)\n",
    "y_pred_val = model.predict(X_val_pad)\n",
    "\n",
    "# Convert predictions to class labels\n",
    "y_pred_train_labels = np.argmax(y_pred_train, axis=1)\n",
    "y_pred_val_labels = np.argmax(y_pred_val, axis=1)\n",
    "\n",
    "# Also convert true labels to integers\n",
    "y_train_labels = np.argmax(y_train_cat, axis=1)\n",
    "y_val_labels = np.argmax(y_val_cat, axis=1)\n",
    "\n",
    "# Evaluate \n",
    "lstm_train_acc, lstm_train_f1, lstm_val_acc, lstm_val_f1 = evaluate_model_predictions(\n",
    "    y_pred_train_labels, y_pred_val_labels,\n",
    "    y_train=y_train_labels, y_val=y_val_labels\n",
    ")"
   ]
  },
  {
   "cell_type": "markdown",
   "id": "5cbf0c71",
   "metadata": {},
   "source": [
    "#### 2.2.5.2. LSTM model using GloVe embeddings"
   ]
  },
  {
   "cell_type": "code",
   "execution_count": 115,
   "id": "fbdb7681",
   "metadata": {},
   "outputs": [
    {
     "name": "stderr",
     "output_type": "stream",
     "text": [
      "c:\\Users\\Rafael\\anaconda3\\Lib\\site-packages\\keras\\src\\layers\\core\\masking.py:48: UserWarning: Do not pass an `input_shape`/`input_dim` argument to a layer. When using Sequential models, prefer using an `Input(shape)` object as the first layer in the model instead.\n",
      "  super().__init__(**kwargs)\n"
     ]
    },
    {
     "data": {
      "text/html": [
       "<pre style=\"white-space:pre;overflow-x:auto;line-height:normal;font-family:Menlo,'DejaVu Sans Mono',consolas,'Courier New',monospace\"><span style=\"font-weight: bold\">Model: \"sequential_6\"</span>\n",
       "</pre>\n"
      ],
      "text/plain": [
       "\u001b[1mModel: \"sequential_6\"\u001b[0m\n"
      ]
     },
     "metadata": {},
     "output_type": "display_data"
    },
    {
     "data": {
      "text/html": [
       "<pre style=\"white-space:pre;overflow-x:auto;line-height:normal;font-family:Menlo,'DejaVu Sans Mono',consolas,'Courier New',monospace\">┏━━━━━━━━━━━━━━━━━━━━━━━━━━━━━━━━━┳━━━━━━━━━━━━━━━━━━━━━━━━┳━━━━━━━━━━━━━━━┓\n",
       "┃<span style=\"font-weight: bold\"> Layer (type)                    </span>┃<span style=\"font-weight: bold\"> Output Shape           </span>┃<span style=\"font-weight: bold\">       Param # </span>┃\n",
       "┡━━━━━━━━━━━━━━━━━━━━━━━━━━━━━━━━━╇━━━━━━━━━━━━━━━━━━━━━━━━╇━━━━━━━━━━━━━━━┩\n",
       "│ masking_2 (<span style=\"color: #0087ff; text-decoration-color: #0087ff\">Masking</span>)             │ (<span style=\"color: #00d7ff; text-decoration-color: #00d7ff\">None</span>, <span style=\"color: #00af00; text-decoration-color: #00af00\">20</span>, <span style=\"color: #00af00; text-decoration-color: #00af00\">100</span>)        │             <span style=\"color: #00af00; text-decoration-color: #00af00\">0</span> │\n",
       "├─────────────────────────────────┼────────────────────────┼───────────────┤\n",
       "│ lstm_6 (<span style=\"color: #0087ff; text-decoration-color: #0087ff\">LSTM</span>)                   │ (<span style=\"color: #00d7ff; text-decoration-color: #00d7ff\">None</span>, <span style=\"color: #00af00; text-decoration-color: #00af00\">128</span>)            │       <span style=\"color: #00af00; text-decoration-color: #00af00\">117,248</span> │\n",
       "├─────────────────────────────────┼────────────────────────┼───────────────┤\n",
       "│ dropout_2 (<span style=\"color: #0087ff; text-decoration-color: #0087ff\">Dropout</span>)             │ (<span style=\"color: #00d7ff; text-decoration-color: #00d7ff\">None</span>, <span style=\"color: #00af00; text-decoration-color: #00af00\">128</span>)            │             <span style=\"color: #00af00; text-decoration-color: #00af00\">0</span> │\n",
       "├─────────────────────────────────┼────────────────────────┼───────────────┤\n",
       "│ dense_6 (<span style=\"color: #0087ff; text-decoration-color: #0087ff\">Dense</span>)                 │ (<span style=\"color: #00d7ff; text-decoration-color: #00d7ff\">None</span>, <span style=\"color: #00af00; text-decoration-color: #00af00\">3</span>)              │           <span style=\"color: #00af00; text-decoration-color: #00af00\">387</span> │\n",
       "└─────────────────────────────────┴────────────────────────┴───────────────┘\n",
       "</pre>\n"
      ],
      "text/plain": [
       "┏━━━━━━━━━━━━━━━━━━━━━━━━━━━━━━━━━┳━━━━━━━━━━━━━━━━━━━━━━━━┳━━━━━━━━━━━━━━━┓\n",
       "┃\u001b[1m \u001b[0m\u001b[1mLayer (type)                   \u001b[0m\u001b[1m \u001b[0m┃\u001b[1m \u001b[0m\u001b[1mOutput Shape          \u001b[0m\u001b[1m \u001b[0m┃\u001b[1m \u001b[0m\u001b[1m      Param #\u001b[0m\u001b[1m \u001b[0m┃\n",
       "┡━━━━━━━━━━━━━━━━━━━━━━━━━━━━━━━━━╇━━━━━━━━━━━━━━━━━━━━━━━━╇━━━━━━━━━━━━━━━┩\n",
       "│ masking_2 (\u001b[38;5;33mMasking\u001b[0m)             │ (\u001b[38;5;45mNone\u001b[0m, \u001b[38;5;34m20\u001b[0m, \u001b[38;5;34m100\u001b[0m)        │             \u001b[38;5;34m0\u001b[0m │\n",
       "├─────────────────────────────────┼────────────────────────┼───────────────┤\n",
       "│ lstm_6 (\u001b[38;5;33mLSTM\u001b[0m)                   │ (\u001b[38;5;45mNone\u001b[0m, \u001b[38;5;34m128\u001b[0m)            │       \u001b[38;5;34m117,248\u001b[0m │\n",
       "├─────────────────────────────────┼────────────────────────┼───────────────┤\n",
       "│ dropout_2 (\u001b[38;5;33mDropout\u001b[0m)             │ (\u001b[38;5;45mNone\u001b[0m, \u001b[38;5;34m128\u001b[0m)            │             \u001b[38;5;34m0\u001b[0m │\n",
       "├─────────────────────────────────┼────────────────────────┼───────────────┤\n",
       "│ dense_6 (\u001b[38;5;33mDense\u001b[0m)                 │ (\u001b[38;5;45mNone\u001b[0m, \u001b[38;5;34m3\u001b[0m)              │           \u001b[38;5;34m387\u001b[0m │\n",
       "└─────────────────────────────────┴────────────────────────┴───────────────┘\n"
      ]
     },
     "metadata": {},
     "output_type": "display_data"
    },
    {
     "data": {
      "text/html": [
       "<pre style=\"white-space:pre;overflow-x:auto;line-height:normal;font-family:Menlo,'DejaVu Sans Mono',consolas,'Courier New',monospace\"><span style=\"font-weight: bold\"> Total params: </span><span style=\"color: #00af00; text-decoration-color: #00af00\">117,635</span> (459.51 KB)\n",
       "</pre>\n"
      ],
      "text/plain": [
       "\u001b[1m Total params: \u001b[0m\u001b[38;5;34m117,635\u001b[0m (459.51 KB)\n"
      ]
     },
     "metadata": {},
     "output_type": "display_data"
    },
    {
     "data": {
      "text/html": [
       "<pre style=\"white-space:pre;overflow-x:auto;line-height:normal;font-family:Menlo,'DejaVu Sans Mono',consolas,'Courier New',monospace\"><span style=\"font-weight: bold\"> Trainable params: </span><span style=\"color: #00af00; text-decoration-color: #00af00\">117,635</span> (459.51 KB)\n",
       "</pre>\n"
      ],
      "text/plain": [
       "\u001b[1m Trainable params: \u001b[0m\u001b[38;5;34m117,635\u001b[0m (459.51 KB)\n"
      ]
     },
     "metadata": {},
     "output_type": "display_data"
    },
    {
     "data": {
      "text/html": [
       "<pre style=\"white-space:pre;overflow-x:auto;line-height:normal;font-family:Menlo,'DejaVu Sans Mono',consolas,'Courier New',monospace\"><span style=\"font-weight: bold\"> Non-trainable params: </span><span style=\"color: #00af00; text-decoration-color: #00af00\">0</span> (0.00 B)\n",
       "</pre>\n"
      ],
      "text/plain": [
       "\u001b[1m Non-trainable params: \u001b[0m\u001b[38;5;34m0\u001b[0m (0.00 B)\n"
      ]
     },
     "metadata": {},
     "output_type": "display_data"
    },
    {
     "name": "stdout",
     "output_type": "stream",
     "text": [
      "Epoch 1/50\n",
      "\u001b[1m238/238\u001b[0m \u001b[32m━━━━━━━━━━━━━━━━━━━━\u001b[0m\u001b[37m\u001b[0m \u001b[1m4s\u001b[0m 10ms/step - accuracy: 0.6425 - loss: 0.8496 - val_accuracy: 0.7100 - val_loss: 0.6908\n",
      "Epoch 2/50\n",
      "\u001b[1m238/238\u001b[0m \u001b[32m━━━━━━━━━━━━━━━━━━━━\u001b[0m\u001b[37m\u001b[0m \u001b[1m2s\u001b[0m 10ms/step - accuracy: 0.7252 - loss: 0.6781 - val_accuracy: 0.7311 - val_loss: 0.6584\n",
      "Epoch 3/50\n",
      "\u001b[1m238/238\u001b[0m \u001b[32m━━━━━━━━━━━━━━━━━━━━\u001b[0m\u001b[37m\u001b[0m \u001b[1m2s\u001b[0m 10ms/step - accuracy: 0.7495 - loss: 0.6215 - val_accuracy: 0.7363 - val_loss: 0.6433\n",
      "Epoch 4/50\n",
      "\u001b[1m238/238\u001b[0m \u001b[32m━━━━━━━━━━━━━━━━━━━━\u001b[0m\u001b[37m\u001b[0m \u001b[1m2s\u001b[0m 9ms/step - accuracy: 0.7734 - loss: 0.5720 - val_accuracy: 0.7611 - val_loss: 0.6175\n",
      "Epoch 5/50\n",
      "\u001b[1m238/238\u001b[0m \u001b[32m━━━━━━━━━━━━━━━━━━━━\u001b[0m\u001b[37m\u001b[0m \u001b[1m2s\u001b[0m 9ms/step - accuracy: 0.7992 - loss: 0.5162 - val_accuracy: 0.7658 - val_loss: 0.6054\n",
      "Epoch 6/50\n",
      "\u001b[1m238/238\u001b[0m \u001b[32m━━━━━━━━━━━━━━━━━━━━\u001b[0m\u001b[37m\u001b[0m \u001b[1m2s\u001b[0m 9ms/step - accuracy: 0.8255 - loss: 0.4632 - val_accuracy: 0.7642 - val_loss: 0.6053\n",
      "Epoch 7/50\n",
      "\u001b[1m238/238\u001b[0m \u001b[32m━━━━━━━━━━━━━━━━━━━━\u001b[0m\u001b[37m\u001b[0m \u001b[1m2s\u001b[0m 9ms/step - accuracy: 0.8495 - loss: 0.3954 - val_accuracy: 0.7716 - val_loss: 0.6083\n",
      "Epoch 8/50\n",
      "\u001b[1m238/238\u001b[0m \u001b[32m━━━━━━━━━━━━━━━━━━━━\u001b[0m\u001b[37m\u001b[0m \u001b[1m3s\u001b[0m 11ms/step - accuracy: 0.8716 - loss: 0.3517 - val_accuracy: 0.7547 - val_loss: 0.6532\n",
      "Epoch 9/50\n",
      "\u001b[1m238/238\u001b[0m \u001b[32m━━━━━━━━━━━━━━━━━━━━\u001b[0m\u001b[37m\u001b[0m \u001b[1m3s\u001b[0m 11ms/step - accuracy: 0.8869 - loss: 0.3065 - val_accuracy: 0.7689 - val_loss: 0.6680\n",
      "Epoch 10/50\n",
      "\u001b[1m238/238\u001b[0m \u001b[32m━━━━━━━━━━━━━━━━━━━━\u001b[0m\u001b[37m\u001b[0m \u001b[1m2s\u001b[0m 10ms/step - accuracy: 0.9082 - loss: 0.2587 - val_accuracy: 0.7663 - val_loss: 0.7494\n",
      "Epoch 11/50\n",
      "\u001b[1m238/238\u001b[0m \u001b[32m━━━━━━━━━━━━━━━━━━━━\u001b[0m\u001b[37m\u001b[0m \u001b[1m2s\u001b[0m 10ms/step - accuracy: 0.9248 - loss: 0.2080 - val_accuracy: 0.7695 - val_loss: 0.8120\n",
      "Epoch 12/50\n",
      "\u001b[1m238/238\u001b[0m \u001b[32m━━━━━━━━━━━━━━━━━━━━\u001b[0m\u001b[37m\u001b[0m \u001b[1m2s\u001b[0m 10ms/step - accuracy: 0.9317 - loss: 0.1886 - val_accuracy: 0.7700 - val_loss: 0.8508\n",
      "Epoch 13/50\n",
      "\u001b[1m238/238\u001b[0m \u001b[32m━━━━━━━━━━━━━━━━━━━━\u001b[0m\u001b[37m\u001b[0m \u001b[1m2s\u001b[0m 9ms/step - accuracy: 0.9485 - loss: 0.1508 - val_accuracy: 0.7668 - val_loss: 0.9292\n",
      "Epoch 14/50\n",
      "\u001b[1m238/238\u001b[0m \u001b[32m━━━━━━━━━━━━━━━━━━━━\u001b[0m\u001b[37m\u001b[0m \u001b[1m2s\u001b[0m 9ms/step - accuracy: 0.9629 - loss: 0.1121 - val_accuracy: 0.7632 - val_loss: 0.9784\n",
      "Epoch 15/50\n",
      "\u001b[1m238/238\u001b[0m \u001b[32m━━━━━━━━━━━━━━━━━━━━\u001b[0m\u001b[37m\u001b[0m \u001b[1m2s\u001b[0m 9ms/step - accuracy: 0.9575 - loss: 0.1163 - val_accuracy: 0.7668 - val_loss: 1.0488\n",
      "Epoch 16/50\n",
      "\u001b[1m238/238\u001b[0m \u001b[32m━━━━━━━━━━━━━━━━━━━━\u001b[0m\u001b[37m\u001b[0m \u001b[1m2s\u001b[0m 10ms/step - accuracy: 0.9639 - loss: 0.0981 - val_accuracy: 0.7658 - val_loss: 1.1041\n",
      "Epoch 17/50\n",
      "\u001b[1m238/238\u001b[0m \u001b[32m━━━━━━━━━━━━━━━━━━━━\u001b[0m\u001b[37m\u001b[0m \u001b[1m2s\u001b[0m 10ms/step - accuracy: 0.9663 - loss: 0.0954 - val_accuracy: 0.7626 - val_loss: 1.1412\n",
      "Epoch 18/50\n",
      "\u001b[1m238/238\u001b[0m \u001b[32m━━━━━━━━━━━━━━━━━━━━\u001b[0m\u001b[37m\u001b[0m \u001b[1m2s\u001b[0m 9ms/step - accuracy: 0.9763 - loss: 0.0667 - val_accuracy: 0.7711 - val_loss: 1.3097\n",
      "Epoch 19/50\n",
      "\u001b[1m238/238\u001b[0m \u001b[32m━━━━━━━━━━━━━━━━━━━━\u001b[0m\u001b[37m\u001b[0m \u001b[1m2s\u001b[0m 10ms/step - accuracy: 0.9828 - loss: 0.0539 - val_accuracy: 0.7632 - val_loss: 1.4864\n",
      "Epoch 20/50\n",
      "\u001b[1m238/238\u001b[0m \u001b[32m━━━━━━━━━━━━━━━━━━━━\u001b[0m\u001b[37m\u001b[0m \u001b[1m2s\u001b[0m 10ms/step - accuracy: 0.9747 - loss: 0.0719 - val_accuracy: 0.7568 - val_loss: 1.2953\n",
      "Epoch 21/50\n",
      "\u001b[1m238/238\u001b[0m \u001b[32m━━━━━━━━━━━━━━━━━━━━\u001b[0m\u001b[37m\u001b[0m \u001b[1m2s\u001b[0m 10ms/step - accuracy: 0.9830 - loss: 0.0525 - val_accuracy: 0.7495 - val_loss: 1.3953\n",
      "Epoch 22/50\n",
      "\u001b[1m238/238\u001b[0m \u001b[32m━━━━━━━━━━━━━━━━━━━━\u001b[0m\u001b[37m\u001b[0m \u001b[1m2s\u001b[0m 9ms/step - accuracy: 0.9815 - loss: 0.0587 - val_accuracy: 0.7600 - val_loss: 1.3153\n",
      "Epoch 23/50\n",
      "\u001b[1m238/238\u001b[0m \u001b[32m━━━━━━━━━━━━━━━━━━━━\u001b[0m\u001b[37m\u001b[0m \u001b[1m2s\u001b[0m 10ms/step - accuracy: 0.9847 - loss: 0.0468 - val_accuracy: 0.7532 - val_loss: 1.3671\n",
      "Epoch 24/50\n",
      "\u001b[1m238/238\u001b[0m \u001b[32m━━━━━━━━━━━━━━━━━━━━\u001b[0m\u001b[37m\u001b[0m \u001b[1m2s\u001b[0m 10ms/step - accuracy: 0.9898 - loss: 0.0363 - val_accuracy: 0.7600 - val_loss: 1.5234\n",
      "Epoch 25/50\n",
      "\u001b[1m238/238\u001b[0m \u001b[32m━━━━━━━━━━━━━━━━━━━━\u001b[0m\u001b[37m\u001b[0m \u001b[1m2s\u001b[0m 10ms/step - accuracy: 0.9860 - loss: 0.0425 - val_accuracy: 0.7516 - val_loss: 1.4116\n",
      "Epoch 26/50\n",
      "\u001b[1m238/238\u001b[0m \u001b[32m━━━━━━━━━━━━━━━━━━━━\u001b[0m\u001b[37m\u001b[0m \u001b[1m3s\u001b[0m 10ms/step - accuracy: 0.9865 - loss: 0.0436 - val_accuracy: 0.7537 - val_loss: 1.4863\n",
      "Epoch 27/50\n",
      "\u001b[1m238/238\u001b[0m \u001b[32m━━━━━━━━━━━━━━━━━━━━\u001b[0m\u001b[37m\u001b[0m \u001b[1m2s\u001b[0m 9ms/step - accuracy: 0.9948 - loss: 0.0211 - val_accuracy: 0.7637 - val_loss: 1.5986\n",
      "Epoch 28/50\n",
      "\u001b[1m238/238\u001b[0m \u001b[32m━━━━━━━━━━━━━━━━━━━━\u001b[0m\u001b[37m\u001b[0m \u001b[1m2s\u001b[0m 10ms/step - accuracy: 0.9876 - loss: 0.0395 - val_accuracy: 0.7611 - val_loss: 1.3759\n",
      "Epoch 29/50\n",
      "\u001b[1m238/238\u001b[0m \u001b[32m━━━━━━━━━━━━━━━━━━━━\u001b[0m\u001b[37m\u001b[0m \u001b[1m2s\u001b[0m 9ms/step - accuracy: 0.9884 - loss: 0.0432 - val_accuracy: 0.7537 - val_loss: 1.4266\n",
      "Epoch 30/50\n",
      "\u001b[1m238/238\u001b[0m \u001b[32m━━━━━━━━━━━━━━━━━━━━\u001b[0m\u001b[37m\u001b[0m \u001b[1m2s\u001b[0m 9ms/step - accuracy: 0.9936 - loss: 0.0225 - val_accuracy: 0.7726 - val_loss: 1.5779\n",
      "Epoch 31/50\n",
      "\u001b[1m238/238\u001b[0m \u001b[32m━━━━━━━━━━━━━━━━━━━━\u001b[0m\u001b[37m\u001b[0m \u001b[1m2s\u001b[0m 10ms/step - accuracy: 0.9924 - loss: 0.0245 - val_accuracy: 0.7611 - val_loss: 1.5918\n",
      "Epoch 32/50\n",
      "\u001b[1m238/238\u001b[0m \u001b[32m━━━━━━━━━━━━━━━━━━━━\u001b[0m\u001b[37m\u001b[0m \u001b[1m2s\u001b[0m 9ms/step - accuracy: 0.9953 - loss: 0.0181 - val_accuracy: 0.7532 - val_loss: 1.6259\n",
      "Epoch 33/50\n",
      "\u001b[1m238/238\u001b[0m \u001b[32m━━━━━━━━━━━━━━━━━━━━\u001b[0m\u001b[37m\u001b[0m \u001b[1m2s\u001b[0m 10ms/step - accuracy: 0.9875 - loss: 0.0438 - val_accuracy: 0.7542 - val_loss: 1.6089\n",
      "Epoch 34/50\n",
      "\u001b[1m238/238\u001b[0m \u001b[32m━━━━━━━━━━━━━━━━━━━━\u001b[0m\u001b[37m\u001b[0m \u001b[1m3s\u001b[0m 11ms/step - accuracy: 0.9909 - loss: 0.0255 - val_accuracy: 0.7605 - val_loss: 1.8314\n",
      "Epoch 35/50\n",
      "\u001b[1m238/238\u001b[0m \u001b[32m━━━━━━━━━━━━━━━━━━━━\u001b[0m\u001b[37m\u001b[0m \u001b[1m2s\u001b[0m 10ms/step - accuracy: 0.9898 - loss: 0.0382 - val_accuracy: 0.7505 - val_loss: 1.4749\n",
      "Epoch 36/50\n",
      "\u001b[1m238/238\u001b[0m \u001b[32m━━━━━━━━━━━━━━━━━━━━\u001b[0m\u001b[37m\u001b[0m \u001b[1m2s\u001b[0m 9ms/step - accuracy: 0.9927 - loss: 0.0240 - val_accuracy: 0.7653 - val_loss: 1.7145\n",
      "Epoch 37/50\n",
      "\u001b[1m238/238\u001b[0m \u001b[32m━━━━━━━━━━━━━━━━━━━━\u001b[0m\u001b[37m\u001b[0m \u001b[1m2s\u001b[0m 10ms/step - accuracy: 0.9949 - loss: 0.0160 - val_accuracy: 0.7542 - val_loss: 1.7999\n",
      "Epoch 38/50\n",
      "\u001b[1m238/238\u001b[0m \u001b[32m━━━━━━━━━━━━━━━━━━━━\u001b[0m\u001b[37m\u001b[0m \u001b[1m2s\u001b[0m 9ms/step - accuracy: 0.9941 - loss: 0.0163 - val_accuracy: 0.7632 - val_loss: 1.8316\n",
      "Epoch 39/50\n",
      "\u001b[1m238/238\u001b[0m \u001b[32m━━━━━━━━━━━━━━━━━━━━\u001b[0m\u001b[37m\u001b[0m \u001b[1m2s\u001b[0m 9ms/step - accuracy: 0.9968 - loss: 0.0110 - val_accuracy: 0.7689 - val_loss: 1.9656\n",
      "Epoch 40/50\n",
      "\u001b[1m238/238\u001b[0m \u001b[32m━━━━━━━━━━━━━━━━━━━━\u001b[0m\u001b[37m\u001b[0m \u001b[1m2s\u001b[0m 9ms/step - accuracy: 0.9950 - loss: 0.0153 - val_accuracy: 0.7495 - val_loss: 1.7230\n",
      "Epoch 41/50\n",
      "\u001b[1m238/238\u001b[0m \u001b[32m━━━━━━━━━━━━━━━━━━━━\u001b[0m\u001b[37m\u001b[0m \u001b[1m2s\u001b[0m 9ms/step - accuracy: 0.9901 - loss: 0.0304 - val_accuracy: 0.7568 - val_loss: 1.7598\n",
      "Epoch 42/50\n",
      "\u001b[1m238/238\u001b[0m \u001b[32m━━━━━━━━━━━━━━━━━━━━\u001b[0m\u001b[37m\u001b[0m \u001b[1m2s\u001b[0m 10ms/step - accuracy: 0.9834 - loss: 0.0529 - val_accuracy: 0.7547 - val_loss: 1.5281\n",
      "Epoch 43/50\n",
      "\u001b[1m238/238\u001b[0m \u001b[32m━━━━━━━━━━━━━━━━━━━━\u001b[0m\u001b[37m\u001b[0m \u001b[1m2s\u001b[0m 9ms/step - accuracy: 0.9920 - loss: 0.0247 - val_accuracy: 0.7663 - val_loss: 1.5996\n",
      "Epoch 44/50\n",
      "\u001b[1m238/238\u001b[0m \u001b[32m━━━━━━━━━━━━━━━━━━━━\u001b[0m\u001b[37m\u001b[0m \u001b[1m2s\u001b[0m 9ms/step - accuracy: 0.9937 - loss: 0.0196 - val_accuracy: 0.7689 - val_loss: 1.7501\n",
      "Epoch 45/50\n",
      "\u001b[1m238/238\u001b[0m \u001b[32m━━━━━━━━━━━━━━━━━━━━\u001b[0m\u001b[37m\u001b[0m \u001b[1m2s\u001b[0m 9ms/step - accuracy: 0.9970 - loss: 0.0101 - val_accuracy: 0.7705 - val_loss: 1.8897\n",
      "Epoch 46/50\n",
      "\u001b[1m238/238\u001b[0m \u001b[32m━━━━━━━━━━━━━━━━━━━━\u001b[0m\u001b[37m\u001b[0m \u001b[1m2s\u001b[0m 9ms/step - accuracy: 0.9951 - loss: 0.0128 - val_accuracy: 0.7737 - val_loss: 1.9033\n",
      "Epoch 47/50\n",
      "\u001b[1m238/238\u001b[0m \u001b[32m━━━━━━━━━━━━━━━━━━━━\u001b[0m\u001b[37m\u001b[0m \u001b[1m2s\u001b[0m 10ms/step - accuracy: 0.9971 - loss: 0.0087 - val_accuracy: 0.7668 - val_loss: 1.9912\n",
      "Epoch 48/50\n",
      "\u001b[1m238/238\u001b[0m \u001b[32m━━━━━━━━━━━━━━━━━━━━\u001b[0m\u001b[37m\u001b[0m \u001b[1m2s\u001b[0m 9ms/step - accuracy: 0.9968 - loss: 0.0114 - val_accuracy: 0.7526 - val_loss: 1.8586\n",
      "Epoch 49/50\n",
      "\u001b[1m238/238\u001b[0m \u001b[32m━━━━━━━━━━━━━━━━━━━━\u001b[0m\u001b[37m\u001b[0m \u001b[1m2s\u001b[0m 10ms/step - accuracy: 0.9860 - loss: 0.0461 - val_accuracy: 0.7589 - val_loss: 1.8845\n",
      "Epoch 50/50\n",
      "\u001b[1m238/238\u001b[0m \u001b[32m━━━━━━━━━━━━━━━━━━━━\u001b[0m\u001b[37m\u001b[0m \u001b[1m2s\u001b[0m 9ms/step - accuracy: 0.9850 - loss: 0.0566 - val_accuracy: 0.7689 - val_loss: 1.6293\n"
     ]
    }
   ],
   "source": [
    "# Determine the maximum sequence length in the training set\n",
    "max_len = max(len(seq) for seq in x_train_vec)\n",
    "\n",
    "# Apply padding (zeros at the end of each sequence)\n",
    "X_train_glove_pad = pad_sequences(x_train_vec, maxlen=max_len, padding='post', dtype='float64')\n",
    "X_val_glove_pad = pad_sequences(x_val_vec, maxlen=max_len, padding='post', dtype='float64')\n",
    "\n",
    "# Convert labels to one-hot encoding\n",
    "y_train_lstm = to_categorical(y_train, num_classes=3)\n",
    "y_val_lstm = to_categorical(y_val, num_classes=3)\n",
    "\n",
    "model = Sequential()\n",
    "model.add(Masking(mask_value=0., input_shape=(max_len, emb_size)))  # Ignore padding vectors during training\n",
    "model.add(LSTM(128, return_sequences=False))  # LSTM layer with 128 units\n",
    "model.add(Dropout(0.5))  # Dropout for regularization\n",
    "model.add(Dense(3, activation='softmax'))  # 3 output classes: positive, negative, neutral\n",
    "\n",
    "model.compile(optimizer='adam', loss='categorical_crossentropy', metrics=['accuracy'])\n",
    "model.summary()\n",
    "\n",
    "history = model.fit(\n",
    "    X_train_glove_pad, y_train_lstm,\n",
    "    validation_data=(X_val_glove_pad, y_val_lstm),\n",
    "    epochs=50,\n",
    "    batch_size=32,\n",
    "    verbose=1)"
   ]
  },
  {
   "cell_type": "code",
   "execution_count": 112,
   "id": "05b8e07c",
   "metadata": {},
   "outputs": [
    {
     "name": "stdout",
     "output_type": "stream",
     "text": [
      "\u001b[1m238/238\u001b[0m \u001b[32m━━━━━━━━━━━━━━━━━━━━\u001b[0m\u001b[37m\u001b[0m \u001b[1m1s\u001b[0m 4ms/step\n",
      "\u001b[1m60/60\u001b[0m \u001b[32m━━━━━━━━━━━━━━━━━━━━\u001b[0m\u001b[37m\u001b[0m \u001b[1m0s\u001b[0m 4ms/step\n",
      "Accuracy of train: 0.9305\n",
      "F1 Macro (Train): 0.9018\n",
      "Accuracy of val: 0.7558\n",
      "\u001b[1mF1 Macro (Val)\u001b[0m: 0.6576\n",
      "Precision (Val): 0.6760\n",
      "Recall (Val): 0.6455\n",
      "\n",
      "Confusion Matrix for Validation Data:\n",
      "[[ 129   52  107]\n",
      " [  28  237  119]\n",
      " [  64   94 1070]]\n",
      "\n",
      "Classification Report for Validation Data:\n",
      "              precision    recall  f1-score   support\n",
      "\n",
      "           0       0.58      0.45      0.51       288\n",
      "           1       0.62      0.62      0.62       384\n",
      "           2       0.83      0.87      0.85      1228\n",
      "\n",
      "    accuracy                           0.76      1900\n",
      "   macro avg       0.68      0.65      0.66      1900\n",
      "weighted avg       0.75      0.76      0.75      1900\n",
      "\n"
     ]
    }
   ],
   "source": [
    "# convert one-hot predictions (or softmax probabilities) to class labels using argmax\n",
    "y_pred_train_labels = np.argmax(model.predict(X_train_glove_pad), axis=1)\n",
    "y_pred_val_labels = np.argmax(model.predict(X_val_glove_pad), axis=1)\n",
    "\n",
    "# evaluate the model\n",
    "lstm_train_acc, lstm_train_f1, lstm_val_acc, lstm_val_f1 = evaluate_model_predictions(\n",
    "    y_pred_train=y_pred_train_labels, \n",
    "    y_pred_val=y_pred_val_labels,\n",
    "    y_train=y_train, \n",
    "    y_val=y_val)"
   ]
  },
  {
   "cell_type": "markdown",
   "id": "79a4bb39",
   "metadata": {},
   "source": [
    "To explore the capabilities of sequential modeling, we implemented a Long Short-Term Memory (LSTM) neural network, a type of recurrent neural network well-suited for handling sequences and capturing contextual dependencies in text. We tested two approaches: one using randomly initialized trainable embeddings and another leveraging pre-trained GloVe embeddings.\n",
    "\n",
    "In the first case, increasing the number of training epochs had little to no impact on performance, with both training and validation accuracy plateauing early and macro F1-scores remaining extremely low (~0.26), indicating the model failed to learn meaningful patterns.\n",
    "\n",
    "In contrast, the GloVe-based LSTM showed a clear performance gain when trained for more epochs. The training accuracy reached nearly perfect levels, suggesting some degree of overfitting. However, the validation accuracy also improved notably reaching ~0.76, while the macro F1-score rose to ~0.66, showing that the model was still generalizing reasonably well."
   ]
  },
  {
   "cell_type": "markdown",
   "id": "cae26667",
   "metadata": {},
   "source": [
    "### 2.2.6. XGBOOST"
   ]
  },
  {
   "cell_type": "markdown",
   "id": "6c523965",
   "metadata": {},
   "source": [
    "#### With BOW"
   ]
  },
  {
   "cell_type": "code",
   "execution_count": 119,
   "id": "e1a08390",
   "metadata": {},
   "outputs": [
    {
     "name": "stderr",
     "output_type": "stream",
     "text": [
      "c:\\Users\\Rafael\\anaconda3\\Lib\\site-packages\\xgboost\\core.py:158: UserWarning: [10:26:09] WARNING: C:\\buildkite-agent\\builds\\buildkite-windows-cpu-autoscaling-group-i-0c55ff5f71b100e98-1\\xgboost\\xgboost-ci-windows\\src\\learner.cc:740: \n",
      "Parameters: { \"use_label_encoder\" } are not used.\n",
      "\n",
      "  warnings.warn(smsg, UserWarning)\n"
     ]
    },
    {
     "name": "stdout",
     "output_type": "stream",
     "text": [
      "Accuracy of train: 0.7517\n",
      "F1 Macro (Train): 0.5832\n",
      "Accuracy of val: 0.7263\n",
      "\u001b[1mF1 Macro (Val)\u001b[0m: 0.5230\n",
      "Precision (Val): 0.7916\n",
      "Recall (Val): 0.4905\n",
      "\n",
      "Confusion Matrix for Validation Data:\n",
      "[[  50   14  224]\n",
      " [   3  120  261]\n",
      " [   7   11 1210]]\n",
      "\n",
      "Classification Report for Validation Data:\n",
      "              precision    recall  f1-score   support\n",
      "\n",
      "           0       0.83      0.17      0.29       288\n",
      "           1       0.83      0.31      0.45       384\n",
      "           2       0.71      0.99      0.83      1228\n",
      "\n",
      "    accuracy                           0.73      1900\n",
      "   macro avg       0.79      0.49      0.52      1900\n",
      "weighted avg       0.75      0.73      0.67      1900\n",
      "\n"
     ]
    }
   ],
   "source": [
    "clf_xgb = xgb.XGBClassifier(\n",
    "    n_estimators=100,\n",
    "    max_depth=4,\n",
    "    learning_rate=0.1,\n",
    "    use_label_encoder=False,\n",
    "    eval_metric='mlogloss',\n",
    "    random_state=13)\n",
    "\n",
    "clf_xgb.fit(X_train_bow, y_train)\n",
    "\n",
    "y_pred_train = clf_xgb.predict(X_train_bow)\n",
    "y_pred_val = clf_xgb.predict(X_val_bow)\n",
    "\n",
    "clf_xgb_bow_train_accuracy, clf_xgb_bow_train_f1_macro, clf_xgb_bow_val_accuracy, clf_xgb_bow_val_f1_macro = evaluate_model_predictions(y_pred_train=y_pred_train, y_pred_val=y_pred_val)"
   ]
  },
  {
   "cell_type": "markdown",
   "id": "71e811cc",
   "metadata": {},
   "source": [
    "#### With TF-IDF"
   ]
  },
  {
   "cell_type": "code",
   "execution_count": 120,
   "id": "cf15f6bc",
   "metadata": {},
   "outputs": [
    {
     "name": "stderr",
     "output_type": "stream",
     "text": [
      "c:\\Users\\Rafael\\anaconda3\\Lib\\site-packages\\xgboost\\core.py:158: UserWarning: [10:26:14] WARNING: C:\\buildkite-agent\\builds\\buildkite-windows-cpu-autoscaling-group-i-0c55ff5f71b100e98-1\\xgboost\\xgboost-ci-windows\\src\\learner.cc:740: \n",
      "Parameters: { \"use_label_encoder\" } are not used.\n",
      "\n",
      "  warnings.warn(smsg, UserWarning)\n"
     ]
    },
    {
     "name": "stdout",
     "output_type": "stream",
     "text": [
      "Accuracy of train: 0.7600\n",
      "F1 Macro (Train): 0.5994\n",
      "Accuracy of val: 0.7232\n",
      "\u001b[1mF1 Macro (Val)\u001b[0m: 0.5184\n",
      "Precision (Val): 0.7845\n",
      "Recall (Val): 0.4864\n",
      "\n",
      "Confusion Matrix for Validation Data:\n",
      "[[  54   16  218]\n",
      " [   4  110  270]\n",
      " [   6   12 1210]]\n",
      "\n",
      "Classification Report for Validation Data:\n",
      "              precision    recall  f1-score   support\n",
      "\n",
      "           0       0.84      0.19      0.31       288\n",
      "           1       0.80      0.29      0.42       384\n",
      "           2       0.71      0.99      0.83      1228\n",
      "\n",
      "    accuracy                           0.72      1900\n",
      "   macro avg       0.78      0.49      0.52      1900\n",
      "weighted avg       0.75      0.72      0.67      1900\n",
      "\n"
     ]
    }
   ],
   "source": [
    "clf_xgb = xgb.XGBClassifier(\n",
    "    n_estimators=100,\n",
    "    max_depth=4,\n",
    "    learning_rate=0.1,\n",
    "    use_label_encoder=False,\n",
    "    eval_metric='mlogloss',\n",
    "    random_state=13)\n",
    "\n",
    "clf_xgb.fit(X_train_tfidf, y_train)\n",
    "y_pred_train = clf_xgb.predict(X_train_tfidf)\n",
    "y_pred_val = clf_xgb.predict(X_val_tfidf)\n",
    "\n",
    "# Results:\n",
    "clf_xgb_idf_train_accuracy, clf_xgb_idf_train_f1_macro, clf_xgb_idf_val_accuracy, clf_xgb_idf_val_f1_macro = evaluate_model_predictions(y_pred_train=y_pred_train, y_pred_val =y_pred_val)"
   ]
  },
  {
   "cell_type": "markdown",
   "id": "57156e2a",
   "metadata": {},
   "source": [
    "#### With Word2Vec"
   ]
  },
  {
   "cell_type": "code",
   "execution_count": 121,
   "id": "6528882f",
   "metadata": {},
   "outputs": [
    {
     "name": "stderr",
     "output_type": "stream",
     "text": [
      "c:\\Users\\Rafael\\anaconda3\\Lib\\site-packages\\xgboost\\core.py:158: UserWarning: [10:26:16] WARNING: C:\\buildkite-agent\\builds\\buildkite-windows-cpu-autoscaling-group-i-0c55ff5f71b100e98-1\\xgboost\\xgboost-ci-windows\\src\\learner.cc:740: \n",
      "Parameters: { \"use_label_encoder\" } are not used.\n",
      "\n",
      "  warnings.warn(smsg, UserWarning)\n"
     ]
    },
    {
     "name": "stdout",
     "output_type": "stream",
     "text": [
      "Accuracy of train: 0.7449\n",
      "F1 Macro (Train): 0.5642\n",
      "Accuracy of val: 0.6774\n",
      "\u001b[1mF1 Macro (Val)\u001b[0m: 0.4117\n",
      "Precision (Val): 0.5678\n",
      "Recall (Val): 0.4163\n",
      "\n",
      "Confusion Matrix for Validation Data:\n",
      "[[  19   35  234]\n",
      " [  13   84  287]\n",
      " [   9   35 1184]]\n",
      "\n",
      "Classification Report for Validation Data:\n",
      "              precision    recall  f1-score   support\n",
      "\n",
      "           0       0.46      0.07      0.12       288\n",
      "           1       0.55      0.22      0.31       384\n",
      "           2       0.69      0.96      0.81      1228\n",
      "\n",
      "    accuracy                           0.68      1900\n",
      "   macro avg       0.57      0.42      0.41      1900\n",
      "weighted avg       0.63      0.68      0.60      1900\n",
      "\n"
     ]
    }
   ],
   "source": [
    "clf_xgb = xgb.XGBClassifier(\n",
    "    n_estimators=100,\n",
    "    max_depth=4,\n",
    "    learning_rate=0.1,\n",
    "    use_label_encoder=False,\n",
    "    eval_metric='mlogloss',\n",
    "    random_state=13)\n",
    "\n",
    "clf_xgb.fit(X_train_emb, y_train)\n",
    "\n",
    "y_pred_train = clf_xgb.predict(X_train_emb)\n",
    "y_pred_val = clf_xgb.predict(X_val_emb)\n",
    "\n",
    "clf_xgb_emb_train_accuracy, clf_xgb_emb_train_f1_macro, clf_xgb_emb_val_accuracy, clf_xgb_idf_val_f1_macro = evaluate_model_predictions(y_pred_train=y_pred_train, y_pred_val =y_pred_val)"
   ]
  },
  {
   "cell_type": "markdown",
   "id": "9faff0ec",
   "metadata": {},
   "source": [
    "#### With Roberta"
   ]
  },
  {
   "cell_type": "code",
   "execution_count": 118,
   "id": "c5ee5744",
   "metadata": {},
   "outputs": [
    {
     "name": "stderr",
     "output_type": "stream",
     "text": [
      "c:\\Users\\Rafael\\anaconda3\\Lib\\site-packages\\xgboost\\core.py:158: UserWarning: [10:18:25] WARNING: C:\\buildkite-agent\\builds\\buildkite-windows-cpu-autoscaling-group-i-0c55ff5f71b100e98-1\\xgboost\\xgboost-ci-windows\\src\\learner.cc:740: \n",
      "Parameters: { \"use_label_encoder\" } are not used.\n",
      "\n",
      "  warnings.warn(smsg, UserWarning)\n"
     ]
    },
    {
     "name": "stdout",
     "output_type": "stream",
     "text": [
      "Accuracy of train: 0.9269\n",
      "F1 Macro (Train): 0.9046\n",
      "Accuracy of val: 0.8051\n",
      "\u001b[1mF1 Macro (Val)\u001b[0m: 0.7013\n",
      "Precision (Val): 0.7930\n",
      "Recall (Val): 0.6587\n",
      "\n",
      "Confusion Matrix for Validation Data:\n",
      "[[ 124   35  129]\n",
      " [  17  225  143]\n",
      " [  14   34 1188]]\n",
      "\n",
      "Classification Report for Validation Data:\n",
      "              precision    recall  f1-score   support\n",
      "\n",
      "           0       0.80      0.43      0.56       288\n",
      "           1       0.77      0.58      0.66       385\n",
      "           2       0.81      0.96      0.88      1236\n",
      "\n",
      "    accuracy                           0.81      1909\n",
      "   macro avg       0.79      0.66      0.70      1909\n",
      "weighted avg       0.80      0.81      0.79      1909\n",
      "\n"
     ]
    }
   ],
   "source": [
    "# WITHOUT SMOTE\n",
    "\n",
    "clf_xgb = xgb.XGBClassifier(\n",
    "    n_estimators=100,\n",
    "    max_depth=4,\n",
    "    learning_rate=0.1,\n",
    "    use_label_encoder=False,\n",
    "    eval_metric='mlogloss',\n",
    "    random_state=13)\n",
    "\n",
    "clf_xgb.fit(X_train_roberta, y_train_raw)\n",
    "\n",
    "y_pred_train = clf_xgb.predict(X_train_roberta)\n",
    "y_pred_val = clf_xgb.predict(X_val_roberta)\n",
    "\n",
    "xgb_train_acc, xgb_train_f1, xgb_val_acc, xgb_val_f1 = evaluate_model_predictions(\n",
    "    y_pred_train, y_pred_val, y_train=y_train_raw, y_val=y_val_raw, \n",
    "    show_confusion_matrix=True, show_classification_report=True)"
   ]
  },
  {
   "cell_type": "code",
   "execution_count": 117,
   "id": "4b025e8b",
   "metadata": {},
   "outputs": [
    {
     "name": "stderr",
     "output_type": "stream",
     "text": [
      "c:\\Users\\Rafael\\anaconda3\\Lib\\site-packages\\xgboost\\core.py:158: UserWarning: [10:16:32] WARNING: C:\\buildkite-agent\\builds\\buildkite-windows-cpu-autoscaling-group-i-0c55ff5f71b100e98-1\\xgboost\\xgboost-ci-windows\\src\\learner.cc:740: \n",
      "Parameters: { \"use_label_encoder\" } are not used.\n",
      "\n",
      "  warnings.warn(smsg, UserWarning)\n"
     ]
    },
    {
     "name": "stdout",
     "output_type": "stream",
     "text": [
      "Accuracy of train: 0.9189\n",
      "F1 Macro (Train): 0.8995\n",
      "Accuracy of val: 0.7978\n",
      "\u001b[1mF1 Macro (Val)\u001b[0m: 0.7225\n",
      "Precision (Val): 0.7222\n",
      "Recall (Val): 0.7228\n",
      "\n",
      "Confusion Matrix for Validation Data:\n",
      "[[ 177   43   68]\n",
      " [  43  260   82]\n",
      " [  74   76 1086]]\n",
      "\n",
      "Classification Report for Validation Data:\n",
      "              precision    recall  f1-score   support\n",
      "\n",
      "           0       0.60      0.61      0.61       288\n",
      "           1       0.69      0.68      0.68       385\n",
      "           2       0.88      0.88      0.88      1236\n",
      "\n",
      "    accuracy                           0.80      1909\n",
      "   macro avg       0.72      0.72      0.72      1909\n",
      "weighted avg       0.80      0.80      0.80      1909\n",
      "\n"
     ]
    }
   ],
   "source": [
    "# WITH SMOTE\n",
    "\n",
    "clf_xgb = xgb.XGBClassifier(\n",
    "    n_estimators=100,\n",
    "    max_depth=4,\n",
    "    learning_rate=0.1,\n",
    "    use_label_encoder=False,\n",
    "    eval_metric='mlogloss',\n",
    "    random_state=13)\n",
    "\n",
    "clf_xgb.fit(X_train_roberta_resampled, y_train_resampled)\n",
    "\n",
    "y_pred_train = clf_xgb.predict(X_train_roberta)\n",
    "y_pred_val = clf_xgb.predict(X_val_roberta)\n",
    "\n",
    "xgb_train_acc, xgb_train_f1, xgb_val_acc, xgb_val_f1 = evaluate_model_predictions(\n",
    "    y_pred_train, y_pred_val, y_train=y_train_raw, y_val=y_val_raw, \n",
    "    show_confusion_matrix=True, show_classification_report=True)"
   ]
  },
  {
   "cell_type": "markdown",
   "id": "5ef26492",
   "metadata": {},
   "source": [
    "Here, we applied XGBoost, a well known model for its speed, performance, and effectiveness in handling structured data and classification problems (it works by sequentially training models where each new model aims to correct the errors made by its predecessors), using the RoBERTa embeddings, as this representation consistently delivered the best results across our earlier tests. Additionally, we explored the use of SMOTE (Synthetic Minority Over-sampling Technique) to address class imbalance and assess whether it could further improve the model’s performance.\n",
    "\n",
    "We observed that without SMOTE, the model already achieved strong performance, with a validation accuracy of 0.8051 and a macro F1 score of 0.7013, alongside solid precision and recall values. When using SMOTE, the results changed only slightly, accuracy decreased to 0.7978, while the macro F1 score improved marginally to 0.7225. These results suggest that SMOTE did not significantly enhance the model, likely because the RoBERTa embeddings already captured meaningful and separable representations of the data."
   ]
  },
  {
   "cell_type": "markdown",
   "id": "f15f3216",
   "metadata": {},
   "source": [
    "### 2.2.7. Ensemble Model with Voting Classifier Combining Logistic Regression, MLP, and XGBoost"
   ]
  },
  {
   "cell_type": "code",
   "execution_count": 124,
   "id": "40921e85",
   "metadata": {},
   "outputs": [
    {
     "name": "stderr",
     "output_type": "stream",
     "text": [
      "c:\\Users\\Rafael\\anaconda3\\Lib\\site-packages\\xgboost\\core.py:158: UserWarning: [10:36:11] WARNING: C:\\buildkite-agent\\builds\\buildkite-windows-cpu-autoscaling-group-i-0c55ff5f71b100e98-1\\xgboost\\xgboost-ci-windows\\src\\learner.cc:740: \n",
      "Parameters: { \"use_label_encoder\" } are not used.\n",
      "\n",
      "  warnings.warn(smsg, UserWarning)\n"
     ]
    },
    {
     "name": "stdout",
     "output_type": "stream",
     "text": [
      "Accuracy of train: 0.9999\n",
      "F1 Macro (Train): 0.9999\n",
      "Accuracy of val: 0.8460\n",
      "\u001b[1mF1 Macro (Val)\u001b[0m: 0.7843\n",
      "Precision (Val): 0.8005\n",
      "Recall (Val): 0.7708\n",
      "\n",
      "Confusion Matrix for Validation Data:\n",
      "[[ 195   26   67]\n",
      " [  31  272   82]\n",
      " [  48   40 1148]]\n",
      "\n",
      "Classification Report for Validation Data:\n",
      "              precision    recall  f1-score   support\n",
      "\n",
      "           0       0.71      0.68      0.69       288\n",
      "           1       0.80      0.71      0.75       385\n",
      "           2       0.89      0.93      0.91      1236\n",
      "\n",
      "    accuracy                           0.85      1909\n",
      "   macro avg       0.80      0.77      0.78      1909\n",
      "weighted avg       0.84      0.85      0.84      1909\n",
      "\n"
     ]
    }
   ],
   "source": [
    "clf1 = LogisticRegression(class_weight='balanced', max_iter=1000)\n",
    "clf2 = MLPClassifier(hidden_layer_sizes=(256, 128), max_iter=300)\n",
    "clf3 = xgb.XGBClassifier(use_label_encoder=False, eval_metric='mlogloss')\n",
    "\n",
    "ensemble = VotingClassifier(estimators=[\n",
    "    ('lr', clf1), ('mlp', clf2), ('xgb', clf3)\n",
    "], voting='hard')\n",
    "\n",
    "ensemble.fit(X_train_roberta, y_train_raw)\n",
    "y_pred_val = ensemble.predict(X_val_roberta)\n",
    "\n",
    "ensemble_train_acc, ensemble_train_f1, ensemble_val_acc, ensemble_val_f1 = evaluate_model_predictions(\n",
    "    y_pred_train, y_pred_val, y_train=y_train_raw, y_val=y_val_raw, \n",
    "    show_confusion_matrix=True, show_classification_report=True)"
   ]
  },
  {
   "cell_type": "markdown",
   "id": "852091c8",
   "metadata": {},
   "source": [
    "It is possible to see that the ensemble model is overfitting the training data, as it achieves significantly better performance on the training set compared to the validation set. To address this overfitting issue, we applied SMOTE to balance the training data and improve generalization, as shown in the following code."
   ]
  },
  {
   "cell_type": "code",
   "execution_count": 125,
   "id": "a15be367",
   "metadata": {},
   "outputs": [
    {
     "name": "stderr",
     "output_type": "stream",
     "text": [
      "c:\\Users\\Rafael\\anaconda3\\Lib\\site-packages\\xgboost\\core.py:158: UserWarning: [10:37:05] WARNING: C:\\buildkite-agent\\builds\\buildkite-windows-cpu-autoscaling-group-i-0c55ff5f71b100e98-1\\xgboost\\xgboost-ci-windows\\src\\learner.cc:740: \n",
      "Parameters: { \"use_label_encoder\" } are not used.\n",
      "\n",
      "  warnings.warn(smsg, UserWarning)\n"
     ]
    },
    {
     "name": "stdout",
     "output_type": "stream",
     "text": [
      "Accuracy of train: 0.9456\n",
      "F1 Macro (Train): 0.9292\n",
      "Accuracy of val: 0.8371\n",
      "\u001b[1mF1 Macro (Val)\u001b[0m: 0.7631\n",
      "Precision (Val): 0.8037\n",
      "Recall (Val): 0.7345\n",
      "\n",
      "Confusion Matrix for Validation Data:\n",
      "[[ 168   25   95]\n",
      " [  28  259   98]\n",
      " [  34   31 1171]]\n",
      "\n",
      "Classification Report for Validation Data:\n",
      "              precision    recall  f1-score   support\n",
      "\n",
      "           0       0.73      0.58      0.65       288\n",
      "           1       0.82      0.67      0.74       385\n",
      "           2       0.86      0.95      0.90      1236\n",
      "\n",
      "    accuracy                           0.84      1909\n",
      "   macro avg       0.80      0.73      0.76      1909\n",
      "weighted avg       0.83      0.84      0.83      1909\n",
      "\n"
     ]
    }
   ],
   "source": [
    "# Logistic Regression with stronger regularization\n",
    "clf1 = LogisticRegression(class_weight='balanced', max_iter=1000, C=0.5)  # lower C = more regularization\n",
    "\n",
    "# MLP with L2 regularization and early stopping (uses internal validation)\n",
    "clf2 = MLPClassifier(hidden_layer_sizes=(256, 128), max_iter=300, alpha=0.001, early_stopping=True, validation_fraction=0.1, n_iter_no_change=10, random_state=42)\n",
    "\n",
    "# XGBoost with early stopping and regularization\n",
    "clf3 = xgb.XGBClassifier(\n",
    "    use_label_encoder=False,\n",
    "    eval_metric='mlogloss',\n",
    "    n_estimators=100,  # fewer trees to reduce overfitting\n",
    "    learning_rate=0.1,\n",
    "    reg_alpha=0.1,\n",
    "    reg_lambda=1,\n",
    "    random_state=13)\n",
    "\n",
    "# Create a soft voting ensemble from the three models\n",
    "ensemble = VotingClassifier(\n",
    "    estimators=[('lr', clf1), ('mlp', clf2), ('xgb', clf3)],\n",
    "    voting='soft')\n",
    "\n",
    "# Train the ensemble model\n",
    "ensemble.fit(X_train_roberta, y_train_raw)\n",
    "\n",
    "# Make predictions\n",
    "y_pred_train = ensemble.predict(X_train_roberta)\n",
    "y_pred_val = ensemble.predict(X_val_roberta)\n",
    "\n",
    "# Evaluate performance\n",
    "ensemble_train_acc, ensemble_train_f1, ensemble_val_acc, ensemble_val_f1 = evaluate_model_predictions(\n",
    "    y_pred_train, y_pred_val, y_train=y_train_raw, y_val=y_val_raw, \n",
    "    show_confusion_matrix=True, show_classification_report=True)"
   ]
  },
  {
   "cell_type": "markdown",
   "id": "36a7e521",
   "metadata": {},
   "source": [
    "Here we tested an ensemble model using a soft voting strategy that combines three strong classifiers: Logistic Regression, MLP, and XGBoost. Each of these models was configured with regularization techniques to reduce overfitting. Initially, we noticed that the ensemble model performed exceptionally well on the training data, achieving almost perfect accuracy and macro F1-score, clear signs of overfitting. However, after applying SMOTE to balance the training set, the model’s generalization improved significantly. The validation results became much more reliable, reaching the best performance metrics recorded so far: 83.71% accuracy and a macro F1-score of 0.7631. These outcomes demonstrate that SMOTE not only helped reduce the overfitting effect but also enabled the ensemble model to capture meaningful patterns across all classes more effectively."
   ]
  },
  {
   "cell_type": "markdown",
   "id": "079fdbd2",
   "metadata": {},
   "source": [
    "### 2.2.8. RoBERTa (Hugging Face Pipeline)"
   ]
  },
  {
   "cell_type": "code",
   "execution_count": 132,
   "id": "da232b96",
   "metadata": {},
   "outputs": [
    {
     "name": "stderr",
     "output_type": "stream",
     "text": [
      "Device set to use cpu\n",
      "Asking to truncate to max_length but no maximum length is provided and the model has no predefined maximum length. Default to no truncation.\n"
     ]
    },
    {
     "name": "stdout",
     "output_type": "stream",
     "text": [
      "Hugging Face model predictions:\n",
      "Accuracy: 0.2404\n",
      "F1 Score (macro): 0.2899\n",
      "\n",
      "Classification Report:\n",
      "               precision    recall  f1-score   support\n",
      "\n",
      "           0       0.50      0.47      0.48       288\n",
      "           1       0.16      0.58      0.25       385\n",
      "           2       0.40      0.08      0.14      1236\n",
      "\n",
      "    accuracy                           0.24      1909\n",
      "   macro avg       0.35      0.38      0.29      1909\n",
      "weighted avg       0.36      0.24      0.21      1909\n",
      "\n",
      "Confusion Matrix:\n",
      " [[ 134  154    0]\n",
      " [   7  222  156]\n",
      " [ 129 1004  103]]\n"
     ]
    }
   ],
   "source": [
    "MODEL = \"cardiffnlp/twitter-roberta-base-sentiment\"\n",
    "\n",
    "# Load Hugging Face pipeline\n",
    "hf_classifier = pipeline(\n",
    "    \"text-classification\",\n",
    "    model=MODEL,\n",
    "    tokenizer=MODEL,\n",
    "    device=0 if torch.cuda.is_available() else -1,\n",
    "    truncation=True\n",
    ")\n",
    "\n",
    "# Make predictions\n",
    "preds = hf_classifier(list(X_val_raw))\n",
    "\n",
    "# Map model's labels to integers\n",
    "label_to_int = {\"LABEL_0\": 0, \"LABEL_1\": 1, \"LABEL_2\": 2}\n",
    "y_pred_val = [label_to_int[pred['label']] for pred in preds]\n",
    "\n",
    "# Evaluation\n",
    "def evaluate_model_predictions1(y_pred_val, y_val):\n",
    "    \"\"\"\n",
    "    Evaluate and display performance metrics for classification model predictions.\n",
    "\n",
    "    This function calculates and prints the accuracy and macro-averaged F1-score\n",
    "    for a given set of predicted and true labels. It also displays the full \n",
    "    classification report and the confusion matrix.\n",
    "\n",
    "    Parameters:\n",
    "    y_pred_val (array-like): Predicted class labels for the validation set.\n",
    "    y_val (array-like): True class labels for the validation set.\n",
    "\n",
    "    Returns:\n",
    "    None\n",
    "    \"\"\"\n",
    "\n",
    "    acc = accuracy_score(y_val, y_pred_val)\n",
    "    f1 = f1_score(y_val, y_pred_val, average='macro')\n",
    "    print(f\"Accuracy: {acc:.4f}\")\n",
    "    print(f\"F1 Score (macro): {f1:.4f}\")\n",
    "    print(\"\\nClassification Report:\\n\", classification_report(y_val, y_pred_val))\n",
    "    print(\"Confusion Matrix:\\n\", confusion_matrix(y_val, y_pred_val))\n",
    "\n",
    "print(\"Hugging Face model predictions:\")\n",
    "evaluate_model_predictions1(y_pred_val, y_val_raw)\n"
   ]
  },
  {
   "cell_type": "markdown",
   "id": "4f26a5e5",
   "metadata": {},
   "source": [
    "facebook/bart-large-mnli"
   ]
  },
  {
   "cell_type": "markdown",
   "id": "5e3b829e",
   "metadata": {},
   "source": [
    "terrble results"
   ]
  },
  {
   "cell_type": "markdown",
   "id": "35416174",
   "metadata": {},
   "source": [
    "<a class=\"anchor\" id=\"twelve-bullet\"> \n",
    "<d style=\"color:white;\">\n",
    "\n",
    "## 2.3. Evaluation\n",
    "</a> \n",
    "</d> "
   ]
  },
  {
   "cell_type": "markdown",
   "id": "c735f844",
   "metadata": {},
   "source": [
    "Naive Bayes and Logistic Regression - BOW vs TF-IDF"
   ]
  },
  {
   "cell_type": "code",
   "execution_count": null,
   "id": "719b6ab0",
   "metadata": {},
   "outputs": [
    {
     "data": {
      "application/vnd.microsoft.datawrangler.viewer.v0+json": {
       "columns": [
        {
         "name": "Simple Models",
         "rawType": "object",
         "type": "string"
        },
        {
         "name": "Train Accuracy",
         "rawType": "float64",
         "type": "float"
        },
        {
         "name": "Val Accuracy",
         "rawType": "float64",
         "type": "float"
        },
        {
         "name": "Train F1 Score",
         "rawType": "float64",
         "type": "float"
        },
        {
         "name": "Val F1 Score",
         "rawType": "float64",
         "type": "float"
        }
       ],
       "ref": "537a654a-53bf-42a8-8be3-cfb45ddd0687",
       "rows": [
        [
         "NB_BOW",
         "0.8821063662562222",
         "0.7674174960712414",
         "0.8438239742877064",
         "0.673453170219282"
        ],
        [
         "NB_IDF",
         "0.7843856431752685",
         "0.7312729177579885",
         "0.6406208381729507",
         "0.5216589955678531"
        ],
        [
         "LR_BOW",
         "0.957165313073094",
         "0.785227867993714",
         "0.9422213184339857",
         "0.68377028598479"
        ],
        [
         "LR_IDF",
         "0.8523709719675138",
         "0.7647983237297015",
         "0.782609180561456",
         "0.34407804736286246"
        ]
       ],
       "shape": {
        "columns": 4,
        "rows": 4
       }
      },
      "text/html": [
       "<div>\n",
       "<style scoped>\n",
       "    .dataframe tbody tr th:only-of-type {\n",
       "        vertical-align: middle;\n",
       "    }\n",
       "\n",
       "    .dataframe tbody tr th {\n",
       "        vertical-align: top;\n",
       "    }\n",
       "\n",
       "    .dataframe thead th {\n",
       "        text-align: right;\n",
       "    }\n",
       "</style>\n",
       "<table border=\"1\" class=\"dataframe\">\n",
       "  <thead>\n",
       "    <tr style=\"text-align: right;\">\n",
       "      <th></th>\n",
       "      <th>Train Accuracy</th>\n",
       "      <th>Val Accuracy</th>\n",
       "      <th>Train F1 Score</th>\n",
       "      <th>Val F1 Score</th>\n",
       "    </tr>\n",
       "    <tr>\n",
       "      <th>Simple Models</th>\n",
       "      <th></th>\n",
       "      <th></th>\n",
       "      <th></th>\n",
       "      <th></th>\n",
       "    </tr>\n",
       "  </thead>\n",
       "  <tbody>\n",
       "    <tr>\n",
       "      <th>NB_BOW</th>\n",
       "      <td>0.882106</td>\n",
       "      <td>0.767417</td>\n",
       "      <td>0.843824</td>\n",
       "      <td>0.673453</td>\n",
       "    </tr>\n",
       "    <tr>\n",
       "      <th>NB_IDF</th>\n",
       "      <td>0.784386</td>\n",
       "      <td>0.731273</td>\n",
       "      <td>0.640621</td>\n",
       "      <td>0.521659</td>\n",
       "    </tr>\n",
       "    <tr>\n",
       "      <th>LR_BOW</th>\n",
       "      <td>0.957165</td>\n",
       "      <td>0.785228</td>\n",
       "      <td>0.942221</td>\n",
       "      <td>0.683770</td>\n",
       "    </tr>\n",
       "    <tr>\n",
       "      <th>LR_IDF</th>\n",
       "      <td>0.852371</td>\n",
       "      <td>0.764798</td>\n",
       "      <td>0.782609</td>\n",
       "      <td>0.344078</td>\n",
       "    </tr>\n",
       "  </tbody>\n",
       "</table>\n",
       "</div>"
      ],
      "text/plain": [
       "               Train Accuracy  Val Accuracy  Train F1 Score  Val F1 Score\n",
       "Simple Models                                                            \n",
       "NB_BOW               0.882106      0.767417        0.843824      0.673453\n",
       "NB_IDF               0.784386      0.731273        0.640621      0.521659\n",
       "LR_BOW               0.957165      0.785228        0.942221      0.683770\n",
       "LR_IDF               0.852371      0.764798        0.782609      0.344078"
      ]
     },
     "execution_count": 37,
     "metadata": {},
     "output_type": "execute_result"
    }
   ],
   "source": [
    "# Define model results dictionary\n",
    "\n",
    "model_results = {\n",
    "    'Simple Models': [\n",
    "        'NB_BOW', 'NB_IDF', 'LR_BOW', 'LR_IDF', \n",
    "    ],\n",
    "    'Train Accuracy': [\n",
    "        nb_bow_train_accuracy, nb_idf_train_accuracy, lr_bow_train_accuracy, lr_idf_train_accuracy\n",
    "    ],\n",
    "    'Val Accuracy': [\n",
    "        nb_bow_val_accuracy, nb_idf_val_accuracy, lr_bow_val_accuracy, lr_idf_val_accuracy,\n",
    "    ],\n",
    "    'Train F1 Score': [\n",
    "        nb_bow_train_f1_macro, nb_idf_train_f1_macro, lr_bow_train_f1_macro, lr_idf_train_f1_macro, \n",
    "    ],\n",
    "    'Val F1 Score': [\n",
    "        nb_bow_val_f1_macro, nb_idf_val_f1_macro, lr_bow_val_f1_macro, lr_idf_val_f1_macro\n",
    "    ]\n",
    "}\n",
    "\n",
    "# Create DataFrame with the results\n",
    "results_models = pd.DataFrame(model_results)\n",
    "\n",
    "# Set 'Simple Models' column as the index\n",
    "results_models.set_index('Simple Models', inplace=True)\n",
    "\n",
    "results_models"
   ]
  },
  {
   "cell_type": "code",
   "execution_count": null,
   "id": "2878b493",
   "metadata": {},
   "outputs": [
    {
     "data": {
      "image/png": "[encoded data removed]",
      "text/plain": [
       "<Figure size 1000x600 with 1 Axes>"
      ]
     },
     "metadata": {},
     "output_type": "display_data"
    }
   ],
   "source": [
    "model_names = results_models.index\n",
    "\n",
    "train_accuracy = results_models['Train Accuracy']\n",
    "val_accuracy = results_models['Val Accuracy']\n",
    "train_f1 = results_models['Train F1 Score']\n",
    "val_f1 = results_models['Val F1 Score']\n",
    "\n",
    "bar_width = 0.3\n",
    "index = np.arange(len(model_names))\n",
    "\n",
    "fig, ax = plt.subplots(figsize=(10, 6))\n",
    "\n",
    "bar_tra = ax.bar(index - bar_width / 2, train_accuracy, bar_width, label='Train Accuracy', color='#1F77B4' )\n",
    "bar_ta = ax.bar(index - bar_width / 2, val_accuracy, bar_width, label='Val Accuracy', color='#AEC7E8')\n",
    "\n",
    "bar_trf = ax.bar(index + bar_width / 2, train_f1, bar_width, label='Train F1 Score', alpha=0.7, color= '#2CA02C' )\n",
    "bar_tf = ax.bar(index + bar_width / 2, val_f1, bar_width, label='Val F1 Score', alpha=0.7, color='#98DF8A')\n",
    "\n",
    "ax.set_ylabel('Scores', fontsize=12)\n",
    "ax.set_title('Comparison of Model Performance (Accuracy & F1 Score)', fontsize=14)\n",
    "\n",
    "ax.set_xticks(index)\n",
    "ax.set_xticklabels(model_names)\n",
    "\n",
    "ax.legend()\n",
    "\n",
    "plt.tight_layout()\n",
    "plt.show()\n"
   ]
  },
  {
   "cell_type": "markdown",
   "id": "5703320f",
   "metadata": {},
   "source": [
    "The best model is... so we will do the val set with those predictions"
   ]
  },
  {
   "cell_type": "code",
   "execution_count": null,
   "id": "86b34b3b",
   "metadata": {},
   "outputs": [],
   "source": [
    "#y_pred_val =lr.predict(X_val_tfidf)\n",
    "\n",
    "\n",
    "# ids = pd.DataFrame(df_val.index) \n",
    "# predict_df = pd.DataFrame(y_pred_val, columns=['label'])\n",
    "\n",
    "# final = pd.concat([ids, predict_df], axis=1)\n",
    "\n",
    "# final.reset_index(drop=True, inplace=True)\n",
    "# final.to_csv('df_val_prediction.csv', index=False)"
   ]
  }
 ],
 "metadata": {
  "kernelspec": {
   "display_name": "base",
   "language": "python",
   "name": "python3"
  },
  "language_info": {
   "codemirror_mode": {
    "name": "ipython",
    "version": 3
   },
   "file_extension": ".py",
   "mimetype": "text/x-python",
   "name": "python",
   "nbconvert_exporter": "python",
   "pygments_lexer": "ipython3",
   "version": "3.12.7"
  }
 },
 "nbformat": 4,
 "nbformat_minor": 5
}
