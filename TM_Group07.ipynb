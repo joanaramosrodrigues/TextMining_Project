{
 "cells": [
  {
   "cell_type": "markdown",
   "id": "5f2fb29e",
   "metadata": {},
   "source": [
    "\n",
    "<div style=\"text-align: center;\">\n",
    "    <strong style=\"display: block; margin-bottom: 10px;\">Group 07</strong> \n",
    "    <table style=\"margin: 0 auto; border-collapse: collapse; border: 1px solid black;\">\n",
    "        <tr>\n",
    "            <th style=\"border: 1px solid white; padding: 8px;\">Name</th>\n",
    "            <th style=\"border: 1px solid white; padding: 8px;\">Student ID</th>\n",
    "        </tr>\n",
    "        <tr>\n",
    "            <td style=\"border: 1px solid white; padding: 8px;\">Joana Rodrigues</td>\n",
    "            <td style=\"border: 1px solid white; padding: 8px;\">20240603</td>\n",
    "        </tr>\n",
    "        <tr>\n",
    "            <td style=\"border: 1px solid white; padding: 8px;\">Mara Simões</td>\n",
    "            <td style=\"border: 1px solid white; padding: 8px;\">20240326</td>\n",
    "        </tr>\n",
    "        <tr>\n",
    "            <td style=\"border: 1px solid white; padding: 8px;\">Matilde Street</td>\n",
    "            <td style=\"border: 1px solid white; padding: 8px;\">20240523</td>\n",
    "        </tr>\n",
    "        <tr>\n",
    "            <td style=\"border: 1px solid white; padding: 8px;\">Rafael Silva</td>\n",
    "            <td style=\"border: 1px solid white; padding: 8px;\">20240511</td>\n",
    "        </tr>\n",
    "    </table>\n",
    "</div>"
   ]
  },
  {
   "cell_type": "markdown",
   "id": "6d310e24",
   "metadata": {},
   "source": [
    "### 🔗 Table of Contents <a id='table-of-contents'></a>\n",
    "1. [Imports](#imports)\n",
    "---"
   ]
  },
  {
   "cell_type": "markdown",
   "id": "89f8dcf8",
   "metadata": {},
   "source": [
    "# 1. Imports\n",
    "## 1.1. Import Libraries"
   ]
  },
  {
   "cell_type": "code",
   "execution_count": 1,
   "id": "5ead8c5e",
   "metadata": {},
   "outputs": [
    {
     "ename": "ImportError",
     "evalue": "cannot import name 'train_val_split' from 'sklearn.model_selection' (c:\\Users\\joana\\anaconda3\\Lib\\site-packages\\sklearn\\model_selection\\__init__.py)",
     "output_type": "error",
     "traceback": [
      "\u001b[1;31m---------------------------------------------------------------------------\u001b[0m",
      "\u001b[1;31mImportError\u001b[0m                               Traceback (most recent call last)",
      "Cell \u001b[1;32mIn[1], line 7\u001b[0m\n\u001b[0;32m      5\u001b[0m \u001b[38;5;28;01mfrom\u001b[39;00m \u001b[38;5;21;01mtqdm\u001b[39;00m \u001b[38;5;28;01mimport\u001b[39;00m tqdm\n\u001b[0;32m      6\u001b[0m \u001b[38;5;28;01mfrom\u001b[39;00m \u001b[38;5;21;01msklearn\u001b[39;00m\u001b[38;5;21;01m.\u001b[39;00m\u001b[38;5;21;01mmetrics\u001b[39;00m \u001b[38;5;28;01mimport\u001b[39;00m accuracy_score, f1_score, classification_report, confusion_matrix\n\u001b[1;32m----> 7\u001b[0m \u001b[38;5;28;01mfrom\u001b[39;00m \u001b[38;5;21;01msklearn\u001b[39;00m\u001b[38;5;21;01m.\u001b[39;00m\u001b[38;5;21;01mmodel_selection\u001b[39;00m \u001b[38;5;28;01mimport\u001b[39;00m train_val_split\n\u001b[0;32m      8\u001b[0m \u001b[38;5;28;01mfrom\u001b[39;00m \u001b[38;5;21;01msklearn\u001b[39;00m\u001b[38;5;21;01m.\u001b[39;00m\u001b[38;5;21;01mfeature_extraction\u001b[39;00m\u001b[38;5;21;01m.\u001b[39;00m\u001b[38;5;21;01mtext\u001b[39;00m \u001b[38;5;28;01mimport\u001b[39;00m CountVectorizer, TfidfVectorizer\n\u001b[0;32m      9\u001b[0m \u001b[38;5;28;01mfrom\u001b[39;00m \u001b[38;5;21;01mgensim\u001b[39;00m\u001b[38;5;21;01m.\u001b[39;00m\u001b[38;5;21;01mmodels\u001b[39;00m \u001b[38;5;28;01mimport\u001b[39;00m Word2Vec\n",
      "\u001b[1;31mImportError\u001b[0m: cannot import name 'train_val_split' from 'sklearn.model_selection' (c:\\Users\\joana\\anaconda3\\Lib\\site-packages\\sklearn\\model_selection\\__init__.py)"
     ]
    }
   ],
   "source": [
    "import pandas as pd\n",
    "import matplotlib.pyplot as plt\n",
    "import seaborn as sns\n",
    "import numpy as np\n",
    "from tqdm import tqdm\n",
    "from sklearn.metrics import accuracy_score, f1_score, classification_report, confusion_matrix\n",
    "from sklearn.model_selection import train_val_split\n",
    "from sklearn.feature_extraction.text import CountVectorizer, TfidfVectorizer\n",
    "from gensim.models import Word2Vec\n",
    "from sklearn.linear_model import LogisticRegression\n",
    "from sklearn.neighbors import KNeighborsClassifier\n"
   ]
  },
  {
   "cell_type": "code",
   "execution_count": null,
   "id": "8060416b",
   "metadata": {},
   "outputs": [],
   "source": [
    "import nltk\n",
    "from nltk.tokenize import word_tokenize\n",
    "import string\n",
    "from nltk.corpus import stopwords\n",
    "import re\n",
    "from nltk.stem import SnowballStemmer\n",
    "from nltk.stem.wordnet import WordNetLemmatizer\n",
    "from tqdm import tqdm\n",
    "\n",
    "\n",
    "# # # Download NLTK resources\n",
    "# nltk.download('punkt')\n",
    "# nltk.download('punkt_tab')\n",
    "# nltk.download('wordnet')\n",
    "# nltk.download('omw-1.4')\n",
    "# nltk.download('stopwords')\n",
    "# nltk.download('wordnet')"
   ]
  },
  {
   "cell_type": "markdown",
   "id": "a820f1ef",
   "metadata": {},
   "source": [
    "## 1.2. Import Dataset"
   ]
  },
  {
   "cell_type": "code",
   "execution_count": null,
   "id": "acf844d6",
   "metadata": {},
   "outputs": [
    {
     "name": "stdout",
     "output_type": "stream",
     "text": [
      "                                                text  label\n",
      "0  $BYND - JPMorgan reels in expectations on Beyo...      0\n",
      "1  $CCL $RCL - Nomura points to bookings weakness...      0\n",
      "2  $CX - Cemex cut at Credit Suisse, J.P. Morgan ...      0\n",
      "3  $ESS: BTIG Research cuts to Neutral https://t....      0\n",
      "4  $FNKO - Funko slides after Piper Jaffray PT cu...      0\n"
     ]
    }
   ],
   "source": [
    "df_train = pd.read_csv('train.csv')\n",
    "df_val = pd.read_csv('val.csv')\n",
    "df_train = pd.DataFrame(data=df_train, columns=['text', 'label']).reset_index(drop=True)\n",
    "df_val = pd.DataFrame(data=df_val, columns=['text', 'label']).reset_index(drop=True)\n",
    "\n",
    "print(df_train.head())"
   ]
  },
  {
   "cell_type": "markdown",
   "id": "33a2f83d",
   "metadata": {},
   "source": [
    "# 2. Exploratory Data Analysis"
   ]
  },
  {
   "cell_type": "code",
   "execution_count": null,
   "id": "1f874aa1",
   "metadata": {},
   "outputs": [
    {
     "name": "stdout",
     "output_type": "stream",
     "text": [
      "Initial dataset contains  9543 rows and  2 columns\n"
     ]
    }
   ],
   "source": [
    "print('Initial dataset contains ', df_train.shape[0], 'rows and ', df_train.shape[1], 'columns')"
   ]
  },
  {
   "cell_type": "code",
   "execution_count": null,
   "id": "ed3bdd26",
   "metadata": {},
   "outputs": [
    {
     "name": "stdout",
     "output_type": "stream",
     "text": [
      "The dataset contains 3 unique labels to predict.\n",
      "label\n",
      "2    6178\n",
      "1    1923\n",
      "0    1442\n",
      "Name: count, dtype: int64\n"
     ]
    },
    {
     "data": {
      "image/png": "[encoded data removed]",
      "text/plain": [
       "<Figure size 640x480 with 1 Axes>"
      ]
     },
     "metadata": {},
     "output_type": "display_data"
    }
   ],
   "source": [
    "print('The dataset contains', df_train['label'].nunique(), 'unique labels to predict.')\n",
    "print(df_train['label'].value_counts())\n",
    "# Visualize distribution of satisfaction\n",
    "sns.countplot(data=df_train, x='label')\n",
    "plt.title(\"Distribution of Scores\")\n",
    "plt.xlabel(\"Score\")\n",
    "plt.ylabel(\"Count\")\n",
    "plt.show()"
   ]
  },
  {
   "cell_type": "markdown",
   "id": "6b4cb9b9",
   "metadata": {},
   "source": [
    "To see the words that appear the most in our dataset"
   ]
  },
  {
   "cell_type": "code",
   "execution_count": null,
   "id": "3c9da84a",
   "metadata": {},
   "outputs": [
    {
     "data": {
      "text/plain": [
       "to     2332\n",
       "the    1820\n",
       "of     1464\n",
       "-      1390\n",
       "in     1361\n",
       "on     1136\n",
       "for    1032\n",
       "a       970\n",
       "and     898\n",
       "The     663\n",
       "Name: count, dtype: int64"
      ]
     },
     "execution_count": 6,
     "metadata": {},
     "output_type": "execute_result"
    }
   ],
   "source": [
    "all_words = ' '.join(df_train['text']).split()\n",
    "freq = pd.Series(all_words).value_counts()\n",
    "freq.sort_values(ascending=False)[0:10]"
   ]
  },
  {
   "cell_type": "markdown",
   "id": "dcc61516",
   "metadata": {},
   "source": [
    "There appears the same word 'the' for example twice because it is in lower and upper case. Therefore we will have to deal with that in the preprocessing steps."
   ]
  },
  {
   "cell_type": "markdown",
   "id": "b172b299",
   "metadata": {},
   "source": [
    "# 3. Exploratory Data Analysis\n",
    "## 3.1. Missing values"
   ]
  },
  {
   "cell_type": "code",
   "execution_count": null,
   "id": "4990d9a0",
   "metadata": {},
   "outputs": [
    {
     "name": "stdout",
     "output_type": "stream",
     "text": [
      "There are no missing values in the dataset\n"
     ]
    }
   ],
   "source": [
    "if df_train.isnull().sum().sum() > 0:\n",
    "    print('There are missing values in the dataset')\n",
    "else: \n",
    "    print('There are no missing values in the dataset')  \n"
   ]
  },
  {
   "cell_type": "markdown",
   "id": "32a5a17d",
   "metadata": {},
   "source": [
    "## 3.2. Feature engineering"
   ]
  },
  {
   "cell_type": "code",
   "execution_count": null,
   "id": "4b193f6b",
   "metadata": {},
   "outputs": [],
   "source": [
    "df_train['text_length'] = df_train['text'].apply(len)\n",
    "df_train['word_count']  = df_train['text'].apply(lambda x: len(str(x).split(\" \")))\n"
   ]
  },
  {
   "cell_type": "code",
   "execution_count": null,
   "id": "5e1c656d",
   "metadata": {},
   "outputs": [
    {
     "data": {
      "image/png": "[encoded data removed]",
      "text/plain": [
       "<Figure size 640x480 with 1 Axes>"
      ]
     },
     "metadata": {},
     "output_type": "display_data"
    }
   ],
   "source": [
    "#Plot distribution of text length\n",
    "sns.histplot(df_train['word_count'], bins=15)\n",
    "plt.title(\"Distribution of Text Lengths (raw text)\")\n",
    "plt.xlabel(\"Length of text\")\n",
    "plt.ylabel(\"Frequency\")\n",
    "plt.show()"
   ]
  },
  {
   "cell_type": "markdown",
   "id": "26434eaa",
   "metadata": {},
   "source": [
    "## 3.3. Outliers"
   ]
  },
  {
   "cell_type": "code",
   "execution_count": null,
   "id": "ff4ff9b1",
   "metadata": {},
   "outputs": [
    {
     "name": "stdout",
     "output_type": "stream",
     "text": [
      "We will eliminate the texts with less than 18.0 length\n",
      "label\n",
      "2    42\n",
      "1     5\n",
      "Name: count, dtype: int64\n",
      "                   text  label  text_length\n",
      "1858   SASA聚酯选用英威达PTA技术      2           16\n",
      "3090          Brent +4%      1            9\n",
      "3943                 :)      2            2\n",
      "3948            @TicToc      2            7\n",
      "3980      100% Correct!      2           13\n",
      "4358  Cya Jason Garrett      2           17\n",
      "4360               Damn      2            4\n",
      "4440                 F5      2            2\n",
      "4914         Next week.      2           10\n",
      "5006      Racing on Ice      2           13\n",
      "5484    Wholesale Trade      2           15\n",
      "5512         Woke Sachs      2           10\n",
      "5654         $penn coin      2           10\n",
      "6511     Housing Starts      2           14\n",
      "6849     Nasdaq up 0.2%      1           14\n",
      "6990  Averages end flat      2           17\n",
      "7935      $WW heavy....      1           13\n",
      "8055          Long $WMT      1            9\n",
      "8153    $APOP on scans.      2           15\n",
      "8167       $CEI Woke up      2           12\n",
      "8188     $ETSY 37 to 43      2           14\n",
      "8235  $NIO on the move.      2           17\n",
      "8276    $SPY $TNX $ULTA      2           15\n",
      "8277    $SPY $ULTA $BLL      2           15\n",
      "8290              $TSLA      2            5\n",
      "8304  $VIVE taking +10k      2           17\n",
      "8305   $VLRX volume pop      2           16\n",
      "8382               ACHV      2            4\n",
      "8387               AMRN      2            4\n",
      "8420               BWAY      2            4\n",
      "8448               DFND      2            4\n",
      "8470               DMPI      2            4\n",
      "8590               HOML      2            4\n",
      "8616               HSAC      2            4\n",
      "8618              ICYMI      2            5\n",
      "8761                LHC      2            3\n",
      "8762              LHC.U      2            5\n",
      "8763              LHC.W      2            5\n",
      "8764               LJPC      2            4\n",
      "8766               LMPX      2            4\n",
      "8767              LTRPB      2            5\n",
      "8791               PECK      2            4\n",
      "8805              SBFGP      2            5\n",
      "8866      took $PANW #4      2           13\n",
      "8867      took $PLAY #4      2           13\n",
      "8878                WBK      2            3\n",
      "9257    $WORX new highs      1           15\n"
     ]
    }
   ],
   "source": [
    "to_remove = df_train['text_length'].quantile(0.005)\n",
    "\n",
    "print('We will eliminate the texts with less than', to_remove, 'length')  #0.5 percentile\n",
    "\n",
    "#to see where the labels of the errors\n",
    "removed_labels = df_train[df_train['text_length'] < 18]['label'].value_counts()\n",
    "print(removed_labels)\n",
    "\n",
    "#to see what is being eliminated:\n",
    "removed = df_train.loc[df_train['text_length'] < 18, ['text', 'label', 'text_length']]\n",
    "print(removed)\n",
    "\n",
    "df_train = df_train[df_train['text_length'] >= 24]\n",
    "df_train = df_train[df_train['text_length'] >= 24].reset_index(drop=True)"
   ]
  },
  {
   "cell_type": "markdown",
   "id": "8a14c9ac",
   "metadata": {},
   "source": [
    "## 3.4. All text in english\n",
    "Mudança para a mesma lingua (não serviu de nada)"
   ]
  },
  {
   "cell_type": "code",
   "execution_count": null,
   "id": "acd83190",
   "metadata": {},
   "outputs": [],
   "source": [
    "# from langdetect import detect\n",
    "\n",
    "\n",
    "# def detect_language(text):\n",
    "#     try:\n",
    "#         return detect(text)  \n",
    "#     except:\n",
    "#         return 'unknown' \n",
    "\n",
    "# df_train['language'] = df_train['text'].apply(detect_language)\n",
    "\n",
    "# language_distribution = df_train['language'].value_counts()\n",
    "\n",
    "# print(language_distribution)\n",
    "\n",
    "# print( df_train[df_train['language'] == 'unknown'], 'tweets with unknown language.')\n",
    "\n"
   ]
  },
  {
   "cell_type": "code",
   "execution_count": null,
   "id": "9b1a818d",
   "metadata": {},
   "outputs": [],
   "source": [
    "# initial_rows = len(df_train)\n",
    "\n",
    "# language_counts = df_train['language'].value_counts()\n",
    "\n",
    "# languages_to_keep = language_counts[language_counts > 1].index\n",
    "\n",
    "# df_train = df_train[df_train['language'].isin(languages_to_keep)]\n",
    "\n",
    "# final_rows = len(df_train)\n",
    "\n",
    "# removed_rows = initial_rows - final_rows\n",
    "# print(f\"{removed_rows} linhas foram removidas.\")\n"
   ]
  },
  {
   "cell_type": "code",
   "execution_count": null,
   "id": "640f3398",
   "metadata": {},
   "outputs": [],
   "source": [
    "# from googletrans import Translator\n",
    "\n",
    "# translator = Translator()\n",
    "\n",
    "# def translate_to_english(text, detected_language):\n",
    "#     try:\n",
    "#         if detected_language != 'en':\n",
    "#             translated = translator.translate(text, src=detected_language, dest='en')\n",
    "#             return translated.text\n",
    "#         else:\n",
    "#             return text\n",
    "#     except Exception as e:\n",
    "#         print(f\"Error translating text: {e}\")\n",
    "#         return text\n",
    "\n",
    "# df_train['translated_text'] = df_train.apply(\n",
    "#     lambda row: translate_to_english(row['text'], row['language']),\n",
    "#     axis=1)\n",
    "\n",
    "\n",
    "# df_french = df_train[df_train['language'] == 'pt']\n",
    "# df_french[['text', 'clean_text']].head(20)\n",
    "\n"
   ]
  },
  {
   "cell_type": "markdown",
   "id": "92f8f50a",
   "metadata": {},
   "source": [
    "## 3.5. Cleaning text\n",
    "Application of a formula that will:\n",
    "1. Remove the stopwords\n",
    "2. Stemeatize & Lematize\n",
    "3. Put everything in lowercase\n",
    "3. Remove weird characters"
   ]
  },
  {
   "cell_type": "code",
   "execution_count": null,
   "id": "02652f6b",
   "metadata": {},
   "outputs": [
    {
     "name": "stderr",
     "output_type": "stream",
     "text": [
      "100%|██████████| 9459/9459 [00:09<00:00, 1043.65it/s]\n",
      "100%|██████████| 2388/2388 [00:01<00:00, 1787.40it/s]\n"
     ]
    },
    {
     "data": {
      "text/html": [
       "<div>\n",
       "<style scoped>\n",
       "    .dataframe tbody tr th:only-of-type {\n",
       "        vertical-align: middle;\n",
       "    }\n",
       "\n",
       "    .dataframe tbody tr th {\n",
       "        vertical-align: top;\n",
       "    }\n",
       "\n",
       "    .dataframe thead th {\n",
       "        text-align: right;\n",
       "    }\n",
       "</style>\n",
       "<table border=\"1\" class=\"dataframe\">\n",
       "  <thead>\n",
       "    <tr style=\"text-align: right;\">\n",
       "      <th></th>\n",
       "      <th>text</th>\n",
       "      <th>clean_text</th>\n",
       "    </tr>\n",
       "  </thead>\n",
       "  <tbody>\n",
       "    <tr>\n",
       "      <th>0</th>\n",
       "      <td>$BYND - JPMorgan reels in expectations on Beyo...</td>\n",
       "      <td>bynd jpmorgan reel expect beyond meat co bd xb...</td>\n",
       "    </tr>\n",
       "    <tr>\n",
       "      <th>1</th>\n",
       "      <td>$CCL $RCL - Nomura points to bookings weakness...</td>\n",
       "      <td>ccl rcl nomura point book weak carniv royal ca...</td>\n",
       "    </tr>\n",
       "    <tr>\n",
       "      <th>2</th>\n",
       "      <td>$CX - Cemex cut at Credit Suisse, J.P. Morgan ...</td>\n",
       "      <td>cx cemex cut credit suiss j p morgan weak buil...</td>\n",
       "    </tr>\n",
       "    <tr>\n",
       "      <th>3</th>\n",
       "      <td>$ESS: BTIG Research cuts to Neutral https://t....</td>\n",
       "      <td>es btig research cut neutral co mcyftsxc n</td>\n",
       "    </tr>\n",
       "    <tr>\n",
       "      <th>4</th>\n",
       "      <td>$FNKO - Funko slides after Piper Jaffray PT cu...</td>\n",
       "      <td>fnko funko slide piper jaffray pt cut co z ijm...</td>\n",
       "    </tr>\n",
       "  </tbody>\n",
       "</table>\n",
       "</div>"
      ],
      "text/plain": [
       "                                                text  \\\n",
       "0  $BYND - JPMorgan reels in expectations on Beyo...   \n",
       "1  $CCL $RCL - Nomura points to bookings weakness...   \n",
       "2  $CX - Cemex cut at Credit Suisse, J.P. Morgan ...   \n",
       "3  $ESS: BTIG Research cuts to Neutral https://t....   \n",
       "4  $FNKO - Funko slides after Piper Jaffray PT cu...   \n",
       "\n",
       "                                          clean_text  \n",
       "0  bynd jpmorgan reel expect beyond meat co bd xb...  \n",
       "1  ccl rcl nomura point book weak carniv royal ca...  \n",
       "2  cx cemex cut credit suiss j p morgan weak buil...  \n",
       "3         es btig research cut neutral co mcyftsxc n  \n",
       "4  fnko funko slide piper jaffray pt cut co z ijm...  "
      ]
     },
     "execution_count": 14,
     "metadata": {},
     "output_type": "execute_result"
    }
   ],
   "source": [
    "stop = set(stopwords.words('english'))\n",
    "stemmer = SnowballStemmer('english')\n",
    "lemma = WordNetLemmatizer()\n",
    "\n",
    "def clean(text_list, lemmatize=True, stem=False):\n",
    "    cleaned = []\n",
    "\n",
    "    for text in tqdm(text_list):\n",
    "        text = text.lower()\n",
    "\n",
    "        text = re.sub(\"[^a-zA-Z]\", \" \", text)\n",
    "        text = re.sub(\"br\", \"\", text)\n",
    "        text = re.sub(r\"http\\S+\", \"\", text)\n",
    "        text = re.sub(f\"[{re.escape(string.punctuation)}]\", \"\", text)\n",
    "\n",
    "        text = \" \".join([word for word in text.split() if word not in stop])\n",
    "\n",
    "        if lemmatize:\n",
    "            text = \" \".join(lemma.lemmatize(word) for word in text.split())\n",
    "\n",
    "        if stem:\n",
    "            text = \" \".join(stemmer.stem(word) for word in text.split())\n",
    "\n",
    "        cleaned.append(text)\n",
    "\n",
    "    return cleaned\n",
    "\n",
    "df_train['clean_text'] = clean(df_train['text'], lemmatize=True, stem=True)\n",
    "df_val['clean_text'] = clean(df_val['text'], lemmatize=True, stem=True)\n",
    "\n",
    "df_train[['text', 'clean_text']].head()\n"
   ]
  },
  {
   "cell_type": "markdown",
   "id": "122b0123",
   "metadata": {},
   "source": [
    "## 3.6 Removing unsual words"
   ]
  },
  {
   "cell_type": "code",
   "execution_count": null,
   "id": "5ecbc094",
   "metadata": {},
   "outputs": [
    {
     "name": "stdout",
     "output_type": "stream",
     "text": [
      "Words that appear only once: ['aaa', 'aac', 'aaci', 'aacitcwia', 'aaham', 'aakmr', 'aam', 'aaon', 'aapemwrmvn', 'aapiyhqm', 'aasl', 'aav', 'aawthd', 'aaww', 'aaza', 'abalon', 'abbott', 'abcdo', 'abdefgjwlz', 'abe', 'abeb', 'aben', 'abeo', 'aberdeen', 'abevi', 'abhjrhyhfd', 'abiy', 'abjk', 'abk', 'abmzokmqwl', 'abn', 'abo', 'abohhqlbea', 'abolish', 'abort', 'absol', 'absorb', 'absurd', 'abu', 'abukarsh', 'abv', 'abxui', 'aca', 'academ', 'acbah', 'acbvso', 'acceleron', 'acceleronpharma', 'accendowav', 'accesswi', 'accion', 'accommod', 'accor', 'accordi', 'accret', 'accur', 'accuraci', 'acd', 'acea', 'acelerada', 'acelrx', 'ach', 'acj', 'acmr', 'acn', 'acnotpflvt', 'acorncapitalinvestmentfund', 'acpkbt', 'acpnf', 'acpohatzzq', 'acqu', 'acquisizioni', 'acquitt', 'acrx', 'actinogen', 'actinogenmed', 'actividad', 'actuari', 'acu', 'acui', 'acx', 'acyqwv', 'adam', 'adani', 'adapt', 'adcoxgj', 'adecco', 'adenatfriedman', 'adesco', 'adesto', 'adfdkheaw', 'adghnjkpx', 'adia', 'adida', 'adjuv', 'adknznc', 'adl', 'adlckrsyia', 'adler', 'adlv', 'admonish', 'admp', 'admurzar', 'adn', 'adnt', 'adoproperti', 'adph', 'adragedabm', 'adrenalin', 'adrgg', 'adrianambel', 'adss', 'adtalem', 'adtavaeysg', 'adtran', 'advantego', 'adverum', 'advintltradeingood', 'advm', 'advretailinventori', 'adxenergi', 'aecon', 'aedi', 'aegi', 'aegix', 'aei', 'aelxi', 'aem', 'aemd', 'aemeti', 'aemro', 'aennx', 'aep', 'aer', 'aerea', 'aeri', 'aero', 'aeromexico', 'aerosystem', 'aeroviron', 'aersr', 'aeveasgq', 'aex', 'aexivn', 'afar', 'afb', 'affam', 'affili', 'affim', 'affluent', 'affunakugw', 'afg', 'afi', 'afjhcwfb', 'afk', 'afl', 'afmd', 'afothh', 'afphnczo', 'afpqzkw', 'afpuhmd', 'afriqu', 'afro', 'aft', 'aftershock', 'afwthvvf', 'afwygev', 'afwyjeglcc', 'afzuek', 'agarw', 'agati', 'agatifund', 'agcyq', 'agd', 'agent', 'agfkbxvm', 'agfz', 'aghdxwa', 'agji', 'aglomerant', 'agn', 'agonist', 'agr', 'agrana', 'agrd', 'agress', 'agricul', 'agrx', 'aguz', 'ahc', 'ahd', 'ahe', 'ahexf', 'ahf', 'ahglgqh', 'ahht', 'ahihmzm', 'ahjccyk', 'ahlewgratq', 'ahm', 'ahmad', 'ahol', 'ahold', 'aht', 'ahvzetdcia', 'ahw', 'ahzlyhnzfg', 'aiabn', 'aibfzrx', 'aifpkh', 'aig', 'aij', 'ail', 'aimia', 'ainer', 'ainstorm', 'aiot', 'airb', 'airbag', 'aircraft', 'airplan', 'airtim', 'aislurffr', 'aiszptu', 'aito', 'aiwolc', 'aiyeqb', 'aiyhedshlz', 'ajax', 'ajgzqirl', 'ajh', 'ajkk', 'ajkokmu', 'ajoaukkrvg', 'ajuzuzxnqt', 'ajx', 'akam', 'akamai', 'akari', 'akbank', 'akbar', 'akdbi', 'akdvj', 'akebia', 'akerbp', 'akero', 'akj', 'akjyzvl', 'akk', 'akkcwcdv', 'akkia', 'aklxkb', 'akmek', 'akphhv', 'akr', 'aktx', 'akuiud', 'akvomfzom', 'akvqi', 'alac', 'alacergold', 'alamo', 'alat', 'alayacar', 'albemarl', 'alberta', 'alberto', 'albilad', 'alce', 'alcon', 'alen', 'alerttm', 'alessandro', 'alexand', 'alexco', 'alexion', 'alexistvnew', 'alg', 'alga', 'algerian', 'algt', 'ali', 'align', 'aligntechnolog', 'alik', 'alim', 'alio', 'alitalia', 'alkaloid', 'alkem', 'alklk', 'allako', 'allay', 'allbird', 'allegheni', 'allegi', 'allen', 'allestimenti', 'allevi', 'alliancetrust', 'allk', 'alloc', 'allot', 'almbm', 'alni', 'alnk', 'aloebw', 'alongsid', 'alpcyje', 'alphafli', 'alphastocknew', 'alr', 'alt', 'altair', 'altcoin', 'alteryx', 'altg', 'altius', 'altr', 'altran', 'altrantechnolog', 'altriset', 'alttqsuoc', 'aluminium', 'alunig', 'alv', 'alvayz', 'alvogen', 'amal', 'amani', 'amanigold', 'amb', 'ambani', 'ambassa', 'ambient', 'ambu', 'amcham', 'amer', 'amerco', 'ameri', 'americanairlin', 'ameropa', 'amf', 'amfia', 'amgdf', 'amgn', 'amh', 'aminata', 'amipur', 'amir', 'amk', 'amleu', 'amlo', 'ammo', 'amor', 'amorim', 'amp', 'ampl', 'amplitud', 'amput', 'amr', 'amrgojdo', 'amset', 'amsfa', 'amtac', 'amtrak', 'amu', 'amwd', 'amyotroph', 'amyri', 'anal', 'analytica', 'ancfnmoil', 'anchiano', 'ancora', 'ancuf', 'andacollo', 'andaman', 'andless', 'andoa', 'andreessen', 'anesthesia', 'anew', 'anexinet', 'anf', 'angeloakcap', 'anger', 'angiodynam', 'angl', 'anglo', 'angloamerican', 'angloaustralianresourcesnl', 'ango', 'angola', 'angolan', 'angri', 'angrick', 'anheuserbuschinbev', 'anhnf', 'anil', 'aniston', 'anixa', 'anjkhem', 'annonc', 'annouc', 'annuiti', 'ano', 'anonima', 'anonym', 'anrxgpt', 'ansi', 'answ', 'ant', 'antarctica', 'antibiot', 'antibodi', 'antonioguterr', 'anurag', 'anxieti', 'anybodi', 'anyth', 'anytim', 'anywher', 'ao', 'aoad', 'aoc', 'aolci', 'aop', 'aor', 'aowpkrk', 'aozj', 'apa', 'apac', 'apam', 'apax', 'apelli', 'apex', 'apezfqka', 'apfxeqssrf', 'aphria', 'apilbca', 'apl', 'apllo', 'apmbzsimcc', 'apmkuiu', 'apolog', 'apologis', 'apoojc', 'appar', 'appel', 'appian', 'applaus', 'appreci', 'appropria', 'approxim', 'aprn', 'apsegnk', 'aptexnl', 'aptv', 'apvb', 'aqa', 'aqeuy', 'aqik', 'aqlc', 'aqmi', 'aqp', 'aqsc', 'aqsepuwln', 'aqua', 'aqvah', 'aqvqv', 'aqyx', 'arab', 'aramark', 'arbitr', 'arbitrari', 'arbor', 'arborrealtytrust', 'arbutus', 'arbzd', 'arcadi', 'archrock', 'arcon', 'arcus', 'ard', 'ardaghsa', 'ardich', 'are', 'arex', 'arfi', 'arfyak', 'argen', 'argia', 'arguabl', 'argus', 'argusresearch', 'arii', 'arista', 'aristocrat', 'arkansa', 'arkr', 'arkrestaur', 'armada', 'armata', 'armistic', 'armourenergi', 'armvobbpuc', 'arnau', 'arnault', 'arnold', 'aroc', 'aroma', 'aromenfirmen', 'aromi', 'arqbv', 'arql', 'arqvfoy', 'arrang', 'arsya', 'artelo', 'arteria', 'artisan', 'artl', 'artwork', 'aru', 'arvn', 'asahi', 'asana', 'asb', 'asbesto', 'asbfi', 'asbzm', 'ascmlbxipn', 'asean', 'asguwr', 'ashford', 'ashok', 'ashtead', 'ashworth', 'asi', 'asileira', 'asln', 'asnd', 'asnhp', 'asouui', 'aspect', 'aspen', 'aspn', 'aspoba', 'aspu', 'asqhl', 'asrt', 'assert', 'associa', 'assum', 'astana', 'aster', 'asterion', 'asterix', 'astkwq', 'astra', 'astramicro', 'astrolog', 'asvc', 'asxz', 'aszh', 'aszkxgdksp', 'atbqdgnjup', 'atd', 'ate', 'atfp', 'athleisur', 'athletica', 'atico', 'atkin', 'atlasarteria', 'atm', 'atmospher', 'atmupdtolx', 'atnjqyrh', 'ato', 'atp', 'atri', 'atrion', 'atrium', 'atroc', 'atrophi', 'attribut', 'atu', 'atugc', 'atv', 'atvi', 'atvlsdx', 'atyr', 'atznmptvtw', 'aualldv', 'auburndal', 'aucqp', 'audaxrenovablessa', 'audc', 'audienc', 'auditor', 'auerz', 'auf', 'auftrag', 'augur', 'auhi', 'aumn', 'auoetduyr', 'auornc', 'aurelia', 'auroracannabi', 'aussi', 'austar', 'austargold', 'austez', 'austral', 'australgold', 'australianmin', 'austrian', 'ausyahmhhg', 'authoritar', 'autl', 'autoimmun', 'autoliv', 'autolus', 'automobil', 'auton', 'autonomi', 'autostrada', 'auz', 'avadel', 'aval', 'avalara', 'avapritinib', 'avastin', 'avav', 'avb', 'avbd', 'avbmxtvx', 'avc', 'avcgajkagp', 'avdyza', 'ave', 'averi', 'avf', 'avghourlyearn', 'avhqlcbxz', 'avisbudget', 'avitamed', 'aviva', 'avizorex', 'avli', 'avlr', 'avn', 'avocado', 'avpcd', 'avpihw', 'avq', 'avro', 'avrobio', 'avwap', 'avxhctl', 'awaken', 'awengc', 'awf', 'awfib', 'awidwdusvd', 'awkward', 'awl', 'awmo', 'awn', 'awo', 'awq', 'awr', 'awrra', 'awsao', 'awscsngl', 'awuxxcynzc', 'awvdu', 'axat', 'axbcq', 'axc', 'axder', 'axhnn', 'axi', 'axio', 'axjjvbiib', 'axmlbazg', 'axnagi', 'axnebqt', 'axov', 'axp', 'axpq', 'axrbodrp', 'axtyl', 'axu', 'axumgzonvp', 'axxyjlsgxg', 'aybcvi', 'ayd', 'ayfcw', 'aygzdtao', 'ayoetpad', 'ayooqnbfjq', 'ayperfeso', 'ayvldkn', 'aywhoiyqbv', 'ayx', 'ayygpjtsm', 'ayzvtrxgu', 'azbngqd', 'azcim', 'azerbaijan', 'azeri', 'azgdm', 'azgqni', 'azgxc', 'aziendal', 'azo', 'azri', 'azruzip', 'aztec', 'azu', 'azul', 'azyl', 'azzmdqtlwi', 'baa', 'baal', 'bab', 'babcock', 'babe', 'babkp', 'bac', 'backcountri', 'backlog', 'backpack', 'backup', 'badezimm', 'bagger', 'baghx', 'bait', 'bajalia', 'balagu', 'balfanz', 'balkan', 'balladonia', 'bamboo', 'bamp', 'bancorpor', 'bancroft', 'bangko', 'bangkok', 'banish', 'bankia', 'bankindonesia', 'bankofjamaica', 'bankofqueensland', 'baozun', 'bapf', 'baqx', 'barbado', 'barbara', 'barbel', 'barmaid', 'baromet', 'barra', 'barrack', 'barrag', 'barrick', 'barrington', 'bartolacci', 'bartolo', 'basebal', 'baselin', 'basico', 'basra', 'bass', 'bassmet', 'baswood', 'bat', 'batch', 'batrk', 'battell', 'baublebar', 'bauphyud', 'baw', 'baxk', 'baxterintern', 'bay', 'bayanpay', 'bayway', 'bbb', 'bbbi', 'bbc', 'bbca', 'bbcvp', 'bbf', 'bbhltag', 'bbi', 'bbjatsxnfc', 'bbq', 'bbqa', 'bbtwmvor', 'bbuvowd', 'bbvz', 'bbw', 'bc', 'bcb', 'bce', 'bch', 'bchey', 'bchzyrdaal', 'bck', 'bckozz', 'bckrdc', 'bcli', 'bco', 'bcope', 'bcrh', 'bcrx', 'bcs', 'bcuue', 'bcxqtgatei', 'bda', 'bdcgjzryno', 'bdhehw', 'bdhykopjcm', 'bdkkwlwtfb', 'bdnqojsfq', 'bdnr', 'bdtyc', 'beah', 'beam', 'bean', 'beau', 'beaumont', 'bednjot', 'bedroom', 'beejxdyb', 'bef', 'befho', 'befor', 'befriend', 'bega', 'beginn', 'behalen', 'behav', 'behavior', 'behaviour', 'beiqsnh', 'bejhsm', 'belden', 'beleagu', 'belfort', 'belinda', 'bellevu', 'bellevuegold', 'bellr', 'bellweth', 'belo', 'belski', 'beltway', 'belushi', 'benavid', 'bench', 'bend', 'benfenati', 'benign', 'benitec', 'benjamin', 'bennet', 'benzen', 'beptf', 'bercow', 'berenberg', 'bergcni', 'bergenbio', 'berger', 'berggruen', 'bergreifend', 'berkshir', 'berman', 'bern', 'bernahm', 'berner', 'besieg', 'besti', 'betray', 'bett', 'beu', 'beup', 'bewar', 'beyer', 'beyonc', 'bfaxayhnj', 'bfiwgqz', 'bfj', 'bfqbe', 'bfqi', 'bfsmaezv', 'bft', 'bftwla', 'bfwifkqi', 'bfwjhtlukm', 'bfynv', 'bg', 'bgc', 'bgfflxposh', 'bgg', 'bggx', 'bghbljlzaw', 'bgl', 'bgnfi', 'bgocuwzr', 'bgr', 'bgxsnahn', 'bgyjdgmjl', 'bgyyp', 'bhao', 'bharat', 'bhci', 'bhfso', 'bhgv', 'bhitji', 'bhj', 'bhntyqlnmj', 'bhpu', 'bhq', 'bhssfshdzg', 'bhubaneswar', 'bhvn', 'bicker', 'bidder', 'bidhjpnhdu', 'bif', 'bigfoot', 'bil', 'billboard', 'billio', 'biln', 'bilpqmyht', 'bimekizumab', 'bimtj', 'binanc', 'bioarctic', 'biodi', 'bioepi', 'biofoul', 'biohitech', 'biolab', 'biolid', 'biolinerx', 'biometr', 'bionic', 'biontech', 'biopharma', 'biopharmx', 'bioservic', 'biosimilar', 'biosyent', 'bioteq', 'bipolar', 'bir', 'birchcliff', 'bird', 'birth', 'birthday', 'biscuit', 'bisqu', 'bissau', 'bita', 'bitmex', 'bjaqanfd', 'bjbf', 'bjfffwfll', 'bjfkcp', 'bjhxfqurtd', 'bjp', 'bjs', 'bjsd', 'bjv', 'bjxtlm', 'bjybuxruqc', 'bjytfi', 'bjzbhx', 'bkcgf', 'bkd', 'bkfqrrigqi', 'bkgvdxrrzl', 'bkjuq', 'bklxi', 'bkm', 'bkn', 'bkpi', 'bkr', 'bktlfiqhnl', 'bkutj', 'bkvblbtwbj', 'bkz', 'blackbox', 'blackfriday', 'blacklin', 'blackrockfrontiersinvestmenttrust', 'blank', 'blanqueamineto', 'blatant', 'blather', 'blbe', 'blcaln', 'blcm', 'bldquc', 'bldrfjaji', 'bleacher', 'blender', 'blew', 'blfnmtj', 'blfp', 'blind', 'bliss', 'blit', 'blj', 'blk', 'blkbfxruvk', 'blkwurqscz', 'blmn', 'blockad', 'blok', 'bloodbath', 'bloom', 'bloombergtv', 'blower', 'blown', 'blph', 'blrx', 'blt', 'bluelinx', 'bluemel', 'blueprint', 'bluff', 'blyme', 'bm', 'bmtc', 'bmw', 'bmwrgql', 'bnbjucxtd', 'bnga', 'bngo', 'bnh', 'bni', 'bniq', 'bnkhqqe', 'bnkxi', 'bnlw', 'bno', 'bns', 'bntavukw', 'bntc', 'bntx', 'bnwjs', 'bnydsf', 'boa', 'boardroom', 'bobbyberk', 'bod', 'bodoegk', 'bogus', 'boiey', 'boingo', 'boj', 'bojangl', 'bokf', 'bolder', 'bolig', 'bolivia', 'bolyy', 'bombard', 'bombardi', 'bombay', 'bon', 'bonal', 'bondi', 'bone', 'bong', 'bonham', 'booz', 'boozi', 'boprddk', 'bora', 'born', 'borough', 'borr', 'botswana', 'bougainvill', 'bound', 'boutiqu', 'bouygu', 'boy', 'boyd', 'bpeisxtrq', 'bpeqm', 'bpgxw', 'bpi', 'bpird', 'bpirf', 'bpmx', 'bpop', 'bpqfuolg', 'bps', 'bpyiwi', 'bqa', 'bqb', 'bqcncyept', 'bqhjvupth', 'bqht', 'bqkcrsag', 'bqoiditlb', 'bqpajq', 'bqpoiyhkbj', 'bqs', 'bqsvnp', 'bquw', 'bqvsmsuqxp', 'bqxrwjiovw', 'bqzcqjoi', 'bqzdvag', 'bsdo', 'bseyxvqf', 'bsiy', 'bsn', 'bsoovtj', 'bspkpx', 'bspqmjqwju', 'bspsri', 'bsrct', 'bstzap', 'btciiztlpz', 'btdsjbsvjk', 'bteidicezz', 'btm', 'btps', 'btrer', 'buchanan', 'buckingham', 'buddhist', 'budg', 'buez', 'buffet', 'bug', 'bugatti', 'bugbe', 'buildin', 'bulgaria', 'bulimia', 'buljer', 'bullet', 'bulletproof', 'bulli', 'bullion', 'bullshit', 'bumper', 'bumpi', 'bung', 'buoyant', 'bup', 'buphzbusmf', 'buran', 'bureaucraci', 'burglari', 'buri', 'burl', 'burp', 'burrito', 'buse', 'bushfir', 'busiest', 'busin', 'businessworld', 'bust', 'butera', 'buttigi', 'button', 'buttress', 'buzzkil', 'bvblfttywk', 'bvcn', 'bvepm', 'bvewzmlka', 'bvfnpg', 'bvifwuzbxk', 'bvmi', 'bvr', 'bvv', 'bvw', 'bwa', 'bwdwu', 'bwee', 'bwgsq', 'bwj', 'bwlgi', 'bwn', 'bwnffeo', 'bwo', 'bwrixr', 'bwseg', 'bwzn', 'bxar', 'bxb', 'bxc', 'bxjtfgnzop', 'bxks', 'bxksax', 'bxkzuc', 'bxmi', 'bxmt', 'bxpa', 'bxpz', 'bxqdnexnqv', 'bxyqocmq', 'byaypgcfo', 'bydbvlay', 'bydifnqivg', 'bydonkey', 'bydt', 'bygcyaylwi', 'byju', 'bykatherineross', 'bykzm', 'bylwblit', 'bynsikq', 'byqcdurqz', 'byted', 'byton', 'byvt', 'bzlr', 'bzpqpfbvj', 'bzun', 'bzvh', 'caa', 'cab', 'cabo', 'cabot', 'cacc', 'cacciator', 'cadburi', 'cade', 'cafe', 'caffein', 'cage', 'cagni', 'cagr', 'cah', 'cahdyjwnk', 'cai', 'caladrius', 'calamatta', 'caler', 'calgon', 'californian', 'callaway', 'callon', 'calmer', 'calumet', 'calyxt', 'calzado', 'cambium', 'camden', 'camian', 'camidg', 'campbel', 'can', 'canadianpacificrailway', 'canal', 'cancom', 'candacecbur', 'candi', 'candidaci', 'candl', 'canf', 'canfor', 'canlrc', 'canntrust', 'canon', 'capaci', 'capecon', 'capgemini', 'capitalismo', 'capitalwork', 'caraca', 'cardano', 'cardiff', 'cardin', 'cardiovascular', 'cardlyt', 'career', 'caretrust', 'carey', 'cargg', 'carig', 'carlisl', 'carlo', 'carlquintanilla', 'carmax', 'carnag', 'carpent', 'carpentaria', 'carpentariaresourc', 'carrizo', 'carrot', 'carta', 'cartel', 'carv', 'carvana', 'cascabel', 'casey', 'cashflow', 'casposo', 'cassa', 'castor', 'castormaritim', 'caswel', 'catal', 'categori', 'cater', 'cateyhil', 'cathay', 'cathet', 'cati', 'catumt', 'cautio', 'cawood', 'cawyjxb', 'cay', 'caycaa', 'cayman', 'cazubcukof', 'cbank', 'cbb', 'cbdfhazyzd', 'cbdmd', 'cbeg', 'cbgb', 'cbi', 'cbli', 'cbm', 'cbqzdhjmte', 'cbxkl', 'cbxs', 'cc', 'cccs', 'ccdejsq', 'cce', 'ccfuc', 'cch', 'cciegnw', 'cciwkfsml', 'ccjsao', 'cck', 'cckjtwauhg', 'cclj', 'ccmr', 'ccoi', 'ccpbh', 'ccpfpgsi', 'ccplqvsece', 'ccrc', 'ccuifiy', 'ccukh', 'cdako', 'cde', 'cdhzrz', 'cdjmp', 'cdjt', 'cdlrhvzk', 'cdls', 'cdlx', 'cdmkyr', 'cdmo', 'cdp', 'cdpq', 'cdq', 'cdreuabtvo', 'cdw', 'cdxh', 'cdxnnsxb', 'cdzjzihg', 'ced', 'ceg', 'cei', 'cejica', 'cejybnxuv', 'ceki', 'celadon', 'celesti', 'celgen', 'cellect', 'cellulos', 'celsius', 'celyad', 'cement', 'cemex', 'cen', 'cenovus', 'centaurus', 'centenni', 'centerst', 'centralbankofphilippin', 'centrex', 'centrotec', 'cenytesk', 'cepi', 'ceqjd', 'ceqxfar', 'cerfhm', 'cerj', 'cerner', 'certa', 'certaint', 'cese', 'cfgli', 'cfhj', 'cfji', 'cfon', 'cfpu', 'cfpzf', 'cfraresearch', 'cfri', 'cftc', 'cfucw', 'cgfywf', 'cgix', 'cgjp', 'cgkmbpz', 'cglm', 'cgofo', 'cgp', 'cgszmyrjdi', 'cgvof', 'cgvszjem', 'chaim', 'chairwoman', 'chall', 'chandra', 'changyou', 'channeladvisor', 'chappatta', 'charact', 'character', 'charan', 'chargepoint', 'charisma', 'charit', 'charitab', 'chark', 'charli', 'charlot', 'chartist', 'chat', 'che', 'cheapest', 'cheat', 'cheek', 'cheer', 'cheeri', 'cheetah', 'chehrylnx', 'chell', 'chemtrad', 'chequ', 'chess', 'chevrolet', 'chf', 'chgg', 'chh', 'chi', 'chiasma', 'chic', 'chiffr', 'childer', 'chilean', 'chilli', 'chimerix', 'chimney', 'chinaagriindustri', 'chinafeih', 'chinajishan', 'chinamengniudairi', 'chine', 'chipmak', 'chipotl', 'chkgo', 'chkp', 'chl', 'chma', 'chocol', 'cholesterol', 'chosun', 'chow', 'chqz', 'chr', 'christen', 'christiesinc', 'christineroman', 'christo', 'christoph', 'chromecast', 'chron', 'chs', 'chtj', 'chtr', 'chttudgurt', 'chucc', 'church', 'chuscal', 'chybu', 'chzc', 'ciarctyi', 'cidnlmw', 'cie', 'cien', 'cierra', 'cigi', 'cijxm', 'cilantro', 'cim', 'cin', 'cincinnati', 'cinedigm', 'cinema', 'cinemark', 'cineplex', 'ciner', 'cinerresourceslp', 'cinta', 'ciqlpt', 'ciqv', 'circ', 'circuit', 'circumst', 'circus', 'citadel', 'citrus', 'citydevelop', 'civista', 'ciwiqep', 'cizrydlj', 'cjcunxt', 'cjdt', 'cjetvb', 'cjjbd', 'cjjs', 'cjk', 'cjl', 'cjo', 'cjp', 'cjqv', 'cjve', 'cknql', 'cks', 'cktqrn', 'cku', 'ckzzc', 'clamor', 'clarif', 'clarifi', 'clark', 'classi', 'classici', 'clay', 'clbk', 'clbs', 'clc', 'clcjgnepoa', 'cle', 'cleaner', 'cleans', 'cleanup', 'clearanc', 'clearstructur', 'clever', 'clf', 'clg', 'clgw', 'cli', 'clinch', 'clinesmith', 'clint', 'clip', 'clipperlogist', 'clkmfzv', 'clmewq', 'clmt', 'closet', 'cloudia', 'cloudsimpl', 'clpr', 'clsq', 'cluck', 'clueless', 'clumio', 'clv', 'clvs', 'clx', 'clxkuqdu', 'clydesid', 'clylxtaihr', 'clzpogpb', 'cmbaze', 'cmbm', 'cmekzp', 'cmel', 'cmhgl', 'cmhupb', 'cmiibbootg', 'cml', 'cmlejco', 'cmo', 'cmqfwcroi', 'cmrx', 'cmufcaacfh', 'cmuv', 'cmxuusbiab', 'cnal', 'cnb', 'cnbcafrica', 'cnbcmoneymistak', 'cnbctv', 'cnc', 'cnfinanc', 'cnica', 'cnmd', 'cnnu', 'cno', 'cnob', 'cnooc', 'cnqjo', 'cnsx', 'cnti', 'cnuhlxipm', 'cnvqgolytt', 'cnwgi', 'cnxn', 'coaster', 'coattail', 'cob', 'cobaltblu', 'cobgiidf', 'cobgo', 'cocacolaamatil', 'coconut', 'codi', 'coegwchrjd', 'coeur', 'coffee', 'cogent', 'cohn', 'cohort', 'coima', 'coin', 'colb', 'colgat', 'coll', 'collat', 'collectionhous', 'collegedegre', 'collegefedchalleng', 'colleyvill', 'collier', 'colm', 'coloc', 'colon', 'coloplast', 'columnist', 'comb', 'combo', 'comedian', 'comedycentr', 'comey', 'comgrow', 'comic', 'cominar', 'comm', 'comman', 'commend', 'commerzbank', 'commo', 'commonwealth', 'commonwealthbankofaustralia', 'commscop', 'communiqu', 'communism', 'communist', 'compa', 'compagni', 'companion', 'comparison', 'complac', 'complain', 'complainin', 'complex', 'compli', 'compon', 'compq', 'compra', 'compromis', 'computershar', 'comstock', 'comun', 'comunicacion', 'concentr', 'concept', 'concor', 'concret', 'condemn', 'conditioni', 'condo', 'conduc', 'conductor', 'conf', 'conferenc', 'confront', 'congest', 'conglomer', 'congo', 'congression', 'congresswoman', 'conmedcorpor', 'connecton', 'conoco', 'conscious', 'consensi', 'consider', 'consol', 'consort', 'conspiraci', 'constanc', 'constel', 'constr', 'construcci', 'consul', 'consumpt', 'cont', 'containerboard', 'contango', 'contempl', 'contenti', 'conti', 'contin', 'continenta', 'conting', 'contradict', 'contradictori', 'contrarian', 'conven', 'conversi', 'conversion', 'convey', 'cooker', 'cooler', 'coolsi', 'cooperstown', 'copa', 'cope', 'copi', 'copiktra', 'corcept', 'cordi', 'cordtf', 'corelog', 'coresit', 'coro', 'corona', 'coronabond', 'coronavi', 'coronaviru', 'coronavirusouteak', 'coronoavirus', 'corpbanca', 'corpgov', 'corporacion', 'corport', 'correa', 'correio', 'correspond', 'correvio', 'corrobor', 'corrug', 'corteva', 'cortez', 'corticeira', 'coruna', 'corv', 'corvett', 'cosatu', 'cosco', 'cosmo', 'cott', 'cotton', 'counc', 'counci', 'councilor', 'counsel', 'counterintellig', 'counterpart', 'counterparti', 'countr', 'coupa', 'courtney', 'cov', 'covanta', 'cove', 'covet', 'cowboy', 'cowccov', 'cowjqt', 'cowork', 'cox', 'coxckdq', 'coxt', 'coxulcdm', 'coziron', 'cozironresourc', 'cpa', 'cpap', 'cpb', 'cpedaozf', 'cpf', 'cpg', 'cph', 'cpigjvh', 'cpiu', 'cplppf', 'cpnzcat', 'cpo', 'cpoac', 'cpri', 'cpt', 'cpu', 'cpudruc', 'cpup', 'cpvzld', 'cqbsx', 'cqdzr', 'cqr', 'cqrag', 'cqv', 'cqyh', 'craft', 'craig', 'cram', 'crane', 'crbar', 'crcxjssgnt', 'creation', 'creativ', 'creazion', 'crecimiento', 'credicorp', 'cree', 'creek', 'creep', 'creg', 'crescita', 'crest', 'crf', 'crgn', 'crhtfepbz', 'crimea', 'crimin', 'cristiano', 'criteo', 'critica', 'crk', 'crm', 'crn', 'croissanc', 'crombi', 'crosshair', 'crossov', 'crosspoint', 'crosswordcybersecur', 'crowdfund', 'crowdmedia', 'crpti', 'crr', 'crrzps', 'crspr', 'crto', 'crudeoil', 'cruiser', 'crumb', 'crumpl', 'crunch', 'crus', 'cruzsur', 'crv', 'cryoport', 'cryptokitti', 'csbb', 'csbs', 'csd', 'cseresznyevir', 'csfl', 'cshrv', 'cslli', 'csqmmvgkrn', 'csqyvqt', 'csrq', 'csrt', 'csymjti', 'ctad', 'ctc', 'ctd', 'ctfn', 'ctgh', 'ctjp', 'ctk', 'ctm', 'ctp', 'ctq', 'ctrc', 'ctre', 'ctrn', 'ctsh', 'ctva', 'ctvugnf', 'ctw', 'ctwhq', 'ctwvq', 'ctx', 'cub', 'cucoenjhtx', 'cuisinart', 'culinari', 'cult', 'cumberland', 'cumu', 'cuomo', 'cur', 'curfew', 'curiositystream', 'curis', 'curk', 'curri', 'curtail', 'cuschieri', 'cushion', 'cutera', 'cutvz', 'cva', 'cvbn', 'cvgi', 'cvi', 'cvj', 'cvkamxchc', 'cvm', 'cvn', 'cvna', 'cvnee', 'cvswyzrjra', 'cvtw', 'cvvlxwvw', 'cvwhsli', 'cwaceyj', 'cwagybcusz', 'cwb', 'cwbhf', 'cwchnuhnyv', 'cwij', 'cwj', 'cwkvxo', 'cwl', 'cwp', 'cwpoumg', 'cwv', 'cwxbctxvww', 'cxasj', 'cxd', 'cxidgk', 'cxixjdi', 'cxkjqhp', 'cxm', 'cxoctdd', 'cxrc', 'cxue', 'cxylvlnq', 'cxzo', 'cyberark', 'cyberattack', 'cybercrimin', 'cybv', 'cycgxtrjlm', 'cyfd', 'cylind', 'cymabat', 'cymru', 'cynata', 'cynatatherapeut', 'cynkfpf', 'cynlp', 'cyou', 'cyp', 'cypjt', 'cypress', 'cyrp', 'cyruson', 'cyrx', 'cystic', 'cytomx', 'cyxmdfaf', 'czax', 'czbvuuzvjw', 'czlaz', 'czuwkk', 'czvaw', 'dacian', 'dacua', 'daeowqxxui', 'dafw', 'dahcfxpxhg', 'dailydatapoint', 'daiu', 'daiwa', 'dakt', 'daktron', 'dalian', 'dalila', 'dallbpbdv', 'dalvin', 'dalvschi', 'damian', 'dampen', 'danah', 'danari', 'danilak', 'danni', 'dansk', 'dao', 'dap', 'dapper', 'daqo', 'dar', 'darci', 'darl', 'dartmouth', 'darzalex', 'dasan', 'dasanzhon', 'dashboard', 'dat', 'databas', 'datadoghq', 'dauaa', 'daughter', 'dauria', 'davenport', 'davey', 'davidfickl', 'dawn', 'daxi', 'daytrad', 'daz', 'dazycmaz', 'dbapsbsguv', 'dbbtlvhybl', 'dbdhyrp', 'dbdtoibi', 'dbethakql', 'dbf', 'dbhj', 'dbi', 'dbjvvef', 'dbl', 'dbmxn', 'dbowgf', 'dbpmuscof', 'dbsrbouxf', 'dbtx', 'dbuw', 'dbvt', 'dbwxa', 'dbxjbdp', 'dcbmr', 'dcix', 'dcm', 'dcn', 'dcoddkapk', 'dcpi', 'dcqwsjtnr', 'dcr', 'dcrhex', 'dcrpneqtey', 'dcvnausoba', 'ddc', 'ddcrndik', 'ddfhnwlak', 'ddk', 'ddmfghmira', 'ddo', 'ddtivthd', 'ddxpr', 'deadlier', 'dealership', 'dealersocket', 'dealmak', 'dealt', 'dean', 'debit', 'debtor', 'debwouoid', 'decay', 'deceiv', 'decemeb', 'decent', 'decentr', 'decim', 'decker', 'decn', 'decom', 'deed', 'deepli', 'defect', 'defin', 'defus', 'degdcwsxib', 'degr', 'degre', 'deicz', 'deleg', 'deleverag', 'delhaiz', 'delist', 'della', 'delmar', 'delvey', 'demis', 'demograph', 'demonstra', 'denburi', 'dengu', 'denim', 'denko', 'dennison', 'denso', 'dent', 'deo', 'depositor', 'depress', 'depriv', 'dept', 'depth', 'deray', 'derbi', 'deriv', 'derni', 'derwent', 'desc', 'descent', 'desert', 'desir', 'despatch', 'desper', 'dessert', 'destabilis', 'destin', 'detain', 'deterr', 'dethron', 'detroit', 'deux', 'develo', 'developmen', 'devendra', 'devot', 'dewey', 'dex', 'dexcom', 'df', 'dffn', 'dffv', 'dffwhdvfzo', 'dfiy', 'dfmtwdxmvj', 'dfn', 'dfpjxkxz', 'dfufgkxvtu', 'dfvzcbza', 'dfw', 'dfwdcgaivi', 'dgbplbadco', 'dgclg', 'dgf', 'dggeqt', 'dggmffoccb', 'dgii', 'dgj', 'dgk', 'dgkihx', 'dgmm', 'dgmpzopi', 'dgrcqg', 'dguvtnczb', 'dgv', 'dgyfu', 'dgzn', 'dh', 'dhabi', 'dhcpnkuct', 'dhf', 'dhi', 'dhjinusj', 'dhjqxdrmpq', 'dhl', 'dhn', 'dhpi', 'dhrfmcemmg', 'dhs', 'dht', 'dhwxm', 'dicerna', 'dick', 'didr', 'dieoqb', 'diet', 'dieti', 'dietmar', 'diffus', 'digi', 'dilig', 'dillard', 'dilueeh', 'dime', 'dimens', 'dimu', 'dimvl', 'ding', 'dinsmor', 'diod', 'dionnewarwick', 'dir', 'direxion', 'dirtwork', 'disagre', 'disarm', 'disband', 'disburs', 'disclaim', 'disconnect', 'discourag', 'discreet', 'discriminatori', 'dise', 'disengag', 'disgruntl', 'disguis', 'disloc', 'dispatch', 'dispos', 'dissect', 'dissent', 'dissid', 'dissuad', 'distil', 'distort', 'distrib', 'disturb', 'ditch', 'ditech', 'dither', 'diugarh', 'diuqsvlfod', 'diuqxqdkma', 'div', 'divers', 'diversif', 'division', 'dixi', 'djdjbeow', 'djdko', 'djdq', 'djfc', 'djit', 'djj', 'djjtqb', 'djql', 'djrdhqtey', 'djt', 'djumtl', 'djvdburvv', 'djxh', 'djz', 'dka', 'dkbajstg', 'dkeheoj', 'dkf', 'dkgay', 'dkjnrloymo', 'dklppqcbmi', 'dkqulik', 'dkz', 'dl', 'dladr', 'dlaisizu', 'dlbcl', 'dldlyrevih', 'dljdffsfkk', 'dlk', 'dlkdrql', 'dlph', 'dlqvnbw', 'dltr', 'dlvyu', 'dmc', 'dmci', 'dmd', 'dmdc', 'dmi', 'dmo', 'dmoriz', 'dmpi', 'dmwnzsihp', 'dmx', 'dmzzo', 'dnc', 'dncbo', 'dneuadv', 'dnm', 'dnmkio', 'dnr', 'dnrpxmj', 'dnt', 'dnu', 'dnvhvucnpd', 'dnxp', 'dnzof', 'dnzoy', 'doc', 'dock', 'docoaktiengesellschaft', 'docomo', 'doctrin', 'documentari', 'docusign', 'dogg', 'doggon', 'doibmad', 'dojmz', 'dojpwnnsc', 'dolbi', 'doll', 'dolllar', 'dolpm', 'domain', 'domicil', 'dominican', 'dominionenergi', 'donaldson', 'donar', 'doneranno', 'dongl', 'donna', 'dont', 'doo', 'doom', 'dooo', 'doordash', 'dope', 'dopfocryu', 'dori', 'dotard', 'dotz', 'dotznano', 'doubletgoll', 'doubter', 'dougherti', 'dougla', 'dovish', 'dovo', 'dowjon', 'down', 'downl', 'downplay', 'downsiz', 'downtrend', 'doz', 'dp', 'dpieprezmj', 'dpm', 'dprljn', 'dpurf', 'dpyzko', 'dpz', 'dqfgodl', 'dqhu', 'dqiyqvpqzu', 'dqn', 'dqnyynisgu', 'dqoc', 'dqovofzf', 'dqric', 'dqrz', 'dqu', 'dqwd', 'dragon', 'drake', 'draph', 'drastic', 'dravet', 'drawdown', 'drawn', 'drbkisid', 'drc', 'drea', 'dreamforc', 'dreamscap', 'drek', 'dreyfus', 'drh', 'drift', 'drinker', 'drip', 'driverless', 'driycxzr', 'drjmqt', 'drm', 'drmzytm', 'drna', 'dropout', 'drpj', 'drps', 'drqms', 'drsvsuphd', 'drummartin', 'druphr', 'drygiv', 'dryrybw', 'drzsdygb', 'dsbqi', 'dscf', 'dscs', 'dscztn', 'dse', 'dsinghx', 'dsjpzxqrrf', 'dske', 'dski', 'dsrcoha', 'dssi', 'dstbmtzscr', 'dstncb', 'dsu', 'dswl', 'dsxyp', 'dszbjp', 'dtcisrnj', 'dtea', 'dtegf', 'dtegi', 'dth', 'dtizm', 'dtjcg', 'dtr', 'dtslhw', 'dttl', 'dtvbbmm', 'dtxiayp', 'dtxrwkpwwp', 'dub', 'dubin', 'ducon', 'dud', 'dug', 'duhigg', 'duk', 'dull', 'dunde', 'dunlap', 'dunlop', 'duojp', 'duolingo', 'dur', 'dust', 'dustv', 'dut', 'dutchman', 'dutjc', 'duu', 'duuax', 'duxton', 'duxtonoadacrefarm', 'dvca', 'dvfxlnj', 'dvgg', 'dvglnnr', 'dvjha', 'dvmncsf', 'dvrewpl', 'dvuyxpp', 'dvwmt', 'dvwrfmijxr', 'dwayn', 'dwell', 'dwi', 'dwindl', 'dwkpfwurob', 'dwkvlclxe', 'dwl', 'dwlp', 'dwr', 'dwueseti', 'dwuu', 'dwvyf', 'dxf', 'dxfrwucf', 'dxhzj', 'dxj', 'dxnjx', 'dxp', 'dxsqcwiclc', 'dxttib', 'dxudpqvyef', 'dxuivt', 'dxum', 'dxuok', 'dycc', 'dyd', 'dyetzi', 'dyfcwsxnbq', 'dyg', 'dygx', 'dyj', 'dyktuj', 'dynasti', 'dynatrac', 'dynavax', 'dynex', 'dynt', 'dyo', 'dyppsbenfo', 'dyrwtw', 'dysfunct', 'dystopia', 'dyt', 'dytan', 'dywd', 'dyxrizeju', 'dz', 'dzbmhnuy', 'dzbxh', 'dzcoiza', 'dzdegwttso', 'dzf', 'dzgvflb', 'dzrqfrpu', 'dzsusw', 'dzu', 'eabx', 'each', 'ead', 'eadsf', 'eadsi', 'eadwinn', 'eaevr', 'eaewzp', 'eafo', 'eahxhyaoci', 'eaizefmitx', 'eakdown', 'eaker', 'eakeven', 'eakingnew', 'eal', 'ealeig', 'eamwcj', 'earbud', 'earxb', 'easemytrip', 'eastwood', 'eaten', 'eateri', 'eaz', 'ebb', 'ebf', 'ebitdar', 'ebix', 'ebm', 'eboorogvc', 'ebpiv', 'ebsufp', 'ebt', 'ebtc', 'ebzkkprbgg', 'eca', 'ecak', 'eceay', 'ecgnpg', 'echina', 'eci', 'ecl', 'ecologist', 'econ', 'econfocus', 'econo', 'econoday', 'economiclett', 'ecswshpqgl', 'ecuadorian', 'ecunow', 'ecwt', 'ecyn', 'edelweiss', 'edenh', 'edhosgnhh', 'edita', 'editori', 'ediwcjk', 'edl', 'edludlow', 'edmundle', 'edncm', 'ednt', 'edo', 'edon', 'edqpl', 'edream', 'edsxnxwpp', 'edwardjon', 'edwardslifesci', 'edwd', 'edyb', 'eeajeb', 'eeajif', 'eecxznxj', 'eee', 'eek', 'eel', 'eelectricmiguel', 'een', 'eep', 'eerst', 'eesfl', 'eesgk', 'eet', 'eeu', 'eexjl', 'eezfyy', 'eff', 'effdia', 'efficaci', 'efl', 'efozmcxpoa', 'efpius', 'efsc', 'eft', 'efx', 'efxja', 'efxwvmd', 'efynwa', 'egain', 'egan', 'egg', 'eghkiju', 'egi', 'egii', 'egklqw', 'egmi', 'egnsyfczfc', 'ego', 'egrx', 'egyptian', 'egz', 'ehang', 'ehavw', 'ehe', 'ehealth', 'ehr', 'ehth', 'ehvsq', 'eicher', 'eieavpdo', 'eighteen', 'eighth', 'eihv', 'eini', 'eio', 'eiq', 'eisai', 'eisjprxd', 'eispist', 'eiy', 'eiyx', 'ejcacciator', 'ejfrrux', 'ejfud', 'ejhwtlygo', 'ejiftp', 'ejnyuyethw', 'ejqbkfvyrt', 'ejrxgnk', 'ekbct', 'eki', 'ekni', 'eko', 'ekpmoluaxu', 'ekso', 'ekta', 'ektl', 'ekx', 'elan', 'elapfuhiih', 'elavon', 'elaxmrc', 'elba', 'elchanan', 'electi', 'elector', 'electrameccanica', 'electrica', 'electrocor', 'electrolux', 'elegoo', 'eleph', 'eletroa', 'eleva', 'elf', 'elfm', 'elg', 'elhwfb', 'elia', 'elig', 'elilillyand', 'eliot', 'eliott', 'elis', 'elkwapxolo', 'ellington', 'ellison', 'ellomay', 'elm', 'elpasostrong', 'elr', 'elsa', 'eltbd', 'eltek', 'eltp', 'elu', 'elz', 'emaer', 'emakbf', 'emami', 'emarmmfkq', 'embark', 'embassi', 'embvuvgb', 'emcor', 'emdktif', 'emerald', 'emergingmarket', 'emerson', 'emfhlygdfp', 'emi', 'emigr', 'emigrant', 'emin', 'emitt', 'emjcv', 'emlga', 'emlrd', 'emmanuel', 'emoil', 'emoji', 'emot', 'emou', 'emphasi', 'emphat', 'empow', 'empower', 'emq', 'emslucp', 'emtacemhip', 'emx', 'emybeiwvfx', 'emyhsj', 'emyon', 'emzelhlci', 'enaf', 'encana', 'encis', 'encor', 'encounterresourc', 'endan', 'endang', 'endeavor', 'endo', 'endp', 'endpoint', 'endv', 'enerbank', 'energetica', 'energia', 'engulf', 'engyh', 'enk', 'enl', 'enlc', 'enlink', 'enni', 'enob', 'enph', 'enphas', 'enqal', 'enrag', 'enrico', 'enstar', 'entegri', 'entercom', 'enteron', 'entg', 'enthusiasm', 'entic', 'entrat', 'entravis', 'entx', 'environn', 'enx', 'eocigkbn', 'eofnyhadqw', 'eokfpqfjqb', 'eooyvehegw', 'eoq', 'eorhnc', 'eot', 'eotn', 'eou', 'eovbhich', 'eowlvxbd', 'epajyprw', 'epc', 'epep', 'epi', 'epic', 'epicentr', 'epizym', 'epk', 'eplus', 'epqrcou', 'epra', 'epstein', 'epwlo', 'eqcltz', 'eqf', 'eqg', 'eqhkqfkuwp', 'eqjd', 'eqmz', 'eqn', 'eqnr', 'eqorzgvqbw', 'eqsi', 'equalweight', 'equin', 'equinox', 'equityresidenti', 'equival', 'eqvnozspw', 'eqyy', 'erben', 'erbssyul', 'erdhvi', 'erdka', 'erdogan', 'erep', 'ergot', 'erii', 'erik', 'eritrean', 'erk', 'erko', 'erm', 'ernest', 'ero', 'erod', 'erqqbi', 'erqri', 'errvn', 'erspnvvazi', 'ert', 'erugn', 'ervelxnx', 'erxnutl', 'esbc', 'escobar', 'ese', 'esea', 'esgr', 'esi', 'eslt', 'esn', 'esnt', 'espana', 'espec', 'esper', 'esr', 'esrsfxj', 'essner', 'esteem', 'estesa', 'esther', 'estr', 'estreambient', 'esvjc', 'eswrqrrdel', 'eta', 'etaotm', 'etc', 'ethanol', 'ethiopia', 'etho', 'etiew', 'etiop', 'etiopia', 'etiquett', 'etjyd', 'etlicf', 'etm', 'etn', 'etrn', 'etueh', 'etx', 'eua', 'eudonet', 'euea', 'euearhrow', 'eufsop', 'euim', 'eum', 'eunlpyar', 'euphoria', 'eurobank', 'europcar', 'eurosea', 'eurusd', 'euvmzmec', 'euvzi', 'euxfuy', 'euxtf', 'euy', 'eva', 'evan', 'evc', 'evd', 'everett', 'evergreen', 'everquot', 'evertz', 'everybodi', 'everywher', 'evgi', 'evgjkb', 'evgymkdbzn', 'evh', 'evikh', 'evil', 'evo', 'evonik', 'evp', 'evpejpmg', 'evpm', 'evqwzwdgdo', 'evr', 'evrg', 'evt', 'evv', 'evvadvg', 'ewbg', 'ewc', 'ewetjckb', 'ewf', 'ewhc', 'ewhisp', 'ewolffmann', 'ewtp', 'ewyq', 'ewzjz', 'exa', 'exaa', 'exaclti', 'exc', 'exclud', 'excus', 'exeboemfyo', 'execu', 'exemplar', 'exercic', 'existenti', 'exiydimzf', 'exkp', 'exl', 'exlservic', 'exnyzdgk', 'exoskeleton', 'exot', 'expan', 'expec', 'experienc', 'expertis', 'explai', 'explan', 'explanatori', 'exploit', 'expon', 'exposur', 'expr', 'exr', 'exrv', 'extent', 'extern', 'extradit', 'extraor', 'extravaganza', 'extremist', 'exx', 'eyeow', 'eyepoint', 'eyfk', 'eyo', 'eypt', 'eyrjh', 'eysgzsvvoy', 'eytjr', 'ez', 'ezfdczi', 'ezlnpgv', 'ezor', 'ezpw', 'ezxlmljlsj', 'faber', 'facbook', 'factbox', 'fadnavi', 'fag', 'fagrbcxezw', 'fahattzrj', 'faic', 'falconstor', 'fallen', 'falli', 'famak', 'famursa', 'fang', 'fantasi', 'fantasia', 'farewel', 'fasmkthebl', 'fatboyslim', 'father', 'fathom', 'fatjo', 'fatprophetspti', 'fatter', 'faucb', 'fauci', 'fault', 'faxv', 'fazuf', 'fbl', 'fblsz', 'fbn', 'fbnc', 'fboamr', 'fboauviymn', 'fbz', 'fcedpo', 'fcel', 'fciq', 'fcj', 'fcqbeqjnd', 'fcr', 'fcstone', 'fcvsr', 'fcwqqae', 'fcwwmkd', 'fczglh', 'fd', 'fdg', 'fdhoqlzpaa', 'fdjjrmi', 'fdrwwdkl', 'fdsivgvqsj', 'fdvt', 'fdw', 'fdx', 'feat', 'fecevhw', 'fedfln', 'fedfras', 'fedreport', 'feebl', 'feedback', 'fefz', 'feih', 'fein', 'felix', 'fenc', 'feng', 'fepi', 'feqigmwib', 'fern', 'ferrato', 'fetch', 'feud', 'feuhsbitjz', 'ffarm', 'ffdd', 'ffdox', 'ffiv', 'ffokazylu', 'fftlbvtgif', 'ffwm', 'fgaif', 'fgb', 'fgbidozlz', 'fgd', 'fgdnbx', 'fgecunfyjc', 'fgewluylvg', 'fgi', 'fgld', 'fgldmwxv', 'fgnq', 'fgrapuz', 'fgslnu', 'fgwz', 'fgylr', 'fgzavndxbd', 'fhahg', 'fhcltedte', 'fher', 'fhfa', 'fhfknxc', 'fhl', 'fhofgb', 'fhpu', 'fhtmkazqwv', 'fhyiaq', 'fia', 'fiasco', 'fictpn', 'fidai', 'fido', 'fiera', 'fieramilano', 'fierc', 'fiesta', 'fif', 'fifjermn', 'fifteen', 'fig', 'figljwuh', 'figment', 'figrx', 'fijyj', 'fikigpdi', 'filer', 'fin', 'finnairoyj', 'fintepla', 'finvolut', 'fiori', 'fiosi', 'firearm', 'firework', 'firog', 'firstfarm', 'firstgroup', 'firsthand', 'fisher', 'fisi', 'fitbit', 'fitfgffi', 'fittest', 'fiu', 'fiumvtxc', 'fiverr', 'fiy', 'fja', 'fjbmic', 'fjec', 'fjhj', 'fjijnuhz', 'fjj', 'fjolusoyuk', 'fjs', 'fjtdza', 'fjxllojdju', 'fka', 'fkavm', 'fkdcgbqdnn', 'fkdifsi', 'fkhxtotwyn', 'fkp', 'fkq', 'fkwi', 'fkwmspri', 'fkxrsoafz', 'fkyrruzc', 'fkzn', 'flacqua', 'flame', 'flammabl', 'flashbackfriday', 'flashforg', 'flatter', 'flavour', 'flbic', 'fldm', 'fledg', 'flee', 'fleetcor', 'fletcher', 'fletcherbuild', 'flexibl', 'flf', 'flightcentretravel', 'flir', 'flj', 'flm', 'flmp', 'floodgat', 'flop', 'flourish', 'flower', 'flowserv', 'flqhdws', 'flr', 'fltgf', 'flu', 'fluctuat', 'fluid', 'fluor', 'flw', 'flxcwzis', 'flydubai', 'flyer', 'flyna', 'fm', 'fmcc', 'fmcolx', 'fmcsa', 'fmdp', 'fmdtfa', 'fmi', 'fmk', 'fmn', 'fmpaiyyac', 'fmr', 'fmuubua', 'fmzuxtslhw', 'fnddb', 'fnemvjcvmj', 'fnf', 'fnhdnb', 'fnjn', 'fnma', 'fns', 'fntrwni', 'fntuqu', 'fnunaya', 'fnv', 'fnxauvyh', 'foafymnyra', 'focal', 'foeg', 'foeq', 'fofho', 'fogrp', 'fojvvjdff', 'fok', 'fold', 'foldabl', 'follo', 'fomo', 'font', 'foo', 'footprint', 'footwear', 'forag', 'foragerfundsmanagementpti', 'foray', 'forbear', 'forefront', 'forese', 'foresight', 'forev', 'forexl', 'forger', 'forgot', 'fori', 'forint', 'formal', 'forman', 'formfactor', 'fort', 'fortiguard', 'fortum', 'forwa', 'fossh', 'fou', 'foubdzydg', 'fought', 'fournierwir', 'fouwz', 'fovdlj', 'fowl', 'foxa', 'foxandfriend', 'foxnew', 'foysl', 'fpd', 'fpfl', 'fpfskykqzm', 'fpga', 'fpp', 'fpt', 'fptft', 'fptrzbi', 'fpu', 'fpvxdb', 'fpxwdcclzh', 'fqafgj', 'fqb', 'fqctv', 'fqdci', 'fqq', 'fqqkpeuxd', 'fqsd', 'fqsyic', 'fqvlf', 'fqzfqi', 'frack', 'francesca', 'frank', 'frankenstein', 'frantic', 'frcf', 'frdsvmv', 'freed', 'freedom', 'freefal', 'freehold', 'freeman', 'freighttech', 'freightwav', 'freldxfw', 'frenchconnect', 'frequent', 'freshest', 'freshfield', 'frewrgzoj', 'frflbmdevp', 'frg', 'frgx', 'friedman', 'frir', 'frj', 'frlrivydji', 'fro', 'froneman', 'frost', 'frown', 'frozqklng', 'frta', 'fru', 'frzibbw', 'frzqlj', 'fsglvr', 'fsis', 'fsl', 'fsn', 'fsqo', 'fsrdf', 'fstmeagxq', 'ftag', 'ftaw', 'ftch', 'ftgdm', 'fthfngnyzj', 'fti', 'ftpx', 'ftt', 'ftxzryy', 'ftzevrqzdv', 'fuad', 'fucnp', 'fuelcel', 'fui', 'fujoda', 'fujr', 'fukuhara', 'fukushima', 'fum', 'fume', 'fumggvzcam', 'fundstrat', 'fuo', 'fur', 'furhu', 'furi', 'furious', 'furlough', 'futr', 'futurefuel', 'futurist', 'fuu', 'fuuxn', 'fve', 'fvelivlhjx', 'fvgtr', 'fvme', 'fvpnw', 'fvuh', 'fvvyazsl', 'fvw', 'fweg', 'fwfauz', 'fwntvthn', 'fwr', 'fwrlx', 'fwtt', 'fwtx', 'fwyannywhi', 'fxbcfuev', 'fxc', 'fxcen', 'fxgylwr', 'fxhj', 'fxkv', 'fxm', 'fxpwjqykxh', 'fxsuom', 'fxt', 'fxwsupuj', 'fyi', 'fylgi', 'fym', 'fyokpv', 'fyoy', 'fyu', 'fyuelowx', 'fyvbotwb', 'fziv', 'fzoqyx', 'fzt', 'fzwcmjzddz', 'gabelli', 'gadkari', 'gaea', 'gafw', 'gaiel', 'gaig', 'gail', 'gaiz', 'galact', 'galileo', 'galileomin', 'gallagh', 'galliford', 'galm', 'galp', 'galpenergiasgp', 'gambit', 'gambler', 'gamer', 'gamida', 'gammacommun', 'gan', 'gandhi', 'gang', 'gangliosidosi', 'gaofc', 'gapper', 'garbad', 'garbag', 'garc', 'gari', 'garnishgath', 'garthf', 'gartman', 'gartner', 'gaselia', 'gasl', 'gasx', 'gata', 'gatt', 'gautam', 'gaw', 'gawdkuc', 'gay', 'gaycbtqo', 'gazp', 'gb', 'gbc', 'gbivspo', 'gbljvsyq', 'gblwlr', 'gbtcdbvmcd', 'gbtkf', 'gbx', 'gc', 'gce', 'gchqdreykw', 'gcj', 'gcl', 'gcluhwx', 'gcpwctbhkz', 'gcsfdi', 'gcsvhl', 'gctay', 'gdasmbclp', 'gdc', 'gdcwumfik', 'gddi', 'gdgxzzgw', 'gdhx', 'gdi', 'gdijt', 'gdot', 'gdpbkyfu', 'gdppjjdttw', 'gduspzf', 'gdwr', 'gearmak', 'gebbtfamjo', 'gebi', 'geezer', 'gef', 'gehxcrx', 'gem', 'gemyk', 'genc', 'gencor', 'genderequ', 'gener', 'generac', 'generalelect', 'generous', 'genesi', 'genfit', 'gengf', 'genius', 'genmab', 'genmark', 'geno', 'genocea', 'genocid', 'genova', 'genovi', 'genpact', 'gentiloni', 'genus', 'geodw', 'geospac', 'geotherm', 'gepogo', 'geqsxmw', 'gerko', 'germ', 'gernot', 'geuikt', 'gevh', 'gevtiaez', 'gewb', 'gezwu', 'gf', 'gfamez', 'gfasr', 'gfengk', 'gff', 'gffh', 'gfnbc', 'gfrd', 'gft', 'gfttechnolog', 'gfyidhmp', 'gfz', 'gfzufgngxi', 'gg', 'ggal', 'ggd', 'gge', 'ggfrvyitb', 'ggfsrlh', 'ggguvn', 'ggh', 'ggki', 'ggkzsyvcpi', 'gglsf', 'ggm', 'ggmr', 'ggpxv', 'ggsutnymc', 'ggz', 'ggzgz', 'ghblualqhp', 'ghcumq', 'ghe', 'gheiragwx', 'ghex', 'ghfv', 'ghikbski', 'ghittetwm', 'ghkbeysrj', 'ghmxbphtxx', 'gho', 'ghosot', 'ghpm', 'ghq', 'ghsi', 'ghv', 'ghwey', 'ghzjcj', 'giabowyskx', 'giapponesi', 'gideon', 'gidjlczqkr', 'gidkkoesfr', 'gignf', 'giiv', 'gilat', 'gillia', 'gillian', 'gimdraomri', 'gird', 'girlfriend', 'git', 'gita', 'gitagopinath', 'giteshpandya', 'github', 'giveaway', 'giver', 'gizg', 'gj', 'gjdtmzu', 'gjjbpf', 'gjmt', 'gjv', 'gk', 'gkan', 'gkdpsc', 'gkehrdi', 'gkfx', 'gkhwfnjz', 'gkiusao', 'gkjx', 'gkllq', 'gkos', 'gkssfpdx', 'gkv', 'glabellar', 'glare', 'glasenberg', 'glaser', 'glauko', 'glaxosmithklin', 'glbs', 'glenmark', 'glg', 'glichen', 'glimmer', 'glimps', 'glioblastoma', 'glmd', 'glnabzgwiu', 'glo', 'globalinvest', 'globalis', 'globalstar', 'globe', 'globenewswir', 'globetron', 'glog', 'gloomi', 'glop', 'glpra', 'gluskin', 'glvs', 'glw', 'glx', 'glynn', 'glyohlohd', 'glyphos', 'gmab', 'gmbius', 'gmch', 'gmda', 'gmfjtvs', 'gmja', 'gmys', 'gnasxxiy', 'gnca', 'gnfm', 'gnft', 'gnge', 'gnlqotkz', 'gnmk', 'gnpufvx', 'gnrc', 'gnrzoizto', 'gnseblnqop', 'gnss', 'gnt', 'gntmkmwrzt', 'gnx', 'gnyorqg', 'goafsypou', 'gobain', 'gobbl', 'gocjarxay', 'gocovri', 'gocqwdb', 'godaddi', 'gode', 'godfrey', 'godot', 'goefg', 'gofxnq', 'goj', 'gok', 'gokk', 'goldfield', 'goldmansach', 'goldon', 'goldonresourc', 'goldrea', 'golub', 'goodyear', 'gopichand', 'gopinath', 'gopyv', 'gordon', 'gore', 'gorgeous', 'gossip', 'gotdn', 'gotta', 'gotten', 'gouverneur', 'govb', 'governo', 'govitecan', 'govzydt', 'gowb', 'gowdi', 'goxpdlzwlo', 'gozxv', 'gpaw', 'gpe', 'gpezpx', 'gph', 'gphuqgsr', 'gphwo', 'gpif', 'gpndmw', 'gpotd', 'gpp', 'gpqtldjz', 'gpre', 'gpu', 'gqbn', 'gqgzobnaug', 'gqi', 'gqinsmgo', 'gqjpfio', 'gqkwcvjinx', 'gql', 'gqprx', 'gqrhzoccbi', 'gqtwfbn', 'gqv', 'gqxqdr', 'graco', 'grade', 'graftech', 'gralis', 'grammi', 'grandmoth', 'grandpar', 'grappl', 'grayscal', 'greec', 'greenier', 'greenlan', 'greenland', 'greenleaf', 'greensboro', 'greenwash', 'greg', 'gregorio', 'greif', 'grenz', 'gretesuarez', 'grf', 'gridlock', 'grij', 'grim', 'grlu', 'gro', 'grom', 'grootst', 'gross', 'grote', 'groupon', 'growork', 'grrr', 'grrygcvywi', 'grumman', 'grupa', 'grupalotossa', 'grz', 'grzygzwyph', 'gsat', 'gsb', 'gsh', 'gsi', 'gsit', 'gsma', 'gspovrxc', 'gsprqtsbkh', 'gsscdooh', 'gsyq', 'gtes', 'gtgsmnud', 'gtgxkbsgj', 'gtk', 'gtl', 'gtlqq', 'gts', 'gtun', 'guangfa', 'guangp', 'guangshen', 'guangzhou', 'guardian', 'guardion', 'guatemala', 'gucglvc', 'guggenheimpartnersllc', 'guijp', 'gulfport', 'gullz', 'gum', 'gup', 'gush', 'guskxssi', 'guw', 'guyana', 'guz', 'gvcquqxb', 'gvdgee', 'gvenrbisjo', 'gvg', 'gvh', 'gvi', 'gviljgmuzh', 'gvqdcldsvo', 'gvrg', 'gvvczxepu', 'gvw', 'gvynwr', 'gwahc', 'gwaux', 'gwk', 'gwkboapd', 'gwljrh', 'gwmkk', 'gwpgjvu', 'gwsqsepuc', 'gwxjldmgxu', 'gwxm', 'gwxsp', 'gwybbdq', 'gwyneth', 'gwysmhllz', 'gxascotvq', 'gxdz', 'gxfkjjlcqj', 'gxi', 'gxiuv', 'gxkqdvzhg', 'gxnzp', 'gxou', 'gxp', 'gxvlyv', 'gxyef', 'gxyzzsiwr', 'gyar', 'gycx', 'gyfjvclfez', 'gyg', 'gyhzvb', 'gymz', 'gyvx', 'gzcevw', 'gzdaop', 'gzdm', 'gzf', 'gzi', 'gzigtcrm', 'gzmk', 'gzmtuhntl', 'gzphfoccsq', 'gzqaqybl', 'gzrd', 'gzwtn', 'gzyjfafiv', 'hab', 'hae', 'haeaerqhyb', 'hagerti', 'hail', 'hair', 'haitong', 'hakuna', 'halalah', 'haldan', 'haldenstein', 'halftim', 'halfway', 'halifax', 'halliburton', 'hallucin', 'hallum', 'halma', 'halmi', 'hamborn', 'hammerson', 'hammond', 'hancock', 'handbag', 'handoff', 'handov', 'haneda', 'hangov', 'hangseng', 'hankinta', 'hanretti', 'hansewerk', 'hao', 'haplf', 'haqh', 'hara', 'harboron', 'harbour', 'harbourvest', 'hardest', 'hardlin', 'hare', 'hargreav', 'harker', 'harley', 'harm', 'harmoni', 'harsh', 'harshest', 'hart', 'haskel', 'hasucg', 'hauss', 'havent', 'havilah', 'havilahresourc', 'havilland', 'havmcew', 'havozv', 'hawaii', 'hawk', 'hazard', 'hbbjcimtoa', 'hbfmzkuvj', 'hbgmqkuh', 'hbkzuntgpp', 'hbo', 'hbsmdo', 'hbwatuxox', 'hbxi', 'hcbnqljzr', 'hcdu', 'hchfmohnzt', 'hcm', 'hcrhymlwz', 'hcrp', 'hcrv', 'hcsg', 'hcyjxx', 'hddgcmi', 'hddvopybz', 'hde', 'hdge', 'hdhornu', 'hdil', 'hdltjb', 'hdlzo', 'hdn', 'hdp', 'hdr', 'hdthp', 'hdvbawfdeg', 'hdvinnzqdd', 'hdypx', 'he', 'headl', 'heal', 'healthequ', 'healthier', 'heartland', 'heathrow', 'heatmap', 'heavili', 'heavyweight', 'hebei', 'hee', 'heed', 'heel', 'heez', 'hefh', 'hefti', 'heftier', 'heico', 'heidrick', 'heinrich', 'heir', 'heist', 'hele', 'helio', 'helius', 'helix', 'heller', 'hellip', 'hellman', 'helntupgc', 'hematolog', 'hembla', 'hemingway', 'hemp', 'hemzyuh', 'henkel', 'henri', 'hepcidin', 'hepion', 'herbicid', 'herceptin', 'hercul', 'herd', 'heritag', 'hernandez', 'heroin', 'hersha', 'hertz', 'herz', 'hetl', 'hev', 'hewlett', 'hex', 'hexa', 'hexagonresourc', 'hexcel', 'hexindai', 'hexw', 'hexznzx', 'heytammyuc', 'hfa', 'hfbdo', 'hfbphtvkdi', 'hfc', 'hfi', 'hfn', 'hfpd', 'hfu', 'hgb', 'hgbl', 'hgefji', 'hgj', 'hgk', 'hgknb', 'hglqong', 'hgn', 'hhe', 'hhiznmvwpt', 'hhopj', 'hhq', 'hhs', 'hhx', 'hhyqx', 'hibbett', 'hibz', 'hidbshxwa', 'hig', 'highwood', 'highwoodsproperti', 'higjcc', 'hiho', 'hik', 'hillari', 'hillhous', 'hilltop', 'hilzing', 'hin', 'hindu', 'hinduja', 'hinguck', 'hist', 'histo', 'histolog', 'hiueonqvuq', 'hiujtrikux', 'hiumu', 'hiwgprk', 'hizufglrjd', 'hjapjq', 'hjd', 'hjf', 'hjjpxz', 'hjkgyo', 'hjpva', 'hjpxtjs', 'hjtwmue', 'hjvkcx', 'hjxizup', 'hjzumtd', 'hkcr', 'hkdsfjxi', 'hkizeo', 'hkll', 'hklnpbnar', 'hkscan', 'hktqx', 'hkvs', 'hlbntyokf', 'hlc', 'hlgr', 'hlh', 'hlhvyhefxz', 'hlio', 'hljduvzp', 'hljqs', 'hlkzcr', 'hlmaf', 'hlmkjpedfw', 'hlmli', 'hlns', 'hlodfpbfn', 'hlokfkyzd', 'hloz', 'hlsbjmi', 'hlt', 'hluduk', 'hlvbyyprxg', 'hlvjppowgc', 'hlvr', 'hlywd', 'hlzgicjldp', 'hmbzzmpbq', 'hmc', 'hmfvq', 'hmlp', 'hmmj', 'hmmpngx', 'hmpzjhunpn', 'hmqcorsjdi', 'hmt', 'hmtk', 'hmvmsd', 'hmztvhh', 'hnef', 'hnhaf', 'hnhpd', 'hnnehzkhri', 'hnnogldxma', 'hnpz', 'hnscc', 'hnutv', 'hnvjl', 'hnwesu', 'hnx', 'hodg', 'hoe', 'hoffler', 'hogan', 'hoi', 'hoiysgn', 'holdout', 'holi', 'holid', 'holidaymak', 'holli', 'hollysi', 'holx', 'hom', 'homb', 'homegood', 'hometown', 'hondura', 'hone', 'honest', 'honey', 'honore', 'hoodi', 'hoof', 'hoogst', 'hop', 'hopi', 'hopwy', 'hoqe', 'horgan', 'hormel', 'hormuz', 'horrif', 'horrifi', 'hors', 'hose', 'hotter', 'hovd', 'howard', 'howev', 'hoxton', 'hpbgsqikza', 'hphyn', 'hpmproefl', 'hpn', 'hpnjc', 'hppfzav', 'hppi', 'hprhqtf', 'hptfpb', 'hpxobcxi', 'hpyxj', 'hqa', 'hqfoqxvoq', 'hqjea', 'hqkw', 'hqla', 'hqm', 'hqp', 'hqpkagrdt', 'hqpotmt', 'hrb', 'hrc', 'hrezlcdp', 'hrigen', 'hrokrsypr', 'hrpz', 'hrq', 'hrsh', 'hrtjagsavf', 'hrudau', 'hrwatuq', 'hryndb', 'hsbdioxrgc', 'hscei', 'hsceta', 'hsct', 'hsdt', 'hsgxo', 'hsic', 'hsii', 'hsim', 'hson', 'hsrc', 'hstuaown', 'hswcvjb', 'hsyzktvifn', 'htc', 'htcvorun', 'htdh', 'htffyz', 'htg', 'htgm', 'htgmaquldq', 'hthqzkjhui', 'htht', 'htjerauadu', 'htkurmvstw', 'htmusyazr', 'htpupd', 'htqi', 'htqys', 'htti', 'htukzpci', 'hubei', 'huctphbd', 'hudutywscm', 'hueh', 'hugpftwzzh', 'hugvwmg', 'huh', 'huhcdwnfgd', 'hui', 'hulfq', 'hulu', 'humana', 'humanist', 'humbl', 'humili', 'humira', 'hummer', 'hummingbird', 'humor', 'hun', 'hunger', 'hungri', 'hunk', 'huntsman', 'huoalaxfwi', 'hurdl', 'hurrah', 'hurri', 'hurrican', 'husband', 'hussaini', 'hutchen', 'hutchison', 'huwqdgf', 'huwt', 'hvbmfl', 'hvc', 'hvem', 'hvffdrdt', 'hvjcc', 'hvoqq', 'hvw', 'hvxxugfg', 'hvz', 'hwb', 'hwclbygrg', 'hwe', 'hwghkf', 'hwjh', 'hwk', 'hwm', 'hwni', 'hwxxzzyc', 'hxgx', 'hxl', 'hxm', 'hxsq', 'hxubdzwbjk', 'hxuwacau', 'hxvhi', 'hxxryg', 'hxxt', 'hxznc', 'hybpfl', 'hyderabad', 'hydraul', 'hydrovac', 'hydroxychloroquin', 'hyf', 'hygien', 'hyht', 'hyid', 'hyman', 'hymtf', 'hyna', 'hyperinfl', 'hypocrisi', 'hypothec', 'hypothet', 'hyupgnrq', 'hyxf', 'hyydgpltcq', 'hyzvpnbon', 'hzd', 'hzgcgpj', 'hzgdybf', 'hzj', 'hzoj', 'hzrhsv', 'iaa', 'iafk', 'iag', 'iakzmznb', 'iamgold', 'ianreport', 'ianyb', 'iaqjglc', 'iata', 'iatcn', 'iatk', 'ibb', 'ibc', 'ibg', 'ibgax', 'ibh', 'ibhm', 'ibio', 'ibkr', 'iblpvbnp', 'ibn', 'ibsfyvpvtd', 'ibto', 'ibu', 'ibuy', 'ibzwyzx', 'iceberg', 'icenabix', 'iceu', 'ici', 'icici', 'icigtutn', 'ick', 'icln', 'icmb', 'icoiag', 'icp', 'icq', 'icqpix', 'ictiv', 'icu', 'icwi', 'icyi', 'ida', 'idacorp', 'idaho', 'idamd', 'idc', 'idcj', 'ideaforg', 'idealist', 'ideolog', 'idera', 'idex', 'idget', 'idgetteawebb', 'idgewat', 'idh', 'idiosyncrat', 'idjit', 'idq', 'idra', 'idvbph', 'idvplxrdjl', 'iea', 'ieb', 'iedlp', 'iefin', 'ieipl', 'ieiraxz', 'iejxx', 'ielf', 'ier', 'ierjsl', 'ierley', 'ietauiy', 'iewvcf', 'ifc', 'ifdw', 'ifft', 'ifhax', 'ifkjaifl', 'ifkrh', 'ifm', 'ifnk', 'ifood', 'ifr', 'ifsc', 'iftm', 'ifuaa', 'ifus', 'ifvaf', 'igdt', 'iger', 'igham', 'ighten', 'ightspher', 'igjtrct', 'iglb', 'ign', 'ignrpuvq', 'igtv', 'igtxo', 'igv', 'igx', 'igxc', 'igyf', 'igyqnhmwux', 'ihbuwl', 'ihdwssxmi', 'iheartmedia', 'iheo', 'ihfgrkk', 'ihg', 'ihnepi', 'ihnpjvh', 'ihowpzrjp', 'ihqepmi', 'ihttruj', 'ihvfdzdh', 'ihwljdupuj', 'iia', 'iidan', 'iif', 'iigpzukrf', 'iii', 'iilxbd', 'iilyzqpudu', 'iimlhi', 'iin', 'iinzcpnd', 'iiod', 'iip', 'iit', 'iitvrt', 'iivi', 'iiwvxtvbxl', 'iiwyhkss', 'ijgg', 'ijkqfzc', 'ijl', 'ijlfz', 'ijmcqzb', 'ijomi', 'ijqzlh', 'ijrfvmfzwq', 'ijrghxowlc', 'ika', 'ikbdkhn', 'ikdhlgygzz', 'ikdjuhklwr', 'iki', 'ikkmglimod', 'iklyfjynhn', 'ikogf', 'ikp', 'ikzid', 'ilbcnjchum', 'ilika', 'ilkka', 'illcpozpo', 'illumin', 'illycaff', 'ilnkk', 'ilnobcfp', 'ilpt', 'ilscvh', 'ilvp', 'imaginu', 'iman', 'imbi', 'imctkdo', 'imdjjzn', 'imedia', 'imeri', 'imgn', 'imh', 'imho', 'imm', 'immers', 'immunodiagnost', 'immunogen', 'impal', 'impend', 'imperil', 'imperium', 'impinj', 'imprison', 'improp', 'improvis', 'impuls', 'imutcatv', 'imwmv', 'imzuoroq', 'in', 'inaccess', 'inavess', 'inb', 'inbound', 'incluindo', 'incompet', 'inconclus', 'increment', 'indegi', 'indemn', 'indi', 'indiana', 'indianapoli', 'indig', 'indigen', 'indonesian', 'indp', 'indu', 'industr', 'inesreport', 'inexpens', 'inf', 'infal', 'infam', 'infer', 'infidel', 'infin', 'infineon', 'infinera', 'inflammatori', 'inflect', 'influenc', 'infograph', 'infor', 'infosi', 'infr', 'infratechnolog', 'ingersol', 'ingl', 'ingr', 'ingram', 'ingredi', 'ingredion', 'ingsjyq', 'inherit', 'inhibitor', 'iniciativi', 'injkourtw', 'inkgg', 'inlay', 'inmg', 'inmmqql', 'inn', 'innat', 'innerscop', 'innio', 'innodisk', 'innova', 'innovest', 'inov', 'inovalon', 'inprey', 'input', 'insati', 'insert', 'insist', 'instabl', 'instadollar', 'insuffici', 'insulet', 'intang', 'integra', 'inteligent', 'interbank', 'intercontinent', 'interestr', 'interfer', 'interior', 'interlink', 'interna', 'interpret', 'interrupt', 'intersect', 'interv', 'intesa', 'intfafctm', 'intiati', 'intricon', 'intrigu', 'intrud', 'invas', 'invers', 'inversion', 'invesc', 'investopedia', 'invictus', 'invis', 'invista', 'invokana', 'invora', 'inyecci', 'iocfohm', 'iofdnk', 'ioncxm', 'iong', 'ioo', 'iopltg', 'ioq', 'ioqzubgflf', 'iousg', 'iovnuji', 'iovwriehz', 'ipamhfd', 'ipefajn', 'ipg', 'ipizutcujw', 'ipjsog', 'ipk', 'ipr', 'ipthal', 'ipwgaqxp', 'iqa', 'iqahvqo', 'iqambtdsxj', 'iqfm', 'iqiyi', 'iql', 'iqm', 'iqo', 'iqpcap', 'iqq', 'iqx', 'iqxrt', 'iqyonqvafx', 'iqzw', 'iret', 'iridium', 'irishman', 'irl', 'ironroad', 'irpislfj', 'irrat', 'irrelev', 'irrnzpbhdt', 'irsa', 'iru', 'irupoa', 'irvw', 'isaac', 'isbp', 'ise', 'ishflfxk', 'isket', 'iso', 'isocnaqhv', 'isol', 'isoray', 'isotop', 'isp', 'isqgo', 'isqwosampc', 'isr', 'isucokc', 'isvlf', 'iswt', 'isxibyptxp', 'ita', 'italienisch', 'itannia', 'itb', 'itcitsweb', 'itd', 'itisfvttt', 'itiv', 'itjawvm', 'itkx', 'itlbcyibxj', 'itm', 'itmzmp', 'itp', 'itplhncbxg', 'itrm', 'itu', 'itub', 'itw', 'ityysh', 'iuaj', 'iuhhlcivja', 'iuic', 'iujdjzqi', 'iujyw', 'iukuoxaamu', 'iula', 'iunauiuk', 'iuoohfsk', 'iuovd', 'iup', 'iupi', 'iuqjwaefen', 'iuvn', 'iuwi', 'iuzfq', 'ivan', 'ivd', 'iver', 'ivg', 'ivi', 'iviyqwlpc', 'ivnnq', 'ivol', 'ivolzncc', 'ivori', 'ivpiid', 'ivr', 'ivu', 'ivupf', 'ivzfrgmeej', 'iwagah', 'iwmpbcyp', 'iwob', 'iwp', 'iwsi', 'iwvb', 'iwzbpj', 'ix', 'ixa', 'ixappnc', 'ixcdd', 'ixcdqzfcb', 'ixgxtz', 'ixnaccuy', 'ixnyugxsrx', 'ixry', 'ixx', 'ixyhl', 'ixyhmm', 'iydqj', 'iyf', 'iyoynnkdyh', 'iysefhczgi', 'iytno', 'izdbtdpc', 'ize', 'izkqhpwjbu', 'izmf', 'izoflwxuqx', 'izpq', 'izsdntf', 'izx', 'ja', 'jaax', 'jacknicklaus', 'jacksonvill', 'jacobsen', 'jaglom', 'jaguar', 'jahukni', 'jain', 'jair', 'jam', 'jamal', 'jamkcj', 'janci', 'januaryr', 'japanexchang', 'japans', 'japp', 'jar', 'jarrod', 'jarvi', 'jarvissecur', 'jasklbath', 'jason', 'jasoninthehous', 'jasper', 'jat', 'javf', 'javier', 'jaype', 'jayrc', 'jbas', 'jbd', 'jbfmud', 'jbfqzg', 'jbfzph', 'jbkjc', 'jbllpdmiyc', 'jblu', 'jbo', 'jbpj', 'jbqmtavrbn', 'jbqwdgft', 'jbs', 'jbsay', 'jbss', 'jbt', 'jbym', 'jbyxod', 'jca', 'jcdcr', 'jcga', 'jci', 'jcii', 'jcktujzxj', 'jcqnvzcr', 'jcyjmxk', 'jdceo', 'jdcpfp', 'jdh', 'jdk', 'jdlioq', 'jdpnc', 'jdqi', 'jdt', 'jdyjn', 'jdypdu', 'jdzebgcsp', 'jebb', 'jecxlxrrr', 'jeffcooperl', 'jegsyl', 'jej', 'jel', 'jem', 'jemaswad', 'jenesi', 'jeopard', 'jerusalem', 'jerwwqcs', 'jess', 'jessicaasmith', 'jesus', 'jetblueairway', 'jetstar', 'jew', 'jewelleri', 'jffu', 'jfggqzwbe', 'jfi', 'jfj', 'jfjjpojybt', 'jfkplyj', 'jfkw', 'jfntmwx', 'jfpxflnasi', 'jfrjws', 'jfvprc', 'jgcdmtpizo', 'jgdavmjg', 'jgejqei', 'jggd', 'jgk', 'jgmtvnkfsx', 'jgnzirao', 'jgusyg', 'jgw', 'jgxhlovctf', 'jhco', 'jhd', 'jhjastsijg', 'jhjbm', 'jhltzljyb', 'jhmtuiqx', 'jhrfsxb', 'jhwoxnuq', 'jhxvj', 'jhzjcgjzbv', 'jian', 'jiatolentino', 'jiazrzh', 'jifpxgr', 'jiggi', 'jih', 'jihadist', 'jij', 'jinzhou', 'jiqidvgvnz', 'jiz', 'jizkyc', 'jjlkp', 'jjnixg', 'jjxas', 'jjxrd', 'jkat', 'jkate', 'jkbapjx', 'jkbgx', 'jkdqgtgcm', 'jkfj', 'jkkq', 'jkkxjv', 'jklsjkffrs', 'jkn', 'jkng', 'jkr', 'jkvn', 'jkyhfvi', 'jkz', 'jlawazwb', 'jlcqjmopo', 'jleobuv', 'jlfhwa', 'jli', 'jlik', 'jlilzccffu', 'jliv', 'jlmxcz', 'jln', 'jloei', 'jlqs', 'jlvjlzklqq', 'jlvv', 'jmffi', 'jmj', 'jmp', 'jmpbxoahsh', 'jmphqjcdtc', 'jmragmxruu', 'jn', 'jni', 'jniy', 'jnjt', 'jnonz', 'jnpnjxicq', 'jnr', 'jns', 'jnsedv', 'jnug', 'jnyexox', 'joana', 'jochen', 'joctxfxalb', 'jod', 'joey', 'joff', 'jofhztfnla', 'jofyhm', 'johannesburg', 'johbv', 'johdon', 'johnfollain', 'jok', 'jolt', 'jonathan', 'jond', 'jonfortt', 'jong', 'joomoikpeo', 'jos', 'jose', 'josxqrinfl', 'jotq', 'joy', 'joyd', 'jpfztc', 'jpis', 'jpji', 'jpjqqgwbhx', 'jpst', 'jpz', 'jqdiei', 'jqdsccwgk', 'jqel', 'jqhmnd', 'jqi', 'jqigssh', 'jqm', 'jqt', 'jqvj', 'jqvx', 'jqwnr', 'jqxjqehofu', 'jqyqpcebpj', 'jrbwz', 'jrdmztvmt', 'jrfh', 'jrfqi', 'jrirz', 'jro', 'jrpxos', 'jrqmtsrtbf', 'jrxd', 'jsc', 'jshkmdstj', 'jsobwprkkf', 'jsqhg', 'jstlf', 'jstti', 'jstuqnuvn', 'jsvtgdjvn', 'jsxx', 'jszhp', 'jta', 'jte', 'jtgw', 'jtmm', 'jtoyd', 'jttv', 'jtvi', 'jtxnywzqm', 'jtzohhcmeb', 'judgement', 'judgment', 'judici', 'judiciari', 'juhi', 'juhsb', 'jukmwkz', 'jul', 'julbm', 'jumanji', 'juniata', 'junip', 'juo', 'jupai', 'juri', 'jus', 'justcapit', 'juvf', 'jvbpmhz', 'jvg', 'jvip', 'jvls', 'jvm', 'jvmi', 'jvorgnxqff', 'jvttsltxhc', 'jvuqqsp', 'jvz', 'jvze', 'jwb', 'jwcaf', 'jwcyqcemg', 'jwfgvim', 'jwgl', 'jwkcet', 'jwlhc', 'jwmhjp', 'jwqyk', 'jwrdcpl', 'jwt', 'jwzhb', 'jxanoasn', 'jxdvmxv', 'jxhkau', 'jxhmt', 'jxizyg', 'jxjg', 'jxmiwi', 'jxoi', 'jxtr', 'jxxd', 'jxznb', 'jxzzktnwx', 'jyb', 'jypx', 'jyumolcg', 'jyusawuslc', 'jyyykimr', 'jzex', 'jzfb', 'jzfq', 'jzm', 'jzxbhhjwou', 'kaepernick', 'kagw', 'kai', 'kairo', 'kala', 'kale', 'kaleido', 'kamala', 'kaman', 'kana', 'kansascityf', 'kanter', 'kany', 'kapsch', 'kaqyy', 'karam', 'karankawa', 'karat', 'kardashian', 'karelian', 'kareliandiamondresourc', 'karina', 'karlbykarlsmith', 'karvi', 'karxt', 'kasei', 'kashkari', 'katipult', 'katrina', 'kaviemdxpl', 'kay', 'kazia', 'kbblemsoqc', 'kbc', 'kbca', 'kbcd', 'kbftsfj', 'kbijmsancl', 'kbw', 'kc', 'kcdoa', 'kcmpj', 'kcntjubjt', 'kcq', 'kcqdmr', 'kct', 'kcvbxc', 'kcxhrwbwap', 'kcysmev', 'kczgnsmoi', 'kdcjiswcop', 'kdmn', 'kdz', 'kdzvxepe', 'keavow', 'keb', 'kedaara', 'kedkezu', 'kedljx', 'kedpsjlcd', 'kee', 'keh', 'keith', 'kej', 'kekxnfjegz', 'kelli', 'kellyann', 'kelpasmldn', 'kemet', 'ken', 'kenneth', 'kenni', 'keppel', 'kerala', 'kerlink', 'kern', 'kerri', 'kesten', 'ketter', 'keurig', 'keurigdrpepp', 'kevjng', 'keyn', 'kezar', 'kezg', 'kf', 'kfbwyq', 'kfd', 'kfdhjtrc', 'kffb', 'kfhbj', 'kfk', 'kfkurq', 'kfpaweovgo', 'kftfb', 'kfyac', 'kfyh', 'kga', 'kgeorgieva', 'kgfhkv', 'kgi', 'kglsjomqjx', 'kgpqp', 'kgqyxvcufj', 'kgsclannzo', 'kgssofubhk', 'kgz', 'khaanu', 'khdjg', 'khjs', 'khjvfxou', 'khlmvsm', 'khxutngmzw', 'kickoff', 'kiinteist', 'kiku', 'kil', 'kilmead', 'kilo', 'kilogram', 'kilomet', 'kimco', 'kimyt', 'kin', 'kincora', 'kinda', 'kinnevik', 'kinross', 'kiovb', 'kioxia', 'kiswez', 'kitchen', 'kite', 'kiwi', 'kiz', 'kizopjpo', 'kjbeilzc', 'kjf', 'kjixsngt', 'kjl', 'kjn', 'kjnl', 'kjue', 'kjxlrs', 'kkcyjt', 'kken', 'kkfb', 'kkm', 'kkqzvudvl', 'kkryy', 'kkuo', 'kkuvkr', 'kla', 'klac', 'klcfeonvyi', 'klektk', 'klnlvt', 'klpw', 'kluwer', 'klx', 'klxcysr', 'klxlokgmu', 'kmc', 'kmcl', 'kmegz', 'kmhbjumvdc', 'kmhx', 'kmi', 'kmihsmhvwa', 'kmk', 'kmkhw', 'kmpr', 'kmqxvs', 'kmqyk', 'kmtod', 'kmx', 'kmzxdj', 'knell', 'knfwstb', 'knhuhl', 'kni', 'knife', 'knkpkhbhhm', 'knmi', 'knorr', 'known', 'knr', 'knrcon', 'knsl', 'knsm', 'kntnfbs', 'knuteb', 'knuvf', 'knvru', 'knx', 'kobe', 'kobttjfr', 'kobu', 'koch', 'kocherlakota', 'kodk', 'kodr', 'kofil', 'kojwhtc', 'kolleg', 'komileva', 'kommend', 'konatel', 'kone', 'konecran', 'koninklijk', 'konjkjaqaq', 'korhk', 'korlym', 'koruna', 'kosc', 'kosmo', 'kosovo', 'kotttr', 'kozlowski', 'kpbysxn', 'kpcf', 'kpcn', 'kpjtxcefi', 'kpm', 'kpmg', 'kprc', 'kptkwzjkfz', 'kpvmxmyuhb', 'kqbu', 'kqci', 'kqpf', 'kqppbne', 'kqtpl', 'kqxv', 'kqz', 'kredi', 'kreditnyi', 'kremlin', 'krhh', 'krhmkbo', 'kri', 'krlka', 'krmez', 'krofuxu', 'krt', 'krugman', 'krvjlfdpgq', 'ksbxamzpba', 'ksh', 'kskaxkxlz', 'ksm', 'ksrqi', 'kssomveud', 'kst', 'ktcax', 'ktdte', 'ktk', 'ktoa', 'ktppf', 'ktueb', 'kub', 'kucvufa', 'kuehn', 'kuhi', 'kuhw', 'kuixol', 'kumar', 'kume', 'kunal', 'kunjofo', 'kuqfwen', 'kurdish', 'kurewa', 'kurland', 'kuswejoi', 'kuwaiti', 'kuxyjku', 'kuy', 'kuzfsskiv', 'kve', 'kvisj', 'kvkrx', 'kvp', 'kvpap', 'kvzyiqejaf', 'kvzzhs', 'kwji', 'kwmdbi', 'kwo', 'kwomqvoha', 'kwomuvvr', 'kwqfm', 'kwqshhfnt', 'kwreshgbvz', 'kwtmdlf', 'kwutdidibi', 'kwypetizem', 'kwzoccm', 'kxanx', 'kxbc', 'kxidc', 'kxlbd', 'kxm', 'kxotkbsmfw', 'kxri', 'kxt', 'kxziy', 'kxzus', 'kycbephsm', 'kycywg', 'kyd', 'kyhev', 'kyle', 'kymdow', 'kymriah', 'kypkfasjmf', 'kypl', 'kyr', 'kytni', 'kyzzi', 'kzh', 'kzia', 'kzr', 'kzt', 'kztr', 'kzwukz', 'kzx', 'kzzahcb', 'lachlan', 'laci', 'lacklust', 'lacroix', 'laden', 'lagonda', 'lahood', 'lahsqxtw', 'laid', 'laj', 'laji', 'lakl', 'lamp', 'lanai', 'lanc', 'lanceert', 'landec', 'landfil', 'landlord', 'landsbankinn', 'lane', 'lanesborough', 'languish', 'lanier', 'lanza', 'lao', 'laph', 'laptop', 'laqohqxpgg', 'larger', 'larkin', 'larm', 'laruxzgl', 'laser', 'latam', 'latch', 'latrobemagnesium', 'lau', 'laud', 'lauderdal', 'lauhi', 'lauoccnh', 'lauren', 'lax', 'layaway', 'laz', 'lazard', 'lbadfrt', 'lbe', 'lbizqbgjv', 'lbjtb', 'lbl', 'lblh', 'lbqlo', 'lbu', 'lbvtti', 'lcgnhyqi', 'lchtk', 'lcjundprw', 'lclcl', 'lcn', 'lcojbwtf', 'lcp', 'lcut', 'lcv', 'lddmg', 'ldfzbimju', 'ldiylb', 'ldl', 'ldpg', 'ldpi', 'ldro', 'ldt', 'ldtzutzvtm', 'ldu', 'ldufbyfi', 'leaderboard', 'leafli', 'leaseback', 'lebanes', 'leco', 'lectra', 'ledels', 'leduc', 'legaci', 'leggett', 'lego', 'legrand', 'lehman', 'leifnfmtbw', 'leisur', 'lekrdpdd', 'lelaj', 'len', 'lenabasum', 'lendleas', 'lengthi', 'lenienc', 'lenovo', 'leon', 'leonard', 'lesmhgbhhc', 'letdown', 'lethf', 'leti', 'leve', 'lever', 'lewt', 'lexinfintech', 'ley', 'leygfcihx', 'leyland', 'lfaflcgp', 'lfe', 'lfewpli', 'lfgbjprat', 'lfgdeamecr', 'lfiymfnpz', 'lfjwz', 'lfni', 'lfpyftt', 'lfttu', 'lfus', 'lfvn', 'lfw', 'lgd', 'lgdbdqom', 'lgewcjympn', 'lgffpkdo', 'lgi', 'lgih', 'lglj', 'lglpk', 'lgmhw', 'lgnubmcu', 'lgo', 'lgp', 'lgw', 'lgycaq', 'lhap', 'lhat', 'lhdgofhaw', 'lhdwvskygp', 'lhec', 'lhfzm', 'lhi', 'lhjdtmxc', 'lhkk', 'lhof', 'lhpi', 'lhqwo', 'lhszpn', 'lht', 'lhttgqt', 'lhvtleocnr', 'lhx', 'lia', 'liabl', 'liag', 'liber', 'libor', 'libyan', 'licenc', 'licht', 'lict', 'lid', 'lidytj', 'lien', 'lifeblood', 'lifelik', 'lifestyl', 'lifevantag', 'ligand', 'lighter', 'lightidg', 'lightinthebox', 'liia', 'liigx', 'liiketoimet', 'lik', 'likd', 'likelihood', 'lilklki', 'lime', 'limelight', 'limin', 'liminair', 'limp', 'lin', 'linc', 'lincolnminer', 'linha', 'linkedinecon', 'linscott', 'linux', 'lion', 'lipper', 'lipso', 'lipstick', 'liqt', 'liqtech', 'liquefiednaturalga', 'lisa', 'lise', 'lisju', 'lite', 'lithiumconsolid', 'litter', 'liveperson', 'livestream', 'liveworld', 'livexlivemedia', 'livinglen', 'livongo', 'liw', 'liwkftlvt', 'ljb', 'ljbdelmx', 'ljganz', 'ljgdhiy', 'ljgehtkbha', 'ljiq', 'ljkfsc', 'ljktdw', 'ljlauoolya', 'ljpuqlkkhr', 'ljqtgsqlwi', 'ljrgw', 'ljxcmnekuu', 'ljyrha', 'lkfaguimno', 'lkjuqcqekv', 'lksd', 'lktrwvbgth', 'lkv', 'lkw', 'lkyfwaxekt', 'llepki', 'ller', 'llit', 'llnm', 'llnw', 'lloyd', 'lloydsbank', 'llqc', 'llsrepmnul', 'llx', 'lmd', 'lmfatx', 'lmfwiyq', 'lmknlbjino', 'lmmpva', 'lmnkvtpi', 'lmnl', 'lmpndtqj', 'lmptunxex', 'lmv', 'lmvb', 'lmvnrj', 'lmzx', 'lnbjt', 'lndc', 'lnegdrhuln', 'lnfrb', 'lninofnbwc', 'lninw', 'lniqqtzt', 'lnk', 'lnke', 'lnmq', 'lnn', 'lnpkuyntqr', 'lnvgi', 'lobbi', 'loeb', 'loex', 'lofcimpnyq', 'log', 'logic', 'logicbio', 'logmein', 'logn', 'logp', 'lohveb', 'loiatgu', 'lojocgyzfq', 'lolhti', 'londong', 'loneli', 'lonestar', 'longev', 'longshortfund', 'looker', 'loon', 'loos', 'loosen', 'lopnkjwnej', 'lori', 'loto', 'lotpf', 'louder', 'louisiana', 'lowbonar', 'loyalti', 'lphegpva', 'lphk', 'lpj', 'lpkgzpcf', 'lplizqtwm', 'lpngn', 'lpuucorz', 'lqemiipuxz', 'lqh', 'lqla', 'lqmh', 'lqya', 'lrcx', 'lrewtam', 'lrkrg', 'lrofmpi', 'lrtef', 'lsc', 'lsco', 'lsfuo', 'lsj', 'lsnl', 'lsodhoaqrj', 'lsof', 'lspogidvgj', 'lsqdf', 'lss', 'lssrh', 'ltbay', 'ltgakfbgv', 'ltgevzv', 'ltgoxfiebo', 'lthm', 'lti', 'ltijma', 'ltn', 'ltov', 'ltq', 'luawdd', 'lub', 'lucill', 'luck', 'lucki', 'lucro', 'luctn', 'ludlow', 'luermbw', 'lufaw', 'lufthansa', 'luicant', 'luke', 'lukewarm', 'lul', 'lull', 'luminus', 'lun', 'lunch', 'lund', 'lundbergf', 'lupoldntft', 'lupus', 'luq', 'luqtzwd', 'lure', 'lurhbeadeu', 'lusf', 'luspatercept', 'luster', 'lustr', 'lux', 'luxklrxc', 'luyovp', 'lvf', 'lvgo', 'lvgx', 'lviwlomqpm', 'lvl', 'lvmhf', 'lvttijr', 'lvvjiy', 'lvxrxbj', 'lw', 'lwejparnwf', 'lwekf', 'lwekm', 'lwggi', 'lwjleeyjjb', 'lwvsgfnq', 'lwyotdabdm', 'lwzsvn', 'lxfbukgjif', 'lxgd', 'lxjrl', 'lxlaaldzx', 'lxr', 'lxxmhlqf', 'lya', 'lybsdayibb', 'lycxkrozmw', 'lyczvzxt', 'lydt', 'lyhcrfpleh', 'lyi', 'lyondellbasel', 'lywcd', 'lyxop', 'lzigxchpa', 'lzjsakav', 'lzk', 'lzllzmvvpx', 'lzomyti', 'lzov', 'lzqkqt', 'lzydhcm', 'lzzhamt', 'lzznsdu', 'macau', 'machinewerkplaatsen', 'mackinac', 'macp', 'macron', 'madonna', 'madrig', 'maejpdg', 'magal', 'magayi', 'maggi', 'magmat', 'magmaticresourc', 'magna', 'magnific', 'magyar', 'mahaney', 'maharashtra', 'mahefedok', 'maher', 'mahjong', 'mainlin', 'mainstr', 'mainten', 'mair', 'maiz', 'makeov', 'makeup', 'malais', 'malawi', 'male', 'maleehambcc', 'malibu', 'malici', 'maloney', 'malta', 'maltatoday', 'malwar', 'mandilla', 'manifest', 'manitowoc', 'mankato', 'manna', 'mannatech', 'manpowergroup', 'mantech', 'mantl', 'manu', 'manual', 'manur', 'marangi', 'marc', 'marcellus', 'marcher', 'marchex', 'marco', 'margaretatwood', 'mariah', 'mariano', 'marietta', 'marino', 'marinus', 'mario', 'markel', 'marketbeat', 'marketsit', 'markey', 'markforg', 'marmaxx', 'marr', 'marron', 'martini', 'martinuzzi', 'martinwolf', 'martyr', 'maryland', 'masco', 'masi', 'masseus', 'masterbuilt', 'masterclass', 'masthercel', 'maswfsb', 'matc', 'matchup', 'mate', 'materialis', 'mathewfra', 'matina', 'matson', 'mattel', 'mattress', 'maverick', 'maverix', 'mavuwfrm', 'mawcnlukb', 'mawr', 'maximis', 'maximum', 'maxlinear', 'maxzahn', 'mayh', 'maz', 'mazda', 'mba', 'mbachelet', 'mbbtb', 'mbcn', 'mbe', 'mbeykbqn', 'mbff', 'mbhjmayyg', 'mbozimi', 'mbp', 'mbvl', 'mbwm', 'mbx', 'mbzyyhmcrw', 'mcc', 'mcchf', 'mcclatchi', 'mcconnel', 'mcelligott', 'mcintyr', 'mckesson', 'mckinnon', 'mckriz', 'mckxdnn', 'mclaren', 'mclr', 'mcmahon', 'mcmhw', 'mcmoran', 'mcmqeemap', 'mcmurtri', 'mcp', 'mcqymlgt', 'mcuoodzyhh', 'mczasq', 'mdbaccardax', 'mdca', 'mdgl', 'mdhuq', 'mdi', 'mdjq', 'mdli', 'mdlnf', 'mdnajx', 'mdod', 'mdqpndxz', 'mdu', 'mduxlx', 'mduxvvi', 'mdvask', 'mdvwlyhx', 'mdwrnj', 'mdxg', 'mdxh', 'mdxhealth', 'mecresourc', 'med', 'medal', 'medallia', 'medicinova', 'medigen', 'mediobanca', 'mediocr', 'meditech', 'mediterranean', 'meehl', 'meeker', 'meg', 'megalou', 'mehrj', 'meikl', 'meip', 'melanoma', 'meld', 'mellanox', 'mellon', 'meltdown', 'mema', 'meme', 'memebox', 'memlma', 'memo', 'memor', 'memori', 'memoria', 'men', 'mena', 'mend', 'mentor', 'menu', 'meo', 'merchandis', 'mercuri', 'mercurygener', 'meridian', 'meritmed', 'meritz', 'merlo', 'merriam', 'meso', 'mesoblast', 'messina', 'meta', 'metaalbinderspuitsysteem', 'metabol', 'metalbank', 'metastat', 'meteor', 'meter', 'methan', 'methanex', 'metropolitan', 'mewp', 'mewyuqvc', 'mezzanin', 'mfa', 'mfd', 'mfg', 'mfhnyze', 'mfmcu', 'mfouehjp', 'mfsjutkudm', 'mfz', 'mga', 'mgad', 'mgddf', 'mgee', 'mgg', 'mgidmvc', 'mgj', 'mgjsiyeqk', 'mgk', 'mgo', 'mgqm', 'mgrpsc', 'mgv', 'mh', 'mhazf', 'mhc', 'mhgs', 'mhh', 'mhht', 'mhi', 'mhjsisci', 'mhkmpeduno', 'mhpgvu', 'mhq', 'mht', 'mhxiinmmuu', 'mic', 'michelin', 'microchip', 'microscop', 'microvast', 'microwav', 'micuva', 'midband', 'midroog', 'midwest', 'migi', 'migrain', 'mihbtajb', 'mii', 'mijgucki', 'mijp', 'mikebloomberg', 'mikecaymantrad', 'milan', 'milano', 'milder', 'millichap', 'mimedx', 'mimic', 'min', 'minecraft', 'minerd', 'mineworx', 'ming', 'mingtsai', 'minim', 'minnesota', 'minsheng', 'minshengeduc', 'minth', 'minus', 'minvxfmwq', 'miragen', 'mire', 'misconduct', 'miser', 'mishap', 'mission', 'misstep', 'mistri', 'misus', 'mitch', 'mitek', 'mitig', 'mivh', 'mivk', 'mixdx', 'mixzkoiq', 'mizbygbtr', 'mjardin', 'mjarf', 'mjb', 'mjgtpexnkx', 'mjgxeryfyk', 'mjlqnkv', 'mjnemggkib', 'mjnf', 'mjoy', 'mjqk', 'mjrn', 'mjwpt', 'mkcgdnzknh', 'mkd', 'mkefk', 'mkhe', 'mklg', 'mkmrmydssl', 'mknr', 'mkoriyqv', 'mkqclqq', 'mks', 'mkt', 'mktjpv', 'mktl', 'mkwmebkyjd', 'mlak', 'mlco', 'mlgfbwu', 'mlgjf', 'mlgvzxn', 'mlh', 'mlk', 'mlm', 'mlnd', 'mlnx', 'mlqza', 'mlslsys', 'mltiueexhn', 'mmeqasm', 'mmgd', 'mmiipbea', 'mmjeusfgf', 'mmlk', 'mmm', 'mmo', 'mmp', 'mmtec', 'mmxllxmnzn', 'mmyt', 'mnb', 'mndfwyxcyw', 'mndsu', 'mne', 'mngkqzxswb', 'mnl', 'mnoozwmdqi', 'mnov', 'mnpzoajtiv', 'mnq', 'mnro', 'mnst', 'mnta', 'mnukkoex', 'mnvcdaz', 'mnxx', 'moalxysqn', 'mobewxong', 'mobiley', 'mod', 'modulo', 'moet', 'moh', 'mohamad', 'mohawk', 'mojo', 'mold', 'moller', 'momo', 'monc', 'moncler', 'mondelez', 'mondo', 'moneycontrol', 'monica', 'monk', 'monro', 'montana', 'montreal', 'montserrat', 'moo', 'moon', 'moonshot', 'moor', 'moova', 'moqavpj', 'mor', 'morneau', 'morocco', 'morphosi', 'morrhhmo', 'mortar', 'moskovskiy', 'motel', 'motocorp', 'motorcycl', 'motorhom', 'motortrend', 'mou', 'mourinho', 'mous', 'moyen', 'moyer', 'moynihan', 'moynt', 'mozilla', 'mpdlwx', 'mpeto', 'mphase', 'mpjtg', 'mpjumfeai', 'mpo', 'mpqkxdg', 'mpvd', 'mpvwa', 'mpzlxkx', 'mq', 'mqavdmjnk', 'mqayftu', 'mqfbuv', 'mqh', 'mqk', 'mqn', 'mqnuxr', 'mqpeqxrvdu', 'mqq', 'mqvprb', 'mqycmbt', 'mrdqc', 'mrgv', 'mrk', 'mroyrxarwf', 'mrt', 'mrvl', 'msbhf', 'msdmm', 'msf', 'msgbaiyuo', 'mslpb', 'mslzwetvsv', 'msme', 'msn', 'msp', 'msvb', 'msw', 'msx', 'mta', 'mtem', 'mtfizena', 'mtg', 'mtlija', 'mtn', 'mtnblmd', 'mtnndt', 'mtq', 'mtqgg', 'mtqi', 'mtt', 'mttu', 'mtv', 'mub', 'mucggxelep', 'muffin', 'mufjz', 'mufvj', 'muhft', 'muhl', 'muinjangu', 'mujjhgpydz', 'mukerjea', 'mukuru', 'mulesoft', 'mulli', 'multifamili', 'multifun', 'multilater', 'multin', 'multistrategi', 'mundan', 'mundo', 'munster', 'muoul', 'murata', 'murdoch', 'murki', 'muscular', 'muslim', 'mussallem', 'mussel', 'musterait', 'mustread', 'mut', 'mutsydoo', 'muwzd', 'muwzntmzdg', 'mux', 'mvc', 'mvp', 'mvpehljcwr', 'mvr', 'mvta', 'mvtve', 'mvuniyu', 'mwc', 'mwocg', 'mwpw', 'mwqrp', 'mww', 'mwx', 'mwxpaj', 'mwyp', 'mxawkjvdvb', 'mxbt', 'mxddbx', 'mxfwscztz', 'mxgfjmof', 'mxkhvfl', 'mxl', 'mxoh', 'mxrancyy', 'mxubla', 'mxvbsok', 'mxw', 'mybbwclx', 'myda', 'mygn', 'myhjinokz', 'mykqz', 'mynkhbsgvk', 'mynx', 'myovant', 'myoxjqk', 'myporizylg', 'myqk', 'mysteri', 'myugj', 'myuzbiwzbp', 'mywbj', 'mywlr', 'mzamlk', 'mzcvgtnfrn', 'mzfwspqgv', 'mzg', 'mzgucydupd', 'mzjgylg', 'mztvw', 'mzubmqbk', 'mzxvjgdx', 'nach', 'nacw', 'nadavkidro', 'nadler', 'nafe', 'nahb', 'nahsekmb', 'naiv', 'najovpphey', 'namib', 'namibia', 'namodenonson', 'nandannilekani', 'nanqdyhcu', 'nao', 'naoov', 'naqxia', 'nar', 'narayana', 'narayanan', 'narcot', 'nareit', 'nasa', 'nasdaqcorpgov', 'nasdaqfam', 'nasdaqgovforum', 'nasu', 'nathan', 'national', 'nationalbank', 'nationalgrid', 'nationalprestoindustri', 'nativ', 'natso', 'navarro', 'navistar', 'naw', 'naxlxnnasp', 'naygyupiqx', 'naymtboivw', 'nazskecdpp', 'nbbzhi', 'nbcc', 'nbcunivers', 'nbfcs', 'nbjwdouqr', 'nbotx', 'nbsp', 'nbv', 'nbvbssag', 'nbwkhz', 'nbwysr', 'nca', 'ncbs', 'nce', 'nchxmgoz', 'nci', 'ncivl', 'nck', 'nclat', 'nclh', 'nclrwr', 'nclt', 'ncm', 'ncmgf', 'ncmvwagt', 'nco', 'nctrwkcutb', 'ncvcylnw', 'ncygcuuhdf', 'ndak', 'ndb', 'ndbt', 'ndctkfez', 'ndekx', 'ndez', 'ndlmmnhu', 'ndpki', 'ndq', 'ndring', 'ndticuv', 'ndtraqh', 'ndugf', 'neal', 'nearbi', 'neck', 'neda', 'needi', 'needl', 'neft', 'nehf', 'neither', 'nejl', 'nel', 'nelnet', 'nemgm', 'nemzeti', 'neoadjuv', 'neogen', 'nepal', 'nephriti', 'nerv', 'netwo', 'neuberg', 'neurocrin', 'neurometrix', 'neurov', 'nevi', 'nevonwysvh', 'newa', 'newat', 'newborn', 'newcastl', 'newconstruct', 'newgioco', 'newlak', 'newport', 'newquest', 'newron', 'newsom', 'newspap', 'newsport', 'nex', 'nexopt', 'nextgen', 'nexus', 'nf', 'nfbk', 'nfc', 'nfg', 'nfifxdo', 'nfkbjzjf', 'nfp', 'nfqgrwkvpt', 'nftiju', 'nfyxknlkdm', 'ngc', 'ngcng', 'nghgoju', 'ngi', 'ngkytadost', 'ngl', 'ngnnpi', 'ngoniba', 'ngpmgrl', 'ngrf', 'ngta', 'ngvc', 'ngxvumg', 'ngzspdvfpk', 'nhbzf', 'nheeap', 'nhfzdgtcf', 'nhiywphbqd', 'nhjwp', 'nhph', 'nhqq', 'nhrni', 'nhvqnjfysh', 'nibe', 'nicandrou', 'nichola', 'nickelodeon', 'nico', 'nicola', 'nicox', 'nicxepii', 'nieuwst', 'nifmvvmsj', 'nig', 'niger', 'nightmar', 'nihu', 'niizgbpatb', 'niln', 'nilq', 'nilsi', 'nine', 'niohx', 'nipa', 'nippon', 'niqsjhxuuc', 'niqwdof', 'nirma', 'nitin', 'nitomuik', 'niuwyr', 'nixzao', 'njcrdf', 'njmxll', 'njo', 'njpvwkgrss', 'njr', 'njrtsl', 'njyhil', 'nkamitj', 'nkbhcbarv', 'nke', 'nkeo', 'nkg', 'nkkfwr', 'nkroiv', 'nkse', 'nksh', 'nktomi', 'nktsma', 'nkugti', 'nkymcicp', 'nkyqgi', 'nkyvtrvtnz', 'nkz', 'nladnuumkh', 'nlbu', 'nld', 'nljipmo', 'nlrafz', 'nls', 'nltx', 'nmchealth', 'nmg', 'nmha', 'nmih', 'nmjejfsokm', 'nmosdb', 'nmpa', 'nmwdlzqhjn', 'nmx', 'nnd', 'nnfb', 'nng', 'nni', 'nnk', 'nnkr', 'nnn', 'nno', 'nntzrea', 'no', 'noa', 'nobel', 'nobodi', 'nodal', 'nohkrwqan', 'noih', 'nois', 'nok', 'nomina', 'noncompli', 'nonemploy', 'nonessenti', 'nonetheless', 'nonfarmpayrol', 'nonfarmprivatepayrol', 'nonfict', 'nongovern', 'nonof', 'nonprofit', 'nontradit', 'nonuhhqc', 'nooruddin', 'nope', 'noqwn', 'nord', 'norilsk', 'norm', 'nornico', 'norseman', 'northcoast', 'northeast', 'northeastern', 'northfield', 'northland', 'northmacedonia', 'northrop', 'northropgrumman', 'nose', 'nosed', 'notebook', 'notion', 'nou', 'noutf', 'novabay', 'novaria', 'novasight', 'novonordisk', 'np', 'npcbn', 'npcvnzaci', 'npfeuun', 'npflqnuvrh', 'npi', 'npiyrcjmrw', 'npmg', 'npn', 'nppc', 'npr', 'npshc', 'npyz', 'nqekclto', 'nqf', 'nqgwv', 'nqhe', 'nqowwsxkh', 'nqqeenkr', 'nqqhgj', 'nqvmljwe', 'nqyrxjbt', 'nqzymmr', 'nr', 'nrac', 'nrea', 'nrecy', 'nrhhp', 'nrn', 'nruxuzzsb', 'nrvkw', 'nrwrlgdlez', 'nrzf', 'nsani', 'nsim', 'nsjsfexypn', 'nslfgdnrdq', 'nspr', 'nsta', 'nswfire', 'nsyci', 'nsyfuvvkhm', 'ntcla', 'ntdmf', 'nthsu', 'ntie', 'ntjjuv', 'ntjypeeba', 'ntkekikkf', 'ntla', 'ntm', 'ntpc', 'ntplimpkti', 'ntsvyzzi', 'ntt', 'ntxbsxrhn', 'ntyrajdveo', 'nubmnfw', 'nucor', 'nufri', 'nufxt', 'nug', 'nugt', 'nuke', 'nuoilandga', 'nuooorsvka', 'nurcx', 'nuro', 'nurslzsec', 'nutanix', 'nutron', 'nuvas', 'nuvtf', 'nve', 'nvec', 'nvijjwpali', 'nvjio', 'nvmi', 'nvo', 'nvotji', 'nvt', 'nvu', 'nvwfq', 'nwgxvhug', 'nwin', 'nwjziorgvt', 'nwnnfn', 'nwoqf', 'nwrl', 'nwrt', 'nwxpf', 'nxaoxhcqg', 'nxd', 'nxn', 'nxpi', 'nxpndhvckp', 'nxsdr', 'nxv', 'nxvptr', 'nxxvdqphkr', 'nxz', 'nycb', 'nychealthcommr', 'nyebhlxul', 'nyf', 'nygiant', 'nygkozudwz', 'nykftgg', 'nykredit', 'nym', 'nyoazuyvop', 'nyr', 'nyri', 'nyseamex', 'nystnrt', 'nytim', 'nyvgp', 'nyxi', 'nyxn', 'nyyb', 'nzb', 'nzdp', 'nzfcesud', 'nzfhfow', 'nzi', 'nznecjz', 'nznna', 'nzqmt', 'nzrktdd', 'nzse', 'nztes', 'nzueez', 'nzvir', 'nzvrvfgi', 'nzzhl', 'nzzyjncfsw', 'oa', 'oaaw', 'oadacr', 'oadband', 'oael', 'oak', 'oaluso', 'oasi', 'oaxfdtrtak', 'oayf', 'oazggyt', 'oazitrhqk', 'obamacar', 'obbey', 'obbu', 'obd', 'obdx', 'obes', 'obflv', 'obi', 'obljydd', 'obosx', 'obsess', 'obstacl', 'obtdrgnfq', 'obudpbya', 'obxz', 'obzf', 'oca', 'ocado', 'ocasio', 'ocberkji', 'ocbhkvr', 'occ', 'occt', 'occuo', 'ocd', 'ocdo', 'oceangrownabalon', 'oceanwilson', 'oceulurv', 'och', 'ock', 'ocldqoji', 'oday', 'odb', 'odbu', 'odccf', 'odf', 'odfjel', 'odhvi', 'odigeo', 'odmnbfiw', 'odnl', 'oduzxxcpzf', 'odvkc', 'oe', 'oebjul', 'oecd', 'oekw', 'oent', 'oeoohsupki', 'oevtzvg', 'ofb', 'ofbc', 'ofdwnyp', 'offend', 'offeri', 'officialzsl', 'ofiim', 'ofipukubpt', 'ofix', 'ofjxfq', 'oftd', 'ofv', 'ofvttyrznc', 'ofwvhc', 'ofydzcoslf', 'ofztw', 'oggsei', 'ogjksu', 'ogk', 'ogpng', 'ogqfvegoum', 'ogvdyerr', 'ogvizeqio', 'ohbknqupwz', 'ohexli', 'ohh', 'ohhenmwa', 'ohij', 'ohjwh', 'ohl', 'ohx', 'oiblkrfi', 'oifa', 'oigfu', 'oijfl', 'oilfield', 'oilhuel', 'oilsearch', 'oilwv', 'oini', 'oiolwxuh', 'oipwc', 'oir', 'oisa', 'oitftcz', 'oj', 'ojmulqb', 'ojnptoy', 'ojok', 'ojqo', 'ojvh', 'ojwi', 'ojxkmfoetd', 'ojynkiotb', 'okcva', 'oki', 'okm', 'okoqhferuy', 'okot', 'okq', 'okt', 'oldest', 'oldjfxtwj', 'oldk', 'oldmutu', 'olin', 'oliv', 'oloecqt', 'oloyghlepx', 'olwb', 'olwzfka', 'olxc', 'olympia', 'omcl', 'omi', 'omien', 'omkxb', 'ommk', 'omnicel', 'omnicom', 'omp', 'omq', 'omtabgt', 'omyxkw', 'omzetgroei', 'onathq', 'onc', 'oncosec', 'ondeck', 'ondk', 'onespaworld', 'onion', 'onl', 'onm', 'onnwjru', 'onpattro', 'onset', 'onsjn', 'ontworpen', 'onu', 'ookdal', 'ooklin', 'ooksid', 'ooksideenergi', 'ookya', 'ooma', 'ooqhhju', 'ooquthwrz', 'oov', 'ooy', 'opaqu', 'opbasj', 'opcw', 'openview', 'operacion', 'ophfw', 'opiant', 'opifbkjywv', 'oplysn', 'opnkss', 'opnt', 'opo', 'opp', 'oppon', 'opportunityoccup', 'oppositio', 'opra', 'optex', 'opti', 'optron', 'opucd', 'opwujehvwp', 'opxikurlsw', 'opxt', 'opynnk', 'oqbn', 'oqbw', 'oqfjehivyr', 'oqiuvabx', 'oqji', 'oqlhxchst', 'oqlsej', 'oqpf', 'oqsd', 'oquq', 'oqvqisrjf', 'or', 'oram', 'oran', 'orang', 'orb', 'orbcomm', 'orc', 'orchard', 'orchid', 'orcl', 'ordinari', 'ordpbgzpfi', 'oregon', 'oreo', 'orex', 'orgi', 'orh', 'orienta', 'orman', 'ormk', 'ornlxqqtf', 'ornvcsravn', 'oromri', 'orphan', 'orqri', 'orr', 'orthofix', 'orthoped', 'orxpjbklr', 'os', 'osag', 'osaka', 'osakkeiden', 'osb', 'osfgj', 'osgqsfbpax', 'osisko', 'osmio', 'osn', 'osq', 'osvyofirbq', 'osw', 'osx', 'otel', 'otex', 'otgu', 'oti', 'otl', 'otm', 'otogwpgenu', 'otp', 'otter', 'ottr', 'ottw', 'otu', 'otvjdyeqor', 'otvo', 'otvx', 'otx', 'oudgjh', 'oudp', 'ouebyb', 'oufpbwihjb', 'ought', 'oujlcnzof', 'oum', 'oumx', 'ouptq', 'outgo', 'outlk', 'outotec', 'outrag', 'outsel', 'outshin', 'ovagwyy', 'ovarian', 'ovaro', 'ovb', 'ovbc', 'ove', 'oveduvnhi', 'oven', 'overbil', 'overbought', 'overconfid', 'overdos', 'overdu', 'overflow', 'overh', 'overlay', 'overnam', 'overni', 'overse', 'oversold', 'overspend', 'overstock', 'overview', 'ovgpdhlzob', 'ovh', 'ovid', 'ovintiv', 'ovitz', 'ovjizumgyt', 'ovk', 'ovn', 'ovnooxbh', 'ovttr', 'ovuu', 'ovwpd', 'ovxjegx', 'owcq', 'owfunjqzrb', 'owiqprv', 'owmjgigxn', 'owmkpjtw', 'ownershi', 'owrmzhdygi', 'owrzdcp', 'ows', 'owtzugx', 'owuun', 'owwkwbut', 'owxu', 'ox', 'oxepu', 'oxllryar', 'oxp', 'oxqpgvkmc', 'oxss', 'oxt', 'oxtrik', 'oxycontin', 'oyb', 'oybibdd', 'oydg', 'oyerfjqoq', 'oykcdq', 'oyoaptzv', 'oyro', 'oyt', 'oyx', 'oyxk', 'oyzkb', 'ozcnoupsyv', 'ozjirjut', 'ozkmwezanp', 'ozn', 'ozpsxkekm', 'ozq', 'ozxg', 'ozxvlw', 'pablo', 'pacb', 'paceunivers', 'pacifico', 'pacificstarnetwork', 'packard', 'paedophil', 'pageind', 'pageon', 'pagerduti', 'pagp', 'pagsegurodigit', 'paia', 'paig', 'pair', 'pajhsd', 'pakistan', 'pakqmksrt', 'palac', 'palantir', 'palazzo', 'palomar', 'paltrow', 'pamela', 'pamper', 'pan', 'pancak', 'panda', 'pandagreenenergi', 'panhandl', 'pank', 'pannier', 'panoro', 'panther', 'papadopoulo', 'paperless', 'paradox', 'paralysi', 'paramet', 'paramount', 'paramountp', 'paranoia', 'paret', 'pariti', 'parliam', 'parliamentari', 'parrzn', 'particular', 'partn', 'partnerskap', 'passagiersvliegtuigen', 'passion', 'pat', 'patch', 'patchwork', 'patek', 'patriot', 'patrol', 'paulsen', 'paulson', 'pave', 'pavilion', 'pawd', 'pax', 'paychex', 'paycom', 'paymen', 'paysign', 'payx', 'pazci', 'pbb', 'pbf', 'pbh', 'pbj', 'pbkui', 'pblbdvbzw', 'pbm', 'pbo', 'pbocwzzg', 'pbpb', 'pbvr', 'pbwtzk', 'pbzaoyuo', 'pch', 'pck', 'pcmv', 'pcsrwqtem', 'pcxxi', 'pcyg', 'pdeg', 'pdk', 'pdll', 'pdo', 'pdpkglk', 'pdqssntx', 'pdt', 'pdv', 'pdz', 'pdztqe', 'peab', 'pearl', 'pearson', 'peb', 'pebbf', 'pec', 'ped', 'pedevco', 'pedophil', 'pedq', 'peek', 'peet', 'pefdxbagq', 'pefqmnjdng', 'peigx', 'pekccki', 'pelfsywko', 'pelmoyfwz', 'peltz', 'pemex', 'penang', 'pendulum', 'penelop', 'pennantpark', 'pennmac', 'penuma', 'peqzyocmhb', 'percenta', 'percept', 'perceptron', 'perdu', 'perelman', 'perfeziona', 'perhap', 'perini', 'periop', 'perjattftn', 'perk', 'permiss', 'permrock', 'perovskit', 'perovskitich', 'perp', 'perrigo', 'persian', 'personalassetstrust', 'personnel', 'perspecta', 'peru', 'pessimist', 'pesticid', 'petrochem', 'petrolog', 'petrona', 'petrot', 'peugeot', 'pew', 'pey', 'pfbc', 'pfe', 'pfetqualsu', 'pffvsezfx', 'pfgyopw', 'pfi', 'pflksqxjp', 'pfytmh', 'pfzynaiszp', 'pgaowm', 'pgaywvkam', 'pgd', 'pgejbhayax', 'pgim', 'pgn', 'pgni', 'pgqbebsfzf', 'pgre', 'pguhaqsa', 'pgut', 'pgymd', 'pgzo', 'phamacodynam', 'pharmaci', 'pharmaron', 'pharmaronbeij', 'phat', 'phbnchu', 'phd', 'phen', 'phhi', 'phil', 'philli', 'phnlifakzx', 'phoni', 'phot', 'photo', 'phqzd', 'phrase', 'phrr', 'phtb', 'phvflxknqu', 'phvv', 'phys', 'phyy', 'pichai', 'pie', 'pier', 'pierc', 'piev', 'pig', 'pii', 'pilipina', 'pilkerton', 'pima', 'pine', 'ping', 'pingansecur', 'pinnacl', 'pio', 'piojv', 'pioneerresourc', 'pipeston', 'piqchmtrnz', 'piram', 'pirpvqj', 'pischelsdorf', 'pisp', 'pitbul', 'pivsl', 'piwewd', 'pix', 'pixell', 'pixelwork', 'pixi', 'piypjqwlgv', 'pizzaexpress', 'pizzi', 'pjdznnmxdg', 'pjeo', 'pjfexlnj', 'pjfhehu', 'pjfvqearrp', 'pjm', 'pjo', 'pjqjbc', 'pju', 'pjubmrv', 'pjv', 'pjxpzuxpch', 'pjxzlml', 'pjyez', 'pjzgu', 'pjzrw', 'pkbmi', 'pke', 'pkg', 'pkkipvwa', 'pkkqm', 'pkmfeupq', 'pkmjm', 'pkns', 'pkx', 'pkxguzi', 'pkyjyckzno', 'pkyk', 'pkze', 'placement', 'plagiar', 'plagu', 'plaid', 'plaintiff', 'plank', 'plantron', 'plaqu', 'plaster', 'plat', 'platfor', 'plato', 'plavxk', 'playag', 'playlist', 'playoff', 'plbsae', 'ple', 'plen', 'pli', 'plight', 'plj', 'pll', 'plmfa', 'plnt', 'plo', 'plse', 'plsqf', 'plt', 'pltguay', 'pltm', 'plug', 'pluralsight', 'plw', 'plya', 'plz', 'pmay', 'pmbz', 'pmdas', 'pmhjilok', 'pmm', 'pmps', 'pmst', 'pnb', 'pnbu', 'pnkm', 'pnp', 'pnrphfynwu', 'pntgq', 'pnuop', 'pnw', 'poai', 'pobdbniqo', 'pobx', 'pog', 'pogay', 'pohlav', 'poi', 'poia', 'pointless', 'pokh', 'pokra', 'pol', 'pola', 'polari', 'polio', 'politic', 'politicoryan', 'pollo', 'polo', 'polyest', 'polyplast', 'polypropylen', 'pom', 'ponzi', 'pooa', 'poorest', 'pooyn', 'poppin', 'pork', 'porta', 'portion', 'portland', 'portnoy', 'portug', 'posco', 'positivo', 'postepay', 'postmat', 'postpaid', 'poswuiscrn', 'potato', 'potbelli', 'potlatch', 'pougvxi', 'powder', 'powerbal', 'powerhous', 'powerhouseventur', 'powerlongrealest', 'powertrain', 'powi', 'pozsar', 'ppd', 'ppltg', 'ppmz', 'ppnal', 'ppp', 'ppubj', 'ppv', 'ppw', 'ppxyqjsiy', 'ppytbu', 'pqfa', 'pqfybjxrss', 'pqgoowuykv', 'pqhvub', 'pqijkkfcd', 'pqjdzo', 'pqnna', 'pqoyh', 'pqprsk', 'pqxr', 'pqxtr', 'pqyzjpo', 'prada', 'prairieski', 'praqj', 'pratt', 'prayer', 'prbo', 'prc', 'precaut', 'preced', 'preclin', 'predata', 'predecessor', 'preferr', 'prekf', 'premark', 'prepaid', 'prepared', 'preposter', 'prescrib', 'presenc', 'presentando', 'presente', 'presiden', 'presidentia', 'presser', 'prestigi', 'presto', 'presur', 'previ', 'prfd', 'prfw', 'prgo', 'pricesmart', 'pricey', 'pride', 'priest', 'primerica', 'primori', 'prio', 'priya', 'prj', 'prk', 'prnwg', 'proassur', 'problemat', 'procter', 'profitabi', 'profligaci', 'proje', 'prolong', 'promika', 'promissori', 'prompt', 'prone', 'pronoun', 'propacpackag', 'prophet', 'propo', 'proport', 'proportion', 'prosecut', 'prosf', 'prosi', 'prostat', 'prosthet', 'protalix', 'protestor', 'proto', 'protolab', 'prove', 'provis', 'proxi', 'proximit', 'prpl', 'prti', 'pru', 'prudent', 'prudenti', 'prx', 'pscf', 'pscleonqc', 'psdvjknq', 'psieq', 'pskhmnw', 'psoriasi', 'psotjgfykw', 'psp', 'psyxun', 'pta', 'ptab', 'ptc', 'ptct', 'pth', 'ptik', 'ptlc', 'ptm', 'ptn', 'ptnfih', 'ptozf', 'ptxd', 'ptxgctsac', 'ptxs', 'ptya', 'publica', 'publiceert', 'publici', 'publix', 'puca', 'puco', 'pudufubacf', 'puget', 'puhyxuhsi', 'puld', 'pulp', 'pumrtp', 'punch', 'punctur', 'punt', 'puobuzsfbj', 'puogp', 'pup', 'puprxfynco', 'pupuxx', 'pura', 'purat', 'purdu', 'pursu', 'pursuant', 'pursuit', 'putwrit', 'puuiuu', 'puw', 'puxin', 'pvatm', 'pvbp', 'pvg', 'pvkzwvid', 'pvvlf', 'pwc', 'pwd', 'pwimpjtck', 'pwjtanjp', 'pwkvi', 'pwnv', 'pwx', 'pwxx', 'pwxyevm', 'pwz', 'pwzgfdxdm', 'pxa', 'pxc', 'pxd', 'pxddzf', 'pxexsnb', 'pxgyf', 'pxmteufqd', 'pxqyvbhhgh', 'pxrcpraxm', 'pxtl', 'pxuv', 'pxwgr', 'pxx', 'pyarteahwh', 'pybd', 'pylieneang', 'pyomut', 'pyrzxi', 'pytybcd', 'pyyhfkb', 'pz', 'pzc', 'pzca', 'pze', 'pzefxc', 'pzujnh', 'pzvxe', 'pzyt', 'qakv', 'qalbplzm', 'qaqfxp', 'qarknrp', 'qasem', 'qazdvr', 'qb', 'qbdyl', 'qbfjtsqxxw', 'qbgs', 'qbilgnkymd', 'qbjliimrfd', 'qblk', 'qbmgokbiv', 'qbtwrsifep', 'qcd', 'qce', 'qcf', 'qckhyvxip', 'qcngjjz', 'qcsmajx', 'qctwgld', 'qcubtf', 'qdd', 'qdeltct', 'qdi', 'qdrrypxeb', 'qduba', 'qdvuch', 'qeayrp', 'qekzk', 'qemzql', 'qepxoqa', 'qesj', 'qet', 'qetern', 'qexn', 'qfaxvehtfb', 'qfitv', 'qfri', 'qga', 'qgapkok', 'qgf', 'qgijr', 'qgoywnk', 'qgpsna', 'qgvhnsx', 'qgwt', 'qhgbz', 'qhgh', 'qhjysm', 'qhkavvx', 'qhnwjj', 'qhplybutlb', 'qhrf', 'qhww', 'qia', 'qiagen', 'qiawrdun', 'qide', 'qidkog', 'qigdxd', 'qih', 'qihquai', 'qihwsat', 'qiij', 'qiiqqywbxx', 'qikyqnvgbd', 'qinxdjmjsv', 'qip', 'qipyfgvowd', 'qiqtkdqtpk', 'qiswiyfmzt', 'qitvr', 'qjd', 'qjh', 'qji', 'qjirn', 'qjju', 'qjllb', 'qjoygqvl', 'qjpr', 'qjsmkcjrap', 'qjv', 'qjxi', 'qkadk', 'qkh', 'qkhtxl', 'qki', 'qkk', 'qknbyokp', 'qknckgmxrk', 'qko', 'qkpu', 'qksvpe', 'qlaupi', 'qlbgaq', 'qlbtu', 'qlcw', 'qlfqvc', 'qlfxzuhkrt', 'qlj', 'qlkscln', 'qlltw', 'qln', 'qlor', 'qloy', 'qlqh', 'qlr', 'qlsl', 'qlua', 'qlz', 'qmafagfqzi', 'qmbfwfqwn', 'qmdk', 'qmfapkicdp', 'qmg', 'qmgk', 'qmho', 'qmi', 'qmldm', 'qmmox', 'qmpaeooauh', 'qmqn', 'qmqnvp', 'qmqwcwn', 'qmqyj', 'qmrjj', 'qmxz', 'qnahcg', 'qnakfn', 'qnfpf', 'qnh', 'qnj', 'qnlyxcglur', 'qnmngyb', 'qnn', 'qntbbch', 'qnwd', 'qnxa', 'qnzpj', 'qoew', 'qof', 'qogizdfkk', 'qohpu', 'qoiqn', 'qooiqaautg', 'qopqac', 'qoraxckzct', 'qorvo', 'qosi', 'qouialb', 'qouvrc', 'qoyrybz', 'qpb', 'qpmmkxmrnx', 'qpvawrsb', 'qpzhkpwgjf', 'qqcgkvptfq', 'qqlb', 'qqsorspg', 'qqv', 'qqzlmtez', 'qra', 'qrc', 'qrcx', 'qrevkpbd', 'qrg', 'qrhaotn', 'qrmnmbphz', 'qrnmz', 'qrpxqvjnkx', 'qrr', 'qru', 'qruh', 'qrvl', 'qrvo', 'qrvualhof', 'qrwsrdyq', 'qrzbygen', 'qsfpzkm', 'qssvzsph', 'qsw', 'qtbbgoajj', 'qtcxi', 'qtmjrtif', 'qtrh', 'qtt', 'qtvyuarsrg', 'qtzo', 'quak', 'qualif', 'quant', 'quanterix', 'quantit', 'quart', 'quartz', 'qubd', 'queensland', 'queer', 'queri', 'quest', 'queue', 'quicken', 'quirki', 'quiver', 'quk', 'qulj', 'qum', 'qunses', 'qunxmbjwkx', 'quq', 'qutoutiao', 'quxb', 'quyvsp', 'qvdbvi', 'qvdhv', 'qvfe', 'qvji', 'qvmuk', 'qvqkicih', 'qvs', 'qvsff', 'qvv', 'qvw', 'qvwl', 'qvxrvicnhq', 'qwaklu', 'qwaygsivuu', 'qwcihvgwli', 'qwi', 'qwjdsqi', 'qwlnqowdi', 'qwt', 'qwutdrto', 'qxik', 'qxnqcfynlx', 'qxpj', 'qxs', 'qxt', 'qxw', 'qxyv', 'qyertoamfj', 'qyfdr', 'qyjtu', 'qynkgcolaq', 'qyqju', 'qzazpueg', 'qzbvhlc', 'qzc', 'qzg', 'qzhrzvaenw', 'qzkq', 'qzoz', 'qzq', 'qzt', 'qztpnq', 'qzymfkw', 'rab', 'raceoncolog', 'rachman', 'racism', 'racprpc', 'rad', 'radiant', 'radioact', 'radnet', 'radoslav', 'radthoma', 'rafael', 'raffl', 'raggiungono', 'rai', 'railroad', 'railyard', 'rain', 'rainbow', 'rainmak', 'rajappa', 'rajnath', 'rajya', 'rak', 'rakchj', 'rale', 'ralph', 'ramani', 'ramelius', 'rand', 'random', 'ransomwar', 'raoewa', 'raogt', 'rapper', 'raq', 'ratatouill', 'ratifi', 'ration', 'rattl', 'raucous', 'rav', 'rave', 'rawjifbbti', 'rayoni', 'raysearch', 'raytheon', 'razor', 'rb', 'rbfnl', 'rbg', 'rbhlg', 'rbkiy', 'rblay', 'rbnz', 'rbpi', 'rbsjpe', 'rbyihw', 'rbzmp', 'rc', 'rch', 'rci', 'rcii', 'rcius', 'rckt', 'rcme', 'rcom', 'rcsr', 'rcsu', 'rcus', 'rcz', 'rda', 'rdashxeacb', 'rdb', 'rdd', 'rdeufbf', 'rdi', 'rdjv', 'rdm', 'rdnt', 'rdokkvi', 'rduiy', 'rea', 'readout', 'realgdp', 'realgoldmin', 'realis', 'realkredit', 'realmoney', 'realnetwork', 'realsportshbo', 'reand', 'rebalanc', 'reblozyl', 'rec', 'reced', 'recharg', 'rechtschaffen', 'recip', 'reclaim', 'recommendati', 'reconcili', 'reconsid', 'reconsider', 'recordjaar', 'recordresultaten', 'recoup', 'redchapina', 'reddi', 'redeem', 'redhawk', 'redhil', 'redhilliron', 'redistribut', 'redskin', 'reduct', 'reebok', 'reelect', 'reenzbc', 'refer', 'refili', 'refinanc', 'refinitiv', 'reg', 'regd', 'regen', 'regeneron', 'regimen', 'regionalview', 'registra', 'regresan', 'regrow', 'regu', 'rehax', 'rehear', 'reilli', 'reilyyunc', 'reinforc', 'reinsur', 'reitdom', 'reitir', 'rejoic', 'rekordjahr', 'rektnwgqq', 'rekya', 'rel', 'relax', 'relev', 'reli', 'reliabl', 'religar', 'reloc', 'remaind', 'remak', 'rematch', 'remestemcel', 'remitt', 'remix', 'ren', 'rendimento', 'reneba', 'rennmt', 'rennsport', 'renov', 'renter', 'renton', 'renunci', 'repatri', 'repligen', 'repocalyps', 'repr', 'represent', 'repsol', 'repurcha', 'reput', 'repyf', 'resapp', 'resapphealth', 'reser', 'reset', 'resilien', 'reson', 'responsibl', 'resultado', 'resumpt', 'resuppli', 'resurrect', 'reta', 'retabul', 'retagen', 'retain', 'retak', 'retl', 'retract', 'retriev', 'rett', 'reu', 'reunida', 'rever', 'revi', 'revoluci', 'revolugroup', 'revolupay', 'revoluvip', 'rexchxrzya', 'rexnord', 'rexsqkq', 'reyvow', 'rf', 'rfa', 'rfb', 'rfc', 'rfcnxk', 'rffd', 'rfid', 'rfin', 'rfkj', 'rfnco', 'rfvtbyw', 'rfvxk', 'rfyvccfma', 'rgdhl', 'rgfpos', 'rghax', 'rghc', 'rght', 'rgmapfho', 'rgsum', 'rgzs', 'rhda', 'rhg', 'rhjryiblfm', 'rhk', 'rhm', 'rhmtp', 'rhn', 'rhp', 'rhqgpa', 'rhtcdxmmpp', 'rhuugxilj', 'rhxfz', 'rhythm', 'rial', 'rice', 'richemont', 'richmil', 'riddel', 'ridden', 'ridf', 'ridicul', 'rie', 'rightmov', 'rigyn', 'rii', 'riiddfn', 'riksbank', 'ril', 'rilauqur', 'rili', 'rilt', 'rimkus', 'rinf', 'rins', 'rioqhpitit', 'riozp', 'ripe', 'rirbmfyrrj', 'rishnofw', 'riskiest', 'risparmio', 'ritesh', 'ritter', 'rivaroxaban', 'river', 'rivian', 'riviera', 'riyal', 'riyr', 'rje', 'rjma', 'rjovpth', 'rjpod', 'rjpr', 'rjqipjpu', 'rjrrtj', 'rjrvskjrgk', 'rjs', 'rjtzpyv', 'rjvw', 'rjwj', 'rjypybf', 'rkd', 'rketgkmnvb', 'rkhs', 'rkkuw', 'rks', 'rkzcoaeji', 'rkzke', 'rkztu', 'rlasf', 'rlbmmjmwrj', 'rldbtofhyl', 'rldj', 'rle', 'rlfbex', 'rlh', 'rli', 'rlifpn', 'rlkaazd', 'rlmaow', 'rlmdv', 'rlmkic', 'rlnewzlzz', 'rlp', 'rlrl', 'rlswqln', 'rlwz', 'rlymlpigka', 'rlzuhuai', 'rm', 'rmaw', 'rmb', 'rmed', 'rmhe', 'rmjaeyvsz', 'rmn', 'rmx', 'rncs', 'rnfk', 'rngqveti', 'rnia', 'rnkbomqkt', 'rnmpsyg', 'rnt', 'rnurd', 'rnwk', 'rnxmsz', 'rnyo', 'roadhous', 'roadmap', 'roadshow', 'roanok', 'roaster', 'rob', 'robberi', 'robe', 'robertshrimsley', 'robertson', 'robinhoodsnack', 'robintheblack', 'robocal', 'robotodd', 'rocanvill', 'rockwel', 'roger', 'rogerfeder', 'roh', 'rohatyn', 'rojvrzt', 'rolend', 'rolf', 'roller', 'rolvsoyei', 'roman', 'romania', 'romanian', 'romant', 'rometti', 'ronald', 'ronson', 'ronsondevelop', 'rope', 'rosa', 'rosi', 'ross', 'rossstor', 'routin', 'rovnopr', 'royaldutchshel', 'rozgxygmx', 'rozqzsr', 'rpai', 'rpay', 'rpc', 'rpcuo', 'rpm', 'rpmqymmo', 'rppiugm', 'rprqvct', 'rprsntcin', 'rps', 'rpv', 'rpvj', 'rpw', 'rq', 'rqesb', 'rqfjd', 'rqhq', 'rqjbtnad', 'rqmd', 'rqpymulzob', 'rqr', 'rqrw', 'rqw', 'rqz', 'rrg', 'rrgb', 'rrisenuobk', 'rrknkhk', 'rrodqi', 'rrqifp', 'rrrdv', 'rrreegl', 'rru', 'rrugv', 'rrvh', 'rrvqys', 'rrxf', 'rrxn', 'rrzi', 'rsian', 'rsk', 'rsqusnxnaf', 'rszszdtvvz', 'rtcxfd', 'rtg', 'rtj', 'rtnkyc', 'rtra', 'rts', 'rttr', 'rttzp', 'rtvioimkg', 'rtwu', 'rtxujxsb', 'rtzwa', 'rua', 'rubber', 'rubbish', 'rubbl', 'rubenstein', 'rubio', 'rubl', 'ruden', 'rul', 'runach', 'runaway', 'runnj', 'runway', 'ruoh', 'ruqqz', 'rusal', 'ruubenilsi', 'ruun', 'ruv', 'ruyi', 'rvaillumin', 'rvg', 'rvh', 'rvnc', 'rvovacatrh', 'rvp', 'rvra', 'rvtsm', 'rvvb', 'rvvvyzg', 'rwc', 'rwd', 'rwgo', 'rwk', 'rwl', 'rwn', 'rwpuxn', 'rwq', 'rwqi', 'rwqtihwv', 'rxaashg', 'rxdcmg', 'rxgmnakdsj', 'rxi', 'rxilwr', 'rxim', 'rxjk', 'rxmgdgmku', 'rxmrkdkqoa', 'rxn', 'rxwr', 'rxygzcw', 'ryanodex', 'ryavajtiuy', 'ryawr', 'ryb', 'rycmpf', 'ryerkerk', 'ryn', 'ryncomn', 'rynk', 'ryo', 'ryoffm', 'ryp', 'rysczenlsi', 'rytx', 'rytxf', 'ryzz', 'rzbkoqrsm', 'rzdgiu', 'rzgyhfxskk', 'rzjhu', 'rzk', 'rzl', 'rzs', 'rzsnrcf', 'rzw', 'rzyb', 'rzzpn', 'rzzqztvem', 'saab', 'saacwm', 'saatchi', 'saaxwz', 'sabok', 'sacha', 'sacituzumab', 'sackler', 'saeacbg', 'saf', 'safest', 'safet', 'safo', 'saft', 'saharan', 'saia', 'sailor', 'saimi', 'sajh', 'sajid', 'sak', 'sake', 'sala', 'salad', 'salesman', 'salmon', 'salvador', 'salvag', 'sama', 'samoa', 'samoan', 'sampl', 'samro', 'samsungheavyindustri', 'sanayi', 'sanctimoni', 'sanderson', 'sandi', 'sandler', 'saneamento', 'sangamo', 'sanpaolo', 'santana', 'santanaminer', 'santiago', 'sanxxpi', 'saputo', 'saracen', 'saracenminer', 'sarah', 'sarahhalzack', 'sarcasm', 'sarepta', 'sarg', 'sarizotan', 'sarpllp', 'sasa', 'sasbdjplik', 'sasseur', 'sat', 'satcom', 'satisfi', 'sativa', 'satsuma', 'sauc', 'saudiarabianmonetaryag', 'saut', 'savara', 'savour', 'savvi', 'sawai', 'sawh', 'saxbktcst', 'saxon', 'sbb', 'sbgi', 'sbhktluldq', 'sbi', 'sbk', 'sbl', 'sbm', 'sbordon', 'sbph', 'sbthuhgg', 'sbxyphdr', 'sbxz', 'scalp', 'scammer', 'scandinavia', 'scandinavian', 'scar', 'scarborough', 'scardovari', 'scare', 'scari', 'scass', 'scb', 'sccfgukkhi', 'sce', 'scene', 'scent', 'sceptic', 'scf', 'scfpgnoba', 'scgmnz', 'scguw', 'schaffrik', 'schick', 'schiff', 'schitt', 'schnatter', 'scholarship', 'schonfeld', 'schoolchildren', 'schweizerisch', 'schx', 'schyy', 'sci', 'sciplay', 'sclerosi', 'scmp', 'scmun', 'scnzpvfe', 'scorpio', 'scorpion', 'scotiabank', 'scotland', 'scottgamm', 'scottsaloway', 'scourg', 'scp', 'scream', 'scrimp', 'scrutin', 'scu', 'scyalyjji', 'scypu', 'sczk', 'sdc', 'sdecj', 'sdkgnjdksi', 'sdonnan', 'sdq', 'sdqjikb', 'sdrl', 'sdsqf', 'sdur', 'sdvvn', 'seadril', 'seafood', 'seaspin', 'seau', 'seawe', 'sebata', 'sebhnvqi', 'secazar', 'seclidemstat', 'securework', 'securita', 'securityhold', 'sedg', 'seep', 'seeth', 'segmento', 'seizur', 'sek', 'selassi', 'seleski', 'selvaag', 'selwyn', 'semicircolar', 'semico', 'semit', 'sendi', 'sensat', 'sensata', 'sensient', 'sensus', 'sentral', 'seo', 'sequan', 'seqycd', 'serbian', 'serena', 'serendip', 'sergeant', 'serkao', 'server', 'servicenow', 'servicio', 'serwer', 'sesam', 'setback', 'setvq', 'seventh', 'sevxzgnvou', 'sevz', 'sew', 'sewag', 'sexist', 'sezzl', 'sfaguh', 'sfalc', 'sfb', 'sfg', 'sfix', 'sflpxteeun', 'sfnpsku', 'sfvlaxyejv', 'sfxnlp', 'sfxt', 'sgbaf', 'sgbx', 'sgbzbljt', 'sgid', 'sgjszrfvje', 'sglb', 'sgmo', 'sgms', 'sgnrzeziyd', 'sgnsh', 'sgp', 'sgps', 'sgur', 'sgxqfu', 'sgzwze', 'shack', 'shackl', 'shak', 'shaken', 'shaker', 'shakti', 'shaktikanta', 'shaktipump', 'shameless', 'shankleman', 'shar', 'shatt', 'shatter', 'shatterproof', 'shaw', 'shawn', 'shbi', 'shc', 'sheena', 'sheff', 'sheinker', 'shelfdril', 'shelley', 'shelv', 'shenandoah', 'shengyuan', 'shentel', 'shepard', 'shepel', 'shepherd', 'shepherdson', 'shf', 'shhh', 'shhvex', 'shi', 'shif', 'shifti', 'shiftpixi', 'shimao', 'shinvest', 'shirt', 'shiver', 'shjmusuioy', 'shlibmmq', 'shn', 'shooter', 'shopin', 'shor', 'shorelin', 'shortlist', 'showa', 'shrank', 'shredder', 'shree', 'shreeminer', 'shrimsley', 'shsancfyo', 'shu', 'shuli', 'shun', 'shutter', 'shutterstock', 'shxdi', 'shxpopfef', 'shyy', 'siberia', 'sic', 'sick', 'sicko', 'sico', 'sider', 'sidsb', 'siemkp', 'siena', 'sienna', 'siennacancerdiagnost', 'sierra', 'sift', 'sig', 'sigh', 'siglano', 'signatur', 'signet', 'sii', 'siivt', 'sijoitus', 'silli', 'silvercorp', 'simbatrad', 'simcemuhnh', 'simi', 'simpl', 'simplest', 'simpli', 'simplus', 'simpson', 'simultan', 'sin', 'sinergia', 'sing', 'sinoharbour', 'sint', 'sipdqv', 'sipper', 'siquqsjj', 'sirzf', 'sister', 'sitc', 'sitework', 'siuck', 'siue', 'sixhkddg', 'sizkfow', 'sja', 'sjac', 'sjafm', 'sjbhtwcinn', 'sjctkjffbi', 'sjelgqjfha', 'sjgd', 'sjitlhyguz', 'sjjh', 'sjjtyjcvma', 'sjk', 'sjlog', 'sjowyzvf', 'sjtm', 'sjtmkjupwn', 'sjvkoozfwl', 'sjw', 'skbmyh', 'skccrsqtgi', 'skgrc', 'skgynlw', 'skier', 'skill', 'skjzui', 'sklcri', 'skoofr', 'skq', 'skrzzxjwmg', 'sksjdni', 'skvg', 'skyidg', 'skyrizi', 'skyscrap', 'skywalk', 'sla', 'slaveri', 'slawi', 'slay', 'slew', 'slfruobmdg', 'slgg', 'slggf', 'slice', 'slim', 'sllukespn', 'slo', 'slok', 'slope', 'slot', 'slowest', 'slowpk', 'slpgwc', 'slq', 'sluu', 'slv', 'slwt', 'smaakstoffenfaikanten', 'smallcap', 'smartcentr', 'smarter', 'smartest', 'smartfinanci', 'smartrac', 'smbbk', 'smbihgmhi', 'smbk', 'smell', 'smetkanfut', 'smg', 'smj', 'smlntddyx', 'smlp', 'smoeomo', 'smog', 'smooth', 'smorgasbord', 'smrt', 'smshoj', 'smsp', 'smta', 'smucker', 'smyazza', 'snackfact', 'snb', 'snbofwesup', 'snca', 'sncaf', 'sncimi', 'sncp', 'sneak', 'sni', 'snjfeioj', 'snl', 'snlawukfoa', 'snnpcoz', 'sno', 'snort', 'snowflak', 'snowxtnxpw', 'snoyaqmbz', 'snr', 'snufu', 'snwkt', 'snwv', 'snz', 'soapbox', 'sob', 'sobjbkbsrq', 'sociedad', 'societ', 'societatea', 'sock', 'sof', 'sofekdf', 'sofi', 'softer', 'sohmf', 'soho', 'soj', 'sojblwvu', 'solari', 'sole', 'soleimani', 'soliant', 'solo', 'solomon', 'som', 'somalia', 'somebodi', 'somethin', 'sondland', 'sonoma', 'sonova', 'soof', 'sooner', 'sop', 'sophist', 'sor', 'sordid', 'soren', 'sorrento', 'sorrentotherapeut', 'sother', 'sotqpewbsh', 'sotrqg', 'soundwav', 'sourcewat', 'southafrica', 'southfield', 'southwestern', 'sovereignti', 'sovzmfahdb', 'sow', 'sownqvbud', 'soxx', 'soyb', 'soyticr', 'sozzi', 'spacejet', 'span', 'sparklier', 'spatial', 'spawn', 'spc', 'spcsxw', 'spd', 'spdr', 'speakerpelosi', 'spec', 'speci', 'spectacular', 'speec', 'spek', 'spenc', 'spgcrwbkvo', 'sph', 'sphere', 'sphlduq', 'spinal', 'spjtzvadrz', 'spkferllfu', 'splb', 'spnzxsd', 'spoof', 'sporti', 'sportswear', 'spouuj', 'spp', 'sprawl', 'spring', 'spruce', 'spsk', 'spvf', 'sqaf', 'sqd', 'sqg', 'sqrqpvlrc', 'sqrrjdwlvp', 'sqsajlr', 'sqt', 'squeak', 'sqv', 'sqx', 'src', 'srfqeli', 'srj', 'srknlpet', 'srltta', 'srouu', 'srq', 'srqhazpf', 'srtu', 'sruo', 'sryhxotb', 'sryl', 'sscchn', 'ssec', 'ssi', 'sskgfupiu', 'sslb', 'ssq', 'sssx', 'ssvhtgq', 'ssvxayhvr', 'ssys', 'staf', 'stagnant', 'stair', 'stamv', 'stan', 'stanchart', 'standardlifeaberdeen', 'standpoint', 'standstil', 'stanhop', 'stapl', 'starboard', 'starbud', 'starch', 'stbarbara', 'stdkaszbjj', 'stea', 'steepli', 'steer', 'stefanik', 'steinmeier', 'sterreichisch', 'stfge', 'sticki', 'stiffen', 'stifl', 'stillwat', 'stimul', 'sting', 'stink', 'stir', 'stitchfix', 'stk', 'stl', 'stld', 'stmp', 'stobart', 'stochast', 'stocktwit', 'stok', 'stole', 'storbeck', 'storefron', 'stossel', 'stoxx', 'strait', 'strang', 'strangul', 'strap', 'strategischen', 'strategiskt', 'stratospher', 'straw', 'stre', 'streetinsid', 'strideproperti', 'stripe', 'strive', 'strongest', 'struck', 'strugg', 'struttura', 'stsa', 'stu', 'stubborn', 'stuck', 'studyin', 'stuf', 'stuff', 'stung', 'stunner', 'stunt', 'sturdi', 'stwqqqphtu', 'stxs', 'sub', 'subadra', 'subbarao', 'subhash', 'subject', 'submarin', 'submiss', 'subordin', 'subpoena', 'subprim', 'subsid', 'suburb', 'subway', 'suc', 'succul', 'succumb', 'suhbwccdjd', 'suicid', 'sul', 'sule', 'sulphid', 'sundar', 'sunston', 'sup', 'supercharg', 'superdividend', 'superfici', 'superhero', 'supernus', 'supervis', 'supervisori', 'supn', 'supp', 'suppo', 'suppor', 'suppos', 'suppress', 'suppressor', 'surcharg', 'suresh', 'surgeri', 'surplus', 'surpr', 'surrend', 'surround', 'susa', 'suspensi', 'suspici', 'suspicion', 'sustainableinfra', 'suti', 'sutter', 'suuflc', 'suze', 'suzeormanshow', 'suzuki', 'svant', 'svb', 'svbo', 'svesk', 'svfvztxpd', 'svi', 'sviluppa', 'sviluppo', 'svj', 'svkgytn', 'svlqrts', 'svlvbbpk', 'svm', 'svmh', 'svmk', 'svmzdrn', 'svojud', 'svsave', 'svvh', 'svw', 'svxi', 'svzz', 'swallow', 'swath', 'sway', 'swedbank', 'sweeeeeeeeeetttttt', 'sweeney', 'sweet', 'sweetgreen', 'swgwapap', 'swhllebnmz', 'swi', 'swindl', 'swipe', 'swisscom', 'swks', 'swn', 'swob', 'swollen', 'swonk', 'sword', 'sworn', 'swpetulq', 'swqrbche', 'swtzl', 'sxbzdk', 'sxms', 'sxnr', 'sxocdd', 'sxt', 'sxtia', 'sxumduzinw', 'sxw', 'sxytbuf', 'syanptic', 'sybx', 'sycamor', 'syd', 'syf', 'syhufxk', 'sylvain', 'sylvia', 'symbol', 'symptom', 'syna', 'syngenta', 'synlait', 'synlaitmilk', 'synopsi', 'synthet', 'syria', 'syrian', 'sysinno', 'syvxk', 'syxyww', 'szcpth', 'szirmokba', 'szmpp', 'szti', 'sztuw', 'szx', 'szxiebwey', 'szz', 'taal', 'tabak', 'tabbumyjj', 'tableau', 'tabliss', 'tachyum', 'tactil', 'tafasitamab', 'tafepghhqo', 'taffyakn', 'taildex', 'tailor', 'taiwanfund', 'taj', 'tak', 'takata', 'takeout', 'talent', 'talf', 'taller', 'talli', 'tamar', 'tandem', 'tang', 'tangibl', 'tao', 'taoniyqwg', 'taptooqisj', 'tapzu', 'taqt', 'tar', 'taraq', 'targa', 'tarzjx', 'tass', 'tassal', 'tatasteel', 'tatmaip', 'taught', 'taurus', 'tavassz', 'taxabl', 'taxaixilqn', 'taxef', 'taynz', 'tbc', 'tbd', 'tbdklj', 'tbgkmzh', 'tbin', 'tbjg', 'tbkdmt', 'tbkrunf', 'tbpdqo', 'tbt', 'tbvpi', 'tbwayfvt', 'tbyairkxgo', 'tccpjuj', 'tce', 'tcehi', 'tceygrfhqn', 'tcf', 'tcgjbs', 'tch', 'tci', 'tcig', 'tcj', 'tclulv', 'tcmd', 'tcp', 'tcrs', 'tczzqwkz', 'tdex', 'tdg', 'tdgd', 'tdgkehqg', 'tdhmvj', 'tdi', 'tdj', 'tdl', 'tdm', 'tdmassjsir', 'tdpruwcizp', 'tdtwxwt', 'tdufg', 'teac', 'teaeug', 'teafgtmn', 'teamlab', 'teamster', 'teatv', 'techedu', 'technavio', 'technician', 'technipfmc', 'techtarget', 'tecnimont', 'teco', 'teectcbqht', 'teeni', 'teeqc', 'teeth', 'tegna', 'teim', 'teixeira', 'tejada', 'tejm', 'tekdz', 'tekinthet', 'tekla', 'teleconfer', 'teleconsult', 'teledyn', 'telegraph', 'telekom', 'telemedicin', 'telenor', 'telidyn', 'telix', 'telixpharmaceut', 'telsi', 'temp', 'temper', 'templebarinvestmenttrust', 'tempora', 'tempura', 'tennant', 'tenor', 'tep', 'termit', 'terna', 'ternaspa', 'terrascend', 'terrif', 'terrorist', 'terumo', 'tesco', 'testnet', 'testosteron', 'tett', 'teum', 'teux', 'texaco', 'texnxvaasc', 'textain', 'teyecgqi', 'tf', 'tff', 'tffpharmaceut', 'tfi', 'tfiff', 'tfiv', 'tfjemk', 'tfkv', 'tfss', 'tftwrqaj', 'tgdq', 'tggpnb', 'tgh', 'tgmr', 'tgmuqllm', 'tgna', 'tgpwutp', 'tgqrni', 'tgr', 'tgslc', 'tgvl', 'tgvmttl', 'tgxqvugcix', 'thaiklud', 'thakur', 'thame', 'that', 'thd', 'theatric', 'thei', 'theismann', 'themillooktwin', 'therapist', 'therav', 'thermal', 'thermoform', 'thff', 'thgcccxei', 'thi', 'thin', 'thinker', 'tho', 'though', 'thq', 'thre', 'thread', 'threadneedl', 'thrill', 'throe', 'thromboembol', 'throne', 'throughout', 'throw', 'throwback', 'thrus', 'thtijrrsib', 'thunderstorm', 'thvjpamlt', 'thye', 'thzid', 'tiberius', 'tiberiusacquisit', 'tibet', 'tic', 'tickl', 'tighten', 'tightrop', 'tigr', 'tihdm', 'tiiip', 'tiktok', 'till', 'tilt', 'tiluoeqkyc', 'tim', 'timken', 'timothi', 'tioysk', 'tipgmhhgp', 'tipt', 'tipzudouqr', 'tirad', 'tiru', 'tischendorf', 'tissu', 'titanium', 'titus', 'tivozanib', 'tixrma', 'tiycwxqg', 'tiyihqt', 'tiynw', 'tjap', 'tjdlci', 'tjetqcxspq', 'tjkrwqal', 'tjkxajypaq', 'tjmjf', 'tjnjqjimfk', 'tjokf', 'tjqi', 'tkd', 'tkfgfxhkiq', 'tkfmkh', 'tkh', 'tkhhz', 'tkjwkqikfq', 'tku', 'tkyy', 'tle', 'tlfi', 'tlhu', 'tlrd', 'tlri', 'tlsc', 'tlsvozwqvv', 'tlxzyzjus', 'tme', 'tmg', 'tmihetmzia', 'tmpbudh', 'tmpq', 'tmrbnzv', 'tmrvsq', 'tmst', 'tmt', 'tmtuw', 'tmw', 'tmwwk', 'tmx', 'tn', 'tnaquarium', 'tnbc', 'tnemwixw', 'tnl', 'tnmicgcyvj', 'tnt', 'tnymv', 'tobago', 'tod', 'toft', 'tog', 'toki', 'tomato', 'tomz', 'toni', 'tonsufxu', 'tonwgjpsio', 'tonythestreet', 'toothush', 'topfg', 'toplin', 'torc', 'torch', 'tornado', 'torontodominionbank', 'tortilla', 'tortu', 'tortuous', 'tottenham', 'totudkhmbi', 'totzf', 'toughbuilt', 'touistieb', 'tournament', 'tova', 'towa', 'tparekh', 'tpb', 'tpcb', 'tpco', 'tpdd', 'tpeu', 'tpf', 'tpg', 'tphi', 'tpma', 'tpr', 'tptnpyeer', 'tpubtekjlv', 'tpuonfpyvf', 'tpvtei', 'tpyqewrnvg', 'tqhcumssrr', 'tqhmqdhwdq', 'tqkjidlvq', 'tqpaqqbjr', 'tqpxkllzm', 'tqqfgentti', 'tqs', 'tqtevp', 'tra', 'trac', 'traceabl', 'trad', 'tradesmart', 'trafficcom', 'traffick', 'trafigura', 'tragedi', 'trai', 'trail', 'trailer', 'traine', 'trajectori', 'transat', 'transatlant', 'transcri', 'transfer', 'transnet', 'transocean', 'transphorm', 'trash', 'trauf', 'travelex', 'trawpgql', 'trayport', 'tre', 'tread', 'treasur', 'trec', 'trecora', 'trendforc', 'trendlin', 'trey', 'trian', 'triax', 'tribal', 'triib', 'trilli', 'trimbl', 'trinidad', 'trio', 'tripadvisor', 'triton', 'triumph', 'triw', 'trlb', 'trlff', 'tron', 'tronic', 'tropic', 'trot', 'trov', 'trtn', 'trubiski', 'truhfnl', 'truliev', 'trumpsay', 'trup', 'trupanion', 'truste', 'truxgkam', 'trvn', 'trwivqwdsc', 'tryin', 'tryout', 'trz', 'tsai', 'tsbbml', 'tsc', 'tseri', 'tsf', 'tslmen', 'tso', 'tstup', 'tsuw', 'tsvtejk', 'tswxarez', 'tsx', 'ttc', 'ttd', 'ttgt', 'ttt', 'ttuvbxtam', 'ttvqklpkbo', 'ttwo', 'tudor', 'tug', 'tui', 'tulizf', 'tulsi', 'tumnppet', 'tumor', 'tumultu', 'tuna', 'tune', 'tup', 'turbi', 'turbo', 'turboprop', 'turf', 'turnout', 'turnov', 'turquois', 'turtleneck', 'tusk', 'tutor', 'tutori', 'tutuh', 'tuusdttork', 'tuxbkwi', 'tvj', 'tvkqhuxw', 'tvnbfjz', 'tvqlyeea', 'tvtdtmcjpk', 'tvti', 'tvyo', 'twayhd', 'twcbf', 'tweak', 'twee', 'tweed', 'twelv', 'twgg', 'twggx', 'twgv', 'twhznsepw', 'twi', 'twnvafn', 'twta', 'twtamit', 'twtas', 'twzz', 'txfv', 'txi', 'txlqnoxrpx', 'txp', 'txr', 'txzcl', 'tyegiq', 'tyekxmwokt', 'tyirycvq', 'typic', 'typo', 'tyqmauxn', 'tysonfood', 'tyxumuil', 'tz', 'tzakreo', 'tzixiw', 'tzjdqvr', 'tzknnbn', 'tzpa', 'tzq', 'uaau', 'uackuzuv', 'uadhdwylh', 'uakbx', 'ualucxuneh', 'uavzmlijqq', 'uaw', 'uaxhgwaqio', 'ubben', 'ubfo', 'ubfutrr', 'ubfz', 'ubio', 'ubjepuhdtq', 'ublqkngaow', 'ubpdo', 'ubtp', 'ubvamfc', 'ubvoedb', 'ubwzgcg', 'uc', 'ucaej', 'ucb', 'ucbho', 'ucehfw', 'ucf', 'uchgnuk', 'uchicago', 'uchpdztnxv', 'ucja', 'ucjdmdnwop', 'ucqizjimv', 'ucrjxea', 'ucvw', 'udnrwgewdf', 'udq', 'udr', 'udrw', 'udtdqueeg', 'udum', 'udumruyrqp', 'udyyori', 'ueahvdahtr', 'ueaxihi', 'uefa', 'uemgimd', 'ueqwuiaamx', 'uer', 'ufh', 'ufiyi', 'ufkblnpo', 'ufkeauf', 'uflnud', 'ufqfzoyhti', 'ufud', 'ufuf', 'ufufp', 'ufw', 'ufyji', 'ufzm', 'uga', 'ugamr', 'uganda', 'ugandan', 'uglier', 'uglnh', 'ugluh', 'ugq', 'ugriepdwjk', 'ugv', 'uhal', 'uhfotit', 'uhgzb', 'uhh', 'uhk', 'uhz', 'uhzej', 'uighur', 'uihxh', 'uijbvk', 'uikk', 'uim', 'uinpxd', 'uiofjerztw', 'uiog', 'uip', 'uiufp', 'uivdnwl', 'uixhworz', 'uixjeqyc', 'uixluxunkz', 'uizng', 'ujavj', 'ujb', 'ujdyb', 'uje', 'ujquogk', 'ujsbbpaq', 'ujt', 'ujtglr', 'ujwz', 'ukk', 'ukraineg', 'uktq', 'ukw', 'ukyjtlok', 'ukzb', 'ula', 'ulamlzquo', 'uld', 'uleuvewtt', 'ulf', 'ulgzcuvnq', 'ulhr', 'ulimib', 'ullrqyqtlu', 'ulqkma', 'ulsdhrgr', 'umfnxtbeb', 'umikkaq', 'umkbixzv', 'umltdf', 'umm', 'umo', 'umpb', 'umpddensvb', 'umq', 'umqpfrmrbo', 'umsatzwachstum', 'umth', 'umtyo', 'umuhsrz', 'unannounc', 'unawar', 'unbank', 'unbipuytg', 'unclear', 'uncomfort', 'uncond', 'uncov', 'underappreci', 'undercov', 'underdog', 'underlin', 'underlov', 'underpin', 'underr', 'understand', 'underway', 'underwhelm', 'underwrit', 'undu', 'uneak', 'uneasi', 'uneven', 'unfinish', 'unfortun', 'ungbkwnu', 'unhealthiest', 'unicel', 'unicom', 'unicredito', 'uniform', 'unip', 'unitedhealthcar', 'uniti', 'unl', 'unlicens', 'unload', 'unlucki', 'unman', 'unossoci', 'unpaid', 'unpallet', 'unplug', 'unpopular', 'unprotect', 'unq', 'unquest', 'unravel', 'unreal', 'unregi', 'unseat', 'unspecifi', 'unspoken', 'unsteadi', 'unsung', 'unsurpris', 'unsustain', 'unswick', 'unternehmen', 'untim', 'unveilin', 'unwav', 'unwel', 'unwilling', 'uocywt', 'uod', 'uogmh', 'uojllr', 'uota', 'uov', 'upcfrllxhu', 'updjqc', 'upend', 'upi', 'upiu', 'upj', 'upkgp', 'upload', 'upmhodp', 'upn', 'upp', 'upper', 'upris', 'uprjkm', 'upshaw', 'upsnrldqkh', 'upstart', 'uptbwhur', 'uptick', 'uptrend', 'upun', 'upw', 'upwklxcclo', 'upxkzvw', 'upzptgjicc', 'uqn', 'uqpdbg', 'uqrww', 'urbmvb', 'urbn', 'urcta', 'urgent', 'urhcu', 'uro', 'urov', 'urpn', 'urtb', 'urtlth', 'urwp', 'urxoyld', 'usceerjqa', 'uscgeqpsa', 'uscslhgcra', 'usfd', 'usgvzrgsvn', 'ush', 'usher', 'usihm', 'uslm', 'usmcunh', 'usniipt', 'usnphc', 'usovzwjl', 'usrsmotfkw', 'ustmi', 'ustreasuri', 'usual', 'utah', 'utb', 'utccmk', 'utf', 'utfpskbg', 'utj', 'utlmx', 'utlsz', 'utpt', 'utqozbgz', 'utr', 'utw', 'utx', 'uuan', 'uudxpnpkzc', 'uufv', 'uuhh', 'uuiyidmz', 'uukexi', 'uulob', 'uup', 'uurwum', 'uuvd', 'uuwrepdj', 'uuy', 'uvdbfhctm', 'uvdkavea', 'uvdxq', 'uvgjv', 'uvjzw', 'uvn', 'uvtfqyp', 'uvvxss', 'uvzzuacrmo', 'uwc', 'uwil', 'uwjpyh', 'uwmckv', 'uwsqwd', 'uwt', 'uwvhmj', 'uwwxuaxfci', 'uwx', 'uwxq', 'uxa', 'uxbca', 'uxfss', 'uxgo', 'uxq', 'uxqbypeaoq', 'uxt', 'uxvkthm', 'uyabk', 'uybtkup', 'uydxg', 'uym', 'uymt', 'uypfo', 'uytywawu', 'uyvjt', 'uyx', 'uyxbfycfj', 'uzgm', 'uzhalir', 'uzi', 'uzigmgl', 'uzmgeql', 'uzvqd', 'uzwnjkn', 'uzzkuoaxcu', 'vabxjmw', 'vacasa', 'vacuum', 'vadadustat', 'vae', 'vaf', 'vagu', 'vahbnqj', 'vahsac', 'vajt', 'valen', 'valid', 'vallourec', 'valor', 'valueact', 'vam', 'vamosrcdop', 'vancouv', 'vanda', 'vaoo', 'var', 'varex', 'vari', 'variabl', 'various', 'vasquez', 'vatu', 'vault', 'vax', 'vazku', 'vbgjaz', 'vbi', 'vbo', 'vbocq', 'vbpeb', 'vbvv', 'vbxqqdo', 'vca', 'vckehrw', 'vckppvhov', 'vclt', 'vcmtcjitwu', 'vcni', 'vcnjbj', 'vcpbco', 'vcut', 'vcvpwljjat', 'vcvvxspbkp', 'vcwqbar', 'vdahf', 'vdj', 'vdoa', 'vdrgzainck', 'vdsu', 'vdtaxb', 'vdux', 'vdvcgosglp', 'vdvjsxw', 'vdyyu', 'vdzhe', 'veakatyadi', 'veb', 'ved', 'vegetabl', 'vegetarian', 'veidekk', 'velmn', 'velopp', 'vengeanc', 'venous', 'venukdjdjl', 'verastem', 'vericiguat', 'verif', 'verita', 'verizonbusi', 'verso', 'vertigin', 'verzeichnet', 'vesdjkibvz', 'vetcru', 'veynnau', 'vezn', 'vfai', 'vfel', 'vffzurwl', 'vfjpc', 'vfnyerf', 'vfosxccqm', 'vfsamprhht', 'vftidtyxgl', 'vftwjj', 'vfwht', 'vfxpc', 'vfxqvksdll', 'vgacgp', 'vgc', 'vgclhzp', 'vgfgod', 'vgjjai', 'vgncsdz', 'vgnxn', 'vgtn', 'vguusn', 'vgvxanubq', 'vgxi', 'vhcmvbx', 'vheerrsxzi', 'vhhvxcdvpi', 'vhkb', 'vhplar', 'vhryjpvb', 'vhvvk', 'vhxqhmtmnn', 'vhzub', 'viab', 'viaca', 'vibe', 'vicepresidentessa', 'victorian', 'viem', 'vietjet', 'vietnam', 'vietta', 'viewer', 'vigr', 'vijuzzehbo', 'vike', 'vikjscc', 'vikzdm', 'villazon', 'vimn', 'vinc', 'vinda', 'vindic', 'violent', 'virginia', 'virt', 'virtusa', 'vistaoutdoor', 'visteon', 'vitalhub', 'vitamin', 'vitasoy', 'viv', 'vivaldi', 'viw', 'vizr', 'vizzion', 'vjao', 'vjc', 'vjce', 'vjedhvbz', 'vjfhtoieh', 'vjftjhqash', 'vjlfdbphvv', 'vjq', 'vjqoihxo', 'vjtn', 'vjuc', 'vjvbboloom', 'vjwuc', 'vjxb', 'vkbhdbgjpv', 'vkcnbvvjuy', 'vkdxc', 'vklnkfik', 'vknteu', 'vksv', 'vktx', 'vkw', 'vkwdoqsfuc', 'vkx', 'vkxm', 'vla', 'vler', 'vlfepli', 'vlfvdudw', 'vlk', 'vlkoo', 'vlmii', 'vlrys', 'vlt', 'vlxbl', 'vmczwh', 'vmdlri', 'vmellhwaza', 'vmfe', 'vmhkhco', 'vmi', 'vmnkqmr', 'vmozbpptk', 'vmr', 'vmuioo', 'vmwa', 'vmzmln', 'vmzummqc', 'vnb', 'vnet', 'vnhwtosnuo', 'vnj', 'vnmv', 'vnom', 'vnost', 'vnotwq', 'vnp', 'vnq', 'vnrosfbyf', 'vnsadq', 'vnva', 'vobgwaeki', 'vodfucu', 'vogtl', 'vogu', 'vohra', 'void', 'vol', 'volari', 'voltooi', 'volunt', 'vonag', 'vorasidenib', 'vorwsew', 'vou', 'voxopjd', 'voyag', 'voyainvest', 'vozl', 'vpbvta', 'vpdgwzhjhm', 'vpfciuvjqi', 'vpi', 'vpioc', 'vpit', 'vpn', 'vpnt', 'vpz', 'vqagvx', 'vqbzmotmpz', 'vqiqpj', 'vqpvjgegit', 'vqrvjknlo', 'vqtu', 'vqtw', 'vquzqq', 'vqv', 'vqvubu', 'vqyzlim', 'vr', 'vrdjvcbdac', 'vrei', 'vrex', 'vrnnfgn', 'vrrdo', 'vrrvgmpg', 'vrrxxpv', 'vrtu', 'vrveqxzio', 'vsdcudr', 'vse', 'vsevyzga', 'vshuui', 'vsjvyx', 'vskebo', 'vsl', 'vslrvqg', 'vsmucnmmu', 'vsnmo', 'vsq', 'vsr', 'vsruyqrn', 'vstm', 'vsullh', 'vszbx', 'vszhlqlbge', 'vtaytywtq', 'vtbyu', 'vtex', 'vtfsita', 'vtgijlefga', 'vtquvi', 'vtydkng', 'vtzvtiz', 'vubmrxa', 'vudcj', 'vufdnoun', 'vuftuzq', 'vuidadxgcf', 'vuitton', 'vuiuq', 'vujoufusya', 'vunpywrdsg', 'vuq', 'vuqvhtmp', 'vurgajhdyu', 'vusekbmzhb', 'vuwigp', 'vuxesk', 'vuyj', 'vvcz', 'vvlbyjqbsc', 'vvps', 'vvqtah', 'vvr', 'vvwcvizn', 'vvx', 'vwa', 'vwb', 'vwdri', 'vwg', 'vwh', 'vwm', 'vwpjz', 'vwr', 'vwswidrw', 'vwz', 'vx', 'vxhdjgu', 'vxlahxub', 'vxlg', 'vxnmohonju', 'vxqksr', 'vxx', 'vxz', 'vy', 'vydtp', 'vyhxz', 'vyjf', 'vyk', 'vyus', 'vyxx', 'vyzu', 'vzgqa', 'vzgslact', 'vzh', 'vzjmxnuh', 'vzjnz', 'vzr', 'wabash', 'wabc', 'wac', 'waddel', 'wafd', 'wagner', 'wagon', 'wagyu', 'waip', 'waitr', 'wale', 'walgreensbootsalli', 'walker', 'wallstreetweek', 'wane', 'waokj', 'waqf', 'warehous', 'warranti', 'wastewat', 'wateroasi', 'watsco', 'waugaf', 'wawa', 'waysuwphf', 'wbbq', 'wbccrns', 'wbdmuwnmmt', 'wbe', 'wbesoqxemh', 'wbf', 'wbk', 'wbm', 'wbml', 'wbnwfaynhv', 'wbtknftnoq', 'wbttritwv', 'wcagi', 'wcbmac', 'wccsvghill', 'wcedoogpi', 'wcfhikzf', 'wcig', 'wcjzsoa', 'wcksyfyqdv', 'wco', 'wcvzjwoxp', 'wcwwr', 'wdb', 'wdcse', 'wddtpjgzxb', 'wdextz', 'wdfc', 'wdhiwiavp', 'wdieaaz', 'wdnqrcav', 'wdr', 'wdsiptj', 'wdu', 'wduqedhhtk', 'wdvvppb', 'wdwhmgb', 'wea', 'weapon', 'weari', 'weber', 'webggyz', 'webk', 'webster', 'weebit', 'weebitnano', 'weecjwjeb', 'wef', 'weidai', 'weinstein', 'weirder', 'wekgrz', 'weld', 'welfar', 'wellb', 'wellesley', 'wenda', 'wendi', 'wenjgoir', 'wenq', 'weocrrmgtl', 'wereldhav', 'werner', 'werw', 'wes', 'weston', 'westpacbank', 'westwat', 'weuxfwhxjw', 'weyrauc', 'wezj', 'wfa', 'wfe', 'wffzkxhllg', 'wfg', 'wflu', 'wfsuplqox', 'wft', 'wfxhgtkhwe', 'wg', 'wgatstga', 'wgd', 'wge', 'wgjbv', 'wgo', 'wgqfijpv', 'wgtoq', 'wgtzra', 'wgz', 'whal', 'wheel', 'wheelchair', 'wheeler', 'whenev', 'whic', 'whichev', 'whip', 'whirlpool', 'whisper', 'whistl', 'whittak', 'whkki', 'whmnyngn', 'whooper', 'whop', 'whsmith', 'whux', 'whvxpj', 'whw', 'wia', 'wicr', 'wideopenwest', 'wider', 'widim', 'wieq', 'wiggl', 'wiihjspgd', 'wiiki', 'wijjtkbyjd', 'wikkjbv', 'wilder', 'wile', 'williamturton', 'wimbledon', 'windfal', 'windier', 'windmil', 'windstream', 'winklevoss', 'winmq', 'winn', 'winnebago', 'winton', 'wipeout', 'wipo', 'wiqgfg', 'wisconsin', 'withdrawn', 'withdrew', 'withhold', 'withou', 'witn', 'wizsz', 'wjceb', 'wjgyhk', 'wjjfbwu', 'wjkkgo', 'wjltbnn', 'wjnynp', 'wjqhpk', 'wjrda', 'wjxoj', 'wkbk', 'wkh', 'wkie', 'wkjvd', 'wkl', 'wkmu', 'wkngwevcq', 'wksc', 'wkw', 'wkwx', 'wkwyx', 'wl', 'wlb', 'wlbozidjju', 'wlenqldof', 'wlh', 'wlipv', 'wlk', 'wlkey', 'wlksxz', 'wlnbwvziaq', 'wlo', 'wlodqteol', 'wlomfclsk', 'wluoz', 'wlwupi', 'wmbdsoi', 'wmbtpye', 'wmdpkaec', 'wme', 'wmgc', 'wmgkppr', 'wmmorrowbook', 'wmocf', 'wmqma', 'wmrxcb', 'wmt', 'wmv', 'wmz', 'wmzcc', 'wnc', 'wncksfl', 'wnctgnxdpu', 'wng', 'wngbok', 'wnkuyj', 'wnlxxp', 'wnmmqqcuwa', 'wnw', 'wobbl', 'wodvdio', 'woeyoeddoq', 'wofehsz', 'wofhbecrjc', 'wogxdbgzc', 'woke', 'wolfowitz', 'wolr', 'wolter', 'wom', 'wompli', 'wooa', 'woodmac', 'woodsid', 'wooonq', 'woowa', 'woql', 'wore', 'workhors', 'workstat', 'workweek', 'worldbank', 'worldcoalassoci', 'worldlin', 'wound', 'wowsa', 'wox', 'wozbii', 'wozegxo', 'wpek', 'wpgq', 'wpjsci', 'wpluj', 'wpsnid', 'wpu', 'wpv', 'wpwkva', 'wqfcrniuhh', 'wqkthn', 'wqlnmhmscg', 'wqlotyua', 'wqmi', 'wqrm', 'wquvjm', 'wqw', 'wqx', 'wraetk', 'wrcdf', 'wreak', 'wrfedwitff', 'writ', 'writedown', 'writeoff', 'writer', 'written', 'wrk', 'wrkl', 'wrlea', 'wrmp', 'wrongdo', 'wrqqwccxek', 'wrqxtc', 'wrsg', 'wrzu', 'wrzvz', 'wsb', 'wseg', 'wsjlgyhi', 'wsmcsc', 'wso', 'wsrpesrxvi', 'wstzwc', 'wsyakht', 'wtckp', 'wtf', 'wtfuf', 'wtgutspx', 'wthtq', 'wtotgqfd', 'wtrh', 'wts', 'wtt', 'wttgn', 'wtukvvqmyh', 'wtum', 'wtydxn', 'wua', 'wubccwtbg', 'wulwxp', 'wuwtqcocol', 'wuxi', 'wvburi', 'wvi', 'wvjfvu', 'wvk', 'wvl', 'wvldkxvi', 'wvrwi', 'wvuvm', 'wvycxwn', 'wwccplqzk', 'wwdkfasl', 'wweo', 'wwf', 'wwgqrqknxh', 'wwiji', 'wwokvqueeh', 'wws', 'wwze', 'wxc', 'wxn', 'wxqi', 'wxqn', 'wxszp', 'wxxwi', 'wyjlzh', 'wykkyfn', 'wyncnbdb', 'wynnchurch', 'wynwjcjnef', 'wyrwds', 'wytgi', 'wytv', 'wzazlp', 'wzbpwnu', 'wzfckhdcyy', 'wzjl', 'wzlahkg', 'wzrjoml', 'wzrtmmnfij', 'wzt', 'wzywvfw', 'xafw', 'xak', 'xan', 'xaonx', 'xarmc', 'xau', 'xaua', 'xauofhyvk', 'xauusd', 'xawr', 'xbcd', 'xbdz', 'xbfgjkt', 'xbg', 'xbi', 'xbk', 'xbnyk', 'xboiytnaa', 'xbox', 'xbufthvnya', 'xccxiik', 'xcdt', 'xcel', 'xckiz', 'xcnqa', 'xcvxpailr', 'xdm', 'xdmdjaj', 'xdqpe', 'xdux', 'xdwqxg', 'xdyz', 'xdzbehmkj', 'xeeqlh', 'xeeru', 'xegfiif', 'xeix', 'xel', 'xelzoiciwl', 'xemwn', 'xenia', 'xentm', 'xep', 'xer', 'xerxcevl', 'xeumu', 'xewt', 'xey', 'xezhcw', 'xezx', 'xfa', 'xfapzngegj', 'xfeog', 'xfnjzekzz', 'xfpfcxbwk', 'xfpkmbju', 'xfq', 'xfujxv', 'xfz', 'xfzi', 'xgabvreq', 'xgg', 'xggto', 'xgn', 'xgnjvqorwf', 'xgnlyfdu', 'xgraalk', 'xgtbqmro', 'xgucp', 'xhb', 'xhrs', 'xhs', 'xhw', 'xhxdltsf', 'xhym', 'xhz', 'xibl', 'xilinx', 'xinhua', 'xinjiang', 'xipdacc', 'xiwvnv', 'xixzurkshp', 'xizv', 'xjavw', 'xjbdiur', 'xjcawk', 'xjdxo', 'xjg', 'xjjjjojsva', 'xjklcawn', 'xjkndq', 'xjmhtvkmf', 'xjomyn', 'xjwxoyhba', 'xkasmztqmp', 'xkcpdiliuu', 'xkfedmlz', 'xkkpbqrqpw', 'xkkps', 'xklyjdvo', 'xko', 'xkoqpv', 'xkowfwc', 'xkug', 'xkxlk', 'xkyv', 'xlbqo', 'xlhuadkjg', 'xliazvt', 'xlk', 'xln', 'xlrn', 'xlst', 'xltkskkpzw', 'xlxcj', 'xlynhr', 'xlyo', 'xmba', 'xmf', 'xmgopg', 'xmhim', 'xmihcecvh', 'xmvuhapl', 'xmwhteke', 'xnbtgwfcog', 'xneincyeyg', 'xnfke', 'xnli', 'xnmsmkni', 'xnsrug', 'xnw', 'xnxw', 'xnznl', 'xoe', 'xogp', 'xohoeanjbt', 'xoj', 'xoma', 'xootm', 'xosogpr', 'xoxqv', 'xoze', 'xpapqx', 'xpaujllljf', 'xpczwx', 'xppzmc', 'xpt', 'xpwx', 'xpz', 'xq', 'xqbpckipbu', 'xqd', 'xqe', 'xqekq', 'xqhsffjj', 'xqisk', 'xqk', 'xqohclme', 'xqs', 'xqvkv', 'xraq', 'xreoyj', 'xrfqseqxpu', 'xrg', 'xriss', 'xrmh', 'xrnbksi', 'xrsaggv', 'xrstij', 'xrswd', 'xrt', 'xsaoj', 'xsaq', 'xsazjysw', 'xscodkuhfo', 'xsjyym', 'xskhlmmg', 'xsmhdsonyv', 'xspv', 'xsqt', 'xssr', 'xst', 'xtdrcjni', 'xtgidf', 'xth', 'xtj', 'xtn', 'xtpecr', 'xtqemwch', 'xttiq', 'xtx', 'xtxondvrig', 'xue', 'xuiexlnf', 'xul', 'xumg', 'xumtb', 'xuqiwg', 'xutrtyhqci', 'xuuxugkjju', 'xvcr', 'xviduz', 'xvjngaorc', 'xvktwfvyiw', 'xvucatf', 'xvxtrdf', 'xvyexp', 'xwb', 'xwblxu', 'xwcfgh', 'xwho', 'xwjrslexbj', 'xwmgsnbncz', 'xwr', 'xwvbaf', 'xwwgma', 'xxacihge', 'xxb', 'xxflijj', 'xxi', 'xxii', 'xxjocgvt', 'xxnz', 'xxqmzxupm', 'xxvippbg', 'xxyaycsxlg', 'xydadi', 'xykazr', 'xylmfujdgg', 'xylodravsu', 'xyost', 'xyovukpqss', 'xyp', 'xypukfl', 'xyqmqpnwr', 'xyskixvifh', 'xyw', 'xzddni', 'xzgquq', 'xzic', 'xzm', 'xzn', 'xzwktwtrrk', 'xzyluxcrlu', 'xzzdescfj', 'yaanzodftl', 'yabstnvdio', 'yabxi', 'yacz', 'yafxx', 'yahe', 'yakthf', 'yan', 'yangtz', 'yanke', 'yanonez', 'yant', 'yao', 'yapi', 'yara', 'yardstick', 'yasn', 'yavqlen', 'ybdswl', 'ybdzffkp', 'ybf', 'ybgcgoxzpk', 'ybperum', 'ybpyenvu', 'ybq', 'ybtzi', 'ycawyzc', 'ycdqyw', 'ycfxlazf', 'ychrcoar', 'yciogi', 'ycpfh', 'ycu', 'ycw', 'ycyho', 'ydauh', 'yddpaj', 'yde', 'ydf', 'ydfcsxwupw', 'ydjrppf', 'ydmkumghd', 'ydo', 'ydslmqarh', 'ydt', 'ydykgykut', 'ydytptjpj', 'yeah', 'yeahka', 'yearlong', 'yeehiptvav', 'yellow', 'yellowston', 'yemen', 'yermxa', 'yervoy', 'yescarta', 'yesivc', 'yestar', 'yestarhealthcar', 'yex', 'yeynntyoih', 'yeywlhc', 'yezwswzjth', 'yfb', 'yfeh', 'yffwqxhs', 'yfkaracaet', 'yfmei', 'yfnb', 'yfyjgljzui', 'ygay', 'ygb', 'yghxl', 'ygi', 'ygjpt', 'ygkm', 'ygks', 'ygln', 'yglujvpyxc', 'yguhy', 'ygzq', 'yhgup', 'yhiujb', 'yhp', 'yhpmfyrkcb', 'yhrb', 'yhtym', 'yhulcvclvz', 'yhykckab', 'yhz', 'yidponpla', 'yie', 'yikhsc', 'yilb', 'yiren', 'yiuk', 'yiztefwaj', 'yjd', 'yjdq', 'yjepwrx', 'yjin', 'yjla', 'yjmrc', 'ykgcxliylp', 'ykjuzoueet', 'yklnldbcqb', 'ykmxl', 'ykp', 'ykut', 'ykw', 'yl', 'ylbm', 'yleh', 'yleryf', 'yljbfyyud', 'ylmrpu', 'ylphgiq', 'ylpwhnlro', 'ym', 'ymbfji', 'ymcgw', 'ymg', 'ymiuqwp', 'ymjhn', 'ymm', 'ymr', 'ymtmkfabqx', 'ymwizjcj', 'ymwzti', 'ymxgcubat', 'ymxzwv', 'yna', 'ynauz', 'ynfl', 'ynjb', 'ynnwd', 'yno', 'ynoztr', 'ynsm', 'ynu', 'yobeeefvnz', 'yoehb', 'yoemi', 'yok', 'yolhdsctl', 'yonbufuwi', 'yoph', 'yoqq', 'yorw', 'yoskd', 'youdao', 'youth', 'yovanovich', 'yoxnbo', 'yoy', 'yoybdgf', 'ypasskzn', 'ypdk', 'ypdo', 'ypdvk', 'ypgydw', 'ypl', 'ypn', 'ypxdps', 'yq', 'yqboa', 'yqgcn', 'yqiocddtoh', 'yqjgk', 'yqk', 'yqlaldm', 'yqmq', 'yqncq', 'yqov', 'yqps', 'yqqkzg', 'yqtp', 'yqzfmfwbgp', 'yrb', 'yrbmcs', 'yrbwajlkg', 'yrd', 'yrimkch', 'yrjfdyd', 'yrorwrbi', 'yrpxlxdd', 'yrqw', 'yrwgtj', 'ysadnu', 'yselwjzm', 'ysfx', 'ysgisoxwok', 'ysho', 'ysj', 'ysln', 'ysmliag', 'ysmtphmbnr', 'ysn', 'ysp', 'ysquqay', 'ysumfya', 'ysuwhnb', 'ysvsmsqrib', 'ysxil', 'yszf', 'ytei', 'yten', 'ytgfen', 'ytici', 'ytirq', 'ytnmrtbi', 'ytodty', 'ytun', 'ytvakzmtt', 'ytw', 'ytyryqpuww', 'ytza', 'yu', 'yuan', 'yubj', 'yud', 'yuhuruht', 'yui', 'yuoai', 'yuqmz', 'yurkh', 'yuy', 'yuyh', 'yvehgwa', 'yverznfdt', 'yveu', 'yvhs', 'yvifvx', 'yvk', 'yvp', 'ywbduc', 'ywdv', 'ywhjdxyjub', 'ywj', 'ywjuzrl', 'ywldxfdzey', 'ywng', 'yws', 'yww', 'ywyoy', 'yxds', 'yxgg', 'yxhoki', 'yxmoxhzegm', 'yxp', 'yxvqvwpxzm', 'yxwsegiyhw', 'yxzhguz', 'yyekdvzrug', 'yyfnrbha', 'yyskhvpq', 'yyzshzx', 'yzd', 'yzeuskd', 'yzf', 'yzfcam', 'yzgerousyy', 'yzgk', 'yzkd', 'yzkgxzzjux', 'yzmz', 'yzofof', 'yzq', 'yzwbwpp', 'yzye', 'zacut', 'zaep', 'zagg', 'zahlungen', 'zaipli', 'zak', 'zambia', 'zamv', 'zan', 'zaumhg', 'zavclmdgug', 'zay', 'zayeba', 'zayo', 'zbfg', 'zbinvb', 'zbklwnoy', 'zblo', 'zblrf', 'zbofc', 'zbpzqshzzv', 'zbqeqhi', 'zbvuvsi', 'zbwvszm', 'zcfgz', 'zcoo', 'zcozjwxfi', 'zcqa', 'zcqu', 'zct', 'zcu', 'zcune', 'zdb', 'zdcbi', 'zddvnhx', 'zdesceokmh', 'zdgfjrw', 'zdi', 'zdnggqxjve', 'zdnij', 'zdol', 'zdr', 'zdt', 'zdwkowxc', 'zdxfqvgte', 'zdyq', 'zealotri', 'zeawb', 'zed', 'zedprshu', 'zefylketf', 'zeg', 'zehf', 'zekdjfyu', 'zelda', 'zeldatherapeut', 'zelenski', 'zelenskiy', 'zelg', 'zertifizierung', 'zeum', 'zex', 'zey', 'zeyhfoysf', 'zfdyzzkp', 'zferpi', 'zfgn', 'zflngjl', 'zfm', 'zfoz', 'zfuv', 'zfxijxi', 'zfzofwlzx', 'zgfs', 'zggnq', 'zgi', 'zgl', 'zgszahdkng', 'zhbeu', 'zhcp', 'zhenmeat', 'zheshang', 'zhjz', 'zhkdtiv', 'zhkv', 'zhmvdc', 'zhone', 'zhrhhehkvw', 'zhser', 'zhsowi', 'zhv', 'zhzuzlqu', 'zie', 'ziff', 'zifk', 'zijin', 'zijinmin', 'zik', 'zilx', 'zinc', 'zingfit', 'ziop', 'ziopharm', 'zip', 'ziww', 'zixndl', 'zjalienfaq', 'zjb', 'zjfs', 'zjhnp', 'zjlblkxglg', 'zjmmo', 'zjs', 'zkmdp', 'zkmyzih', 'zkoqf', 'zkts', 'zkyb', 'zlc', 'zlcgb', 'zletzz', 'zlfum', 'zll', 'zlmr', 'zlr', 'zltmcvtfcp', 'zluo', 'zlwyrdabw', 'zlzi', 'zmbdgnxclc', 'zmct', 'zmeo', 'zmf', 'zmjjynqm', 'zmpcj', 'zmrel', 'zmu', 'zmwl', 'zmwn', 'zmww', 'zmx', 'znal', 'zngufri', 'znh', 'zntga', 'znywzlwydu', 'zobpg', 'zoccoli', 'zockvauaph', 'zocsyb', 'zoecqw', 'zoezqlt', 'zof', 'zogenix', 'zoisxqi', 'zolcvqlom', 'zom', 'zomedica', 'zonnecelmodul', 'zoofn', 'zooplus', 'zop', 'zopl', 'zoqatijiou', 'zosz', 'zotf', 'zovfvid', 'zoyl', 'zozc', 'zpayn', 'zpbcbtdjsj', 'zpfnwzggen', 'zphozlugsk', 'zphr', 'zpizd', 'zpkdkhbzpf', 'zpnfmcqapi', 'zpuk', 'zqa', 'zqc', 'zqd', 'zqdljvu', 'zqiktbqquk', 'zqkhmhpbhz', 'zqlufla', 'zqsqv', 'zqt', 'zqvx', 'zqzgdvok', 'zrbefgfado', 'zrezr', 'zrgnh', 'zrgza', 'zrk', 'zrkg', 'zrnjt', 'zrnnfsf', 'zrqu', 'zrsng', 'zrzyyjh', 'zschneeweiss', 'zsdka', 'zse', 'zsedodfpg', 'zsewoi', 'zsgbnnc', 'zsj', 'zsli', 'zsset', 'zstbedgq', 'zsxtwat', 'zsz', 'ztb', 'ztcjsycf', 'ztcjxzf', 'zte', 'ztgr', 'ztputetxpp', 'ztyfuq', 'zuc', 'zud', 'zujt', 'zumiez', 'zuobxf', 'zuofgizkq', 'zuui', 'zuvrnjssp', 'zuw', 'zuxnnmng', 'zuymcvxw', 'zuzqr', 'zvckjmpdve', 'zvcompinc', 'zvd', 'zvi', 'zvk', 'zvkngb', 'zvlyq', 'zvmktl', 'zvn', 'zvnpktetnm', 'zvqdw', 'zvtalqviqm', 'zvtdbnpcmn', 'zvu', 'zvwsyalrgk', 'zvyt', 'zwdqjvii', 'zwei', 'zwenrm', 'zwilling', 'zwk', 'zwlarl', 'zwmqdmxtcr', 'zwn', 'zwpgvnbfhn', 'zwzcys', 'zxgeakbeem', 'zxgifkvjsk', 'zxjv', 'zxknne', 'zxoa', 'zxujb', 'zxwdrz', 'zyaw', 'zykqhj', 'zynex', 'zyr', 'zyu', 'zyv', 'zyxi', 'zyy', 'zza', 'zzdsjwv', 'zzhpwn', 'zzkvronsl', 'zzucote', 'zzz', 'zzzi']\n"
     ]
    }
   ],
   "source": [
    "vectorizer = CountVectorizer()\n",
    "X = vectorizer.fit_transform(df_train['clean_text'])\n",
    "words = vectorizer.get_feature_names_out()\n",
    "word_counts = X.toarray().sum(axis=0)\n",
    "words_once = [word for word, count in zip(words, word_counts) if count == 1]\n",
    "\n",
    "print(\"Words that appear only once:\", words_once)\n"
   ]
  },
  {
   "cell_type": "code",
   "execution_count": null,
   "id": "b30bc41f",
   "metadata": {},
   "outputs": [],
   "source": [
    "words_once_set = set(words_once)\n",
    "\n",
    "def remove_rare_words(text):\n",
    "    return ' '.join([word for word in text.split() if word not in words_once_set])\n",
    "\n",
    "df_train['clean_text'] = df_train['clean_text'].apply(remove_rare_words)\n"
   ]
  },
  {
   "cell_type": "markdown",
   "id": "6619a880",
   "metadata": {},
   "source": [
    "# 4. Model"
   ]
  },
  {
   "cell_type": "code",
   "execution_count": null,
   "id": "19e38e78",
   "metadata": {},
   "outputs": [],
   "source": [
    "X_train = df_train['clean_text']\n",
    "y_train = df_train['label'] \n",
    "\n",
    "X_train, X_val, y_train, y_val = train_val_split(X_train, y_train, val_size=0.2, random_state=42)"
   ]
  },
  {
   "cell_type": "markdown",
   "id": "74c40dc2",
   "metadata": {},
   "source": [
    "## 4.1. Vectorization"
   ]
  },
  {
   "cell_type": "code",
   "execution_count": null,
   "id": "487d9c00",
   "metadata": {},
   "outputs": [],
   "source": [
    "def bow_or_tfidf(texts = df_train['clean_text'], method='bow'):\n",
    "    if method == 'bow':\n",
    "        vectorizer = CountVectorizer()\n",
    "        X = vectorizer.fit_transform(texts)\n",
    "        return X, vectorizer\n",
    "\n",
    "    elif method == 'tfidf':\n",
    "        vectorizer = TfidfVectorizer()\n",
    "        X = vectorizer.fit_transform(texts)\n",
    "        return X, vectorizer\n",
    "\n",
    "    else:\n",
    "        raise ValueError(\"Choose a valid method: 'bow', 'tfidf'.\")\n",
    "\n",
    "#X_train, vectorizer = bow_or_tfidf(df_train['clean_text'], method='bow')\n",
    "# X_train, vectorizer = bow_or_tfidf(df_train['clean_text'], method='tfidf')\n",
    "\n"
   ]
  },
  {
   "cell_type": "markdown",
   "id": "04202194",
   "metadata": {},
   "source": [
    "## 4.2. Function for evaluation of the model"
   ]
  },
  {
   "cell_type": "code",
   "execution_count": null,
   "id": "0b1c74d2",
   "metadata": {},
   "outputs": [],
   "source": [
    "def evaluate_model_predictions(y_pred_train, y_pred_val, y_train = y_train, y_val = y_val, show_confusion_matrix = True, show_classification_report = True):\n",
    "    train_accuracy = accuracy_score(y_train, y_pred_train)\n",
    "    train_f1 = f1_score(y_train, y_pred_train, average='macro')\n",
    "    \n",
    "    val_accuracy = accuracy_score(y_val, y_pred_val)\n",
    "    val_f1 = f1_score(y_val, y_pred_val, average='macro')\n",
    "\n",
    "    print(f\"Accuracy of train: {train_accuracy:.4f}\")\n",
    "    print(f\"Accuracy of val: {val_accuracy:.4f}\")\n",
    "    print(f\"F1 Macro (Train): {train_f1:.4f}\")\n",
    "    print(f\"\\033[1mF1 Macro (Val)\\033[0m: {val_f1:.4f}\")\n",
    "    \n",
    "    if show_confusion_matrix==True:\n",
    "        print('\\nConfusion Matrix for Validation Data:')    \n",
    "        print(confusion_matrix(y_val, y_pred_val))\n",
    "\n",
    "    if show_classification_report==True:\n",
    "        print('\\nClassification Report for Validation Data:')\n",
    "        print(classification_report(y_val, y_pred_val))\n",
    "\n",
    "    return train_accuracy, train_f1, val_accuracy, val_f1"
   ]
  },
  {
   "cell_type": "markdown",
   "id": "9ac1c34e",
   "metadata": {},
   "source": [
    "## 4.4. Models"
   ]
  },
  {
   "cell_type": "code",
   "execution_count": null,
   "id": "b9720647",
   "metadata": {},
   "outputs": [
    {
     "name": "stdout",
     "output_type": "stream",
     "text": [
      "Accuracy of train: 0.9507\n",
      "Accuracy of val: 0.7976\n",
      "F1 Macro (Train): 0.9346\n",
      "\u001b[1mF1 Macro (Val)\u001b[0m: 0.7115\n",
      "\n",
      "Confusion Matrix for Validation Data:\n",
      "[[ 148   28  113]\n",
      " [  21  233  119]\n",
      " [  42   60 1128]]\n",
      "\n",
      "Classification Report for Validation Data:\n",
      "              precision    recall  f1-score   support\n",
      "\n",
      "           0       0.70      0.51      0.59       289\n",
      "           1       0.73      0.62      0.67       373\n",
      "           2       0.83      0.92      0.87      1230\n",
      "\n",
      "    accuracy                           0.80      1892\n",
      "   macro avg       0.75      0.68      0.71      1892\n",
      "weighted avg       0.79      0.80      0.79      1892\n",
      "\n"
     ]
    }
   ],
   "source": [
    "X_train_bow, vectorizer = bow_or_tfidf(X_train, method='bow')\n",
    "\n",
    "X_val_bow = vectorizer.transform(X_val)\n",
    "X_val_bow = vectorizer.transform(df_val['clean_text']) \n",
    "\n",
    "\n",
    "lr = LogisticRegression()\n",
    "lr.fit(X_train_bow, y_train)\n",
    "y_pred_train = lr.predict(X_train_bow)\n",
    "y_pred_val = lr.predict(X_val_bow)\n",
    "\n",
    "\n",
    "# Results:\n",
    "lr_bow_train_accuracy, lr_bow_train_f1_macro, lr_bow_val_accuracy, lr_bow_val_f1_macro = evaluate_model_predictions(y_pred_train=y_pred_train, y_pred_val =y_pred_val)\n"
   ]
  },
  {
   "cell_type": "code",
   "execution_count": null,
   "id": "3570fcb1",
   "metadata": {},
   "outputs": [
    {
     "name": "stdout",
     "output_type": "stream",
     "text": [
      "Accuracy of train: 0.8116\n",
      "Accuracy of val: 0.6586\n",
      "F1 Macro (Train): 0.7407\n",
      "\u001b[1mF1 Macro (Val)\u001b[0m: 0.5260\n",
      "\n",
      "Confusion Matrix for Validation Data:\n",
      "[[ 94  46 149]\n",
      " [ 48 156 169]\n",
      " [134 100 996]]\n",
      "\n",
      "Classification Report for Validation Data:\n",
      "              precision    recall  f1-score   support\n",
      "\n",
      "           0       0.34      0.33      0.33       289\n",
      "           1       0.52      0.42      0.46       373\n",
      "           2       0.76      0.81      0.78      1230\n",
      "\n",
      "    accuracy                           0.66      1892\n",
      "   macro avg       0.54      0.52      0.53      1892\n",
      "weighted avg       0.65      0.66      0.65      1892\n",
      "\n"
     ]
    }
   ],
   "source": [
    "knn = KNeighborsClassifier(n_neighbors=5) \n",
    "knn.fit(X_train_bow, y_train)\n",
    "\n",
    "y_pred_train = knn.predict(X_train_bow)\n",
    "y_pred_val = knn.predict(X_val_bow)\n",
    "\n",
    "knn_bow_train_accuracy, knn_bow_train_f1_macro, knn_bow_val_accuracy, knn_bow_val_f1_macro = evaluate_model_predictions(y_pred_train=y_pred_train, y_pred_val=y_pred_val)\n"
   ]
  },
  {
   "cell_type": "code",
   "execution_count": null,
   "id": "e03e911e",
   "metadata": {},
   "outputs": [
    {
     "name": "stdout",
     "output_type": "stream",
     "text": [
      "Accuracy of train: 0.8517\n",
      "Accuracy of val: 0.7812\n",
      "F1 Macro (Train): 0.7840\n",
      "\u001b[1mF1 Macro (Val)\u001b[0m: 0.6622\n",
      "\n",
      "Confusion Matrix for Validation Data:\n",
      "[[ 108   24  157]\n",
      " [  14  195  164]\n",
      " [  13   42 1175]]\n",
      "\n",
      "Classification Report for Validation Data:\n",
      "              precision    recall  f1-score   support\n",
      "\n",
      "           0       0.80      0.37      0.51       289\n",
      "           1       0.75      0.52      0.62       373\n",
      "           2       0.79      0.96      0.86      1230\n",
      "\n",
      "    accuracy                           0.78      1892\n",
      "   macro avg       0.78      0.62      0.66      1892\n",
      "weighted avg       0.78      0.78      0.76      1892\n",
      "\n"
     ]
    }
   ],
   "source": [
    "X_train_tfidf, vectorizer = bow_or_tfidf(X_train, method='tfidf')\n",
    "X_val_tfidf = vectorizer.transform(X_val)\n",
    "X_val_tfidf = vectorizer.transform(df_val['clean_text']) \n",
    "\n",
    "\n",
    "lr = LogisticRegression()\n",
    "lr.fit(X_train_tfidf, y_train)\n",
    "y_pred_train = lr.predict(X_train_tfidf)\n",
    "y_pred_val = lr.predict(X_val_tfidf)\n",
    "\n",
    "# Results:\n",
    "lr_idf_train_accuracy, lr_idf_train_f1_macro, lr_idf_val_accuracy, lr_idf_val_f1_macro = evaluate_model_predictions(y_pred_train=y_pred_train, y_pred_val =y_pred_val)\n"
   ]
  },
  {
   "cell_type": "markdown",
   "id": "a75ad550",
   "metadata": {},
   "source": [
    "Models more complicated"
   ]
  },
  {
   "cell_type": "code",
   "execution_count": null,
   "id": "171c9bc0",
   "metadata": {},
   "outputs": [],
   "source": [
    "import gensim\n",
    "from gensim.models import Word2Vec\n",
    "from sklearn.preprocessing import normalize\n",
    "\n",
    "def word_embeddings(texts, method='word2vec', window_size=2, min_count=1, vector_size=100):\n",
    "\n",
    "    # Tokenize\n",
    "    tokenized = [text.split() for text in texts]\n",
    "\n",
    "    if method == 'term_term':\n",
    "        vectorizer = CountVectorizer()\n",
    "        X = vectorizer.fit_transform(texts)\n",
    "        term_term_matrix = (X.T * X)\n",
    "        np.fill_diagonal(term_term_matrix.toarray(), 0)\n",
    "        words = vectorizer.get_feature_names_out()\n",
    "        df = pd.DataFrame(term_term_matrix.toarray(), index=words, columns=words)\n",
    "        return df\n",
    "\n",
    "    elif method == 'pmi':\n",
    "        # Build term-term co-occurrence matrix\n",
    "        vectorizer = CountVectorizer()\n",
    "        X = vectorizer.fit_transform([' '.join(doc) for doc in tokenized])\n",
    "        vocab = vectorizer.get_feature_names_out()\n",
    "        cooc_matrix = (X.T @ X).toarray()\n",
    "        np.fill_diagonal(cooc_matrix, 0)\n",
    "\n",
    "        total = cooc_matrix.sum()\n",
    "        row_sum = cooc_matrix.sum(axis=1, keepdims=True)\n",
    "        col_sum = cooc_matrix.sum(axis=0, keepdims=True)\n",
    "\n",
    "        expected = (row_sum @ col_sum) / total\n",
    "        with np.errstate(divide='ignore'):\n",
    "            pmi = np.log2(cooc_matrix / expected)\n",
    "        pmi[np.isinf(pmi)] = 0\n",
    "        pmi[pmi < 0] = 0  # Only positive PMI (PPMI)\n",
    "\n",
    "        df = pd.DataFrame(pmi, index=vocab, columns=vocab)\n",
    "        return df\n",
    "\n",
    "    elif method == 'word2vec':\n",
    "        model = Word2Vec(sentences=tokenized, vector_size=vector_size, window=window_size, min_count=min_count, sg=1)\n",
    "        word_vectors = model.wv\n",
    "        # Convert to DataFrame for easier use\n",
    "        df = pd.DataFrame({word: word_vectors[word] for word in word_vectors.index_to_key}).T\n",
    "        return df\n",
    "\n",
    "    else:\n",
    "        raise ValueError(\"Choose one of: 'term_term', 'pmi', 'word2vec'\")\n",
    "\n"
   ]
  },
  {
   "cell_type": "code",
   "execution_count": null,
   "id": "3b4eba6a",
   "metadata": {},
   "outputs": [
    {
     "ename": "ValueError",
     "evalue": "Found input variables with inconsistent numbers of samples: [9459, 7567]",
     "output_type": "error",
     "traceback": [
      "\u001b[1;31m---------------------------------------------------------------------------\u001b[0m",
      "\u001b[1;31mValueError\u001b[0m                                Traceback (most recent call last)",
      "Cell \u001b[1;32mIn[24], line 17\u001b[0m\n\u001b[0;32m     13\u001b[0m X_test \u001b[38;5;241m=\u001b[39m np\u001b[38;5;241m.\u001b[39mvstack([get_doc_embedding(doc, w2v_df) \u001b[38;5;28;01mfor\u001b[39;00m doc \u001b[38;5;129;01min\u001b[39;00m df_test[\u001b[38;5;124m'\u001b[39m\u001b[38;5;124mclean_text\u001b[39m\u001b[38;5;124m'\u001b[39m]])\n\u001b[0;32m     16\u001b[0m clf \u001b[38;5;241m=\u001b[39m LogisticRegression()\n\u001b[1;32m---> 17\u001b[0m clf\u001b[38;5;241m.\u001b[39mfit(X_train, y_train)\n\u001b[0;32m     19\u001b[0m y_pred_train \u001b[38;5;241m=\u001b[39m clf\u001b[38;5;241m.\u001b[39mpredict(X_train)\n\u001b[0;32m     20\u001b[0m y_pred_val \u001b[38;5;241m=\u001b[39m clf\u001b[38;5;241m.\u001b[39mpredict(X_test)\n",
      "File \u001b[1;32mc:\\Users\\joana\\anaconda3\\Lib\\site-packages\\sklearn\\base.py:1473\u001b[0m, in \u001b[0;36m_fit_context.<locals>.decorator.<locals>.wrapper\u001b[1;34m(estimator, *args, **kwargs)\u001b[0m\n\u001b[0;32m   1466\u001b[0m     estimator\u001b[38;5;241m.\u001b[39m_validate_params()\n\u001b[0;32m   1468\u001b[0m \u001b[38;5;28;01mwith\u001b[39;00m config_context(\n\u001b[0;32m   1469\u001b[0m     skip_parameter_validation\u001b[38;5;241m=\u001b[39m(\n\u001b[0;32m   1470\u001b[0m         prefer_skip_nested_validation \u001b[38;5;129;01mor\u001b[39;00m global_skip_validation\n\u001b[0;32m   1471\u001b[0m     )\n\u001b[0;32m   1472\u001b[0m ):\n\u001b[1;32m-> 1473\u001b[0m     \u001b[38;5;28;01mreturn\u001b[39;00m fit_method(estimator, \u001b[38;5;241m*\u001b[39margs, \u001b[38;5;241m*\u001b[39m\u001b[38;5;241m*\u001b[39mkwargs)\n",
      "File \u001b[1;32mc:\\Users\\joana\\anaconda3\\Lib\\site-packages\\sklearn\\linear_model\\_logistic.py:1223\u001b[0m, in \u001b[0;36mLogisticRegression.fit\u001b[1;34m(self, X, y, sample_weight)\u001b[0m\n\u001b[0;32m   1220\u001b[0m \u001b[38;5;28;01melse\u001b[39;00m:\n\u001b[0;32m   1221\u001b[0m     _dtype \u001b[38;5;241m=\u001b[39m [np\u001b[38;5;241m.\u001b[39mfloat64, np\u001b[38;5;241m.\u001b[39mfloat32]\n\u001b[1;32m-> 1223\u001b[0m X, y \u001b[38;5;241m=\u001b[39m \u001b[38;5;28mself\u001b[39m\u001b[38;5;241m.\u001b[39m_validate_data(\n\u001b[0;32m   1224\u001b[0m     X,\n\u001b[0;32m   1225\u001b[0m     y,\n\u001b[0;32m   1226\u001b[0m     accept_sparse\u001b[38;5;241m=\u001b[39m\u001b[38;5;124m\"\u001b[39m\u001b[38;5;124mcsr\u001b[39m\u001b[38;5;124m\"\u001b[39m,\n\u001b[0;32m   1227\u001b[0m     dtype\u001b[38;5;241m=\u001b[39m_dtype,\n\u001b[0;32m   1228\u001b[0m     order\u001b[38;5;241m=\u001b[39m\u001b[38;5;124m\"\u001b[39m\u001b[38;5;124mC\u001b[39m\u001b[38;5;124m\"\u001b[39m,\n\u001b[0;32m   1229\u001b[0m     accept_large_sparse\u001b[38;5;241m=\u001b[39msolver \u001b[38;5;129;01mnot\u001b[39;00m \u001b[38;5;129;01min\u001b[39;00m [\u001b[38;5;124m\"\u001b[39m\u001b[38;5;124mliblinear\u001b[39m\u001b[38;5;124m\"\u001b[39m, \u001b[38;5;124m\"\u001b[39m\u001b[38;5;124msag\u001b[39m\u001b[38;5;124m\"\u001b[39m, \u001b[38;5;124m\"\u001b[39m\u001b[38;5;124msaga\u001b[39m\u001b[38;5;124m\"\u001b[39m],\n\u001b[0;32m   1230\u001b[0m )\n\u001b[0;32m   1231\u001b[0m check_classification_targets(y)\n\u001b[0;32m   1232\u001b[0m \u001b[38;5;28mself\u001b[39m\u001b[38;5;241m.\u001b[39mclasses_ \u001b[38;5;241m=\u001b[39m np\u001b[38;5;241m.\u001b[39munique(y)\n",
      "File \u001b[1;32mc:\\Users\\joana\\anaconda3\\Lib\\site-packages\\sklearn\\base.py:650\u001b[0m, in \u001b[0;36mBaseEstimator._validate_data\u001b[1;34m(self, X, y, reset, validate_separately, cast_to_ndarray, **check_params)\u001b[0m\n\u001b[0;32m    648\u001b[0m         y \u001b[38;5;241m=\u001b[39m check_array(y, input_name\u001b[38;5;241m=\u001b[39m\u001b[38;5;124m\"\u001b[39m\u001b[38;5;124my\u001b[39m\u001b[38;5;124m\"\u001b[39m, \u001b[38;5;241m*\u001b[39m\u001b[38;5;241m*\u001b[39mcheck_y_params)\n\u001b[0;32m    649\u001b[0m     \u001b[38;5;28;01melse\u001b[39;00m:\n\u001b[1;32m--> 650\u001b[0m         X, y \u001b[38;5;241m=\u001b[39m check_X_y(X, y, \u001b[38;5;241m*\u001b[39m\u001b[38;5;241m*\u001b[39mcheck_params)\n\u001b[0;32m    651\u001b[0m     out \u001b[38;5;241m=\u001b[39m X, y\n\u001b[0;32m    653\u001b[0m \u001b[38;5;28;01mif\u001b[39;00m \u001b[38;5;129;01mnot\u001b[39;00m no_val_X \u001b[38;5;129;01mand\u001b[39;00m check_params\u001b[38;5;241m.\u001b[39mget(\u001b[38;5;124m\"\u001b[39m\u001b[38;5;124mensure_2d\u001b[39m\u001b[38;5;124m\"\u001b[39m, \u001b[38;5;28;01mTrue\u001b[39;00m):\n",
      "File \u001b[1;32mc:\\Users\\joana\\anaconda3\\Lib\\site-packages\\sklearn\\utils\\validation.py:1320\u001b[0m, in \u001b[0;36mcheck_X_y\u001b[1;34m(X, y, accept_sparse, accept_large_sparse, dtype, order, copy, force_writeable, force_all_finite, ensure_2d, allow_nd, multi_output, ensure_min_samples, ensure_min_features, y_numeric, estimator)\u001b[0m\n\u001b[0;32m   1301\u001b[0m X \u001b[38;5;241m=\u001b[39m check_array(\n\u001b[0;32m   1302\u001b[0m     X,\n\u001b[0;32m   1303\u001b[0m     accept_sparse\u001b[38;5;241m=\u001b[39maccept_sparse,\n\u001b[1;32m   (...)\u001b[0m\n\u001b[0;32m   1315\u001b[0m     input_name\u001b[38;5;241m=\u001b[39m\u001b[38;5;124m\"\u001b[39m\u001b[38;5;124mX\u001b[39m\u001b[38;5;124m\"\u001b[39m,\n\u001b[0;32m   1316\u001b[0m )\n\u001b[0;32m   1318\u001b[0m y \u001b[38;5;241m=\u001b[39m _check_y(y, multi_output\u001b[38;5;241m=\u001b[39mmulti_output, y_numeric\u001b[38;5;241m=\u001b[39my_numeric, estimator\u001b[38;5;241m=\u001b[39mestimator)\n\u001b[1;32m-> 1320\u001b[0m check_consistent_length(X, y)\n\u001b[0;32m   1322\u001b[0m \u001b[38;5;28;01mreturn\u001b[39;00m X, y\n",
      "File \u001b[1;32mc:\\Users\\joana\\anaconda3\\Lib\\site-packages\\sklearn\\utils\\validation.py:457\u001b[0m, in \u001b[0;36mcheck_consistent_length\u001b[1;34m(*arrays)\u001b[0m\n\u001b[0;32m    455\u001b[0m uniques \u001b[38;5;241m=\u001b[39m np\u001b[38;5;241m.\u001b[39munique(lengths)\n\u001b[0;32m    456\u001b[0m \u001b[38;5;28;01mif\u001b[39;00m \u001b[38;5;28mlen\u001b[39m(uniques) \u001b[38;5;241m>\u001b[39m \u001b[38;5;241m1\u001b[39m:\n\u001b[1;32m--> 457\u001b[0m     \u001b[38;5;28;01mraise\u001b[39;00m \u001b[38;5;167;01mValueError\u001b[39;00m(\n\u001b[0;32m    458\u001b[0m         \u001b[38;5;124m\"\u001b[39m\u001b[38;5;124mFound input variables with inconsistent numbers of samples: \u001b[39m\u001b[38;5;132;01m%r\u001b[39;00m\u001b[38;5;124m\"\u001b[39m\n\u001b[0;32m    459\u001b[0m         \u001b[38;5;241m%\u001b[39m [\u001b[38;5;28mint\u001b[39m(l) \u001b[38;5;28;01mfor\u001b[39;00m l \u001b[38;5;129;01min\u001b[39;00m lengths]\n\u001b[0;32m    460\u001b[0m     )\n",
      "\u001b[1;31mValueError\u001b[0m: Found input variables with inconsistent numbers of samples: [9459, 7567]"
     ]
    }
   ],
   "source": [
    "# Train embeddings\n",
    "w2v_df = word_embeddings(df_train['clean_text'], method='word2vec')\n",
    "def get_doc_embedding(doc, embeddings_df, dim=100):\n",
    "    tokens = doc.split()\n",
    "    vectors = [embeddings_df.loc[word] for word in tokens if word in embeddings_df.index]\n",
    "    if vectors:\n",
    "        return np.mean(vectors, axis=0)\n",
    "    else:\n",
    "        return np.zeros(dim)\n",
    "\n",
    "# Build feature matrix\n",
    "X_train = np.vstack([get_doc_embedding(doc, w2v_df) for doc in df_train['clean_text']])\n",
    "X_val = np.vstack([get_doc_embedding(doc, w2v_df) for doc in df_val['clean_text']])\n",
    "\n",
    "\n",
    "clf = LogisticRegression()\n",
    "clf.fit(X_train, y_train)\n",
    "\n",
    "y_pred_train = clf.predict(X_train)\n",
    "y_pred_val = clf.predict(X_val)\n"
   ]
  },
  {
   "cell_type": "code",
   "execution_count": null,
   "id": "33b07eef",
   "metadata": {},
   "outputs": [
    {
     "ename": "ValueError",
     "evalue": "Found input variables with inconsistent numbers of samples: [1892, 2388]",
     "output_type": "error",
     "traceback": [
      "\u001b[1;31m---------------------------------------------------------------------------\u001b[0m",
      "\u001b[1;31mValueError\u001b[0m                                Traceback (most recent call last)",
      "Cell \u001b[1;32mIn[109], line 1\u001b[0m\n\u001b[1;32m----> 1\u001b[0m clf_train_accuracy, clf_train_f1_macro, clr_val_accuracy, test_f1_macro \u001b[38;5;241m=\u001b[39m evaluate_model_predictions()\n",
      "Cell \u001b[1;32mIn[108], line 6\u001b[0m, in \u001b[0;36mevaluate_model_predictions\u001b[1;34m(y_pred_train, y_pred_val, y_train, y_val, show_confusion_matrix, show_classification_report)\u001b[0m\n\u001b[0;32m      3\u001b[0m train_accuracy \u001b[38;5;241m=\u001b[39m accuracy_score(y_train, y_pred_train)\n\u001b[0;32m      4\u001b[0m train_f1 \u001b[38;5;241m=\u001b[39m f1_score(y_train, y_pred_train, average\u001b[38;5;241m=\u001b[39m\u001b[38;5;124m'\u001b[39m\u001b[38;5;124mmacro\u001b[39m\u001b[38;5;124m'\u001b[39m)\n\u001b[1;32m----> 6\u001b[0m val_accuracy \u001b[38;5;241m=\u001b[39m accuracy_score(y_val, y_pred_val)\n\u001b[0;32m      7\u001b[0m val_f1 \u001b[38;5;241m=\u001b[39m f1_score(y_val, y_pred_val, average\u001b[38;5;241m=\u001b[39m\u001b[38;5;124m'\u001b[39m\u001b[38;5;124mmacro\u001b[39m\u001b[38;5;124m'\u001b[39m)\n\u001b[0;32m      9\u001b[0m \u001b[38;5;66;03m# Display results\u001b[39;00m\n",
      "File \u001b[1;32mc:\\Users\\joana\\anaconda3\\Lib\\site-packages\\sklearn\\utils\\_param_validation.py:213\u001b[0m, in \u001b[0;36mvalidate_params.<locals>.decorator.<locals>.wrapper\u001b[1;34m(*args, **kwargs)\u001b[0m\n\u001b[0;32m    207\u001b[0m \u001b[38;5;28;01mtry\u001b[39;00m:\n\u001b[0;32m    208\u001b[0m     \u001b[38;5;28;01mwith\u001b[39;00m config_context(\n\u001b[0;32m    209\u001b[0m         skip_parameter_validation\u001b[38;5;241m=\u001b[39m(\n\u001b[0;32m    210\u001b[0m             prefer_skip_nested_validation \u001b[38;5;129;01mor\u001b[39;00m global_skip_validation\n\u001b[0;32m    211\u001b[0m         )\n\u001b[0;32m    212\u001b[0m     ):\n\u001b[1;32m--> 213\u001b[0m         \u001b[38;5;28;01mreturn\u001b[39;00m func(\u001b[38;5;241m*\u001b[39margs, \u001b[38;5;241m*\u001b[39m\u001b[38;5;241m*\u001b[39mkwargs)\n\u001b[0;32m    214\u001b[0m \u001b[38;5;28;01mexcept\u001b[39;00m InvalidParameterError \u001b[38;5;28;01mas\u001b[39;00m e:\n\u001b[0;32m    215\u001b[0m     \u001b[38;5;66;03m# When the function is just a wrapper around an estimator, we allow\u001b[39;00m\n\u001b[0;32m    216\u001b[0m     \u001b[38;5;66;03m# the function to delegate validation to the estimator, but we replace\u001b[39;00m\n\u001b[0;32m    217\u001b[0m     \u001b[38;5;66;03m# the name of the estimator by the name of the function in the error\u001b[39;00m\n\u001b[0;32m    218\u001b[0m     \u001b[38;5;66;03m# message to avoid confusion.\u001b[39;00m\n\u001b[0;32m    219\u001b[0m     msg \u001b[38;5;241m=\u001b[39m re\u001b[38;5;241m.\u001b[39msub(\n\u001b[0;32m    220\u001b[0m         \u001b[38;5;124mr\u001b[39m\u001b[38;5;124m\"\u001b[39m\u001b[38;5;124mparameter of \u001b[39m\u001b[38;5;124m\\\u001b[39m\u001b[38;5;124mw+ must be\u001b[39m\u001b[38;5;124m\"\u001b[39m,\n\u001b[0;32m    221\u001b[0m         \u001b[38;5;124mf\u001b[39m\u001b[38;5;124m\"\u001b[39m\u001b[38;5;124mparameter of \u001b[39m\u001b[38;5;132;01m{\u001b[39;00mfunc\u001b[38;5;241m.\u001b[39m\u001b[38;5;18m__qualname__\u001b[39m\u001b[38;5;132;01m}\u001b[39;00m\u001b[38;5;124m must be\u001b[39m\u001b[38;5;124m\"\u001b[39m,\n\u001b[0;32m    222\u001b[0m         \u001b[38;5;28mstr\u001b[39m(e),\n\u001b[0;32m    223\u001b[0m     )\n",
      "File \u001b[1;32mc:\\Users\\joana\\anaconda3\\Lib\\site-packages\\sklearn\\metrics\\_classification.py:231\u001b[0m, in \u001b[0;36maccuracy_score\u001b[1;34m(y_true, y_pred, normalize, sample_weight)\u001b[0m\n\u001b[0;32m    229\u001b[0m xp, _, device \u001b[38;5;241m=\u001b[39m get_namespace_and_device(y_true, y_pred, sample_weight)\n\u001b[0;32m    230\u001b[0m \u001b[38;5;66;03m# Compute accuracy for each possible representation\u001b[39;00m\n\u001b[1;32m--> 231\u001b[0m y_type, y_true, y_pred \u001b[38;5;241m=\u001b[39m _check_targets(y_true, y_pred)\n\u001b[0;32m    232\u001b[0m check_consistent_length(y_true, y_pred, sample_weight)\n\u001b[0;32m    233\u001b[0m \u001b[38;5;28;01mif\u001b[39;00m y_type\u001b[38;5;241m.\u001b[39mstartswith(\u001b[38;5;124m\"\u001b[39m\u001b[38;5;124mmultilabel\u001b[39m\u001b[38;5;124m\"\u001b[39m):\n",
      "File \u001b[1;32mc:\\Users\\joana\\anaconda3\\Lib\\site-packages\\sklearn\\metrics\\_classification.py:103\u001b[0m, in \u001b[0;36m_check_targets\u001b[1;34m(y_true, y_pred)\u001b[0m\n\u001b[0;32m     76\u001b[0m \u001b[38;5;250m\u001b[39m\u001b[38;5;124;03m\"\"\"Check that y_true and y_pred belong to the same classification task.\u001b[39;00m\n\u001b[0;32m     77\u001b[0m \n\u001b[0;32m     78\u001b[0m \u001b[38;5;124;03mThis converts multiclass or binary types to a common shape, and raises a\u001b[39;00m\n\u001b[1;32m   (...)\u001b[0m\n\u001b[0;32m    100\u001b[0m \u001b[38;5;124;03my_pred : array or indicator matrix\u001b[39;00m\n\u001b[0;32m    101\u001b[0m \u001b[38;5;124;03m\"\"\"\u001b[39;00m\n\u001b[0;32m    102\u001b[0m xp, _ \u001b[38;5;241m=\u001b[39m get_namespace(y_true, y_pred)\n\u001b[1;32m--> 103\u001b[0m check_consistent_length(y_true, y_pred)\n\u001b[0;32m    104\u001b[0m type_true \u001b[38;5;241m=\u001b[39m type_of_target(y_true, input_name\u001b[38;5;241m=\u001b[39m\u001b[38;5;124m\"\u001b[39m\u001b[38;5;124my_true\u001b[39m\u001b[38;5;124m\"\u001b[39m)\n\u001b[0;32m    105\u001b[0m type_pred \u001b[38;5;241m=\u001b[39m type_of_target(y_pred, input_name\u001b[38;5;241m=\u001b[39m\u001b[38;5;124m\"\u001b[39m\u001b[38;5;124my_pred\u001b[39m\u001b[38;5;124m\"\u001b[39m)\n",
      "File \u001b[1;32mc:\\Users\\joana\\anaconda3\\Lib\\site-packages\\sklearn\\utils\\validation.py:457\u001b[0m, in \u001b[0;36mcheck_consistent_length\u001b[1;34m(*arrays)\u001b[0m\n\u001b[0;32m    455\u001b[0m uniques \u001b[38;5;241m=\u001b[39m np\u001b[38;5;241m.\u001b[39munique(lengths)\n\u001b[0;32m    456\u001b[0m \u001b[38;5;28;01mif\u001b[39;00m \u001b[38;5;28mlen\u001b[39m(uniques) \u001b[38;5;241m>\u001b[39m \u001b[38;5;241m1\u001b[39m:\n\u001b[1;32m--> 457\u001b[0m     \u001b[38;5;28;01mraise\u001b[39;00m \u001b[38;5;167;01mValueError\u001b[39;00m(\n\u001b[0;32m    458\u001b[0m         \u001b[38;5;124m\"\u001b[39m\u001b[38;5;124mFound input variables with inconsistent numbers of samples: \u001b[39m\u001b[38;5;132;01m%r\u001b[39;00m\u001b[38;5;124m\"\u001b[39m\n\u001b[0;32m    459\u001b[0m         \u001b[38;5;241m%\u001b[39m [\u001b[38;5;28mint\u001b[39m(l) \u001b[38;5;28;01mfor\u001b[39;00m l \u001b[38;5;129;01min\u001b[39;00m lengths]\n\u001b[0;32m    460\u001b[0m     )\n",
      "\u001b[1;31mValueError\u001b[0m: Found input variables with inconsistent numbers of samples: [1892, 2388]"
     ]
    }
   ],
   "source": [
    "lr_emb_train_accuracy, lr_emb_train_f1_macro, lr_emb_val_accuracy, lr_idf_val_f1_macro = evaluate_model_predictions(y_pred_train=y_pred_train, y_pred_val =y_pred_val)\n"
   ]
  },
  {
   "cell_type": "markdown",
   "id": "35416174",
   "metadata": {},
   "source": [
    "## Results"
   ]
  },
  {
   "cell_type": "code",
   "execution_count": null,
   "id": "719b6ab0",
   "metadata": {},
   "outputs": [
    {
     "data": {
      "text/html": [
       "<div>\n",
       "<style scoped>\n",
       "    .dataframe tbody tr th:only-of-type {\n",
       "        vertical-align: middle;\n",
       "    }\n",
       "\n",
       "    .dataframe tbody tr th {\n",
       "        vertical-align: top;\n",
       "    }\n",
       "\n",
       "    .dataframe thead th {\n",
       "        text-align: right;\n",
       "    }\n",
       "</style>\n",
       "<table border=\"1\" class=\"dataframe\">\n",
       "  <thead>\n",
       "    <tr style=\"text-align: right;\">\n",
       "      <th></th>\n",
       "      <th>Train Accuracy</th>\n",
       "      <th>Val Accuracy</th>\n",
       "      <th>Train F1 Score</th>\n",
       "      <th>Val F1 Score</th>\n",
       "    </tr>\n",
       "    <tr>\n",
       "      <th>Simple Models</th>\n",
       "      <th></th>\n",
       "      <th></th>\n",
       "      <th></th>\n",
       "      <th></th>\n",
       "    </tr>\n",
       "  </thead>\n",
       "  <tbody>\n",
       "    <tr>\n",
       "      <th>LR_BOW</th>\n",
       "      <td>0.977534</td>\n",
       "      <td>0.794926</td>\n",
       "      <td>0.970696</td>\n",
       "      <td>0.707149</td>\n",
       "    </tr>\n",
       "    <tr>\n",
       "      <th>LR_IDF</th>\n",
       "      <td>0.854368</td>\n",
       "      <td>0.780655</td>\n",
       "      <td>0.787936</td>\n",
       "      <td>0.663886</td>\n",
       "    </tr>\n",
       "  </tbody>\n",
       "</table>\n",
       "</div>"
      ],
      "text/plain": [
       "               Train Accuracy  Val Accuracy  Train F1 Score  Val F1 Score\n",
       "Simple Models                                                            \n",
       "LR_BOW               0.977534      0.794926        0.970696      0.707149\n",
       "LR_IDF               0.854368      0.780655        0.787936      0.663886"
      ]
     },
     "execution_count": 26,
     "metadata": {},
     "output_type": "execute_result"
    }
   ],
   "source": [
    "# Define model results dictionary\n",
    "\n",
    "model_results = {\n",
    "    'Simple Models': [\n",
    "        'LR_BOW', 'LR_IDF', \n",
    "    ],\n",
    "    'Train Accuracy': [\n",
    "        lr_bow_train_accuracy, lr_idf_train_accuracy\n",
    "    ],\n",
    "    'Val Accuracy': [\n",
    "        lr_bow_val_accuracy, lr_idf_val_accuracy,\n",
    "    ],\n",
    "    'Train F1 Score': [\n",
    "        lr_bow_train_f1_macro, lr_idf_train_f1_macro, \n",
    "    ],\n",
    "    'Val F1 Score': [\n",
    "        lr_bow_val_f1_macro, lr_idf_val_f1_macro\n",
    "    ]\n",
    "}\n",
    "\n",
    "# Create DataFrame with the results\n",
    "results_models = pd.DataFrame(model_results)\n",
    "\n",
    "# Set 'Simple Models' column as the index\n",
    "results_models.set_index('Simple Models', inplace=True)\n",
    "\n",
    "results_models"
   ]
  },
  {
   "cell_type": "code",
   "execution_count": null,
   "id": "2878b493",
   "metadata": {},
   "outputs": [
    {
     "data": {
      "image/png": "[encoded data removed]",
      "text/plain": [
       "<Figure size 1000x600 with 1 Axes>"
      ]
     },
     "metadata": {},
     "output_type": "display_data"
    }
   ],
   "source": [
    "model_names = results_models.index\n",
    "\n",
    "train_accuracy = results_models['Train Accuracy']\n",
    "val_accuracy = results_models['Val Accuracy']\n",
    "train_f1 = results_models['Train F1 Score']\n",
    "val_f1 = results_models['Val F1 Score']\n",
    "\n",
    "bar_width = 0.3\n",
    "index = np.arange(len(model_names))\n",
    "\n",
    "fig, ax = plt.subplots(figsize=(10, 6))\n",
    "\n",
    "bar_tra = ax.bar(index - bar_width / 2, train_accuracy, bar_width, label='Train Accuracy', color='#1F77B4' )\n",
    "bar_ta = ax.bar(index - bar_width / 2, val_accuracy, bar_width, label='Val Accuracy', color='#AEC7E8')\n",
    "\n",
    "bar_trf = ax.bar(index + bar_width / 2, train_f1, bar_width, label='Train F1 Score', alpha=0.7, color= '#2CA02C' )\n",
    "bar_tf = ax.bar(index + bar_width / 2, val_f1, bar_width, label='Val F1 Score', alpha=0.7, color='#98DF8A')\n",
    "\n",
    "ax.set_ylabel('Scores', fontsize=12)\n",
    "ax.set_title('Comparison of Model Performance (Accuracy & F1 Score)', fontsize=14)\n",
    "\n",
    "ax.set_xticks(index)\n",
    "ax.set_xticklabels(model_names)\n",
    "\n",
    "ax.legend()\n",
    "\n",
    "plt.tight_layout()\n",
    "plt.show()\n"
   ]
  },
  {
   "cell_type": "markdown",
   "id": "5703320f",
   "metadata": {},
   "source": [
    "The best model is... so we will do the val set with those predictions"
   ]
  },
  {
   "cell_type": "code",
   "execution_count": null,
   "id": "86b34b3b",
   "metadata": {},
   "outputs": [],
   "source": [
    "#y_pred_val =lr.predict(X_val_tfidf)\n",
    "\n",
    "\n",
    "# ids = pd.DataFrame(df_val.index) \n",
    "# predict_df = pd.DataFrame(y_pred_val, columns=['label'])\n",
    "\n",
    "# final = pd.concat([ids, predict_df], axis=1)\n",
    "\n",
    "# final.reset_index(drop=True, inplace=True)\n",
    "# final.to_csv('df_val_prediction.csv', index=False)"
   ]
  }
 ],
 "metadata": {
  "kernelspec": {
   "display_name": "base",
   "language": "python",
   "name": "python3"
  },
  "language_info": {
   "codemirror_mode": {
    "name": "ipython",
    "version": 3
   },
   "file_extension": ".py",
   "mimetype": "text/x-python",
   "name": "python",
   "nbconvert_exporter": "python",
   "pygments_lexer": "ipython3",
   "version": "3.12.7"
  }
 },
 "nbformat": 4,
 "nbformat_minor": 5
}
