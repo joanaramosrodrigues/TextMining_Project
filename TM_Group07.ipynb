{
 "cells": [
  {
   "cell_type": "markdown",
   "id": "5f2fb29e",
   "metadata": {},
   "source": [
    "\n",
    "<div style=\"text-align: center;\">\n",
    "    <strong style=\"display: block; margin-bottom: 10px;\">Group 07</strong> \n",
    "    <table style=\"margin: 0 auto; border-collapse: collapse; border: 1px solid black;\">\n",
    "        <tr>\n",
    "            <th style=\"border: 1px solid white; padding: 8px;\">Name</th>\n",
    "            <th style=\"border: 1px solid white; padding: 8px;\">Student ID</th>\n",
    "        </tr>\n",
    "        <tr>\n",
    "            <td style=\"border: 1px solid white; padding: 8px;\">Joana Rodrigues</td>\n",
    "            <td style=\"border: 1px solid white; padding: 8px;\">20240603</td>\n",
    "        </tr>\n",
    "        <tr>\n",
    "            <td style=\"border: 1px solid white; padding: 8px;\">Mara Simões</td>\n",
    "            <td style=\"border: 1px solid white; padding: 8px;\">20240326</td>\n",
    "        </tr>\n",
    "        <tr>\n",
    "            <td style=\"border: 1px solid white; padding: 8px;\">Matilde Street</td>\n",
    "            <td style=\"border: 1px solid white; padding: 8px;\">20240523</td>\n",
    "        </tr>\n",
    "        <tr>\n",
    "            <td style=\"border: 1px solid white; padding: 8px;\">Rafael Silva</td>\n",
    "            <td style=\"border: 1px solid white; padding: 8px;\">20240511</td>\n",
    "        </tr>\n",
    "    </table>\n",
    "</div>"
   ]
  },
  {
   "cell_type": "markdown",
   "id": "6d310e24",
   "metadata": {},
   "source": [
    "### 🔗 Table of Contents <a id='table-of-contents'></a>\n",
    "1. [Imports](#imports)\n",
    "---"
   ]
  },
  {
   "cell_type": "markdown",
   "id": "54c246f4",
   "metadata": {},
   "source": []
  }
 ],
 "metadata": {
  "language_info": {
   "name": "python"
  }
 },
 "nbformat": 4,
 "nbformat_minor": 5
}
